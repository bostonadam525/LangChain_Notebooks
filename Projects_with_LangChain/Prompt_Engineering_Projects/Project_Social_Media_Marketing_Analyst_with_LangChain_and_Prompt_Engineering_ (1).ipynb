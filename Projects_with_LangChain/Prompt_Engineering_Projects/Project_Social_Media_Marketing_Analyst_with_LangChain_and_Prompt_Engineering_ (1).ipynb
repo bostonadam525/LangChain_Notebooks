{
  "nbformat": 4,
  "nbformat_minor": 0,
  "metadata": {
    "colab": {
      "provenance": []
    },
    "kernelspec": {
      "name": "python3",
      "display_name": "Python 3"
    },
    "language_info": {
      "name": "python"
    }
  },
  "cells": [
    {
      "cell_type": "markdown",
      "source": [
        "# Social Media Marketing Analyst with LangChain and Prompt Engineering\n",
        "* Notebook by Adam Lang\n",
        "* Date: 6/27/2024\n",
        "\n",
        "# Overview\n",
        "* This is another mini project using GPT models and LangChain to build a Social Media Marketing Analyst with Prompt Engineering.\n",
        "* Specifically, this uses **Iterative Prompt Engineering** to create social media marketing ads for a smartphone product."
      ],
      "metadata": {
        "id": "ZP1Lch7O5zIe"
      }
    },
    {
      "cell_type": "markdown",
      "source": [
        "## Install dependencies"
      ],
      "metadata": {
        "id": "lH60tkwOBgYN"
      }
    },
    {
      "cell_type": "code",
      "execution_count": 1,
      "metadata": {
        "colab": {
          "base_uri": "https://localhost:8080/"
        },
        "id": "P9Tc5aua5oyq",
        "outputId": "4aac72d3-2b58-42f0-b5fa-c7710b3b8096"
      },
      "outputs": [
        {
          "output_type": "stream",
          "name": "stdout",
          "text": [
            "Collecting langchain==0.1.19\n",
            "  Downloading langchain-0.1.19-py3-none-any.whl (1.0 MB)\n",
            "\u001b[2K     \u001b[90m━━━━━━━━━━━━━━━━━━━━━━━━━━━━━━━━━━━━━━━━\u001b[0m \u001b[32m1.0/1.0 MB\u001b[0m \u001b[31m9.5 MB/s\u001b[0m eta \u001b[36m0:00:00\u001b[0m\n",
            "\u001b[?25hRequirement already satisfied: PyYAML>=5.3 in /usr/local/lib/python3.10/dist-packages (from langchain==0.1.19) (6.0.1)\n",
            "Requirement already satisfied: SQLAlchemy<3,>=1.4 in /usr/local/lib/python3.10/dist-packages (from langchain==0.1.19) (2.0.31)\n",
            "Requirement already satisfied: aiohttp<4.0.0,>=3.8.3 in /usr/local/lib/python3.10/dist-packages (from langchain==0.1.19) (3.9.5)\n",
            "Requirement already satisfied: async-timeout<5.0.0,>=4.0.0 in /usr/local/lib/python3.10/dist-packages (from langchain==0.1.19) (4.0.3)\n",
            "Collecting dataclasses-json<0.7,>=0.5.7 (from langchain==0.1.19)\n",
            "  Downloading dataclasses_json-0.6.7-py3-none-any.whl (28 kB)\n",
            "Collecting langchain-community<0.1,>=0.0.38 (from langchain==0.1.19)\n",
            "  Downloading langchain_community-0.0.38-py3-none-any.whl (2.0 MB)\n",
            "\u001b[2K     \u001b[90m━━━━━━━━━━━━━━━━━━━━━━━━━━━━━━━━━━━━━━━━\u001b[0m \u001b[32m2.0/2.0 MB\u001b[0m \u001b[31m19.7 MB/s\u001b[0m eta \u001b[36m0:00:00\u001b[0m\n",
            "\u001b[?25hCollecting langchain-core<0.2.0,>=0.1.52 (from langchain==0.1.19)\n",
            "  Downloading langchain_core-0.1.52-py3-none-any.whl (302 kB)\n",
            "\u001b[2K     \u001b[90m━━━━━━━━━━━━━━━━━━━━━━━━━━━━━━━━━━━━━━━━\u001b[0m \u001b[32m302.9/302.9 kB\u001b[0m \u001b[31m21.9 MB/s\u001b[0m eta \u001b[36m0:00:00\u001b[0m\n",
            "\u001b[?25hCollecting langchain-text-splitters<0.1,>=0.0.1 (from langchain==0.1.19)\n",
            "  Downloading langchain_text_splitters-0.0.2-py3-none-any.whl (23 kB)\n",
            "Collecting langsmith<0.2.0,>=0.1.17 (from langchain==0.1.19)\n",
            "  Downloading langsmith-0.1.82-py3-none-any.whl (127 kB)\n",
            "\u001b[2K     \u001b[90m━━━━━━━━━━━━━━━━━━━━━━━━━━━━━━━━━━━━━━━━\u001b[0m \u001b[32m127.4/127.4 kB\u001b[0m \u001b[31m10.2 MB/s\u001b[0m eta \u001b[36m0:00:00\u001b[0m\n",
            "\u001b[?25hRequirement already satisfied: numpy<2,>=1 in /usr/local/lib/python3.10/dist-packages (from langchain==0.1.19) (1.25.2)\n",
            "Requirement already satisfied: pydantic<3,>=1 in /usr/local/lib/python3.10/dist-packages (from langchain==0.1.19) (2.7.4)\n",
            "Requirement already satisfied: requests<3,>=2 in /usr/local/lib/python3.10/dist-packages (from langchain==0.1.19) (2.31.0)\n",
            "Requirement already satisfied: tenacity<9.0.0,>=8.1.0 in /usr/local/lib/python3.10/dist-packages (from langchain==0.1.19) (8.4.1)\n",
            "Requirement already satisfied: aiosignal>=1.1.2 in /usr/local/lib/python3.10/dist-packages (from aiohttp<4.0.0,>=3.8.3->langchain==0.1.19) (1.3.1)\n",
            "Requirement already satisfied: attrs>=17.3.0 in /usr/local/lib/python3.10/dist-packages (from aiohttp<4.0.0,>=3.8.3->langchain==0.1.19) (23.2.0)\n",
            "Requirement already satisfied: frozenlist>=1.1.1 in /usr/local/lib/python3.10/dist-packages (from aiohttp<4.0.0,>=3.8.3->langchain==0.1.19) (1.4.1)\n",
            "Requirement already satisfied: multidict<7.0,>=4.5 in /usr/local/lib/python3.10/dist-packages (from aiohttp<4.0.0,>=3.8.3->langchain==0.1.19) (6.0.5)\n",
            "Requirement already satisfied: yarl<2.0,>=1.0 in /usr/local/lib/python3.10/dist-packages (from aiohttp<4.0.0,>=3.8.3->langchain==0.1.19) (1.9.4)\n",
            "Collecting marshmallow<4.0.0,>=3.18.0 (from dataclasses-json<0.7,>=0.5.7->langchain==0.1.19)\n",
            "  Downloading marshmallow-3.21.3-py3-none-any.whl (49 kB)\n",
            "\u001b[2K     \u001b[90m━━━━━━━━━━━━━━━━━━━━━━━━━━━━━━━━━━━━━━━━\u001b[0m \u001b[32m49.2/49.2 kB\u001b[0m \u001b[31m3.5 MB/s\u001b[0m eta \u001b[36m0:00:00\u001b[0m\n",
            "\u001b[?25hCollecting typing-inspect<1,>=0.4.0 (from dataclasses-json<0.7,>=0.5.7->langchain==0.1.19)\n",
            "  Downloading typing_inspect-0.9.0-py3-none-any.whl (8.8 kB)\n",
            "Collecting jsonpatch<2.0,>=1.33 (from langchain-core<0.2.0,>=0.1.52->langchain==0.1.19)\n",
            "  Downloading jsonpatch-1.33-py2.py3-none-any.whl (12 kB)\n",
            "Collecting packaging<24.0,>=23.2 (from langchain-core<0.2.0,>=0.1.52->langchain==0.1.19)\n",
            "  Downloading packaging-23.2-py3-none-any.whl (53 kB)\n",
            "\u001b[2K     \u001b[90m━━━━━━━━━━━━━━━━━━━━━━━━━━━━━━━━━━━━━━━━\u001b[0m \u001b[32m53.0/53.0 kB\u001b[0m \u001b[31m4.2 MB/s\u001b[0m eta \u001b[36m0:00:00\u001b[0m\n",
            "\u001b[?25hCollecting orjson<4.0.0,>=3.9.14 (from langsmith<0.2.0,>=0.1.17->langchain==0.1.19)\n",
            "  Downloading orjson-3.10.5-cp310-cp310-manylinux_2_17_x86_64.manylinux2014_x86_64.whl (144 kB)\n",
            "\u001b[2K     \u001b[90m━━━━━━━━━━━━━━━━━━━━━━━━━━━━━━━━━━━━━━━━\u001b[0m \u001b[32m145.0/145.0 kB\u001b[0m \u001b[31m4.8 MB/s\u001b[0m eta \u001b[36m0:00:00\u001b[0m\n",
            "\u001b[?25hRequirement already satisfied: annotated-types>=0.4.0 in /usr/local/lib/python3.10/dist-packages (from pydantic<3,>=1->langchain==0.1.19) (0.7.0)\n",
            "Requirement already satisfied: pydantic-core==2.18.4 in /usr/local/lib/python3.10/dist-packages (from pydantic<3,>=1->langchain==0.1.19) (2.18.4)\n",
            "Requirement already satisfied: typing-extensions>=4.6.1 in /usr/local/lib/python3.10/dist-packages (from pydantic<3,>=1->langchain==0.1.19) (4.12.2)\n",
            "Requirement already satisfied: charset-normalizer<4,>=2 in /usr/local/lib/python3.10/dist-packages (from requests<3,>=2->langchain==0.1.19) (3.3.2)\n",
            "Requirement already satisfied: idna<4,>=2.5 in /usr/local/lib/python3.10/dist-packages (from requests<3,>=2->langchain==0.1.19) (3.7)\n",
            "Requirement already satisfied: urllib3<3,>=1.21.1 in /usr/local/lib/python3.10/dist-packages (from requests<3,>=2->langchain==0.1.19) (2.0.7)\n",
            "Requirement already satisfied: certifi>=2017.4.17 in /usr/local/lib/python3.10/dist-packages (from requests<3,>=2->langchain==0.1.19) (2024.6.2)\n",
            "Requirement already satisfied: greenlet!=0.4.17 in /usr/local/lib/python3.10/dist-packages (from SQLAlchemy<3,>=1.4->langchain==0.1.19) (3.0.3)\n",
            "Collecting jsonpointer>=1.9 (from jsonpatch<2.0,>=1.33->langchain-core<0.2.0,>=0.1.52->langchain==0.1.19)\n",
            "  Downloading jsonpointer-3.0.0-py2.py3-none-any.whl (7.6 kB)\n",
            "Collecting mypy-extensions>=0.3.0 (from typing-inspect<1,>=0.4.0->dataclasses-json<0.7,>=0.5.7->langchain==0.1.19)\n",
            "  Downloading mypy_extensions-1.0.0-py3-none-any.whl (4.7 kB)\n",
            "Installing collected packages: packaging, orjson, mypy-extensions, jsonpointer, typing-inspect, marshmallow, jsonpatch, langsmith, dataclasses-json, langchain-core, langchain-text-splitters, langchain-community, langchain\n",
            "  Attempting uninstall: packaging\n",
            "    Found existing installation: packaging 24.1\n",
            "    Uninstalling packaging-24.1:\n",
            "      Successfully uninstalled packaging-24.1\n",
            "Successfully installed dataclasses-json-0.6.7 jsonpatch-1.33 jsonpointer-3.0.0 langchain-0.1.19 langchain-community-0.0.38 langchain-core-0.1.52 langchain-text-splitters-0.0.2 langsmith-0.1.82 marshmallow-3.21.3 mypy-extensions-1.0.0 orjson-3.10.5 packaging-23.2 typing-inspect-0.9.0\n",
            "Collecting langchain-openai==0.1.6\n",
            "  Downloading langchain_openai-0.1.6-py3-none-any.whl (34 kB)\n",
            "Requirement already satisfied: langchain-core<0.2.0,>=0.1.46 in /usr/local/lib/python3.10/dist-packages (from langchain-openai==0.1.6) (0.1.52)\n",
            "Collecting openai<2.0.0,>=1.24.0 (from langchain-openai==0.1.6)\n",
            "  Downloading openai-1.35.6-py3-none-any.whl (327 kB)\n",
            "\u001b[2K     \u001b[90m━━━━━━━━━━━━━━━━━━━━━━━━━━━━━━━━━━━━━━━━\u001b[0m \u001b[32m327.5/327.5 kB\u001b[0m \u001b[31m10.0 MB/s\u001b[0m eta \u001b[36m0:00:00\u001b[0m\n",
            "\u001b[?25hCollecting tiktoken<1,>=0.5.2 (from langchain-openai==0.1.6)\n",
            "  Downloading tiktoken-0.7.0-cp310-cp310-manylinux_2_17_x86_64.manylinux2014_x86_64.whl (1.1 MB)\n",
            "\u001b[2K     \u001b[90m━━━━━━━━━━━━━━━━━━━━━━━━━━━━━━━━━━━━━━━━\u001b[0m \u001b[32m1.1/1.1 MB\u001b[0m \u001b[31m19.0 MB/s\u001b[0m eta \u001b[36m0:00:00\u001b[0m\n",
            "\u001b[?25hRequirement already satisfied: PyYAML>=5.3 in /usr/local/lib/python3.10/dist-packages (from langchain-core<0.2.0,>=0.1.46->langchain-openai==0.1.6) (6.0.1)\n",
            "Requirement already satisfied: jsonpatch<2.0,>=1.33 in /usr/local/lib/python3.10/dist-packages (from langchain-core<0.2.0,>=0.1.46->langchain-openai==0.1.6) (1.33)\n",
            "Requirement already satisfied: langsmith<0.2.0,>=0.1.0 in /usr/local/lib/python3.10/dist-packages (from langchain-core<0.2.0,>=0.1.46->langchain-openai==0.1.6) (0.1.82)\n",
            "Requirement already satisfied: packaging<24.0,>=23.2 in /usr/local/lib/python3.10/dist-packages (from langchain-core<0.2.0,>=0.1.46->langchain-openai==0.1.6) (23.2)\n",
            "Requirement already satisfied: pydantic<3,>=1 in /usr/local/lib/python3.10/dist-packages (from langchain-core<0.2.0,>=0.1.46->langchain-openai==0.1.6) (2.7.4)\n",
            "Requirement already satisfied: tenacity<9.0.0,>=8.1.0 in /usr/local/lib/python3.10/dist-packages (from langchain-core<0.2.0,>=0.1.46->langchain-openai==0.1.6) (8.4.1)\n",
            "Requirement already satisfied: anyio<5,>=3.5.0 in /usr/local/lib/python3.10/dist-packages (from openai<2.0.0,>=1.24.0->langchain-openai==0.1.6) (3.7.1)\n",
            "Requirement already satisfied: distro<2,>=1.7.0 in /usr/lib/python3/dist-packages (from openai<2.0.0,>=1.24.0->langchain-openai==0.1.6) (1.7.0)\n",
            "Collecting httpx<1,>=0.23.0 (from openai<2.0.0,>=1.24.0->langchain-openai==0.1.6)\n",
            "  Downloading httpx-0.27.0-py3-none-any.whl (75 kB)\n",
            "\u001b[2K     \u001b[90m━━━━━━━━━━━━━━━━━━━━━━━━━━━━━━━━━━━━━━━━\u001b[0m \u001b[32m75.6/75.6 kB\u001b[0m \u001b[31m7.8 MB/s\u001b[0m eta \u001b[36m0:00:00\u001b[0m\n",
            "\u001b[?25hRequirement already satisfied: sniffio in /usr/local/lib/python3.10/dist-packages (from openai<2.0.0,>=1.24.0->langchain-openai==0.1.6) (1.3.1)\n",
            "Requirement already satisfied: tqdm>4 in /usr/local/lib/python3.10/dist-packages (from openai<2.0.0,>=1.24.0->langchain-openai==0.1.6) (4.66.4)\n",
            "Requirement already satisfied: typing-extensions<5,>=4.7 in /usr/local/lib/python3.10/dist-packages (from openai<2.0.0,>=1.24.0->langchain-openai==0.1.6) (4.12.2)\n",
            "Requirement already satisfied: regex>=2022.1.18 in /usr/local/lib/python3.10/dist-packages (from tiktoken<1,>=0.5.2->langchain-openai==0.1.6) (2024.5.15)\n",
            "Requirement already satisfied: requests>=2.26.0 in /usr/local/lib/python3.10/dist-packages (from tiktoken<1,>=0.5.2->langchain-openai==0.1.6) (2.31.0)\n",
            "Requirement already satisfied: idna>=2.8 in /usr/local/lib/python3.10/dist-packages (from anyio<5,>=3.5.0->openai<2.0.0,>=1.24.0->langchain-openai==0.1.6) (3.7)\n",
            "Requirement already satisfied: exceptiongroup in /usr/local/lib/python3.10/dist-packages (from anyio<5,>=3.5.0->openai<2.0.0,>=1.24.0->langchain-openai==0.1.6) (1.2.1)\n",
            "Requirement already satisfied: certifi in /usr/local/lib/python3.10/dist-packages (from httpx<1,>=0.23.0->openai<2.0.0,>=1.24.0->langchain-openai==0.1.6) (2024.6.2)\n",
            "Collecting httpcore==1.* (from httpx<1,>=0.23.0->openai<2.0.0,>=1.24.0->langchain-openai==0.1.6)\n",
            "  Downloading httpcore-1.0.5-py3-none-any.whl (77 kB)\n",
            "\u001b[2K     \u001b[90m━━━━━━━━━━━━━━━━━━━━━━━━━━━━━━━━━━━━━━━━\u001b[0m \u001b[32m77.9/77.9 kB\u001b[0m \u001b[31m8.4 MB/s\u001b[0m eta \u001b[36m0:00:00\u001b[0m\n",
            "\u001b[?25hCollecting h11<0.15,>=0.13 (from httpcore==1.*->httpx<1,>=0.23.0->openai<2.0.0,>=1.24.0->langchain-openai==0.1.6)\n",
            "  Downloading h11-0.14.0-py3-none-any.whl (58 kB)\n",
            "\u001b[2K     \u001b[90m━━━━━━━━━━━━━━━━━━━━━━━━━━━━━━━━━━━━━━━━\u001b[0m \u001b[32m58.3/58.3 kB\u001b[0m \u001b[31m8.0 MB/s\u001b[0m eta \u001b[36m0:00:00\u001b[0m\n",
            "\u001b[?25hRequirement already satisfied: jsonpointer>=1.9 in /usr/local/lib/python3.10/dist-packages (from jsonpatch<2.0,>=1.33->langchain-core<0.2.0,>=0.1.46->langchain-openai==0.1.6) (3.0.0)\n",
            "Requirement already satisfied: orjson<4.0.0,>=3.9.14 in /usr/local/lib/python3.10/dist-packages (from langsmith<0.2.0,>=0.1.0->langchain-core<0.2.0,>=0.1.46->langchain-openai==0.1.6) (3.10.5)\n",
            "Requirement already satisfied: annotated-types>=0.4.0 in /usr/local/lib/python3.10/dist-packages (from pydantic<3,>=1->langchain-core<0.2.0,>=0.1.46->langchain-openai==0.1.6) (0.7.0)\n",
            "Requirement already satisfied: pydantic-core==2.18.4 in /usr/local/lib/python3.10/dist-packages (from pydantic<3,>=1->langchain-core<0.2.0,>=0.1.46->langchain-openai==0.1.6) (2.18.4)\n",
            "Requirement already satisfied: charset-normalizer<4,>=2 in /usr/local/lib/python3.10/dist-packages (from requests>=2.26.0->tiktoken<1,>=0.5.2->langchain-openai==0.1.6) (3.3.2)\n",
            "Requirement already satisfied: urllib3<3,>=1.21.1 in /usr/local/lib/python3.10/dist-packages (from requests>=2.26.0->tiktoken<1,>=0.5.2->langchain-openai==0.1.6) (2.0.7)\n",
            "Installing collected packages: h11, tiktoken, httpcore, httpx, openai, langchain-openai\n",
            "Successfully installed h11-0.14.0 httpcore-1.0.5 httpx-0.27.0 langchain-openai-0.1.6 openai-1.35.6 tiktoken-0.7.0\n",
            "Requirement already satisfied: langchain-community==0.0.38 in /usr/local/lib/python3.10/dist-packages (0.0.38)\n",
            "Requirement already satisfied: PyYAML>=5.3 in /usr/local/lib/python3.10/dist-packages (from langchain-community==0.0.38) (6.0.1)\n",
            "Requirement already satisfied: SQLAlchemy<3,>=1.4 in /usr/local/lib/python3.10/dist-packages (from langchain-community==0.0.38) (2.0.31)\n",
            "Requirement already satisfied: aiohttp<4.0.0,>=3.8.3 in /usr/local/lib/python3.10/dist-packages (from langchain-community==0.0.38) (3.9.5)\n",
            "Requirement already satisfied: dataclasses-json<0.7,>=0.5.7 in /usr/local/lib/python3.10/dist-packages (from langchain-community==0.0.38) (0.6.7)\n",
            "Requirement already satisfied: langchain-core<0.2.0,>=0.1.52 in /usr/local/lib/python3.10/dist-packages (from langchain-community==0.0.38) (0.1.52)\n",
            "Requirement already satisfied: langsmith<0.2.0,>=0.1.0 in /usr/local/lib/python3.10/dist-packages (from langchain-community==0.0.38) (0.1.82)\n",
            "Requirement already satisfied: numpy<2,>=1 in /usr/local/lib/python3.10/dist-packages (from langchain-community==0.0.38) (1.25.2)\n",
            "Requirement already satisfied: requests<3,>=2 in /usr/local/lib/python3.10/dist-packages (from langchain-community==0.0.38) (2.31.0)\n",
            "Requirement already satisfied: tenacity<9.0.0,>=8.1.0 in /usr/local/lib/python3.10/dist-packages (from langchain-community==0.0.38) (8.4.1)\n",
            "Requirement already satisfied: aiosignal>=1.1.2 in /usr/local/lib/python3.10/dist-packages (from aiohttp<4.0.0,>=3.8.3->langchain-community==0.0.38) (1.3.1)\n",
            "Requirement already satisfied: attrs>=17.3.0 in /usr/local/lib/python3.10/dist-packages (from aiohttp<4.0.0,>=3.8.3->langchain-community==0.0.38) (23.2.0)\n",
            "Requirement already satisfied: frozenlist>=1.1.1 in /usr/local/lib/python3.10/dist-packages (from aiohttp<4.0.0,>=3.8.3->langchain-community==0.0.38) (1.4.1)\n",
            "Requirement already satisfied: multidict<7.0,>=4.5 in /usr/local/lib/python3.10/dist-packages (from aiohttp<4.0.0,>=3.8.3->langchain-community==0.0.38) (6.0.5)\n",
            "Requirement already satisfied: yarl<2.0,>=1.0 in /usr/local/lib/python3.10/dist-packages (from aiohttp<4.0.0,>=3.8.3->langchain-community==0.0.38) (1.9.4)\n",
            "Requirement already satisfied: async-timeout<5.0,>=4.0 in /usr/local/lib/python3.10/dist-packages (from aiohttp<4.0.0,>=3.8.3->langchain-community==0.0.38) (4.0.3)\n",
            "Requirement already satisfied: marshmallow<4.0.0,>=3.18.0 in /usr/local/lib/python3.10/dist-packages (from dataclasses-json<0.7,>=0.5.7->langchain-community==0.0.38) (3.21.3)\n",
            "Requirement already satisfied: typing-inspect<1,>=0.4.0 in /usr/local/lib/python3.10/dist-packages (from dataclasses-json<0.7,>=0.5.7->langchain-community==0.0.38) (0.9.0)\n",
            "Requirement already satisfied: jsonpatch<2.0,>=1.33 in /usr/local/lib/python3.10/dist-packages (from langchain-core<0.2.0,>=0.1.52->langchain-community==0.0.38) (1.33)\n",
            "Requirement already satisfied: packaging<24.0,>=23.2 in /usr/local/lib/python3.10/dist-packages (from langchain-core<0.2.0,>=0.1.52->langchain-community==0.0.38) (23.2)\n",
            "Requirement already satisfied: pydantic<3,>=1 in /usr/local/lib/python3.10/dist-packages (from langchain-core<0.2.0,>=0.1.52->langchain-community==0.0.38) (2.7.4)\n",
            "Requirement already satisfied: orjson<4.0.0,>=3.9.14 in /usr/local/lib/python3.10/dist-packages (from langsmith<0.2.0,>=0.1.0->langchain-community==0.0.38) (3.10.5)\n",
            "Requirement already satisfied: charset-normalizer<4,>=2 in /usr/local/lib/python3.10/dist-packages (from requests<3,>=2->langchain-community==0.0.38) (3.3.2)\n",
            "Requirement already satisfied: idna<4,>=2.5 in /usr/local/lib/python3.10/dist-packages (from requests<3,>=2->langchain-community==0.0.38) (3.7)\n",
            "Requirement already satisfied: urllib3<3,>=1.21.1 in /usr/local/lib/python3.10/dist-packages (from requests<3,>=2->langchain-community==0.0.38) (2.0.7)\n",
            "Requirement already satisfied: certifi>=2017.4.17 in /usr/local/lib/python3.10/dist-packages (from requests<3,>=2->langchain-community==0.0.38) (2024.6.2)\n",
            "Requirement already satisfied: typing-extensions>=4.6.0 in /usr/local/lib/python3.10/dist-packages (from SQLAlchemy<3,>=1.4->langchain-community==0.0.38) (4.12.2)\n",
            "Requirement already satisfied: greenlet!=0.4.17 in /usr/local/lib/python3.10/dist-packages (from SQLAlchemy<3,>=1.4->langchain-community==0.0.38) (3.0.3)\n",
            "Requirement already satisfied: jsonpointer>=1.9 in /usr/local/lib/python3.10/dist-packages (from jsonpatch<2.0,>=1.33->langchain-core<0.2.0,>=0.1.52->langchain-community==0.0.38) (3.0.0)\n",
            "Requirement already satisfied: annotated-types>=0.4.0 in /usr/local/lib/python3.10/dist-packages (from pydantic<3,>=1->langchain-core<0.2.0,>=0.1.52->langchain-community==0.0.38) (0.7.0)\n",
            "Requirement already satisfied: pydantic-core==2.18.4 in /usr/local/lib/python3.10/dist-packages (from pydantic<3,>=1->langchain-core<0.2.0,>=0.1.52->langchain-community==0.0.38) (2.18.4)\n",
            "Requirement already satisfied: mypy-extensions>=0.3.0 in /usr/local/lib/python3.10/dist-packages (from typing-inspect<1,>=0.4.0->dataclasses-json<0.7,>=0.5.7->langchain-community==0.0.38) (1.0.0)\n"
          ]
        }
      ],
      "source": [
        "# imports\n",
        "!pip install langchain==0.1.19\n",
        "!pip install langchain-openai==0.1.6\n",
        "!pip install langchain-community==0.0.38"
      ]
    },
    {
      "cell_type": "markdown",
      "source": [
        "## API Tokens\n",
        "* Open AI access"
      ],
      "metadata": {
        "id": "htCV38uPBoC_"
      }
    },
    {
      "cell_type": "code",
      "source": [
        "## enter api key\n",
        "from getpass import getpass\n",
        "\n",
        "OPENAI_KEY = getpass('Enter your Open AI key: ')"
      ],
      "metadata": {
        "colab": {
          "base_uri": "https://localhost:8080/"
        },
        "id": "coN3dQZnBidg",
        "outputId": "2be1ad17-a256-4cdc-8d4c-4372fddf331e"
      },
      "execution_count": 2,
      "outputs": [
        {
          "name": "stdout",
          "output_type": "stream",
          "text": [
            "Enter your Open AI key: ··········\n"
          ]
        }
      ]
    },
    {
      "cell_type": "code",
      "source": [
        "## openai environment variables\n",
        "import os\n",
        "\n",
        "\n",
        "os.environ['OPENAI_API_KEY'] = OPENAI_KEY"
      ],
      "metadata": {
        "id": "jM-0Y_X4Bwcl"
      },
      "execution_count": 3,
      "outputs": []
    },
    {
      "cell_type": "markdown",
      "source": [
        "## LLM Dependencies"
      ],
      "metadata": {
        "id": "4XfpdXc6B7Zh"
      }
    },
    {
      "cell_type": "code",
      "source": [
        "## imports\n",
        "from langchain_core.prompts import ChatPromptTemplate # prompt templates from langchain\n",
        "from langchain_openai import ChatOpenAI"
      ],
      "metadata": {
        "id": "Glb4jpaFB6be"
      },
      "execution_count": 4,
      "outputs": []
    },
    {
      "cell_type": "code",
      "source": [
        "# instantiate chatgpt\n",
        "chatgpt = ChatOpenAI(model_name='gpt-3.5-turbo', temperature=0)"
      ],
      "metadata": {
        "id": "tTTF_-qfCBZr"
      },
      "execution_count": 5,
      "outputs": []
    },
    {
      "cell_type": "markdown",
      "source": [
        "# Project: Social Media Marketing Analyst\n",
        "* Scenario: You are given the technical fact sheet of a smartphone. Using iterative prompting do the following:\n",
        "\n",
        "1. Generate marketing product description for the smartphone\n",
        "\n",
        "2. Create a more advanced prompt for a custom product description which has the following elements:\n"
      ],
      "metadata": {
        "id": "E6z2o922CLC9"
      }
    },
    {
      "cell_type": "markdown",
      "source": [
        "```\n",
        "The description should follow this format:\n",
        "\n",
        "Product Name: <Name of the smartphone>\n",
        "​\n",
        "Description: <Brief Overview of the features>\n",
        "​\n",
        "Product Specifications:\n",
        "<Table with key product feature specifications>\n",
        "​\n",
        "The description should focus on the most important features\n",
        "a customer might look for in a phone including the foldable display screen, processing power, RAM, camera and battery life.\n",
        "​\n",
        "After the description, the table should have the\n",
        "key specifications of the product. It should have two columns.\n",
        "The first column should have 'Feature'\n",
        "and the second column should have 'Specification'\n",
        "and try to put exact numeric values for features if they exist.\n",
        "Only put these features in the table - foldable display screen, processing power, RAM, camera and battery life\n",
        "```"
      ],
      "metadata": {
        "id": "rpBxbhJWDFyB"
      }
    },
    {
      "cell_type": "markdown",
      "source": [
        "3. Custom product description focusing on specific aspects like display, camera and in less than 60 words"
      ],
      "metadata": {
        "id": "HIghiAvuDUFI"
      }
    },
    {
      "cell_type": "markdown",
      "source": [
        "## Data from smartphone product factsheet\n",
        "* Note: This is taken from the actual Samsung Product Website."
      ],
      "metadata": {
        "id": "xSC_MUCLEUQy"
      }
    },
    {
      "cell_type": "code",
      "source": [
        "fact_sheet_mobile = \"\"\"\n",
        "PRODUCT NAME\n",
        "Samsung Galaxy Z Fold4 5G Black\n",
        "​\n",
        "PRODUCT OVERVIEW\n",
        "Stands out. Stands up. Unfolds.\n",
        "The Galaxy Z Fold4 does a lot in one hand with its 15.73 cm(6.2-inch) Cover Screen.\n",
        "Unfolded, the 19.21 cm(7.6-inch) Main Screen lets you really get into the zone.\n",
        "Pushed-back bezels and the Under Display Camera means there's more screen\n",
        "and no black dot getting between you and the breathtaking Infinity Flex Display.\n",
        "Do more than more with Multi View. Whether toggling between texts or catching up\n",
        "on emails, take full advantage of the expansive Main Screen with Multi View.\n",
        "PC-like power thanks to Qualcomm Snapdragon 8+ Gen 1 processor in your pocket,\n",
        "transforms apps optimized with One UI to give you menus and more in a glance\n",
        "New Taskbar for PC-like multitasking. Wipe out tasks in fewer taps. Add\n",
        "apps to the Taskbar for quick navigation and bouncing between windows when\n",
        "you're in the groove.4 And with App Pair, one tap launches up to three apps,\n",
        "all sharing one super-productive screen\n",
        "Our toughest Samsung Galaxy foldables ever. From the inside out,\n",
        "Galaxy Z Fold4 is made with materials that are not only stunning,\n",
        "but stand up to life's bumps and fumbles. The front and rear panels,\n",
        "made with exclusive Corning Gorilla Glass Victus+, are ready to resist\n",
        "sneaky scrapes and scratches. With our toughest aluminum frame made with\n",
        "Armor Aluminum, this is one durable smartphone.\n",
        "World’s first water resistant foldable smartphones. Be adventurous, rain\n",
        "or shine. You don't have to sweat the forecast when you've got one of the\n",
        "world's first water-resistant foldable smartphones.\n",
        "​\n",
        "PRODUCT SPECS\n",
        "OS - Android 12.0\n",
        "RAM - 12 GB\n",
        "Product Dimensions - 15.5 x 13 x 0.6 cm; 263 Grams\n",
        "Batteries - 2 Lithium Ion batteries required. (included)\n",
        "Item model number - SM-F936BZKDINU_5\n",
        "Wireless communication technologies - Cellular\n",
        "Connectivity technologies - Bluetooth, Wi-Fi, USB, NFC\n",
        "GPS - True\n",
        "Special features - Fast Charging Support, Dual SIM, Wireless Charging, Built-In GPS, Water Resistant\n",
        "Other display features - Wireless\n",
        "Device interface - primary - Touchscreen\n",
        "Resolution - 2176x1812\n",
        "Other camera features - Rear, Front\n",
        "Form factor - Foldable Screen\n",
        "Colour - Phantom Black\n",
        "Battery Power Rating - 4400\n",
        "Whats in the box - SIM Tray Ejector, USB Cable\n",
        "Manufacturer - Samsung India pvt Ltd\n",
        "Country of Origin - China\n",
        "Item Weight - 263 g\n",
        "\"\"\""
      ],
      "metadata": {
        "id": "vBj2sKe6CIxy"
      },
      "execution_count": 6,
      "outputs": []
    },
    {
      "cell_type": "markdown",
      "source": [
        "## Prompt Template for first advertisement"
      ],
      "metadata": {
        "id": "OA6XqGAFElxU"
      }
    },
    {
      "cell_type": "code",
      "source": [
        "## first prompt template\n",
        "prompt_txt = \"\"\"\n",
        "You are a very skilled marketing manager.\n",
        "Your task is to assist a social media marketing team\n",
        "in creating a description for a retail website advertisement\n",
        "for a mobile smart phone. The techinical fact sheet specifications\n",
        "will be given to you for this task.\n",
        "\n",
        "Write a brief product description that all audiences could understand in English.\n",
        "\n",
        "Technical Specifications:\n",
        "{fact_sheet_mobile}\n",
        "\n",
        "\n",
        "\"\"\"\n",
        "\n",
        "## chat template\n",
        "chat_template = ChatPromptTemplate.from_template(prompt_txt)"
      ],
      "metadata": {
        "id": "5sjJ2R33EkF7"
      },
      "execution_count": 8,
      "outputs": []
    },
    {
      "cell_type": "markdown",
      "source": [
        "## LCEL LLM Chain Creation"
      ],
      "metadata": {
        "id": "LOYzyWT4FpoE"
      }
    },
    {
      "cell_type": "code",
      "source": [
        "## LCEL chain\n",
        "chain = (chat_template\n",
        "             |\n",
        "         chatgpt)\n",
        "\n",
        "# response\n",
        "response = chain.invoke({'fact_sheet_mobile': fact_sheet_mobile})"
      ],
      "metadata": {
        "id": "I4zSk1CzFfaZ"
      },
      "execution_count": 10,
      "outputs": []
    },
    {
      "cell_type": "code",
      "source": [
        "## response\n",
        "response"
      ],
      "metadata": {
        "colab": {
          "base_uri": "https://localhost:8080/"
        },
        "id": "sCSUQjAuF4-H",
        "outputId": "4187fd99-f7b1-4272-c03f-fd8bd22df26d"
      },
      "execution_count": 11,
      "outputs": [
        {
          "output_type": "execute_result",
          "data": {
            "text/plain": [
              "AIMessage(content=\"Introducing the Samsung Galaxy Z Fold4 5G Black - the ultimate smartphone that stands out, stands up, and unfolds to reveal a world of possibilities. With a 6.2-inch Cover Screen and a 7.6-inch Main Screen, you can do more than ever before with Multi View, PC-like power, and a new Taskbar for seamless multitasking.\\n\\nFeaturing a Qualcomm Snapdragon 8+ Gen 1 processor, this phone is packed with power and performance. Plus, with our toughest materials yet, including Corning Gorilla Glass Victus+ and Armor Aluminum, the Galaxy Z Fold4 is built to withstand life's bumps and fumbles.\\n\\nBut that's not all - the Galaxy Z Fold4 is also the world's first water-resistant foldable smartphone, so you can be adventurous rain or shine. With Android 12.0, 12 GB of RAM, and a host of special features like Fast Charging Support, Dual SIM capability, and Wireless Charging, this phone has everything you need and more.\\n\\nGet ready to experience the future of smartphones with the Samsung Galaxy Z Fold4 5G Black. Order yours today and take your mobile experience to the next level.\", response_metadata={'token_usage': {'completion_tokens': 241, 'prompt_tokens': 648, 'total_tokens': 889}, 'model_name': 'gpt-3.5-turbo', 'system_fingerprint': None, 'finish_reason': 'stop', 'logprobs': None}, id='run-e32ec3e4-60a3-417d-bca8-2bff3d2a5536-0')"
            ]
          },
          "metadata": {},
          "execution_count": 11
        }
      ]
    },
    {
      "cell_type": "code",
      "source": [
        "## print response\n",
        "print(response.content)"
      ],
      "metadata": {
        "colab": {
          "base_uri": "https://localhost:8080/"
        },
        "id": "fcNMHnhgGGg7",
        "outputId": "03d54e0b-fcb2-4d66-d28e-cd0e3198cd8e"
      },
      "execution_count": 12,
      "outputs": [
        {
          "output_type": "stream",
          "name": "stdout",
          "text": [
            "Introducing the Samsung Galaxy Z Fold4 5G Black - the ultimate smartphone that stands out, stands up, and unfolds to reveal a world of possibilities. With a 6.2-inch Cover Screen and a 7.6-inch Main Screen, you can do more than ever before with Multi View, PC-like power, and a new Taskbar for seamless multitasking.\n",
            "\n",
            "Featuring a Qualcomm Snapdragon 8+ Gen 1 processor, this phone is packed with power and performance. Plus, with our toughest materials yet, including Corning Gorilla Glass Victus+ and Armor Aluminum, the Galaxy Z Fold4 is built to withstand life's bumps and fumbles.\n",
            "\n",
            "But that's not all - the Galaxy Z Fold4 is also the world's first water-resistant foldable smartphone, so you can be adventurous rain or shine. With Android 12.0, 12 GB of RAM, and a host of special features like Fast Charging Support, Dual SIM capability, and Wireless Charging, this phone has everything you need and more.\n",
            "\n",
            "Get ready to experience the future of smartphones with the Samsung Galaxy Z Fold4 5G Black. Order yours today and take your mobile experience to the next level.\n"
          ]
        }
      ]
    },
    {
      "cell_type": "code",
      "source": [
        "## convert to markdown\n",
        "from IPython.display import display, Markdown\n",
        "display(Markdown(response.content))"
      ],
      "metadata": {
        "colab": {
          "base_uri": "https://localhost:8080/",
          "height": 186
        },
        "id": "QNdQaHewGJZy",
        "outputId": "e191ddfc-b431-471e-aa10-91b85aaae24d"
      },
      "execution_count": 13,
      "outputs": [
        {
          "output_type": "display_data",
          "data": {
            "text/plain": [
              "<IPython.core.display.Markdown object>"
            ],
            "text/markdown": "Introducing the Samsung Galaxy Z Fold4 5G Black - the ultimate smartphone that stands out, stands up, and unfolds to reveal a world of possibilities. With a 6.2-inch Cover Screen and a 7.6-inch Main Screen, you can do more than ever before with Multi View, PC-like power, and a new Taskbar for seamless multitasking.\n\nFeaturing a Qualcomm Snapdragon 8+ Gen 1 processor, this phone is packed with power and performance. Plus, with our toughest materials yet, including Corning Gorilla Glass Victus+ and Armor Aluminum, the Galaxy Z Fold4 is built to withstand life's bumps and fumbles.\n\nBut that's not all - the Galaxy Z Fold4 is also the world's first water-resistant foldable smartphone, so you can be adventurous rain or shine. With Android 12.0, 12 GB of RAM, and a host of special features like Fast Charging Support, Dual SIM capability, and Wireless Charging, this phone has everything you need and more.\n\nGet ready to experience the future of smartphones with the Samsung Galaxy Z Fold4 5G Black. Order yours today and take your mobile experience to the next level."
          },
          "metadata": {}
        }
      ]
    },
    {
      "cell_type": "markdown",
      "source": [
        "## Prompt Template - More Specific/Advanced"
      ],
      "metadata": {
        "id": "lS-z-hJeGa3o"
      }
    },
    {
      "cell_type": "code",
      "source": [
        "## prompt template 2\n",
        "prompt_txt = \"\"\"\n",
        "You are a very skilled social media marketing manager.\n",
        "Your task is to assist a social media marketing team\n",
        "in creating an interesting description for a retail website\n",
        "for a mobile smartphone. You will be given the technical\n",
        "specifications fact sheet for the smartphone.\n",
        "\n",
        "The retail website description needs to follow this format:\n",
        "\n",
        "Product Name: <Name of smartphone>\n",
        "\n",
        "Description: <Brief Overview of the features>\n",
        "\n",
        "Product Specifications:\n",
        "<Table with key product feature specifications>\n",
        "\n",
        "The description should focus on the most important smarphone features\n",
        "that a customer would look for including the foldable display screen, processing power, RAM, camera and battery life.\n",
        "\n",
        "After the description, the table should show\n",
        "the key specifications of the smart phone product.\n",
        "It should have 2 columns.\n",
        "The first column should have 'Feature'.\n",
        "The second column should have 'Specification'.\n",
        "\n",
        "Technical specifications:\n",
        "{fact_sheet_mobile}\n",
        "\"\"\"\n",
        "\n",
        "# chat template\n",
        "chat_template = ChatPromptTemplate.from_template(prompt_txt)\n",
        "\n"
      ],
      "metadata": {
        "id": "PqHcYD9YGR-P"
      },
      "execution_count": 14,
      "outputs": []
    },
    {
      "cell_type": "markdown",
      "source": [
        "## LCEL LLM Chain for Second Advertisement"
      ],
      "metadata": {
        "id": "IN3BlH7VHz7F"
      }
    },
    {
      "cell_type": "code",
      "source": [
        "## LCEL chain\n",
        "chain = (chat_template\n",
        "             |\n",
        "         chatgpt)\n",
        "\n",
        "# response\n",
        "response = chain.invoke({'fact_sheet_mobile': fact_sheet_mobile})"
      ],
      "metadata": {
        "id": "gfRMAk-6HzMO"
      },
      "execution_count": 15,
      "outputs": []
    },
    {
      "cell_type": "code",
      "source": [
        "## response\n",
        "print(response.content)"
      ],
      "metadata": {
        "colab": {
          "base_uri": "https://localhost:8080/"
        },
        "id": "g0OWa1vbIEPT",
        "outputId": "24829d05-f68b-4910-b309-48a4958bf4c6"
      },
      "execution_count": 16,
      "outputs": [
        {
          "output_type": "stream",
          "name": "stdout",
          "text": [
            "Product Name: Samsung Galaxy Z Fold4 5G Black\n",
            "\n",
            "Description: The Samsung Galaxy Z Fold4 5G Black is a revolutionary foldable smartphone that combines cutting-edge technology with a sleek design. With a 15.73 cm(6.2-inch) Cover Screen and a 19.21 cm(7.6-inch) Main Screen, you can easily switch between tasks and enjoy a truly immersive experience. Powered by a Qualcomm Snapdragon 8+ Gen 1 processor and 12 GB of RAM, this smartphone offers PC-like power in the palm of your hand. The Galaxy Z Fold4 is also our toughest foldable smartphone yet, with water-resistant features and durable materials that can withstand life's bumps and fumbles.\n",
            "\n",
            "Product Specifications:\n",
            "\n",
            "| Feature                  | Specification                                      |\n",
            "|--------------------------|----------------------------------------------------|\n",
            "| OS                       | Android 12.0                                       |\n",
            "| RAM                      | 12 GB                                              |\n",
            "| Product Dimensions       | 15.5 x 13 x 0.6 cm; 263 Grams                     |\n",
            "| Batteries                | 2 Lithium Ion batteries required (included)        |\n",
            "| Wireless communication   | Cellular                                           |\n",
            "| Connectivity technologies| Bluetooth, Wi-Fi, USB, NFC                        |\n",
            "| GPS                      | True                                               |\n",
            "| Special features         | Fast Charging Support, Dual SIM, Wireless Charging, Built-In GPS, Water Resistant |\n",
            "| Display features         | Wireless                                           |\n",
            "| Device interface         | Touchscreen                                        |\n",
            "| Resolution               | 2176x1812                                          |\n",
            "| Camera features          | Rear, Front                                        |\n",
            "| Form factor              | Foldable Screen                                    |\n",
            "| Colour                   | Phantom Black                                      |\n",
            "| Battery Power Rating     | 4400                                               |\n",
            "| Whats in the box         | SIM Tray Ejector, USB Cable                        |\n",
            "| Manufacturer             | Samsung India pvt Ltd                              |\n",
            "| Country of Origin        | China                                              |\n",
            "| Item Weight              | 263 g                                              |\n"
          ]
        }
      ]
    },
    {
      "cell_type": "code",
      "source": [
        "## display as markdown\n",
        "from IPython.display import display, Markdown\n",
        "display(Markdown(response.content))"
      ],
      "metadata": {
        "colab": {
          "base_uri": "https://localhost:8080/",
          "height": 773
        },
        "id": "ZszBotVzIF0W",
        "outputId": "7609f684-fdf9-42e8-de76-513044e42e21"
      },
      "execution_count": 17,
      "outputs": [
        {
          "output_type": "display_data",
          "data": {
            "text/plain": [
              "<IPython.core.display.Markdown object>"
            ],
            "text/markdown": "Product Name: Samsung Galaxy Z Fold4 5G Black\n\nDescription: The Samsung Galaxy Z Fold4 5G Black is a revolutionary foldable smartphone that combines cutting-edge technology with a sleek design. With a 15.73 cm(6.2-inch) Cover Screen and a 19.21 cm(7.6-inch) Main Screen, you can easily switch between tasks and enjoy a truly immersive experience. Powered by a Qualcomm Snapdragon 8+ Gen 1 processor and 12 GB of RAM, this smartphone offers PC-like power in the palm of your hand. The Galaxy Z Fold4 is also our toughest foldable smartphone yet, with water-resistant features and durable materials that can withstand life's bumps and fumbles.\n\nProduct Specifications:\n\n| Feature                  | Specification                                      |\n|--------------------------|----------------------------------------------------|\n| OS                       | Android 12.0                                       |\n| RAM                      | 12 GB                                              |\n| Product Dimensions       | 15.5 x 13 x 0.6 cm; 263 Grams                     |\n| Batteries                | 2 Lithium Ion batteries required (included)        |\n| Wireless communication   | Cellular                                           |\n| Connectivity technologies| Bluetooth, Wi-Fi, USB, NFC                        |\n| GPS                      | True                                               |\n| Special features         | Fast Charging Support, Dual SIM, Wireless Charging, Built-In GPS, Water Resistant |\n| Display features         | Wireless                                           |\n| Device interface         | Touchscreen                                        |\n| Resolution               | 2176x1812                                          |\n| Camera features          | Rear, Front                                        |\n| Form factor              | Foldable Screen                                    |\n| Colour                   | Phantom Black                                      |\n| Battery Power Rating     | 4400                                               |\n| Whats in the box         | SIM Tray Ejector, USB Cable                        |\n| Manufacturer             | Samsung India pvt Ltd                              |\n| Country of Origin        | China                                              |\n| Item Weight              | 263 g                                              |"
          },
          "metadata": {}
        }
      ]
    },
    {
      "cell_type": "markdown",
      "source": [
        "## Prompt Template for 3rd Advertisement"
      ],
      "metadata": {
        "id": "hPfTgcUgIVF3"
      }
    },
    {
      "cell_type": "code",
      "source": [
        "## prompt template 3\n",
        "prompt_txt = \"\"\"\n",
        "You are a very experienced social media marketing manager.\n",
        "Your taks is to assist a social media marketing team in\n",
        "creating a description for a retail website advertisement\n",
        "for a smartphone product. You will be given a fact sheet\n",
        "with the technical specifications.\n",
        "\n",
        "Write a catchy product description using some emojis.\n",
        "The description should not be more than 60 words.\n",
        "The description should focus on the most important\n",
        "characteristics and features of the smartphone\n",
        "which matter the most to users such as the display, camera, and video.\n",
        "\n",
        "\n",
        "Technical Specifications:\n",
        "{fact_sheet_mobile}\n",
        "\n",
        "\n",
        "\"\"\"\n",
        "\n",
        "# chat template\n",
        "chat_template = ChatPromptTemplate.from_template(prompt_txt)"
      ],
      "metadata": {
        "id": "AunqTtsQIMk-"
      },
      "execution_count": 18,
      "outputs": []
    },
    {
      "cell_type": "markdown",
      "source": [
        "## LCEL LLM Chain for 3rd advertisement"
      ],
      "metadata": {
        "id": "wqPcg0qQJP9Z"
      }
    },
    {
      "cell_type": "code",
      "source": [
        "chain = (chat_template\n",
        "              |\n",
        "         chatgpt)\n",
        "\n",
        "# invoke response from LLM\n",
        "response = chain.invoke({'fact_sheet_mobile': fact_sheet_mobile})"
      ],
      "metadata": {
        "id": "G-XyYyl2JO5a"
      },
      "execution_count": 19,
      "outputs": []
    },
    {
      "cell_type": "code",
      "source": [
        "# get response\n",
        "print(response.content)"
      ],
      "metadata": {
        "colab": {
          "base_uri": "https://localhost:8080/"
        },
        "id": "lJfZCH9EJd8K",
        "outputId": "1c1fa438-4e4c-4ade-ae2d-e4d01e849b8a"
      },
      "execution_count": 20,
      "outputs": [
        {
          "output_type": "stream",
          "name": "stdout",
          "text": [
            "📱 Introducing the Samsung Galaxy Z Fold4 5G Black! Unfold endless possibilities with a stunning 7.6-inch Main Screen and Under Display Camera. Experience PC-like power with Qualcomm Snapdragon 8+ Gen 1 processor. Our toughest foldable yet, water-resistant and durable. Get yours now and elevate your smartphone game! 🌟 #SamsungGalaxyZFold4 #InnovationUnfolded\n"
          ]
        }
      ]
    },
    {
      "cell_type": "code",
      "source": [
        "## display in markdown format\n",
        "from IPython.display import display, Markdown\n",
        "display(Markdown(response.content))"
      ],
      "metadata": {
        "colab": {
          "base_uri": "https://localhost:8080/",
          "height": 81
        },
        "id": "jH-goQyAJfvi",
        "outputId": "27b8b76f-e5ae-494a-f25b-957ffb96e092"
      },
      "execution_count": 21,
      "outputs": [
        {
          "output_type": "display_data",
          "data": {
            "text/plain": [
              "<IPython.core.display.Markdown object>"
            ],
            "text/markdown": "📱 Introducing the Samsung Galaxy Z Fold4 5G Black! Unfold endless possibilities with a stunning 7.6-inch Main Screen and Under Display Camera. Experience PC-like power with Qualcomm Snapdragon 8+ Gen 1 processor. Our toughest foldable yet, water-resistant and durable. Get yours now and elevate your smartphone game! 🌟 #SamsungGalaxyZFold4 #InnovationUnfolded"
          },
          "metadata": {}
        }
      ]
    },
    {
      "cell_type": "markdown",
      "source": [
        "# Summary\n",
        "* We were able to see how leverating **iterative prompt engineering**, langchain `ChatPromptTemplate` and LCEL chains we were able to create social media ads for a smartphone product."
      ],
      "metadata": {
        "id": "CrOloFaOJ_oY"
      }
    },
    {
      "cell_type": "code",
      "source": [],
      "metadata": {
        "id": "jxz6BQpMJsFK"
      },
      "execution_count": null,
      "outputs": []
    }
  ]
}