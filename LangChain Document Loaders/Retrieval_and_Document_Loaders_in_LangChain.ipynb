{
  "nbformat": 4,
  "nbformat_minor": 0,
  "metadata": {
    "colab": {
      "provenance": [],
      "gpuType": "T4"
    },
    "kernelspec": {
      "name": "python3",
      "display_name": "Python 3"
    },
    "language_info": {
      "name": "python"
    },
    "accelerator": "GPU",
    "widgets": {
      "application/vnd.jupyter.widget-state+json": {
        "9966a593c049496eb3cf44573b00fc09": {
          "model_module": "@jupyter-widgets/controls",
          "model_name": "HBoxModel",
          "model_module_version": "1.5.0",
          "state": {
            "_dom_classes": [],
            "_model_module": "@jupyter-widgets/controls",
            "_model_module_version": "1.5.0",
            "_model_name": "HBoxModel",
            "_view_count": null,
            "_view_module": "@jupyter-widgets/controls",
            "_view_module_version": "1.5.0",
            "_view_name": "HBoxView",
            "box_style": "",
            "children": [
              "IPY_MODEL_1c9a83ffb02b45bf9e27abdbf9007c61",
              "IPY_MODEL_89bcef48550f42d5b668a791b4cf735d",
              "IPY_MODEL_648b8fbf3f6e4fde8b61cd33e85ca15f"
            ],
            "layout": "IPY_MODEL_84731f13715d4ee38b6b49405d413237"
          }
        },
        "1c9a83ffb02b45bf9e27abdbf9007c61": {
          "model_module": "@jupyter-widgets/controls",
          "model_name": "HTMLModel",
          "model_module_version": "1.5.0",
          "state": {
            "_dom_classes": [],
            "_model_module": "@jupyter-widgets/controls",
            "_model_module_version": "1.5.0",
            "_model_name": "HTMLModel",
            "_view_count": null,
            "_view_module": "@jupyter-widgets/controls",
            "_view_module_version": "1.5.0",
            "_view_name": "HTMLView",
            "description": "",
            "description_tooltip": null,
            "layout": "IPY_MODEL_68fbc57fb0ae44d9a0d8c66c8aaac502",
            "placeholder": "​",
            "style": "IPY_MODEL_d1d4e3a8a340455f9996fda52aa6d75e",
            "value": "yolox_l0.05.onnx: 100%"
          }
        },
        "89bcef48550f42d5b668a791b4cf735d": {
          "model_module": "@jupyter-widgets/controls",
          "model_name": "FloatProgressModel",
          "model_module_version": "1.5.0",
          "state": {
            "_dom_classes": [],
            "_model_module": "@jupyter-widgets/controls",
            "_model_module_version": "1.5.0",
            "_model_name": "FloatProgressModel",
            "_view_count": null,
            "_view_module": "@jupyter-widgets/controls",
            "_view_module_version": "1.5.0",
            "_view_name": "ProgressView",
            "bar_style": "success",
            "description": "",
            "description_tooltip": null,
            "layout": "IPY_MODEL_0a268fc1cf8142d1acf8b04b34d74656",
            "max": 216625723,
            "min": 0,
            "orientation": "horizontal",
            "style": "IPY_MODEL_133a693480ba4c53b30de42ba263418a",
            "value": 216625723
          }
        },
        "648b8fbf3f6e4fde8b61cd33e85ca15f": {
          "model_module": "@jupyter-widgets/controls",
          "model_name": "HTMLModel",
          "model_module_version": "1.5.0",
          "state": {
            "_dom_classes": [],
            "_model_module": "@jupyter-widgets/controls",
            "_model_module_version": "1.5.0",
            "_model_name": "HTMLModel",
            "_view_count": null,
            "_view_module": "@jupyter-widgets/controls",
            "_view_module_version": "1.5.0",
            "_view_name": "HTMLView",
            "description": "",
            "description_tooltip": null,
            "layout": "IPY_MODEL_a2fb3d2a3df64abe8a5d97ddacc13812",
            "placeholder": "​",
            "style": "IPY_MODEL_215c495db5554e37b842624f1936caf1",
            "value": " 217M/217M [00:01&lt;00:00, 230MB/s]"
          }
        },
        "84731f13715d4ee38b6b49405d413237": {
          "model_module": "@jupyter-widgets/base",
          "model_name": "LayoutModel",
          "model_module_version": "1.2.0",
          "state": {
            "_model_module": "@jupyter-widgets/base",
            "_model_module_version": "1.2.0",
            "_model_name": "LayoutModel",
            "_view_count": null,
            "_view_module": "@jupyter-widgets/base",
            "_view_module_version": "1.2.0",
            "_view_name": "LayoutView",
            "align_content": null,
            "align_items": null,
            "align_self": null,
            "border": null,
            "bottom": null,
            "display": null,
            "flex": null,
            "flex_flow": null,
            "grid_area": null,
            "grid_auto_columns": null,
            "grid_auto_flow": null,
            "grid_auto_rows": null,
            "grid_column": null,
            "grid_gap": null,
            "grid_row": null,
            "grid_template_areas": null,
            "grid_template_columns": null,
            "grid_template_rows": null,
            "height": null,
            "justify_content": null,
            "justify_items": null,
            "left": null,
            "margin": null,
            "max_height": null,
            "max_width": null,
            "min_height": null,
            "min_width": null,
            "object_fit": null,
            "object_position": null,
            "order": null,
            "overflow": null,
            "overflow_x": null,
            "overflow_y": null,
            "padding": null,
            "right": null,
            "top": null,
            "visibility": null,
            "width": null
          }
        },
        "68fbc57fb0ae44d9a0d8c66c8aaac502": {
          "model_module": "@jupyter-widgets/base",
          "model_name": "LayoutModel",
          "model_module_version": "1.2.0",
          "state": {
            "_model_module": "@jupyter-widgets/base",
            "_model_module_version": "1.2.0",
            "_model_name": "LayoutModel",
            "_view_count": null,
            "_view_module": "@jupyter-widgets/base",
            "_view_module_version": "1.2.0",
            "_view_name": "LayoutView",
            "align_content": null,
            "align_items": null,
            "align_self": null,
            "border": null,
            "bottom": null,
            "display": null,
            "flex": null,
            "flex_flow": null,
            "grid_area": null,
            "grid_auto_columns": null,
            "grid_auto_flow": null,
            "grid_auto_rows": null,
            "grid_column": null,
            "grid_gap": null,
            "grid_row": null,
            "grid_template_areas": null,
            "grid_template_columns": null,
            "grid_template_rows": null,
            "height": null,
            "justify_content": null,
            "justify_items": null,
            "left": null,
            "margin": null,
            "max_height": null,
            "max_width": null,
            "min_height": null,
            "min_width": null,
            "object_fit": null,
            "object_position": null,
            "order": null,
            "overflow": null,
            "overflow_x": null,
            "overflow_y": null,
            "padding": null,
            "right": null,
            "top": null,
            "visibility": null,
            "width": null
          }
        },
        "d1d4e3a8a340455f9996fda52aa6d75e": {
          "model_module": "@jupyter-widgets/controls",
          "model_name": "DescriptionStyleModel",
          "model_module_version": "1.5.0",
          "state": {
            "_model_module": "@jupyter-widgets/controls",
            "_model_module_version": "1.5.0",
            "_model_name": "DescriptionStyleModel",
            "_view_count": null,
            "_view_module": "@jupyter-widgets/base",
            "_view_module_version": "1.2.0",
            "_view_name": "StyleView",
            "description_width": ""
          }
        },
        "0a268fc1cf8142d1acf8b04b34d74656": {
          "model_module": "@jupyter-widgets/base",
          "model_name": "LayoutModel",
          "model_module_version": "1.2.0",
          "state": {
            "_model_module": "@jupyter-widgets/base",
            "_model_module_version": "1.2.0",
            "_model_name": "LayoutModel",
            "_view_count": null,
            "_view_module": "@jupyter-widgets/base",
            "_view_module_version": "1.2.0",
            "_view_name": "LayoutView",
            "align_content": null,
            "align_items": null,
            "align_self": null,
            "border": null,
            "bottom": null,
            "display": null,
            "flex": null,
            "flex_flow": null,
            "grid_area": null,
            "grid_auto_columns": null,
            "grid_auto_flow": null,
            "grid_auto_rows": null,
            "grid_column": null,
            "grid_gap": null,
            "grid_row": null,
            "grid_template_areas": null,
            "grid_template_columns": null,
            "grid_template_rows": null,
            "height": null,
            "justify_content": null,
            "justify_items": null,
            "left": null,
            "margin": null,
            "max_height": null,
            "max_width": null,
            "min_height": null,
            "min_width": null,
            "object_fit": null,
            "object_position": null,
            "order": null,
            "overflow": null,
            "overflow_x": null,
            "overflow_y": null,
            "padding": null,
            "right": null,
            "top": null,
            "visibility": null,
            "width": null
          }
        },
        "133a693480ba4c53b30de42ba263418a": {
          "model_module": "@jupyter-widgets/controls",
          "model_name": "ProgressStyleModel",
          "model_module_version": "1.5.0",
          "state": {
            "_model_module": "@jupyter-widgets/controls",
            "_model_module_version": "1.5.0",
            "_model_name": "ProgressStyleModel",
            "_view_count": null,
            "_view_module": "@jupyter-widgets/base",
            "_view_module_version": "1.2.0",
            "_view_name": "StyleView",
            "bar_color": null,
            "description_width": ""
          }
        },
        "a2fb3d2a3df64abe8a5d97ddacc13812": {
          "model_module": "@jupyter-widgets/base",
          "model_name": "LayoutModel",
          "model_module_version": "1.2.0",
          "state": {
            "_model_module": "@jupyter-widgets/base",
            "_model_module_version": "1.2.0",
            "_model_name": "LayoutModel",
            "_view_count": null,
            "_view_module": "@jupyter-widgets/base",
            "_view_module_version": "1.2.0",
            "_view_name": "LayoutView",
            "align_content": null,
            "align_items": null,
            "align_self": null,
            "border": null,
            "bottom": null,
            "display": null,
            "flex": null,
            "flex_flow": null,
            "grid_area": null,
            "grid_auto_columns": null,
            "grid_auto_flow": null,
            "grid_auto_rows": null,
            "grid_column": null,
            "grid_gap": null,
            "grid_row": null,
            "grid_template_areas": null,
            "grid_template_columns": null,
            "grid_template_rows": null,
            "height": null,
            "justify_content": null,
            "justify_items": null,
            "left": null,
            "margin": null,
            "max_height": null,
            "max_width": null,
            "min_height": null,
            "min_width": null,
            "object_fit": null,
            "object_position": null,
            "order": null,
            "overflow": null,
            "overflow_x": null,
            "overflow_y": null,
            "padding": null,
            "right": null,
            "top": null,
            "visibility": null,
            "width": null
          }
        },
        "215c495db5554e37b842624f1936caf1": {
          "model_module": "@jupyter-widgets/controls",
          "model_name": "DescriptionStyleModel",
          "model_module_version": "1.5.0",
          "state": {
            "_model_module": "@jupyter-widgets/controls",
            "_model_module_version": "1.5.0",
            "_model_name": "DescriptionStyleModel",
            "_view_count": null,
            "_view_module": "@jupyter-widgets/base",
            "_view_module_version": "1.2.0",
            "_view_name": "StyleView",
            "description_width": ""
          }
        },
        "4ba1724a093c43988711efac7b831c11": {
          "model_module": "@jupyter-widgets/controls",
          "model_name": "HBoxModel",
          "model_module_version": "1.5.0",
          "state": {
            "_dom_classes": [],
            "_model_module": "@jupyter-widgets/controls",
            "_model_module_version": "1.5.0",
            "_model_name": "HBoxModel",
            "_view_count": null,
            "_view_module": "@jupyter-widgets/controls",
            "_view_module_version": "1.5.0",
            "_view_name": "HBoxView",
            "box_style": "",
            "children": [
              "IPY_MODEL_a7eacef78ce34b4a8063e453137d15ef",
              "IPY_MODEL_788155f948a94894803751c94c6b8d83",
              "IPY_MODEL_21a81200fec74b37bf2013a4c5d6036a"
            ],
            "layout": "IPY_MODEL_1db61bb98a164669a9ebd049d96cefdd"
          }
        },
        "a7eacef78ce34b4a8063e453137d15ef": {
          "model_module": "@jupyter-widgets/controls",
          "model_name": "HTMLModel",
          "model_module_version": "1.5.0",
          "state": {
            "_dom_classes": [],
            "_model_module": "@jupyter-widgets/controls",
            "_model_module_version": "1.5.0",
            "_model_name": "HTMLModel",
            "_view_count": null,
            "_view_module": "@jupyter-widgets/controls",
            "_view_module_version": "1.5.0",
            "_view_name": "HTMLView",
            "description": "",
            "description_tooltip": null,
            "layout": "IPY_MODEL_566f186b9a0d427a891ac02bc7a63565",
            "placeholder": "​",
            "style": "IPY_MODEL_d4303eeeefb34ffea279495c585804b2",
            "value": "config.json: 100%"
          }
        },
        "788155f948a94894803751c94c6b8d83": {
          "model_module": "@jupyter-widgets/controls",
          "model_name": "FloatProgressModel",
          "model_module_version": "1.5.0",
          "state": {
            "_dom_classes": [],
            "_model_module": "@jupyter-widgets/controls",
            "_model_module_version": "1.5.0",
            "_model_name": "FloatProgressModel",
            "_view_count": null,
            "_view_module": "@jupyter-widgets/controls",
            "_view_module_version": "1.5.0",
            "_view_name": "ProgressView",
            "bar_style": "success",
            "description": "",
            "description_tooltip": null,
            "layout": "IPY_MODEL_f1927deeafa5460fa09a1fab0e6b583e",
            "max": 1469,
            "min": 0,
            "orientation": "horizontal",
            "style": "IPY_MODEL_99365490da1c48b2aa4916cf98923fa9",
            "value": 1469
          }
        },
        "21a81200fec74b37bf2013a4c5d6036a": {
          "model_module": "@jupyter-widgets/controls",
          "model_name": "HTMLModel",
          "model_module_version": "1.5.0",
          "state": {
            "_dom_classes": [],
            "_model_module": "@jupyter-widgets/controls",
            "_model_module_version": "1.5.0",
            "_model_name": "HTMLModel",
            "_view_count": null,
            "_view_module": "@jupyter-widgets/controls",
            "_view_module_version": "1.5.0",
            "_view_name": "HTMLView",
            "description": "",
            "description_tooltip": null,
            "layout": "IPY_MODEL_37a1044afb2d43d3be4e1e9314661c9c",
            "placeholder": "​",
            "style": "IPY_MODEL_d2b8866f08eb489c8ab6e7905def3365",
            "value": " 1.47k/1.47k [00:00&lt;00:00, 62.6kB/s]"
          }
        },
        "1db61bb98a164669a9ebd049d96cefdd": {
          "model_module": "@jupyter-widgets/base",
          "model_name": "LayoutModel",
          "model_module_version": "1.2.0",
          "state": {
            "_model_module": "@jupyter-widgets/base",
            "_model_module_version": "1.2.0",
            "_model_name": "LayoutModel",
            "_view_count": null,
            "_view_module": "@jupyter-widgets/base",
            "_view_module_version": "1.2.0",
            "_view_name": "LayoutView",
            "align_content": null,
            "align_items": null,
            "align_self": null,
            "border": null,
            "bottom": null,
            "display": null,
            "flex": null,
            "flex_flow": null,
            "grid_area": null,
            "grid_auto_columns": null,
            "grid_auto_flow": null,
            "grid_auto_rows": null,
            "grid_column": null,
            "grid_gap": null,
            "grid_row": null,
            "grid_template_areas": null,
            "grid_template_columns": null,
            "grid_template_rows": null,
            "height": null,
            "justify_content": null,
            "justify_items": null,
            "left": null,
            "margin": null,
            "max_height": null,
            "max_width": null,
            "min_height": null,
            "min_width": null,
            "object_fit": null,
            "object_position": null,
            "order": null,
            "overflow": null,
            "overflow_x": null,
            "overflow_y": null,
            "padding": null,
            "right": null,
            "top": null,
            "visibility": null,
            "width": null
          }
        },
        "566f186b9a0d427a891ac02bc7a63565": {
          "model_module": "@jupyter-widgets/base",
          "model_name": "LayoutModel",
          "model_module_version": "1.2.0",
          "state": {
            "_model_module": "@jupyter-widgets/base",
            "_model_module_version": "1.2.0",
            "_model_name": "LayoutModel",
            "_view_count": null,
            "_view_module": "@jupyter-widgets/base",
            "_view_module_version": "1.2.0",
            "_view_name": "LayoutView",
            "align_content": null,
            "align_items": null,
            "align_self": null,
            "border": null,
            "bottom": null,
            "display": null,
            "flex": null,
            "flex_flow": null,
            "grid_area": null,
            "grid_auto_columns": null,
            "grid_auto_flow": null,
            "grid_auto_rows": null,
            "grid_column": null,
            "grid_gap": null,
            "grid_row": null,
            "grid_template_areas": null,
            "grid_template_columns": null,
            "grid_template_rows": null,
            "height": null,
            "justify_content": null,
            "justify_items": null,
            "left": null,
            "margin": null,
            "max_height": null,
            "max_width": null,
            "min_height": null,
            "min_width": null,
            "object_fit": null,
            "object_position": null,
            "order": null,
            "overflow": null,
            "overflow_x": null,
            "overflow_y": null,
            "padding": null,
            "right": null,
            "top": null,
            "visibility": null,
            "width": null
          }
        },
        "d4303eeeefb34ffea279495c585804b2": {
          "model_module": "@jupyter-widgets/controls",
          "model_name": "DescriptionStyleModel",
          "model_module_version": "1.5.0",
          "state": {
            "_model_module": "@jupyter-widgets/controls",
            "_model_module_version": "1.5.0",
            "_model_name": "DescriptionStyleModel",
            "_view_count": null,
            "_view_module": "@jupyter-widgets/base",
            "_view_module_version": "1.2.0",
            "_view_name": "StyleView",
            "description_width": ""
          }
        },
        "f1927deeafa5460fa09a1fab0e6b583e": {
          "model_module": "@jupyter-widgets/base",
          "model_name": "LayoutModel",
          "model_module_version": "1.2.0",
          "state": {
            "_model_module": "@jupyter-widgets/base",
            "_model_module_version": "1.2.0",
            "_model_name": "LayoutModel",
            "_view_count": null,
            "_view_module": "@jupyter-widgets/base",
            "_view_module_version": "1.2.0",
            "_view_name": "LayoutView",
            "align_content": null,
            "align_items": null,
            "align_self": null,
            "border": null,
            "bottom": null,
            "display": null,
            "flex": null,
            "flex_flow": null,
            "grid_area": null,
            "grid_auto_columns": null,
            "grid_auto_flow": null,
            "grid_auto_rows": null,
            "grid_column": null,
            "grid_gap": null,
            "grid_row": null,
            "grid_template_areas": null,
            "grid_template_columns": null,
            "grid_template_rows": null,
            "height": null,
            "justify_content": null,
            "justify_items": null,
            "left": null,
            "margin": null,
            "max_height": null,
            "max_width": null,
            "min_height": null,
            "min_width": null,
            "object_fit": null,
            "object_position": null,
            "order": null,
            "overflow": null,
            "overflow_x": null,
            "overflow_y": null,
            "padding": null,
            "right": null,
            "top": null,
            "visibility": null,
            "width": null
          }
        },
        "99365490da1c48b2aa4916cf98923fa9": {
          "model_module": "@jupyter-widgets/controls",
          "model_name": "ProgressStyleModel",
          "model_module_version": "1.5.0",
          "state": {
            "_model_module": "@jupyter-widgets/controls",
            "_model_module_version": "1.5.0",
            "_model_name": "ProgressStyleModel",
            "_view_count": null,
            "_view_module": "@jupyter-widgets/base",
            "_view_module_version": "1.2.0",
            "_view_name": "StyleView",
            "bar_color": null,
            "description_width": ""
          }
        },
        "37a1044afb2d43d3be4e1e9314661c9c": {
          "model_module": "@jupyter-widgets/base",
          "model_name": "LayoutModel",
          "model_module_version": "1.2.0",
          "state": {
            "_model_module": "@jupyter-widgets/base",
            "_model_module_version": "1.2.0",
            "_model_name": "LayoutModel",
            "_view_count": null,
            "_view_module": "@jupyter-widgets/base",
            "_view_module_version": "1.2.0",
            "_view_name": "LayoutView",
            "align_content": null,
            "align_items": null,
            "align_self": null,
            "border": null,
            "bottom": null,
            "display": null,
            "flex": null,
            "flex_flow": null,
            "grid_area": null,
            "grid_auto_columns": null,
            "grid_auto_flow": null,
            "grid_auto_rows": null,
            "grid_column": null,
            "grid_gap": null,
            "grid_row": null,
            "grid_template_areas": null,
            "grid_template_columns": null,
            "grid_template_rows": null,
            "height": null,
            "justify_content": null,
            "justify_items": null,
            "left": null,
            "margin": null,
            "max_height": null,
            "max_width": null,
            "min_height": null,
            "min_width": null,
            "object_fit": null,
            "object_position": null,
            "order": null,
            "overflow": null,
            "overflow_x": null,
            "overflow_y": null,
            "padding": null,
            "right": null,
            "top": null,
            "visibility": null,
            "width": null
          }
        },
        "d2b8866f08eb489c8ab6e7905def3365": {
          "model_module": "@jupyter-widgets/controls",
          "model_name": "DescriptionStyleModel",
          "model_module_version": "1.5.0",
          "state": {
            "_model_module": "@jupyter-widgets/controls",
            "_model_module_version": "1.5.0",
            "_model_name": "DescriptionStyleModel",
            "_view_count": null,
            "_view_module": "@jupyter-widgets/base",
            "_view_module_version": "1.2.0",
            "_view_name": "StyleView",
            "description_width": ""
          }
        },
        "eca1a4ccbda3421ca065b45d556d2919": {
          "model_module": "@jupyter-widgets/controls",
          "model_name": "HBoxModel",
          "model_module_version": "1.5.0",
          "state": {
            "_dom_classes": [],
            "_model_module": "@jupyter-widgets/controls",
            "_model_module_version": "1.5.0",
            "_model_name": "HBoxModel",
            "_view_count": null,
            "_view_module": "@jupyter-widgets/controls",
            "_view_module_version": "1.5.0",
            "_view_name": "HBoxView",
            "box_style": "",
            "children": [
              "IPY_MODEL_0b3c06690e554278ba73e67ea611b0c6",
              "IPY_MODEL_831beda4578842ecbc63b604e49e9154",
              "IPY_MODEL_3d0f1373a53a4b06a3cb90e37c3abeaf"
            ],
            "layout": "IPY_MODEL_76f79e0ef3a444558ed6119eb378f56b"
          }
        },
        "0b3c06690e554278ba73e67ea611b0c6": {
          "model_module": "@jupyter-widgets/controls",
          "model_name": "HTMLModel",
          "model_module_version": "1.5.0",
          "state": {
            "_dom_classes": [],
            "_model_module": "@jupyter-widgets/controls",
            "_model_module_version": "1.5.0",
            "_model_name": "HTMLModel",
            "_view_count": null,
            "_view_module": "@jupyter-widgets/controls",
            "_view_module_version": "1.5.0",
            "_view_name": "HTMLView",
            "description": "",
            "description_tooltip": null,
            "layout": "IPY_MODEL_962a56a4bb3c4076b08e14b5b130ad00",
            "placeholder": "​",
            "style": "IPY_MODEL_fa0993431d1746189786ecce043a6a9f",
            "value": "model.safetensors: 100%"
          }
        },
        "831beda4578842ecbc63b604e49e9154": {
          "model_module": "@jupyter-widgets/controls",
          "model_name": "FloatProgressModel",
          "model_module_version": "1.5.0",
          "state": {
            "_dom_classes": [],
            "_model_module": "@jupyter-widgets/controls",
            "_model_module_version": "1.5.0",
            "_model_name": "FloatProgressModel",
            "_view_count": null,
            "_view_module": "@jupyter-widgets/controls",
            "_view_module_version": "1.5.0",
            "_view_name": "ProgressView",
            "bar_style": "success",
            "description": "",
            "description_tooltip": null,
            "layout": "IPY_MODEL_54e7d6cf9fab466f9ed72b61b0339bc3",
            "max": 115434268,
            "min": 0,
            "orientation": "horizontal",
            "style": "IPY_MODEL_af2fac4e8966493688310bbe31266bf9",
            "value": 115434268
          }
        },
        "3d0f1373a53a4b06a3cb90e37c3abeaf": {
          "model_module": "@jupyter-widgets/controls",
          "model_name": "HTMLModel",
          "model_module_version": "1.5.0",
          "state": {
            "_dom_classes": [],
            "_model_module": "@jupyter-widgets/controls",
            "_model_module_version": "1.5.0",
            "_model_name": "HTMLModel",
            "_view_count": null,
            "_view_module": "@jupyter-widgets/controls",
            "_view_module_version": "1.5.0",
            "_view_name": "HTMLView",
            "description": "",
            "description_tooltip": null,
            "layout": "IPY_MODEL_04641d55cc774f0c8e72293d7ecdaf3b",
            "placeholder": "​",
            "style": "IPY_MODEL_12a618244e654706a648597f522a6ce8",
            "value": " 115M/115M [00:00&lt;00:00, 209MB/s]"
          }
        },
        "76f79e0ef3a444558ed6119eb378f56b": {
          "model_module": "@jupyter-widgets/base",
          "model_name": "LayoutModel",
          "model_module_version": "1.2.0",
          "state": {
            "_model_module": "@jupyter-widgets/base",
            "_model_module_version": "1.2.0",
            "_model_name": "LayoutModel",
            "_view_count": null,
            "_view_module": "@jupyter-widgets/base",
            "_view_module_version": "1.2.0",
            "_view_name": "LayoutView",
            "align_content": null,
            "align_items": null,
            "align_self": null,
            "border": null,
            "bottom": null,
            "display": null,
            "flex": null,
            "flex_flow": null,
            "grid_area": null,
            "grid_auto_columns": null,
            "grid_auto_flow": null,
            "grid_auto_rows": null,
            "grid_column": null,
            "grid_gap": null,
            "grid_row": null,
            "grid_template_areas": null,
            "grid_template_columns": null,
            "grid_template_rows": null,
            "height": null,
            "justify_content": null,
            "justify_items": null,
            "left": null,
            "margin": null,
            "max_height": null,
            "max_width": null,
            "min_height": null,
            "min_width": null,
            "object_fit": null,
            "object_position": null,
            "order": null,
            "overflow": null,
            "overflow_x": null,
            "overflow_y": null,
            "padding": null,
            "right": null,
            "top": null,
            "visibility": null,
            "width": null
          }
        },
        "962a56a4bb3c4076b08e14b5b130ad00": {
          "model_module": "@jupyter-widgets/base",
          "model_name": "LayoutModel",
          "model_module_version": "1.2.0",
          "state": {
            "_model_module": "@jupyter-widgets/base",
            "_model_module_version": "1.2.0",
            "_model_name": "LayoutModel",
            "_view_count": null,
            "_view_module": "@jupyter-widgets/base",
            "_view_module_version": "1.2.0",
            "_view_name": "LayoutView",
            "align_content": null,
            "align_items": null,
            "align_self": null,
            "border": null,
            "bottom": null,
            "display": null,
            "flex": null,
            "flex_flow": null,
            "grid_area": null,
            "grid_auto_columns": null,
            "grid_auto_flow": null,
            "grid_auto_rows": null,
            "grid_column": null,
            "grid_gap": null,
            "grid_row": null,
            "grid_template_areas": null,
            "grid_template_columns": null,
            "grid_template_rows": null,
            "height": null,
            "justify_content": null,
            "justify_items": null,
            "left": null,
            "margin": null,
            "max_height": null,
            "max_width": null,
            "min_height": null,
            "min_width": null,
            "object_fit": null,
            "object_position": null,
            "order": null,
            "overflow": null,
            "overflow_x": null,
            "overflow_y": null,
            "padding": null,
            "right": null,
            "top": null,
            "visibility": null,
            "width": null
          }
        },
        "fa0993431d1746189786ecce043a6a9f": {
          "model_module": "@jupyter-widgets/controls",
          "model_name": "DescriptionStyleModel",
          "model_module_version": "1.5.0",
          "state": {
            "_model_module": "@jupyter-widgets/controls",
            "_model_module_version": "1.5.0",
            "_model_name": "DescriptionStyleModel",
            "_view_count": null,
            "_view_module": "@jupyter-widgets/base",
            "_view_module_version": "1.2.0",
            "_view_name": "StyleView",
            "description_width": ""
          }
        },
        "54e7d6cf9fab466f9ed72b61b0339bc3": {
          "model_module": "@jupyter-widgets/base",
          "model_name": "LayoutModel",
          "model_module_version": "1.2.0",
          "state": {
            "_model_module": "@jupyter-widgets/base",
            "_model_module_version": "1.2.0",
            "_model_name": "LayoutModel",
            "_view_count": null,
            "_view_module": "@jupyter-widgets/base",
            "_view_module_version": "1.2.0",
            "_view_name": "LayoutView",
            "align_content": null,
            "align_items": null,
            "align_self": null,
            "border": null,
            "bottom": null,
            "display": null,
            "flex": null,
            "flex_flow": null,
            "grid_area": null,
            "grid_auto_columns": null,
            "grid_auto_flow": null,
            "grid_auto_rows": null,
            "grid_column": null,
            "grid_gap": null,
            "grid_row": null,
            "grid_template_areas": null,
            "grid_template_columns": null,
            "grid_template_rows": null,
            "height": null,
            "justify_content": null,
            "justify_items": null,
            "left": null,
            "margin": null,
            "max_height": null,
            "max_width": null,
            "min_height": null,
            "min_width": null,
            "object_fit": null,
            "object_position": null,
            "order": null,
            "overflow": null,
            "overflow_x": null,
            "overflow_y": null,
            "padding": null,
            "right": null,
            "top": null,
            "visibility": null,
            "width": null
          }
        },
        "af2fac4e8966493688310bbe31266bf9": {
          "model_module": "@jupyter-widgets/controls",
          "model_name": "ProgressStyleModel",
          "model_module_version": "1.5.0",
          "state": {
            "_model_module": "@jupyter-widgets/controls",
            "_model_module_version": "1.5.0",
            "_model_name": "ProgressStyleModel",
            "_view_count": null,
            "_view_module": "@jupyter-widgets/base",
            "_view_module_version": "1.2.0",
            "_view_name": "StyleView",
            "bar_color": null,
            "description_width": ""
          }
        },
        "04641d55cc774f0c8e72293d7ecdaf3b": {
          "model_module": "@jupyter-widgets/base",
          "model_name": "LayoutModel",
          "model_module_version": "1.2.0",
          "state": {
            "_model_module": "@jupyter-widgets/base",
            "_model_module_version": "1.2.0",
            "_model_name": "LayoutModel",
            "_view_count": null,
            "_view_module": "@jupyter-widgets/base",
            "_view_module_version": "1.2.0",
            "_view_name": "LayoutView",
            "align_content": null,
            "align_items": null,
            "align_self": null,
            "border": null,
            "bottom": null,
            "display": null,
            "flex": null,
            "flex_flow": null,
            "grid_area": null,
            "grid_auto_columns": null,
            "grid_auto_flow": null,
            "grid_auto_rows": null,
            "grid_column": null,
            "grid_gap": null,
            "grid_row": null,
            "grid_template_areas": null,
            "grid_template_columns": null,
            "grid_template_rows": null,
            "height": null,
            "justify_content": null,
            "justify_items": null,
            "left": null,
            "margin": null,
            "max_height": null,
            "max_width": null,
            "min_height": null,
            "min_width": null,
            "object_fit": null,
            "object_position": null,
            "order": null,
            "overflow": null,
            "overflow_x": null,
            "overflow_y": null,
            "padding": null,
            "right": null,
            "top": null,
            "visibility": null,
            "width": null
          }
        },
        "12a618244e654706a648597f522a6ce8": {
          "model_module": "@jupyter-widgets/controls",
          "model_name": "DescriptionStyleModel",
          "model_module_version": "1.5.0",
          "state": {
            "_model_module": "@jupyter-widgets/controls",
            "_model_module_version": "1.5.0",
            "_model_name": "DescriptionStyleModel",
            "_view_count": null,
            "_view_module": "@jupyter-widgets/base",
            "_view_module_version": "1.2.0",
            "_view_name": "StyleView",
            "description_width": ""
          }
        },
        "106c6094784d46ca9ba73f727534ff32": {
          "model_module": "@jupyter-widgets/controls",
          "model_name": "HBoxModel",
          "model_module_version": "1.5.0",
          "state": {
            "_dom_classes": [],
            "_model_module": "@jupyter-widgets/controls",
            "_model_module_version": "1.5.0",
            "_model_name": "HBoxModel",
            "_view_count": null,
            "_view_module": "@jupyter-widgets/controls",
            "_view_module_version": "1.5.0",
            "_view_name": "HBoxView",
            "box_style": "",
            "children": [
              "IPY_MODEL_2035dd15113445a8bcea3813c8f3aea9",
              "IPY_MODEL_ffcb30b13f27411b976a855a5803f406",
              "IPY_MODEL_ad4a9eb554a44aeca092770460cc3315"
            ],
            "layout": "IPY_MODEL_f20e784c70a1429c9ecb65b2dc5d9852"
          }
        },
        "2035dd15113445a8bcea3813c8f3aea9": {
          "model_module": "@jupyter-widgets/controls",
          "model_name": "HTMLModel",
          "model_module_version": "1.5.0",
          "state": {
            "_dom_classes": [],
            "_model_module": "@jupyter-widgets/controls",
            "_model_module_version": "1.5.0",
            "_model_name": "HTMLModel",
            "_view_count": null,
            "_view_module": "@jupyter-widgets/controls",
            "_view_module_version": "1.5.0",
            "_view_name": "HTMLView",
            "description": "",
            "description_tooltip": null,
            "layout": "IPY_MODEL_3ff3749ec0b04750bb98230650bbf962",
            "placeholder": "​",
            "style": "IPY_MODEL_19dd6c43b2374a3780e1b112a99c723b",
            "value": "model.safetensors: 100%"
          }
        },
        "ffcb30b13f27411b976a855a5803f406": {
          "model_module": "@jupyter-widgets/controls",
          "model_name": "FloatProgressModel",
          "model_module_version": "1.5.0",
          "state": {
            "_dom_classes": [],
            "_model_module": "@jupyter-widgets/controls",
            "_model_module_version": "1.5.0",
            "_model_name": "FloatProgressModel",
            "_view_count": null,
            "_view_module": "@jupyter-widgets/controls",
            "_view_module_version": "1.5.0",
            "_view_name": "ProgressView",
            "bar_style": "success",
            "description": "",
            "description_tooltip": null,
            "layout": "IPY_MODEL_3914a81e81c34a6d8c69cc8af4a159bf",
            "max": 46807446,
            "min": 0,
            "orientation": "horizontal",
            "style": "IPY_MODEL_a69a37ed74af4946a91a0e907516e4a2",
            "value": 46807446
          }
        },
        "ad4a9eb554a44aeca092770460cc3315": {
          "model_module": "@jupyter-widgets/controls",
          "model_name": "HTMLModel",
          "model_module_version": "1.5.0",
          "state": {
            "_dom_classes": [],
            "_model_module": "@jupyter-widgets/controls",
            "_model_module_version": "1.5.0",
            "_model_name": "HTMLModel",
            "_view_count": null,
            "_view_module": "@jupyter-widgets/controls",
            "_view_module_version": "1.5.0",
            "_view_name": "HTMLView",
            "description": "",
            "description_tooltip": null,
            "layout": "IPY_MODEL_860dbf16037e423bbbda502f2db17dcf",
            "placeholder": "​",
            "style": "IPY_MODEL_f9a01922f5034487adb064837846a876",
            "value": " 46.8M/46.8M [00:00&lt;00:00, 194MB/s]"
          }
        },
        "f20e784c70a1429c9ecb65b2dc5d9852": {
          "model_module": "@jupyter-widgets/base",
          "model_name": "LayoutModel",
          "model_module_version": "1.2.0",
          "state": {
            "_model_module": "@jupyter-widgets/base",
            "_model_module_version": "1.2.0",
            "_model_name": "LayoutModel",
            "_view_count": null,
            "_view_module": "@jupyter-widgets/base",
            "_view_module_version": "1.2.0",
            "_view_name": "LayoutView",
            "align_content": null,
            "align_items": null,
            "align_self": null,
            "border": null,
            "bottom": null,
            "display": null,
            "flex": null,
            "flex_flow": null,
            "grid_area": null,
            "grid_auto_columns": null,
            "grid_auto_flow": null,
            "grid_auto_rows": null,
            "grid_column": null,
            "grid_gap": null,
            "grid_row": null,
            "grid_template_areas": null,
            "grid_template_columns": null,
            "grid_template_rows": null,
            "height": null,
            "justify_content": null,
            "justify_items": null,
            "left": null,
            "margin": null,
            "max_height": null,
            "max_width": null,
            "min_height": null,
            "min_width": null,
            "object_fit": null,
            "object_position": null,
            "order": null,
            "overflow": null,
            "overflow_x": null,
            "overflow_y": null,
            "padding": null,
            "right": null,
            "top": null,
            "visibility": null,
            "width": null
          }
        },
        "3ff3749ec0b04750bb98230650bbf962": {
          "model_module": "@jupyter-widgets/base",
          "model_name": "LayoutModel",
          "model_module_version": "1.2.0",
          "state": {
            "_model_module": "@jupyter-widgets/base",
            "_model_module_version": "1.2.0",
            "_model_name": "LayoutModel",
            "_view_count": null,
            "_view_module": "@jupyter-widgets/base",
            "_view_module_version": "1.2.0",
            "_view_name": "LayoutView",
            "align_content": null,
            "align_items": null,
            "align_self": null,
            "border": null,
            "bottom": null,
            "display": null,
            "flex": null,
            "flex_flow": null,
            "grid_area": null,
            "grid_auto_columns": null,
            "grid_auto_flow": null,
            "grid_auto_rows": null,
            "grid_column": null,
            "grid_gap": null,
            "grid_row": null,
            "grid_template_areas": null,
            "grid_template_columns": null,
            "grid_template_rows": null,
            "height": null,
            "justify_content": null,
            "justify_items": null,
            "left": null,
            "margin": null,
            "max_height": null,
            "max_width": null,
            "min_height": null,
            "min_width": null,
            "object_fit": null,
            "object_position": null,
            "order": null,
            "overflow": null,
            "overflow_x": null,
            "overflow_y": null,
            "padding": null,
            "right": null,
            "top": null,
            "visibility": null,
            "width": null
          }
        },
        "19dd6c43b2374a3780e1b112a99c723b": {
          "model_module": "@jupyter-widgets/controls",
          "model_name": "DescriptionStyleModel",
          "model_module_version": "1.5.0",
          "state": {
            "_model_module": "@jupyter-widgets/controls",
            "_model_module_version": "1.5.0",
            "_model_name": "DescriptionStyleModel",
            "_view_count": null,
            "_view_module": "@jupyter-widgets/base",
            "_view_module_version": "1.2.0",
            "_view_name": "StyleView",
            "description_width": ""
          }
        },
        "3914a81e81c34a6d8c69cc8af4a159bf": {
          "model_module": "@jupyter-widgets/base",
          "model_name": "LayoutModel",
          "model_module_version": "1.2.0",
          "state": {
            "_model_module": "@jupyter-widgets/base",
            "_model_module_version": "1.2.0",
            "_model_name": "LayoutModel",
            "_view_count": null,
            "_view_module": "@jupyter-widgets/base",
            "_view_module_version": "1.2.0",
            "_view_name": "LayoutView",
            "align_content": null,
            "align_items": null,
            "align_self": null,
            "border": null,
            "bottom": null,
            "display": null,
            "flex": null,
            "flex_flow": null,
            "grid_area": null,
            "grid_auto_columns": null,
            "grid_auto_flow": null,
            "grid_auto_rows": null,
            "grid_column": null,
            "grid_gap": null,
            "grid_row": null,
            "grid_template_areas": null,
            "grid_template_columns": null,
            "grid_template_rows": null,
            "height": null,
            "justify_content": null,
            "justify_items": null,
            "left": null,
            "margin": null,
            "max_height": null,
            "max_width": null,
            "min_height": null,
            "min_width": null,
            "object_fit": null,
            "object_position": null,
            "order": null,
            "overflow": null,
            "overflow_x": null,
            "overflow_y": null,
            "padding": null,
            "right": null,
            "top": null,
            "visibility": null,
            "width": null
          }
        },
        "a69a37ed74af4946a91a0e907516e4a2": {
          "model_module": "@jupyter-widgets/controls",
          "model_name": "ProgressStyleModel",
          "model_module_version": "1.5.0",
          "state": {
            "_model_module": "@jupyter-widgets/controls",
            "_model_module_version": "1.5.0",
            "_model_name": "ProgressStyleModel",
            "_view_count": null,
            "_view_module": "@jupyter-widgets/base",
            "_view_module_version": "1.2.0",
            "_view_name": "StyleView",
            "bar_color": null,
            "description_width": ""
          }
        },
        "860dbf16037e423bbbda502f2db17dcf": {
          "model_module": "@jupyter-widgets/base",
          "model_name": "LayoutModel",
          "model_module_version": "1.2.0",
          "state": {
            "_model_module": "@jupyter-widgets/base",
            "_model_module_version": "1.2.0",
            "_model_name": "LayoutModel",
            "_view_count": null,
            "_view_module": "@jupyter-widgets/base",
            "_view_module_version": "1.2.0",
            "_view_name": "LayoutView",
            "align_content": null,
            "align_items": null,
            "align_self": null,
            "border": null,
            "bottom": null,
            "display": null,
            "flex": null,
            "flex_flow": null,
            "grid_area": null,
            "grid_auto_columns": null,
            "grid_auto_flow": null,
            "grid_auto_rows": null,
            "grid_column": null,
            "grid_gap": null,
            "grid_row": null,
            "grid_template_areas": null,
            "grid_template_columns": null,
            "grid_template_rows": null,
            "height": null,
            "justify_content": null,
            "justify_items": null,
            "left": null,
            "margin": null,
            "max_height": null,
            "max_width": null,
            "min_height": null,
            "min_width": null,
            "object_fit": null,
            "object_position": null,
            "order": null,
            "overflow": null,
            "overflow_x": null,
            "overflow_y": null,
            "padding": null,
            "right": null,
            "top": null,
            "visibility": null,
            "width": null
          }
        },
        "f9a01922f5034487adb064837846a876": {
          "model_module": "@jupyter-widgets/controls",
          "model_name": "DescriptionStyleModel",
          "model_module_version": "1.5.0",
          "state": {
            "_model_module": "@jupyter-widgets/controls",
            "_model_module_version": "1.5.0",
            "_model_name": "DescriptionStyleModel",
            "_view_count": null,
            "_view_module": "@jupyter-widgets/base",
            "_view_module_version": "1.2.0",
            "_view_name": "StyleView",
            "description_width": ""
          }
        }
      }
    }
  },
  "cells": [
    {
      "cell_type": "markdown",
      "source": [
        "# Retrieval and Document Loaders in LangChain\n",
        "* Notebook by Adam Lang\n",
        "* Date: 6/28/2024\n",
        "\n",
        "# Overview\n",
        "* In this notebook we will go over retrieval and document loaders in LangChain."
      ],
      "metadata": {
        "id": "C99hg2BEpWjD"
      }
    },
    {
      "cell_type": "markdown",
      "source": [
        "## Retrieval Workflows in RAG\n",
        "* Below is the typical Retrieval Workflow in a RAG pipeline.\n",
        "![image.png](data:image/png;base64,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)"
      ],
      "metadata": {
        "id": "ISGifWzypgaz"
      }
    },
    {
      "cell_type": "markdown",
      "source": [
        "* Data connection --> internet or database, etc..\n",
        "* Load data\n",
        "* Transform into chunks\n",
        "* Convert to embeddings\n",
        "* Store chunks and embeddings in Vector Database (usually)\n",
        "* Use LLM to retrieve semantic chunks."
      ],
      "metadata": {
        "id": "jzEyf3U7p1ZO"
      }
    },
    {
      "cell_type": "markdown",
      "source": [
        "## Step 1: Document Loaders - What are they?\n",
        "* These are used to import data from various sources via LangChain as **Document** objects.\n",
        "* A **Document** is:\n",
        "   * 1. Text\n",
        "   * 2. Metadata (from text chunks)\n",
        "* LangChain integrates with over 100 document loader tools and libraries!\n",
        "* Document loader workflow:\n",
        "\n",
        "![image.png](data:image/png;base64,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)"
      ],
      "metadata": {
        "id": "8wSY6sSLqElH"
      }
    },
    {
      "cell_type": "markdown",
      "source": [
        "## Step 2: Document Splitters and Chunkers\n",
        "* After load documents --> transform them to use with LLMs.\n",
        "* Most common step is:\n",
        "  * Split longer documents into smaller chunks that will fit in the LLM **context window**.\n",
        "* LangChain provides out of the box numerous built-in document transformers to make the splitting and chunking process easier.\n",
        "* Example of docuemnt splitters and chunkers flow:\n",
        "\n",
        "![image.png](data:image/png;base64,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)"
      ],
      "metadata": {
        "id": "Gl5IcXqKqv7i"
      }
    },
    {
      "cell_type": "markdown",
      "source": [
        "## Step 3: Embeddings\n",
        "* After loading documents and splitting/chunking them, you typically create embeddings or vector representations of your documents.\n",
        "  * Embedding --> semantic meaning is embedded into vector representation.\n",
        "* The base Embeddings class within LangChain provides 2 methods:\n",
        "  * 1. one for embedding documents\n",
        "  * 2. one for embedding a query\n",
        "* LangChain has integrations with the most popular sources for Embedding models including but not limited to:\n",
        "  * 1. OpenAI\n",
        "  * 2. HuggingFace\n",
        "\n",
        "* Example of embeddings flow:\n",
        "\n",
        "![image.png](data:image/png;base64,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)\n",
        "\n",
        "## Step 4: Vector Databases\n",
        "* Used for document storage, embeddings and perform semantic vector search.\n",
        "* Supports common operations such as:\n",
        "  * Create\n",
        "  * Update\n",
        "  * Delete\n",
        "  * Querying\n",
        "* LangChain has various integrations with all of the most popular vector DBs including but not limited to:\n",
        "  * Chroma\n",
        "  * Pinecone\n",
        "  * Weaviate\n",
        "  * Milvus\n",
        "  * ...etc...\n",
        "* Example of Vector DBs flow:\n",
        "\n",
        "![image.png](data:image/png;base64,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)\n",
        "\n",
        "## Step 5: Retrievers\n",
        "* Query string sent to user interface as input --> returns list of Documents as output.\n",
        "* Retrievers can be created from vector DBs or other search APIs.\n",
        "* LangChain allows us to use retrievers with a variety of retrieval strategies such as:\n",
        "  * cosine similarity\n",
        "  * maximal marginal relevance\n",
        "  * multi-query retrieval and more....\n",
        "\n",
        "* Example of retrieval flow:\n",
        "\n",
        "![image.png](data:image/png;base64,iVBORw0KGgoAAAANSUhEUgAAAXYAAAEeCAYAAACe+T5SAAAAAXNSR0IArs4c6QAAAARnQU1BAACxjwv8YQUAAAAJcEhZcwAADsMAAA7DAcdvqGQAAIavSURBVHhe7f13kGXJfh4GftffW7e8b1PtfU+b8X7muXkO4APw4BmKpQtRiljtUsBuhITdoAKkJAr6A5J2RQlccoPcXWgJECSBB2D5YJ6ZN/PGz3RPz/S09668N9eb/b5f3lN1q7q6p8d0dfed/KrynvSZJ82Xv8yTJ0+ot6u3Cg8PDw+PhkG4dvXw8PDwaBB4Yvfw8PBoMHhi9/Dw8GgweGL38PDwaDB4Yvfw8PBoMHhi9/Dw8GgweGL38PDwaDB4Yvfw8PBoMHhi9/Dw8GgweGL38PDwaDB4Yvfw8PBoMHhi9/Dw8GgweGL38PDwaDB4Yvfw8PBoMHhi9/Dw8GgweGL38PDwaDB4Yvfw8PBoMHhi9/Dw8GgweGL38PDwaDB4Yvfw8PBoMHhi9/Dw8GgweGL38PDwaDB4Yvfw8PBoMHhi9/Dw8GgweGL38PDwaDB4Yvfw8PBoMHhi9/Dw8GgweGL38PDwaDB4Yvfw8PBoMHhi9/Dw8GgweGL38PDwaDB4Yvfw8PBoMHhi9/Dw8GgweGL38PDwaDB4Yvfw8PBoMHhi9/Dw8GgweGL38PDwaDB4Yvfw8PBoMHhi9/Dw8GgweGL38PDwaDB4Yvfw8PBoMHhi9/Dw8GgweGL38PDwaDB4Yvfw8PBoMHhi9/Dw8GgweGL38PDwaDB4Yvfw8PBoMHhi9/Dw8GgweGL38PC456iuou4EnzZco8MTu4eHx+eGT0uyoVXUneDThrvb+LTl8HnBE7uHh8dnxiKJkVkXVc3OIaDd1dRyrG57v2OxBNwfb6C+DG6tVre9M3VreGL38PC4YzhKCdXUzTBSpoOp2l/N9pZqpa8A9frVUB9mpbo3cCVi97NYBg5ycWQv0l9SNZdPoW4PT+weHh6fAKvTZkCoYXKOSCVQgf3HwUiwXtXsPw6fNtzdQDBE6b4jZHGVRahaoQqGwQqVZHTpa+ouZdgTu4eHxx2iSsKoIBKq2LVeZg8IPCBYkMyq1TJ9kMwCx1UQWEualSFYwrhTfNpwd4Iq7+HOUcuIgUQeKjtl5F1x5bACiyFCn3PGCU/sHh4et4TjaJE0iUlERxKq8OLsTFPztQRJpBWye5l8VQ7TP6+LizeKx/zLTNTcgnjMn8Xr/JmbKZkDFcQV+HV+HD0umR0CfRAXw9flYUmttOfgxXtg7uvsqFYNK3vdtd25/ZVI5iW6SLns8IcFtzTwUSnHsucA6O7rFnEvqno/t0eot6v34315eHh84bBIDMZMlDpDERJ1nKwRQbhKyqqUeHWEWS90Vik6lzUAhKOoUkXoHq0UKbgWXaShsF1Myz8RqBGmLPRTi8ySFfc5k/06OHcjyZpRuQi8KD9VxnFzOPO1aCOTiymwdyanYxzKAPNaS4VQyFoIOVFbMy3+ah5ToUPZzW04uwkjKluWVc2buyh/vGfzqQGEESlOubk43e8SarnjT8WmJrdf6PLE7uHhcVuIILT4Ekq0on39drR396NcyGJ69BpmqcKlLKLkGS04iNBKiJHUm5Bu70ff+gG0NsWRnx3D6OAVzE1P1QiRvkXm1C/SvPunClarJQHTTD9aBApITOvWZiP7WpgwI5WrzSRcKHqskbsisDhqekIu5moES1XzK1fFFI7EEI5yICsVUSlzUKKr/NlookQtrItJSvcg20ooilI4hXhzF3rWDaCztRXl7CzGh25gamoS4XAE0VgU5WIeJZZhCBzsKN0HUDqK0ZKQTunJbL8CcyeD3a9pzHYlPLF7eHisgKMEx1uSvsOU1NMY2PkwHn72GwinSFaUvjOT13H05T/F7NAFJKJVlCoVFEIk8VAarb278OiTX8WWLVsotZZQLWZx5cJpHHnrp1iYGUcySkqjncg9Eo0yyQpK5TIZOopoPGVEXcrnUKlwqIgmgEiC5MvBRUMMZwuhSgFlEq4k6nCEkrEGimKBOY8gFIsxf3QvlRFhuEg0xryVUShVEYslaUffhQyqpRzDUy8/TFNxK81QJImN2/aif/06XLl0CiPXLyJCpg1r9sGwZYYrUoUYr+WNxRXRckq5xDSAaNsG7H7kRezed9Ck9Wi1iKFrV/DekffQ2taBTQMDuHruJIaunGXQItNmvCwDpV0u5hDV/XBgUQVoaadEab9UqSIeT7MsmX6eA0KV6Wuhx40Arq7qEEk3pX+7pvfw8PAgmUgadFRBfiW10JQgsW/di+bWbhz74DQK5NS9e/dgbmIIY4MXKbGXzV8hlEI11Yt9j34ZBw4/gcsXz+LD948glGzH1n2PIFsKIV8OYfvOfSRHoFiNYdvex9DUvgHTWaB38x7sOPgU1vFaiaQxX4yib9N+89PRtxmt3evQ2c9ZQPcGTM4X0MLrrn2HUCHBzUzPIsVZwpZ9j/HaQ/cSejfsxsD2g4yHknLLOuw69Bw2bDuAaFMr5jJFlJlG35YD2H3oSazfsgNVEnUp0YF9T34DB5/6Ekok0tHJWSSbe5jOE9i68wDSHX2YyVWQaOnDzoeeRN/G7ejo7KIEXsD0bAYd63fhsRd+hgNMC956+z1Mz+UQT7cyrgR2PPQ4Dj/5JSur8YlJJFme2x96Apt3HUZTWz/mWAax5l7e7yPMz260dPYjV0ki2bEJOw8+z3LZh3iiGdnMnM2a3HMAB10DvSd2Dw+POojStbAgipA06JY9JBjOzMzj3LmLGB0Zw/q+fnR3teD6hY8wOXKFBFOm/Ehih5ZgNuHQ4y/YEsbLf/HvcenMCcznq+jbuguxpmZUQjGS/mMWXz4fwhMvfgeJ9gHMFSI4/MxX0Ll+GwltHfoHdmK2GEP/5r2U/p+nhBzFAsmzvW8TNu44gJGpLDZv24NDBw/j2uULGB0dRbJ9HfY98VV0bdyF4ak8dj30FDZu34/h6TyJ8Rls4QARSXdiA0m8HE4gnOzAo89+Dd3rBpBqbkY3pfSFUozkvRHd/RswMTmBmbkC9pDAd+99lBOHNg4MeznQdZKBO/DEM1/HwIbNKGSmMDl6HTOzC4g3d6N7w3YkObPJzi9gamoK165fRzZfwvpNO9De04eJiXHMzc1j94HHsGXPw4ikOm2WEGL85Vgbyf9FrNu0DQs5ln2sHTsPPG8DUKqtD5s3D6CYmWG5X2NNaYhYInQnv/tdMR4eHsvg1p61LGHrymbF31IeM1NjWFjIYM++fdizfyeuXzyNS+dPo1IJoUzJG4hqkRmxSAypRAKF/AIKJPdkaxsl/wjyuQIi0Til4hRKkSaUkWCYJM1tiCS7SeR7SLDbMTyRwdD4HMl1HXo27kQ02YJCIY+TH7yLY+++gRtDwwCJsH/rAXT1DBh5To6NIEw2myVZDg5PIULpvI+SeYoS7zjF4GhTO7bsOoiZbAVXhydIpK3YtOcQtu1/FOm2bhx55z28+sMf48rla5idmsHUyDDmSb7Xzl5EpJxg2MNMdwI/+MErGJrMY2DnI2ju2sxSSuLG9SEcefstTI6PIhGLWDl98N6bGB++hh07tuO5F17EwYOHUMxlMXT9MqYnx3Dpwnl7Xrx56w7ajeAnP3wFEzM5zi4eQrpzA8rRJlwfHMbRo8cQpeQ/sGkPZuYruDEyhUS6Des3bEI8nrS6MVKvLckI0nli9/DwWIQjdfcIVOQuaDdMldJtumM9Djz5VaovYWh0Em+/8w7mF/Ik5Q4kW/oQjabtpZx8boHkNUkJuJtS5kFs3vc0dh1+Bk2pFizMzVFKL6DC+KLJdiRJuOGo1pOriCdiCEVISaEQsrkcrt24gfm5WUTCFZL3KKaGzyM/eQ3jQ1cxTcl4y9Y9SKeaMXj1PBamR5CIlFHOzuD65fOUjgvYsWcv4wxj+MZFhMo5xGOcjdhEpILR4SFMjY8hbg9IS5ifnsHM+ASGr95AhnmPljgIaa2owLKwh6thZLJZzM7OYpaDm0pJA0k2O8uZwlWS+hAqpaKVV3NzGk3JOE6ePIG//MGPOCCMY9eu/di0cZP50UymzIEqoqwwnvzcAjJTs8hlc7zXsK2xlws5zE9qcBlEpJJHlAUbodJzhZGRIUxPT1ro2tC7JLIT0npi9/DwWISjCu1vcZKgFmbsgWS82aTWp174Bto616FYCmPLtt0YILlu2L4fjz3zVXR29wPlPPLzY7hw5kMGjuORp76Bh5/+Oh574jmkSdyDF04hNz2GJMl81/5D2H34EbS3xDkhmCDRateMCJKSfm4OxcwUcrPDCJemEMc8kpEsiTiPuclBkvwNDKzrZ5wR3Lh6FpXiPKKhMqKVLOYmriE7M4ItG7oQLc9i/MpHyIxdwuzIZYTyM6iQ/MvZacyPXcXI5dOIcRB76LFH8NSXv4znn34K67taUc3PojkZxabNJONwiXm7yhnCOjz2pWewaUM3ZscuM2/XEY/MkYiziMX0cJXlR55tSbfg4cMP44knn8LGgQEk4hFk56ZQYLqVUoZmcHbSj1y1iClK7xu2bcYjzz6Jgf4uLJDMi3PjSCGHRIj3GybpT18lyV8BitOoFmZQyExihmVYLOY4UKl+hDpmJ/wau4eHxyJEEm5HoJP7jDgorUZiafT0DyDd3IK5qXGQi9HeHMPC/DQi0TDW9fdRCr6B2alRhCNVWz8u5EpobWlFLFQxMsrP3sDV00cwQYk7EY+hNZUASHQzJOKh62dw6fxHlI7zWN/bgc6WhJHzyLUzJOs5VPKTuH6JgwKlZi1/tHWsw46tWzB6/RSOH/kxqqV5REwcZ5SVCqXbEFKhAoYufGDPAbKzExw8FtDd0Yye9hQJfhpDJPWhaxcRZv56ezrRQul+YvASLp8/xZnFFJrTcUr5FQzdOI9xSuWdbSn0tjdjbvw6Th59DZmZG2iKlzE+eBFTI9dtT7+2ZWbyRRQo7Xd2tHPw6UasmsHFU+/g/MkjKBbm0MJ7C4fylvb0xCi62lvQ3Z7mjOE6Th17CwtTQ0hHSfqcoYwNXUZ2YZaTjALjYx20JzgwjWPk6hkszI6zfhZldkNA7367o4eHxyKMDLRRmv+OJEKokNgroQRiqQ7E0+20C/OvbNsFc7kFk+9TFEMLJPlyMUvnMErVJCXdVqRbexBPJRGn1NrRGscMJdLBG0NIpNrQlEqjXCpQyi2iUilhfmEesWQKbW2dtiQxPTWBPCX3lmamHa4iQ4IrVONo69+Hx579NgY2rMe7r/3/8NG7f03pNm/LQNpvXwolEU22IpVKkcznKCnP23MAbWNMt3UhnkwaWS7MTttiUyyRRnNbO0MyjWmmmc1Q5I2ipZX3G09gdp5ScrGA5tZ2pJJNDDuP+dkpRKMcPNJJFPNZlLILmtcwviiK2uQYTtB/B5rSTbZfPUP/BW1T5EwlxcEuGo1gfm6O5VVBK/0lE8rTHDLznHlEo0g3xem2gGyGea9yYGUe0/QX44C4MDuJwgIH1Np2R9VZQOgBPLF7eHjcFgFBaJmBwjCJxj1Y1YJ1mKTv3LQG7NawHdG4nTXlcoVhSD7yGwkhojV0eqgyIsWjnenyrV/tR1c8WvO2+DgTMImUpC/3SjiCSqwZG7Ydwr6HHsPU+DBOffA6ZxBDiIf0Wr7gZhiMnHHUdozQGOKP8l8qlW1rpPajS4kWK8yL9rwLMRJ6mPfh7J2bBpmQBquywsocYV4ZX809RP96w1RpCbp/oUz/ZbnbvXMwtIw4e4VV+tqv78yMt5Yny09FZ82Q0LW+o4iV93LJ8qQyVB6FIM2V8MTu4eHxsQh2yYiuAzYxk7GHs5BWypkC/7Kgjh5FSmJZEZ355CUIbzbOquYusyNmkZ97pAsU9ZJQogXxaAp57eUuZkDhl57dg14XgwYMl1cXg4tPfixqyw+Nzpau7nmC0y3B7Gt+g8yZWX/mUfl2oZfCOZPOsDHupX8NJC53zr/z7eJxoWWkziJxMTnbQMmuFp9C0BjEdyt4Yvfw8LhDiCocVS6STu0VfZGUyGkJMuvi6GXx6FojRhseAifDIpnbTy1MTQU6nV+uA7ZElKhqOUhSMv/IeLKTdF8XC6PhdVmeiCDuW9hrZhG4WHhi0W/N7Dwst1O4ANJJOacgzJL7TfHWoebbAq90v124lfDE7uHhcYcQVQR0IXJxJHhrAllyEZ2L3B0Bmsk53BIurItfvxoMpNOhWZTIKflXKhESOu0tTvnXNk3nW6b6NGQOTEu2N2Mpxzdj1XAiW6YfzBeElf5uClcLY1r7/fxhMyUPDw+Pj4fIyJGyIyRRrXSBqsdys4UJac3ExeFQH3alcpAuSFVkZQsZnCWUtNYvdxKkhdBBWnaYlh7lKtzyNGq+Fm1Ww63sA6zqXks/uKsg1XrcFO4uk7rgid3Dw+MTwBY/7M9B9BRQ1EqqqncTAQZqiQSXCHc1Jbh0bCmnthQRxGPEbv6k00c9qtCRuXJbjvr4HAKbenUnuF24lanW43bh7gY8sXt4eHwGBBQt1FNbYL/kvhqZORK+nXIwMqSx3n9A707VBpvamv9yLIUJUE+wgboT3C7M7eJYGe52fj8PeGL38PD4lKgnzCXSXMJyeyedOzhyqw+7mnIwvzQuhXbzBadqsdBDqOoepi7Hks961Nve7HprfJowwspwnyTsp4Endg8PjzWHI/Y7Q+D34/3fbbp8cOCJ3cPDY83xSaTWwO/H+7/ToaLx4Yndw8PDo8Hgid3Dw8OjweCJ3cPDw6PB4Indw8PDo8Hgid3Dw8OjweCJ3cPDw6PB4Indw8PDo8Hgid3Dw8OjweCJ3cPDw6PB4Indw8PDo8Hgid3Dw8OjweCJ3cPDw6PB4Indw8PDo8Hgid3Dw8OjweCJ3cPDw6PB4Indw8PDo8Hgid3Dw8OjweCJ3cPDw6PB4Indw8PDo8Hgid3Dw8OjweCJ3cPDw6PB4Indw8PDo8HwwBJ7tXYFQnX6O4fC1CsPDw+PzwP3A588EMReX1Ah/dCiWq2akkE3ETIXczUEJufmYL7rIpO2suLq4eHh8VmwxEL3Dg8EsYdYUiJdkXeYfyajVyv8rSBMR9mGeK3W+ZMhJEO90mXRjwz6EZz/ak3JXF1UHh4edxtBF31QVY1R6ljDKf0FPtYSod6u3rVP9Q6hjImwrYBokL5cLtNYooHEzmGpWgkhUo0iEonSV4VkTgneyNndVpVhJI2X5RpmkXNAiIUiDON8OF+1SlE4Gw0UxrnIh3P18PC4O2icHrZcFHT6e8Eg9zWxC45m9RNCoVpGa1cbOlqbcP3qJRRJ0r3r1iMZbcLojWFUi0XyfRURSe9aqiGRcxhAiWRdiVCqj0URj8ZQyeYQoT/5KfMaDkccnyuZWtXYDKBm9vDwuHtQ33vgexlvIJjlu/upEQpRpcWSaW1w3y/FqMJFriLaAoro37EBv/C3fhkt/R0ox6t46bvfxmNfehLZag7htjia17Ujn6hgPpxHLl5GsreFqhX5aBE9uwbwlV/4Jjo292GhmgWao4ynHeVUCJlQnuYY4h1pNHW02GygvnI8PDw+X6h3qX+Hw6TDUJmKM+4HSinPtXwbpddkcxMKl6u1RiTdlP7tmv6+hZE7CyuPEqLtCfzcr30X10YHMTY7if/o7/wtnDh9EtdHhvD0t7+CbQ/tRqwlhaGpUWzbtwvPvvQiNu3bgYXiArYd3odf/o9+FaMToxgaHcIzX3sRB556BOnudozMT2H/Yw/jsaeeREd7B4ZvDKKQzSMSibBiXB48vihYOaD72v98wfLVkikl2TAFKLdU6q4PltKSrVNG4Lwt0pRxlZmpt1VhYq1b0ANC7K5YqpEqphemsYMEne7qQKaQx5OPPYk/+MM/xMPPPYlnv/UVZDmCHnr0EOYyC3jxa19GojlJUs8BqThCsTAOHD6It995Exu2bsQLX/sSrg9dw8PPP425Uh6HH3sEu3ftxpnjJzExOIxiLm/LNFqyUWV53BmWBkLXgZ3Ng6RqHdR0AXz9f54QHYYp6ZYRRjGcRjnagnKkCRUqXQMl88erVJ1azX01VR9muSp/QlUNpxAKJ9hmImw+rg2Js7QAoz+1nLVuPQ/Ew1MVisqrHC9jDgt4/he+hS9/6xsYHx5BaySJ3/3Hv4P/+Lf+AToG+vDqa6/i0J59uHbhIp5+4gn84b/5N7hw8RLWD2xANBHH3/07fw///T/5b/HNb3wTGzZswO/+zu/gN/6v/xDnLlxAX2cPcqOz+P/8D7+HrngapXyJI27YRmTfrT8ZrFlrQLQlrXtXep+1cQfjUjCwf9b4vohw1KYyVFugrMtC1O6zMokw3roePdseRbJtHaoVCVArSlh+TcNWVGtGzhw4BPYBhdZgFVdDnbWwwvgZ4KT0CIenOHLITFzB0KWPUFiYcs/5eK9aXw/8riXuf2I35Ua/SqyKhXAObVvW4b/4r/4hOlvb8If/6vfxoz/6c/zSP/i72E9J/cSpEyxU4IOj7+ObL30dk1OTmJycxOzsLIaGhvAbv/mb+IN//QdIpZJ45pln8epPf4qnnn4GP33tdRzcdxATlwfxr//nf4H17d2U2AuosPFp2rW21fLgwtWX62YltXoxezVsdbn4hHoN8WlSVLYVzra+0hCusuPq4buMiy1h7e/l/kdQNsuhMpOypRf2pnIljEI1iWjbRux98pvY99S3EW/usSINyDuAK2VnuXxw5W+tCpbsl+xEqqan02qChQtijothhE8qhEh4iaCEJGZx/cQrePMv/jdMD19EjCRUqTIPSmjlTa0B7vtdMfWohCsoRcsoxkP4uV/8RfR39eDP/vh7GLx4FZse2oknn34a0XgUwyMjeP3117B7zx48/vjjqJTKePfdd3Hp0kV897vfxcjIGN4/dhQvPP88Ojs7ceP6IN548y088ejjyEzO4o0fvoKOJKeHxRKJ3WSMT1jdX0yoIelpvDpHkQNiMdqEdFsfYrE0y1ANfJlMddcRNOxP1cDZYSsVklAxi/zMCCKleXvIp8h0D749rIZblExAbLxUOFiW0ERS34ptD38Dh174Dlr6ttiSTEhCQK22FMINCAGcZH5TXao+ZG8ORu21sNI5k8wBzJ9ZrLCnktm2PH8CGLGHykhVp3H9w7/Ca9/7Z5i6fhrRqEvLBp3g/tcQDxSxa1pTZrMos/5TTWnEWGC5TNa2NZbKFbQ0t6ClrRVT09OYn5tHhKXb1tZme99lp5prbWlhoccwPT1lUnsLzdN0y+VySKebES6TyLMFRLUthtVdDlU8sX8C6D0ChKLIRlvQuf1RPPT419DU0suS1Gtkaw8Tumv6O4GrZ+aW91Gt5FHKTuHyR6/h/Ac/QbiSodTJqTcj/aQE8MWAymSVcqHkKm7T0ovW0+NtW7D7sW/jwLO/gETXZkrvbBtOIrgJFVberepvidCXcDsOXek3QGCtCWUQ/DbRLELhFKeWYppCMxj88C/xhoj9xinE6ohdKkhjrfDAELsyqcIulksIcVosaapSLtpMH7YPXS8qhVAulUjccXvoqUouSuqm30QyyUYiKaxs8YTUQxlrsVi0nS9hTp3kN8xqSkSTrkVpICGxa/S/k4r2YEmpjMMJ5JMbcPDrfxtPff3XUI2krfzY1q3zrCXEv580SSMHklEYRYQLE7j64Q/w13/0T5GbvY4YGShckbTnW8TNUJksLxe1B5WlXhQshpsQ69yGHY98A4ef/Tm09u9ArqzNCdry6Pxb2dcgewlVVn+3qsSa/8Vg1NTnQHGsinpPAehX1qs5rQaLmjwhiT2JadygxP76n/wzTN44TWInmTPxe0Xs90KI+tRwhROhCpMsmPV0Ai0b+jCwZyc6+nsoKIYQT5DUo1oXV2MCYsk4YvEYA1cYsoqoOqZaEQtd+mQ8bmvyYVZQihK+FKplC8v+a7jTivZwE2BNq7XzIN7cj3KsA5lyHNkKVe2aWyMVpLma26qq5lfhMtUkstWUrQUnU+1IJdKIskFE2TB8e7g91AZEanrL214RpPRVDKUQat6IbYe+ikMk9ea+bchX2SNZmCLzgIB1XVRm4ZRddF2hnKc6BG7SrryutFuhDKvY30pZRAFWmpcb1hwPDLEHnSkiaZ2GPCXpdXu24aVf+Tm88J2X8I1f/lm0DnSjbXMPDj7/KErpMOaQRSZaRCUdQlYvLEWKKMRKyEcKqCZDmC9nUEkwzqaYvfxUqpZQDXNI4Ahsakle8LgDuLa9VF6sInsT2B6d1ax1UanWKxdudbXS7+3UauFtgOb1Vmql30AvaNLGyZ5kApsRhqo6p8gT+8eC5eZmuZr1aEsjZ8Tpfmw9+GWS+s+irW8rSpWokaPKMijvlbByrhX2or5mFpZJ91JKt145p2Vh6uOrV4uot+DV0qiZpTdjnb1mIjafl9mgVBdTvmd4oCR2lV2E4rVttIhW8diLT+PhLz2BS5PXUG6JIL2pG09+60v4hb/369hwYBsS61ppfh7P//xL2PTILlQ743j4y0/g2W+/iG2P7kHHjnV45KVn8NjXnkb/jgEUSOYl9mItvojYq7YM4/FJ4Nq7I3OtPUqFNBWnvb1arTK1K0lTivZ6OWVR0a5emZ+aCrqMkfIKN6lVw9bCrKZuSlt2DBO4OxJ3fw66BvpPhyDuRoOrcdGJSks62rCjlkJJVJv6sekgJfUXfxGt63ZzVhS1snZSvQu5SJo1JVg51QrLCQw1JSmBnhZt+BMQ+XI7F7+pen9S9X5XKv7UX/Wjqw30dVfZSbkMB7m+P/BAEbugSlJxVqtlTEyNYXJ+EqGWKC6MXcWN6TGkutuQ6m1DrCONJ196AY++8DTS67vw0q9+BxsP7MTXvvszeOSFp+inBS/+wrdw6KtPYecTB/Azv/zziKXTlCRUQZTMmI4ISY3O4xOgVlxWbiamryy/FXbqoFQBOVvHqanA56JvVU2glkEd1za4LYYLUB9kZVDT88ck9UVHF9q0RBCXMzuTfm+nVkPgpvXWwNxYYI2TyJ0E64hUpF5ObcCGh14iqf8y2jfsRaEaZx0Z7ZtyCK51YARqPhH+RDiLDlNpLTsW1hKq1rVprumjZLGbVERCIHsy3fU4zR56m53ic3ZazZUyfZ1ZfrQ104WvxSFFs4RKqQDW7sgVRkur3YdBjuZhzVCXxQcDNliTcGMs5ZHr13HsyHtIJKJ49MnHsWnLZly8fBlDw8O4cv4cDhw8hGvXruFH3/s+NtBt6+6diKYSOHHqJE599BF2H9yPmWIOFwavoaOnB6mmVttjG6py6sie/sAVzr1GXds1suZVSg3eNXkNlkEdOhUg6BK6qtylpF/mt6aCcObutLy6+grspNgXV1e39bMkny9PUEq/jrSCwWCZMh+rwx6iSUMGcEdNNxZcCXG2azNekXoClfR69D/0Nex7gaS+ca8OBGE58c7rbn6J3F0ciwNzpYTc/ATmp68jM3MdC7zm5oaRnR5EfnYE2blR5KlyM8MozI0gNztMM680Z02NOHf5pT47I73818zUS+Xox13HnLvMDJ9jXBmmlZ0ZYvouPumztF+YnUSF+VOdS3p39a77CO7F2SyH7Fazvzt4II4UWAmNkOF4BE+/8AzaOttw6dJlPP7oE1iYmsHEyDieevwJnHz/Q/T3r0dHSxsi2RI279iG0x+dwJ5tO3Hs7Xdx5eQZHH7qSVZFiBU3j9xUBiePfIRqXiO61lLdFq1Aslhqfh63hAhQ/+EYyvEObNz9BPo37+EsSHuUVYYiNTV/V6qumbuyDeQ3CkU1s1OqCRHxyi4R+F+pgvBhzbiokd6FDtSSXSA3BgOJg3PVxdaIywvIT13BpY/eQn5hkpKbQjD0auRsYRZjWAbNNOOJBDo7OigJRlAoFmsujQI35KlvlhAHUv3YuP9LOPjiL6F76wGUSfSLg5tQ01g9Uq/y1PKZoHX5cDmHyZFLOH/qXUyOXeOQUEExM4NzJz/A9MQYElH121FcPPMhFmbGEI+UMTc5Qv8fIDM3gQSl7smxG3Q/TjKeQCoKxncd505/wHqcprmKsaGruHz+FEq5OSSjFYxev0SB8BTK+XnEwwVcv3QS1y6fQpXCXwxF3Lh4EjeuXGCOI2jr6EIoGqUgyDbHfMdRwNzIeVw7/Q7TGzMOEeyel930ouGuYqk93+dQZ1KzqLAkQ5yzl/MlDJ6npB1pwcHND+H82ydw/PUjGLt4DYOnL2Nd13q89/IbiOQqlNwP4/hP3sbF9z7CjVMXUZnOojxfxtEfvI7C0Ay6Y60YZrhSNscpnApeSzBBJaxNRdxNODqr4S7ejkXNnyUKXZ6cylTmcLVAlWHjy7Oo8whXCohXSQfVIiI0R6nUkeKkCJkjdI9RH6Y7GDZSzdOtSLMLHyIJRGkfo3u4RL3i47Rd4UC3cDXHzqcr/So9XqMhhWc+6Ef+Y9SHyvTPul/KvyMdp1uO+vv6OERJAO0k9G1bt2Lnzp1obW1lhIxRkXySiO5jGEHzliqhOEJN/Vi/53kcePbn0DWw1wZ6lWP9rGupQKVRmeu5lsLLqoJoWLPyAoaunMEwVVdLAslIBVfPncTQxXNoT8WtnVw+9xFGrp1HZzqKUHEOZ08cweTQZXS3cXDJz+LS2Q8xM3Ydnc1Reyfh7PH3MDdxA50tMUroYzhz/F3OAobR0xqnhD5M93dRzkyhqzmOubGrOPvBm86cjmFu9AounjxCol9APCZSZ96tgQTq/sEDI7G7otOfZDg2gEoFwzeGcPX8FUzcGMGHbx+1N1DzMxnaXcbU0BgbwUWOsldofwXH333fJPrBy9cwem2Qo3QRY4OjGL46iOHLN3D51AVUaGfUw4ZVG2/tX01PaT6oWJZ362Gfh1JcNVWDk9l4DS2X2G15i2FUc3r9en7yBqbYabKZaRSyGZSzc5gdH6SkNYkSpaV8ZhazU5xq8yrpKc+ONTc1jLm5cZRJ3LnZcdblKOZnp9kQSpidHKX0Nm7hK3SfpwSn6fLCzATdc5iZHERuYYJ2UxwUipigBJhdmEJmfpaSYZF5uYHs/DTmM/NIpZtR1eIqb0SSY7SSRW6SHZoSe6FOYrcyWAn1c14CF92zXoDbsHEjtpLUN27YgHg8jtGxMczMzNCf82nx3c+w2Q/vu3a9Gaz3ahjazV1J9mHjvufxyFd+BT3bDqMYSZGsXd0vC1krKLuQ8W1t3vxp4Gc6HGznWX8TY0NIJJvQ2z+AKkX6Mc7I081t6F+/EcViAZNTExwo29Dd04tMJovJySl0dHWjp7cP8wsLmJmdQ0dHJ7q6eth+5jE9S0GOfjs7uzE9M4u5+QUzy4/CZtkee3r6kE6nMT4+ajOr3r4NaE63YHJinLNPoKNvE1q71nHA0s4etmnmP04hZUliH7/nEvs9I3Y15lvdYtDQV7qraVjzYElF2MEkAcxNTWN8SOttWUppUXBGhqyWVuYylMAqJIBZTI6Oo1KgNBiKsLHMccSlNCCKKZYxNT6FieEx9n9Kh4w7zE5d4UgcNMRg7fRWeRWWOiYbpF1v5/sewBpX0DGDcvysuawLHWglhRKVOmLvqyN2feNKkvU8JaYP3n0Vo8PXsb6/D5XMHI6+/To7zhDWr+smCc/iyLtvkrgnsa6vC3PTI3jv7Z+w485gw/p+SmA3cOwdzrbyOfrv4wB/Ccfff8dIvb+3k1Poc/iI4UOU+tb3tuPKhRM4c+Iop9ch9Ha048LJ93Huo/dJGAl0dbTg9PEjlPxOI9mSRnf/OhKUG4JE7JHyJyB2QrZ6T6KpKYU+ksuWLVuwaWDA3oDWm9CFQgGjIyOYnZuzMrmfodyZquVz9fwGdR5HNdmLdbufxaEv/SL6dz6CUtSRug7ECuIyBBoGNXu51/zoOYeS0cy8wP7Z2tGNrv4tHGybEIm3oKN7HXrWbwHiNCdSNPeju2+jvRQXSTRTP4AumqscUMLxNDr71qNNJEyz3HvXb0K7kXISiXQ7+jZsQUt7j4U38/rNaGrpcObmTvRv2oF0i9yTSLZ2omfDdsSbu5BoakU4GrMmfz8S+z1883T5DbpMBMS4WpZcodh0TjANh0+WWlhP46k14qKtOpYKXFK99HpYpd20mubJR1TmUpk2tNAjbvrlRM6F18tNDBelncxlkoNSUry6SgkyL8dKm8DnfQAroxASiYQtA2iNN8DnkcsSpZqpqSl7i1cvpZTYiQrN2/DU3/jPcOiFn0e+pLeAw2z8KtcMZkbO4vt/9kfsLBF897u/zkF5AX/+p3/KjpPGd37hu5ilJPWnNPf09uJnf/ZnMHTjCr7/53+Mga3b8c1v/xyuXbyAH/zF97F99wF8+aVv4qPjH+CVn/wIBw4dwnPPPouj772Ht155FU88/zyeefpJvPnGKzj2/nt4+tkv4dChx/Dqy3+N48eO4Zmvfxv79u7DT37wV7h08RKe/cbPYtfBJ5Etk9Q5OEW0PFQYx/T5V/HDP/yfrONGo2w7bBf2EHAF1CTVobu6uzAwsAk93d0m+an81ZakVEaXL1+mNDhubZOWtdD3ADffwnLUsqZ868gNHaSnvlEPG+Z4fwU0IdX3EB77xt/Bzie+gRzbgA2QcmZ4EXZ9goFOV9MvOrlEq0qnUmZbdeVdolkDRJRtRj2yrL5Ns9LXDjkJY3qbXHaKrKxomLgGYnvAqXzQSu/B6BTJMgeOiN5Op7v0ardyExHbPdIcDDhWd/YnM4d7zk7omxHqKQ2FFZrS1TkMfvgXeP17/xSTdqSAe6M2IHb5czlYvNG7insksYugdYMsGBVc3c0Gt+5sXXEaVEp2Cez4ywoQoYcpqav2RPA6EkAMrj+Tuyily95MOv/FRHB3DcuNncvs6YOGWmquMg28WuOU3Yq8CrWQVLU0aibl736Byqsp1YRt27ehlZJjIhFHiuamVIqSJa+fWrnwUTbi+fl5O5NH5VZZ8fBUErs6nEo3hCKmp0ZtfbK9s5/5aGc4Eh7NrV29SLS0gYKakUJrezeS6WaUOAhrJtXc2oEkJaVspoBoLEVJrN/MC9kc4pyuyz3R1Ix5uqfaOtFCFad5ejaD5vYuSl7d9NfC6fk8B5F2ulPySjZjhrO7Vk7Vmxi+jXmqap3Y8st0Sxnkp67e9PDUems91EZopfX03t4ebNq02aR0EzLoXO9dx15ocE03p638UsvKdK3UndW92klKx3Gwr6mOdVXZBDAdzXpjgZWH1r5t6N6wA9FUM+mOTmwPYZFkzW+ghPqrEaC1D7ZWFRjLLRyhuEXyraqfxqRnP2f5k5GtPUg5cmWv1zEikVjND/2yHkIKb3HQ3vxHGZxK7uZX4Z2SncLRk8WhuMIMp3OP5BdS8k+leOhgVKK8a6jRK45feIndkaPr5s7sfq2K1BBYUNZ96KzRuWLE7KrdfIpsWW5ljuiKR24asa0EeTFSdpFawdbDDQoOCqdzZyw++atVghE0rzp7xtb7qMpUqkiT1qzJ1sJYPDKqIlnxBvm1VzCc8R5Bqbs8VrGufx22b9+Oc+fPI5NZoL3KLXD/bDkVUS1kMhxkdc9AUWfFpG+W2CXZREjsC/MTFMZK9MkuwSA62kFnAFXUGZgfkacgyUqZ1L5kJoISBw51ONnbLI31JCIt6/wghtN6qDOXEY+zq9Ec0UOuUgGJWMLOAorF4ijmsoiy3gsldshEEoVCntc4CsxMurmbacQtXeU1UZzA1LlX8aOaxB65jcQuRJivZkrpvZxtrFu/Hl2dnYjF49bGJBXmOAidPXcOIyMj1vnvfQtZDcG9Kc+qB87CWMdZSu3umID6e3dxlEmAuVAayb59eOyrfxN7H/86KvFW9htWHsOoCpeHq4NZ80dXRSdpTVJ4Kc96teHB+rqahYpdg6WEasucArh/Cx6qlakkevlV25L0rv67rIfWAqivW33KPxNQeLcUq7p0CZZo1p8+DCJzucL2TMFCA4HaYox9PWUS+1/eNxL7PSH2Mu9UJK2EVYDS6OqUXGr21Gj5RHShs73LrHBbTtEUS9MmVkSEo6cqXR1Wo3KEBarOLSnSprqrFKQOApMUWCoV2ek1jaPidEyEoLikN+mficWowkbartNaZpkPvUEpqFFY5VmO3WvSJuJbrnW9d3ADoAauCjZTguzr68O7771nywEuz4Ra3WdFLR2LicWgPcyrE7s2iqm8XDN3pePagVP6dflRJ5bJCJzxq1wDO1fyLv/WXlyhW2c2f8yD0qty/s85hPljy7Cr6kt50L+m93qpRoO72pZZVtn1dWEejdhLU0bsP/yD/xHzd0DsVvVKg21Ry14i936We1t7O9toFDPTMzj2wQf2foVJdbonhVljBISjUrxt8rpXXtSXrD+tmln5IQFS8smGWtG25TE8+pVfw7YDLyCUbGO9iBQZx7KwQfnRTmXAenBDhp7DsO+UspgcvYbRoavs6xHO7rrZ/6o0D9rsrLO7D0UO2KMjw0hyRqHjtzWQj42O2Uyjrb0D+VwGczrFlbO+Vs7eMgtzmJ4c58yuFZ1dHfYAe2pyBi2tbejoaKd5CnOczbW1tKOrvQ2TE6MUWBbovwvNzS30O4JsoYDmjvXoHdiJcDxls03twPLETjhypkaNhp1L62aiRXVQuRWsRNg5aC9zNJngFLkD8ZYUwqk44ukk0ukmSmUJNDU3IZGI8dpsh31FYhF7KKblBpH9YnnWoUICz+fyKOTzyOdzps9TGslls8hSzc8vILuQRWmhiEq2hPnpOczNzKKc03Y8dzqkGmmMhOCInSTC6Zx2BijrSpTdX5p7ChGik24q2LRpE3pJMMfef3+R2AW71vSfCu6GDRpA9IKKPmm22hp7jF6NVEm3FWNAV0qalVk2alEpSnVxyxbDmT82BNPSr5UsHS3XrA8NtCJJ3Wcw+xIZqDPpSYp2LnCoN/8Vkga52RLRDocqw4UiHBQYh7hdA4mlx1/t4EmUJj8ZsUsx/zYY8S/BNirS0c6Ynp5uExpOnjyJqyJ25tGyYiHvFW6TeuC04l6tjGv6AHppUDVZDMeQjXWha9tTePTLv44Nu56wh5YqGRtCGNaVUgCaadSsXAKfOEDbVuOVLEavncabL/8F6zKK5772TZQ403rlr/6Ss6p2PP/1b2F6dgqvvPxDdHd24bkXX8QwSf7VV17Bxg0DeObZ53Hj6iW8984b2Lx5Ox594hlcOH8Gb7/9Ovbs24fHn3wMJ098SPf3se+hh/HYYw/j+AdHcOL943j08adwYN9evP36yzh75jQeefpFznZ34d03X8W1G4M4+Nw3sOPAM2wdMWsLFC3R5IldCIhPPYvVbZ2SHZQlUImHkexuR0tHqz2EaqGk09XXi01bNqGtrwuR1hTiTQmkUyR5dgydqR4nsVsnkVjAf03lRWgaGBbL0rUfS8NJgFQiAqpCXpK7VMlGfU2Xs/NZFBcKKJDcx4fHcP3yFUwOj2B2YhKzU9OYH5tEcS6DEsPa2p2tu7Fx6rYYd5DsvYTu0YidV+3MkMT+PoldOzMCQv9880jSZVrlSJLEvn0VYlenLWFhbhyFUo7MSRleeaDEUyrkWF8xRCPsLJTwtOyiWVeEZuW1UOAgy/ijGqxtVuVk8Wg8jqLC6iEb69JmcOUS79sRe5SDfT6TRTwad9JVLGYfz9A0W8dH6KWhXGGBWYmjUI6wvXUzTy5fn4rY6cZkXfkS1p2pT7G9almmgwLK6MiovR3tlpyW4vl86+L2CPrAHaN2P6vlUbHY8wiWlwSxXDiFYqwfvdufs22Pm/c8hnI4qW7B8PyxdIOYzHIFsZeM2EeunsY7P/2BzcAff+ErKFMIe+PHP0JTuhVPffklzM3P4PWf/gSdHZ148pmnbXnrjddfx4YNG/HkU89g8NoVvH/kHQxs2oqHH30Cly6ewzvvvImdu3fjkUcfxpnTJ/HBsY9I9AfxyCOHcOr4MZz88AQOHn4U+3bvwntv/ZSDwVkceuJ5bNmyHUff/ikGmcb+p75GYn+a+Y1bW2CL8hK7A0m8ojfvqijy7kOJJJpaW7Bu00YM7N6Cgf3b0dbbgZ7eHrSR3JvSaaSaSOQJdriYpGNN2tQ+GFaNQmtgJjHU2gzjFWWpMIPr8gJ19oGVi4cduTYQmBuj01KM9s5WS2VkOEVb4NRtemyCU8QJjF29geunL+Li6fOYHJ9CZm6eUjwHFEl8vN4PH2JYRuyU2Pt6e/H+MRJ7vmD2VirB/X4ukMROUmbHXn1XDDtBJYOJwXOUlo7pTGXs3rcf5cIcPvrgKMmvFfv2H+AsKo+PPvrIljL2031+fhYnThxHqqUVu/c+xMF1HBcoSbV391v469ev4OrVy+hmW9mxYyeuXrmCoevX0cfBbJueK5w5hemJCfT3bWIn34yLZ0+wzkaxcdN2DngbKUG/j9n5HPo378WWvQ+jpK17LJOoEbtbY/8kSzGBiytfmTjgaTmCZa4H1mqPmhka6En+BCOBmv5uw9LkfXx+UJ/UcxMO7CE9SkyjnFiHDftfxGNf/WX0bjlo9m7gq09XfY+/bB/Wq+kW4axKL51NjQ2xnoYoNLHcmls5GANTE2McrBNobm239j0zPcnBPmYf2dGArt1ZyVQTWthWNOAvzM3acxSFL+SzFMomkWxKo7Wt1Z41zc8tsN2l0d7ehvmFOSzMZyg00p2cMzMziSxnCU3NbfYQeXZmwgSOZEsPejZuQyTedN8uxdyjXTEkgHAZWb0t2J5mxT+HF77zLTz/7Zfw1DdfwO4n9qJ323p0rO9BU1cLqnF2phjsaN1ypUBVZAEXKHHxSkm7VCnRTuvjIhZKcyxEdT47t4JXW5tfNDsluxL96qFdiWF1qmNRivpCuUiJskgz3SWFUBiPpmJo7mxFO2cN67dvxrZ9O7HrwD4M7NqO3k3rTVKZnplCIae3HLXebOsG9xxqWGpS2qGhh3rDnHXoWYIjHLmrqX1ejc013/p97PUvKGn3QAR5VHJTeOfNV9gJp/Hww4dRyc/jnTdeRZYd7eHDh0n0Obz5+quolAo4dHA/5qZG8dprP2IHDuPAARH7CN567Sdg28X+h/Zh+MZlvPfGT9HV0Y69u3dg8PJFHH3zdfSu68XOHVtx6dxpTrHfJakPYDPJ/uypD3Hq2BFs2bYNA+v7cPr4UdqdwuZtu9DZt45tM2r51cOycDmD3ITbx37bXTE1yDZwWfRBjZU3A5Y4KyyxzanTGwIN3eVnMcwDB3cfavdq/VruCrF/zs2MI8tZbWffRjS3dVOk0x26u1y81+DeGYXZ8UcLHPGmFnT0rOcAvh6JdBsSze2MZwPauvpsH7n2m3f2bEBrRy/NbUi3dqGnf8B2S8VpVnqdvUyX7lH6b2nrQbfcO/sZXwfD9dG80faxx5KtSNO9w/z3IJ5qs5eQOikMpBhPjOkr3o7eDUy3E6EIB3/VKSER6X7bFXNviJ0jXDlaxpaDe/CVX/4Ovvk3fx4Hn3sUPSTzcEsMpSgbP5uAKRE2CVYPs9hSWISSlqQUD//Z0ZYU7TS9VUnahZ0wsLtJOXs9OJMyO/4bNfFqsDQ5qPBPg4fOa9dgoL3tiEfQ3NWKddsGsHXvTmzctoUNqRXTk1OUCmac9O/a+j2FlQGvS8Q+fM+I3WSyah5T02OY4uxHWxA7OnsooRcoMbstiXooli2UMENJqpVTbD00m8/msZDL28sqHV29WMhk6afIDtpDuy5KVrO2Pt7R3WtbHKf1EhpT6+jpRwsluynWSTym5zR9JulNTEjKi6O9t48zwWaMjk+wIzez4/aiq7vHvXhijYmxFBeQn7yKSyc+ObGvhqDcJW3WNw8LF9SJ/d49WLqLI8vnDbUm16LC7OeVUobkPsUBDWjvWYckJWd9p0wzIpWwwTXCml5KZvVJLYk5FY7GaUUy1RZEqgjrMxxJ0DNngyTZcJT6mptUiP511VvQ2q6onU62bXHR7PTyI7cgvPxbWlTSKz0za6cU0zf/ilv5q2VbLWL5WTFfuO2OukntZM6ia1sv/t5/+Z9j19OPItRMMte5Huqd8lW7f439ZrYf16HUHdz1dqgvvMDnJytQlwU1PuoYhaVai0ovRCxB0kkMUU4pKlNZvPK9v8Af/C//ErnpjD2wW9591xarL8Ucs4fGa78Uw3Jiuel8mMnxYXuWodfrlbrKSOv+ypO+RyuzyF4vjGh9VdAUWBWgh5F6FuK2s4UQ4zS8yPuxB+0UAhKcdutlGhvoeYMJppHVPvdE3MJpWW9hYZ5hXblo7Vv7s5WOwutV9HAsxTaqZYMKYoUxzJz/qW13nGXHvd0LSsKi1LkKVB+C8mbamlm/ChMQ+4MJ1Zr6r+rT7ob/7s6KoSb28c3Y8cTfwCNf+xUkOwaM6LW0YkszvK66ckknOSuWRdTKTA13tSCLkGN9wBVm0/JneZHfNkaD6jCoJ+VZZn1zwL2g9EVdiuG9qbNmKLXte+ZhfPc//lsopaLI6CAnbTANs9DY6N3LLHWkXg8rJKdxDej2+LTFqHDWLmt6g1m6CrWGJXIUgWj0roTQQqmvp6UdR157C2ODY0hSqhAJ3EuoYSkH915il6IjK1rTaD2kbGrWC0UtSKbbbTqsqXQi3Yokp9Hmzql2LNlsU9/mNr1g1GkvGCUZLk3JvIlT8zjdtR0t3dqJFN1jibTp5beJ8Sq84pVe8UXjTWZOUZ/k9DqWarG0UowrxbQlpVW0w8kyS2KvZm0pRi8o3emRArctTYardw9ah4W7RZwPBtydq9yk7FZ4c5rvhjigF7ILmJ6aYvmn0NM3wAG5SS7OP6+3vHeLq95NvEDzopU09SrASvsVqr7gF7HMsIh62/q8SKfurQHqfluKcamvCRwN2xSUnXxidg4TnCLHOM2KVaMIVTTCUVmWbp8tVzSKz8V5O/V5QG2gPi51TaWsLXgocxCiipO8IqWqHQGs7ZPOzxcLut/b3bPqVqvsIn4d5VtguZVZ97LTbqIyR0zXBiQ9c9DUnnJNh6thDkbady5pmeFprjBsSQ+2bU9CBEWZGabCsGX6KSmMCJrTZ8Uvs9kxPfmzuJQX+bV8MGyIUj1VydJ1Nfi5jssWZ01buwqmryOMBxGu7nUPS/eoe1Kd6zcRyqI0fRGn3/xzXDjysg50Mnt7l0B+VdCrlXV9BZi+pha10terW9mvUAFucpNdnVquvQn3a62tIbGzCPhvb2qFo7h8+gL+5Pf/CDdOXUK6EkVLNIV4OGb+6IUdzT301KNQexgqxfCa7EkFhX27Qv+kWBnnktJ+aDVCrffX8qNMkoh0mFhzOIFoEThz7AR+8Bd/ZS85uKm9W1q6v/H5NU3F9HGxBRLdomKIRaUipR9bzpCiXm84iCr05z6CUXetNV+rCl6dYijG60K7OE0fpFVzs1kWVb1/05sbrxaOFxfBIuTj0+KmsEzH0tK1ZtVwsHtze72T1QVkhk/h+Ovfw+UTb6BamDcv9maorlSqy6CPO+X4YFG/zO3zUIqzXt3sRy1AaqW95VdhJBSwLVr7ot3NdSnbtcUaEru7PZuakPD6Wjtw+r1j+P3f/Z/xxn/4AeauDiKaKaAp4l4s0mFcWpYRiRrBi1CNVGUjqV+R1Sv+0P8nUrVOJRXEp6vFzz8to7gBRvpaugynPeupWAJpSYKTc7h26iy+/+++h//X7/1zDA0N24tA2vmgNeMvEqz5sqxUlMtBOzqava41ZSf50Up6C1yzX0SgD9yJxbjll5fAf+BVloH3gJPr9YK0NhhIU+ffRShNzUzUjDchcP8sCJK7VRqNAFeuGkSjRjaxygJmbhzHh2/8GQbPH7PTPtUVXX3UyFXXQM8wUkaa1k/vpmI6gVK6/JHSwFOvD1RgF6j6NmZYaV5DrOkau8ZurUvnyjkcfPIwvvKtr+P4++/jnTfexPXT5zF09ToWZmdtfSrK0k3HkiYRxyMxSvNRRDm11lZCO9WNhab4gl/BClY/i0rm5cqWggK3OriYSDZUkhI5rCAWiiHBHMSYrppllCNzqFhBYTaL8WuDOPX2Ebz2F3+Nl//iB3iD99DR3oFvf+c7uHH5Gi6fu4imZOqeS+0aSHWrt15jXyq/z45auYbjKMc7sXH3U+jfshd61dzSYUK3U8rIss51p0pJ87oI6QNzoKeS33q9mYU6e8sHG4Ebnqr2JZ/81PXadsep2ho7U5RHS3gJClF//cKDBWFlwYIO5lf2rdJQCZnMLDIL82hnn+ns6mKfD0HfL43RPVqn9I3TeESz/LVQHHhILC4furr0b6Xs26rMYyJcRiqUw/zoOVw9856tsbuXz9RMVAjSO/PS9e5iTXfFqHolhU9X5vGlX/omfuO/+i0c/+ADvP7DH+HSR2cwMjmOVEsTBgYG0L2hDxt09GlfL9q7OtFBpeMDYqkEwixRSfQqMC3PGGodzv05ONJyHoIp9ZKry4+7EnQPrnakb7EEFDkS50pYmJmzQ/inxscxOjyCEUrlo1euYWhsCDoTvLdvHfY//gieevIZbNuwBb/zX/xjvPXXr6KruQPF8r37BJru+Xa7YlR+QfF9HrCyVfmFU+6smO/8H3Doxe9iocR0mJCej98Oqpml2vkECG4iCLzS/HGo91/T8zb4U7Y3T2e1K+YP/kfMjZ5HNMZ2xtnYUqDlWN32i4FbF3fQD+WDgg77qj50jUQ3Nu55Cvuf+gZSbb1W5jpHaHlErp3ecV2uMdTHtCsmUV3A0Ll3cfTVP8HM6GX7mLZrT8G9ry3Wltg1ckdCmMA8nv/Vb+L//E/+ITtJmRLRLKdlV/D+e8co7V7F0IVLmJ6fQ6lUtQN9WpPN6OjuQHNfJzp7OtHc0oL2znbbupZsSiGeTLprQntdSfpsOHqlXCf4LRZsrV2J5PQ6ur3QxGu1XLGzU3ROTF5HCWQymNUbplPTmJucwTzV3Ng0ZmiemZvBQiFvZ9P09/TaS1T6QLY+ij2wYxMSkTiKk1n8d/+nf4SjP34Lnek2ewFqNVidO63BDTifbxP4OGIPpPbPF1Xo+5aF1GY8/XP/GQ6+8EvIlKN2s9o94O58daxZQ7wtXJkYlxixT5HYX7PtjjpHXtsdHbF7fBIEdbs4SzJQik+0orlnCxLpTmuvcl7WDizAskD3HexFtmrBPr49O37D3qTWEQta3rE+bTOWtcU9IvY5PP/r38B//l//lj0VT5GEE6EoMvMFzE/NYUTS8LUbuHrlOiZHR7EwPkNSncV8IYscSUmllIhEkCSRJuNJd+hXLIl4Si8fsLGYilCy1zp9jdytp/KfhG4SufZCFyvQ3uVirmivsdtBYIUcMsUsJQo3A0jGE2htakZzczPSHa2cSazDwNYBbN25HZ19PUhwhqFZRlHf08wz7nES+2/+No6+/A46SOxaa78JVsvKz90t+lsRe1FnxYjYa/4+P+h+WGqhOPLxPhz40t/E41/9VYTibdbIw5LGzM/9jlpe2TYixSncOP4jvPan/xILU9dYnry/Ze8xeNwJrObrG1y1Qj5QObqdSnoAaaNpfft4AEjdcswfPftT9qNsN3qUqpcwXWvXEpTI3byvGe4JsU9WZ/H8r73kiN3uWBvWePuRJItA2x9ZNMWSHd6UmZvD/Oycvc05MT5ux3LOz85Smp5CYW4BhYW8vdxSyBZs2UMvrkgSF6HaEQMsWuNPFrrGTS19aZ0+GonaqZK6xqIxSvs6TCyOWDKORGsTWro60N7diS6Sdwev6dZmpKh0jaX0gJeDCMkxSwlez4ZUtfFSCOXxDH7nNz6e2JUn97UXB5Fv8HUXEfLngVsSO2co9Wl/ntALJ/qAQR5ptA0cxK5Dz9nr2XrS4M7WXrPm9qmh6nRnmnCgpvQ1cvEDXD19hIKAXmxy9nen9BoTqnGrdWv3S/UvvQ5jc5ucl+yXoAD3eUkze3rI644id+1GOba34+1P7UnEvrb3cY+InRL7r36NxP5fohjWSKc3ErVSpb3s7sGlLRWoSFS3JLsQlaRsmlASkedzKOVJ5pS0i/miKX0woVxyxK6PKojAdDCQHmDqcC4t0egUSG1FFDGL1GUWoRuxU/LXaX/66EI4TuKPRWFfbtH02yrKVZjil8QhcnSEpT3XVcRI7JWJHH7nN/8R3v/x26suxVhFqxGoAdQagx4W6xNq7e3tGNUMJZOxfNGThfm0sDQYt65rRewUaFlrmohG7BN50WQLLSiRkdSrKi1r9c7v/QhlzzauBXmUcFDM2ImQagEqNkmaqxORx2pQSVlpqS/XFZvKWj2AtGiEaBb1CALd5HB/we7PpDuXT/0aqdcakVuKWdt7uEfErjX2rxuxF8KajhWN3HQmhEY/VzAiPxWYBTU7awTU6Gq7Y0jUth85aC0kWyEgWh3J6z6+oMFDg4QGDIVRGiJl+gnCys6Uid82GNgHOBhW/gy8uLDq/MqpqEomvegiYqftRIHE/ts4dgtiVzo2IFi+3Cvt+trO+vXr7RNpR48ewcTEBOKx+FLePgXUsCy/AbEPDNg3RI8dc+exu3PHP3/ooySuhDgA6rQ/m4FIomFZ6oyd+xjqh66d8dcanu5Fy3kyOgpyf67uPe4MKikrLRXpTbCeXvNABH4Wi9fVyAMBZtP6nbSL+Zf12uf/7vTuj4HrOEraTcL0CremMiWaypTsSAG0YxFZh3JeZZa9HcZFssyXisiWClgo5TFPNUeJaq6cwzzVHCWs+VLWjirIcdDIh0p21WmSmQrDlBmm5ndR0f9cgeEKC8gyfL7EEBWdAa6BR42PhWX1oxoTodfyafrAh3lYFS4UFUlWV30UpKenB7t27cKePXuwYcMG+5xbsBQjFZxE+WlUEIcGt2AQYRETt87jZ4ViVn3py/SS0HUIVCxSRSIKqhASkfB9reLRmqLw4fQR+5iKBmJJ6MGSwd0rwQbHYieoVyxNKpWpKdrVD7CL9vexclC/dmxgqsbs94LUhXtC7CoC1V5w6y4bko7M2uDWOCkZSZGYZHa+JHk76dv+6C0IbR+lrlDVGotrMDWpy8JoecPZS4qUdBnhLGFRhXXVQpD824IQ/UoxgRpRuquIUnKGurkGJifNLZG71Eq4G9PMpL2tDTu278D+/fuxZesW2+Uj6GvpblYhKdFdP7Xi/Wo5Sw+SbbmpduCWw2r5++ywYrI/NW5WBctRJ/mVmJ69sl/RQV33v9KRBE5pkSCoOY9Pi/pecSu1um2g7m8s5pDtxVYlaupe5v2erbE/96vaFfN/QUG7DNj1yT/GucFk/fbFcnOWnY0LITq/NZSeQ+B7NSz5cZQtQq9ZEDJL40jd7JjxeIky3UQe//1v/Dbef/lNW4opLC7FVO0h7caNG229W+vp+kCA7DVgiIj1seDLly4hk83aAPBZ4aR0lgYHCX1lZnp62j6kbPY1Px63Q30pqf4Dc9A6PDzuT3x29vjUWL1zGIl+bMdRB1uuAjJ3v0EcqykH509Yzc+Scr/MFYnXlPRmpr1I3WJyyn4VoAZp610lQSdTKZPQEwmdJe2wmHde5J5uarL9+59V6YGs1vBTyZSR+o0bNzypfyIstQOHer2Hx/2L+05il0kZCsjw1nBDQL1uyXwzVrvJlf5W87ME+XY+ltKTHTMuqbhSRaJE4h/P28PTo5TYg+2OkpoVQuvd6eZm9Pb02NfrOzo6jHgDyXpubg4fHDuGKZKwdu3I/jOB4a00+a8HpjoDXYOL7D08PBoX91Bi/3gYGRqN3kzVIizn4khKv/J1s0+HwK1eufiXsJofKYclnyvD3QkUj3bOLMzP48qVKzhx4gQuXbpkH+DV9knb3khkMhnMzc5iXvv3P6OaY1r6iMT8wrzt9dfg4Undw6Pxcd8QuxFohbyjXSHUOjInbdPgdnXIw3JIApZ/wXxTW29XD7mZkl4WjFDxmtZ+CdoFSxVBfLa0IvuaXwtLyJ99RHsFxZt3p12E/Epp3Vzkqi2Y+ujApYsXcfIkCZ5XHWMgSKIWydubs9R/FqX09GUhKZmDvHt4eDQ27hmxGwHWmEZkpzO2oyFtMYszU1ouIBHRTvoY7bRjRSYtz+hPOp3rHiNpKTJFpZdj4vYmqfucGiN26RjTBiFdWqQ6JPTtw8DW0qK9dpPUzMFAIL/xKP3KTKXwetip5ZIgDfNYu9S0t4RtnyPR6mGpDhc7d+4cjn/0EQYHB1G0l7CUZ4vVw8PD4xPjnkrs2hRnEi9JTBnR0bjlnL42qW2IIneRMC8Fneuit9NIuUa4bhColihFl7VPmsRPNx3rq7fWdRZM1D5WG2YabsEmgEhbRwnEROAMr7QUl8g9rPBKU76YruyUJx0ZHCppHzNd6G5HCdNvqaCTGxm3kbuI+JORsS2NENlsFoM3buDihQt2Zs3n8daph4fHFxf3kNhrdCteJImJXM+ePI2X/+qHGLl6g+Sp89AjuHTmHP76z/4DJofHXGZF9OUKMjNzeOOVV+0s92ImB1I7Srk83nvrHbz1+puYnZ4lgVNyJxFbIlIkfRF3lYPBpXMX8dMfvYyRazfsnHVR++C16xZfKV+0gUWDhYj83IlTePUHP8Iw/YrQNSBcPn0eb73yGm5cvsKUmYyWarTnPrivO4HIu0bgktC1vq5jEwLC9/Dw8Pg0uCfELtrS6z8iRL18FKeEqoO+jh/7EPNTszj2zhFUKbmnIlFcOXse77/9LiZHRvTRSyNcDQIXSPhXLl7GVaqzJN6WeBMKJPbs/ALOnjqN8eERNOlDHfSrZRQ79IvpJGIJzE5N4eh779lHJ45/8CEKlJjT0SRGh4bx9ltv29G9lk44jPmZWbz/7nuYGp/AkXfeteUfzQg+eO8oLjKdY8xblZJ7hDelF5eW4MnZw8Pj3mBtib3GdUo0QkFVX0nSVQ/3dPDVwsKCvUgzSRLNzM0bqSYTCbS3tuLapcvI0Y9e69eJcDofPR7VCY1hjJKgdca4Rc/4tMaeTiYp1c+ikMmiwHhzVJmFjB0epj3dMzMzaGG8E5OTmJqYssPEtP1QEnSpWESFswK9mp9leG0/bKebDujSUkmGdiL3UpZxjXImQb8aNJzsXYNJ4zW9h4eHxxri3izFkPDcGrbeuAzZQVki2f4N6zExM4Xtu3cjU8hjZHwcfRs2oKuvF22dnRgcHsIQSVxvUm7evNmiikYj2DgwgCuDV5FjmMHREcbVZic4DtP/NIlbA8XE2DjGGd8IyTkai2Prju2YmZ/H5m3b7CPVw2MjRuw7duywrYFXrlw2Em9pb0PvunWY5kCwk/ma5HVmbg6bt25DuqUFu/fsRSTmPlxdv4TiOL3+18PDw2NtsPbfPCX55VHA5oe246kvP4cih5YSKpTMk2hpa0e6rRU79+5GJJlAKB5FBwk9TdLfuX8vpuZnjSQ7ScDNaX38Io2NmzZhw8aNKFG6jjFMc22AaCHp2nG8caeidjRvAvpQdrq1BZ3d3XbdRiJPplPQBzpSqSY7aTESixmRt+kFonQTWpkn6bfv3oWQjvxlfN0Mr7Pat+zagUgqwXxRatd3+jIVvPaXr2Do8nWk4gnbu27g1a+de3h4rAXW9s1T/VHanq7O4YVf+Tr+wX/zW8hFdLRuyXaqRCJxPd80nzo5kUwIbXLUw1KQeBcW5uknhKZ40tbmbTcLubKoT9yFdW4LvUUiKOkBJInUHU2r29NBq9I5crU96FRasjG/tNPMQV51rG8hX7C3NJOppNnrwaq2J5YYRnvQlVdGwGirKDGYTp7U/ptEgVbjJfzOb/wjvKc3T5tbLW+Cp3QPj08D9ZyAolxfvruoT+/BxdouxdTKSxeRodvuSLAspStUyiZ5i+hthwmVzkSXu676yn6TXsFnSBF/sVpGvlxCWe6MT3HpK0oibZF8ie6KT9cyldbMdZWSb7sq7Vp4qaLS5UyhqSWtxXxzs+OClVu6a5Hf7KgPTv5beba53J1Gyu7Qw8PjM8E6U00JQSe7G1gZd326DwbuyRq7Kyb+iShJfBKWRZhBeeqorQgl4jCVdptoLd520JB09R1K54lSvciYd1ANi+prMjnjcyb+yV2KNpZqkB5NJqBLz/DyK6pXfEbmtNNgYKQvd9rZUED3IO4gv24HvItaqF3sKqXZgNw9PDw+DYKe5JT7EyMEaqWPz6bqdTfjVvb3H+4JsS8vIFaP40gj7rAkXP5rCUTLKdqdIjK2jNbcrErlR6HMrCv9ivTlN2wuNbc6VWc2/2XK4lSK25ZbHNtbuot+dGwA82WzACr92ZVKWMx7TQVw5noby46Ft79aHHdV2Z+HxwMMtmP1GkfhQR+TXu+MfP5K8S5XNS54wHCPiD0AK6gm6mq9PCpjSV/LdJQogtZ2xqrW0O0FIPNKoVovDpG0CiU7QkCVrw9kKI6w1sAVnuK2k5ZXXl2S2t8uFWW0tu2SBF7JF+wlJ9TyEA9FoS/3hcp6W9W97BSlXajMCPR2a1jfaKWeyskPdQgYvw5uLZ95lOJ93XVl6SgfSxmpFaGHxwMAtlZ21qBvmcBFIct9HblEVfzcVe2zMKb03My9uy6zSP7BwT0hdiVqFSVDjXSqpSLOHP8Ib776KibGx+nGotSLQMeO4eSJk/aCUamkj+fB9rO/98ZbeO/NNzE3NQUddlUuFHHkrbcZxwkScv1g4KR9kaqkb+2ZT8Titvf8o/eP4ezJU0bwImrtlX/9J6/g+Psf0L2K3OwCjrzxNo6++S4Jv8h4Y8jMzOP4u0dxhHYzUzOMmFWvBqf7uAVrBta6U5P8ma+1VHYwmsuClYeHx/0AtcR6tQQRuQg1cOF8Wsd6BIp9blFI+9yU0pROi75O2fcW9E/hiBRD4dFtknAk73J8c97vD9wTYhfccocKknoWoN4aLVNiPkMSv3r5MiJRysy0v3jhIk6fIvna14aYYdpdOHsOH5HwJ0dGef0AzYk0KuUSzpOkT9KsN1n1EtOiZEyz4tJn4vRi0ulTJzE/O4tLjOfEBx+a9K8wKRL+1YuXcPXCJbSFW3D6w48wdOEKLp44jYunzqI1ksbo1es4/s5RvP/WO4znjO2X12mSGjSsFQgrarpmazt2Usmk+/jFmqkmpJpSlk8WguXDZhkeHvcbau3TkSwVCbVKYYoiFXKVBHJIIxNqxkKoBdlQK7LhduRCd6LaaupW9s4tG+pAXgpSdK8ynWoTMpUkcmV9KlErA3r7PcjqUj+633rUPdvu+PyvfA3/x/9W2x21DlxGrFjFqWPH8dbb7+DFl76KTZu3IJFM4O233sL58+fxd/7238Y8JfUk7V778csm3e/euQtTc7P4uV/6ZSxk5/HWqz+1T8v93b//9zGbyyLEwUE3JyLTgKCHoTP6PBwHgMcPP4zjHByuXr2GX/qVX7ElC71h+v3/8B/w6COP4elHn8G//bd/iEq+iGmm0bdpAN/8+rfw4QdH8dqPXsa1kSE8+42X8NVvfxN5ph1mhafKUVTGC/jvfvMfL/vQhqB8tLe3Yf269TbYrBWUrhphLpfD8NCwnc8u2AzDw+M+gbVGrZEuCh1hFBBDIZRGONmG1vYeNLd3I5poYr+OUUgKU6ZmKPoXrwShPgso+vGXSkRBqbzKIaVUyiOXX+DsfRz5qesoZyYRqhStT8m3S/fzSf/zxF0ldhVPfeQmoS8S+0v4B/+ExB7W3vAiYmXgT//9n2CEUvjP/eJ3jYj6+vswOjJiH6Q48NBDmKWUrS/663yYV19+2V5C2r5jB+KUSPXK/9joqH3T84mnnsLM/Jy9XFQsFFEsFZGMx5Ev5O2bo5m5OfT39uE0ZwdDQ0P2Uek8Zwy5fA5XmNbDjzxqBJibz9iyjLZUPvHM00g1N6OUyeG9t97G9eFBfPuXvmsvKBULWTayCpIi9okCfuc3SOw/rhF7RftpCDbAdHMaHe0dRqpSd78xsNEzHc1c2jsokWSzOHvmrC0H2YNiD481xE0tjh3A2bnH/GqSmviWqlEUQ0lEW9ajfeN+bNi6H+s3bUULiT0cSyIcjTtp3mbJastaOnGxBHBLkKQbCVFBwuYc+NHySp2bgf2SpO56phM4S+UiCuSN4sIkZobO4sa5oxi7dhqZqWGEyznEauFtcabWp5dFeY9w14i9/uaWipK2nMdMVubwwq9+3ST2fFgjI6c35SrOnTmHUrGEzVs22+v8ra0k0lLJXvGXpF3IFbCfBF/MF3D5ymX7qv/WLVswPjGB5rZWFEmiet1f+911rrm+K6pzX8ok5hild30erq+vjyOtq9RJhisWC0gmUigxDZGv7PVFo7GxMWzbtp1EfwUVNqLN27baF4l0/vvU+DgKjH/jti2IJGJsQHrQUkbSPmZNif03/msjdn3MWsS+CLVcSSS8BM3nbsLqoJbmFpZTT08Pjhw5Yi9ffR4fy/bwuFOoLdo+CWuURK3xy1jVuyUkYkRI6IijGGlD+4a92Hboy9i4+wm092ykkNaKcCRmjzS10q2AFaNTaq2NL0ZpcUp4Ubt3M1MpgubAj/rFxws3bsDRjD+i7c/5aWTGL2Ls4vs4f+xljFz8EJHiLMLVErSfosoBRvF/XKxrgbsusQtBAovEbhI7if2/+S0UIiR2FpqO6NXOFoWx7YQiSxKq1sVVITrASwN0U1PaYlKsrtJgjUIjuCi0vkK1pm0jt7ZRLuaCoNZG/JpfSbS62pINCU+zBfnWMQcRNTbGYXvclZ52zChu+pO99smHpFi5yTIrdrxoEvuRH79FYm8nsbulGIPLtru6n7sH3RuhclAZbNq8GevW9ePo0fc5O8lZ2Xh4rBXU2o3YhaAfmFbbh8vsRxS8ImmUE11Yt/MJPPTkt9C//TBizT30wZkw/etj8loACaLRioneLVmMt4aAFwwKV7vWQ4S9Giyk/ch9KR7ptBsnEcojnBvDxJVjOPPeD3DlxGvITVN6ZyaqtoRzf+Aeim0qOFe4IlTbuaG5E6GR1KZJhHswWUGyqYmjNiuefvVWqUhcb5XqTVGZXcj6qqAf7YypEVwApaN6D+zZLBhWLycxDiYZnDmj9BRvkW6lsDs6wOnZFDVgMJIQ86jBygYsqeVJ3Qy5y6tBhruoFtOhVnnV1fIodw+Pe4jFJqi5Ovu+SD3MWXOyF+v2vYiHv/rrGDjwJURa16EYopROQq9Qqa/qX7Ke+rAdG2JKWyD1UFNK8rx7oVGK3dXpdQ0Uw0fpcLOquTGOKP25q1N0RpWz9RySKCbXoXvH8zj0pV/DlsNfRai51zZfKk+6p/uhh/E27g7sHm8DVZKNuOIgloikZkc/5rgIR8D0a8TvHFxjoJvVrlM1J4vLqSWzm3LVyK02YNScnT/9BFfWoOIus7EEa2ZBOpYE3TWILA4ktbC6mN+acljSBVA+10wpvZoS6vUeHmsN12edUp9x7ZEz7XACpWg7OjYdwsFnv4O+rQ+jFGm2tXZJ8ovEXutrCqcoBHLukmFRI+lZyrTOetHP7eA8GTfZdUnp1/6YjwISKETa0bL+EB56+uexdf8zCMea6MVt0byjpO4y7hqx3x68fZaWTV3sv0bEVhkaxY26+VcHenCFxsJTAVLVIrGRO0BA/hYrw8hU57wMixVQ82B+F1VNp/iZlBqQvqZkDYl2ml0szyN1dLxVWgGU5loog/Je03p43EtYt6lTtmTK1lkJxZEPtSDetRM7H/ka1u94BNWolltrfZ06AzWSySQ5qw/KXpK4cb37MW+rIkg0QM1sWVhV8UfXZajxTM1PqRrmLKMZresewt5HvoJ1G7baTEFLMrfJyZrhrhF7UC43lQ8hig6+Lypyr0oKZoG4c10kKbNwFusqoE+nZOcmZZpyubVzeTMKrxGZCyYz9QpWQ6DVNdCbX0F+eVmmZMd49EgkYlelrZmF7HUX1PFf+Qfvp1qhYoXbgBUkcI+gPC7hHmfGw2MV6EWjcjWGYqQVPZsPYMueJxCKt9CO/MA2q4eS7oUgCUwS5BiIyhZw7CynGjPwx9bgF69Ls2pzv4XSj9FEoFa4OztxlNNrqhF80F72Bfb1PMm9c+M+DOw6jEiyhf6MFWr9b0m31rirErvKYiV0m/ootM4uT4Vi9jHpCkXiYqjMKZmrLIU0yZsq+HOxLemCIlOlL1eB/VIBSxnX1ilZLsXq4Ih8STkwTuajFoRKDi52+6MYoaf1VTbQRLQJxXzJvroUPCPw8PAQlnqQ9The1JNK5IFkugObduxHZ2e/nfGnniOViNCN0lSchgSvUbKqlNbBdcKHnv9LH6FgFZWeKhbVpgltblhaMzcVcdK0Tty2cExf7jHqLSz1WldXOJsZWBgXV5QOUXqIKU4Lx5xzoNHzvqKWkNPd6N5yEOnuTciXdFdy5y1Ka9A9ry3u6oc2dF833xJtWDBlkvnOPTvR09+LMgu9xNHZaJsiua2D01uVfmRnu06CsKvEGGCRbO1vFd9mqNkqKRn1qzSX/TlYvZh35sKudDPCNoPtxtHDVp0f0xJpQnShgnd//Dpe/YsfopIrsfFI7nC+7xXcclQV7W3taG5psX37eqjsBx6PTwrrD/xd6iF3jnrRKDCJvovhNDo2HcSBp15CW+dGI3rr7xXyQSEDFBdQKWZRyi+gWsxRnyGnFlAq5lEt51AuZFEtOftKiXr6KRfypiq0r9KuQrtSwcUDmksMIzsovnKecWXpn/EqPM1lmuXXmeVGc15xy08exVLBmF/fgNA2R+2QS3CgmZsYwvjgRdJbkfdXKyd3o2uOu0rsq98Tb5hko33pwyPDqlt0dLajo70dqVgTy4tFUg5W2eksMtWoyKtBZCk9/5dL4M5uMVWzc8qmbBo+Azuh3n2F2cWldHll/rQ7JkjfLe27PMWjcUoSVEXez6UhvPZnP8D3//CPMXJlkFKGHUVmYdzvvYEndo/PA+ojasdBmw7Mdw5HdU4r6VmaCMqxNvTtegI7D7+AcKLVllIMJNip0au4evZDXq+ZuZidxcUzH2FmahwxzvAzM+O4cu4EFqbHEUUBc5PDOH/6OBZmJmgumfn6pdPIzo4jTv8zE4O4fP4j5Oan2D8rGB++iksXTqGQm0UyXMLY4GVcu3iGg8g8otU8blw5haFrZ0nqCwiXCxi8cg5DNy6jwP7T0tGJcCxuwl2MAmgThdPs1CD7/mn615vouonawzm7709WWp8Va9q7gzqLlEOI5YETrx3FH/zf/p/4d//L7+PNP3sF149fQnmqgHQ4hZZYM5qiKU57EgzIamKYIiPQ9sYiC0xKH7+oV/bxCynOCBbX7KVEzvV2NbP8LYYxpa2TGlSWPsihM2C0nq79lfFwDM2JJqSjTYiXIsiNTOPakZN45d/8Of6/v/t7+Pf//P+NyyfOIK7FJiPUta5OD4+7A7VjCQj2jomWJj8BV6kfBH1/keisf4QQiSaRbutGNNmKAp30/QMJYbEYhTlKvpdOv4+rp46goymMJPK4fPJ9XD91HK2JCKKlDM6feA/Dl06ip5mCVH4ap4+9iTGScU9LFJXMOE69/zrGb5xDN92LcyP48N1XMDVyEV0tEQ4MQ/jo6GuUtK+iqzWKhcnrOPneT1GYHUEPzXND53D67R8x3Ci601HM3LiAM0dft4EgHg9OlWWmSe4RCnnp1g7EE2mSvbtPMgo1Uot3v2a4J2KbRv1YlRVTCGHi8ghe/uO/wr/+v/8r/P7/9C/wb//X/w2vf+/HOPvmcUxeGEFuLINoMYpEKIVUpAnJeArxSAzRkDumV+v12q2ishMJGxmT/LX3XW+makSVhCpV0rVSU3KTmX7dDhf3BF6PRqNsdHHG3xRJIB1JIllhJS6UkBudxei5Gzj5xvv48b/7Pv74934f//p3/zn+6J/+K7zzg1cxPTzB/Oj0OT1EteZ7n+D+yYnHgwm9KNjS0moza80C1b9MejeG/3TQABGOREmSaU7E3WcxRYOKVpJ7ocR+qeMD2Ofnc+x/JQ4FsSTtEsjkiijSUyyeQIhxZHJ59u+ambPlrNzpP0KpmqnYOVOFYpnEy/BmzhoBJ5IpphXCQiZn10RT2pmzNLMfx1NplJiO4tfCfoJmvVtTKrmjQqT0TktFR3wzb4jGjEk0aMntXvW9NT0ELIA1CBaeJORqhNI3iVYfk9aSRywRR0d3J7r7utDR04l0Zzt6N2xAW08H2qk6+ruQbIqjKam3QiMcKaOI8hqK6RUFRsuhyr5JKr3SYqGr7bnFHVlqJHVSuBsAJIXQjSRfKZX0NAeVQhG5hSwW5jKYGp/CxOgEJoZHMTM2hemJGYwNj2OSqjA7j4oqnGESbFxKQE/0tVwkvaWvNO8RrOOEWa68bt60CevWrXNHChQK7FCujDw8bge1X7WjaCyKTQOb7EiO4eFhUzp7aHGJ0n7s9ybIVkQX9IYQ+73W0SsSmJq346GX/j4OfeVXURK504v2tFTyGcxODGFuatROeo1xphzldXZmFlESfVM6ZWvZ87PTiJFMm5pI0JUiZmbmOFA00dxC8i1iYWHWToZN69yoYh5zC/NIJFJINzWjyL6byWUR14mrVHnej44ySVIfT8YxPz/DWyrT3EyBsgmZ+Tl29QqiTW3o6BtAmHmSgBhDCc2YxY3jP8BPv/f/wMzgaXvYazt5rHzqlqHWCPeE2G004w1LStaitc5IFwHlSajBhyH0JJryNAk7xlGUFdmSRqK1CR29XdSn0Nbayspp4oibtDNhohwQoqyMKKdI7igAEZeeajNuDhpKSwSn431VGRpxC4UccvpwNYmuyAqV0tHBmbl5zE7PYo6NZHpimiSfsXPYy9kCKkXOCkjkaoF6OKqn6Ko7qzZr2EqL90a9TGtbncthU2aWq66bROz9OlLgKCWXgpW5h8etEJCC2q8Enzgl323btmHX7t12KNbY6Jg9r5mcmrSPvwdtXW1tJZyNXF1vELFrqaJcYRtM78Chr/8nOExiL4Qp7dJLtVqikFVkwm4WrTZswh//7NkQlWbdOr9FSw563iXRTZDetlBTYLPnS0xcBGt91CVvmpDc6U/cYLN2pSUPesanP5FyLT03O4H1d83oNVOQZC4JXjtjYqEimqpzGDz+13iNxD47eAbxm4h9bXGPiD2obEEPUtzDUUnPOo7TpGy66KPW8qeCl4V2oGiPUigS4igdNaVKF3lL4g9zRJckGthbkepqheskdVWgLdmwYZQooWt5Rh/0UOVZRYj0CyR/upkdp3f6ipPajU6ysaq1huQI06law6GtZiKuIte8WG9CQOzUYPOWLUbs77zzjp1yaefjeHh8HNic1Y4k9W7fvh379u1b/OiNTkAdGxfBD2NqasqWNtX6JUBZX6iDbFyvZpQ1Yi+VyX4tO/Dw1/9TI/Z8KGrPv0TsVfZ9nR2l90MsEyJc9lsbOKhXs2ZCjsD5J96Qm0vbuWv5u2TbD9l3yRtBeMcxTId928VnKViP1bKKOrvllG5lhlF6DGLx2chDV96Bkrd+HgmV0CSJ/cMfkNh/z4hdErsGRHZA86+ga4l7QuwfC5Zd0AisBnSxIrSydjtcagarGGnt9zPA0qylyzRZl87SoGstheBSS3clZBuEutewvFgLrqKfpK6OOTg0yOlphg1f9s6fh8ctUWvMkly1lDcwMMA25YQm9ZOiTl6dmcHI6Igtz2ipZPW+oRDsV3LSia41Yq+S2B/5xv8eD3/lV5CrUjqOiJjLZEXNjgviXKYdsVm2YMeDUDm+FVkzLtrrav2W+bRlHs7M1Zfd8y43KIhjbUBQ05cwpvgYt8Lr28eSyUIUDC2sZgNKizmQeKk4XVCaOdMIRZOMT++vaLtzCSlK7Nclsf8pif3GKUrs4iYF8MR+W6iI9WtXFriVmfSLkOmz3EoQ3l0XdYsDx2eJ+x6D5RWnxKXlmLb2NjZcdQLaP8C35LHGYHtp1cPTzk4jT2s8/JfgoD4iif3cuXO4MTioTmN2+lsU0EzHPwtDFzJ8geJ5tWUnHv4mif3LInbGRXsdgV0tLmBy+CpmJoZsBp5MNSPGmcL0xCRi8RTSrW1Mp4KJiTFbim1q0np32QaZRCKJdDqNQjGPhfkFJJNNNLcgl5/H3Ny06Zub0xRw5pDL5ZFuarU1+pm5GSxks0inUmhpStr6fa5QRKKp2eLPzE3ZA9louhu9G3cizjxVKPVrK2WqOmvE/tPv/a+YGTxVW2PXbausrKjWFA8Msd8K9ZkPmtAnxcoC+LTx3Leodb6gA/gjez0+HuwV/A+IW21o/fr12LZ1q2s/NGvWJ2LUN4oHSeijo6PI6IFqLYZ6iOIl59t5K2J38l2Bkm+peTsOffM/xaNf/XV7RV8IUUaOVrOYuH4G77/+A0rOVTzx7JdJ9kW8/vIrSDd34JkvfRmzs5N4/bVX0NnRgaeeetq+ofDGm29wZrERTzz5NK4PXsPRI+9SoNmCRx99DBcunsI777yFPXsewqFDh3HmzAkc//Ak9u49gEOHD1D/Pk6ePIXDDz+CPTu24ujbr+PixYt46LFneN/b8eF7r+P6jSHseerr2LrvKTu8TGUU50DUVJ7C9Q//Cq/92T8jsZ9BIqqlZZaEyk/3exPL3F088MTucWeor2S2NQ+P2yNoMGwrWsbQN3O3btuK/fv223q7PtYyPT1tD1BHhocp/S7Y8yonpqqNLW9ky4gdFVQ5NhQrUeRSA9j3lb+Lp7/1t1EOkSgZLEz3cCWLsWsk4le+b0siz774Vdut9uqPXkZzSwee+/JXKH1P4bWfvoxOziKeeeZZjIwM49VXX8XGgU00P4dr16/hnXffwqaBLXjiiSdJ0qfx5ltvGLE/8sijOH36BI4dO459ew+SzA/i+HFH7HLbTWJ/983XOBhcxCNPPmfE/t5brzDOIRx45hvYefBZlEJxK6eEvsVQHMflI3+Ot77/LzA/dhExzmrs3Kh7ROx39c1Tj/sH6mamPKt73AmCBsMfXUTs3V3d6O3rRSaTxbWrV3H+wgWT1DOZBXk0AhZ9rd7GbCGmFht98aIjcItIId27DRu3PYRYvMmFp+CuzQsZDhaxVBrd/ZsRiqU5GKSQaulE17oBhJNpSswxpNs60dm3gRlMoqz3Ttp70NG7DuF4kv5jaKG5vWsdQtEU/STQ1tVvKsS4ZNfRvR5tnX3Uc1CJatfdRqRbuzi0xBhHMzr6NyHV1osK3cPxNDppbmrrQ1NzO6KMXwNZlL4jpVkMXzyCq2fe5lRkzmYZdqurFcUawEvsX0D4Cve4U4ijJWTrXZENGzfa5xVHR0ZsN4wOu9POMXlyDxqlvRWT1WjdGh8l9rA2IEeQCXehfdeX8fx3/hOsJ7lnSvRJYq+WinY2C/QQMxyx7cm6auiwLY38s6V+6RhnRdshae+Sp12lVMuLItPSI/VMXOG1K05uUsqONq8oLiddS9JmWozUNlDQrmSzDO2K45VSeFkvV8Y5MERI6bz/ZDWH8sRpvPtX/xIn3/wTJJCxmYke3NafP7uW8MTu4eHxsRAJ6sUdvSwkiV3fERZRG3nUiE+4PbHz1wWw5Ql9OSlTbUGoax8e//r/Doef/xkU9NEN+gmTMKNht3NFxCuCVRxKynQkYiNm2xWjSIN0RajKkgLpKnsRfs2d9vIdbPd1D3llFqlzgFD8vDpXB9nLl8ja5UUUX9uZgzJS5SmMnPgRXvvzf46Ja8eRjLJsmC/bkWPErvBKv5aHNUB9/j08PDxWhQhQb5rOzy+YlBoQZUBVMt+a1OVP1CYyl6KFsWUVsWoBldkbGL1wFAsT1xEjI2lLpN5VqWj7o3bO0K/bsqgwFgyVMt21K1LutvndKellV9HXl0xRambYJSWildQdMiW7wKyHnSJupVOm4iSBAxjtqapU2kymoUYnOrqjD/RyUgnl+WEMnT+C2bGriHPgC1G2XyqZgNIdva8VPLF7eHjcOcSqpmrmT4BlQch2IjudyhgtTmL08vu4dOJNVHMzdka6ScQm7Uradq8GOrIMlLLhBhP3wqCzD14eDJR7QbEu7KJ7vbmmp7opLhus5E+K+TElOyAaqq2tXzqOi2c+sON/tX4j8ndv1gu18ItqbaC78PDw8PjUuJ2kvhL1PrW0ocencWSQn7qEs0d/iOun30G0nEGkNn4IdqUybl2WVM3DCsjLorfVvXxiuIHGKZmi1RIS5RlMX3sfp478EJMjV2xNXu+IuHzXL8MIyzJ+1+F3xXh4eNx11JPtkp5SsdGeju8o2zLP/EIGrS3t6OjsRTgcsweXGjgonNcCOo1JzctZfhGLZLoY5tMrpWuKRpG7lokS9kKSSP0Yjv7k3+PyR2+gWpglsQcp674UQYBaZGsIT+weHh53HUZtxrYrsMh5Vfs60cL0BOb1NmkkhObWFoTiCeissCUS55X/FhV/Aiq9SdX8fBal56SmZ1xa2ojxBprCRUSzwxg69SqOvfLHuKblo8wkoiR7wS0ZueUcDVr6swybee3gd8V4eHjcddyK1MxeD1T5VyGT6uPWoVgH2vp2Yf3+p7HuoafRtWk7Uslmcnsc+rZwbeMhGTcgzpvxeZKaCDqiz93lpzE/ehHXT7+JM0d/gskbZxAtZ5kbzjiqZTtAjD4thHQ68ybIn0yO3tcGntg9PDzuGRyx64cUSCZyD0sTKIWSqKa60bxxJ/q27EZv/wC6utchle5EOJqiH61fi7os0E1wVvW/H49lkwIGsu2NpQrymQzmp4YxOXgWw1c+wsTgeWRnRkj2WZPitddeu/JF3u5mHLG7lANqd5EHSdxteGL38PC457B1dJPAQ7DvHpOVSlXKwuEEwvrQRVMLmpo7kEi3IxIjset7ArdlLjdQ3Dlq9GuMLvql7K2tj6WyEXt+YRqFhTFeJ1Gt6LsR8q/lFynmevEhwP0BT+weHh73F8iPAUXa3nOabL95iGQeiZJU9bUy2TkZ+VYEb4eXfSKI1HmpJW4XLbRr3z4JXEcHhKpUYfmUhO5I3cGtq98v8MTu4eFxf0ESs5EyiZsStNHl0o9tKxSfak3erVyvQmG0ChZBPgnswC6XTC0Olx17AUrkzQHFZa8mqdO//GgJaSngvYdy4+Hh4XH/oE7SFq1rlcORp361T1zKkapbDKf1TepW9rdTil/JaxlHqclMZfnRuoyJ73Y178b4jvDdAHP/wEvsHh4e9y2W9qsbxde4Vz9GrTLYdSWtyoeRvzN+LBwJOjIPCNGFDeLgLx2U0srUNPC4sPcPvMTu4eFxn4IUWqU0XFNiUEfv2hGzRK6LxFuvRMIm6t+ZWnr4GVB38OckcnOzAYbeTQV5cWHq83M/wBO7h4fHfYolCnV6wvGooWZTc13+Z/YU7z+JEoLob0XTS2NBXVhLL8jN/QFP7B4eHvcxRJha014iTtMtY96AWJeUI+pPo+4Enzbc2sETu4eHx32MJdI0Lqcx4OxbSdUentg9PDweIIjMA3U7fNFJ3xO7h4eHR4PBE7uHh4dHg8ETu4eHh0eDwRO7h4fHfY3FN0E/ofoiwxO7h4eHR4PBE7uHh4dHg8ETu4eHh0eDwRO7h4eHR4PBE7uHh4dHg8ETu4eHh0eDwRO7h4eHR4PBE7uHh4dHg8ETu4eHh0eDwRO7h4eHR4PBE7uHh4dHg8ETu4eHh0eDwRO7h4eHR4PBE7uHh4dHg8ETu4eHh0eDwRO7h4eHR4PBE7uHh4dHg8ETu4eHh0eDwRO7h4eHR4PBE7uHh4dHg8ETu4eHh0eDwRO7h4eHR4PBE7uHh4dHg8ETu4eHh0eDwRO7h4eHR4PBE7uHxxcM1dp1JWS/mlodN7ve2m89lnwFMdxZuHuDT5K3+vtZqdYantg9PL4AqCeXUO26ErJfTa1OTSHaSi3B+V0KtQTny/2Kcpb7vNnkbAKslnoAua1Uq+P2rrdCfU5WCx3EWuVfUCKrqXrIr/6WQjvcbHMrfLwPT+weHg2OesKop83ATr+OgAJ3/lX1K31ATM6n8xGmKVJT0juydiEE58ddHVwMgd8IXcLm6tSSbkm58EHK9TlYgvNnOaS2GiJdhio0r/R5q1jq01tNLf0qVIXxVyz+wH4pxvpQTgVlGpSf4HQ353PpKje7ml2g6hHYVWrX1eGJ3cOjQRGQj4GEEUIZoUoJYapQtURLRw5L9FAjjWqZV7rramqJRGo+llQoSEUmxm9xriRX+XEhnK3zI781qlu81hPaoguDSwn17qGqXCuLJBa46F5rOkNgWq6U4pJaGoiWlCWpNKhEuCL2MpVIWVjyJcXwixl1g5x0DjV3DmhOvwRLnfFbOjJTKzsNV8rlnambEert6l3dxcPD44GGiGKx69MgWonUeEXUXaFDVaRiPh1IXxBXh/VDJclaEVToT6rer4Mzh0h2GjjcIFBPYtLTmlrFLfeajB2EtF9nswSnd/QWIPBhV/5bHmVivozwLY3Az/L4nI2L125DJvuXrYNCmEnuNjgIzl2SetFIvYoonSK8FZWNC6Ey4gzEykvB3cBlEVlc8ufK0SR1Kyv9cebCzFhRK0SlbGFdHApX+5EHs3Cw2ybcfawOT+weHg0GdWhHp04vqhCdliukXirZVVFElCQVjzifFZKPfFbIRyZ305MRB5VcouEqYhoVSD4BEYmkRWxlElTZCL2IWFgpicQiDB+lxxj9KAalW2BYKs4GnLTt/pybLgFjOb2RpnPQjzPX/Fj+qBf/RpjviDTMg9GpBatRvP0oBi39BGHpy6JiGrpJXjVImOTMArDc0FxmmBK1YfqnERWOVZLaQzRH6I9FYvfKkmGaccYcpV450GxI5UTFON2iU5jpslxZFCrrCstG4TQgVDWDqrA+IkyR5VexGRPzY3WiXCufikNXd2/U0p1X6oP7qocndg+PBoW6uzp3ORQh5cYRTnZgw+ZdaGlvx/TkKMZunEMlM2VSvEhHJFci4cTTXejbuAXplmZUy2XkFuYwPnQZubkJxChthkk4IjoRnAg2T1KrxhIkfxJZMYswyT8suq2S8KIpbNq8HRvWrcfZMx9ibOwqBwhmSsRouRMRUnI1siNliVipF3kZYVla0nFgorvSE3RPze2daGUep8eGUJifITEyDrpVwiRNhtGwo5hCQVr8tzRkF2EmGL2IUhCxi0aVvq5llkcxzDKLpTRsoVrIMGzBhQ07v0rNwvA+YyzbbTv2IpmM4eSpDzA/P4WoxjWWkSR8hSgxcxWmW2SM6zbswLqNO3FtcATlYh7xcBHjw5dQLmcVyIg8ImJXWN6rpPsKB8sw9e0dbbxWMDk+xIG66OrCcrKESLop/ds1vYeHR4NBvFUhGaTaevHki9/Cw8+8hLa+bdi04wBSyRRGh65QCKcUHdaygCisCV0D+/H0Sz+PHQ89hu7127F778NoTrdifGwU8ws5FCi6VpBAqRxGvhxFuHUddh1+Hn0DOzA8PIlikaRI+2yJJBZOo2PdVvT0r8fw6CjGp2ZQrMRJnCkUGF4kVwknaBch8Sn9qLtygClR2s9VojYoFZU3zjbCYUq5DBOON2HvoUexaesOXLtyDflc3qTmXDWBTDnBaxJ5plMoK6+Mi0JwhdJxRXHSrkRpmfMLy0NZesafK1FKJ0nnKzHmPY5Quh/bD7+AjVv2kkQnUMxlEYnEmL+4uReZVpH+swxXjbegf9MOxJvbcHV4DDPZguW7wPxLKc0cyTrP+5J9R+8WtPdtx0wxiq17D2DTpq24cuUqZuYzKIdZNgrLvJV4r8qb7iXPNBPpHhw8/Di6OtsxdOMKB94iy8OYnf/8qcETu4dHA0KEbtKl+joJJZ5Kk1wHSLwTOHn8PDrXbUF/bxcun/2AEjmlS3qMVCSDptDcuw3bDzyG0bFpvP36ESSaO7Fjx06MTUxiLlfB/kefxf5HnkZr1zrMFcPo3LgXz3ztO5wN7EQuTxpNtGHbrgNYv3UvuiiZhlMtCCcSGCY5lkMJ7OcgcPDRF9DWvQHz+SraejZgx97DyDCuciiFPUy7vWcjJrIV9G17CIee+jJJcztKpSoWMvO2dJFIxtHb349SsYArly+TsONo7d6EHQeeQd9Wpr39AGcdO9HU1ofd+x8mOe/GLOObz4cY1y4ceuJL2Lb7EELxVkzOFRBLdWDX/sdw4NHnsW7zHpTjbWjq3Y7Hnv82tlISz2VmMTUxjFyB0nucM59tj+DA41/G1j0PI9LUjrlCFcn2XlSiTchwQNu04yAGth/ERuajc90OpDo2YNfBJ9CzYRvmMhXWRyea2vsxnSuzXjYgkUji0uWr1G/B4ce/hK27DiKabEWWvN2zcTt27nsY6zfvRu/6zUg3pzE3NYKRwcusXK3LO1LXzCaAJ3YPj4aE5vBaq3WdvkiRdXR8ElkS6QAJt7NvA0YorV889S7CpYxWexGuaOU9jmTnADbtOoyJ2SxOnb+C7r71WLeuH9dHJtC5YSf2P/YisvTXvXELWns3UKpOMs5diCdSuDY4ilRrL5567qtoJ/HP5gpo6ewh6e/A6FQGG7YexMHHv0LJtQl9lHCbSIaSRvcffooUJUk1gUef/xpylFqL8XY8/Ny3EWrqRTNnHAMDGyg5X8fszDBzW8Dc9DjGRgaRyeVQCjehY/1ePPXl76B3YA+iTZ1Ghp19mzhb6cO2PYdQjjZTak7h8edeQg9nIlpy2rxjH2cGSXT1b8Njz36dfloRTrYh2dLFPMaxjgNKOp3EyPWznN1cRLZQRM/AQ3j6q7+Ctn4OZPTT3NnLMtCAscPilTT/0OGn0ceySrX1Y/eBJznoDKC5Yx3Te4hxRBCz/B3CLGdAqaY0wtEIRidmsHnnQXRwRtXcsREbt3FAYdn0bNyFR558DslUAlPjQ7hw+gOMDl5EuZhxyzD8qSd1YfnCjIeHR4NAcpxIXR2fU3oS+9TUNKf2VZJYHyjQ6Vkj3WKo6IFqWQOBVqXdYBCLJrBz93588298Bzt27ybBX8TodAYDux5BrH0D5socCiipdlGCzOQLGB4awvjYGM6cv4RsOYJyJIlzZ8/j1NGjyBcoYTd1IN2xBeu2HkakpR8zxQgqyU50k/yK1SSl5jK6SMg9W/ahGGvByGwB/dR3bdiFhXKSknArSXMzejnAIFQCKjnkZsexMDPK3BZR4qykzEGhEk5jdGQSp06cYr5KmOfg9MF7xzG5UCERb0cvpfF050ac+PAsjr7+LkMmMLBtD2LpTkRS3QilejDOvNwYHMPwjRsYH+V9jQ/i4qUzyGRnEY5oVhEFKE1Hm3swX4zh6vA0ZmpSuNbaw8w/omkMD3J29KHyUcHcbA7HPzjLWUmMM5RNnMW0IpZIIxpJMP9RzjgSmC+FMcQyHp8vIY8mFu8A87oFoWS3Se4nPnwPp4/9FNOjF5DPTDKcnigIy0ld8MTu4dGQMEonUbv16gQlRC09VMphvPmjH+LKlYvYsX0X+teROKItiDe1ut0aIvZqEeXCPCXUy5QQbyAWLmHi+iXkx0eQTqVIKjmSHsnu7BlcukDCm5tkkAxK+Swy87McJPIMn8HUKKXriUFU6IZKCZFwGPF4HJlMBkPDQzh//iwuXziLSfobHxtB3/qN2LV3L+ZnxjE1NoiWJhJ1KY+x4eu4fPEsTp88jpnpSZIW/7S9kPdm96gRKtibX84hQ8KfYfj8whSy1E+OXEd2fsZ27KTiUUQ4gM1O0s/EOMOWONOIYWjoBo4efQ9T09PYtHkL9u7fj6ZUEsV8BsVCFnO8r1KJaZAxZ2YnceyD93Du4hm0dbThoYcOYGDjJqYf4r1y6CyXeM3xPkYxOzXC8pqifsyk7WJ+gYOmHnVWWRe13UHiZ4bt7V2H3bv3IR5LYJqDcJnpxSjJR3h/ufkpTI7xPhbGaM65ezXcTOqCJ3YPj4YEO3y1Rnycpieb2/HIEy/gK9/6DvY9+gg2rutGpZAjscVx+LHn8MRzX0E42URip3QdLaIpksPCyAWcfufHmBm5hN07NyGVjmJi6BKSlCe70jH0taXQHOVAkJtCpLSAjT1t2LdjC5oT2si3gHg0i3A4i2Qkj1SkhCKlzJnx6zQX0dUaR3drAk3RAsn3Bsn9MlKJiOVrduwypocuYmrwEpCdRk9L3NJrTVJaJjHa9kNJ6LZ9kxTGq4guiiyaYgXEwznqM7yHPBK8j2iI9rpW5pn+VQ5Cs3jkycN4/MWn0dYc5yByA626n+5WoJTh/VfQy3vhGGQDVl9XN3ZyEEymmlAmGTfT74b+Ng4SZY4nC+hoS6OVg0C0osexJSQ5o0ixDGORAiXyLPU5xJU+85WkXTLMeUKoiBQHmgRVPFJFEwec7vY25qGTeQbty0jHQ5xP0F9I8jvvhfcXQ4H3X2DG3MzqVvBr7B4eDQgnx+lXSywhlCjhlkiCra1taGttwsLkED488jpGrl/G+nV9SMQjuHHjKopFEk8iThXGOEn82oVTqOTnkU6GMDk+iJEbV0ieVazrSiNSXjD3UUrz4VIOaYapFOawMDOCKsl++OpZzE6PmeRdLWVx+fwpjA1eRQvj6utIAoUp3Lj4IcYHz1EazlM6DWNhehCnj72OaUrZxcwCoiTx9d3tHEBKGL9+GoNXTtlsQlsAtSWQ8q7dn+40oXzHwxgedDONdAIYH7mGCc4IWlIRSunDnGWcQCk7h+6OZt4zcOncR/jo2LsoLMzSrhUdrUnkFkZw9sR7uHrhJO99gaTNtPKzGBu6gjxnJWDaLa3N6OtsZf5yuMo4Lp7+ACEOAsXMNKaZdogDhNbkZ6eGrVwmeD/TlNhF1hpI5piXcDlrcZZzM8hwlnL9ynkSdxltTXFLb3r0CsZunEdudhTlzBhGrp1BITPDAUJ3G6jV4fexe3g0KER6di4Jr9qNEoqQzJpaESOJa3khl8mQcCk1JhKIxih4L8wgVCkjEoshTrtiqYRCnhJlrInmOM155EtFJJNpqiaUinlbeimXypRuU5RoUxxAKPOXtS+7YsSsh7Zx+tcSTDZPqb0cQbKpGU3JOEok6IX5CfOPaAqxZJu9CFWYn9JGciCcYl7SaG5ppUReZFokuOIc76bCm4uS2LV0pIHLrTZHYkkkks1Mk3ngAJVgmpUK81Fknpk3lUM2m0MsFkc63Wx72ud5z/lcDpEIZw/pduZB2zhzyJCgywVK/9Ek0qk0Yy8w/UnGXUA5HEM00cJ8tdte88zcHMuJkjkl+gjdioUyolGWcTHHNMq0TzI/ZctHIplEpawXwViucfplPsNhzazCLB/mk2WTTCQZR55+iraso73wsUiZ+Zy1HUFK0962pf2t4Indw6MBEXRqCrW1H626SlURHGRlZrpVKqQ8SoE60itqQmCZdlrDFRVqPUJv2shruaa0/KG4aK01YvtjaBGsvQ1ZQaisJQORbtQe3mrdngxGPyRbErLSiCou2hcVR0RvqDKe2stEWkGv2lKSciW9lh6KzKfcJK3LjeRWe/uSGTF/uid7S1Np14jPXnhSGto5YrtHFLukfbmzLJimnkXYg2QFCJcR1lugTFPRKxrFbnlQeBKxXujSi1p6dci2HNKTS58DTkVXetNMguVqb7cGkFZ5tUj1MhZTVrkwT+4lMXlSeGmYvplq96/McLagVC3fViarwxO7h0eDYqljOxqTpGvvY5ItpHOvqYtkA/oQGTGUCM1RnGzor0aEtV0zxo1GrLoqlcBdxCMrxeHeyrQHnObfPeyragnF+aa7jgBw+3Bsy56uCmo+ZdKv+zMJlY6OPJW2RUpVy6cCylwjRxeaoEFxK6TZ1hxcaro6kg3ideTPOKVEvPKkaHWxKHhXsqzFq3s0krV4pA/y5pSVlQvgIqndoBtUlKqLR3BLS863fpxEXrt/udtVKdqwx2vt3leBJ3YPjy8MHD3UqGMF6u0+jhJuFcdqkL/Pk2KCdFeL9/NM55PiVmXyed7/7e59OTyxe3h4NBxuRbNfFLiZhIeHh0cD4YtM6oIndg8PD48Ggyd2Dw8PjwaDJ3YPDw+PBoMndg8PD48Ggyd2Dw8PjwaDJ3YPDw+PBoMndg8PD48Ggyd2Dw8PjwaDJ3YPDw+PBoMndg8PD48Ggyd2Dw8PjwaDJ3YPDw+PBoMndg8PD48Ggyd2Dw8PjwaDJ3YPDw+PBoMndg8PD48Ggyd2Dw8PjwaDJ3YPDw+PBoMndg8PD48Ggyd2Dw8PjwaDJ3YPDw+PBoMndg8PD48Ggyd2Dw8PjwaDJ3YPDw+PBoMndg8PD48Ggyd2Dw8PjwaDJ3YPDw+PBoMndg8PD48Ggyd2Dw8PjwaDJ3YPDw+PBoMndg8PD48Ggyd2Dw8PjwaDJ3YPDw+PBoMndg8PD48Ggyd2Dw8Pj4YC8P8HZyQgz5Ha7K0AAAAASUVORK5CYII=)"
      ],
      "metadata": {
        "id": "gBHrrNXTrQUY"
      }
    },
    {
      "cell_type": "markdown",
      "source": [
        "* **Retrieval strategy:** search and find the most semantically similar terms by vector embedding distance or similarity metrics and by index."
      ],
      "metadata": {
        "id": "99UBhC3vthhq"
      }
    },
    {
      "cell_type": "markdown",
      "source": [
        "# Document Loaders\n",
        "* LangChain provides resources and tools to allow loading or ingestion of documents from just about **any source as a data type object.**\n",
        "* Document definition: `A document has a piece of text content and associated metadata`\n",
        "* LangChain document loaders provide a `load` method for loading data as documents from a configured source.\n"
      ],
      "metadata": {
        "id": "nMJGp1ckkGMk"
      }
    },
    {
      "cell_type": "markdown",
      "source": [
        "## Document Loaders from **Unstructured.io**\n",
        "* The `unstructured` library provides open-source components for ingesting and pre-processing documents such as but not limited to:\n",
        "  * PDFs\n",
        "  * HTML\n",
        "  * Microsoft Word\n",
        "  * ...etc...\n",
        "* LangChain has bindings to the **Unstructured library** to access and use various data loaders.\n",
        "\n",
        "## Popular Document loaders in LangChain\n",
        "* CSV\n",
        "* Markdown\n",
        "* Text\n",
        "* JSON\n",
        "* PDF"
      ],
      "metadata": {
        "id": "AWawEyMGknGn"
      }
    },
    {
      "cell_type": "markdown",
      "source": [
        "# Implementing Document Loaders in LangChain"
      ],
      "metadata": {
        "id": "1Go1YFOhlut2"
      }
    },
    {
      "cell_type": "markdown",
      "source": [
        "## Install OpenAI, HuggingFace, LangChain"
      ],
      "metadata": {
        "id": "EKrsCNAelyvo"
      }
    },
    {
      "cell_type": "code",
      "execution_count": 1,
      "metadata": {
        "colab": {
          "base_uri": "https://localhost:8080/"
        },
        "id": "rUcT14qHpS79",
        "outputId": "271ba828-5eaa-483c-bb09-c968188a09c4"
      },
      "outputs": [
        {
          "output_type": "stream",
          "name": "stdout",
          "text": [
            "Requirement already satisfied: langchain==0.2.0 in /usr/local/lib/python3.10/dist-packages (0.2.0)\n",
            "Requirement already satisfied: PyYAML>=5.3 in /usr/local/lib/python3.10/dist-packages (from langchain==0.2.0) (6.0.1)\n",
            "Requirement already satisfied: SQLAlchemy<3,>=1.4 in /usr/local/lib/python3.10/dist-packages (from langchain==0.2.0) (2.0.31)\n",
            "Requirement already satisfied: aiohttp<4.0.0,>=3.8.3 in /usr/local/lib/python3.10/dist-packages (from langchain==0.2.0) (3.9.5)\n",
            "Requirement already satisfied: async-timeout<5.0.0,>=4.0.0 in /usr/local/lib/python3.10/dist-packages (from langchain==0.2.0) (4.0.3)\n",
            "Requirement already satisfied: dataclasses-json<0.7,>=0.5.7 in /usr/local/lib/python3.10/dist-packages (from langchain==0.2.0) (0.6.7)\n",
            "Requirement already satisfied: langchain-core<0.3.0,>=0.2.0 in /usr/local/lib/python3.10/dist-packages (from langchain==0.2.0) (0.2.10)\n",
            "Requirement already satisfied: langchain-text-splitters<0.3.0,>=0.2.0 in /usr/local/lib/python3.10/dist-packages (from langchain==0.2.0) (0.2.2)\n",
            "Requirement already satisfied: langsmith<0.2.0,>=0.1.17 in /usr/local/lib/python3.10/dist-packages (from langchain==0.2.0) (0.1.83)\n",
            "Requirement already satisfied: numpy<2,>=1 in /usr/local/lib/python3.10/dist-packages (from langchain==0.2.0) (1.25.2)\n",
            "Requirement already satisfied: pydantic<3,>=1 in /usr/local/lib/python3.10/dist-packages (from langchain==0.2.0) (2.7.4)\n",
            "Requirement already satisfied: requests<3,>=2 in /usr/local/lib/python3.10/dist-packages (from langchain==0.2.0) (2.31.0)\n",
            "Requirement already satisfied: tenacity<9.0.0,>=8.1.0 in /usr/local/lib/python3.10/dist-packages (from langchain==0.2.0) (8.4.2)\n",
            "Requirement already satisfied: aiosignal>=1.1.2 in /usr/local/lib/python3.10/dist-packages (from aiohttp<4.0.0,>=3.8.3->langchain==0.2.0) (1.3.1)\n",
            "Requirement already satisfied: attrs>=17.3.0 in /usr/local/lib/python3.10/dist-packages (from aiohttp<4.0.0,>=3.8.3->langchain==0.2.0) (23.2.0)\n",
            "Requirement already satisfied: frozenlist>=1.1.1 in /usr/local/lib/python3.10/dist-packages (from aiohttp<4.0.0,>=3.8.3->langchain==0.2.0) (1.4.1)\n",
            "Requirement already satisfied: multidict<7.0,>=4.5 in /usr/local/lib/python3.10/dist-packages (from aiohttp<4.0.0,>=3.8.3->langchain==0.2.0) (6.0.5)\n",
            "Requirement already satisfied: yarl<2.0,>=1.0 in /usr/local/lib/python3.10/dist-packages (from aiohttp<4.0.0,>=3.8.3->langchain==0.2.0) (1.9.4)\n",
            "Requirement already satisfied: marshmallow<4.0.0,>=3.18.0 in /usr/local/lib/python3.10/dist-packages (from dataclasses-json<0.7,>=0.5.7->langchain==0.2.0) (3.21.3)\n",
            "Requirement already satisfied: typing-inspect<1,>=0.4.0 in /usr/local/lib/python3.10/dist-packages (from dataclasses-json<0.7,>=0.5.7->langchain==0.2.0) (0.9.0)\n",
            "Requirement already satisfied: jsonpatch<2.0,>=1.33 in /usr/local/lib/python3.10/dist-packages (from langchain-core<0.3.0,>=0.2.0->langchain==0.2.0) (1.33)\n",
            "Requirement already satisfied: packaging<25,>=23.2 in /usr/local/lib/python3.10/dist-packages (from langchain-core<0.3.0,>=0.2.0->langchain==0.2.0) (24.1)\n",
            "Requirement already satisfied: orjson<4.0.0,>=3.9.14 in /usr/local/lib/python3.10/dist-packages (from langsmith<0.2.0,>=0.1.17->langchain==0.2.0) (3.10.6)\n",
            "Requirement already satisfied: annotated-types>=0.4.0 in /usr/local/lib/python3.10/dist-packages (from pydantic<3,>=1->langchain==0.2.0) (0.7.0)\n",
            "Requirement already satisfied: pydantic-core==2.18.4 in /usr/local/lib/python3.10/dist-packages (from pydantic<3,>=1->langchain==0.2.0) (2.18.4)\n",
            "Requirement already satisfied: typing-extensions>=4.6.1 in /usr/local/lib/python3.10/dist-packages (from pydantic<3,>=1->langchain==0.2.0) (4.12.2)\n",
            "Requirement already satisfied: charset-normalizer<4,>=2 in /usr/local/lib/python3.10/dist-packages (from requests<3,>=2->langchain==0.2.0) (3.3.2)\n",
            "Requirement already satisfied: idna<4,>=2.5 in /usr/local/lib/python3.10/dist-packages (from requests<3,>=2->langchain==0.2.0) (3.7)\n",
            "Requirement already satisfied: urllib3<3,>=1.21.1 in /usr/local/lib/python3.10/dist-packages (from requests<3,>=2->langchain==0.2.0) (2.0.7)\n",
            "Requirement already satisfied: certifi>=2017.4.17 in /usr/local/lib/python3.10/dist-packages (from requests<3,>=2->langchain==0.2.0) (2024.6.2)\n",
            "Requirement already satisfied: greenlet!=0.4.17 in /usr/local/lib/python3.10/dist-packages (from SQLAlchemy<3,>=1.4->langchain==0.2.0) (3.0.3)\n",
            "Requirement already satisfied: jsonpointer>=1.9 in /usr/local/lib/python3.10/dist-packages (from jsonpatch<2.0,>=1.33->langchain-core<0.3.0,>=0.2.0->langchain==0.2.0) (3.0.0)\n",
            "Requirement already satisfied: mypy-extensions>=0.3.0 in /usr/local/lib/python3.10/dist-packages (from typing-inspect<1,>=0.4.0->dataclasses-json<0.7,>=0.5.7->langchain==0.2.0) (1.0.0)\n",
            "Requirement already satisfied: langchain-openai==0.1.7 in /usr/local/lib/python3.10/dist-packages (0.1.7)\n",
            "Requirement already satisfied: langchain-core<0.3,>=0.1.46 in /usr/local/lib/python3.10/dist-packages (from langchain-openai==0.1.7) (0.2.10)\n",
            "Requirement already satisfied: openai<2.0.0,>=1.24.0 in /usr/local/lib/python3.10/dist-packages (from langchain-openai==0.1.7) (1.35.8)\n",
            "Requirement already satisfied: tiktoken<1,>=0.7 in /usr/local/lib/python3.10/dist-packages (from langchain-openai==0.1.7) (0.7.0)\n",
            "Requirement already satisfied: PyYAML>=5.3 in /usr/local/lib/python3.10/dist-packages (from langchain-core<0.3,>=0.1.46->langchain-openai==0.1.7) (6.0.1)\n",
            "Requirement already satisfied: jsonpatch<2.0,>=1.33 in /usr/local/lib/python3.10/dist-packages (from langchain-core<0.3,>=0.1.46->langchain-openai==0.1.7) (1.33)\n",
            "Requirement already satisfied: langsmith<0.2.0,>=0.1.75 in /usr/local/lib/python3.10/dist-packages (from langchain-core<0.3,>=0.1.46->langchain-openai==0.1.7) (0.1.83)\n",
            "Requirement already satisfied: packaging<25,>=23.2 in /usr/local/lib/python3.10/dist-packages (from langchain-core<0.3,>=0.1.46->langchain-openai==0.1.7) (24.1)\n",
            "Requirement already satisfied: pydantic<3,>=1 in /usr/local/lib/python3.10/dist-packages (from langchain-core<0.3,>=0.1.46->langchain-openai==0.1.7) (2.7.4)\n",
            "Requirement already satisfied: tenacity!=8.4.0,<9.0.0,>=8.1.0 in /usr/local/lib/python3.10/dist-packages (from langchain-core<0.3,>=0.1.46->langchain-openai==0.1.7) (8.4.2)\n",
            "Requirement already satisfied: anyio<5,>=3.5.0 in /usr/local/lib/python3.10/dist-packages (from openai<2.0.0,>=1.24.0->langchain-openai==0.1.7) (3.7.1)\n",
            "Requirement already satisfied: distro<2,>=1.7.0 in /usr/lib/python3/dist-packages (from openai<2.0.0,>=1.24.0->langchain-openai==0.1.7) (1.7.0)\n",
            "Requirement already satisfied: httpx<1,>=0.23.0 in /usr/local/lib/python3.10/dist-packages (from openai<2.0.0,>=1.24.0->langchain-openai==0.1.7) (0.27.0)\n",
            "Requirement already satisfied: sniffio in /usr/local/lib/python3.10/dist-packages (from openai<2.0.0,>=1.24.0->langchain-openai==0.1.7) (1.3.1)\n",
            "Requirement already satisfied: tqdm>4 in /usr/local/lib/python3.10/dist-packages (from openai<2.0.0,>=1.24.0->langchain-openai==0.1.7) (4.66.4)\n",
            "Requirement already satisfied: typing-extensions<5,>=4.7 in /usr/local/lib/python3.10/dist-packages (from openai<2.0.0,>=1.24.0->langchain-openai==0.1.7) (4.12.2)\n",
            "Requirement already satisfied: regex>=2022.1.18 in /usr/local/lib/python3.10/dist-packages (from tiktoken<1,>=0.7->langchain-openai==0.1.7) (2024.5.15)\n",
            "Requirement already satisfied: requests>=2.26.0 in /usr/local/lib/python3.10/dist-packages (from tiktoken<1,>=0.7->langchain-openai==0.1.7) (2.31.0)\n",
            "Requirement already satisfied: idna>=2.8 in /usr/local/lib/python3.10/dist-packages (from anyio<5,>=3.5.0->openai<2.0.0,>=1.24.0->langchain-openai==0.1.7) (3.7)\n",
            "Requirement already satisfied: exceptiongroup in /usr/local/lib/python3.10/dist-packages (from anyio<5,>=3.5.0->openai<2.0.0,>=1.24.0->langchain-openai==0.1.7) (1.2.1)\n",
            "Requirement already satisfied: certifi in /usr/local/lib/python3.10/dist-packages (from httpx<1,>=0.23.0->openai<2.0.0,>=1.24.0->langchain-openai==0.1.7) (2024.6.2)\n",
            "Requirement already satisfied: httpcore==1.* in /usr/local/lib/python3.10/dist-packages (from httpx<1,>=0.23.0->openai<2.0.0,>=1.24.0->langchain-openai==0.1.7) (1.0.5)\n",
            "Requirement already satisfied: h11<0.15,>=0.13 in /usr/local/lib/python3.10/dist-packages (from httpcore==1.*->httpx<1,>=0.23.0->openai<2.0.0,>=1.24.0->langchain-openai==0.1.7) (0.14.0)\n",
            "Requirement already satisfied: jsonpointer>=1.9 in /usr/local/lib/python3.10/dist-packages (from jsonpatch<2.0,>=1.33->langchain-core<0.3,>=0.1.46->langchain-openai==0.1.7) (3.0.0)\n",
            "Requirement already satisfied: orjson<4.0.0,>=3.9.14 in /usr/local/lib/python3.10/dist-packages (from langsmith<0.2.0,>=0.1.75->langchain-core<0.3,>=0.1.46->langchain-openai==0.1.7) (3.10.6)\n",
            "Requirement already satisfied: annotated-types>=0.4.0 in /usr/local/lib/python3.10/dist-packages (from pydantic<3,>=1->langchain-core<0.3,>=0.1.46->langchain-openai==0.1.7) (0.7.0)\n",
            "Requirement already satisfied: pydantic-core==2.18.4 in /usr/local/lib/python3.10/dist-packages (from pydantic<3,>=1->langchain-core<0.3,>=0.1.46->langchain-openai==0.1.7) (2.18.4)\n",
            "Requirement already satisfied: charset-normalizer<4,>=2 in /usr/local/lib/python3.10/dist-packages (from requests>=2.26.0->tiktoken<1,>=0.7->langchain-openai==0.1.7) (3.3.2)\n",
            "Requirement already satisfied: urllib3<3,>=1.21.1 in /usr/local/lib/python3.10/dist-packages (from requests>=2.26.0->tiktoken<1,>=0.7->langchain-openai==0.1.7) (2.0.7)\n",
            "Requirement already satisfied: langchain-community==0.2.0 in /usr/local/lib/python3.10/dist-packages (0.2.0)\n",
            "Requirement already satisfied: PyYAML>=5.3 in /usr/local/lib/python3.10/dist-packages (from langchain-community==0.2.0) (6.0.1)\n",
            "Requirement already satisfied: SQLAlchemy<3,>=1.4 in /usr/local/lib/python3.10/dist-packages (from langchain-community==0.2.0) (2.0.31)\n",
            "Requirement already satisfied: aiohttp<4.0.0,>=3.8.3 in /usr/local/lib/python3.10/dist-packages (from langchain-community==0.2.0) (3.9.5)\n",
            "Requirement already satisfied: dataclasses-json<0.7,>=0.5.7 in /usr/local/lib/python3.10/dist-packages (from langchain-community==0.2.0) (0.6.7)\n",
            "Requirement already satisfied: langchain<0.3.0,>=0.2.0 in /usr/local/lib/python3.10/dist-packages (from langchain-community==0.2.0) (0.2.0)\n",
            "Requirement already satisfied: langchain-core<0.3.0,>=0.2.0 in /usr/local/lib/python3.10/dist-packages (from langchain-community==0.2.0) (0.2.10)\n",
            "Requirement already satisfied: langsmith<0.2.0,>=0.1.0 in /usr/local/lib/python3.10/dist-packages (from langchain-community==0.2.0) (0.1.83)\n",
            "Requirement already satisfied: numpy<2,>=1 in /usr/local/lib/python3.10/dist-packages (from langchain-community==0.2.0) (1.25.2)\n",
            "Requirement already satisfied: requests<3,>=2 in /usr/local/lib/python3.10/dist-packages (from langchain-community==0.2.0) (2.31.0)\n",
            "Requirement already satisfied: tenacity<9.0.0,>=8.1.0 in /usr/local/lib/python3.10/dist-packages (from langchain-community==0.2.0) (8.4.2)\n",
            "Requirement already satisfied: aiosignal>=1.1.2 in /usr/local/lib/python3.10/dist-packages (from aiohttp<4.0.0,>=3.8.3->langchain-community==0.2.0) (1.3.1)\n",
            "Requirement already satisfied: attrs>=17.3.0 in /usr/local/lib/python3.10/dist-packages (from aiohttp<4.0.0,>=3.8.3->langchain-community==0.2.0) (23.2.0)\n",
            "Requirement already satisfied: frozenlist>=1.1.1 in /usr/local/lib/python3.10/dist-packages (from aiohttp<4.0.0,>=3.8.3->langchain-community==0.2.0) (1.4.1)\n",
            "Requirement already satisfied: multidict<7.0,>=4.5 in /usr/local/lib/python3.10/dist-packages (from aiohttp<4.0.0,>=3.8.3->langchain-community==0.2.0) (6.0.5)\n",
            "Requirement already satisfied: yarl<2.0,>=1.0 in /usr/local/lib/python3.10/dist-packages (from aiohttp<4.0.0,>=3.8.3->langchain-community==0.2.0) (1.9.4)\n",
            "Requirement already satisfied: async-timeout<5.0,>=4.0 in /usr/local/lib/python3.10/dist-packages (from aiohttp<4.0.0,>=3.8.3->langchain-community==0.2.0) (4.0.3)\n",
            "Requirement already satisfied: marshmallow<4.0.0,>=3.18.0 in /usr/local/lib/python3.10/dist-packages (from dataclasses-json<0.7,>=0.5.7->langchain-community==0.2.0) (3.21.3)\n",
            "Requirement already satisfied: typing-inspect<1,>=0.4.0 in /usr/local/lib/python3.10/dist-packages (from dataclasses-json<0.7,>=0.5.7->langchain-community==0.2.0) (0.9.0)\n",
            "Requirement already satisfied: langchain-text-splitters<0.3.0,>=0.2.0 in /usr/local/lib/python3.10/dist-packages (from langchain<0.3.0,>=0.2.0->langchain-community==0.2.0) (0.2.2)\n",
            "Requirement already satisfied: pydantic<3,>=1 in /usr/local/lib/python3.10/dist-packages (from langchain<0.3.0,>=0.2.0->langchain-community==0.2.0) (2.7.4)\n",
            "Requirement already satisfied: jsonpatch<2.0,>=1.33 in /usr/local/lib/python3.10/dist-packages (from langchain-core<0.3.0,>=0.2.0->langchain-community==0.2.0) (1.33)\n",
            "Requirement already satisfied: packaging<25,>=23.2 in /usr/local/lib/python3.10/dist-packages (from langchain-core<0.3.0,>=0.2.0->langchain-community==0.2.0) (24.1)\n",
            "Requirement already satisfied: orjson<4.0.0,>=3.9.14 in /usr/local/lib/python3.10/dist-packages (from langsmith<0.2.0,>=0.1.0->langchain-community==0.2.0) (3.10.6)\n",
            "Requirement already satisfied: charset-normalizer<4,>=2 in /usr/local/lib/python3.10/dist-packages (from requests<3,>=2->langchain-community==0.2.0) (3.3.2)\n",
            "Requirement already satisfied: idna<4,>=2.5 in /usr/local/lib/python3.10/dist-packages (from requests<3,>=2->langchain-community==0.2.0) (3.7)\n",
            "Requirement already satisfied: urllib3<3,>=1.21.1 in /usr/local/lib/python3.10/dist-packages (from requests<3,>=2->langchain-community==0.2.0) (2.0.7)\n",
            "Requirement already satisfied: certifi>=2017.4.17 in /usr/local/lib/python3.10/dist-packages (from requests<3,>=2->langchain-community==0.2.0) (2024.6.2)\n",
            "Requirement already satisfied: typing-extensions>=4.6.0 in /usr/local/lib/python3.10/dist-packages (from SQLAlchemy<3,>=1.4->langchain-community==0.2.0) (4.12.2)\n",
            "Requirement already satisfied: greenlet!=0.4.17 in /usr/local/lib/python3.10/dist-packages (from SQLAlchemy<3,>=1.4->langchain-community==0.2.0) (3.0.3)\n",
            "Requirement already satisfied: jsonpointer>=1.9 in /usr/local/lib/python3.10/dist-packages (from jsonpatch<2.0,>=1.33->langchain-core<0.3.0,>=0.2.0->langchain-community==0.2.0) (3.0.0)\n",
            "Requirement already satisfied: annotated-types>=0.4.0 in /usr/local/lib/python3.10/dist-packages (from pydantic<3,>=1->langchain<0.3.0,>=0.2.0->langchain-community==0.2.0) (0.7.0)\n",
            "Requirement already satisfied: pydantic-core==2.18.4 in /usr/local/lib/python3.10/dist-packages (from pydantic<3,>=1->langchain<0.3.0,>=0.2.0->langchain-community==0.2.0) (2.18.4)\n",
            "Requirement already satisfied: mypy-extensions>=0.3.0 in /usr/local/lib/python3.10/dist-packages (from typing-inspect<1,>=0.4.0->dataclasses-json<0.7,>=0.5.7->langchain-community==0.2.0) (1.0.0)\n",
            "Traceback (most recent call last):\n",
            "  File \"/usr/local/lib/python3.10/dist-packages/pip/_vendor/pkg_resources/__init__.py\", line 3108, in _dep_map\n",
            "    return self.__dep_map\n",
            "  File \"/usr/local/lib/python3.10/dist-packages/pip/_vendor/pkg_resources/__init__.py\", line 2901, in __getattr__\n",
            "    raise AttributeError(attr)\n",
            "AttributeError: _DistInfoDistribution__dep_map\n",
            "\n",
            "During handling of the above exception, another exception occurred:\n",
            "\n",
            "Traceback (most recent call last):\n",
            "  File \"/usr/local/lib/python3.10/dist-packages/pip/_internal/cli/base_command.py\", line 169, in exc_logging_wrapper\n",
            "    status = run_func(*args)\n",
            "  File \"/usr/local/lib/python3.10/dist-packages/pip/_internal/cli/req_command.py\", line 242, in wrapper\n",
            "    return func(self, options, args)\n",
            "  File \"/usr/local/lib/python3.10/dist-packages/pip/_internal/commands/install.py\", line 441, in run\n",
            "    conflicts = self._determine_conflicts(to_install)\n",
            "  File \"/usr/local/lib/python3.10/dist-packages/pip/_internal/commands/install.py\", line 572, in _determine_conflicts\n",
            "    return check_install_conflicts(to_install)\n",
            "  File \"/usr/local/lib/python3.10/dist-packages/pip/_internal/operations/check.py\", line 101, in check_install_conflicts\n",
            "    package_set, _ = create_package_set_from_installed()\n",
            "  File \"/usr/local/lib/python3.10/dist-packages/pip/_internal/operations/check.py\", line 42, in create_package_set_from_installed\n",
            "    dependencies = list(dist.iter_dependencies())\n",
            "  File \"/usr/local/lib/python3.10/dist-packages/pip/_internal/metadata/pkg_resources.py\", line 216, in iter_dependencies\n",
            "    return self._dist.requires(extras)\n",
            "  File \"/usr/local/lib/python3.10/dist-packages/pip/_vendor/pkg_resources/__init__.py\", line 2821, in requires\n",
            "    dm = self._dep_map\n",
            "  File \"/usr/local/lib/python3.10/dist-packages/pip/_vendor/pkg_resources/__init__.py\", line 3110, in _dep_map\n",
            "    self.__dep_map = self._compute_dependencies()\n",
            "  File \"/usr/local/lib/python3.10/dist-packages/pip/_vendor/pkg_resources/__init__.py\", line 3120, in _compute_dependencies\n",
            "    reqs.extend(parse_requirements(req))\n",
            "  File \"/usr/local/lib/python3.10/dist-packages/pip/_vendor/pkg_resources/__init__.py\", line 3173, in __init__\n",
            "    super(Requirement, self).__init__(requirement_string)\n",
            "  File \"/usr/local/lib/python3.10/dist-packages/pip/_vendor/packaging/requirements.py\", line 102, in __init__\n",
            "    req = REQUIREMENT.parseString(requirement_string)\n",
            "  File \"/usr/local/lib/python3.10/dist-packages/pip/_vendor/pyparsing/core.py\", line 1131, in parse_string\n",
            "    loc, tokens = self._parse(instring, 0)\n",
            "  File \"/usr/local/lib/python3.10/dist-packages/pip/_vendor/pyparsing/core.py\", line 817, in _parseNoCache\n",
            "    loc, tokens = self.parseImpl(instring, pre_loc, doActions)\n",
            "  File \"/usr/local/lib/python3.10/dist-packages/pip/_vendor/pyparsing/core.py\", line 3886, in parseImpl\n",
            "    loc, exprtokens = e._parse(instring, loc, doActions)\n",
            "  File \"/usr/local/lib/python3.10/dist-packages/pip/_vendor/pyparsing/core.py\", line 817, in _parseNoCache\n",
            "    loc, tokens = self.parseImpl(instring, pre_loc, doActions)\n",
            "  File \"/usr/local/lib/python3.10/dist-packages/pip/_vendor/pyparsing/core.py\", line 4114, in parseImpl\n",
            "    return e._parse(\n",
            "  File \"/usr/local/lib/python3.10/dist-packages/pip/_vendor/pyparsing/core.py\", line 817, in _parseNoCache\n",
            "    loc, tokens = self.parseImpl(instring, pre_loc, doActions)\n",
            "  File \"/usr/local/lib/python3.10/dist-packages/pip/_vendor/pyparsing/core.py\", line 3886, in parseImpl\n",
            "    loc, exprtokens = e._parse(instring, loc, doActions)\n",
            "  File \"/usr/local/lib/python3.10/dist-packages/pip/_vendor/pyparsing/core.py\", line 817, in _parseNoCache\n",
            "    loc, tokens = self.parseImpl(instring, pre_loc, doActions)\n",
            "  File \"/usr/local/lib/python3.10/dist-packages/pip/_vendor/pyparsing/core.py\", line 4959, in parseImpl\n",
            "    loc, tokens = self_expr._parse(instring, loc, doActions, callPreParse=False)\n",
            "  File \"/usr/local/lib/python3.10/dist-packages/pip/_vendor/pyparsing/core.py\", line 817, in _parseNoCache\n",
            "    loc, tokens = self.parseImpl(instring, pre_loc, doActions)\n",
            "  File \"/usr/local/lib/python3.10/dist-packages/pip/_vendor/pyparsing/core.py\", line 3886, in parseImpl\n",
            "    loc, exprtokens = e._parse(instring, loc, doActions)\n",
            "  File \"/usr/local/lib/python3.10/dist-packages/pip/_vendor/pyparsing/core.py\", line 817, in _parseNoCache\n",
            "    loc, tokens = self.parseImpl(instring, pre_loc, doActions)\n",
            "  File \"/usr/local/lib/python3.10/dist-packages/pip/_vendor/pyparsing/core.py\", line 3886, in parseImpl\n",
            "    loc, exprtokens = e._parse(instring, loc, doActions)\n",
            "  File \"/usr/local/lib/python3.10/dist-packages/pip/_vendor/pyparsing/core.py\", line 828, in _parseNoCache\n",
            "    if self.parseAction and (doActions or self.callDuringTry):\n",
            "KeyboardInterrupt\n",
            "\n",
            "During handling of the above exception, another exception occurred:\n",
            "\n",
            "Traceback (most recent call last):\n",
            "  File \"/usr/lib/python3.10/logging/__init__.py\", line 1732, in isEnabledFor\n",
            "    return self._cache[level]\n",
            "KeyError: 50\n",
            "\n",
            "During handling of the above exception, another exception occurred:\n",
            "\n",
            "Traceback (most recent call last):\n",
            "  File \"/usr/local/bin/pip3\", line 8, in <module>\n",
            "    sys.exit(main())\n",
            "  File \"/usr/local/lib/python3.10/dist-packages/pip/_internal/cli/main.py\", line 79, in main\n",
            "    return command.main(cmd_args)\n",
            "  File \"/usr/local/lib/python3.10/dist-packages/pip/_internal/cli/base_command.py\", line 101, in main\n",
            "    return self._main(args)\n",
            "  File \"/usr/local/lib/python3.10/dist-packages/pip/_internal/cli/base_command.py\", line 223, in _main\n",
            "    return run(options, args)\n",
            "  File \"/usr/local/lib/python3.10/dist-packages/pip/_internal/cli/base_command.py\", line 206, in exc_logging_wrapper\n",
            "    logger.critical(\"Operation cancelled by user\")\n",
            "  File \"/usr/lib/python3.10/logging/__init__.py\", line 1523, in critical\n",
            "    if self.isEnabledFor(CRITICAL):\n",
            "  File \"/usr/lib/python3.10/logging/__init__.py\", line 1732, in isEnabledFor\n",
            "    return self._cache[level]\n",
            "KeyboardInterrupt\n",
            "^C\n"
          ]
        }
      ],
      "source": [
        "!pip install langchain==0.2.0\n",
        "!pip install langchain-openai==0.1.7\n",
        "!pip install langchain-community==0.2.0"
      ]
    },
    {
      "cell_type": "code",
      "source": [
        "## unstructured.io --> takes 2 to 5 mins to install on colab\n",
        "!pip install \"unstructured[all-docs]==0.14.0\""
      ],
      "metadata": {
        "colab": {
          "base_uri": "https://localhost:8080/"
        },
        "id": "X4SgPYlusMha",
        "outputId": "06396403-ca60-42b7-f32d-270648621363"
      },
      "execution_count": 1,
      "outputs": [
        {
          "output_type": "stream",
          "name": "stdout",
          "text": [
            "Requirement already satisfied: unstructured[all-docs]==0.14.0 in /usr/local/lib/python3.10/dist-packages (0.14.0)\n",
            "Requirement already satisfied: chardet in /usr/local/lib/python3.10/dist-packages (from unstructured[all-docs]==0.14.0) (5.2.0)\n",
            "Requirement already satisfied: filetype in /usr/local/lib/python3.10/dist-packages (from unstructured[all-docs]==0.14.0) (1.2.0)\n",
            "Requirement already satisfied: python-magic in /usr/local/lib/python3.10/dist-packages (from unstructured[all-docs]==0.14.0) (0.4.27)\n",
            "Requirement already satisfied: lxml in /usr/local/lib/python3.10/dist-packages (from unstructured[all-docs]==0.14.0) (4.9.4)\n",
            "Requirement already satisfied: nltk in /usr/local/lib/python3.10/dist-packages (from unstructured[all-docs]==0.14.0) (3.8.1)\n",
            "Requirement already satisfied: tabulate in /usr/local/lib/python3.10/dist-packages (from unstructured[all-docs]==0.14.0) (0.9.0)\n",
            "Requirement already satisfied: requests in /usr/local/lib/python3.10/dist-packages (from unstructured[all-docs]==0.14.0) (2.31.0)\n",
            "Requirement already satisfied: beautifulsoup4 in /usr/local/lib/python3.10/dist-packages (from unstructured[all-docs]==0.14.0) (4.12.3)\n",
            "Requirement already satisfied: emoji in /usr/local/lib/python3.10/dist-packages (from unstructured[all-docs]==0.14.0) (2.12.1)\n",
            "Requirement already satisfied: dataclasses-json in /usr/local/lib/python3.10/dist-packages (from unstructured[all-docs]==0.14.0) (0.6.7)\n",
            "Requirement already satisfied: python-iso639 in /usr/local/lib/python3.10/dist-packages (from unstructured[all-docs]==0.14.0) (2024.4.27)\n",
            "Requirement already satisfied: langdetect in /usr/local/lib/python3.10/dist-packages (from unstructured[all-docs]==0.14.0) (1.0.9)\n",
            "Requirement already satisfied: numpy in /usr/local/lib/python3.10/dist-packages (from unstructured[all-docs]==0.14.0) (1.25.2)\n",
            "Requirement already satisfied: rapidfuzz in /usr/local/lib/python3.10/dist-packages (from unstructured[all-docs]==0.14.0) (3.9.3)\n",
            "Requirement already satisfied: backoff in /usr/local/lib/python3.10/dist-packages (from unstructured[all-docs]==0.14.0) (2.2.1)\n",
            "Requirement already satisfied: typing-extensions in /usr/local/lib/python3.10/dist-packages (from unstructured[all-docs]==0.14.0) (4.12.2)\n",
            "Requirement already satisfied: unstructured-client in /usr/local/lib/python3.10/dist-packages (from unstructured[all-docs]==0.14.0) (0.23.8)\n",
            "Requirement already satisfied: wrapt in /usr/local/lib/python3.10/dist-packages (from unstructured[all-docs]==0.14.0) (1.14.1)\n",
            "Requirement already satisfied: pikepdf in /usr/local/lib/python3.10/dist-packages (from unstructured[all-docs]==0.14.0) (9.0.0)\n",
            "Requirement already satisfied: pdfminer.six in /usr/local/lib/python3.10/dist-packages (from unstructured[all-docs]==0.14.0) (20231228)\n",
            "Requirement already satisfied: python-pptx<=0.6.23 in /usr/local/lib/python3.10/dist-packages (from unstructured[all-docs]==0.14.0) (0.6.23)\n",
            "Requirement already satisfied: networkx in /usr/local/lib/python3.10/dist-packages (from unstructured[all-docs]==0.14.0) (3.3)\n",
            "Requirement already satisfied: pdf2image in /usr/local/lib/python3.10/dist-packages (from unstructured[all-docs]==0.14.0) (1.17.0)\n",
            "Requirement already satisfied: pypandoc in /usr/local/lib/python3.10/dist-packages (from unstructured[all-docs]==0.14.0) (1.13)\n",
            "Requirement already satisfied: onnx in /usr/local/lib/python3.10/dist-packages (from unstructured[all-docs]==0.14.0) (1.16.1)\n",
            "Requirement already satisfied: unstructured.pytesseract>=0.3.12 in /usr/local/lib/python3.10/dist-packages (from unstructured[all-docs]==0.14.0) (0.3.12)\n",
            "Requirement already satisfied: google-cloud-vision in /usr/local/lib/python3.10/dist-packages (from unstructured[all-docs]==0.14.0) (3.7.2)\n",
            "Requirement already satisfied: python-docx in /usr/local/lib/python3.10/dist-packages (from unstructured[all-docs]==0.14.0) (1.1.2)\n",
            "Requirement already satisfied: pypdf in /usr/local/lib/python3.10/dist-packages (from unstructured[all-docs]==0.14.0) (4.2.0)\n",
            "Requirement already satisfied: pandas in /usr/local/lib/python3.10/dist-packages (from unstructured[all-docs]==0.14.0) (2.0.3)\n",
            "Requirement already satisfied: pillow-heif in /usr/local/lib/python3.10/dist-packages (from unstructured[all-docs]==0.14.0) (0.17.0)\n",
            "Requirement already satisfied: markdown in /usr/local/lib/python3.10/dist-packages (from unstructured[all-docs]==0.14.0) (3.6)\n",
            "Requirement already satisfied: msg-parser in /usr/local/lib/python3.10/dist-packages (from unstructured[all-docs]==0.14.0) (1.2.0)\n",
            "Requirement already satisfied: unstructured-inference==0.7.31 in /usr/local/lib/python3.10/dist-packages (from unstructured[all-docs]==0.14.0) (0.7.31)\n",
            "Requirement already satisfied: openpyxl in /usr/local/lib/python3.10/dist-packages (from unstructured[all-docs]==0.14.0) (3.1.5)\n",
            "Requirement already satisfied: xlrd in /usr/local/lib/python3.10/dist-packages (from unstructured[all-docs]==0.14.0) (2.0.1)\n",
            "Requirement already satisfied: layoutparser[layoutmodels,tesseract] in /usr/local/lib/python3.10/dist-packages (from unstructured-inference==0.7.31->unstructured[all-docs]==0.14.0) (0.3.4)\n",
            "Requirement already satisfied: python-multipart in /usr/local/lib/python3.10/dist-packages (from unstructured-inference==0.7.31->unstructured[all-docs]==0.14.0) (0.0.9)\n",
            "Requirement already satisfied: huggingface-hub in /usr/local/lib/python3.10/dist-packages (from unstructured-inference==0.7.31->unstructured[all-docs]==0.14.0) (0.23.4)\n",
            "Requirement already satisfied: opencv-python!=4.7.0.68 in /usr/local/lib/python3.10/dist-packages (from unstructured-inference==0.7.31->unstructured[all-docs]==0.14.0) (4.8.0.76)\n",
            "Requirement already satisfied: onnxruntime>=1.17.0 in /usr/local/lib/python3.10/dist-packages (from unstructured-inference==0.7.31->unstructured[all-docs]==0.14.0) (1.18.1)\n",
            "Requirement already satisfied: transformers>=4.25.1 in /usr/local/lib/python3.10/dist-packages (from unstructured-inference==0.7.31->unstructured[all-docs]==0.14.0) (4.41.2)\n",
            "Requirement already satisfied: Pillow>=3.3.2 in /usr/local/lib/python3.10/dist-packages (from python-pptx<=0.6.23->unstructured[all-docs]==0.14.0) (10.4.0)\n",
            "Requirement already satisfied: XlsxWriter>=0.5.7 in /usr/local/lib/python3.10/dist-packages (from python-pptx<=0.6.23->unstructured[all-docs]==0.14.0) (3.2.0)\n",
            "Requirement already satisfied: packaging>=21.3 in /usr/local/lib/python3.10/dist-packages (from unstructured.pytesseract>=0.3.12->unstructured[all-docs]==0.14.0) (24.1)\n",
            "Requirement already satisfied: soupsieve>1.2 in /usr/local/lib/python3.10/dist-packages (from beautifulsoup4->unstructured[all-docs]==0.14.0) (2.5)\n",
            "Requirement already satisfied: marshmallow<4.0.0,>=3.18.0 in /usr/local/lib/python3.10/dist-packages (from dataclasses-json->unstructured[all-docs]==0.14.0) (3.21.3)\n",
            "Requirement already satisfied: typing-inspect<1,>=0.4.0 in /usr/local/lib/python3.10/dist-packages (from dataclasses-json->unstructured[all-docs]==0.14.0) (0.9.0)\n",
            "Requirement already satisfied: google-api-core[grpc]!=2.0.*,!=2.1.*,!=2.10.*,!=2.2.*,!=2.3.*,!=2.4.*,!=2.5.*,!=2.6.*,!=2.7.*,!=2.8.*,!=2.9.*,<3.0.0dev,>=1.34.1 in /usr/local/lib/python3.10/dist-packages (from google-cloud-vision->unstructured[all-docs]==0.14.0) (2.16.2)\n",
            "Requirement already satisfied: google-auth!=2.24.0,!=2.25.0,<3.0.0dev,>=2.14.1 in /usr/local/lib/python3.10/dist-packages (from google-cloud-vision->unstructured[all-docs]==0.14.0) (2.27.0)\n",
            "Requirement already satisfied: proto-plus<2.0.0dev,>=1.22.3 in /usr/local/lib/python3.10/dist-packages (from google-cloud-vision->unstructured[all-docs]==0.14.0) (1.24.0)\n",
            "Requirement already satisfied: protobuf!=3.20.0,!=3.20.1,!=4.21.0,!=4.21.1,!=4.21.2,!=4.21.3,!=4.21.4,!=4.21.5,<5.0.0dev,>=3.19.5 in /usr/local/lib/python3.10/dist-packages (from google-cloud-vision->unstructured[all-docs]==0.14.0) (3.20.3)\n",
            "Requirement already satisfied: six in /usr/local/lib/python3.10/dist-packages (from langdetect->unstructured[all-docs]==0.14.0) (1.16.0)\n",
            "Requirement already satisfied: olefile>=0.46 in /usr/local/lib/python3.10/dist-packages (from msg-parser->unstructured[all-docs]==0.14.0) (0.47)\n",
            "Requirement already satisfied: click in /usr/local/lib/python3.10/dist-packages (from nltk->unstructured[all-docs]==0.14.0) (8.1.7)\n",
            "Requirement already satisfied: joblib in /usr/local/lib/python3.10/dist-packages (from nltk->unstructured[all-docs]==0.14.0) (1.4.2)\n",
            "Requirement already satisfied: regex>=2021.8.3 in /usr/local/lib/python3.10/dist-packages (from nltk->unstructured[all-docs]==0.14.0) (2024.5.15)\n",
            "Requirement already satisfied: tqdm in /usr/local/lib/python3.10/dist-packages (from nltk->unstructured[all-docs]==0.14.0) (4.66.4)\n",
            "Requirement already satisfied: et-xmlfile in /usr/local/lib/python3.10/dist-packages (from openpyxl->unstructured[all-docs]==0.14.0) (1.1.0)\n",
            "Requirement already satisfied: python-dateutil>=2.8.2 in /usr/local/lib/python3.10/dist-packages (from pandas->unstructured[all-docs]==0.14.0) (2.8.2)\n",
            "Requirement already satisfied: pytz>=2020.1 in /usr/local/lib/python3.10/dist-packages (from pandas->unstructured[all-docs]==0.14.0) (2023.4)\n",
            "Requirement already satisfied: tzdata>=2022.1 in /usr/local/lib/python3.10/dist-packages (from pandas->unstructured[all-docs]==0.14.0) (2024.1)\n",
            "Requirement already satisfied: charset-normalizer>=2.0.0 in /usr/local/lib/python3.10/dist-packages (from pdfminer.six->unstructured[all-docs]==0.14.0) (3.3.2)\n",
            "Requirement already satisfied: cryptography>=36.0.0 in /usr/local/lib/python3.10/dist-packages (from pdfminer.six->unstructured[all-docs]==0.14.0) (42.0.8)\n",
            "Requirement already satisfied: Deprecated in /usr/local/lib/python3.10/dist-packages (from pikepdf->unstructured[all-docs]==0.14.0) (1.2.14)\n",
            "Requirement already satisfied: idna<4,>=2.5 in /usr/local/lib/python3.10/dist-packages (from requests->unstructured[all-docs]==0.14.0) (3.7)\n",
            "Requirement already satisfied: urllib3<3,>=1.21.1 in /usr/local/lib/python3.10/dist-packages (from requests->unstructured[all-docs]==0.14.0) (2.0.7)\n",
            "Requirement already satisfied: certifi>=2017.4.17 in /usr/local/lib/python3.10/dist-packages (from requests->unstructured[all-docs]==0.14.0) (2024.6.2)\n",
            "Requirement already satisfied: deepdiff>=6.0 in /usr/local/lib/python3.10/dist-packages (from unstructured-client->unstructured[all-docs]==0.14.0) (7.0.1)\n",
            "Requirement already satisfied: httpx>=0.27.0 in /usr/local/lib/python3.10/dist-packages (from unstructured-client->unstructured[all-docs]==0.14.0) (0.27.0)\n",
            "Requirement already satisfied: jsonpath-python>=1.0.6 in /usr/local/lib/python3.10/dist-packages (from unstructured-client->unstructured[all-docs]==0.14.0) (1.0.6)\n",
            "Requirement already satisfied: mypy-extensions>=1.0.0 in /usr/local/lib/python3.10/dist-packages (from unstructured-client->unstructured[all-docs]==0.14.0) (1.0.0)\n",
            "Requirement already satisfied: nest-asyncio>=1.6.0 in /usr/local/lib/python3.10/dist-packages (from unstructured-client->unstructured[all-docs]==0.14.0) (1.6.0)\n",
            "Requirement already satisfied: requests-toolbelt>=1.0.0 in /usr/local/lib/python3.10/dist-packages (from unstructured-client->unstructured[all-docs]==0.14.0) (1.0.0)\n",
            "Requirement already satisfied: cffi>=1.12 in /usr/local/lib/python3.10/dist-packages (from cryptography>=36.0.0->pdfminer.six->unstructured[all-docs]==0.14.0) (1.16.0)\n",
            "Requirement already satisfied: ordered-set<4.2.0,>=4.1.0 in /usr/local/lib/python3.10/dist-packages (from deepdiff>=6.0->unstructured-client->unstructured[all-docs]==0.14.0) (4.1.0)\n",
            "Requirement already satisfied: googleapis-common-protos<2.0.dev0,>=1.56.2 in /usr/local/lib/python3.10/dist-packages (from google-api-core[grpc]!=2.0.*,!=2.1.*,!=2.10.*,!=2.2.*,!=2.3.*,!=2.4.*,!=2.5.*,!=2.6.*,!=2.7.*,!=2.8.*,!=2.9.*,<3.0.0dev,>=1.34.1->google-cloud-vision->unstructured[all-docs]==0.14.0) (1.63.2)\n",
            "Requirement already satisfied: grpcio<2.0dev,>=1.33.2 in /usr/local/lib/python3.10/dist-packages (from google-api-core[grpc]!=2.0.*,!=2.1.*,!=2.10.*,!=2.2.*,!=2.3.*,!=2.4.*,!=2.5.*,!=2.6.*,!=2.7.*,!=2.8.*,!=2.9.*,<3.0.0dev,>=1.34.1->google-cloud-vision->unstructured[all-docs]==0.14.0) (1.64.1)\n",
            "Requirement already satisfied: grpcio-status<2.0.dev0,>=1.33.2 in /usr/local/lib/python3.10/dist-packages (from google-api-core[grpc]!=2.0.*,!=2.1.*,!=2.10.*,!=2.2.*,!=2.3.*,!=2.4.*,!=2.5.*,!=2.6.*,!=2.7.*,!=2.8.*,!=2.9.*,<3.0.0dev,>=1.34.1->google-cloud-vision->unstructured[all-docs]==0.14.0) (1.48.2)\n",
            "Requirement already satisfied: cachetools<6.0,>=2.0.0 in /usr/local/lib/python3.10/dist-packages (from google-auth!=2.24.0,!=2.25.0,<3.0.0dev,>=2.14.1->google-cloud-vision->unstructured[all-docs]==0.14.0) (5.3.3)\n",
            "Requirement already satisfied: pyasn1-modules>=0.2.1 in /usr/local/lib/python3.10/dist-packages (from google-auth!=2.24.0,!=2.25.0,<3.0.0dev,>=2.14.1->google-cloud-vision->unstructured[all-docs]==0.14.0) (0.4.0)\n",
            "Requirement already satisfied: rsa<5,>=3.1.4 in /usr/local/lib/python3.10/dist-packages (from google-auth!=2.24.0,!=2.25.0,<3.0.0dev,>=2.14.1->google-cloud-vision->unstructured[all-docs]==0.14.0) (4.9)\n",
            "Requirement already satisfied: anyio in /usr/local/lib/python3.10/dist-packages (from httpx>=0.27.0->unstructured-client->unstructured[all-docs]==0.14.0) (3.7.1)\n",
            "Requirement already satisfied: httpcore==1.* in /usr/local/lib/python3.10/dist-packages (from httpx>=0.27.0->unstructured-client->unstructured[all-docs]==0.14.0) (1.0.5)\n",
            "Requirement already satisfied: sniffio in /usr/local/lib/python3.10/dist-packages (from httpx>=0.27.0->unstructured-client->unstructured[all-docs]==0.14.0) (1.3.1)\n",
            "Requirement already satisfied: h11<0.15,>=0.13 in /usr/local/lib/python3.10/dist-packages (from httpcore==1.*->httpx>=0.27.0->unstructured-client->unstructured[all-docs]==0.14.0) (0.14.0)\n",
            "Requirement already satisfied: coloredlogs in /usr/local/lib/python3.10/dist-packages (from onnxruntime>=1.17.0->unstructured-inference==0.7.31->unstructured[all-docs]==0.14.0) (15.0.1)\n",
            "Requirement already satisfied: flatbuffers in /usr/local/lib/python3.10/dist-packages (from onnxruntime>=1.17.0->unstructured-inference==0.7.31->unstructured[all-docs]==0.14.0) (24.3.25)\n",
            "Requirement already satisfied: sympy in /usr/local/lib/python3.10/dist-packages (from onnxruntime>=1.17.0->unstructured-inference==0.7.31->unstructured[all-docs]==0.14.0) (1.12.1)\n",
            "Requirement already satisfied: filelock in /usr/local/lib/python3.10/dist-packages (from transformers>=4.25.1->unstructured-inference==0.7.31->unstructured[all-docs]==0.14.0) (3.15.4)\n",
            "Requirement already satisfied: pyyaml>=5.1 in /usr/local/lib/python3.10/dist-packages (from transformers>=4.25.1->unstructured-inference==0.7.31->unstructured[all-docs]==0.14.0) (6.0.1)\n",
            "Requirement already satisfied: tokenizers<0.20,>=0.19 in /usr/local/lib/python3.10/dist-packages (from transformers>=4.25.1->unstructured-inference==0.7.31->unstructured[all-docs]==0.14.0) (0.19.1)\n",
            "Requirement already satisfied: safetensors>=0.4.1 in /usr/local/lib/python3.10/dist-packages (from transformers>=4.25.1->unstructured-inference==0.7.31->unstructured[all-docs]==0.14.0) (0.4.3)\n",
            "Requirement already satisfied: fsspec>=2023.5.0 in /usr/local/lib/python3.10/dist-packages (from huggingface-hub->unstructured-inference==0.7.31->unstructured[all-docs]==0.14.0) (2023.6.0)\n",
            "Requirement already satisfied: scipy in /usr/local/lib/python3.10/dist-packages (from layoutparser[layoutmodels,tesseract]->unstructured-inference==0.7.31->unstructured[all-docs]==0.14.0) (1.11.4)\n",
            "Requirement already satisfied: iopath in /usr/local/lib/python3.10/dist-packages (from layoutparser[layoutmodels,tesseract]->unstructured-inference==0.7.31->unstructured[all-docs]==0.14.0) (0.1.10)\n",
            "Requirement already satisfied: pdfplumber in /usr/local/lib/python3.10/dist-packages (from layoutparser[layoutmodels,tesseract]->unstructured-inference==0.7.31->unstructured[all-docs]==0.14.0) (0.11.1)\n",
            "Requirement already satisfied: torch in /usr/local/lib/python3.10/dist-packages (from layoutparser[layoutmodels,tesseract]->unstructured-inference==0.7.31->unstructured[all-docs]==0.14.0) (2.3.0+cu121)\n",
            "Requirement already satisfied: torchvision in /usr/local/lib/python3.10/dist-packages (from layoutparser[layoutmodels,tesseract]->unstructured-inference==0.7.31->unstructured[all-docs]==0.14.0) (0.18.0+cu121)\n",
            "Requirement already satisfied: effdet in /usr/local/lib/python3.10/dist-packages (from layoutparser[layoutmodels,tesseract]->unstructured-inference==0.7.31->unstructured[all-docs]==0.14.0) (0.4.1)\n",
            "Requirement already satisfied: pytesseract in /usr/local/lib/python3.10/dist-packages (from layoutparser[layoutmodels,tesseract]->unstructured-inference==0.7.31->unstructured[all-docs]==0.14.0) (0.3.10)\n",
            "Requirement already satisfied: pycparser in /usr/local/lib/python3.10/dist-packages (from cffi>=1.12->cryptography>=36.0.0->pdfminer.six->unstructured[all-docs]==0.14.0) (2.22)\n",
            "Requirement already satisfied: pyasn1<0.7.0,>=0.4.6 in /usr/local/lib/python3.10/dist-packages (from pyasn1-modules>=0.2.1->google-auth!=2.24.0,!=2.25.0,<3.0.0dev,>=2.14.1->google-cloud-vision->unstructured[all-docs]==0.14.0) (0.6.0)\n",
            "Requirement already satisfied: exceptiongroup in /usr/local/lib/python3.10/dist-packages (from anyio->httpx>=0.27.0->unstructured-client->unstructured[all-docs]==0.14.0) (1.2.1)\n",
            "Requirement already satisfied: humanfriendly>=9.1 in /usr/local/lib/python3.10/dist-packages (from coloredlogs->onnxruntime>=1.17.0->unstructured-inference==0.7.31->unstructured[all-docs]==0.14.0) (10.0)\n",
            "Requirement already satisfied: timm>=0.9.2 in /usr/local/lib/python3.10/dist-packages (from effdet->layoutparser[layoutmodels,tesseract]->unstructured-inference==0.7.31->unstructured[all-docs]==0.14.0) (1.0.7)\n",
            "Requirement already satisfied: pycocotools>=2.0.2 in /usr/local/lib/python3.10/dist-packages (from effdet->layoutparser[layoutmodels,tesseract]->unstructured-inference==0.7.31->unstructured[all-docs]==0.14.0) (2.0.8)\n",
            "Requirement already satisfied: omegaconf>=2.0 in /usr/local/lib/python3.10/dist-packages (from effdet->layoutparser[layoutmodels,tesseract]->unstructured-inference==0.7.31->unstructured[all-docs]==0.14.0) (2.3.0)\n",
            "Requirement already satisfied: jinja2 in /usr/local/lib/python3.10/dist-packages (from torch->layoutparser[layoutmodels,tesseract]->unstructured-inference==0.7.31->unstructured[all-docs]==0.14.0) (3.1.4)\n",
            "Requirement already satisfied: nvidia-cuda-nvrtc-cu12==12.1.105 in /usr/local/lib/python3.10/dist-packages (from torch->layoutparser[layoutmodels,tesseract]->unstructured-inference==0.7.31->unstructured[all-docs]==0.14.0) (12.1.105)\n",
            "Requirement already satisfied: nvidia-cuda-runtime-cu12==12.1.105 in /usr/local/lib/python3.10/dist-packages (from torch->layoutparser[layoutmodels,tesseract]->unstructured-inference==0.7.31->unstructured[all-docs]==0.14.0) (12.1.105)\n",
            "Requirement already satisfied: nvidia-cuda-cupti-cu12==12.1.105 in /usr/local/lib/python3.10/dist-packages (from torch->layoutparser[layoutmodels,tesseract]->unstructured-inference==0.7.31->unstructured[all-docs]==0.14.0) (12.1.105)\n",
            "Requirement already satisfied: nvidia-cudnn-cu12==8.9.2.26 in /usr/local/lib/python3.10/dist-packages (from torch->layoutparser[layoutmodels,tesseract]->unstructured-inference==0.7.31->unstructured[all-docs]==0.14.0) (8.9.2.26)\n",
            "Requirement already satisfied: nvidia-cublas-cu12==12.1.3.1 in /usr/local/lib/python3.10/dist-packages (from torch->layoutparser[layoutmodels,tesseract]->unstructured-inference==0.7.31->unstructured[all-docs]==0.14.0) (12.1.3.1)\n",
            "Requirement already satisfied: nvidia-cufft-cu12==11.0.2.54 in /usr/local/lib/python3.10/dist-packages (from torch->layoutparser[layoutmodels,tesseract]->unstructured-inference==0.7.31->unstructured[all-docs]==0.14.0) (11.0.2.54)\n",
            "Requirement already satisfied: nvidia-curand-cu12==10.3.2.106 in /usr/local/lib/python3.10/dist-packages (from torch->layoutparser[layoutmodels,tesseract]->unstructured-inference==0.7.31->unstructured[all-docs]==0.14.0) (10.3.2.106)\n",
            "Requirement already satisfied: nvidia-cusolver-cu12==11.4.5.107 in /usr/local/lib/python3.10/dist-packages (from torch->layoutparser[layoutmodels,tesseract]->unstructured-inference==0.7.31->unstructured[all-docs]==0.14.0) (11.4.5.107)\n",
            "Requirement already satisfied: nvidia-cusparse-cu12==12.1.0.106 in /usr/local/lib/python3.10/dist-packages (from torch->layoutparser[layoutmodels,tesseract]->unstructured-inference==0.7.31->unstructured[all-docs]==0.14.0) (12.1.0.106)\n",
            "Requirement already satisfied: nvidia-nccl-cu12==2.20.5 in /usr/local/lib/python3.10/dist-packages (from torch->layoutparser[layoutmodels,tesseract]->unstructured-inference==0.7.31->unstructured[all-docs]==0.14.0) (2.20.5)\n",
            "Requirement already satisfied: nvidia-nvtx-cu12==12.1.105 in /usr/local/lib/python3.10/dist-packages (from torch->layoutparser[layoutmodels,tesseract]->unstructured-inference==0.7.31->unstructured[all-docs]==0.14.0) (12.1.105)\n",
            "Requirement already satisfied: triton==2.3.0 in /usr/local/lib/python3.10/dist-packages (from torch->layoutparser[layoutmodels,tesseract]->unstructured-inference==0.7.31->unstructured[all-docs]==0.14.0) (2.3.0)\n",
            "Requirement already satisfied: nvidia-nvjitlink-cu12 in /usr/local/lib/python3.10/dist-packages (from nvidia-cusolver-cu12==11.4.5.107->torch->layoutparser[layoutmodels,tesseract]->unstructured-inference==0.7.31->unstructured[all-docs]==0.14.0) (12.5.82)\n",
            "Requirement already satisfied: portalocker in /usr/local/lib/python3.10/dist-packages (from iopath->layoutparser[layoutmodels,tesseract]->unstructured-inference==0.7.31->unstructured[all-docs]==0.14.0) (2.10.0)\n",
            "Requirement already satisfied: pypdfium2>=4.18.0 in /usr/local/lib/python3.10/dist-packages (from pdfplumber->layoutparser[layoutmodels,tesseract]->unstructured-inference==0.7.31->unstructured[all-docs]==0.14.0) (4.30.0)\n",
            "Requirement already satisfied: mpmath<1.4.0,>=1.1.0 in /usr/local/lib/python3.10/dist-packages (from sympy->onnxruntime>=1.17.0->unstructured-inference==0.7.31->unstructured[all-docs]==0.14.0) (1.3.0)\n",
            "Requirement already satisfied: antlr4-python3-runtime==4.9.* in /usr/local/lib/python3.10/dist-packages (from omegaconf>=2.0->effdet->layoutparser[layoutmodels,tesseract]->unstructured-inference==0.7.31->unstructured[all-docs]==0.14.0) (4.9.3)\n",
            "Requirement already satisfied: matplotlib>=2.1.0 in /usr/local/lib/python3.10/dist-packages (from pycocotools>=2.0.2->effdet->layoutparser[layoutmodels,tesseract]->unstructured-inference==0.7.31->unstructured[all-docs]==0.14.0) (3.7.1)\n",
            "Requirement already satisfied: MarkupSafe>=2.0 in /usr/local/lib/python3.10/dist-packages (from jinja2->torch->layoutparser[layoutmodels,tesseract]->unstructured-inference==0.7.31->unstructured[all-docs]==0.14.0) (2.1.5)\n",
            "Requirement already satisfied: contourpy>=1.0.1 in /usr/local/lib/python3.10/dist-packages (from matplotlib>=2.1.0->pycocotools>=2.0.2->effdet->layoutparser[layoutmodels,tesseract]->unstructured-inference==0.7.31->unstructured[all-docs]==0.14.0) (1.2.1)\n",
            "Requirement already satisfied: cycler>=0.10 in /usr/local/lib/python3.10/dist-packages (from matplotlib>=2.1.0->pycocotools>=2.0.2->effdet->layoutparser[layoutmodels,tesseract]->unstructured-inference==0.7.31->unstructured[all-docs]==0.14.0) (0.12.1)\n",
            "Requirement already satisfied: fonttools>=4.22.0 in /usr/local/lib/python3.10/dist-packages (from matplotlib>=2.1.0->pycocotools>=2.0.2->effdet->layoutparser[layoutmodels,tesseract]->unstructured-inference==0.7.31->unstructured[all-docs]==0.14.0) (4.53.0)\n",
            "Requirement already satisfied: kiwisolver>=1.0.1 in /usr/local/lib/python3.10/dist-packages (from matplotlib>=2.1.0->pycocotools>=2.0.2->effdet->layoutparser[layoutmodels,tesseract]->unstructured-inference==0.7.31->unstructured[all-docs]==0.14.0) (1.4.5)\n",
            "Requirement already satisfied: pyparsing>=2.3.1 in /usr/local/lib/python3.10/dist-packages (from matplotlib>=2.1.0->pycocotools>=2.0.2->effdet->layoutparser[layoutmodels,tesseract]->unstructured-inference==0.7.31->unstructured[all-docs]==0.14.0) (3.1.2)\n"
          ]
        }
      ]
    },
    {
      "cell_type": "markdown",
      "source": [
        "* Note: may have to restart session to allow dependencies to load."
      ],
      "metadata": {
        "id": "XDL7MRfsscks"
      }
    },
    {
      "cell_type": "markdown",
      "source": [
        "## Install OCR dependencies for unstructured\n",
        "* Needed for OCR extraction from PDFs"
      ],
      "metadata": {
        "id": "cEReDnAcsj2p"
      }
    },
    {
      "cell_type": "code",
      "source": [
        "## OCR dependencies for unstructured\n",
        "!sudo apt-get install tesseract-ocr\n",
        "!sudo apt-get install poppler-utils"
      ],
      "metadata": {
        "colab": {
          "base_uri": "https://localhost:8080/"
        },
        "id": "K3jA_9vkshCf",
        "outputId": "d155c17a-e7f6-4c81-af00-6fc88214273b"
      },
      "execution_count": 2,
      "outputs": [
        {
          "output_type": "stream",
          "name": "stdout",
          "text": [
            "Reading package lists... Done\n",
            "Building dependency tree... Done\n",
            "Reading state information... Done\n",
            "The following additional packages will be installed:\n",
            "  tesseract-ocr-eng tesseract-ocr-osd\n",
            "The following NEW packages will be installed:\n",
            "  tesseract-ocr tesseract-ocr-eng tesseract-ocr-osd\n",
            "0 upgraded, 3 newly installed, 0 to remove and 45 not upgraded.\n",
            "Need to get 4,816 kB of archives.\n",
            "After this operation, 15.6 MB of additional disk space will be used.\n",
            "Get:1 http://archive.ubuntu.com/ubuntu jammy/universe amd64 tesseract-ocr-eng all 1:4.00~git30-7274cfa-1.1 [1,591 kB]\n",
            "Get:2 http://archive.ubuntu.com/ubuntu jammy/universe amd64 tesseract-ocr-osd all 1:4.00~git30-7274cfa-1.1 [2,990 kB]\n",
            "Get:3 http://archive.ubuntu.com/ubuntu jammy/universe amd64 tesseract-ocr amd64 4.1.1-2.1build1 [236 kB]\n",
            "Fetched 4,816 kB in 1s (5,843 kB/s)\n",
            "debconf: unable to initialize frontend: Dialog\n",
            "debconf: (No usable dialog-like program is installed, so the dialog based frontend cannot be used. at /usr/share/perl5/Debconf/FrontEnd/Dialog.pm line 78, <> line 3.)\n",
            "debconf: falling back to frontend: Readline\n",
            "debconf: unable to initialize frontend: Readline\n",
            "debconf: (This frontend requires a controlling tty.)\n",
            "debconf: falling back to frontend: Teletype\n",
            "dpkg-preconfigure: unable to re-open stdin: \n",
            "Selecting previously unselected package tesseract-ocr-eng.\n",
            "(Reading database ... 121955 files and directories currently installed.)\n",
            "Preparing to unpack .../tesseract-ocr-eng_1%3a4.00~git30-7274cfa-1.1_all.deb ...\n",
            "Unpacking tesseract-ocr-eng (1:4.00~git30-7274cfa-1.1) ...\n",
            "Selecting previously unselected package tesseract-ocr-osd.\n",
            "Preparing to unpack .../tesseract-ocr-osd_1%3a4.00~git30-7274cfa-1.1_all.deb ...\n",
            "Unpacking tesseract-ocr-osd (1:4.00~git30-7274cfa-1.1) ...\n",
            "Selecting previously unselected package tesseract-ocr.\n",
            "Preparing to unpack .../tesseract-ocr_4.1.1-2.1build1_amd64.deb ...\n",
            "Unpacking tesseract-ocr (4.1.1-2.1build1) ...\n",
            "Setting up tesseract-ocr-eng (1:4.00~git30-7274cfa-1.1) ...\n",
            "Setting up tesseract-ocr-osd (1:4.00~git30-7274cfa-1.1) ...\n",
            "Setting up tesseract-ocr (4.1.1-2.1build1) ...\n",
            "Processing triggers for man-db (2.10.2-1) ...\n",
            "Reading package lists... Done\n",
            "Building dependency tree... Done\n",
            "Reading state information... Done\n",
            "poppler-utils is already the newest version (22.02.0-2ubuntu0.4).\n",
            "0 upgraded, 0 newly installed, 0 to remove and 45 not upgraded.\n"
          ]
        }
      ]
    },
    {
      "cell_type": "code",
      "source": [
        "## other libraries\n",
        "!pip install jq==1.7.0\n",
        "!pip install pypdf==4.2.0\n",
        "!pip install pymupdf==1.24.4"
      ],
      "metadata": {
        "colab": {
          "base_uri": "https://localhost:8080/"
        },
        "id": "iw_sKAnRs1OL",
        "outputId": "645d6888-d99b-446d-c933-58dfc5ba705a"
      },
      "execution_count": 3,
      "outputs": [
        {
          "output_type": "stream",
          "name": "stdout",
          "text": [
            "Collecting jq==1.7.0\n",
            "  Downloading jq-1.7.0-cp310-cp310-manylinux_2_17_x86_64.manylinux2014_x86_64.whl (657 kB)\n",
            "\u001b[?25l     \u001b[90m━━━━━━━━━━━━━━━━━━━━━━━━━━━━━━━━━━━━━━━━\u001b[0m \u001b[32m0.0/657.6 kB\u001b[0m \u001b[31m?\u001b[0m eta \u001b[36m-:--:--\u001b[0m\r\u001b[2K     \u001b[91m━━━━━━━━━━━━━━\u001b[0m\u001b[91m╸\u001b[0m\u001b[90m━━━━━━━━━━━━━━━━━━━━━━━━━\u001b[0m \u001b[32m245.8/657.6 kB\u001b[0m \u001b[31m7.2 MB/s\u001b[0m eta \u001b[36m0:00:01\u001b[0m\r\u001b[2K     \u001b[91m━━━━━━━━━━━━━━━━━━━━━━━━━━━━━━━━━━━━━━━\u001b[0m\u001b[91m╸\u001b[0m \u001b[32m655.4/657.6 kB\u001b[0m \u001b[31m9.6 MB/s\u001b[0m eta \u001b[36m0:00:01\u001b[0m\r\u001b[2K     \u001b[90m━━━━━━━━━━━━━━━━━━━━━━━━━━━━━━━━━━━━━━━━\u001b[0m \u001b[32m657.6/657.6 kB\u001b[0m \u001b[31m8.2 MB/s\u001b[0m eta \u001b[36m0:00:00\u001b[0m\n",
            "\u001b[?25hInstalling collected packages: jq\n",
            "Successfully installed jq-1.7.0\n",
            "Requirement already satisfied: pypdf==4.2.0 in /usr/local/lib/python3.10/dist-packages (4.2.0)\n",
            "Requirement already satisfied: typing_extensions>=4.0 in /usr/local/lib/python3.10/dist-packages (from pypdf==4.2.0) (4.12.2)\n",
            "Collecting pymupdf==1.24.4\n",
            "  Downloading PyMuPDF-1.24.4-cp310-none-manylinux2014_x86_64.whl (3.5 MB)\n",
            "\u001b[2K     \u001b[90m━━━━━━━━━━━━━━━━━━━━━━━━━━━━━━━━━━━━━━━━\u001b[0m \u001b[32m3.5/3.5 MB\u001b[0m \u001b[31m15.3 MB/s\u001b[0m eta \u001b[36m0:00:00\u001b[0m\n",
            "\u001b[?25hCollecting PyMuPDFb==1.24.3 (from pymupdf==1.24.4)\n",
            "  Downloading PyMuPDFb-1.24.3-py3-none-manylinux2014_x86_64.manylinux_2_17_x86_64.whl (15.8 MB)\n",
            "\u001b[2K     \u001b[90m━━━━━━━━━━━━━━━━━━━━━━━━━━━━━━━━━━━━━━━━\u001b[0m \u001b[32m15.8/15.8 MB\u001b[0m \u001b[31m63.6 MB/s\u001b[0m eta \u001b[36m0:00:00\u001b[0m\n",
            "\u001b[?25hInstalling collected packages: PyMuPDFb, pymupdf\n",
            "Successfully installed PyMuPDFb-1.24.3 pymupdf-1.24.4\n"
          ]
        }
      ]
    },
    {
      "cell_type": "markdown",
      "source": [
        "## Document Loaders\n",
        "* Used to import data from various sources into LangChain `Document` objects.\n",
        "* A `Document` includes a piece of text along with the metadata.\n",
        "\n",
        "### Example Document Loaders:\n",
        "* **Text File Loader**: Loads data from simple `.txt` file\n",
        "* **Web Page Loader**: Retrieves the text content from any web page.\n",
        "* **YouTube Video Transcript Loader**: Loads transcripts from YouTube videos.\n",
        "\n",
        "### Functionality:\n",
        "* **Load Method**: each document loader has a `load` method that enables the loading of data as documents from a pre-configured source.\n",
        "* **Lazy Load Option**: Some loaders also support a \"lazy load\" feature which allows data to be loaded into memory gradually as needed.\n",
        "\n",
        "* LangChain Document Loaders page: https://python.langchain.com/v0.1/docs/modules/data_connection/document_loaders/"
      ],
      "metadata": {
        "id": "EhRSXiDYtI2i"
      }
    },
    {
      "cell_type": "markdown",
      "source": [
        "### Text Loader\n",
        "* This is the simplest loader in a file as text and places it all into 1 document."
      ],
      "metadata": {
        "id": "vIivqk8_t4QL"
      }
    },
    {
      "cell_type": "code",
      "source": [
        "# load text from github --> README from langchain github\n",
        "!curl -o README.md https://raw.githubusercontent.com/langchain-ai/langchain/master/README.md"
      ],
      "metadata": {
        "colab": {
          "base_uri": "https://localhost:8080/"
        },
        "id": "LcI2GD42t0lf",
        "outputId": "a7432928-b29e-4a3e-ab56-ce67c3beb9c3"
      },
      "execution_count": 4,
      "outputs": [
        {
          "output_type": "stream",
          "name": "stdout",
          "text": [
            "  % Total    % Received % Xferd  Average Speed   Time    Time     Time  Current\n",
            "                                 Dload  Upload   Total   Spent    Left  Speed\n",
            "\r  0     0    0     0    0     0      0      0 --:--:-- --:--:-- --:--:--     0\r100 10226  100 10226    0     0  42636      0 --:--:-- --:--:-- --:--:-- 42786\n"
          ]
        }
      ]
    },
    {
      "cell_type": "code",
      "source": [
        "from langchain_community.document_loaders import TextLoader\n",
        "\n",
        "# instantiate loader\n",
        "loader = TextLoader(\"./README.md\")\n",
        "doc = loader.load()"
      ],
      "metadata": {
        "id": "o9IyMAd0uWnQ"
      },
      "execution_count": 5,
      "outputs": []
    },
    {
      "cell_type": "code",
      "source": [
        "# length of doc\n",
        "len(doc)"
      ],
      "metadata": {
        "colab": {
          "base_uri": "https://localhost:8080/"
        },
        "id": "m7Dxm4eLuyxC",
        "outputId": "fd4df180-6d71-4607-ed70-438218ae22c0"
      },
      "execution_count": 6,
      "outputs": [
        {
          "output_type": "execute_result",
          "data": {
            "text/plain": [
              "1"
            ]
          },
          "metadata": {},
          "execution_count": 6
        }
      ]
    },
    {
      "cell_type": "code",
      "source": [
        "## what is type of doc?\n",
        "type(doc[0])"
      ],
      "metadata": {
        "colab": {
          "base_uri": "https://localhost:8080/",
          "height": 187
        },
        "id": "IRHsxrLbu1GA",
        "outputId": "ed829db3-339c-479e-e027-eb8266aeea79"
      },
      "execution_count": 7,
      "outputs": [
        {
          "output_type": "execute_result",
          "data": {
            "text/plain": [
              "langchain_core.documents.base.Document"
            ],
            "text/html": [
              "<div style=\"max-width:800px; border: 1px solid var(--colab-border-color);\"><style>\n",
              "      pre.function-repr-contents {\n",
              "        overflow-x: auto;\n",
              "        padding: 8px 12px;\n",
              "        max-height: 500px;\n",
              "      }\n",
              "\n",
              "      pre.function-repr-contents.function-repr-contents-collapsed {\n",
              "        cursor: pointer;\n",
              "        max-height: 100px;\n",
              "      }\n",
              "    </style>\n",
              "    <pre style=\"white-space: initial; background:\n",
              "         var(--colab-secondary-surface-color); padding: 8px 12px;\n",
              "         border-bottom: 1px solid var(--colab-border-color);\"><b>langchain_core.documents.base.Document</b><br/>def __init__(page_content: str, **kwargs: Any) -&gt; None</pre><pre class=\"function-repr-contents function-repr-contents-collapsed\" style=\"\"><a class=\"filepath\" style=\"display:none\" href=\"#\">/usr/local/lib/python3.10/dist-packages/langchain_core/documents/base.py</a>Class for storing a piece of text and associated metadata.\n",
              "\n",
              "Example:\n",
              "\n",
              "    .. code-block:: python\n",
              "\n",
              "        from langchain_core.documents import Document\n",
              "\n",
              "        document = Document(\n",
              "            page_content=&quot;Hello, world!&quot;,\n",
              "            metadata={&quot;source&quot;: &quot;https://example.com&quot;}\n",
              "        )</pre>\n",
              "      <script>\n",
              "      if (google.colab.kernel.accessAllowed && google.colab.files && google.colab.files.view) {\n",
              "        for (const element of document.querySelectorAll('.filepath')) {\n",
              "          element.style.display = 'block'\n",
              "          element.onclick = (event) => {\n",
              "            event.preventDefault();\n",
              "            event.stopPropagation();\n",
              "            google.colab.files.view(element.textContent, 9);\n",
              "          };\n",
              "        }\n",
              "      }\n",
              "      for (const element of document.querySelectorAll('.function-repr-contents')) {\n",
              "        element.onclick = (event) => {\n",
              "          event.preventDefault();\n",
              "          event.stopPropagation();\n",
              "          element.classList.toggle('function-repr-contents-collapsed');\n",
              "        };\n",
              "      }\n",
              "      </script>\n",
              "      </div>"
            ]
          },
          "metadata": {},
          "execution_count": 7
        }
      ]
    },
    {
      "cell_type": "code",
      "source": [
        "## look at page content --> index only 1 document --> first 10,000 characters\n",
        "print(doc[0].page_content[:10000])"
      ],
      "metadata": {
        "colab": {
          "base_uri": "https://localhost:8080/"
        },
        "id": "Ggf3iGifvSVt",
        "outputId": "02f8086c-d325-4510-e7b3-b463751a1de1"
      },
      "execution_count": 8,
      "outputs": [
        {
          "output_type": "stream",
          "name": "stdout",
          "text": [
            "# 🦜️🔗 LangChain\n",
            "\n",
            "⚡ Build context-aware reasoning applications ⚡\n",
            "\n",
            "[![Release Notes](https://img.shields.io/github/release/langchain-ai/langchain?style=flat-square)](https://github.com/langchain-ai/langchain/releases)\n",
            "[![CI](https://github.com/langchain-ai/langchain/actions/workflows/check_diffs.yml/badge.svg)](https://github.com/langchain-ai/langchain/actions/workflows/check_diffs.yml)\n",
            "[![PyPI - License](https://img.shields.io/pypi/l/langchain-core?style=flat-square)](https://opensource.org/licenses/MIT)\n",
            "[![PyPI - Downloads](https://img.shields.io/pypi/dm/langchain-core?style=flat-square)](https://pypistats.org/packages/langchain-core)\n",
            "[![GitHub star chart](https://img.shields.io/github/stars/langchain-ai/langchain?style=flat-square)](https://star-history.com/#langchain-ai/langchain)\n",
            "[![Dependency Status](https://img.shields.io/librariesio/github/langchain-ai/langchain?style=flat-square)](https://libraries.io/github/langchain-ai/langchain)\n",
            "[![Open Issues](https://img.shields.io/github/issues-raw/langchain-ai/langchain?style=flat-square)](https://github.com/langchain-ai/langchain/issues)\n",
            "[![Open in Dev Containers](https://img.shields.io/static/v1?label=Dev%20Containers&message=Open&color=blue&logo=visualstudiocode&style=flat-square)](https://vscode.dev/redirect?url=vscode://ms-vscode-remote.remote-containers/cloneInVolume?url=https://github.com/langchain-ai/langchain)\n",
            "[![Open in GitHub Codespaces](https://github.com/codespaces/badge.svg)](https://codespaces.new/langchain-ai/langchain)\n",
            "[![](https://dcbadge.vercel.app/api/server/6adMQxSpJS?compact=true&style=flat)](https://discord.gg/6adMQxSpJS)\n",
            "[![Twitter](https://img.shields.io/twitter/url/https/twitter.com/langchainai.svg?style=social&label=Follow%20%40LangChainAI)](https://twitter.com/langchainai)\n",
            "\n",
            "Looking for the JS/TS library? Check out [LangChain.js](https://github.com/langchain-ai/langchainjs).\n",
            "\n",
            "To help you ship LangChain apps to production faster, check out [LangSmith](https://smith.langchain.com). \n",
            "[LangSmith](https://smith.langchain.com) is a unified developer platform for building, testing, and monitoring LLM applications. \n",
            "Fill out [this form](https://www.langchain.com/contact-sales) to speak with our sales team.\n",
            "\n",
            "## Quick Install\n",
            "\n",
            "With pip:\n",
            "```bash\n",
            "pip install langchain\n",
            "```\n",
            "\n",
            "With conda:\n",
            "```bash\n",
            "conda install langchain -c conda-forge\n",
            "```\n",
            "\n",
            "## 🤔 What is LangChain?\n",
            "\n",
            "**LangChain** is a framework for developing applications powered by large language models (LLMs).\n",
            "\n",
            "For these applications, LangChain simplifies the entire application lifecycle:\n",
            "\n",
            "- **Open-source libraries**:  Build your applications using LangChain's open-source [building blocks](https://python.langchain.com/v0.2/docs/concepts#langchain-expression-language-lcel), [components](https://python.langchain.com/v0.2/docs/concepts), and [third-party integrations](https://python.langchain.com/v0.2/docs/integrations/platforms/).\n",
            "Use [LangGraph](/docs/concepts/#langgraph) to build stateful agents with first-class streaming and human-in-the-loop support.\n",
            "- **Productionization**: Inspect, monitor, and evaluate your apps with [LangSmith](https://docs.smith.langchain.com/) so that you can constantly optimize and deploy with confidence.\n",
            "- **Deployment**: Turn your LangGraph applications into production-ready APIs and Assistants with [LangGraph Cloud](https://langchain-ai.github.io/langgraph/cloud/).\n",
            "\n",
            "### Open-source libraries\n",
            "- **`langchain-core`**: Base abstractions and LangChain Expression Language.\n",
            "- **`langchain-community`**: Third party integrations.\n",
            "  - Some integrations have been further split into **partner packages** that only rely on **`langchain-core`**. Examples include **`langchain_openai`** and **`langchain_anthropic`**.\n",
            "- **`langchain`**: Chains, agents, and retrieval strategies that make up an application's cognitive architecture.\n",
            "- **[`LangGraph`](https://langchain-ai.github.io/langgraph/)**: A library for building robust and stateful multi-actor applications with LLMs by modeling steps as edges and nodes in a graph. Integrates smoothly with LangChain, but can be used without it.\n",
            "\n",
            "### Productionization:\n",
            "- **[LangSmith](https://docs.smith.langchain.com/)**: A developer platform that lets you debug, test, evaluate, and monitor chains built on any LLM framework and seamlessly integrates with LangChain.\n",
            "\n",
            "### Deployment:\n",
            "- **[LangGraph Cloud](https://langchain-ai.github.io/langgraph/cloud/)**: Turn your LangGraph applications into production-ready APIs and Assistants.\n",
            "\n",
            "![Diagram outlining the hierarchical organization of the LangChain framework, displaying the interconnected parts across multiple layers.](docs/static/svg/langchain_stack_062024.svg \"LangChain Architecture Overview\")\n",
            "\n",
            "## 🧱 What can you build with LangChain?\n",
            "\n",
            "**❓ Question answering with RAG**\n",
            "\n",
            "- [Documentation](https://python.langchain.com/v0.2/docs/tutorials/rag/)\n",
            "- End-to-end Example: [Chat LangChain](https://chat.langchain.com) and [repo](https://github.com/langchain-ai/chat-langchain)\n",
            "\n",
            "**🧱 Extracting structured output**\n",
            "\n",
            "- [Documentation](https://python.langchain.com/v0.2/docs/tutorials/extraction/)\n",
            "- End-to-end Example: [SQL Llama2 Template](https://github.com/langchain-ai/langchain-extract/)\n",
            "\n",
            "**🤖 Chatbots**\n",
            "\n",
            "- [Documentation](https://python.langchain.com/v0.2/docs/tutorials/chatbot/)\n",
            "- End-to-end Example: [Web LangChain (web researcher chatbot)](https://weblangchain.vercel.app) and [repo](https://github.com/langchain-ai/weblangchain)\n",
            "\n",
            "And much more! Head to the [Tutorials](https://python.langchain.com/v0.2/docs/tutorials/) section of the docs for more.\n",
            "\n",
            "## 🚀 How does LangChain help?\n",
            "The main value props of the LangChain libraries are:\n",
            "1. **Components**: composable building blocks, tools and integrations for working with language models. Components are modular and easy-to-use, whether you are using the rest of the LangChain framework or not\n",
            "2. **Off-the-shelf chains**: built-in assemblages of components for accomplishing higher-level tasks\n",
            "\n",
            "Off-the-shelf chains make it easy to get started. Components make it easy to customize existing chains and build new ones. \n",
            "\n",
            "## LangChain Expression Language (LCEL)\n",
            "\n",
            "LCEL is the foundation of many of LangChain's components, and is a declarative way to compose chains. LCEL was designed from day 1 to support putting prototypes in production, with no code changes, from the simplest “prompt + LLM” chain to the most complex chains.\n",
            "\n",
            "- **[Overview](https://python.langchain.com/v0.2/docs/concepts/#langchain-expression-language-lcel)**: LCEL and its benefits\n",
            "- **[Interface](https://python.langchain.com/v0.2/docs/concepts/#runnable-interface)**: The standard Runnable interface for LCEL objects\n",
            "- **[Primitives](https://python.langchain.com/v0.2/docs/how_to/#langchain-expression-language-lcel)**: More on the primitives LCEL includes\n",
            "- **[Cheatsheet](https://python.langchain.com/v0.2/docs/how_to/lcel_cheatsheet/)**: Quick overview of the most common usage patterns\n",
            "\n",
            "## Components\n",
            "\n",
            "Components fall into the following **modules**:\n",
            "\n",
            "**📃 Model I/O**\n",
            "\n",
            "This includes [prompt management](https://python.langchain.com/v0.2/docs/concepts/#prompt-templates), [prompt optimization](https://python.langchain.com/v0.2/docs/concepts/#example-selectors), a generic interface for [chat models](https://python.langchain.com/v0.2/docs/concepts/#chat-models) and [LLMs](https://python.langchain.com/v0.2/docs/concepts/#llms), and common utilities for working with [model outputs](https://python.langchain.com/v0.2/docs/concepts/#output-parsers).\n",
            "\n",
            "**📚 Retrieval**\n",
            "\n",
            "Retrieval Augmented Generation involves [loading data](https://python.langchain.com/v0.2/docs/concepts/#document-loaders) from a variety of sources, [preparing it](https://python.langchain.com/v0.2/docs/concepts/#text-splitters), then [searching over (a.k.a. retrieving from)](https://python.langchain.com/v0.2/docs/concepts/#retrievers) it for use in the generation step.\n",
            "\n",
            "**🤖 Agents**\n",
            "\n",
            "Agents allow an LLM autonomy over how a task is accomplished. Agents make decisions about which Actions to take, then take that Action, observe the result, and repeat until the task is complete. LangChain provides a [standard interface for agents](https://python.langchain.com/v0.2/docs/concepts/#agents), along with [LangGraph](https://github.com/langchain-ai/langgraph) for building custom agents.\n",
            "\n",
            "## 📖 Documentation\n",
            "\n",
            "Please see [here](https://python.langchain.com) for full documentation, which includes:\n",
            "\n",
            "- [Introduction](https://python.langchain.com/v0.2/docs/introduction/): Overview of the framework and the structure of the docs.\n",
            "- [Tutorials](https://python.langchain.com/docs/use_cases/): If you're looking to build something specific or are more of a hands-on learner, check out our tutorials. This is the best place to get started.\n",
            "- [How-to guides](https://python.langchain.com/v0.2/docs/how_to/): Answers to “How do I….?” type questions. These guides are goal-oriented and concrete; they're meant to help you complete a specific task.\n",
            "- [Conceptual guide](https://python.langchain.com/v0.2/docs/concepts/): Conceptual explanations of the key parts of the framework.\n",
            "- [API Reference](https://api.python.langchain.com): Thorough documentation of every class and method.\n",
            "\n",
            "## 🌐 Ecosystem\n",
            "\n",
            "- [🦜🛠️ LangSmith](https://docs.smith.langchain.com/): Trace and evaluate your language model applications and intelligent agents to help you move from prototype to production.\n",
            "- [🦜🕸️ LangGraph](https://langchain-ai.github.io/langgraph/): Create stateful, multi-actor applications with LLMs. Integrates smoothly with LangChain, but can be used without it.\n",
            "- [🦜🏓 LangServe](https://python.langchain.com/docs/langserve): Deploy LangChain runnables and chains as REST APIs.\n",
            "\n",
            "\n",
            "## 💁 Contributing\n",
            "\n",
            "As an open-source project in a rapidly developing field, we are extremely open to contributions, whether it be in the form of a new feature, improved infrastructure, or better documentation.\n",
            "\n",
            "For detailed information on how to contribute, see [here](https://python.langchain.com/v0.2/docs/contributing/).\n",
            "\n",
            "## 🌟 Contributors\n",
            "\n",
            "[![langchain \n"
          ]
        }
      ]
    },
    {
      "cell_type": "markdown",
      "source": [
        "### Markdown Loader\n",
        "* Markdown is a lightweight markup language for creating formatted text using a plain-text editor.\n",
        "* This will demonstrate how to load Markdown documents into a langchain document format that we can use in our pipelines and chains.\n",
        "\n",
        "\n",
        "#### Load entire document"
      ],
      "metadata": {
        "id": "FibPouYav1eS"
      }
    },
    {
      "cell_type": "code",
      "source": [
        "from langchain_community.document_loaders import UnstructuredMarkdownLoader\n",
        "\n",
        "# instantiate the loader\n",
        "loader = UnstructuredMarkdownLoader(\"./README.md\", mode='single')\n",
        "docs = loader.load()"
      ],
      "metadata": {
        "colab": {
          "base_uri": "https://localhost:8080/"
        },
        "id": "iaUSBWagwDoX",
        "outputId": "35d9c12d-b92d-4eca-c6e6-eaa6801f89b1"
      },
      "execution_count": 9,
      "outputs": [
        {
          "output_type": "stream",
          "name": "stderr",
          "text": [
            "[nltk_data] Downloading package punkt to /root/nltk_data...\n",
            "[nltk_data]   Unzipping tokenizers/punkt.zip.\n",
            "[nltk_data] Downloading package averaged_perceptron_tagger to\n",
            "[nltk_data]     /root/nltk_data...\n",
            "[nltk_data]   Unzipping taggers/averaged_perceptron_tagger.zip.\n"
          ]
        }
      ]
    },
    {
      "cell_type": "code",
      "source": [
        "## check length of docs\n",
        "len(docs)"
      ],
      "metadata": {
        "colab": {
          "base_uri": "https://localhost:8080/"
        },
        "id": "hANljkzewcbw",
        "outputId": "fade9c7d-a5c7-47a8-f186-4be3f503594b"
      },
      "execution_count": 10,
      "outputs": [
        {
          "output_type": "execute_result",
          "data": {
            "text/plain": [
              "1"
            ]
          },
          "metadata": {},
          "execution_count": 10
        }
      ]
    },
    {
      "cell_type": "code",
      "source": [
        "## check doc types\n",
        "type(docs[0])"
      ],
      "metadata": {
        "colab": {
          "base_uri": "https://localhost:8080/",
          "height": 187
        },
        "id": "qsQ98K6Vwe3o",
        "outputId": "d2fb20d0-0026-43ea-c45a-a219abe60d39"
      },
      "execution_count": 11,
      "outputs": [
        {
          "output_type": "execute_result",
          "data": {
            "text/plain": [
              "langchain_core.documents.base.Document"
            ],
            "text/html": [
              "<div style=\"max-width:800px; border: 1px solid var(--colab-border-color);\"><style>\n",
              "      pre.function-repr-contents {\n",
              "        overflow-x: auto;\n",
              "        padding: 8px 12px;\n",
              "        max-height: 500px;\n",
              "      }\n",
              "\n",
              "      pre.function-repr-contents.function-repr-contents-collapsed {\n",
              "        cursor: pointer;\n",
              "        max-height: 100px;\n",
              "      }\n",
              "    </style>\n",
              "    <pre style=\"white-space: initial; background:\n",
              "         var(--colab-secondary-surface-color); padding: 8px 12px;\n",
              "         border-bottom: 1px solid var(--colab-border-color);\"><b>langchain_core.documents.base.Document</b><br/>def __init__(page_content: str, **kwargs: Any) -&gt; None</pre><pre class=\"function-repr-contents function-repr-contents-collapsed\" style=\"\"><a class=\"filepath\" style=\"display:none\" href=\"#\">/usr/local/lib/python3.10/dist-packages/langchain_core/documents/base.py</a>Class for storing a piece of text and associated metadata.\n",
              "\n",
              "Example:\n",
              "\n",
              "    .. code-block:: python\n",
              "\n",
              "        from langchain_core.documents import Document\n",
              "\n",
              "        document = Document(\n",
              "            page_content=&quot;Hello, world!&quot;,\n",
              "            metadata={&quot;source&quot;: &quot;https://example.com&quot;}\n",
              "        )</pre>\n",
              "      <script>\n",
              "      if (google.colab.kernel.accessAllowed && google.colab.files && google.colab.files.view) {\n",
              "        for (const element of document.querySelectorAll('.filepath')) {\n",
              "          element.style.display = 'block'\n",
              "          element.onclick = (event) => {\n",
              "            event.preventDefault();\n",
              "            event.stopPropagation();\n",
              "            google.colab.files.view(element.textContent, 9);\n",
              "          };\n",
              "        }\n",
              "      }\n",
              "      for (const element of document.querySelectorAll('.function-repr-contents')) {\n",
              "        element.onclick = (event) => {\n",
              "          event.preventDefault();\n",
              "          event.stopPropagation();\n",
              "          element.classList.toggle('function-repr-contents-collapsed');\n",
              "        };\n",
              "      }\n",
              "      </script>\n",
              "      </div>"
            ]
          },
          "metadata": {},
          "execution_count": 11
        }
      ]
    },
    {
      "cell_type": "code",
      "source": [
        "## again print the page_content first 10,000 characters\n",
        "print(docs[0].page_content[:10000])"
      ],
      "metadata": {
        "colab": {
          "base_uri": "https://localhost:8080/"
        },
        "id": "rfh0WKh4wicC",
        "outputId": "53137ea2-95ca-4447-f3ff-ebaf421af5a8"
      },
      "execution_count": 12,
      "outputs": [
        {
          "output_type": "stream",
          "name": "stdout",
          "text": [
            "🦜️🔗 LangChain\n",
            "\n",
            "⚡ Build context-aware reasoning applications ⚡\n",
            "\n",
            "Looking for the JS/TS library? Check out LangChain.js.\n",
            "\n",
            "To help you ship LangChain apps to production faster, check out LangSmith. \n",
            "LangSmith is a unified developer platform for building, testing, and monitoring LLM applications. \n",
            "Fill out this form to speak with our sales team.\n",
            "\n",
            "Quick Install\n",
            "\n",
            "With pip:\n",
            "bash\n",
            "pip install langchain\n",
            "\n",
            "With conda:\n",
            "bash\n",
            "conda install langchain -c conda-forge\n",
            "\n",
            "🤔 What is LangChain?\n",
            "\n",
            "LangChain is a framework for developing applications powered by large language models (LLMs).\n",
            "\n",
            "For these applications, LangChain simplifies the entire application lifecycle:\n",
            "\n",
            "Open-source libraries:  Build your applications using LangChain's open-source building blocks, components, and third-party integrations.\n",
            "Use LangGraph to build stateful agents with first-class streaming and human-in-the-loop support.\n",
            "\n",
            "Productionization: Inspect, monitor, and evaluate your apps with LangSmith so that you can constantly optimize and deploy with confidence.\n",
            "\n",
            "Deployment: Turn your LangGraph applications into production-ready APIs and Assistants with LangGraph Cloud.\n",
            "\n",
            "Open-source libraries\n",
            "\n",
            "langchain-core: Base abstractions and LangChain Expression Language.\n",
            "\n",
            "langchain-community: Third party integrations.\n",
            "\n",
            "Some integrations have been further split into partner packages that only rely on langchain-core. Examples include langchain_openai and langchain_anthropic.\n",
            "\n",
            "langchain: Chains, agents, and retrieval strategies that make up an application's cognitive architecture.\n",
            "\n",
            "LangGraph: A library for building robust and stateful multi-actor applications with LLMs by modeling steps as edges and nodes in a graph. Integrates smoothly with LangChain, but can be used without it.\n",
            "\n",
            "Productionization:\n",
            "\n",
            "LangSmith: A developer platform that lets you debug, test, evaluate, and monitor chains built on any LLM framework and seamlessly integrates with LangChain.\n",
            "\n",
            "Deployment:\n",
            "\n",
            "LangGraph Cloud: Turn your LangGraph applications into production-ready APIs and Assistants.\n",
            "\n",
            "🧱 What can you build with LangChain?\n",
            "\n",
            "❓ Question answering with RAG\n",
            "\n",
            "Documentation\n",
            "\n",
            "End-to-end Example: Chat LangChain and repo\n",
            "\n",
            "🧱 Extracting structured output\n",
            "\n",
            "Documentation\n",
            "\n",
            "End-to-end Example: SQL Llama2 Template\n",
            "\n",
            "🤖 Chatbots\n",
            "\n",
            "Documentation\n",
            "\n",
            "End-to-end Example: Web LangChain (web researcher chatbot) and repo\n",
            "\n",
            "And much more! Head to the Tutorials section of the docs for more.\n",
            "\n",
            "🚀 How does LangChain help?\n",
            "\n",
            "The main value props of the LangChain libraries are:\n",
            "1. Components: composable building blocks, tools and integrations for working with language models. Components are modular and easy-to-use, whether you are using the rest of the LangChain framework or not\n",
            "2. Off-the-shelf chains: built-in assemblages of components for accomplishing higher-level tasks\n",
            "\n",
            "Off-the-shelf chains make it easy to get started. Components make it easy to customize existing chains and build new ones.\n",
            "\n",
            "LangChain Expression Language (LCEL)\n",
            "\n",
            "LCEL is the foundation of many of LangChain's components, and is a declarative way to compose chains. LCEL was designed from day 1 to support putting prototypes in production, with no code changes, from the simplest “prompt + LLM” chain to the most complex chains.\n",
            "\n",
            "Overview: LCEL and its benefits\n",
            "\n",
            "Interface: The standard Runnable interface for LCEL objects\n",
            "\n",
            "Primitives: More on the primitives LCEL includes\n",
            "\n",
            "Cheatsheet: Quick overview of the most common usage patterns\n",
            "\n",
            "Components\n",
            "\n",
            "Components fall into the following modules:\n",
            "\n",
            "📃 Model I/O\n",
            "\n",
            "This includes prompt management, prompt optimization, a generic interface for chat models and LLMs, and common utilities for working with model outputs.\n",
            "\n",
            "📚 Retrieval\n",
            "\n",
            "Retrieval Augmented Generation involves loading data from a variety of sources, preparing it, then searching over (a.k.a. retrieving from) it for use in the generation step.\n",
            "\n",
            "🤖 Agents\n",
            "\n",
            "Agents allow an LLM autonomy over how a task is accomplished. Agents make decisions about which Actions to take, then take that Action, observe the result, and repeat until the task is complete. LangChain provides a standard interface for agents, along with LangGraph for building custom agents.\n",
            "\n",
            "📖 Documentation\n",
            "\n",
            "Please see here for full documentation, which includes:\n",
            "\n",
            "Introduction: Overview of the framework and the structure of the docs.\n",
            "\n",
            "Tutorials: If you're looking to build something specific or are more of a hands-on learner, check out our tutorials. This is the best place to get started.\n",
            "\n",
            "How-to guides: Answers to “How do I….?” type questions. These guides are goal-oriented and concrete; they're meant to help you complete a specific task.\n",
            "\n",
            "Conceptual guide: Conceptual explanations of the key parts of the framework.\n",
            "\n",
            "API Reference: Thorough documentation of every class and method.\n",
            "\n",
            "🌐 Ecosystem\n",
            "\n",
            "🦜🛠️ LangSmith: Trace and evaluate your language model applications and intelligent agents to help you move from prototype to production.\n",
            "\n",
            "🦜🕸️ LangGraph: Create stateful, multi-actor applications with LLMs. Integrates smoothly with LangChain, but can be used without it.\n",
            "\n",
            "🦜🏓 LangServe: Deploy LangChain runnables and chains as REST APIs.\n",
            "\n",
            "💁 Contributing\n",
            "\n",
            "As an open-source project in a rapidly developing field, we are extremely open to contributions, whether it be in the form of a new feature, improved infrastructure, or better documentation.\n",
            "\n",
            "For detailed information on how to contribute, see here.\n",
            "\n",
            "🌟 Contributors\n"
          ]
        }
      ]
    },
    {
      "cell_type": "markdown",
      "source": [
        "#### Load document and separate based on elements"
      ],
      "metadata": {
        "id": "6qQxjWwSww5y"
      }
    },
    {
      "cell_type": "code",
      "source": [
        "## load UnstructuredMarkdownLoader\n",
        "from langchain_community.document_loaders import UnstructuredMarkdownLoader\n",
        "\n",
        "# instantiate loader\n",
        "loader = UnstructuredMarkdownLoader(\"./README.md\", mode=\"elements\")\n",
        "docs = loader.load()"
      ],
      "metadata": {
        "id": "wCFqG67Pw0RB"
      },
      "execution_count": 13,
      "outputs": []
    },
    {
      "cell_type": "code",
      "source": [
        "# check length of docs\n",
        "len(docs)"
      ],
      "metadata": {
        "colab": {
          "base_uri": "https://localhost:8080/"
        },
        "id": "yYz04GRBxCjY",
        "outputId": "2c5f7f8d-9fd1-4dc5-c9ff-9ef3cbf51d71"
      },
      "execution_count": 14,
      "outputs": [
        {
          "output_type": "execute_result",
          "data": {
            "text/plain": [
              "66"
            ]
          },
          "metadata": {},
          "execution_count": 14
        }
      ]
    },
    {
      "cell_type": "code",
      "source": [
        "## look at first 10 documents\n",
        "print(docs[:10])"
      ],
      "metadata": {
        "colab": {
          "base_uri": "https://localhost:8080/"
        },
        "id": "jORjJ-4IxFmR",
        "outputId": "9534c653-e767-43cd-9442-7257b1b18e7d"
      },
      "execution_count": 15,
      "outputs": [
        {
          "output_type": "stream",
          "name": "stdout",
          "text": [
            "[Document(page_content='🦜️🔗 LangChain', metadata={'source': './README.md', 'last_modified': '2024-07-02T17:59:45', 'languages': ['eng'], 'filetype': 'text/markdown', 'file_directory': '.', 'filename': 'README.md', 'category': 'Title'}), Document(page_content='⚡ Build context-aware reasoning applications ⚡', metadata={'source': './README.md', 'last_modified': '2024-07-02T17:59:45', 'languages': ['eng'], 'parent_id': '200b8a7d0dd03f66e4f13456566d2b3a', 'filetype': 'text/markdown', 'file_directory': '.', 'filename': 'README.md', 'category': 'NarrativeText'}), Document(page_content='Looking for the JS/TS library? Check out LangChain.js.', metadata={'source': './README.md', 'last_modified': '2024-07-02T17:59:45', 'languages': ['eng'], 'parent_id': '200b8a7d0dd03f66e4f13456566d2b3a', 'filetype': 'text/markdown', 'file_directory': '.', 'filename': 'README.md', 'category': 'NarrativeText'}), Document(page_content='To help you ship LangChain apps to production faster, check out LangSmith. \\nLangSmith is a unified developer platform for building, testing, and monitoring LLM applications. \\nFill out this form to speak with our sales team.', metadata={'source': './README.md', 'last_modified': '2024-07-02T17:59:45', 'languages': ['eng'], 'parent_id': '200b8a7d0dd03f66e4f13456566d2b3a', 'filetype': 'text/markdown', 'file_directory': '.', 'filename': 'README.md', 'category': 'NarrativeText'}), Document(page_content='Quick Install', metadata={'source': './README.md', 'last_modified': '2024-07-02T17:59:45', 'languages': ['eng'], 'filetype': 'text/markdown', 'file_directory': '.', 'filename': 'README.md', 'category': 'Title'}), Document(page_content='With pip:\\nbash\\npip install langchain', metadata={'source': './README.md', 'last_modified': '2024-07-02T17:59:45', 'languages': ['eng'], 'filetype': 'text/markdown', 'file_directory': '.', 'filename': 'README.md', 'category': 'Title'}), Document(page_content='With conda:\\nbash\\nconda install langchain -c conda-forge', metadata={'source': './README.md', 'last_modified': '2024-07-02T17:59:45', 'languages': ['eng'], 'parent_id': '5115e39cbbf05cae2926451aba3ada49', 'filetype': 'text/markdown', 'file_directory': '.', 'filename': 'README.md', 'category': 'NarrativeText'}), Document(page_content='🤔 What is LangChain?', metadata={'source': './README.md', 'last_modified': '2024-07-02T17:59:45', 'languages': ['eng'], 'filetype': 'text/markdown', 'file_directory': '.', 'filename': 'README.md', 'category': 'Title'}), Document(page_content='LangChain is a framework for developing applications powered by large language models (LLMs).', metadata={'source': './README.md', 'last_modified': '2024-07-02T17:59:45', 'languages': ['eng'], 'parent_id': '7641245da6e719fe3042e334c39a8a26', 'filetype': 'text/markdown', 'file_directory': '.', 'filename': 'README.md', 'category': 'NarrativeText'}), Document(page_content='For these applications, LangChain simplifies the entire application lifecycle:', metadata={'source': './README.md', 'last_modified': '2024-07-02T17:59:45', 'languages': ['eng'], 'parent_id': '7641245da6e719fe3042e334c39a8a26', 'filetype': 'text/markdown', 'file_directory': '.', 'filename': 'README.md', 'category': 'NarrativeText'})]\n"
          ]
        }
      ]
    },
    {
      "cell_type": "code",
      "source": [
        "## View metadata from document\n",
        "from collections import Counter\n",
        "\n",
        "Counter([doc.metadata['category'] for doc in docs])"
      ],
      "metadata": {
        "colab": {
          "base_uri": "https://localhost:8080/"
        },
        "id": "k8P1_y28xVP6",
        "outputId": "d88b9b7d-84de-4f0a-8647-7d7e096879c4"
      },
      "execution_count": 16,
      "outputs": [
        {
          "output_type": "execute_result",
          "data": {
            "text/plain": [
              "Counter({'Title': 19, 'NarrativeText': 19, 'ListItem': 28})"
            ]
          },
          "metadata": {},
          "execution_count": 16
        }
      ]
    },
    {
      "cell_type": "markdown",
      "source": [
        "#### Comparing **Unstructured.io loaders** direct use instead of **LangChain wrapper API**"
      ],
      "metadata": {
        "id": "m-cBSfzNxhqx"
      }
    },
    {
      "cell_type": "code",
      "source": [
        "## using unstructured.io loaders directly\n",
        "from unstructured.partition.md import partition_md\n",
        "\n",
        "# load docs --> pass file\n",
        "docs = partition_md(filename=\"./README.md\")"
      ],
      "metadata": {
        "id": "Sl0zHnXIxo-p"
      },
      "execution_count": 17,
      "outputs": []
    },
    {
      "cell_type": "code",
      "source": [
        "# length of docs\n",
        "len(docs)"
      ],
      "metadata": {
        "colab": {
          "base_uri": "https://localhost:8080/"
        },
        "id": "6Lqx22Gnx8fP",
        "outputId": "919cbe4c-c802-48ea-9b5e-d3c353c076fb"
      },
      "execution_count": 18,
      "outputs": [
        {
          "output_type": "execute_result",
          "data": {
            "text/plain": [
              "66"
            ]
          },
          "metadata": {},
          "execution_count": 18
        }
      ]
    },
    {
      "cell_type": "code",
      "source": [
        "## view first 10 docs\n",
        "print(docs[:10])"
      ],
      "metadata": {
        "colab": {
          "base_uri": "https://localhost:8080/"
        },
        "id": "wYdjSsP8x_Hz",
        "outputId": "9ee3fa17-5660-4f98-ff0a-97f6a2a797a7"
      },
      "execution_count": 19,
      "outputs": [
        {
          "output_type": "stream",
          "name": "stdout",
          "text": [
            "[<unstructured.documents.elements.Title object at 0x7d26ffa75ba0>, <unstructured.documents.elements.NarrativeText object at 0x7d26ffa75c00>, <unstructured.documents.elements.NarrativeText object at 0x7d26ffa75c90>, <unstructured.documents.elements.NarrativeText object at 0x7d26ffa75d20>, <unstructured.documents.elements.Title object at 0x7d26ffa75db0>, <unstructured.documents.elements.Title object at 0x7d26ffa75e40>, <unstructured.documents.elements.NarrativeText object at 0x7d26ffa75ed0>, <unstructured.documents.elements.Title object at 0x7d26ffa75f90>, <unstructured.documents.elements.NarrativeText object at 0x7d26ffa76020>, <unstructured.documents.elements.NarrativeText object at 0x7d26ffa76110>]\n"
          ]
        }
      ]
    },
    {
      "cell_type": "code",
      "source": [
        "## explore documents converting to dictionary\n",
        "docs[0].to_dict()"
      ],
      "metadata": {
        "colab": {
          "base_uri": "https://localhost:8080/"
        },
        "id": "mRuoWmjj7jQj",
        "outputId": "a1a48b99-9ce5-4ad2-b65d-dbaff358b7b8"
      },
      "execution_count": 20,
      "outputs": [
        {
          "output_type": "execute_result",
          "data": {
            "text/plain": [
              "{'type': 'Title',\n",
              " 'element_id': '200b8a7d0dd03f66e4f13456566d2b3a',\n",
              " 'text': '🦜️🔗 LangChain',\n",
              " 'metadata': {'last_modified': '2024-07-02T17:59:45',\n",
              "  'languages': ['eng'],\n",
              "  'filetype': 'text/markdown',\n",
              "  'file_directory': '.',\n",
              "  'filename': 'README.md'}}"
            ]
          },
          "metadata": {},
          "execution_count": 20
        }
      ]
    },
    {
      "cell_type": "code",
      "source": [
        "# explore another document\n",
        "docs[1].to_dict()"
      ],
      "metadata": {
        "colab": {
          "base_uri": "https://localhost:8080/"
        },
        "id": "JAo1ysZV7oap",
        "outputId": "69805765-a772-4ac4-fce5-443544e5402a"
      },
      "execution_count": 21,
      "outputs": [
        {
          "output_type": "execute_result",
          "data": {
            "text/plain": [
              "{'type': 'NarrativeText',\n",
              " 'element_id': '80d06543c0c2b75ca147f3509e518a47',\n",
              " 'text': '⚡ Build context-aware reasoning applications ⚡',\n",
              " 'metadata': {'last_modified': '2024-07-02T17:59:45',\n",
              "  'languages': ['eng'],\n",
              "  'parent_id': '200b8a7d0dd03f66e4f13456566d2b3a',\n",
              "  'filetype': 'text/markdown',\n",
              "  'file_directory': '.',\n",
              "  'filename': 'README.md'}}"
            ]
          },
          "metadata": {},
          "execution_count": 21
        }
      ]
    },
    {
      "cell_type": "code",
      "source": [
        "# another doc\n",
        "docs[2].to_dict()"
      ],
      "metadata": {
        "colab": {
          "base_uri": "https://localhost:8080/"
        },
        "id": "iFVsNvv9m5Nt",
        "outputId": "4c7d6e1d-5ca9-4bb0-99a4-93551a2c44ce"
      },
      "execution_count": 23,
      "outputs": [
        {
          "output_type": "execute_result",
          "data": {
            "text/plain": [
              "{'type': 'NarrativeText',\n",
              " 'element_id': 'd68276ff4183b272b9dec78754e769b1',\n",
              " 'text': 'Looking for the JS/TS library? Check out LangChain.js.',\n",
              " 'metadata': {'last_modified': '2024-07-02T17:59:45',\n",
              "  'languages': ['eng'],\n",
              "  'parent_id': '200b8a7d0dd03f66e4f13456566d2b3a',\n",
              "  'filetype': 'text/markdown',\n",
              "  'file_directory': '.',\n",
              "  'filename': 'README.md'}}"
            ]
          },
          "metadata": {},
          "execution_count": 23
        }
      ]
    },
    {
      "cell_type": "markdown",
      "source": [
        "### Convert to LangChain document types"
      ],
      "metadata": {
        "id": "B0K1aCb_7uAo"
      }
    },
    {
      "cell_type": "code",
      "source": [
        "## langchain document imports\n",
        "from langchain_core.documents import Document\n",
        "\n",
        "# instantiate langchain docs and convert to LangChain document type\n",
        "lc_docs = [Document(page_content=doc.text,\n",
        "                    metadata=doc.metadata.to_dict())\n",
        "                    for doc in docs]\n",
        "\n",
        "# print first 10\n",
        "lc_docs[:10]"
      ],
      "metadata": {
        "colab": {
          "base_uri": "https://localhost:8080/"
        },
        "id": "TNyLFViZ7vyl",
        "outputId": "8454764e-2972-43e4-e1b9-0e93af9f506c"
      },
      "execution_count": 24,
      "outputs": [
        {
          "output_type": "execute_result",
          "data": {
            "text/plain": [
              "[Document(page_content='🦜️🔗 LangChain', metadata={'last_modified': '2024-07-02T17:59:45', 'languages': ['eng'], 'filetype': 'text/markdown', 'file_directory': '.', 'filename': 'README.md'}),\n",
              " Document(page_content='⚡ Build context-aware reasoning applications ⚡', metadata={'last_modified': '2024-07-02T17:59:45', 'languages': ['eng'], 'parent_id': '200b8a7d0dd03f66e4f13456566d2b3a', 'filetype': 'text/markdown', 'file_directory': '.', 'filename': 'README.md'}),\n",
              " Document(page_content='Looking for the JS/TS library? Check out LangChain.js.', metadata={'last_modified': '2024-07-02T17:59:45', 'languages': ['eng'], 'parent_id': '200b8a7d0dd03f66e4f13456566d2b3a', 'filetype': 'text/markdown', 'file_directory': '.', 'filename': 'README.md'}),\n",
              " Document(page_content='To help you ship LangChain apps to production faster, check out LangSmith. \\nLangSmith is a unified developer platform for building, testing, and monitoring LLM applications. \\nFill out this form to speak with our sales team.', metadata={'last_modified': '2024-07-02T17:59:45', 'languages': ['eng'], 'parent_id': '200b8a7d0dd03f66e4f13456566d2b3a', 'filetype': 'text/markdown', 'file_directory': '.', 'filename': 'README.md'}),\n",
              " Document(page_content='Quick Install', metadata={'last_modified': '2024-07-02T17:59:45', 'languages': ['eng'], 'filetype': 'text/markdown', 'file_directory': '.', 'filename': 'README.md'}),\n",
              " Document(page_content='With pip:\\nbash\\npip install langchain', metadata={'last_modified': '2024-07-02T17:59:45', 'languages': ['eng'], 'filetype': 'text/markdown', 'file_directory': '.', 'filename': 'README.md'}),\n",
              " Document(page_content='With conda:\\nbash\\nconda install langchain -c conda-forge', metadata={'last_modified': '2024-07-02T17:59:45', 'languages': ['eng'], 'parent_id': '5115e39cbbf05cae2926451aba3ada49', 'filetype': 'text/markdown', 'file_directory': '.', 'filename': 'README.md'}),\n",
              " Document(page_content='🤔 What is LangChain?', metadata={'last_modified': '2024-07-02T17:59:45', 'languages': ['eng'], 'filetype': 'text/markdown', 'file_directory': '.', 'filename': 'README.md'}),\n",
              " Document(page_content='LangChain is a framework for developing applications powered by large language models (LLMs).', metadata={'last_modified': '2024-07-02T17:59:45', 'languages': ['eng'], 'parent_id': '7641245da6e719fe3042e334c39a8a26', 'filetype': 'text/markdown', 'file_directory': '.', 'filename': 'README.md'}),\n",
              " Document(page_content='For these applications, LangChain simplifies the entire application lifecycle:', metadata={'last_modified': '2024-07-02T17:59:45', 'languages': ['eng'], 'parent_id': '7641245da6e719fe3042e334c39a8a26', 'filetype': 'text/markdown', 'file_directory': '.', 'filename': 'README.md'})]"
            ]
          },
          "metadata": {},
          "execution_count": 24
        }
      ]
    },
    {
      "cell_type": "markdown",
      "source": [
        "### CSV Loader\n",
        "* Comma separated value (CSV) file. Each line of text is a data record. Each record consists of 1 or more fields separated by commas.\n",
        "* LangChain implements a CSV loader that loads CSV files into a sequence of `Document` objects. Each row of the CSV file is converted to 1 document."
      ],
      "metadata": {
        "id": "sV5KJGez8ZoF"
      }
    },
    {
      "cell_type": "code",
      "source": [
        "import pandas as pd\n",
        "\n",
        "# Create a DataFrame with some dummy real estate data\n",
        "data = {\n",
        "    'Property_ID': [101, 102, 103, 104, 105],\n",
        "    'Address': ['123 Elm St', '456 Oak St', '789 Pine St', '321 Maple St', '654 Cedar St'],\n",
        "    'City': ['Springfield', 'Rivertown', 'Laketown', 'Hillside', 'Sunnyvale'],\n",
        "    'State': ['CA', 'TX', 'FL', 'NY', 'CO'],\n",
        "    'Zip_Code': [98765, 87654, 76543, 65432, 54321],\n",
        "    'Bedrooms': [3, 2, 4, 3, 5],\n",
        "    'Bathrooms': [2, 1, 3, 2, 4],\n",
        "    'Listing_Price': [500000, 350000, 600000, 475000, 750000]\n",
        "}\n",
        "\n",
        "df = pd.DataFrame(data)\n",
        "\n",
        "# Save the DataFrame to a CSV file\n",
        "df.to_csv('data.csv', index=False)\n",
        "\n",
        "\n"
      ],
      "metadata": {
        "id": "-OMAzLyn8pjj"
      },
      "execution_count": 25,
      "outputs": []
    },
    {
      "cell_type": "code",
      "source": [
        "## langchain CSV loader\n",
        "from langchain_community.document_loaders.csv_loader import CSVLoader\n",
        "\n",
        "# load document into loader\n",
        "loader = CSVLoader(file_path=\"./data.csv\")\n",
        "docs = loader.load()"
      ],
      "metadata": {
        "id": "L1Xj8asf9MTv"
      },
      "execution_count": 26,
      "outputs": []
    },
    {
      "cell_type": "code",
      "source": [
        "# print docs\n",
        "docs"
      ],
      "metadata": {
        "colab": {
          "base_uri": "https://localhost:8080/"
        },
        "id": "2PG9d_Vt9ckS",
        "outputId": "be702bcd-74c3-47ac-d79c-925aa15ee76c"
      },
      "execution_count": 27,
      "outputs": [
        {
          "output_type": "execute_result",
          "data": {
            "text/plain": [
              "[Document(page_content='Property_ID: 101\\nAddress: 123 Elm St\\nCity: Springfield\\nState: CA\\nZip_Code: 98765\\nBedrooms: 3\\nBathrooms: 2\\nListing_Price: 500000', metadata={'source': './data.csv', 'row': 0}),\n",
              " Document(page_content='Property_ID: 102\\nAddress: 456 Oak St\\nCity: Rivertown\\nState: TX\\nZip_Code: 87654\\nBedrooms: 2\\nBathrooms: 1\\nListing_Price: 350000', metadata={'source': './data.csv', 'row': 1}),\n",
              " Document(page_content='Property_ID: 103\\nAddress: 789 Pine St\\nCity: Laketown\\nState: FL\\nZip_Code: 76543\\nBedrooms: 4\\nBathrooms: 3\\nListing_Price: 600000', metadata={'source': './data.csv', 'row': 2}),\n",
              " Document(page_content='Property_ID: 104\\nAddress: 321 Maple St\\nCity: Hillside\\nState: NY\\nZip_Code: 65432\\nBedrooms: 3\\nBathrooms: 2\\nListing_Price: 475000', metadata={'source': './data.csv', 'row': 3}),\n",
              " Document(page_content='Property_ID: 105\\nAddress: 654 Cedar St\\nCity: Sunnyvale\\nState: CO\\nZip_Code: 54321\\nBedrooms: 5\\nBathrooms: 4\\nListing_Price: 750000', metadata={'source': './data.csv', 'row': 4})]"
            ]
          },
          "metadata": {},
          "execution_count": 27
        }
      ]
    },
    {
      "cell_type": "code",
      "source": [
        "# print an index of documents\n",
        "print(docs[0])"
      ],
      "metadata": {
        "colab": {
          "base_uri": "https://localhost:8080/"
        },
        "id": "jfDXHaJJ9dkU",
        "outputId": "291bf790-32bf-4d16-c132-7a32a061964d"
      },
      "execution_count": 28,
      "outputs": [
        {
          "output_type": "stream",
          "name": "stdout",
          "text": [
            "page_content='Property_ID: 101\\nAddress: 123 Elm St\\nCity: Springfield\\nState: CA\\nZip_Code: 98765\\nBedrooms: 3\\nBathrooms: 2\\nListing_Price: 500000' metadata={'source': './data.csv', 'row': 0}\n"
          ]
        }
      ]
    },
    {
      "cell_type": "code",
      "source": [
        "## print page_content\n",
        "print(docs[0].page_content)"
      ],
      "metadata": {
        "colab": {
          "base_uri": "https://localhost:8080/"
        },
        "id": "2LPlaYRi9hql",
        "outputId": "bc14af64-3b66-4594-ecab-3684499f526b"
      },
      "execution_count": 29,
      "outputs": [
        {
          "output_type": "stream",
          "name": "stdout",
          "text": [
            "Property_ID: 101\n",
            "Address: 123 Elm St\n",
            "City: Springfield\n",
            "State: CA\n",
            "Zip_Code: 98765\n",
            "Bedrooms: 3\n",
            "Bathrooms: 2\n",
            "Listing_Price: 500000\n"
          ]
        }
      ]
    },
    {
      "cell_type": "markdown",
      "source": [
        "Note:\n",
        "* `CSVLoader` will accept a `csv_args` kwarg that supports customization of arguments passed to Python's csv.`DictReader`.\n",
        "* Additional information could be found in the csv module docs: https://docs.python.org/3/library/csv.html"
      ],
      "metadata": {
        "id": "0-o09oqH9xaR"
      }
    },
    {
      "cell_type": "code",
      "source": [
        "data_path = '/content/data.csv'"
      ],
      "metadata": {
        "id": "zqYT7KEKnL6G"
      },
      "execution_count": 34,
      "outputs": []
    },
    {
      "cell_type": "code",
      "source": [
        "## load in document with some user friendly fieldnames\n",
        "loader = CSVLoader(file_path=data_path,\n",
        "                   csv_args={\n",
        "                       \"delimiter\": \",\",\n",
        "                       \"quotechar\": '\"',\n",
        "                       \"fieldnames\": [\"Property_ID\", \"Address\", \"City\",\"State\",\n",
        "                                      \"Zip_Code\", \"Bedrooms\", \"Bathrooms\", \"Listing_Price\"],\n",
        "                   },\n",
        "                   )\n",
        "\n",
        "# load documents\n",
        "docs = loader.load()"
      ],
      "metadata": {
        "id": "7R4EwEYH-IiM"
      },
      "execution_count": 41,
      "outputs": []
    },
    {
      "cell_type": "code",
      "source": [
        "# print docs\n",
        "print(docs)"
      ],
      "metadata": {
        "colab": {
          "base_uri": "https://localhost:8080/"
        },
        "id": "M9RI2Q_m-qSi",
        "outputId": "38dd953b-b307-4733-faca-c6960a9a72b8"
      },
      "execution_count": 42,
      "outputs": [
        {
          "output_type": "stream",
          "name": "stdout",
          "text": [
            "[Document(page_content='Property_ID: Property_ID\\nAddress: Address\\nCity: City\\nState: State\\nZip_Code: Zip_Code\\nBedrooms: Bedrooms\\nBathrooms: Bathrooms\\nListing_Price: Listing_Price', metadata={'source': '/content/data.csv', 'row': 0}), Document(page_content='Property_ID: 101\\nAddress: 123 Elm St\\nCity: Springfield\\nState: CA\\nZip_Code: 98765\\nBedrooms: 3\\nBathrooms: 2\\nListing_Price: 500000', metadata={'source': '/content/data.csv', 'row': 1}), Document(page_content='Property_ID: 102\\nAddress: 456 Oak St\\nCity: Rivertown\\nState: TX\\nZip_Code: 87654\\nBedrooms: 2\\nBathrooms: 1\\nListing_Price: 350000', metadata={'source': '/content/data.csv', 'row': 2}), Document(page_content='Property_ID: 103\\nAddress: 789 Pine St\\nCity: Laketown\\nState: FL\\nZip_Code: 76543\\nBedrooms: 4\\nBathrooms: 3\\nListing_Price: 600000', metadata={'source': '/content/data.csv', 'row': 3}), Document(page_content='Property_ID: 104\\nAddress: 321 Maple St\\nCity: Hillside\\nState: NY\\nZip_Code: 65432\\nBedrooms: 3\\nBathrooms: 2\\nListing_Price: 475000', metadata={'source': '/content/data.csv', 'row': 4}), Document(page_content='Property_ID: 105\\nAddress: 654 Cedar St\\nCity: Sunnyvale\\nState: CO\\nZip_Code: 54321\\nBedrooms: 5\\nBathrooms: 4\\nListing_Price: 750000', metadata={'source': '/content/data.csv', 'row': 5})]\n"
          ]
        }
      ]
    },
    {
      "cell_type": "markdown",
      "source": [
        "#### Unstructured.io will load the entire CSV file as a single table"
      ],
      "metadata": {
        "id": "f-S-xJDW-xCK"
      }
    },
    {
      "cell_type": "code",
      "source": [
        "from langchain_community.document_loaders import UnstructuredCSVLoader\n",
        "\n",
        "# loader\n",
        "loader = UnstructuredCSVLoader(\"./data.csv\")\n",
        "docs = loader.load()"
      ],
      "metadata": {
        "id": "33NZ3UPX-1AH"
      },
      "execution_count": 43,
      "outputs": []
    },
    {
      "cell_type": "code",
      "source": [
        "# length of docs\n",
        "len(docs)"
      ],
      "metadata": {
        "colab": {
          "base_uri": "https://localhost:8080/"
        },
        "id": "V13TnEsx-9a3",
        "outputId": "15ec9d40-c756-4875-84d8-61cc99dd3ec5"
      },
      "execution_count": 44,
      "outputs": [
        {
          "output_type": "execute_result",
          "data": {
            "text/plain": [
              "1"
            ]
          },
          "metadata": {},
          "execution_count": 44
        }
      ]
    },
    {
      "cell_type": "code",
      "source": [
        "# print a document\n",
        "docs[0]"
      ],
      "metadata": {
        "colab": {
          "base_uri": "https://localhost:8080/"
        },
        "id": "vtznm-gn--7z",
        "outputId": "709c02ce-4b4f-424f-9675-c2de4d2a28d3"
      },
      "execution_count": 45,
      "outputs": [
        {
          "output_type": "execute_result",
          "data": {
            "text/plain": [
              "Document(page_content='\\n\\n\\nProperty_ID\\nAddress\\nCity\\nState\\nZip_Code\\nBedrooms\\nBathrooms\\nListing_Price\\n\\n\\n101\\n123 Elm St\\nSpringfield\\nCA\\n98765\\n3\\n2\\n500000\\n\\n\\n102\\n456 Oak St\\nRivertown\\nTX\\n87654\\n2\\n1\\n350000\\n\\n\\n103\\n789 Pine St\\nLaketown\\nFL\\n76543\\n4\\n3\\n600000\\n\\n\\n104\\n321 Maple St\\nHillside\\nNY\\n65432\\n3\\n2\\n475000\\n\\n\\n105\\n654 Cedar St\\nSunnyvale\\nCO\\n54321\\n5\\n4\\n750000\\n\\n\\n', metadata={'source': './data.csv'})"
            ]
          },
          "metadata": {},
          "execution_count": 45
        }
      ]
    },
    {
      "cell_type": "markdown",
      "source": [
        "### JSON Loader\n",
        "* JSON Lines is a file format where each line is a valid JSON value.\n",
        "  * documentation: https://jsonlines.org/\n",
        "* LangChain implements a JSONLoader to convert JSON and JSONL data into LangChain `Document` objects.\n",
        "  * It uses a specified **jqschema** to parse the JSON files allowing the extraction of specific fields into content and metadata of the LangChain Document.\n",
        "  * LangChain jq schema: https://python.langchain.com/v0.1/docs/modules/data_connection/document_loaders/json/#json-file-with-jq-schema-content_key\n",
        "  * The **jq** python package is used. More on the syntax:https://github.com/jqlang\n",
        "     * Allows specific field extraction from JSON documents."
      ],
      "metadata": {
        "id": "xKCILYny_OKj"
      }
    },
    {
      "cell_type": "code",
      "source": [
        "import json\n",
        "\n",
        "# Sample data dictionary similar to the one you provided but with modified contents\n",
        "data = {\n",
        "    'image': {'creation_timestamp': 1675549016, 'uri': 'image_of_the_meeting.jpg'},\n",
        "    'is_still_participant': True,\n",
        "    'joinable_mode': {'link': '', 'mode': 1},\n",
        "    'magic_words': [],\n",
        "    'messages': [\n",
        "        {'content': 'See you soon!',\n",
        "         'sender_name': 'User B',\n",
        "         'timestamp_ms': 1675597571851},\n",
        "        {'content': 'Thanks for the update! See you then.',\n",
        "         'sender_name': 'User A',\n",
        "         'timestamp_ms': 1675597435669},\n",
        "        {'content': 'Actually, the green one is sold out.',\n",
        "         'sender_name': 'User B',\n",
        "         'timestamp_ms': 1675596277579},\n",
        "        {'content': 'I was hoping to purchase the green one!',\n",
        "         'sender_name': 'User A',\n",
        "         'timestamp_ms': 1675595140251},\n",
        "        {'content': 'I’m really interested in the green one, not the red!',\n",
        "         'sender_name': 'User A',\n",
        "         'timestamp_ms': 1675595109305},\n",
        "        {'content': 'Here’s the $150 for it.',\n",
        "         'sender_name': 'User B',\n",
        "         'timestamp_ms': 1675595068468},\n",
        "        {'photos': [{'creation_timestamp': 1675595059,\n",
        "                     'uri': 'image_of_the_item.jpg'}],\n",
        "         'sender_name': 'User B',\n",
        "         'timestamp_ms': 1675595060730},\n",
        "        {'content': 'It typically sells for at least $200 online',\n",
        "         'sender_name': 'User B',\n",
        "         'timestamp_ms': 1675595045152},\n",
        "        {'content': 'How much are you asking?',\n",
        "         'sender_name': 'User A',\n",
        "         'timestamp_ms': 1675594799696},\n",
        "        {'content': 'Good morning! $50 is far too low.',\n",
        "         'sender_name': 'User B',\n",
        "         'timestamp_ms': 1675577876645},\n",
        "        {'content': 'Hello! I’m interested in the item you posted. I can offer $50. Let me know if that works for you. Thanks!',\n",
        "         'sender_name': 'User A',\n",
        "         'timestamp_ms': 1675549022673}\n",
        "    ],\n",
        "    'participants': [{'name': 'User A'}, {'name': 'User B'}],\n",
        "    'thread_path': 'inbox/User A and User B chat',\n",
        "    'title': 'User A and User B chat'\n",
        "}\n",
        "\n",
        "# Save the modified data to a JSON file\n",
        "with open('chat_data.json', 'w') as file:\n",
        "    json.dump(data, file, indent=4)\n"
      ],
      "metadata": {
        "id": "AMNzI96yAHuL"
      },
      "execution_count": 46,
      "outputs": []
    },
    {
      "cell_type": "markdown",
      "source": [
        "#### To load the full data as a single document"
      ],
      "metadata": {
        "id": "jN7sj407A2E3"
      }
    },
    {
      "cell_type": "code",
      "source": [
        "from langchain_community.document_loaders import JSONLoader\n",
        "\n",
        "# loader\n",
        "loader = JSONLoader(\n",
        "    file_path='./chat_data.json',\n",
        "    jq_schema='.',\n",
        "    text_content=False)\n",
        "\n",
        "# load data\n",
        "data = loader.load()"
      ],
      "metadata": {
        "id": "fNQubeRCA4ai"
      },
      "execution_count": 47,
      "outputs": []
    },
    {
      "cell_type": "code",
      "source": [
        "# length of data\n",
        "len(data)"
      ],
      "metadata": {
        "colab": {
          "base_uri": "https://localhost:8080/"
        },
        "id": "I_J2iLzNBFmS",
        "outputId": "78d060ec-eb5f-4b33-b76f-70275a5d58d0"
      },
      "execution_count": 48,
      "outputs": [
        {
          "output_type": "execute_result",
          "data": {
            "text/plain": [
              "1"
            ]
          },
          "metadata": {},
          "execution_count": 48
        }
      ]
    },
    {
      "cell_type": "code",
      "source": [
        "# print data\n",
        "data"
      ],
      "metadata": {
        "colab": {
          "base_uri": "https://localhost:8080/"
        },
        "id": "LKs-UZ5MBHBK",
        "outputId": "b59ee358-17f8-46c7-a56b-2887b4d36607"
      },
      "execution_count": 49,
      "outputs": [
        {
          "output_type": "execute_result",
          "data": {
            "text/plain": [
              "[Document(page_content='{\"image\": {\"creation_timestamp\": 1675549016, \"uri\": \"image_of_the_meeting.jpg\"}, \"is_still_participant\": true, \"joinable_mode\": {\"link\": \"\", \"mode\": 1}, \"magic_words\": [], \"messages\": [{\"content\": \"See you soon!\", \"sender_name\": \"User B\", \"timestamp_ms\": 1675597571851}, {\"content\": \"Thanks for the update! See you then.\", \"sender_name\": \"User A\", \"timestamp_ms\": 1675597435669}, {\"content\": \"Actually, the green one is sold out.\", \"sender_name\": \"User B\", \"timestamp_ms\": 1675596277579}, {\"content\": \"I was hoping to purchase the green one!\", \"sender_name\": \"User A\", \"timestamp_ms\": 1675595140251}, {\"content\": \"I\\\\u2019m really interested in the green one, not the red!\", \"sender_name\": \"User A\", \"timestamp_ms\": 1675595109305}, {\"content\": \"Here\\\\u2019s the $150 for it.\", \"sender_name\": \"User B\", \"timestamp_ms\": 1675595068468}, {\"photos\": [{\"creation_timestamp\": 1675595059, \"uri\": \"image_of_the_item.jpg\"}], \"sender_name\": \"User B\", \"timestamp_ms\": 1675595060730}, {\"content\": \"It typically sells for at least $200 online\", \"sender_name\": \"User B\", \"timestamp_ms\": 1675595045152}, {\"content\": \"How much are you asking?\", \"sender_name\": \"User A\", \"timestamp_ms\": 1675594799696}, {\"content\": \"Good morning! $50 is far too low.\", \"sender_name\": \"User B\", \"timestamp_ms\": 1675577876645}, {\"content\": \"Hello! I\\\\u2019m interested in the item you posted. I can offer $50. Let me know if that works for you. Thanks!\", \"sender_name\": \"User A\", \"timestamp_ms\": 1675549022673}], \"participants\": [{\"name\": \"User A\"}, {\"name\": \"User B\"}], \"thread_path\": \"inbox/User A and User B chat\", \"title\": \"User A and User B chat\"}', metadata={'source': '/content/chat_data.json', 'seq_num': 1})]"
            ]
          },
          "metadata": {},
          "execution_count": 49
        }
      ]
    },
    {
      "cell_type": "markdown",
      "source": [
        "#### What if we are only interested in extracting the values under the `messages` key of the JSON data.\n",
        "* We can use the **jq_schema** to extract a specific field from the JSON."
      ],
      "metadata": {
        "id": "xmgMyYArBJUg"
      }
    },
    {
      "cell_type": "code",
      "source": [
        "loader = JSONLoader(\n",
        "    file_path='./chat_data.json',\n",
        "    jq_schema='.messages[]',\n",
        "    text_content=False)\n",
        "\n",
        "\n",
        "# load data\n",
        "data = loader.load()\n",
        "data"
      ],
      "metadata": {
        "colab": {
          "base_uri": "https://localhost:8080/"
        },
        "id": "WpG-gQiFBOaa",
        "outputId": "d32a3416-b075-4816-ee79-fc4ae22dfba0"
      },
      "execution_count": 50,
      "outputs": [
        {
          "output_type": "execute_result",
          "data": {
            "text/plain": [
              "[Document(page_content='{\"content\": \"See you soon!\", \"sender_name\": \"User B\", \"timestamp_ms\": 1675597571851}', metadata={'source': '/content/chat_data.json', 'seq_num': 1}),\n",
              " Document(page_content='{\"content\": \"Thanks for the update! See you then.\", \"sender_name\": \"User A\", \"timestamp_ms\": 1675597435669}', metadata={'source': '/content/chat_data.json', 'seq_num': 2}),\n",
              " Document(page_content='{\"content\": \"Actually, the green one is sold out.\", \"sender_name\": \"User B\", \"timestamp_ms\": 1675596277579}', metadata={'source': '/content/chat_data.json', 'seq_num': 3}),\n",
              " Document(page_content='{\"content\": \"I was hoping to purchase the green one!\", \"sender_name\": \"User A\", \"timestamp_ms\": 1675595140251}', metadata={'source': '/content/chat_data.json', 'seq_num': 4}),\n",
              " Document(page_content='{\"content\": \"I\\\\u2019m really interested in the green one, not the red!\", \"sender_name\": \"User A\", \"timestamp_ms\": 1675595109305}', metadata={'source': '/content/chat_data.json', 'seq_num': 5}),\n",
              " Document(page_content='{\"content\": \"Here\\\\u2019s the $150 for it.\", \"sender_name\": \"User B\", \"timestamp_ms\": 1675595068468}', metadata={'source': '/content/chat_data.json', 'seq_num': 6}),\n",
              " Document(page_content='{\"photos\": [{\"creation_timestamp\": 1675595059, \"uri\": \"image_of_the_item.jpg\"}], \"sender_name\": \"User B\", \"timestamp_ms\": 1675595060730}', metadata={'source': '/content/chat_data.json', 'seq_num': 7}),\n",
              " Document(page_content='{\"content\": \"It typically sells for at least $200 online\", \"sender_name\": \"User B\", \"timestamp_ms\": 1675595045152}', metadata={'source': '/content/chat_data.json', 'seq_num': 8}),\n",
              " Document(page_content='{\"content\": \"How much are you asking?\", \"sender_name\": \"User A\", \"timestamp_ms\": 1675594799696}', metadata={'source': '/content/chat_data.json', 'seq_num': 9}),\n",
              " Document(page_content='{\"content\": \"Good morning! $50 is far too low.\", \"sender_name\": \"User B\", \"timestamp_ms\": 1675577876645}', metadata={'source': '/content/chat_data.json', 'seq_num': 10}),\n",
              " Document(page_content='{\"content\": \"Hello! I\\\\u2019m interested in the item you posted. I can offer $50. Let me know if that works for you. Thanks!\", \"sender_name\": \"User A\", \"timestamp_ms\": 1675549022673}', metadata={'source': '/content/chat_data.json', 'seq_num': 11})]"
            ]
          },
          "metadata": {},
          "execution_count": 50
        }
      ]
    },
    {
      "cell_type": "markdown",
      "source": [
        "### PDF Loaders\n",
        "* PDF or \"Portable Document Format\" is standardized ISO 32000, a file format developed by Adobe in 1992 to present documents including text, formatting and images independent of software, hardware and operating systems.\n",
        "* LangChain is able to integrate with multiple PDF parsers.\n",
        "  * Some of the parsers are \"simple and low-level\".\n",
        "  * Other parsers support OCR and image processing\n",
        "  * Some parsers can perform advanced document layout analysis.\n",
        "  * ....parser selection depends on your use case!\n",
        "\n",
        "* Below we will load PDF documents into LangChain `document` format.\n",
        "* We will use a research paper as an example experiment."
      ],
      "metadata": {
        "id": "Q3dYPY5BDx_v"
      }
    },
    {
      "cell_type": "code",
      "source": [
        "## get the paper\n",
        "!wget -O 'layoutparser_paper.pdf' 'http://arxiv.org/pdf/2103.15348.pdf'"
      ],
      "metadata": {
        "colab": {
          "base_uri": "https://localhost:8080/"
        },
        "id": "Y9OvxBIsEXW6",
        "outputId": "1bd1e4e1-382e-495e-c34f-753583406544"
      },
      "execution_count": 51,
      "outputs": [
        {
          "output_type": "stream",
          "name": "stdout",
          "text": [
            "--2024-07-02 18:09:37--  http://arxiv.org/pdf/2103.15348.pdf\n",
            "Resolving arxiv.org (arxiv.org)... 151.101.131.42, 151.101.3.42, 151.101.67.42, ...\n",
            "Connecting to arxiv.org (arxiv.org)|151.101.131.42|:80... connected.\n",
            "HTTP request sent, awaiting response... 301 Moved Permanently\n",
            "Location: http://arxiv.org/pdf/2103.15348 [following]\n",
            "--2024-07-02 18:09:37--  http://arxiv.org/pdf/2103.15348\n",
            "Reusing existing connection to arxiv.org:80.\n",
            "HTTP request sent, awaiting response... 200 OK\n",
            "Length: 4686220 (4.5M) [application/pdf]\n",
            "Saving to: ‘layoutparser_paper.pdf’\n",
            "\n",
            "\rlayoutparser_paper.   0%[                    ]       0  --.-KB/s               \rlayoutparser_paper. 100%[===================>]   4.47M  --.-KB/s    in 0.05s   \n",
            "\n",
            "2024-07-02 18:09:37 (85.4 MB/s) - ‘layoutparser_paper.pdf’ saved [4686220/4686220]\n",
            "\n"
          ]
        }
      ]
    },
    {
      "cell_type": "markdown",
      "source": [
        "### PyPDFLoader\n",
        "* Below we will now load the PDF we downloaded using the `pypdf` function from LangChain into a list of documents.\n",
        "* Each document contains the page content and metadata with page number.\n",
        "* Usually each PDF page will be 1 document."
      ],
      "metadata": {
        "id": "1BYlvZxTEkx5"
      }
    },
    {
      "cell_type": "code",
      "source": [
        "from langchain_community.document_loaders import PyPDFLoader\n",
        "\n",
        "# loader\n",
        "loader = PyPDFLoader(\"./layoutparser_paper.pdf\")\n",
        "\n",
        "# load the pages\n",
        "pages = loader.load()"
      ],
      "metadata": {
        "id": "sZkfoamgE-1v"
      },
      "execution_count": 52,
      "outputs": []
    },
    {
      "cell_type": "code",
      "source": [
        "# length of pages\n",
        "len(pages)"
      ],
      "metadata": {
        "colab": {
          "base_uri": "https://localhost:8080/"
        },
        "id": "xuQkpO9hFMgF",
        "outputId": "1eef1cdc-4149-4c24-c991-7b2982086ca4"
      },
      "execution_count": 53,
      "outputs": [
        {
          "output_type": "execute_result",
          "data": {
            "text/plain": [
              "16"
            ]
          },
          "metadata": {},
          "execution_count": 53
        }
      ]
    },
    {
      "cell_type": "code",
      "source": [
        "# print 1 page\n",
        "print(pages[0])"
      ],
      "metadata": {
        "colab": {
          "base_uri": "https://localhost:8080/"
        },
        "id": "gbfU3znFFN0Q",
        "outputId": "5158ffe6-2418-4018-c9f1-55b4181d9621"
      },
      "execution_count": 54,
      "outputs": [
        {
          "output_type": "stream",
          "name": "stdout",
          "text": [
            "page_content='LayoutParser : A Uniﬁed Toolkit for Deep\\nLearning Based Document Image Analysis\\nZejiang Shen1( \\x00), Ruochen Zhang2, Melissa Dell3, Benjamin Charles Germain\\nLee4, Jacob Carlson3, and Weining Li5\\n1Allen Institute for AI\\nshannons@allenai.org\\n2Brown University\\nruochen zhang@brown.edu\\n3Harvard University\\n{melissadell,jacob carlson }@fas.harvard.edu\\n4University of Washington\\nbcgl@cs.washington.edu\\n5University of Waterloo\\nw422li@uwaterloo.ca\\nAbstract. Recent advances in document image analysis (DIA) have been\\nprimarily driven by the application of neural networks. Ideally, research\\noutcomes could be easily deployed in production and extended for further\\ninvestigation. However, various factors like loosely organized codebases\\nand sophisticated model conﬁgurations complicate the easy reuse of im-\\nportant innovations by a wide audience. Though there have been on-going\\neﬀorts to improve reusability and simplify deep learning (DL) model\\ndevelopment in disciplines like natural language processing and computer\\nvision, none of them are optimized for challenges in the domain of DIA.\\nThis represents a major gap in the existing toolkit, as DIA is central to\\nacademic research across a wide range of disciplines in the social sciences\\nand humanities. This paper introduces LayoutParser , an open-source\\nlibrary for streamlining the usage of DL in DIA research and applica-\\ntions. The core LayoutParser library comes with a set of simple and\\nintuitive interfaces for applying and customizing DL models for layout de-\\ntection, character recognition, and many other document processing tasks.\\nTo promote extensibility, LayoutParser also incorporates a community\\nplatform for sharing both pre-trained models and full document digiti-\\nzation pipelines. We demonstrate that LayoutParser is helpful for both\\nlightweight and large-scale digitization pipelines in real-word use cases.\\nThe library is publicly available at https://layout-parser.github.io .\\nKeywords: Document Image Analysis ·Deep Learning ·Layout Analysis\\n·Character Recognition ·Open Source library ·Toolkit.\\n1 Introduction\\nDeep Learning(DL)-based approaches are the state-of-the-art for a wide range of\\ndocument image analysis (DIA) tasks including document image classiﬁcation [ 11,arXiv:2103.15348v2  [cs.CV]  21 Jun 2021' metadata={'source': './layoutparser_paper.pdf', 'page': 0}\n"
          ]
        }
      ]
    },
    {
      "cell_type": "code",
      "source": [
        "# print 1 page and the page_content\n",
        "print(pages[0].page_content)"
      ],
      "metadata": {
        "colab": {
          "base_uri": "https://localhost:8080/"
        },
        "id": "f_c0ZciDFQNr",
        "outputId": "0016dc88-5ce1-44df-df64-2402567f29e2"
      },
      "execution_count": 55,
      "outputs": [
        {
          "output_type": "stream",
          "name": "stdout",
          "text": [
            "LayoutParser : A Uniﬁed Toolkit for Deep\n",
            "Learning Based Document Image Analysis\n",
            "Zejiang Shen1( \u0000), Ruochen Zhang2, Melissa Dell3, Benjamin Charles Germain\n",
            "Lee4, Jacob Carlson3, and Weining Li5\n",
            "1Allen Institute for AI\n",
            "shannons@allenai.org\n",
            "2Brown University\n",
            "ruochen zhang@brown.edu\n",
            "3Harvard University\n",
            "{melissadell,jacob carlson }@fas.harvard.edu\n",
            "4University of Washington\n",
            "bcgl@cs.washington.edu\n",
            "5University of Waterloo\n",
            "w422li@uwaterloo.ca\n",
            "Abstract. Recent advances in document image analysis (DIA) have been\n",
            "primarily driven by the application of neural networks. Ideally, research\n",
            "outcomes could be easily deployed in production and extended for further\n",
            "investigation. However, various factors like loosely organized codebases\n",
            "and sophisticated model conﬁgurations complicate the easy reuse of im-\n",
            "portant innovations by a wide audience. Though there have been on-going\n",
            "eﬀorts to improve reusability and simplify deep learning (DL) model\n",
            "development in disciplines like natural language processing and computer\n",
            "vision, none of them are optimized for challenges in the domain of DIA.\n",
            "This represents a major gap in the existing toolkit, as DIA is central to\n",
            "academic research across a wide range of disciplines in the social sciences\n",
            "and humanities. This paper introduces LayoutParser , an open-source\n",
            "library for streamlining the usage of DL in DIA research and applica-\n",
            "tions. The core LayoutParser library comes with a set of simple and\n",
            "intuitive interfaces for applying and customizing DL models for layout de-\n",
            "tection, character recognition, and many other document processing tasks.\n",
            "To promote extensibility, LayoutParser also incorporates a community\n",
            "platform for sharing both pre-trained models and full document digiti-\n",
            "zation pipelines. We demonstrate that LayoutParser is helpful for both\n",
            "lightweight and large-scale digitization pipelines in real-word use cases.\n",
            "The library is publicly available at https://layout-parser.github.io .\n",
            "Keywords: Document Image Analysis ·Deep Learning ·Layout Analysis\n",
            "·Character Recognition ·Open Source library ·Toolkit.\n",
            "1 Introduction\n",
            "Deep Learning(DL)-based approaches are the state-of-the-art for a wide range of\n",
            "document image analysis (DIA) tasks including document image classiﬁcation [ 11,arXiv:2103.15348v2  [cs.CV]  21 Jun 2021\n"
          ]
        }
      ]
    },
    {
      "cell_type": "code",
      "source": [
        "# print another page and the page_content\n",
        "print(pages[4].page_content)"
      ],
      "metadata": {
        "colab": {
          "base_uri": "https://localhost:8080/"
        },
        "id": "XiYHO9AyFZOy",
        "outputId": "0d77c230-aa3c-4430-b199-cca6aa02fbc7"
      },
      "execution_count": 56,
      "outputs": [
        {
          "output_type": "stream",
          "name": "stdout",
          "text": [
            "LayoutParser : A Uniﬁed Toolkit for DL-Based DIA 5\n",
            "Table 1: Current layout detection models in the LayoutParser model zoo\n",
            "Dataset Base Model1Large Model Notes\n",
            "PubLayNet [38] F / M M Layouts of modern scientiﬁc documents\n",
            "PRImA [3] M - Layouts of scanned modern magazines and scientiﬁc reports\n",
            "Newspaper [17] F - Layouts of scanned US newspapers from the 20th century\n",
            "TableBank [18] F F Table region on modern scientiﬁc and business document\n",
            "HJDataset [31] F / M - Layouts of history Japanese documents\n",
            "1For each dataset, we train several models of diﬀerent sizes for diﬀerent needs (the trade-oﬀ between accuracy\n",
            "vs. computational cost). For “base model” and “large model”, we refer to using the ResNet 50 or ResNet 101\n",
            "backbones [ 13], respectively. One can train models of diﬀerent architectures, like Faster R-CNN [ 28] (F) and Mask\n",
            "R-CNN [ 12] (M). For example, an F in the Large Model column indicates it has a Faster R-CNN model trained\n",
            "using the ResNet 101 backbone. The platform is maintained and a number of additions will be made to the model\n",
            "zoo in coming months.\n",
            "layout data structures , which are optimized for eﬃciency and versatility. 3) When\n",
            "necessary, users can employ existing or customized OCR models via the uniﬁed\n",
            "API provided in the OCR module . 4)LayoutParser comes with a set of utility\n",
            "functions for the visualization and storage of the layout data. 5) LayoutParser\n",
            "is also highly customizable, via its integration with functions for layout data\n",
            "annotation and model training . We now provide detailed descriptions for each\n",
            "component.\n",
            "3.1 Layout Detection Models\n",
            "InLayoutParser , a layout model takes a document image as an input and\n",
            "generates a list of rectangular boxes for the target content regions. Diﬀerent\n",
            "from traditional methods, it relies on deep convolutional neural networks rather\n",
            "than manually curated rules to identify content regions. It is formulated as an\n",
            "object detection problem and state-of-the-art models like Faster R-CNN [ 28] and\n",
            "Mask R-CNN [ 12] are used. This yields prediction results of high accuracy and\n",
            "makes it possible to build a concise, generalized interface for layout detection.\n",
            "LayoutParser , built upon Detectron2 [ 35], provides a minimal API that can\n",
            "perform layout detection with only four lines of code in Python:\n",
            "1import layoutparser as lp\n",
            "2image = cv2. imread (\" image_file \") # load images\n",
            "3model = lp. Detectron2LayoutModel (\n",
            "4 \"lp :// PubLayNet / faster_rcnn_R_50_FPN_3x / config \")\n",
            "5layout = model . detect ( image )\n",
            "LayoutParser provides a wealth of pre-trained model weights using various\n",
            "datasets covering diﬀerent languages, time periods, and document types. Due to\n",
            "domain shift [ 7], the prediction performance can notably drop when models are ap-\n",
            "plied to target samples that are signiﬁcantly diﬀerent from the training dataset. As\n",
            "document structures and layouts vary greatly in diﬀerent domains, it is important\n",
            "to select models trained on a dataset similar to the test samples. A semantic syntax\n",
            "is used for initializing the model weights in LayoutParser , using both the dataset\n",
            "name and model name lp://<dataset-name>/<model-architecture-name> .\n"
          ]
        }
      ]
    },
    {
      "cell_type": "markdown",
      "source": [
        "### PyMuPDFLoader\n",
        "* **This is the FASTEST OF THE PDF parsing options available in LangChain**.\n",
        "* **Use this loader if you are loading a lot of PDF documents.**\n",
        "* This contains metadata from the PDF and its pages.\n",
        "* This also returns 1 document per page.\n",
        "* The python library `pymupdf` is used internally."
      ],
      "metadata": {
        "id": "aSPM9jK9FeyQ"
      }
    },
    {
      "cell_type": "code",
      "source": [
        "from langchain_community.document_loaders import PyMuPDFLoader\n",
        "\n",
        "# loader\n",
        "loader = PyMuPDFLoader(\"./layoutparser_paper.pdf\")\n",
        "pages = loader.load()"
      ],
      "metadata": {
        "id": "962z_TaWF59s"
      },
      "execution_count": 57,
      "outputs": []
    },
    {
      "cell_type": "code",
      "source": [
        "# length of pages\n",
        "len(pages)"
      ],
      "metadata": {
        "colab": {
          "base_uri": "https://localhost:8080/"
        },
        "id": "DNmaEK8l5loz",
        "outputId": "008ec713-b8f4-4c99-f9a2-14098b74370d"
      },
      "execution_count": 58,
      "outputs": [
        {
          "output_type": "execute_result",
          "data": {
            "text/plain": [
              "16"
            ]
          },
          "metadata": {},
          "execution_count": 58
        }
      ]
    },
    {
      "cell_type": "code",
      "source": [
        "# print a page\n",
        "pages[0]"
      ],
      "metadata": {
        "colab": {
          "base_uri": "https://localhost:8080/"
        },
        "id": "m5irsg2K5ofS",
        "outputId": "2e64c3b5-e25d-4cd6-dc63-8cf4777e1809"
      },
      "execution_count": 59,
      "outputs": [
        {
          "output_type": "execute_result",
          "data": {
            "text/plain": [
              "Document(page_content='LayoutParser: A Uniﬁed Toolkit for Deep\\nLearning Based Document Image Analysis\\nZejiang Shen1 (\\x00), Ruochen Zhang2, Melissa Dell3, Benjamin Charles Germain\\nLee4, Jacob Carlson3, and Weining Li5\\n1 Allen Institute for AI\\nshannons@allenai.org\\n2 Brown University\\nruochen zhang@brown.edu\\n3 Harvard University\\n{melissadell,jacob carlson}@fas.harvard.edu\\n4 University of Washington\\nbcgl@cs.washington.edu\\n5 University of Waterloo\\nw422li@uwaterloo.ca\\nAbstract. Recent advances in document image analysis (DIA) have been\\nprimarily driven by the application of neural networks. Ideally, research\\noutcomes could be easily deployed in production and extended for further\\ninvestigation. However, various factors like loosely organized codebases\\nand sophisticated model conﬁgurations complicate the easy reuse of im-\\nportant innovations by a wide audience. Though there have been on-going\\neﬀorts to improve reusability and simplify deep learning (DL) model\\ndevelopment in disciplines like natural language processing and computer\\nvision, none of them are optimized for challenges in the domain of DIA.\\nThis represents a major gap in the existing toolkit, as DIA is central to\\nacademic research across a wide range of disciplines in the social sciences\\nand humanities. This paper introduces LayoutParser, an open-source\\nlibrary for streamlining the usage of DL in DIA research and applica-\\ntions. The core LayoutParser library comes with a set of simple and\\nintuitive interfaces for applying and customizing DL models for layout de-\\ntection, character recognition, and many other document processing tasks.\\nTo promote extensibility, LayoutParser also incorporates a community\\nplatform for sharing both pre-trained models and full document digiti-\\nzation pipelines. We demonstrate that LayoutParser is helpful for both\\nlightweight and large-scale digitization pipelines in real-word use cases.\\nThe library is publicly available at https://layout-parser.github.io.\\nKeywords: Document Image Analysis · Deep Learning · Layout Analysis\\n· Character Recognition · Open Source library · Toolkit.\\n1\\nIntroduction\\nDeep Learning(DL)-based approaches are the state-of-the-art for a wide range of\\ndocument image analysis (DIA) tasks including document image classiﬁcation [11,\\narXiv:2103.15348v2  [cs.CV]  21 Jun 2021\\n', metadata={'source': './layoutparser_paper.pdf', 'file_path': './layoutparser_paper.pdf', 'page': 0, 'total_pages': 16, 'format': 'PDF 1.5', 'title': '', 'author': '', 'subject': '', 'keywords': '', 'creator': 'LaTeX with hyperref', 'producer': 'pdfTeX-1.40.21', 'creationDate': 'D:20210622012710Z', 'modDate': 'D:20210622012710Z', 'trapped': ''})"
            ]
          },
          "metadata": {},
          "execution_count": 59
        }
      ]
    },
    {
      "cell_type": "code",
      "source": [
        "# pages metadata\n",
        "pages[0].metadata"
      ],
      "metadata": {
        "colab": {
          "base_uri": "https://localhost:8080/"
        },
        "id": "yyjCWrBE5qPW",
        "outputId": "cdc2f37f-6ee4-40c2-b793-0f7cf4beb125"
      },
      "execution_count": 60,
      "outputs": [
        {
          "output_type": "execute_result",
          "data": {
            "text/plain": [
              "{'source': './layoutparser_paper.pdf',\n",
              " 'file_path': './layoutparser_paper.pdf',\n",
              " 'page': 0,\n",
              " 'total_pages': 16,\n",
              " 'format': 'PDF 1.5',\n",
              " 'title': '',\n",
              " 'author': '',\n",
              " 'subject': '',\n",
              " 'keywords': '',\n",
              " 'creator': 'LaTeX with hyperref',\n",
              " 'producer': 'pdfTeX-1.40.21',\n",
              " 'creationDate': 'D:20210622012710Z',\n",
              " 'modDate': 'D:20210622012710Z',\n",
              " 'trapped': ''}"
            ]
          },
          "metadata": {},
          "execution_count": 60
        }
      ]
    },
    {
      "cell_type": "code",
      "source": [
        "print(pages[0].page_content)"
      ],
      "metadata": {
        "colab": {
          "base_uri": "https://localhost:8080/"
        },
        "id": "-3yMulP65tly",
        "outputId": "27057278-583d-4ce7-9dbc-65f99efba51d"
      },
      "execution_count": 61,
      "outputs": [
        {
          "output_type": "stream",
          "name": "stdout",
          "text": [
            "LayoutParser: A Uniﬁed Toolkit for Deep\n",
            "Learning Based Document Image Analysis\n",
            "Zejiang Shen1 (\u0000), Ruochen Zhang2, Melissa Dell3, Benjamin Charles Germain\n",
            "Lee4, Jacob Carlson3, and Weining Li5\n",
            "1 Allen Institute for AI\n",
            "shannons@allenai.org\n",
            "2 Brown University\n",
            "ruochen zhang@brown.edu\n",
            "3 Harvard University\n",
            "{melissadell,jacob carlson}@fas.harvard.edu\n",
            "4 University of Washington\n",
            "bcgl@cs.washington.edu\n",
            "5 University of Waterloo\n",
            "w422li@uwaterloo.ca\n",
            "Abstract. Recent advances in document image analysis (DIA) have been\n",
            "primarily driven by the application of neural networks. Ideally, research\n",
            "outcomes could be easily deployed in production and extended for further\n",
            "investigation. However, various factors like loosely organized codebases\n",
            "and sophisticated model conﬁgurations complicate the easy reuse of im-\n",
            "portant innovations by a wide audience. Though there have been on-going\n",
            "eﬀorts to improve reusability and simplify deep learning (DL) model\n",
            "development in disciplines like natural language processing and computer\n",
            "vision, none of them are optimized for challenges in the domain of DIA.\n",
            "This represents a major gap in the existing toolkit, as DIA is central to\n",
            "academic research across a wide range of disciplines in the social sciences\n",
            "and humanities. This paper introduces LayoutParser, an open-source\n",
            "library for streamlining the usage of DL in DIA research and applica-\n",
            "tions. The core LayoutParser library comes with a set of simple and\n",
            "intuitive interfaces for applying and customizing DL models for layout de-\n",
            "tection, character recognition, and many other document processing tasks.\n",
            "To promote extensibility, LayoutParser also incorporates a community\n",
            "platform for sharing both pre-trained models and full document digiti-\n",
            "zation pipelines. We demonstrate that LayoutParser is helpful for both\n",
            "lightweight and large-scale digitization pipelines in real-word use cases.\n",
            "The library is publicly available at https://layout-parser.github.io.\n",
            "Keywords: Document Image Analysis · Deep Learning · Layout Analysis\n",
            "· Character Recognition · Open Source library · Toolkit.\n",
            "1\n",
            "Introduction\n",
            "Deep Learning(DL)-based approaches are the state-of-the-art for a wide range of\n",
            "document image analysis (DIA) tasks including document image classiﬁcation [11,\n",
            "arXiv:2103.15348v2  [cs.CV]  21 Jun 2021\n",
            "\n"
          ]
        }
      ]
    },
    {
      "cell_type": "code",
      "source": [
        "print(pages[4].page_content)"
      ],
      "metadata": {
        "colab": {
          "base_uri": "https://localhost:8080/"
        },
        "id": "Ku7U-PAK5xpt",
        "outputId": "59995ea0-f4ed-47ca-a56b-9f55fd7ae79f"
      },
      "execution_count": 62,
      "outputs": [
        {
          "output_type": "stream",
          "name": "stdout",
          "text": [
            "LayoutParser: A Uniﬁed Toolkit for DL-Based DIA\n",
            "5\n",
            "Table 1: Current layout detection models in the LayoutParser model zoo\n",
            "Dataset\n",
            "Base Model1 Large Model\n",
            "Notes\n",
            "PubLayNet [38]\n",
            "F / M\n",
            "M\n",
            "Layouts of modern scientiﬁc documents\n",
            "PRImA [3]\n",
            "M\n",
            "-\n",
            "Layouts of scanned modern magazines and scientiﬁc reports\n",
            "Newspaper [17]\n",
            "F\n",
            "-\n",
            "Layouts of scanned US newspapers from the 20th century\n",
            "TableBank [18]\n",
            "F\n",
            "F\n",
            "Table region on modern scientiﬁc and business document\n",
            "HJDataset [31]\n",
            "F / M\n",
            "-\n",
            "Layouts of history Japanese documents\n",
            "1 For each dataset, we train several models of diﬀerent sizes for diﬀerent needs (the trade-oﬀbetween accuracy\n",
            "vs. computational cost). For “base model” and “large model”, we refer to using the ResNet 50 or ResNet 101\n",
            "backbones [13], respectively. One can train models of diﬀerent architectures, like Faster R-CNN [28] (F) and Mask\n",
            "R-CNN [12] (M). For example, an F in the Large Model column indicates it has a Faster R-CNN model trained\n",
            "using the ResNet 101 backbone. The platform is maintained and a number of additions will be made to the model\n",
            "zoo in coming months.\n",
            "layout data structures, which are optimized for eﬃciency and versatility. 3) When\n",
            "necessary, users can employ existing or customized OCR models via the uniﬁed\n",
            "API provided in the OCR module. 4) LayoutParser comes with a set of utility\n",
            "functions for the visualization and storage of the layout data. 5) LayoutParser\n",
            "is also highly customizable, via its integration with functions for layout data\n",
            "annotation and model training. We now provide detailed descriptions for each\n",
            "component.\n",
            "3.1\n",
            "Layout Detection Models\n",
            "In LayoutParser, a layout model takes a document image as an input and\n",
            "generates a list of rectangular boxes for the target content regions. Diﬀerent\n",
            "from traditional methods, it relies on deep convolutional neural networks rather\n",
            "than manually curated rules to identify content regions. It is formulated as an\n",
            "object detection problem and state-of-the-art models like Faster R-CNN [28] and\n",
            "Mask R-CNN [12] are used. This yields prediction results of high accuracy and\n",
            "makes it possible to build a concise, generalized interface for layout detection.\n",
            "LayoutParser, built upon Detectron2 [35], provides a minimal API that can\n",
            "perform layout detection with only four lines of code in Python:\n",
            "1 import\n",
            "layoutparser as lp\n",
            "2 image = cv2.imread(\"image_file\") # load\n",
            "images\n",
            "3 model = lp. Detectron2LayoutModel (\n",
            "4\n",
            "\"lp:// PubLayNet/ faster_rcnn_R_50_FPN_3x /config\")\n",
            "5 layout = model.detect(image)\n",
            "LayoutParser provides a wealth of pre-trained model weights using various\n",
            "datasets covering diﬀerent languages, time periods, and document types. Due to\n",
            "domain shift [7], the prediction performance can notably drop when models are ap-\n",
            "plied to target samples that are signiﬁcantly diﬀerent from the training dataset. As\n",
            "document structures and layouts vary greatly in diﬀerent domains, it is important\n",
            "to select models trained on a dataset similar to the test samples. A semantic syntax\n",
            "is used for initializing the model weights in LayoutParser, using both the dataset\n",
            "name and model name lp://<dataset-name>/<model-architecture-name>.\n",
            "\n"
          ]
        }
      ]
    },
    {
      "cell_type": "markdown",
      "source": [
        "### UnstructuredPDFLoader\n",
        "* Unstructured.io also supports a common interface for working with unstructured or semi-structured file formats such as Markdown or PDF.\n",
        "* LangChain's `UnstructuredPDFLoader` integrates with Unstructured to parse PDF documents into LangChain Document objects."
      ],
      "metadata": {
        "id": "6fQsyaXw50i9"
      }
    },
    {
      "cell_type": "code",
      "source": [
        "## load PDF as a single document - no complex parsing\n",
        "from langchain_community.document_loaders import UnstructuredPDFLoader\n",
        "\n",
        "# loader\n",
        "loader = UnstructuredPDFLoader('./layoutparser_paper.pdf')\n",
        "data = loader.load()"
      ],
      "metadata": {
        "id": "7-Nidbgc6W3K"
      },
      "execution_count": 63,
      "outputs": []
    },
    {
      "cell_type": "code",
      "source": [
        "# length of data\n",
        "len(data)"
      ],
      "metadata": {
        "colab": {
          "base_uri": "https://localhost:8080/"
        },
        "id": "8O2RzQwW6lc8",
        "outputId": "2d7e3afd-0f0f-4ebc-9c8e-0d61dddb976d"
      },
      "execution_count": 64,
      "outputs": [
        {
          "output_type": "execute_result",
          "data": {
            "text/plain": [
              "1"
            ]
          },
          "metadata": {},
          "execution_count": 64
        }
      ]
    },
    {
      "cell_type": "code",
      "source": [
        "# get page content --> first 10,000 characters\n",
        "print(data[0].page_content[:10000])"
      ],
      "metadata": {
        "colab": {
          "base_uri": "https://localhost:8080/"
        },
        "id": "TVdvO4UB6ngl",
        "outputId": "25ca9307-61b2-4d55-91ba-4ab4fb4175a1"
      },
      "execution_count": 65,
      "outputs": [
        {
          "output_type": "stream",
          "name": "stdout",
          "text": [
            "1 2 0 2\n",
            "\n",
            "n u J\n",
            "\n",
            "1 2\n",
            "\n",
            "]\n",
            "\n",
            "V C . s c [\n",
            "\n",
            "2 v 8 4 3 5 1 . 3 0 1 2 : v i X r a\n",
            "\n",
            "LayoutParser: A Uniﬁed Toolkit for Deep Learning Based Document Image Analysis\n",
            "\n",
            "Zejiang Shen1 ((cid:0)), Ruochen Zhang2, Melissa Dell3, Benjamin Charles Germain Lee4, Jacob Carlson3, and Weining Li5\n",
            "\n",
            "1 Allen Institute for AI shannons@allenai.org 2 Brown University ruochen zhang@brown.edu 3 Harvard University {melissadell,jacob carlson}@fas.harvard.edu 4 University of Washington bcgl@cs.washington.edu 5 University of Waterloo w422li@uwaterloo.ca\n",
            "\n",
            "Abstract. Recent advances in document image analysis (DIA) have been primarily driven by the application of neural networks. Ideally, research outcomes could be easily deployed in production and extended for further investigation. However, various factors like loosely organized codebases and sophisticated model conﬁgurations complicate the easy reuse of im- portant innovations by a wide audience. Though there have been on-going eﬀorts to improve reusability and simplify deep learning (DL) model development in disciplines like natural language processing and computer vision, none of them are optimized for challenges in the domain of DIA. This represents a major gap in the existing toolkit, as DIA is central to academic research across a wide range of disciplines in the social sciences and humanities. This paper introduces LayoutParser, an open-source library for streamlining the usage of DL in DIA research and applica- tions. The core LayoutParser library comes with a set of simple and intuitive interfaces for applying and customizing DL models for layout de- tection, character recognition, and many other document processing tasks. To promote extensibility, LayoutParser also incorporates a community platform for sharing both pre-trained models and full document digiti- zation pipelines. We demonstrate that LayoutParser is helpful for both lightweight and large-scale digitization pipelines in real-word use cases. The library is publicly available at https://layout-parser.github.io.\n",
            "\n",
            "Keywords: Document Image Analysis · Deep Learning · Layout Analysis · Character Recognition · Open Source library · Toolkit.\n",
            "\n",
            "1\n",
            "\n",
            "Introduction\n",
            "\n",
            "Deep Learning(DL)-based approaches are the state-of-the-art for a wide range of document image analysis (DIA) tasks including document image classiﬁcation [11,\n",
            "\n",
            "2\n",
            "\n",
            "Z. Shen et al.\n",
            "\n",
            "37], layout detection [38, 22], table detection [26], and scene text detection [4]. A generalized learning-based framework dramatically reduces the need for the manual speciﬁcation of complicated rules, which is the status quo with traditional methods. DL has the potential to transform DIA pipelines and beneﬁt a broad spectrum of large-scale document digitization projects.\n",
            "\n",
            "However, there are several practical diﬃculties for taking advantages of re- cent advances in DL-based methods: 1) DL models are notoriously convoluted for reuse and extension. Existing models are developed using distinct frame- works like TensorFlow [1] or PyTorch [24], and the high-level parameters can be obfuscated by implementation details [8]. It can be a time-consuming and frustrating experience to debug, reproduce, and adapt existing models for DIA, and many researchers who would beneﬁt the most from using these methods lack the technical background to implement them from scratch. 2) Document images contain diverse and disparate patterns across domains, and customized training is often required to achieve a desirable detection accuracy. Currently there is no full-ﬂedged infrastructure for easily curating the target document image datasets and ﬁne-tuning or re-training the models. 3) DIA usually requires a sequence of models and other processing to obtain the ﬁnal outputs. Often research teams use DL models and then perform further document analyses in separate processes, and these pipelines are not documented in any central location (and often not documented at all). This makes it diﬃcult for research teams to learn about how full pipelines are implemented and leads them to invest signiﬁcant resources in reinventing the DIA wheel.\n",
            "\n",
            "LayoutParser provides a uniﬁed toolkit to support DL-based document image analysis and processing. To address the aforementioned challenges, LayoutParser is built with the following components:\n",
            "\n",
            "1. An oﬀ-the-shelf toolkit for applying DL models for layout detection, character recognition, and other DIA tasks (Section 3)\n",
            "\n",
            "2. A rich repository of pre-trained neural network models (Model Zoo) that underlies the oﬀ-the-shelf usage\n",
            "\n",
            "3. Comprehensive tools for eﬃcient document image data annotation and model tuning to support diﬀerent levels of customization\n",
            "\n",
            "4. A DL model hub and community platform for the easy sharing, distribu- tion, and discussion of DIA models and pipelines, to promote reusability, reproducibility, and extensibility (Section 4)\n",
            "\n",
            "The library implements simple and intuitive Python APIs without sacriﬁcing generalizability and versatility, and can be easily installed via pip. Its convenient functions for handling document image data can be seamlessly integrated with existing DIA pipelines. With detailed documentations and carefully curated tutorials, we hope this tool will beneﬁt a variety of end-users, and will lead to advances in applications in both industry and academic research.\n",
            "\n",
            "LayoutParser is well aligned with recent eﬀorts for improving DL model reusability in other disciplines like natural language processing [8, 34] and com- puter vision [35], but with a focus on unique challenges in DIA. We show LayoutParser can be applied in sophisticated and large-scale digitization projects\n",
            "\n",
            "LayoutParser: A Uniﬁed Toolkit for DL-Based DIA\n",
            "\n",
            "that require precision, eﬃciency, and robustness, as well as simple and light- weight document processing tasks focusing on eﬃcacy and ﬂexibility (Section 5). LayoutParser is being actively maintained, and support for more deep learning models and novel methods in text-based layout analysis methods [37, 34] is planned.\n",
            "\n",
            "The rest of the paper is organized as follows. Section 2 provides an overview of related work. The core LayoutParser library, DL Model Zoo, and customized model training are described in Section 3, and the DL model hub and commu- nity platform are detailed in Section 4. Section 5 shows two examples of how LayoutParser can be used in practical DIA projects, and Section 6 concludes.\n",
            "\n",
            "2 Related Work\n",
            "\n",
            "Recently, various DL models and datasets have been developed for layout analysis tasks. The dhSegment [22] utilizes fully convolutional networks [20] for segmen- tation tasks on historical documents. Object detection-based methods like Faster R-CNN [28] and Mask R-CNN [12] are used for identifying document elements [38] and detecting tables [30, 26]. Most recently, Graph Neural Networks [29] have also been used in table detection [27]. However, these models are usually implemented individually and there is no uniﬁed framework to load and use such models.\n",
            "\n",
            "There has been a surge of interest in creating open-source tools for document image processing: a search of document image analysis in Github leads to 5M relevant code pieces 6; yet most of them rely on traditional rule-based methods or provide limited functionalities. The closest prior research to our work is the OCR-D project7, which also tries to build a complete toolkit for DIA. However, similar to the platform developed by Neudecker et al. [21], it is designed for analyzing historical documents, and provides no supports for recent DL models. The DocumentLayoutAnalysis project8 focuses on processing born-digital PDF documents via analyzing the stored PDF data. Repositories like DeepLayout9 and Detectron2-PubLayNet10 are individual deep learning models trained on layout analysis datasets without support for the full DIA pipeline. The Document Analysis and Exploitation (DAE) platform [15] and the DeepDIVA project [2] aim to improve the reproducibility of DIA methods (or DL models), yet they are not actively maintained. OCR engines like Tesseract [14], easyOCR11 and paddleOCR12 usually do not come with comprehensive functionalities for other DIA tasks like layout analysis.\n",
            "\n",
            "Recent years have also seen numerous eﬀorts to create libraries for promoting reproducibility and reusability in the ﬁeld of DL. Libraries like Dectectron2 [35],\n",
            "\n",
            "6 The number shown is obtained by specifying the search type as ‘code’. 7 https://ocr-d.de/en/about 8 https://github.com/BobLd/DocumentLayoutAnalysis 9 https://github.com/leonlulu/DeepLayout 10 https://github.com/hpanwar08/detectron2 11 https://github.com/JaidedAI/EasyOCR 12 https://github.com/PaddlePaddle/PaddleOCR\n",
            "\n",
            "3\n",
            "\n",
            "4\n",
            "\n",
            "Z. Shen et al.\n",
            "\n",
            "The Core LayoutParser Library\n",
            "\n",
            "Efficient Data Annotation\n",
            "\n",
            "Layout Data Structure\n",
            "\n",
            "DIA Model Hub\n",
            "\n",
            "DIA Pipeline Sharing\n",
            "\n",
            "Layout Detection Models\n",
            "\n",
            "Document Images\n",
            "\n",
            "Community Platform\n",
            "\n",
            "Model Customization\n",
            "\n",
            "Storage & Visualization\n",
            "\n",
            "OCR Module\n",
            "\n",
            "Customized Model Training\n",
            "\n",
            "Fig. 1: The overall architecture of LayoutParser. For an input document image, the core LayoutParser library provides a set of oﬀ-the-shelf tools for layout detection, OCR, visualization, and storage, backed by a carefully designed layout data structure. LayoutParser also supports high level customization via eﬃcient layout annotation and model training functions. These improve model accuracy on the target samples. The community platform enables the easy sharing of DIA models and whole digitization pipelines to promote reusability and reproducibility. A collection of detailed documentation, tutorials and exemplar projects make LayoutParser easy to learn and use.\n",
            "\n",
            "AllenNLP [8] and transformers [34] have provided the community with complete DL-based support for developing and deploying models for general computer vision and natural language processing problems. LayoutParser, on the other hand, specializes speciﬁcally in DIA tasks. LayoutParser is also equipped with a community platform inspired by established model hubs such as Torch Hub [23] and TensorFlow Hub [1]. It e\n"
          ]
        }
      ]
    },
    {
      "cell_type": "markdown",
      "source": [
        "#### Load PDF with complex parsing, table detection and chunking by sections\n",
        "* This will take a little longer to execute because it uses specific transformers under the hood which take time to download and run."
      ],
      "metadata": {
        "id": "lPeT-J7C6uC9"
      }
    },
    {
      "cell_type": "code",
      "source": [
        "# this may take 3-5 mins on colab\n",
        "# takes 3-4 mins on Colab\n",
        "loader = UnstructuredPDFLoader('./layoutparser_paper.pdf',\n",
        "                               strategy='hi_res',\n",
        "                               extract_images_in_pdf=False, #not extracting images\n",
        "                               infer_table_structure=True, # we are extracting tables\n",
        "                               chunking_strategy=\"by_title\", #chunking the paper by title sections\n",
        "                               max_characters=4000, # max size of chunks\n",
        "                               new_after_n_chars=3800, # preferred size of chunks\n",
        "                               combine_text_under_n_chars=2000, # smaller chunks < 2000 chars will be combined into a larger chunk\n",
        "                               mode='elements')\n",
        "data = loader.load()"
      ],
      "metadata": {
        "colab": {
          "base_uri": "https://localhost:8080/",
          "height": 217,
          "referenced_widgets": [
            "9966a593c049496eb3cf44573b00fc09",
            "1c9a83ffb02b45bf9e27abdbf9007c61",
            "89bcef48550f42d5b668a791b4cf735d",
            "648b8fbf3f6e4fde8b61cd33e85ca15f",
            "84731f13715d4ee38b6b49405d413237",
            "68fbc57fb0ae44d9a0d8c66c8aaac502",
            "d1d4e3a8a340455f9996fda52aa6d75e",
            "0a268fc1cf8142d1acf8b04b34d74656",
            "133a693480ba4c53b30de42ba263418a",
            "a2fb3d2a3df64abe8a5d97ddacc13812",
            "215c495db5554e37b842624f1936caf1",
            "4ba1724a093c43988711efac7b831c11",
            "a7eacef78ce34b4a8063e453137d15ef",
            "788155f948a94894803751c94c6b8d83",
            "21a81200fec74b37bf2013a4c5d6036a",
            "1db61bb98a164669a9ebd049d96cefdd",
            "566f186b9a0d427a891ac02bc7a63565",
            "d4303eeeefb34ffea279495c585804b2",
            "f1927deeafa5460fa09a1fab0e6b583e",
            "99365490da1c48b2aa4916cf98923fa9",
            "37a1044afb2d43d3be4e1e9314661c9c",
            "d2b8866f08eb489c8ab6e7905def3365",
            "eca1a4ccbda3421ca065b45d556d2919",
            "0b3c06690e554278ba73e67ea611b0c6",
            "831beda4578842ecbc63b604e49e9154",
            "3d0f1373a53a4b06a3cb90e37c3abeaf",
            "76f79e0ef3a444558ed6119eb378f56b",
            "962a56a4bb3c4076b08e14b5b130ad00",
            "fa0993431d1746189786ecce043a6a9f",
            "54e7d6cf9fab466f9ed72b61b0339bc3",
            "af2fac4e8966493688310bbe31266bf9",
            "04641d55cc774f0c8e72293d7ecdaf3b",
            "12a618244e654706a648597f522a6ce8",
            "106c6094784d46ca9ba73f727534ff32",
            "2035dd15113445a8bcea3813c8f3aea9",
            "ffcb30b13f27411b976a855a5803f406",
            "ad4a9eb554a44aeca092770460cc3315",
            "f20e784c70a1429c9ecb65b2dc5d9852",
            "3ff3749ec0b04750bb98230650bbf962",
            "19dd6c43b2374a3780e1b112a99c723b",
            "3914a81e81c34a6d8c69cc8af4a159bf",
            "a69a37ed74af4946a91a0e907516e4a2",
            "860dbf16037e423bbbda502f2db17dcf",
            "f9a01922f5034487adb064837846a876"
          ]
        },
        "id": "OBOP1hiM6xz7",
        "outputId": "a4982dbe-4b5a-40c7-9953-f60b7f99291b"
      },
      "execution_count": 66,
      "outputs": [
        {
          "output_type": "display_data",
          "data": {
            "text/plain": [
              "yolox_l0.05.onnx:   0%|          | 0.00/217M [00:00<?, ?B/s]"
            ],
            "application/vnd.jupyter.widget-view+json": {
              "version_major": 2,
              "version_minor": 0,
              "model_id": "9966a593c049496eb3cf44573b00fc09"
            }
          },
          "metadata": {}
        },
        {
          "output_type": "display_data",
          "data": {
            "text/plain": [
              "config.json:   0%|          | 0.00/1.47k [00:00<?, ?B/s]"
            ],
            "application/vnd.jupyter.widget-view+json": {
              "version_major": 2,
              "version_minor": 0,
              "model_id": "4ba1724a093c43988711efac7b831c11"
            }
          },
          "metadata": {}
        },
        {
          "output_type": "display_data",
          "data": {
            "text/plain": [
              "model.safetensors:   0%|          | 0.00/115M [00:00<?, ?B/s]"
            ],
            "application/vnd.jupyter.widget-view+json": {
              "version_major": 2,
              "version_minor": 0,
              "model_id": "eca1a4ccbda3421ca065b45d556d2919"
            }
          },
          "metadata": {}
        },
        {
          "output_type": "display_data",
          "data": {
            "text/plain": [
              "model.safetensors:   0%|          | 0.00/46.8M [00:00<?, ?B/s]"
            ],
            "application/vnd.jupyter.widget-view+json": {
              "version_major": 2,
              "version_minor": 0,
              "model_id": "106c6094784d46ca9ba73f727534ff32"
            }
          },
          "metadata": {}
        },
        {
          "output_type": "stream",
          "name": "stderr",
          "text": [
            "Some weights of the model checkpoint at microsoft/table-transformer-structure-recognition were not used when initializing TableTransformerForObjectDetection: ['model.backbone.conv_encoder.model.layer2.0.downsample.1.num_batches_tracked', 'model.backbone.conv_encoder.model.layer3.0.downsample.1.num_batches_tracked', 'model.backbone.conv_encoder.model.layer4.0.downsample.1.num_batches_tracked']\n",
            "- This IS expected if you are initializing TableTransformerForObjectDetection from the checkpoint of a model trained on another task or with another architecture (e.g. initializing a BertForSequenceClassification model from a BertForPreTraining model).\n",
            "- This IS NOT expected if you are initializing TableTransformerForObjectDetection from the checkpoint of a model that you expect to be exactly identical (initializing a BertForSequenceClassification model from a BertForSequenceClassification model).\n"
          ]
        }
      ]
    },
    {
      "cell_type": "code",
      "source": [
        "# length of data\n",
        "len(data)"
      ],
      "metadata": {
        "colab": {
          "base_uri": "https://localhost:8080/"
        },
        "id": "bVIwZgp99dBe",
        "outputId": "4ccccb1c-6298-4683-d811-f898b67d6fb5"
      },
      "execution_count": 67,
      "outputs": [
        {
          "output_type": "execute_result",
          "data": {
            "text/plain": [
              "18"
            ]
          },
          "metadata": {},
          "execution_count": 67
        }
      ]
    },
    {
      "cell_type": "code",
      "source": [
        "# metadata\n",
        "[doc.metadata['category'] for doc in data]"
      ],
      "metadata": {
        "colab": {
          "base_uri": "https://localhost:8080/"
        },
        "id": "nnMrsay39fOZ",
        "outputId": "c557b0f4-fd77-4458-d928-a940243e64d5"
      },
      "execution_count": 68,
      "outputs": [
        {
          "output_type": "execute_result",
          "data": {
            "text/plain": [
              "['CompositeElement',\n",
              " 'CompositeElement',\n",
              " 'CompositeElement',\n",
              " 'CompositeElement',\n",
              " 'CompositeElement',\n",
              " 'Table',\n",
              " 'CompositeElement',\n",
              " 'CompositeElement',\n",
              " 'CompositeElement',\n",
              " 'Table',\n",
              " 'CompositeElement',\n",
              " 'CompositeElement',\n",
              " 'CompositeElement',\n",
              " 'CompositeElement',\n",
              " 'CompositeElement',\n",
              " 'CompositeElement',\n",
              " 'CompositeElement',\n",
              " 'CompositeElement']"
            ]
          },
          "metadata": {},
          "execution_count": 68
        }
      ]
    },
    {
      "cell_type": "code",
      "source": [
        "# print first document\n",
        "print(data[0])"
      ],
      "metadata": {
        "colab": {
          "base_uri": "https://localhost:8080/"
        },
        "id": "O30smW6s-ERh",
        "outputId": "75f716c4-6537-4c6e-8834-e955e71a5c29"
      },
      "execution_count": 69,
      "outputs": [
        {
          "output_type": "stream",
          "name": "stdout",
          "text": [
            "page_content='1 2 0 2\\n\\nn u J 1 2 ] V C . s c [\\n\\n2 v 8 4 3 5 1 . 3 0 1 2 : v i X r a\\n\\nLayoutParser: A Uniﬁed Toolkit for Deep Learning Based Document Image Analysis\\n\\nZejiang Shen! (4), Ruochen Zhang”, Melissa Dell?, Benjamin Charles Germain Lee*, Jacob Carlson’, and Weining Li®\\n\\n1 Allen Institute for AI shannons@allenai.org 2 Brown University ruochen zhang@brown.edu 3 Harvard University {melissadell,jacob carlson}@fas.harvard.edu 4 University of Washington bcgl@cs.washington.edu 5 University of Waterloo w422li@uwaterloo.ca\\n\\nAbstract. Recent advances in document image analysis (DIA) have been primarily driven by the application of neural networks. Ideally, research outcomes could be easily deployed in production and extended for further investigation. However, various factors like loosely organized codebases and sophisticated model conﬁgurations complicate the easy reuse of im- portant innovations by a wide audience. Though there have been on-going eﬀorts to improve reusability and simplify deep learning (DL) model development in disciplines like natural language processing and computer vision, none of them are optimized for challenges in the domain of DIA. This represents a major gap in the existing toolkit, as DIA is central to academic research across a wide range of disciplines in the social sciences and humanities. This paper introduces LayoutParser, an open-source library for streamlining the usage of DL in DIA research and applica- tions. The core LayoutParser library comes with a set of simple and intuitive interfaces for applying and customizing DL models for layout de- tection, character recognition, and many other document processing tasks. To promote extensibility, LayoutParser also incorporates a community platform for sharing both pre-trained models and full document digiti- zation pipelines. We demonstrate that LayoutParser is helpful for both lightweight and large-scale digitization pipelines in real-word use cases. The library is publicly available at https://layout-parser.github.io.\\n\\nKeywords: Document Image Analysis · Deep Learning · Layout Analysis · Character Recognition · Open Source library · Toolkit.' metadata={'source': './layoutparser_paper.pdf', 'filetype': 'application/pdf', 'languages': ['eng'], 'last_modified': '2023-01-23T09:15:33', 'page_number': 1, 'orig_elements': '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', 'file_directory': '.', 'filename': 'layoutparser_paper.pdf', 'category': 'CompositeElement'}\n"
          ]
        }
      ]
    },
    {
      "cell_type": "code",
      "source": [
        "# print another document\n",
        "print(data[5])"
      ],
      "metadata": {
        "colab": {
          "base_uri": "https://localhost:8080/"
        },
        "id": "too1DTjQ-HXr",
        "outputId": "0d83811f-d4bd-4b27-bacf-bf7e31026ffb"
      },
      "execution_count": 70,
      "outputs": [
        {
          "output_type": "stream",
          "name": "stdout",
          "text": [
            "page_content='Dataset Base Model1 Large Model Notes PubLayNet [38] PRImA [3] Newspaper [17] TableBank [18] HJDataset [31] F / M M F F F / M M - - F - Layouts of modern scientiﬁc documents Layouts of scanned modern magazines and scientiﬁc reports Layouts of scanned US newspapers from the 20th century Table region on modern scientiﬁc and business document Layouts of history Japanese documents' metadata={'source': './layoutparser_paper.pdf', 'last_modified': '2023-01-23T09:15:33', 'text_as_html': \"<table><thead><th>Dataset</th><th>| Base Model'|</th><th>| Notes</th></thead><tr><td>PubLayNet B8]|</td><td>F/M</td><td>Layouts of modern scientific documents</td></tr><tr><td>PRImA</td><td>M</td><td>Layouts of scanned modern magazines and scientific report</td></tr><tr><td>Newspaper</td><td>F</td><td>Layouts of scanned US newspapers from the 20th century</td></tr><tr><td>TableBank</td><td>F</td><td>Table region on modern scientific and business document</td></tr><tr><td>HJDataset</td><td>F/M</td><td>Layouts of history Japanese documents</td></tr></table>\", 'table_as_cells': [{'x': 0, 'y': 0, 'w': 1, 'h': 1, 'content': 'Dataset'}, {'x': 0, 'y': 1, 'w': 1, 'h': 1, 'content': 'PubLayNet B8]|'}, {'x': 0, 'y': 2, 'w': 1, 'h': 1, 'content': 'PRImA'}, {'x': 0, 'y': 3, 'w': 1, 'h': 1, 'content': 'Newspaper'}, {'x': 0, 'y': 4, 'w': 1, 'h': 1, 'content': 'TableBank'}, {'x': 0, 'y': 5, 'w': 1, 'h': 1, 'content': 'HJDataset'}, {'x': 1, 'y': 0, 'w': 1, 'h': 1, 'content': \"| Base Model'|\"}, {'x': 1, 'y': 1, 'w': 1, 'h': 1, 'content': 'F/M'}, {'x': 1, 'y': 2, 'w': 1, 'h': 1, 'content': 'M'}, {'x': 1, 'y': 3, 'w': 1, 'h': 1, 'content': 'F'}, {'x': 1, 'y': 4, 'w': 1, 'h': 1, 'content': 'F'}, {'x': 1, 'y': 5, 'w': 1, 'h': 1, 'content': 'F/M'}, {'x': 2, 'y': 0, 'w': 1, 'h': 1, 'content': '| Notes'}, {'x': 2, 'y': 1, 'w': 1, 'h': 1, 'content': 'Layouts of modern scientific documents'}, {'x': 2, 'y': 2, 'w': 1, 'h': 1, 'content': 'Layouts of scanned modern magazines and scientific report'}, {'x': 2, 'y': 3, 'w': 1, 'h': 1, 'content': 'Layouts of scanned US newspapers from the 20th century'}, {'x': 2, 'y': 4, 'w': 1, 'h': 1, 'content': 'Table region on modern scientific and business document'}, {'x': 2, 'y': 5, 'w': 1, 'h': 1, 'content': 'Layouts of history Japanese documents'}], 'filetype': 'application/pdf', 'languages': ['eng'], 'page_number': 5, 'orig_elements': 'eJydVm1vmzAQ/isnvuxLk2AIeamqSqumaKuaqlq7TxlCDlwSNN6Ejdqs7X/f2UkoDVDSiUTGh5873+PnDhbPBkYYYyK9MDDOwXBGQzYZmqw3YtaqN8TppDdZOsOeFbCp7VgjfzRmxhkYMUoecMkJ82z4aZoHYcIlCj2P+DYtpLfBcL2RZLEs0yTM3vwYBnJDVjbW1iwNE6lwi4U9nvadM7Andt90z+Awd8Zmf6TmzLZYf9hg2CHIYoitkBirTO7CJ4zuM+6j8UoPApToyzBNPD/iQnhZni5pmdmfmtaE0YJVGKHcZqixd3NDbzhZF3yts1oYmKwNV1uF9OI0CFchas4s07J7RJllP5jTc+ac27ZCZ4T0kiJeYk6rKA9D8mWEHheej1GknSruEkn0Kz/fiE+BUmE1PzQ+7scntVUat2qkdN7h7orlDd/eooSrifvSBWc1+M8f8dculHWMusVHkfGMcutA2sfIB8XCFU/+dCGHx8jv1ydS5BwjX+CKcDBPA4y+tFLE2hieDeZdmBqtnYgapbMuRI3KTkSNwhMyaSDvNlWl3YKz2li70fUuIF0BlQvmCQg/pGdUOD4EqV+ovtPptkZsxa3weZJgcHAf8zX/GyYogCdBNViOWZq3qsZqO5CGSL/uITkoX8AqT2OQGwTLlBvwCVbk264wzQVBe1xTdwL61clS6SwLoVITJXNdcWpnX0lnEwqZ5lu45hknp3j6cTivqgdKfJKqkW1kHCnXF7q1XV4QFzxQw+W+Ui8GdK/m7yuwYtba2s0HB3hO/+DyfV+jp4E2k4TL+9Mktls+0G73rlXPK700+vuctuohygb5tvGPwpwgrHqMspU2xPhPVdWDlF236wTaRVVxOtgpRb+TlYoqL76KQhjc8Hy9n+wkAm9yWNgTF/QR0q0LJdP0QTB2oSSFprSu3D6tZS7MYABzumb62t336JrRv1VNv4vV0mQVRcEnhXJwsBNLI/wEAcDHZ3oI0niucHL1Hz6CdDDj1f0Hr0wP6A==', 'file_directory': '.', 'filename': 'layoutparser_paper.pdf', 'category': 'Table'}\n"
          ]
        }
      ]
    },
    {
      "cell_type": "code",
      "source": [
        "# print page_content\n",
        "print(data[5].page_content)"
      ],
      "metadata": {
        "colab": {
          "base_uri": "https://localhost:8080/"
        },
        "id": "o9UkHJEs-JrH",
        "outputId": "d093f0c9-0679-4a36-d116-f1dfbdace9da"
      },
      "execution_count": 71,
      "outputs": [
        {
          "output_type": "stream",
          "name": "stdout",
          "text": [
            "Dataset Base Model1 Large Model Notes PubLayNet [38] PRImA [3] Newspaper [17] TableBank [18] HJDataset [31] F / M M F F F / M M - - F - Layouts of modern scientiﬁc documents Layouts of scanned modern magazines and scientiﬁc reports Layouts of scanned US newspapers from the 20th century Table region on modern scientiﬁc and business document Layouts of history Japanese documents\n"
          ]
        }
      ]
    },
    {
      "cell_type": "code",
      "source": [
        "## format for ipython notebook\n",
        "from IPython.display import HTML\n",
        "\n",
        "HTML(data[5].metadata['text_as_html'])"
      ],
      "metadata": {
        "colab": {
          "base_uri": "https://localhost:8080/",
          "height": 147
        },
        "id": "H7uIUzQA-gMd",
        "outputId": "fe989911-dc88-4041-e679-5e4e41c6ca14"
      },
      "execution_count": 72,
      "outputs": [
        {
          "output_type": "execute_result",
          "data": {
            "text/plain": [
              "<IPython.core.display.HTML object>"
            ],
            "text/html": [
              "<table><thead><th>Dataset</th><th>| Base Model'|</th><th>| Notes</th></thead><tr><td>PubLayNet B8]|</td><td>F/M</td><td>Layouts of modern scientific documents</td></tr><tr><td>PRImA</td><td>M</td><td>Layouts of scanned modern magazines and scientific report</td></tr><tr><td>Newspaper</td><td>F</td><td>Layouts of scanned US newspapers from the 20th century</td></tr><tr><td>TableBank</td><td>F</td><td>Table region on modern scientific and business document</td></tr><tr><td>HJDataset</td><td>F/M</td><td>Layouts of history Japanese documents</td></tr></table>"
            ]
          },
          "metadata": {},
          "execution_count": 72
        }
      ]
    },
    {
      "cell_type": "markdown",
      "source": [
        "#### Load using raw unstructured.io APIs for PDFs"
      ],
      "metadata": {
        "id": "f28Co--e-vR_"
      }
    },
    {
      "cell_type": "code",
      "source": [
        "from unstructured.partition.pdf import partition_pdf\n",
        "\n",
        "# Get elements - takes 3-4 mins\n",
        "raw_pdf_elements = partition_pdf(\n",
        "    filename=\"./layoutparser_paper.pdf\",\n",
        "    strategy='hi_res',\n",
        "    # Unstructured first finds embedded image blocks\n",
        "    extract_images_in_pdf=False,\n",
        "    # Use layout model (YOLOX) to get bounding boxes (for tables) and find titles\n",
        "    # Titles are any sub-section of the document\n",
        "    infer_table_structure=True,\n",
        "    # Post processing to aggregate text once we have the title\n",
        "    chunking_strategy=\"by_title\",\n",
        "    # Chunking params to aggregate text blocks\n",
        "    # Attempt to create a new chunk 3800 chars\n",
        "    # Attempt to keep chunks > 2000 chars\n",
        "    max_characters=4000,\n",
        "    new_after_n_chars=3800,\n",
        "    combine_text_under_n_chars=2000,\n",
        "    image_output_dir_path=\"./\",\n",
        ")"
      ],
      "metadata": {
        "id": "pJ562dtW-z1N"
      },
      "execution_count": 73,
      "outputs": []
    },
    {
      "cell_type": "code",
      "source": [
        "# view element outputs\n",
        "len(raw_pdf_elements)"
      ],
      "metadata": {
        "colab": {
          "base_uri": "https://localhost:8080/"
        },
        "id": "k0mcIaeLJnad",
        "outputId": "498d17ca-ff8d-4063-ef31-24f89bc30025"
      },
      "execution_count": 74,
      "outputs": [
        {
          "output_type": "execute_result",
          "data": {
            "text/plain": [
              "18"
            ]
          },
          "metadata": {},
          "execution_count": 74
        }
      ]
    },
    {
      "cell_type": "code",
      "source": [
        "raw_pdf_elements"
      ],
      "metadata": {
        "colab": {
          "base_uri": "https://localhost:8080/"
        },
        "id": "hLPn1UNyJq3H",
        "outputId": "b8e299cd-fb53-41be-ce21-020508e8a812"
      },
      "execution_count": 75,
      "outputs": [
        {
          "output_type": "execute_result",
          "data": {
            "text/plain": [
              "[<unstructured.documents.elements.CompositeElement at 0x7d25b4717e80>,\n",
              " <unstructured.documents.elements.CompositeElement at 0x7d25b4715ab0>,\n",
              " <unstructured.documents.elements.CompositeElement at 0x7d25b4717f70>,\n",
              " <unstructured.documents.elements.CompositeElement at 0x7d25b47164d0>,\n",
              " <unstructured.documents.elements.CompositeElement at 0x7d26ebf8f760>,\n",
              " <unstructured.documents.elements.Table at 0x7d26f9902050>,\n",
              " <unstructured.documents.elements.CompositeElement at 0x7d26ebeafa30>,\n",
              " <unstructured.documents.elements.CompositeElement at 0x7d25b4553a90>,\n",
              " <unstructured.documents.elements.CompositeElement at 0x7d25b4553b80>,\n",
              " <unstructured.documents.elements.Table at 0x7d25b4553bb0>,\n",
              " <unstructured.documents.elements.CompositeElement at 0x7d25b4553910>,\n",
              " <unstructured.documents.elements.CompositeElement at 0x7d25b45520b0>,\n",
              " <unstructured.documents.elements.CompositeElement at 0x7d25b4552680>,\n",
              " <unstructured.documents.elements.CompositeElement at 0x7d25b45525c0>,\n",
              " <unstructured.documents.elements.CompositeElement at 0x7d25b4551150>,\n",
              " <unstructured.documents.elements.CompositeElement at 0x7d25b4553610>,\n",
              " <unstructured.documents.elements.CompositeElement at 0x7d25b4551b10>,\n",
              " <unstructured.documents.elements.CompositeElement at 0x7d26ebfc6020>]"
            ]
          },
          "metadata": {},
          "execution_count": 75
        }
      ]
    },
    {
      "cell_type": "code",
      "source": [
        "raw_pdf_elements[5].to_dict()"
      ],
      "metadata": {
        "colab": {
          "base_uri": "https://localhost:8080/"
        },
        "id": "MDTbyOq4JtOc",
        "outputId": "6ab4f752-fb63-4e70-e471-5f5675135461"
      },
      "execution_count": 76,
      "outputs": [
        {
          "output_type": "execute_result",
          "data": {
            "text/plain": [
              "{'type': 'Table',\n",
              " 'element_id': '720a11c7a3fa16628248e6b9613d2c2d',\n",
              " 'text': 'Dataset Base Model1 Large Model Notes PubLayNet [38] PRImA [3] Newspaper [17] TableBank [18] HJDataset [31] F / M M F F F / M M - - F - Layouts of modern scientiﬁc documents Layouts of scanned modern magazines and scientiﬁc reports Layouts of scanned US newspapers from the 20th century Table region on modern scientiﬁc and business document Layouts of history Japanese documents',\n",
              " 'metadata': {'last_modified': '2023-01-23T09:15:33',\n",
              "  'text_as_html': \"<table><thead><th>Dataset</th><th>| Base Model'|</th><th>| Notes</th></thead><tr><td>PubLayNet B8]|</td><td>F/M</td><td>Layouts of modern scientific documents</td></tr><tr><td>PRImA</td><td>M</td><td>Layouts of scanned modern magazines and scientific report</td></tr><tr><td>Newspaper</td><td>F</td><td>Layouts of scanned US newspapers from the 20th century</td></tr><tr><td>TableBank</td><td>F</td><td>Table region on modern scientific and business document</td></tr><tr><td>HJDataset</td><td>F/M</td><td>Layouts of history Japanese documents</td></tr></table>\",\n",
              "  'table_as_cells': [{'x': 0, 'y': 0, 'w': 1, 'h': 1, 'content': 'Dataset'},\n",
              "   {'x': 0, 'y': 1, 'w': 1, 'h': 1, 'content': 'PubLayNet B8]|'},\n",
              "   {'x': 0, 'y': 2, 'w': 1, 'h': 1, 'content': 'PRImA'},\n",
              "   {'x': 0, 'y': 3, 'w': 1, 'h': 1, 'content': 'Newspaper'},\n",
              "   {'x': 0, 'y': 4, 'w': 1, 'h': 1, 'content': 'TableBank'},\n",
              "   {'x': 0, 'y': 5, 'w': 1, 'h': 1, 'content': 'HJDataset'},\n",
              "   {'x': 1, 'y': 0, 'w': 1, 'h': 1, 'content': \"| Base Model'|\"},\n",
              "   {'x': 1, 'y': 1, 'w': 1, 'h': 1, 'content': 'F/M'},\n",
              "   {'x': 1, 'y': 2, 'w': 1, 'h': 1, 'content': 'M'},\n",
              "   {'x': 1, 'y': 3, 'w': 1, 'h': 1, 'content': 'F'},\n",
              "   {'x': 1, 'y': 4, 'w': 1, 'h': 1, 'content': 'F'},\n",
              "   {'x': 1, 'y': 5, 'w': 1, 'h': 1, 'content': 'F/M'},\n",
              "   {'x': 2, 'y': 0, 'w': 1, 'h': 1, 'content': '| Notes'},\n",
              "   {'x': 2,\n",
              "    'y': 1,\n",
              "    'w': 1,\n",
              "    'h': 1,\n",
              "    'content': 'Layouts of modern scientific documents'},\n",
              "   {'x': 2,\n",
              "    'y': 2,\n",
              "    'w': 1,\n",
              "    'h': 1,\n",
              "    'content': 'Layouts of scanned modern magazines and scientific report'},\n",
              "   {'x': 2,\n",
              "    'y': 3,\n",
              "    'w': 1,\n",
              "    'h': 1,\n",
              "    'content': 'Layouts of scanned US newspapers from the 20th century'},\n",
              "   {'x': 2,\n",
              "    'y': 4,\n",
              "    'w': 1,\n",
              "    'h': 1,\n",
              "    'content': 'Table region on modern scientific and business document'},\n",
              "   {'x': 2,\n",
              "    'y': 5,\n",
              "    'w': 1,\n",
              "    'h': 1,\n",
              "    'content': 'Layouts of history Japanese documents'}],\n",
              "  'filetype': 'application/pdf',\n",
              "  'languages': ['eng'],\n",
              "  'page_number': 5,\n",
              "  'orig_elements': 'eJydVttum0AQ/ZURL32JbS6+JYoiNaqsNoqjqEmfXIQWdmyjchO7KHET/3tn1zYhBoJTYWvZYc/MztkzA4sXAyOMMZFeyI0LMBibOiwYD3tDe2r1huOh2fMnk3HPt/nER47cnI6NMzBilIwzyQjzYgRpmvMwYRKFnkdskxbSW2O4Wkuy2LZpEmZvfgq5XJPVmmhrloaJVLjFwpmc90dn4EydvumewWE+mpj9sZpbjm31hw2GHYIshtgIibHK5D58xughYwEaW3rAUWIgwzTxgogJ4WV56tMys39uUqa0YBlGKDcZauz93NAbTlYFW+msFgYmK8PVViG9OOXhMkTNmW3aTs+0erbzaJ5fWKMLx1HojJBeUsQ+5rSK8jAk8yP0mPACjCLtVHGXSKJf+flGfAqUCqv5ofFpPz6rrdK4USOl8w53X/i3bHOHEq6n7msX3KrBf/6Iv3ah7GPUHT6JjGWUWwfSOUY+KhauWfKnCzk8Rn6/OZGi0THyFa4JB/OUY/SllSKrjeHZYN6FqdHaiahROutC1KjsRNQoPCGTBvLuUlXaLTi7jbVbXe8C0iVQuWCegAhCekaFEwBPg0L1nU63NWIrbkXAkgT5wX3MVuxvmKAAlvBqsByzNG9Vjd12IA2Rfj1AclC+gGWexiDXCLYp1xAQrMg3XWGaC4L2uKLuBPSrk6XS8QuhUhMlc11xamdfSWcdCpnmG7hhGSOnePpxjLaqB0p8lqqRrWUcKdeXurVdXRIXjKvhal+plwO6V/P3FVgxa23t5oMDPKc/v3rf1+gp12aScHl/msR2ywfa7d616nmll0Z/n9NWPUTZIN82/lGYE4RVj1G20oYY/6mqepCy63adQLuoKk4HO6Xod7JSUeXFV1GIBbcsX+0nO4nAmxwWztQFfYR060LJNH0QTFwoSaEprSu3T2stF2YwgDldM33t7nt0zejfqqbfxdI3rYqi4JNCOTjYiaURfoIA4OMzPQRpPFc4ufoPH0E6mLF1/wFjDhEt',\n",
              "  'file_directory': '.',\n",
              "  'filename': 'layoutparser_paper.pdf'}}"
            ]
          },
          "metadata": {},
          "execution_count": 76
        }
      ]
    },
    {
      "cell_type": "markdown",
      "source": [
        "#### Convert into LangChain `document` format"
      ],
      "metadata": {
        "id": "9Ww8gITJJxGU"
      }
    },
    {
      "cell_type": "code",
      "source": [
        "from langchain_core.documents import Document\n",
        "\n",
        "# langchain docs\n",
        "lc_docs = [Document(page_content=doc.text,\n",
        "                    metadata=doc.metadata.to_dict())\n",
        "                    for doc in raw_pdf_elements]\n",
        "\n",
        "# view docs\n",
        "lc_docs[5]"
      ],
      "metadata": {
        "colab": {
          "base_uri": "https://localhost:8080/"
        },
        "id": "bP2zXEKTJ0i2",
        "outputId": "8fb66851-47fa-412c-eae1-8a0e62890852"
      },
      "execution_count": 77,
      "outputs": [
        {
          "output_type": "execute_result",
          "data": {
            "text/plain": [
              "Document(page_content='Dataset Base Model1 Large Model Notes PubLayNet [38] PRImA [3] Newspaper [17] TableBank [18] HJDataset [31] F / M M F F F / M M - - F - Layouts of modern scientiﬁc documents Layouts of scanned modern magazines and scientiﬁc reports Layouts of scanned US newspapers from the 20th century Table region on modern scientiﬁc and business document Layouts of history Japanese documents', metadata={'last_modified': '2023-01-23T09:15:33', 'text_as_html': \"<table><thead><th>Dataset</th><th>| Base Model'|</th><th>| Notes</th></thead><tr><td>PubLayNet B8]|</td><td>F/M</td><td>Layouts of modern scientific documents</td></tr><tr><td>PRImA</td><td>M</td><td>Layouts of scanned modern magazines and scientific report</td></tr><tr><td>Newspaper</td><td>F</td><td>Layouts of scanned US newspapers from the 20th century</td></tr><tr><td>TableBank</td><td>F</td><td>Table region on modern scientific and business document</td></tr><tr><td>HJDataset</td><td>F/M</td><td>Layouts of history Japanese documents</td></tr></table>\", 'table_as_cells': [{'x': 0, 'y': 0, 'w': 1, 'h': 1, 'content': 'Dataset'}, {'x': 0, 'y': 1, 'w': 1, 'h': 1, 'content': 'PubLayNet B8]|'}, {'x': 0, 'y': 2, 'w': 1, 'h': 1, 'content': 'PRImA'}, {'x': 0, 'y': 3, 'w': 1, 'h': 1, 'content': 'Newspaper'}, {'x': 0, 'y': 4, 'w': 1, 'h': 1, 'content': 'TableBank'}, {'x': 0, 'y': 5, 'w': 1, 'h': 1, 'content': 'HJDataset'}, {'x': 1, 'y': 0, 'w': 1, 'h': 1, 'content': \"| Base Model'|\"}, {'x': 1, 'y': 1, 'w': 1, 'h': 1, 'content': 'F/M'}, {'x': 1, 'y': 2, 'w': 1, 'h': 1, 'content': 'M'}, {'x': 1, 'y': 3, 'w': 1, 'h': 1, 'content': 'F'}, {'x': 1, 'y': 4, 'w': 1, 'h': 1, 'content': 'F'}, {'x': 1, 'y': 5, 'w': 1, 'h': 1, 'content': 'F/M'}, {'x': 2, 'y': 0, 'w': 1, 'h': 1, 'content': '| Notes'}, {'x': 2, 'y': 1, 'w': 1, 'h': 1, 'content': 'Layouts of modern scientific documents'}, {'x': 2, 'y': 2, 'w': 1, 'h': 1, 'content': 'Layouts of scanned modern magazines and scientific report'}, {'x': 2, 'y': 3, 'w': 1, 'h': 1, 'content': 'Layouts of scanned US newspapers from the 20th century'}, {'x': 2, 'y': 4, 'w': 1, 'h': 1, 'content': 'Table region on modern scientific and business document'}, {'x': 2, 'y': 5, 'w': 1, 'h': 1, 'content': 'Layouts of history Japanese documents'}], 'filetype': 'application/pdf', 'languages': ['eng'], 'page_number': 5, 'orig_elements': 'eJydVm1v2jAQ/iunfNmXAnmBAlVVadWEtqpU1dp9YlHkxAdEy5tiRy1r+e87G0hTkjR0Csjxxc+d7/FzlyxeDIwwxkR6ITcuwFgiWiPT93s29+3e0DkPehNz6PfMsTPh0xEfTqcT4wyMGCXjTDLCvBhBmuY8TJhEoecR26SF9NYYrtaSLLZtmoTZm59CLtdktcbamqVhIhVusXDG0/7oDJyJ0zfdMzjMR2Ozf67mlmNb/WGDYYcgiyE2QmKsMrkPnzF6yFiAxpYecJQYyDBNvCBiQnhZnvq0zOxPTXti0YJlGKHcZKix93NDbzhZFWyls1oYmKwMV1uF9OKUh8sQNWe2aTs90+rZzqM5vbBGF46j0BkhvaSIfcxpFeVhSOZH6DHhBRhF2qniLpFEv/LzjfgUKBVW80Pj0358VlulcaNGSucd7r7wb9nmDiVcT9zXLrhVg//8EX/tQtnHqDt8EhnLKLcOpHOMfFQsXLPkTxdyeIz8fnMiRaNj5CtcEw7mKcfoSytFVhvDs8G8C1OjtRNRo3TWhahR2YmoUXhCJg3k3aWqtFtwdhtrt7reBaRLoHLBPAERhPSMCicAngaF6judbmvEVtyKgCUJ8oP7mK3Y3zBBASzh1WA5Zmneqhq77UAaIv16gOSgfAHLPI1BrhFsU64hIFiRb7rCNBcE7XFF3QnoVydLpeMXQqUmSua64tTOvpLOOhQyzTdwwzJGTvH04xhtVQ+U+CxVI1vLOFKuL3Vru7okLhhXw9W+Ui8HdK/m7yuwYtba2s0HB3hOf371vq/RU67NJOHy/jSJ7ZYPtNu9a9XzSi+N/j6nrXqIskG+bfyjMCcIqx6jbKUNMf5TVfUgZdftOoF2UVWcDnZK0e9kpaLKi6+iEAtuWb7aT3YSgTc5LJyJC/oI6daFkmn6IBi7UJJCU1pXbp/WWi7MYABzumb62t336JrRv1VNv4ulb1oVRcEnhXJwsBNLI/wEAcDHZ3oI0niucHL1Hz6CdDBj6/4D6g0RBg==', 'file_directory': '.', 'filename': 'layoutparser_paper.pdf'})"
            ]
          },
          "metadata": {},
          "execution_count": 77
        }
      ]
    },
    {
      "cell_type": "markdown",
      "source": [
        "### Microsoft Office Document Loaders\n",
        "* Unstructured.io provides a variety of document loaders for MS Office documents.\n",
        "* LangChain documents: https://python.langchain.com/v0.2/docs/integrations/document_loaders/microsoft_word/\n",
        "* Below we will use the **UnstructuredWordDocumentLoader** to load from a Microsoft Word Document."
      ],
      "metadata": {
        "id": "CLekrvt3KoB0"
      }
    },
    {
      "cell_type": "code",
      "source": [
        "!gdown 1DEz13a7k4yX9yFrWaz3QJqHdfecFYRV-"
      ],
      "metadata": {
        "colab": {
          "base_uri": "https://localhost:8080/"
        },
        "id": "udG3EobMLER7",
        "outputId": "f7a3288d-b3ea-4bd6-ada7-10f7b09c67ef"
      },
      "execution_count": 78,
      "outputs": [
        {
          "output_type": "stream",
          "name": "stdout",
          "text": [
            "Downloading...\n",
            "From: https://drive.google.com/uc?id=1DEz13a7k4yX9yFrWaz3QJqHdfecFYRV-\n",
            "To: /content/Intel Strategy.docx\n",
            "\r  0% 0.00/1.13M [00:00<?, ?B/s]\r100% 1.13M/1.13M [00:00<00:00, 121MB/s]\n"
          ]
        }
      ]
    },
    {
      "cell_type": "markdown",
      "source": [
        "#### Load word doc as a single document"
      ],
      "metadata": {
        "id": "X23Ww7PVLUhc"
      }
    },
    {
      "cell_type": "code",
      "source": [
        "from langchain_community.document_loaders import UnstructuredWordDocumentLoader\n",
        "\n",
        "# loader\n",
        "loader = UnstructuredWordDocumentLoader('./Intel Strategy.docx')\n",
        "data = loader.load()"
      ],
      "metadata": {
        "id": "jMhsCohYLXN2"
      },
      "execution_count": 79,
      "outputs": []
    },
    {
      "cell_type": "code",
      "source": [
        "# length of doc\n",
        "len(data)"
      ],
      "metadata": {
        "colab": {
          "base_uri": "https://localhost:8080/"
        },
        "id": "j5-yrFNbLiL5",
        "outputId": "f402d80a-92b8-4fe7-dd94-b82b5c09ed2e"
      },
      "execution_count": 80,
      "outputs": [
        {
          "output_type": "execute_result",
          "data": {
            "text/plain": [
              "1"
            ]
          },
          "metadata": {},
          "execution_count": 80
        }
      ]
    },
    {
      "cell_type": "code",
      "source": [
        "# print page_content\n",
        "print(data[0].page_content[:10000])"
      ],
      "metadata": {
        "colab": {
          "base_uri": "https://localhost:8080/"
        },
        "id": "xE_uxmYnLkQk",
        "outputId": "03cb29f3-34ef-4745-f555-ea6222a2b807"
      },
      "execution_count": 81,
      "outputs": [
        {
          "output_type": "stream",
          "name": "stdout",
          "text": [
            "Intel Strategy\n",
            "\n",
            "Over the last few years, Intel, one of the world’s biggest chipmakers, has been transitioning towards a more datacentric approach than PC-centric. This is a welcome move, not only for the company but for innovation in technology as well, says Pat Gelsinger, CEO, Intel. According to him, the changing times as well as strides in innovation have placed Intel in a position where it can leverage the “superpowers” to make the world of computing better sustainable and far superior to the present scenario.\n",
            "\n",
            "The Superpowers\n",
            "\n",
            "Pervasive connectivity, Ubiquitous compute, AI and Cloud-to-Edge Infrastructure -- the four superpowers that will bolster Intel’s footprints into the future, will also play a key role in transforming the world of computing in any device.\n",
            "\n",
            "“Each of these superpowers is impressive on its own, but when they come together, that’s magic. If you’re not applying AI to every one of your business processes, you’re falling behind. We’re seeing this across every industry,” Gelsinger said.\n",
            "\n",
            "Pervasive Connectivity: 5G-empowered pervasive connectivity, that intends to connect all, allows customers to gather, store, write, access, and analyze data regardless of device or location. This level of connectivity is essential in creating an improved quality of life, Gelsinger said. He added that Intel was partnering with Taiwan’s Pegatron to produce 5G networking that could be deployed in extreme conditions, too. “Think of it … earthquakes, tornadoes, natural disasters, where the communications infrastructure is knocked out. And imagine that you were a first responder. You’re showing up for a disaster relief situation and you have no communications.” “We’re taking advantage of the advances in 5G availability of wireless spectrum. And you can think about this as a blueprint for next-generation, commercial 5G, the ramp deployments,” Gelsinger said.\n",
            "\n",
            "Ubiquitous compute: “Everything has become a computer, essentially any device we touch. Literally compute is now how we experience the world.” Gelsinger said. It is in line with the company’s data-centric approach as well, which include Server and Storage, including CPUs, chipsets, accelerators, memory and storage media in servers and storage systems; Networking and Connectivity, including CPUs, chipsets, accelerators, memory and storage media, and connectivity devices in network appliances and network function virtualization (NFV) systems; Internet of Things, including addressable logic application-specific integrated circuits and standard products, microprocessors, microcontrollers, digital signal processors, memory and storage media and modems in industrial, transportation, automated driving, retail, video surveillance, healthcare, public sector, office automation, gaming and smart home.\n",
            "\n",
            "AI and Cloud-to-Edge Infrastructure: This allows for high performance computing to be immediately available, which is the backbone of ubiquitous compute. “With the unlimited reach of the intelligent edge, we can have low latency, high bandwidth, and real-time inference capabilities anywhere we want them,” he explained.  Intelligent Edge could make visual experience of streaming services, cloud gaming, and visual workloads possible, however, there are hurdles to be overcome for that. Intel stands to overcome the challenges of deploying a complete cloud to edge infrastructure in today’s time with the launch of Habana Gaudi2 AI processor for training data centre workloads, and 12th Gen Intel Core HX processors for hybrid work.Habana Gaudi2 and Greco AI Accelerators are built on a single software stack, Synapse AI, that supports different architectures, enabling end-users to take advantage of the processors’ performance and efficiency. In addition, Gaudi2 delivers two times better AI training performance compared with current in-market A100-based offerings for key vision and NLP workloads, the company announced. The company also announced the shipment of the 4th Gen Intel Xeon Scalable processors, which will support DDR5, PCIe Gen5 and CXL 1.1, and are equipped with new integrated accelerators that deliver up to 30x performance versus the prior generation through software and hardware optimizations for AI workloads, along with new capabilities that deliver upto two times capacity gains for virtual radio access network (vRAN) deployments, for telco networks. Also, in partnership with Accenture, Intel has kickstarted Project Apollo, a program that will provide enterprises with more than 30 opensource AI solutions kits that are designed to make AI more accessible to customers in on-prem, cloud and edge environments. The company also unveiled its IPU roadmap, featuring new FPGA + Intel architecture platforms (code-named Hot Springs Canyon) and the Mount Morgan (MMG) ASIC, as well as next generation 800GB products. IPUs are dedicated products with hardened acceleration for infrastructure compute needs, allowing businesses to accomplish tasks quicker and solve problems faster.\n",
            "\n",
            "Single GPU solution for media transcode, visual graphics and inference in the cloud: Intel’s data center GPU, code-named Arctic Sound-M (ATS-M), is the industry’s first discrete GPU with an AV1 hardware encoder. ATS-M is a versatile GPU with leadership transcode quality and performance targeting 150 trillion operations per second (TOPS). Developers will be able to easily design for ATS-M with an open software stack through oneAPI. ATS-M will be available in two form factors and in more than 15 system designs from partners including Dell Technologies, Supermicro, Cisco, HPE, Inspur and H3C. It will launch in 2022’s third quarter.\n",
            "\n",
            "New 12th Gen Intel Core HX processors for hybrid work: The company completed the 12th Gen family with the launch of the new 12th Gen Intel Core HX processors. Created for professionals who need maximum performance and flexibility to navigate a hybrid environment, and with up to 16 cores and clock speeds up to 5 GHz, the Intel Core i9-12900HX processor is the world’s best mobile workstation platform.\n",
            "\n",
            "High performance computing to solve the world’s most complex challenges: Argonne National Laboratories is on track to deliver 2 exaflops of peak performance with the Aurora supercomputer running on the Intel Xeon processor, code-named Sapphire Rapids with High Bandwidth Memory (HBM), and the Intel data center GPU, code-named Ponte Vecchio, with Intel oneAPI providing developers seamless system integration.\n",
            "\n",
            "Confidence with confidential computing:  Bosch and Intel collaborated on a research effort to develop a confidential AI solution that allows Bosch to train its neural networks confidentially in the public cloud. To help achieve this at scale, Bosch Corporate Research has built a confidential AI platform powered by Intel Software Guard Extensions available with 3rd Gen Intel Xeon Scalable platforms.\n",
            "\n",
            "Agriculture autonomy with private wireless networks: Intelligent edge solutions have the potential to transform food. Blue White Robotics developed a new type of autonomous agricultural solution that transforms a grower’s existing equipment into a fleet of autonomous tractors connected to an internet-based management platform. With help from Intel and Federated Wireless, Blue White Robotics made this a scalable solution that leverages Intel Smart Edge and Intel Xeon D processors and employs the power of edge computing and shared spectrum to create a private wireless network on any farm anywhere.\n",
            "\n",
            "Intel is moving at a “torrid pace,” Gelsinger said. “When you think about torrid, it’s a word about speed and energy and heat. But in the Intel context, we’re also applying a vector of that energy for setting a direction into the future.”\n",
            "\n",
            "Intel IDM 2.0\n",
            "\n",
            "The Intel IDM 2.0 strategy revealed by new company CEO Pat Gelsinger is an ambitious plan to restore the company’s leadership in semiconductor production. Gelsinger described IDM 2.0 as the second generation of Intel’s integrated device manufacturing model.\n",
            "\n",
            "Intel’s global, internal factory network for at-scale manufacturing is a key competitive advantage that enables product optimization, improved economics and supply resilience. Gelsinger re-affirmed the company’s expectation to continue manufacturing most of its products internally. The company’s 7 Nanometer Processors development is driven by increased use of extreme ultraviolet lithography (EUV) in a rearchitected, simplified process flow.\n",
            "\n",
            "Expanded use of third-party foundry capacity.  Gelsinger said he expects Intel’s engagement with third-party foundries to grow and to include manufacturing for a range of modular tiles on advanced process technologies, including products at the core of Intel’s computing offerings for both client and data center segments beginning in 2023. This will provide the increased flexibility and scale needed to optimize Intel’s roadmaps for cost, performance, schedule and supply, giving the company a unique competitive advantage.\n",
            "\n",
            "Intel Foundry Services. The launch of Intel Foundry Services means the company is not only going to manufacture its own chips, but it will also produce them for other semiconductor companies, including its competitors.  Intel announced plans to become a major provider of U.S. and Europe-based foundry capacity to serve the global demand for semiconductor manufacturing. Hence, Intel is establishing a new standalone business unit, Intel Foundry Services (IFS), led by semiconductor industry veteran Dr. Randhir Thakur, who will report directly to Gelsinger. IFS will be differentiated from other foundry offerings with a combination of leading-edge process technology and packaging, committed capacity in the U.S. and Europe, and a world-class IP portfolio for customers, including x86 cores as well as ARM and RISC-V ecosystem IPs. Gelsinger noted that Intel’s foundry plans have received strong statements of support from across the industry. Intel conservatively sizes the foundry opportunity as a $100 billion addressable market by 2025.\n",
            "\n",
            "Expanding \n"
          ]
        }
      ]
    },
    {
      "cell_type": "markdown",
      "source": [
        "#### Load word doc with complex parsing and section based chunks"
      ],
      "metadata": {
        "id": "UaC6AmOxLpvl"
      }
    },
    {
      "cell_type": "code",
      "source": [
        "loader = UnstructuredWordDocumentLoader('./Intel Strategy.docx',\n",
        "                                        strategy='fast',\n",
        "                                        chunking_strategy=\"by_title\", #chunk by domain title sections\n",
        "                                        max_characters=3000, # max limit of a document chunk\n",
        "                                        new_after_n_chars=2500, # preferred document chunk size\n",
        "                                        mode='elements')\n",
        "data = loader.load()"
      ],
      "metadata": {
        "id": "CJ_mro14LuGr"
      },
      "execution_count": 82,
      "outputs": []
    },
    {
      "cell_type": "code",
      "source": [
        "# length of data\n",
        "len(data)"
      ],
      "metadata": {
        "colab": {
          "base_uri": "https://localhost:8080/"
        },
        "id": "wvBXw2TvMnhC",
        "outputId": "92621a59-2389-4767-a1f6-851b1b2e848f"
      },
      "execution_count": 83,
      "outputs": [
        {
          "output_type": "execute_result",
          "data": {
            "text/plain": [
              "5"
            ]
          },
          "metadata": {},
          "execution_count": 83
        }
      ]
    },
    {
      "cell_type": "code",
      "source": [
        "# print first document\n",
        "print(data[0])"
      ],
      "metadata": {
        "colab": {
          "base_uri": "https://localhost:8080/"
        },
        "id": "_D0fpm5uMpbW",
        "outputId": "13838d33-d1d1-4bda-cc3e-f072dbb2efca"
      },
      "execution_count": 84,
      "outputs": [
        {
          "output_type": "stream",
          "name": "stdout",
          "text": [
            "page_content='Intel Strategy\\n\\nOver the last few years, Intel, one of the world’s biggest chipmakers, has been transitioning towards a more datacentric approach than PC-centric. This is a welcome move, not only for the company but for innovation in technology as well, says Pat Gelsinger, CEO, Intel. According to him, the changing times as well as strides in innovation have placed Intel in a position where it can leverage the “superpowers” to make the world of computing better sustainable and far superior to the present scenario.\\n\\nThe Superpowers\\n\\nPervasive connectivity, Ubiquitous compute, AI and Cloud-to-Edge Infrastructure -- the four superpowers that will bolster Intel’s footprints into the future, will also play a key role in transforming the world of computing in any device.\\n\\n“Each of these superpowers is impressive on its own, but when they come together, that’s magic. If you’re not applying AI to every one of your business processes, you’re falling behind. We’re seeing this across every industry,” Gelsinger said.\\n\\nPervasive Connectivity: 5G-empowered pervasive connectivity, that intends to connect all, allows customers to gather, store, write, access, and analyze data regardless of device or location. This level of connectivity is essential in creating an improved quality of life, Gelsinger said. He added that Intel was partnering with Taiwan’s Pegatron to produce 5G networking that could be deployed in extreme conditions, too. “Think of it … earthquakes, tornadoes, natural disasters, where the communications infrastructure is knocked out. And imagine that you were a first responder. You’re showing up for a disaster relief situation and you have no communications.” “We’re taking advantage of the advances in 5G availability of wireless spectrum. And you can think about this as a blueprint for next-generation, commercial 5G, the ramp deployments,” Gelsinger said.\\n\\nUbiquitous compute: “Everything has become a computer, essentially any device we touch. Literally compute is now how we experience the world.” Gelsinger said. It is in line with the company’s data-centric approach as well, which include Server and Storage, including CPUs, chipsets, accelerators, memory and storage media in servers and storage systems; Networking and Connectivity, including CPUs, chipsets, accelerators, memory and storage media, and connectivity devices in network appliances and network function virtualization (NFV) systems; Internet of Things, including addressable logic application-specific integrated circuits and standard products, microprocessors, microcontrollers, digital signal processors, memory and storage media and modems in industrial, transportation, automated driving, retail, video surveillance, healthcare, public sector, office automation, gaming and smart home.' metadata={'source': './Intel Strategy.docx', 'emphasized_text_contents': ['The Superpowers', 'Pervasive Connectivity', 'Ubiquitous compute'], 'emphasized_text_tags': ['b', 'b', 'b'], 'file_directory': '.', 'filename': 'Intel Strategy.docx', 'languages': ['eng'], 'last_modified': '2024-07-02T18:24:25', 'orig_elements': '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', 'filetype': 'application/vnd.openxmlformats-officedocument.wordprocessingml.document', 'category': 'CompositeElement'}\n"
          ]
        }
      ]
    },
    {
      "cell_type": "code",
      "source": [
        "# print 4th document\n",
        "print(data[3])"
      ],
      "metadata": {
        "colab": {
          "base_uri": "https://localhost:8080/"
        },
        "id": "P0J9kCwrMtQk",
        "outputId": "d88f110f-70a7-42e3-824b-572e5a9d5233"
      },
      "execution_count": 85,
      "outputs": [
        {
          "output_type": "stream",
          "name": "stdout",
          "text": [
            "page_content='Intel IDM 2.0\\n\\nThe Intel IDM 2.0 strategy revealed by new company CEO Pat Gelsinger\\xa0is an ambitious plan to restore the company’s leadership in semiconductor production. Gelsinger described IDM 2.0 as the second generation of Intel’s integrated device manufacturing model.\\n\\nIntel’s global, internal factory network for at-scale manufacturing\\xa0is a key competitive advantage that enables product optimization, improved economics and supply resilience. Gelsinger re-affirmed the company’s expectation to continue manufacturing most of its products internally. The company’s 7 Nanometer Processors development is driven by increased use of extreme ultraviolet lithography (EUV) in a rearchitected, simplified process flow.\\n\\nExpanded use of third-party foundry capacity.\\xa0 Gelsinger said he expects Intel’s engagement with third-party foundries to grow and to include manufacturing for a range of modular tiles on advanced process technologies, including products at the core of Intel’s computing offerings for both client and data center segments beginning in 2023. This will provide the increased flexibility and scale needed to optimize Intel’s roadmaps for cost, performance, schedule and supply, giving the company a unique competitive advantage.\\n\\nIntel Foundry Services.\\xa0The launch of Intel Foundry Services means the company is not only going to manufacture its own chips, but it will also produce them for other semiconductor companies, including its competitors. \\xa0Intel announced plans to become a major provider of U.S. and Europe-based foundry capacity to serve the global demand for semiconductor manufacturing. Hence, Intel is establishing a new standalone business unit, Intel Foundry Services (IFS), led by semiconductor industry veteran Dr. Randhir Thakur, who will report directly to Gelsinger. IFS will be differentiated from other foundry offerings with a combination of leading-edge process technology and packaging, committed capacity in the U.S. and Europe, and a world-class IP portfolio for customers, including x86 cores as well as ARM and RISC-V ecosystem IPs. Gelsinger noted that Intel’s foundry plans have received strong statements of support from across the industry. Intel conservatively sizes the foundry opportunity as a $100 billion addressable market by 2025.\\n\\nExpanding in the U.S. and Europe. Intel is expanding its manufacturing capacity in the U.S. and Europe to provide less dependence on any specific region. Noting that 80% of leading-edge foundry capacity is concentrated in Asia, Gelsinger believes “the industry needs more geographically balanced manufacturing capacity.”' metadata={'source': './Intel Strategy.docx', 'emphasized_text_contents': ['Intel IDM 2.0', 'Intel’s global, internal factory network for at-scale manufacturing', 'Expanded use of third-party foundry capacity.', 'Intel Foundry Services.', 'Expanding in the U.S. and Europe'], 'emphasized_text_tags': ['b', 'b', 'b', 'b', 'b'], 'file_directory': '.', 'filename': 'Intel Strategy.docx', 'languages': ['eng'], 'last_modified': '2024-07-02T18:24:25', 'orig_elements': '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', 'filetype': 'application/vnd.openxmlformats-officedocument.wordprocessingml.document', 'category': 'CompositeElement'}\n"
          ]
        }
      ]
    },
    {
      "cell_type": "code",
      "source": [
        "# print 5th document\n",
        "print(data[4])"
      ],
      "metadata": {
        "colab": {
          "base_uri": "https://localhost:8080/"
        },
        "id": "tDlrsRw0MxTw",
        "outputId": "96b310e0-7189-4323-f18a-3a97df91a5b1"
      },
      "execution_count": 86,
      "outputs": [
        {
          "output_type": "stream",
          "name": "stdout",
          "text": [
            "page_content=\"Intel Sustainability\\n\\n“The impact of climate change is an urgent global threat. Protecting our planet demands immediate action and fresh thinking about how the world operates. As one of the world's leading semiconductor design and manufacturing companies, Intel is in a unique position to make a difference not only in our own operations, but in a way that makes it easier for customers, partners and our whole value chain to take meaningful action too,” Gelsinger said. \\n\\nTo realize this ambitious goal, Intel has set the following interim milestones for 2030:\\n\\xa0\\n\\nAchieve 100% renewable electricity use across its global operations.\\n\\nInvest approximately $300 million in energy conservation at its facilities to achieve 4 billion cumulative kilowatt hours of energy savings.\\n\\nBuild new factories and facilities to meet US Green Building Council LEED program standards, including recently announced investments in the US, Europe and Asia.\\n\\nLaunch a cross-industry R&D initiative to identify greener chemicals with lower global warming potential and to develop new abatement equipment.\" metadata={'source': './Intel Strategy.docx', 'emphasized_text_contents': ['Intel Sustainability'], 'emphasized_text_tags': ['b'], 'file_directory': '.', 'filename': 'Intel Strategy.docx', 'languages': ['eng'], 'last_modified': '2024-07-02T18:24:25', 'orig_elements': 'eJzVVk1v3DYQ/SuDRT8upsGVtPrwLW2CwIBRFLVzigNjRI60RChSISlvtkH/e4fyunUKF0hPhW8CyZl5fPP4Ru+/bMjSRC7dGb25gA2iLqXc1qLTQyeqaqgFlrtBFLuubepWdzWWmzPYTJRQY0KO+bJRmGj04XinaU57XpJ8gqZ5j9H8Tvou0ed0p7xLXCfy9vvNJX9buF5iQuOwN9ak4+bDM1EJx4eIft0ejKU7bQKpxPUy4PPNadnhRHnhlDqFDOp4rr36nI9YdOOCIz1kIzeu+SzGdDd5bQZD6/0LWVRCNkIWN9v2oqguit3mDz6YwTzJ/jXwvH+c1+o3JlnKEf8ktuw61eNWioH6gYltteg67IVuZElUDk0z4LcR+79zcLsUcqtu9gRmmlEl8AMoayYuBmrPNXgjAjpYwsgEwGh9jxbSPhCmc/g1+MTYjRvBLwFmRkUJNE3odOSUE2mTU3Fm4x3n0TAEintOYNzHHIa9XxLs/YGXCA4+WA1+pnzbeA6vInhHGdRfuz9GsIQ6x0aaDEtRL5k9rhrN+FCDyy8D11xCPqY8X80ZimfwQCbfyPBBWJz5tBDMPpoVXvIc+ZHRAhM4UCCnCJxnUpw95pB8R39wJ4Acwil7hr9mO+CRUWJac3CFBMTqpwADg1OsMj9R4IAZQ3L8tSLNGQ97bwnu0S4r52YFkjKQiRi3G4fFPjKYvD9be6bhLdnIm1wgotHn8FS6v2DIAO/pJvf5GQkrpWrZyJ3YqYJE1TSNwAoHQb0aOup2ja71C5HwjQcWo2WfyapiWqc+t3OJMHq0jz1nJ2K9pFVHg7fWH7I0DO8FM8HEaLlBjvuWu1XIUl7cuttFSpT/iVeJdVHjVgsaWiUqWbailX3PToFtV+2adle9FF5fqb2he4KtlN8zw44O2LNO+b4qBaPYLGGJ+WkHH7Pc46M5/P06zp9yd2Viukw0PUebblpUSpdiW7eNqLZNJ7qyaMSAg5RVozUWwwuh7dLds5QA5zn4z6uRsnd8x4M4i8zmN8wPnNkM45GdyUUK9/hgjmklkX0rTyK2q2wDeGpCBf0pWi3TYlcNwkfDMsaU7XNhP2GXPOWNeM/q/nb622rY1UXHgmVnEVVfoOi7shR91Srqatlu2+0Lof+nxfAEYbFmIhlD5nEdO1/ROhFbwbtreBuIHKwx2Q5+9ovjY3D15s1r4P6NASfg3wOnMWi2buOUXdaTfEGmjzuLzuUg0ryZG59ZXcdLNpp312fwZgn8IFYMr6LBb+4JNp3eSqVFX7bs0LtS8ZOotwK7mnsj2152L8VJrpAZ2vOIXK1CGJ7YMYUj/PbDa2aKm/IgZ+6L0UyAGY4w5sbwaFP7POPRRjiYtAfWOy+efOaAYcq9mH3+GTW8kknmLJpfjPXzqgLs+UqZVqBPi5nz17+04MOfKUytMg==', 'filetype': 'application/vnd.openxmlformats-officedocument.wordprocessingml.document', 'category': 'CompositeElement'}\n"
          ]
        }
      ]
    },
    {
      "cell_type": "markdown",
      "source": [
        "### Document Loaders\n",
        "* LangChain's **DirectoryLoader** implements functionality for reading files from disk into LangChain **Document** objects."
      ],
      "metadata": {
        "id": "HYygmOUkNLvJ"
      }
    },
    {
      "cell_type": "code",
      "source": [
        "!wget -O 'Vision Transformers.pdf' 'https://arxiv.org/pdf/2010.11929.pdf'"
      ],
      "metadata": {
        "colab": {
          "base_uri": "https://localhost:8080/"
        },
        "id": "4dbd8QS5NU18",
        "outputId": "98994f41-836e-42cd-adb5-c8c75417962c"
      },
      "execution_count": 87,
      "outputs": [
        {
          "output_type": "stream",
          "name": "stdout",
          "text": [
            "--2024-07-02 18:24:51--  https://arxiv.org/pdf/2010.11929.pdf\n",
            "Resolving arxiv.org (arxiv.org)... 151.101.67.42, 151.101.3.42, 151.101.131.42, ...\n",
            "Connecting to arxiv.org (arxiv.org)|151.101.67.42|:443... connected.\n",
            "HTTP request sent, awaiting response... 301 Moved Permanently\n",
            "Location: http://arxiv.org/pdf/2010.11929 [following]\n",
            "--2024-07-02 18:24:51--  http://arxiv.org/pdf/2010.11929\n",
            "Connecting to arxiv.org (arxiv.org)|151.101.67.42|:80... connected.\n",
            "HTTP request sent, awaiting response... 200 OK\n",
            "Length: 3743814 (3.6M) [application/pdf]\n",
            "Saving to: ‘Vision Transformers.pdf’\n",
            "\n",
            "\rVision Transformers   0%[                    ]       0  --.-KB/s               \rVision Transformers 100%[===================>]   3.57M  --.-KB/s    in 0.04s   \n",
            "\n",
            "2024-07-02 18:24:51 (79.6 MB/s) - ‘Vision Transformers.pdf’ saved [3743814/3743814]\n",
            "\n"
          ]
        }
      ]
    },
    {
      "cell_type": "markdown",
      "source": [
        "#### We first define and assign specific loaders which can be used by LangChain when processing the files for specific file type. We follow the following format:"
      ],
      "metadata": {
        "id": "4_-p8Z-4NZza"
      }
    },
    {
      "cell_type": "markdown",
      "source": [
        "```\n",
        "loaders = {\n",
        "  'file_format_extension' : (LoaderClass, LoaderKeywordArguments)\n",
        "}\n",
        "```"
      ],
      "metadata": {
        "id": "FsqRL7kZNkqo"
      }
    },
    {
      "cell_type": "markdown",
      "source": [
        "Where:\n",
        "\n",
        "- `file_format_extension` can be anything like `.docx`, `.pdf`etc.\n",
        "- `LoaderClass` is a specific data loader like `PyMuPDFLoader`\n",
        "- `LoaderKeywordArguments` are any specific keyword arguments which needs to be passed into that loader at runtime"
      ],
      "metadata": {
        "id": "6KH6t1WZNo4h"
      }
    },
    {
      "cell_type": "code",
      "source": [
        "# Define a dictionary to map file extensions to their respective loaders\n",
        "loaders = {\n",
        "    '.pdf': (PyMuPDFLoader, {}),\n",
        "    '.docx': (UnstructuredWordDocumentLoader, {'strategy': 'fast',\n",
        "                                              'chunking_strategy' : 'by_title',\n",
        "                                              'max_characters' : 3000, # max limit of a document chunk\n",
        "                                              'new_after_n_chars' : 2500, # preferred document chunk size\n",
        "                                              'mode' : 'elements'\n",
        "                                              })\n",
        "}"
      ],
      "metadata": {
        "id": "oz3CGkqPNgTt"
      },
      "execution_count": 88,
      "outputs": []
    },
    {
      "cell_type": "markdown",
      "source": [
        "`DirectoryLoader` accepts a `loader_cls` argument, which defaults to `UnstructuredLoader` but we can pass our own loaders which we defined above in the `loader_cls`argument and any keyword args for the loader can be passed in the `loader_kwargs` argument.\n",
        "\n",
        "We can also show a progress bar by setting `show_progress=True`\n",
        "\n",
        "We can use the `glob` parameter to control which files to load based on file patterns"
      ],
      "metadata": {
        "id": "yJLybPj2OCuS"
      }
    },
    {
      "cell_type": "markdown",
      "source": [
        "#### Here we create 2 separate loaders to load files which are documents and PDFs."
      ],
      "metadata": {
        "id": "XtY9Ux7qOFI-"
      }
    },
    {
      "cell_type": "code",
      "source": [
        "from langchain_community.document_loaders import DirectoryLoader\n",
        "\n",
        "# Define a function to create a DirectoryLoader for a specific file type\n",
        "def create_directory_loader(file_type, directory_path):\n",
        "    return DirectoryLoader(\n",
        "        path=directory_path,\n",
        "        glob=f\"**/*{file_type}\",\n",
        "        loader_cls=loaders[file_type][0],\n",
        "        loader_kwargs=loaders[file_type][1],\n",
        "        show_progress=True\n",
        "    )\n",
        "\n",
        "# Create DirectoryLoader instances for each file type\n",
        "#pdf_loader = create_directory_loader('.pdf', './')\n",
        "docx_loader = create_directory_loader('.docx', './')\n",
        "\n",
        "# Load the files\n",
        "pdf_documents = pdf_loader.load()\n",
        "#docx_documents = docx_loader.load()"
      ],
      "metadata": {
        "colab": {
          "base_uri": "https://localhost:8080/"
        },
        "collapsed": true,
        "id": "zU-9faIYODUv",
        "outputId": "cafbc61c-e242-44c3-9232-ac187c01eed4"
      },
      "execution_count": 92,
      "outputs": [
        {
          "output_type": "stream",
          "name": "stderr",
          "text": [
            "\n",
            "\n",
            "\n",
            "  0%|          | 0/908 [00:00<?, ?it/s]\u001b[A\u001b[A\u001b[A\n",
            "\n",
            "\n",
            "  0%|          | 1/908 [00:00<01:57,  7.69it/s]\u001b[A\u001b[A\u001b[A\n",
            "\n",
            "\n",
            "  0%|          | 4/908 [00:00<01:17, 11.69it/s]\u001b[A\u001b[A\u001b[A\n",
            "\n",
            "\n",
            "  1%|          | 9/908 [00:00<00:40, 21.94it/s]\u001b[A\u001b[A\u001b[A\n",
            "\n",
            "\n",
            "  1%|▏         | 13/908 [00:00<00:36, 24.60it/s]\u001b[A\u001b[A\u001b[A\n",
            "\n",
            "\n",
            "  2%|▏         | 16/908 [00:00<00:40, 21.98it/s]\u001b[A\u001b[A\u001b[A\n",
            "\n",
            "\n",
            "  2%|▏         | 19/908 [00:00<00:39, 22.25it/s]\u001b[A\u001b[A\u001b[A\n",
            "\n",
            "\n",
            "  2%|▏         | 22/908 [00:01<00:39, 22.64it/s]\u001b[A\u001b[A\u001b[A\n",
            "\n",
            "\n",
            "  3%|▎         | 25/908 [00:01<00:42, 20.54it/s]\u001b[A\u001b[A\u001b[A\n",
            "\n",
            "\n",
            "  3%|▎         | 28/908 [00:01<00:41, 21.34it/s]\u001b[A\u001b[A\u001b[A\n",
            "\n",
            "\n",
            "  3%|▎         | 31/908 [00:01<00:40, 21.43it/s]\u001b[A\u001b[A\u001b[A\n",
            "\n",
            "\n",
            "  4%|▎         | 34/908 [00:01<00:41, 20.93it/s]\u001b[A\u001b[A\u001b[A\n",
            "\n",
            "\n",
            "  4%|▍         | 37/908 [00:01<00:41, 20.98it/s]\u001b[A\u001b[A\u001b[A\n",
            "\n",
            "\n",
            "  4%|▍         | 40/908 [00:01<00:38, 22.73it/s]\u001b[A\u001b[A\u001b[A\n",
            "\n",
            "\n",
            "  5%|▍         | 43/908 [00:02<00:39, 22.16it/s]\u001b[A\u001b[A\u001b[A\n",
            "\n",
            "\n",
            "  5%|▌         | 46/908 [00:02<00:39, 22.01it/s]\u001b[A\u001b[A\u001b[A\n",
            "\n",
            "\n",
            "  5%|▌         | 49/908 [00:02<00:46, 18.61it/s]\u001b[A\u001b[A\u001b[A\n",
            "\n",
            "\n",
            "  6%|▌         | 51/908 [00:02<00:46, 18.30it/s]\u001b[A\u001b[A\u001b[A\n",
            "\n",
            "\n",
            "  6%|▌         | 53/908 [00:02<00:48, 17.51it/s]\u001b[A\u001b[A\u001b[A\n",
            "\n",
            "\n",
            "  6%|▌         | 56/908 [00:02<00:41, 20.40it/s]\u001b[A\u001b[A\u001b[A\n",
            "\n",
            "\n",
            "  6%|▋         | 59/908 [00:02<00:38, 21.96it/s]\u001b[A\u001b[A\u001b[A\n",
            "\n",
            "\n",
            "  7%|▋         | 62/908 [00:02<00:38, 22.26it/s]\u001b[A\u001b[A\u001b[A\n",
            "\n",
            "\n",
            "  7%|▋         | 65/908 [00:03<00:38, 21.69it/s]\u001b[A\u001b[A\u001b[A\n",
            "\n",
            "\n",
            "  7%|▋         | 68/908 [00:03<00:41, 20.17it/s]\u001b[A\u001b[A\u001b[A\n",
            "\n",
            "\n",
            "  8%|▊         | 71/908 [00:03<00:37, 22.33it/s]\u001b[A\u001b[A\u001b[A\n",
            "\n",
            "\n",
            "  8%|▊         | 74/908 [00:03<00:40, 20.53it/s]\u001b[A\u001b[A\u001b[A\n",
            "\n",
            "\n",
            "  8%|▊         | 77/908 [00:03<00:38, 21.64it/s]\u001b[A\u001b[A\u001b[A\n",
            "\n",
            "\n",
            "  9%|▉         | 80/908 [00:03<00:37, 22.17it/s]\u001b[A\u001b[A\u001b[A\n",
            "\n",
            "\n",
            "  9%|▉         | 83/908 [00:03<00:36, 22.91it/s]\u001b[A\u001b[A\u001b[A\n",
            "\n",
            "\n",
            "  9%|▉         | 86/908 [00:04<00:40, 20.33it/s]\u001b[A\u001b[A\u001b[A\n",
            "\n",
            "\n",
            " 10%|▉         | 89/908 [00:04<00:42, 19.12it/s]\u001b[A\u001b[A\u001b[A\n",
            "\n",
            "\n",
            " 10%|█         | 91/908 [00:04<00:42, 19.28it/s]\u001b[A\u001b[A\u001b[A\n",
            "\n",
            "\n",
            " 10%|█         | 93/908 [00:04<00:48, 16.64it/s]\u001b[A\u001b[A\u001b[A\n",
            "\n",
            "\n",
            " 11%|█         | 97/908 [00:04<00:41, 19.40it/s]\u001b[A\u001b[A\u001b[A\n",
            "\n",
            "\n",
            " 11%|█         | 99/908 [00:04<00:43, 18.81it/s]\u001b[A\u001b[A\u001b[A\n",
            "\n",
            "\n",
            " 11%|█         | 101/908 [00:04<00:46, 17.42it/s]\u001b[A\u001b[A\u001b[A\n",
            "\n",
            "\n",
            " 11%|█▏        | 103/908 [00:05<00:54, 14.88it/s]\u001b[A\u001b[A\u001b[A\n",
            "\n",
            "\n",
            " 12%|█▏        | 105/908 [00:05<01:02, 12.94it/s]\u001b[A\u001b[A\u001b[A\n",
            "\n",
            "\n",
            " 12%|█▏        | 107/908 [00:05<01:00, 13.17it/s]\u001b[A\u001b[A\u001b[A\n",
            "\n",
            "\n",
            " 12%|█▏        | 109/908 [00:05<00:57, 13.88it/s]\u001b[A\u001b[A\u001b[A\n",
            "\n",
            "\n",
            " 12%|█▏        | 112/908 [00:05<00:52, 15.27it/s]\u001b[A\u001b[A\u001b[A\n",
            "\n",
            "\n",
            " 13%|█▎        | 115/908 [00:05<00:45, 17.44it/s]\u001b[A\u001b[A\u001b[A\n",
            "\n",
            "\n",
            " 13%|█▎        | 117/908 [00:06<00:44, 17.90it/s]\u001b[A\u001b[A\u001b[A\n",
            "\n",
            "\n",
            " 13%|█▎        | 119/908 [00:06<00:51, 15.47it/s]\u001b[A\u001b[A\u001b[A\n",
            "\n",
            "\n",
            " 13%|█▎        | 121/908 [00:06<00:53, 14.76it/s]\u001b[A\u001b[A\u001b[A\n",
            "\n",
            "\n",
            " 14%|█▎        | 123/908 [00:06<00:54, 14.42it/s]\u001b[A\u001b[A\u001b[A\n",
            "\n",
            "\n",
            " 14%|█▍        | 125/908 [00:06<00:53, 14.72it/s]\u001b[A\u001b[A\u001b[A\n",
            "\n",
            "\n",
            " 14%|█▍        | 127/908 [00:06<00:59, 13.03it/s]\u001b[A\u001b[A\u001b[A\n",
            "\n",
            "\n",
            " 14%|█▍        | 129/908 [00:06<00:55, 14.03it/s]\u001b[A\u001b[A\u001b[A\n",
            "\n",
            "\n",
            " 15%|█▍        | 132/908 [00:07<00:49, 15.54it/s]\u001b[A\u001b[A\u001b[A\n",
            "\n",
            "\n",
            " 15%|█▍        | 134/908 [00:07<00:49, 15.67it/s]\u001b[A\u001b[A\u001b[A\n",
            "\n",
            "\n",
            " 15%|█▍        | 136/908 [00:07<00:52, 14.70it/s]\u001b[A\u001b[A\u001b[A\n",
            "\n",
            "\n",
            " 15%|█▌        | 138/908 [00:07<00:54, 14.08it/s]\u001b[A\u001b[A\u001b[A\n",
            "\n",
            "\n",
            " 15%|█▌        | 140/908 [00:07<00:54, 14.04it/s]\u001b[A\u001b[A\u001b[A\n",
            "\n",
            "\n",
            " 16%|█▌        | 142/908 [00:07<00:56, 13.61it/s]\u001b[A\u001b[A\u001b[A\n",
            "\n",
            "\n",
            " 16%|█▌        | 144/908 [00:08<01:25,  8.94it/s]\u001b[A\u001b[A\u001b[A\n",
            "\n",
            "\n",
            " 16%|█▌        | 147/908 [00:08<01:06, 11.50it/s]\u001b[A\u001b[A\u001b[A\n",
            "\n",
            "\n",
            " 16%|█▋        | 149/908 [00:08<00:58, 12.87it/s]\u001b[A\u001b[A\u001b[A\n",
            "\n",
            "\n",
            " 17%|█▋        | 152/908 [00:08<00:53, 14.04it/s]\u001b[A\u001b[A\u001b[A\n",
            "\n",
            "\n",
            " 17%|█▋        | 155/908 [00:08<00:55, 13.48it/s]\u001b[A\u001b[A\u001b[A\n",
            "\n",
            "\n",
            " 17%|█▋        | 158/908 [00:09<00:45, 16.33it/s]\u001b[A\u001b[A\u001b[A\n",
            "\n",
            "\n",
            " 18%|█▊        | 161/908 [00:09<00:39, 18.79it/s]\u001b[A\u001b[A\u001b[A\n",
            "\n",
            "\n",
            " 18%|█▊        | 164/908 [00:09<00:35, 20.88it/s]\u001b[A\u001b[A\u001b[A\n",
            "\n",
            "\n",
            " 18%|█▊        | 167/908 [00:09<00:43, 17.16it/s]\u001b[A\u001b[A\u001b[A\n",
            "\n",
            "\n",
            " 19%|█▉        | 171/908 [00:09<00:34, 21.58it/s]\u001b[A\u001b[A\u001b[A\n",
            "\n",
            "\n",
            " 19%|█▉        | 174/908 [00:09<00:34, 21.55it/s]\u001b[A\u001b[A\u001b[A\n",
            "\n",
            "\n",
            " 19%|█▉        | 177/908 [00:09<00:38, 19.15it/s]\u001b[A\u001b[A\u001b[A\n",
            "\n",
            "\n",
            " 20%|█▉        | 180/908 [00:10<00:38, 18.91it/s]\u001b[A\u001b[A\u001b[A\n",
            "\n",
            "\n",
            " 20%|██        | 183/908 [00:10<00:37, 19.46it/s]\u001b[A\u001b[A\u001b[A\n",
            "\n",
            "\n",
            " 20%|██        | 186/908 [00:10<01:03, 11.37it/s]\u001b[A\u001b[A\u001b[A\n",
            "\n",
            "\n",
            " 21%|██        | 190/908 [00:12<02:48,  4.26it/s]\u001b[A\u001b[A\u001b[A\n",
            "\n",
            "\n",
            " 21%|██▏       | 193/908 [00:13<02:18,  5.15it/s]\u001b[A\u001b[A\u001b[A\n",
            "\n",
            "\n",
            " 22%|██▏       | 198/908 [00:13<01:28,  8.02it/s]\u001b[A\u001b[A\u001b[A\n",
            "\n",
            "\n",
            " 22%|██▏       | 203/908 [00:13<01:01, 11.53it/s]\u001b[A\u001b[A\u001b[A\n",
            "\n",
            "\n",
            " 23%|██▎       | 208/908 [00:13<00:46, 15.17it/s]\u001b[A\u001b[A\u001b[A\n",
            "\n",
            "\n",
            " 23%|██▎       | 212/908 [00:13<00:42, 16.20it/s]\u001b[A\u001b[A\u001b[A\n",
            "\n",
            "\n",
            " 24%|██▍       | 219/908 [00:13<00:29, 23.46it/s]\u001b[A\u001b[A\u001b[A\n",
            "\n",
            "\n",
            " 25%|██▌       | 227/908 [00:13<00:20, 32.45it/s]\u001b[A\u001b[A\u001b[A\n",
            "\n",
            "\n",
            " 26%|██▌       | 233/908 [00:14<00:36, 18.57it/s]\u001b[A\u001b[A\u001b[A\n",
            "\n",
            "\n",
            " 26%|██▋       | 240/908 [00:14<00:27, 24.37it/s]\u001b[A\u001b[A\u001b[A\n",
            "\n",
            "\n",
            " 27%|██▋       | 246/908 [00:14<00:24, 27.18it/s]\u001b[A\u001b[A\u001b[A\n",
            "\n",
            "\n",
            " 28%|██▊       | 251/908 [00:14<00:23, 28.03it/s]\u001b[A\u001b[A\u001b[A\n",
            "\n",
            "\n",
            " 28%|██▊       | 255/908 [00:14<00:22, 29.57it/s]\u001b[A\u001b[A\u001b[A\n",
            "\n",
            "\n",
            " 29%|██▊       | 259/908 [00:15<00:22, 28.87it/s]\u001b[A\u001b[A\u001b[A\n",
            "\n",
            "\n",
            " 29%|██▉       | 263/908 [00:15<00:24, 26.72it/s]\u001b[A\u001b[A\u001b[A\n",
            "\n",
            "\n",
            " 29%|██▉       | 267/908 [00:15<00:22, 28.20it/s]\u001b[A\u001b[A\u001b[A\n",
            "\n",
            "\n",
            " 30%|███       | 273/908 [00:15<00:18, 34.34it/s]\u001b[A\u001b[A\u001b[A\n",
            "\n",
            "\n",
            " 31%|███       | 278/908 [00:15<00:17, 36.75it/s]\u001b[A\u001b[A\u001b[A\n",
            "\n",
            "\n",
            " 31%|███       | 283/908 [00:15<00:21, 29.09it/s]\u001b[A\u001b[A\u001b[A\n",
            "\n",
            "\n",
            " 32%|███▏      | 287/908 [00:16<00:25, 24.83it/s]\u001b[A\u001b[A\u001b[A\n",
            "\n",
            "\n",
            " 32%|███▏      | 290/908 [00:16<00:25, 24.43it/s]\u001b[A\u001b[A\u001b[A\n",
            "\n",
            "\n",
            " 32%|███▏      | 293/908 [00:16<00:30, 20.42it/s]\u001b[A\u001b[A\u001b[A\n",
            "\n",
            "\n",
            " 33%|███▎      | 296/908 [00:16<00:28, 21.26it/s]\u001b[A\u001b[A\u001b[A\n",
            "\n",
            "\n",
            " 33%|███▎      | 299/908 [00:16<00:31, 19.30it/s]\u001b[A\u001b[A\u001b[A\n",
            "\n",
            "\n",
            " 33%|███▎      | 302/908 [00:16<00:29, 20.38it/s]\u001b[A\u001b[A\u001b[A\n",
            "\n",
            "\n",
            " 34%|███▎      | 305/908 [00:17<00:35, 16.88it/s]\u001b[A\u001b[A\u001b[A\n",
            "\n",
            "\n",
            " 34%|███▍      | 308/908 [00:17<00:35, 16.69it/s]\u001b[A\u001b[A\u001b[A\n",
            "\n",
            "\n",
            " 34%|███▍      | 310/908 [00:17<00:38, 15.35it/s]\u001b[A\u001b[A\u001b[A\n",
            "\n",
            "\n",
            " 34%|███▍      | 313/908 [00:17<00:33, 17.76it/s]\u001b[A\u001b[A\u001b[A\n",
            "\n",
            "\n",
            " 35%|███▍      | 316/908 [00:17<00:29, 19.91it/s]\u001b[A\u001b[A\u001b[A\n",
            "\n",
            "\n",
            " 35%|███▌      | 319/908 [00:17<00:27, 21.39it/s]\u001b[A\u001b[A\u001b[A\n",
            "\n",
            "\n",
            " 35%|███▌      | 322/908 [00:18<00:27, 20.99it/s]\u001b[A\u001b[A\u001b[A\n",
            "\n",
            "\n",
            " 36%|███▌      | 326/908 [00:18<00:23, 25.01it/s]\u001b[A\u001b[A\u001b[A\n",
            "\n",
            "\n",
            " 36%|███▋      | 331/908 [00:18<00:18, 30.93it/s]\u001b[A\u001b[A\u001b[A\n",
            "\n",
            "\n",
            " 37%|███▋      | 337/908 [00:18<00:17, 33.11it/s]\u001b[A\u001b[A\u001b[A\n",
            "\n",
            "\n",
            " 38%|███▊      | 343/908 [00:21<02:03,  4.56it/s]\u001b[A\u001b[A\u001b[A\n",
            "\n",
            "\n",
            " 38%|███▊      | 347/908 [00:22<01:53,  4.96it/s]\u001b[A\u001b[A\u001b[A\n",
            "\n",
            "\n",
            " 38%|███▊      | 349/908 [00:22<01:40,  5.55it/s]\u001b[A\u001b[A\u001b[A\n",
            "\n",
            "\n",
            " 39%|███▉      | 352/908 [00:22<01:19,  6.97it/s]\u001b[A\u001b[A\u001b[A\n",
            "\n",
            "\n",
            " 39%|███▉      | 356/908 [00:22<00:58,  9.45it/s]\u001b[A\u001b[A\u001b[A\n",
            "\n",
            "\n",
            " 40%|███▉      | 359/908 [00:22<00:49, 11.11it/s]\u001b[A\u001b[A\u001b[A\n",
            "\n",
            "\n",
            " 40%|███▉      | 363/908 [00:22<00:40, 13.35it/s]\u001b[A\u001b[A\u001b[A\n",
            "\n",
            "\n",
            " 40%|████      | 366/908 [00:23<00:34, 15.53it/s]\u001b[A\u001b[A\u001b[A\n",
            "\n",
            "\n",
            " 41%|████      | 369/908 [00:23<00:31, 17.10it/s]\u001b[A\u001b[A\u001b[A\n",
            "\n",
            "\n",
            " 41%|████      | 372/908 [00:23<00:32, 16.36it/s]\u001b[A\u001b[A\u001b[A\n",
            "\n",
            "\n",
            " 41%|████▏     | 375/908 [00:23<00:29, 18.19it/s]\u001b[A\u001b[A\u001b[A\n",
            "\n",
            "\n",
            " 42%|████▏     | 378/908 [00:23<00:26, 20.29it/s]\u001b[A\u001b[A\u001b[A\n",
            "\n",
            "\n",
            " 42%|████▏     | 382/908 [00:23<00:22, 22.93it/s]\u001b[A\u001b[A\u001b[A\n",
            "\n",
            "\n",
            " 42%|████▏     | 385/908 [00:23<00:22, 22.91it/s]\u001b[A\u001b[A\u001b[A\n",
            "\n",
            "\n",
            " 43%|████▎     | 388/908 [00:24<00:23, 21.81it/s]\u001b[A\u001b[A\u001b[A\n",
            "\n",
            "\n",
            " 43%|████▎     | 391/908 [00:24<00:23, 21.99it/s]\u001b[A\u001b[A\u001b[A\n",
            "\n",
            "\n",
            " 43%|████▎     | 394/908 [00:24<00:25, 20.30it/s]\u001b[A\u001b[A\u001b[A\n",
            "\n",
            "\n",
            " 44%|████▎     | 397/908 [00:24<00:27, 18.70it/s]\u001b[A\u001b[A\u001b[A\n",
            "\n",
            "\n",
            " 44%|████▍     | 399/908 [00:24<00:28, 17.85it/s]\u001b[A\u001b[A\u001b[A\n",
            "\n",
            "\n",
            " 44%|████▍     | 402/908 [00:24<00:24, 20.29it/s]\u001b[A\u001b[A\u001b[A\n",
            "\n",
            "\n",
            " 45%|████▍     | 405/908 [00:24<00:24, 20.31it/s]\u001b[A\u001b[A\u001b[A\n",
            "\n",
            "\n",
            " 45%|████▍     | 408/908 [00:25<00:23, 21.37it/s]\u001b[A\u001b[A\u001b[A\n",
            "\n",
            "\n",
            " 45%|████▌     | 411/908 [00:25<00:22, 22.57it/s]\u001b[A\u001b[A\u001b[A\n",
            "\n",
            "\n",
            " 46%|████▌     | 414/908 [00:25<00:24, 20.54it/s]\u001b[A\u001b[A\u001b[A\n",
            "\n",
            "\n",
            " 46%|████▌     | 417/908 [00:25<00:21, 22.32it/s]\u001b[A\u001b[A\u001b[A\n",
            "\n",
            "\n",
            " 46%|████▋     | 420/908 [00:25<00:21, 22.80it/s]\u001b[A\u001b[A\u001b[A\n",
            "\n",
            "\n",
            " 47%|████▋     | 423/908 [00:25<00:21, 23.02it/s]\u001b[A\u001b[A\u001b[A\n",
            "\n",
            "\n",
            " 47%|████▋     | 426/908 [00:25<00:22, 21.40it/s]\u001b[A\u001b[A\u001b[A\n",
            "\n",
            "\n",
            " 47%|████▋     | 430/908 [00:25<00:19, 24.28it/s]\u001b[A\u001b[A\u001b[A\n",
            "\n",
            "\n",
            " 48%|████▊     | 433/908 [00:26<00:20, 23.33it/s]\u001b[A\u001b[A\u001b[A\n",
            "\n",
            "\n",
            " 48%|████▊     | 436/908 [00:26<00:21, 22.01it/s]\u001b[A\u001b[A\u001b[A\n",
            "\n",
            "\n",
            " 48%|████▊     | 439/908 [00:26<00:21, 21.88it/s]\u001b[A\u001b[A\u001b[A\n",
            "\n",
            "\n",
            " 49%|████▊     | 442/908 [00:26<00:28, 16.51it/s]\u001b[A\u001b[A\u001b[A\n",
            "\n",
            "\n",
            " 49%|████▉     | 445/908 [00:26<00:25, 18.04it/s]\u001b[A\u001b[A\u001b[A\n",
            "\n",
            "\n",
            " 49%|████▉     | 448/908 [00:26<00:24, 19.12it/s]\u001b[A\u001b[A\u001b[A\n",
            "\n",
            "\n",
            " 50%|████▉     | 451/908 [00:27<00:22, 20.23it/s]\u001b[A\u001b[A\u001b[A\n",
            "\n",
            "\n",
            " 50%|█████     | 455/908 [00:27<00:18, 23.92it/s]\u001b[A\u001b[A\u001b[A\n",
            "\n",
            "\n",
            " 51%|█████     | 460/908 [00:27<00:14, 29.88it/s]\u001b[A\u001b[A\u001b[A\n",
            "\n",
            "\n",
            " 51%|█████     | 464/908 [00:27<00:15, 28.06it/s]\u001b[A\u001b[A\u001b[A\n",
            "\n",
            "\n",
            " 52%|█████▏    | 468/908 [00:27<00:15, 27.73it/s]\u001b[A\u001b[A\u001b[A\n",
            "\n",
            "\n",
            " 52%|█████▏    | 471/908 [00:27<00:16, 26.36it/s]\u001b[A\u001b[A\u001b[A\n",
            "\n",
            "\n",
            " 52%|█████▏    | 474/908 [00:27<00:20, 21.45it/s]\u001b[A\u001b[A\u001b[A\n",
            "\n",
            "\n",
            " 53%|█████▎    | 477/908 [00:28<00:29, 14.57it/s]\u001b[A\u001b[A\u001b[A\n",
            "\n",
            "\n",
            " 53%|█████▎    | 481/908 [00:28<00:23, 18.44it/s]\u001b[A\u001b[A\u001b[A\n",
            "\n",
            "\n",
            " 53%|█████▎    | 485/908 [00:28<00:19, 21.76it/s]\u001b[A\u001b[A\u001b[A\n",
            "\n",
            "\n",
            " 54%|█████▎    | 488/908 [00:28<00:18, 22.24it/s]\u001b[A\u001b[A\u001b[A\n",
            "\n",
            "\n",
            " 54%|█████▍    | 491/908 [00:28<00:17, 23.67it/s]\u001b[A\u001b[A\u001b[A\n",
            "\n",
            "\n",
            " 54%|█████▍    | 494/908 [00:28<00:17, 23.06it/s]\u001b[A\u001b[A\u001b[A\n",
            "\n",
            "\n",
            " 55%|█████▍    | 497/908 [00:29<00:17, 24.03it/s]\u001b[A\u001b[A\u001b[A\n",
            "\n",
            "\n",
            " 55%|█████▌    | 500/908 [00:29<00:17, 23.58it/s]\u001b[A\u001b[A\u001b[A\n",
            "\n",
            "\n",
            " 55%|█████▌    | 503/908 [00:29<00:17, 23.00it/s]\u001b[A\u001b[A\u001b[A\n",
            "\n",
            "\n",
            " 56%|█████▌    | 506/908 [00:29<00:17, 23.40it/s]\u001b[A\u001b[A\u001b[A\n",
            "\n",
            "\n",
            " 56%|█████▌    | 510/908 [00:29<00:16, 24.83it/s]\u001b[A\u001b[A\u001b[A\n",
            "\n",
            "\n",
            " 56%|█████▋    | 513/908 [00:29<00:16, 24.51it/s]\u001b[A\u001b[A\u001b[A\n",
            "\n",
            "\n",
            " 57%|█████▋    | 516/908 [00:29<00:16, 23.89it/s]\u001b[A\u001b[A\u001b[A\n",
            "\n",
            "\n",
            " 57%|█████▋    | 519/908 [00:29<00:15, 24.76it/s]\u001b[A\u001b[A\u001b[A\n",
            "\n",
            "\n",
            " 57%|█████▋    | 522/908 [00:30<00:15, 25.28it/s]\u001b[A\u001b[A\u001b[A\n",
            "\n",
            "\n",
            " 58%|█████▊    | 525/908 [00:30<00:20, 18.49it/s]\u001b[A\u001b[A\u001b[A\n",
            "\n",
            "\n",
            " 58%|█████▊    | 528/908 [00:30<00:19, 19.57it/s]\u001b[A\u001b[A\u001b[A\n",
            "\n",
            "\n",
            " 58%|█████▊    | 531/908 [00:30<00:18, 20.57it/s]\u001b[A\u001b[A\u001b[A\n",
            "\n",
            "\n",
            " 59%|█████▉    | 535/908 [00:30<00:15, 23.79it/s]\u001b[A\u001b[A\u001b[A\n",
            "\n",
            "\n",
            " 59%|█████▉    | 538/908 [00:30<00:16, 22.50it/s]\u001b[A\u001b[A\u001b[A\n",
            "\n",
            "\n",
            " 60%|█████▉    | 542/908 [00:30<00:14, 24.60it/s]\u001b[A\u001b[A\u001b[A\n",
            "\n",
            "\n",
            " 60%|██████    | 549/908 [00:31<00:10, 34.18it/s]\u001b[A\u001b[A\u001b[A\n",
            "\n",
            "\n",
            " 61%|██████    | 553/908 [00:31<00:10, 32.41it/s]\u001b[A\u001b[A\u001b[A\n",
            "\n",
            "\n",
            " 61%|██████▏   | 557/908 [00:31<00:11, 31.29it/s]\u001b[A\u001b[A\u001b[A\n",
            "\n",
            "\n",
            " 62%|██████▏   | 564/908 [00:31<00:09, 37.65it/s]\u001b[A\u001b[A\u001b[A\n",
            "\n",
            "\n",
            " 63%|██████▎   | 568/908 [00:31<00:10, 32.37it/s]\u001b[A\u001b[A\u001b[A\n",
            "\n",
            "\n",
            " 63%|██████▎   | 572/908 [00:32<00:17, 19.28it/s]\u001b[A\u001b[A\u001b[A\n",
            "\n",
            "\n",
            " 63%|██████▎   | 575/908 [00:32<00:18, 17.77it/s]\u001b[A\u001b[A\u001b[A\n",
            "\n",
            "\n",
            " 64%|██████▎   | 578/908 [00:32<00:17, 19.21it/s]\u001b[A\u001b[A\u001b[A\n",
            "\n",
            "\n",
            " 64%|██████▍   | 584/908 [00:32<00:12, 26.26it/s]\u001b[A\u001b[A\u001b[A\n",
            "\n",
            "\n",
            " 65%|██████▍   | 590/908 [00:32<00:09, 33.02it/s]\u001b[A\u001b[A\u001b[A\n",
            "\n",
            "\n",
            " 66%|██████▌   | 595/908 [00:33<00:13, 23.49it/s]\u001b[A\u001b[A\u001b[A\n",
            "\n",
            "\n",
            " 66%|██████▌   | 599/908 [00:33<00:12, 25.64it/s]\u001b[A\u001b[A\u001b[A\n",
            "\n",
            "\n",
            " 67%|██████▋   | 605/908 [00:33<00:09, 32.10it/s]\u001b[A\u001b[A\u001b[A\n",
            "\n",
            "\n",
            " 67%|██████▋   | 611/908 [00:33<00:08, 35.49it/s]\u001b[A\u001b[A\u001b[A\n",
            "\n",
            "\n",
            " 68%|██████▊   | 617/908 [00:34<00:18, 15.51it/s]\u001b[A\u001b[A\u001b[A\n",
            "\n",
            "\n",
            " 69%|██████▊   | 622/908 [00:34<00:16, 16.85it/s]\u001b[A\u001b[A\u001b[A\n",
            "\n",
            "\n",
            " 69%|██████▉   | 628/908 [00:34<00:13, 21.30it/s]\u001b[A\u001b[A\u001b[A\n",
            "\n",
            "\n",
            " 70%|██████▉   | 633/908 [00:34<00:11, 24.49it/s]\u001b[A\u001b[A\u001b[A\n",
            "\n",
            "\n",
            " 70%|███████   | 637/908 [00:34<00:11, 23.41it/s]\u001b[A\u001b[A\u001b[A\n",
            "\n",
            "\n",
            " 71%|███████   | 641/908 [00:35<00:13, 19.36it/s]\u001b[A\u001b[A\u001b[A\n",
            "\n",
            "\n",
            " 71%|███████   | 645/908 [00:35<00:12, 21.59it/s]\u001b[A\u001b[A\u001b[A\n",
            "\n",
            "\n",
            " 71%|███████▏  | 648/908 [00:35<00:14, 18.17it/s]\u001b[A\u001b[A\u001b[A\n",
            "\n",
            "\n",
            " 72%|███████▏  | 651/908 [00:35<00:15, 16.88it/s]\u001b[A\u001b[A\u001b[A\n",
            "\n",
            "\n",
            " 72%|███████▏  | 655/908 [00:35<00:12, 19.98it/s]\u001b[A\u001b[A\u001b[A\n",
            "\n",
            "\n",
            " 72%|███████▏  | 658/908 [00:36<00:13, 18.43it/s]\u001b[A\u001b[A\u001b[A\n",
            "\n",
            "\n",
            " 73%|███████▎  | 661/908 [00:36<00:13, 17.65it/s]\u001b[A\u001b[A\u001b[A\n",
            "\n",
            "\n",
            " 73%|███████▎  | 663/908 [00:36<00:14, 16.64it/s]\u001b[A\u001b[A\u001b[A\n",
            "\n",
            "\n",
            " 73%|███████▎  | 665/908 [00:36<00:15, 15.31it/s]\u001b[A\u001b[A\u001b[A\n",
            "\n",
            "\n",
            " 74%|███████▎  | 668/908 [00:36<00:13, 17.75it/s]\u001b[A\u001b[A\u001b[A\n",
            "\n",
            "\n",
            " 74%|███████▍  | 672/908 [00:36<00:11, 21.10it/s]\u001b[A\u001b[A\u001b[A\n",
            "\n",
            "\n",
            " 74%|███████▍  | 675/908 [00:36<00:10, 22.22it/s]\u001b[A\u001b[A\u001b[A\n",
            "\n",
            "\n",
            " 75%|███████▍  | 678/908 [00:37<00:10, 21.45it/s]\u001b[A\u001b[A\u001b[A\n",
            "\n",
            "\n",
            " 75%|███████▌  | 681/908 [00:37<00:12, 18.45it/s]\u001b[A\u001b[A\u001b[A\n",
            "\n",
            "\n",
            " 75%|███████▌  | 684/908 [00:37<00:11, 19.36it/s]\u001b[A\u001b[A\u001b[A\n",
            "\n",
            "\n",
            " 76%|███████▌  | 688/908 [00:37<00:10, 20.44it/s]\u001b[A\u001b[A\u001b[A\n",
            "\n",
            "\n",
            " 76%|███████▌  | 691/908 [00:37<00:11, 19.18it/s]\u001b[A\u001b[A\u001b[A\n",
            "\n",
            "\n",
            " 77%|███████▋  | 695/908 [00:37<00:09, 21.98it/s]\u001b[A\u001b[A\u001b[A\n",
            "\n",
            "\n",
            " 77%|███████▋  | 698/908 [00:38<00:12, 17.33it/s]\u001b[A\u001b[A\u001b[A\n",
            "\n",
            "\n",
            " 77%|███████▋  | 701/908 [00:38<00:11, 18.60it/s]\u001b[A\u001b[A\u001b[A\n",
            "\n",
            "\n",
            " 78%|███████▊  | 704/908 [00:38<00:12, 15.77it/s]\u001b[A\u001b[A\u001b[A\n",
            "\n",
            "\n",
            " 78%|███████▊  | 709/908 [00:38<00:09, 21.61it/s]\u001b[A\u001b[A\u001b[A\n",
            "\n",
            "\n",
            " 78%|███████▊  | 712/908 [00:38<00:09, 20.73it/s]\u001b[A\u001b[A\u001b[A\n",
            "\n",
            "\n",
            " 79%|███████▊  | 715/908 [00:39<00:09, 20.42it/s]\u001b[A\u001b[A\u001b[A\n",
            "\n",
            "\n",
            " 79%|███████▉  | 719/908 [00:39<00:09, 19.68it/s]\u001b[A\u001b[A\u001b[A\n",
            "\n",
            "\n",
            " 80%|███████▉  | 723/908 [00:39<00:08, 20.85it/s]\u001b[A\u001b[A\u001b[A\n",
            "\n",
            "\n",
            " 80%|███████▉  | 726/908 [00:39<00:10, 17.05it/s]\u001b[A\u001b[A\u001b[A\n",
            "\n",
            "\n",
            " 80%|████████  | 728/908 [00:39<00:11, 16.17it/s]\u001b[A\u001b[A\u001b[A\n",
            "\n",
            "\n",
            " 81%|████████  | 734/908 [00:40<00:07, 22.33it/s]\u001b[A\u001b[A\u001b[A\n",
            "\n",
            "\n",
            " 81%|████████  | 737/908 [00:40<00:07, 22.67it/s]\u001b[A\u001b[A\u001b[A\n",
            "\n",
            "\n",
            " 81%|████████▏ | 740/908 [00:40<00:07, 23.16it/s]\u001b[A\u001b[A\u001b[A\n",
            "\n",
            "\n",
            " 82%|████████▏ | 743/908 [00:40<00:07, 21.40it/s]\u001b[A\u001b[A\u001b[A\n",
            "\n",
            "\n",
            " 82%|████████▏ | 746/908 [00:40<00:08, 19.46it/s]\u001b[A\u001b[A\u001b[A\n",
            "\n",
            "\n",
            " 82%|████████▏ | 749/908 [00:40<00:07, 20.10it/s]\u001b[A\u001b[A\u001b[A\n",
            "\n",
            "\n",
            " 83%|████████▎ | 752/908 [00:40<00:07, 22.02it/s]\u001b[A\u001b[A\u001b[A\n",
            "\n",
            "\n",
            " 83%|████████▎ | 755/908 [00:41<00:07, 19.81it/s]\u001b[A\u001b[A\u001b[A\n",
            "\n",
            "\n",
            " 83%|████████▎ | 758/908 [00:41<00:07, 20.29it/s]\u001b[A\u001b[A\u001b[A\n",
            "\n",
            "\n",
            " 84%|████████▍ | 762/908 [00:41<00:06, 22.79it/s]\u001b[A\u001b[A\u001b[A\n",
            "\n",
            "\n",
            " 84%|████████▍ | 766/908 [00:41<00:05, 24.80it/s]\u001b[A\u001b[A\u001b[A\n",
            "\n",
            "\n",
            " 85%|████████▍ | 769/908 [00:41<00:06, 23.14it/s]\u001b[A\u001b[A\u001b[A\n",
            "\n",
            "\n",
            " 85%|████████▌ | 772/908 [00:41<00:07, 17.95it/s]\u001b[A\u001b[A\u001b[A\n",
            "\n",
            "\n",
            " 85%|████████▌ | 775/908 [00:41<00:06, 19.58it/s]\u001b[A\u001b[A\u001b[A\n",
            "\n",
            "\n",
            " 86%|████████▌ | 778/908 [00:42<00:06, 20.54it/s]\u001b[A\u001b[A\u001b[A\n",
            "\n",
            "\n",
            " 86%|████████▌ | 781/908 [00:42<00:06, 20.28it/s]\u001b[A\u001b[A\u001b[A\n",
            "\n",
            "\n",
            " 86%|████████▋ | 784/908 [00:42<00:08, 14.83it/s]\u001b[A\u001b[A\u001b[A\n",
            "\n",
            "\n",
            " 87%|████████▋ | 790/908 [00:42<00:05, 21.75it/s]\u001b[A\u001b[A\u001b[A\n",
            "\n",
            "\n",
            " 88%|████████▊ | 795/908 [00:42<00:04, 26.13it/s]\u001b[A\u001b[A\u001b[A\n",
            "\n",
            "\n",
            " 88%|████████▊ | 799/908 [00:43<00:05, 20.40it/s]\u001b[A\u001b[A\u001b[A\n",
            "\n",
            "\n",
            " 88%|████████▊ | 802/908 [00:43<00:04, 21.39it/s]\u001b[A\u001b[A\u001b[A\n",
            "\n",
            "\n",
            " 89%|████████▊ | 805/908 [00:43<00:04, 22.49it/s]\u001b[A\u001b[A\u001b[A\n",
            "\n",
            "\n",
            " 89%|████████▉ | 808/908 [00:43<00:04, 20.78it/s]\u001b[A\u001b[A\u001b[A\n",
            "\n",
            "\n",
            " 89%|████████▉ | 811/908 [00:43<00:04, 21.31it/s]\u001b[A\u001b[A\u001b[A\n",
            "\n",
            "\n",
            " 90%|████████▉ | 814/908 [00:43<00:04, 23.12it/s]\u001b[A\u001b[A\u001b[A\n",
            "\n",
            "\n",
            " 90%|█████████ | 818/908 [00:44<00:04, 21.14it/s]\u001b[A\u001b[A\u001b[A\n",
            "\n",
            "\n",
            " 90%|█████████ | 821/908 [00:44<00:03, 22.66it/s]\u001b[A\u001b[A\u001b[A\n",
            "\n",
            "\n",
            " 91%|█████████ | 824/908 [00:44<00:03, 22.65it/s]\u001b[A\u001b[A\u001b[A\n",
            "\n",
            "\n",
            " 91%|█████████ | 827/908 [00:44<00:05, 14.33it/s]\u001b[A\u001b[A\u001b[A\n",
            "\n",
            "\n",
            " 91%|█████████▏| 830/908 [00:44<00:04, 16.03it/s]\u001b[A\u001b[A\u001b[A\n",
            "\n",
            "\n",
            " 92%|█████████▏| 833/908 [00:45<00:05, 13.85it/s]\u001b[A\u001b[A\u001b[A\n",
            "\n",
            "\n",
            " 92%|█████████▏| 836/908 [00:45<00:04, 15.29it/s]\u001b[A\u001b[A\u001b[A\n",
            "\n",
            "\n",
            " 92%|█████████▏| 839/908 [00:45<00:03, 17.87it/s]\u001b[A\u001b[A\u001b[A\n",
            "\n",
            "\n",
            " 93%|█████████▎| 842/908 [00:45<00:03, 16.75it/s]\u001b[A\u001b[A\u001b[A\n",
            "\n",
            "\n",
            " 93%|█████████▎| 845/908 [00:45<00:03, 19.09it/s]\u001b[A\u001b[A\u001b[A\n",
            "\n",
            "\n",
            " 93%|█████████▎| 848/908 [00:45<00:02, 20.02it/s]\u001b[A\u001b[A\u001b[A\n",
            "\n",
            "\n",
            " 94%|█████████▎| 851/908 [00:45<00:02, 20.28it/s]\u001b[A\u001b[A\u001b[A\n",
            "\n",
            "\n",
            " 94%|█████████▍| 854/908 [00:46<00:05, 10.36it/s]\u001b[A\u001b[A\u001b[A\n",
            "\n",
            "\n",
            " 94%|█████████▍| 856/908 [00:46<00:05, 10.24it/s]\u001b[A\u001b[A\u001b[A\n",
            "\n",
            "\n",
            " 94%|█████████▍| 858/908 [00:46<00:04, 11.49it/s]\u001b[A\u001b[A\u001b[A\n",
            "\n",
            "\n",
            " 95%|█████████▍| 860/908 [00:47<00:05,  8.45it/s]\u001b[A\u001b[A\u001b[A\n",
            "\n",
            "\n",
            " 95%|█████████▍| 862/908 [00:47<00:04,  9.32it/s]\u001b[A\u001b[A\u001b[A\n",
            "\n",
            "\n",
            " 95%|█████████▌| 864/908 [00:47<00:04, 10.02it/s]\u001b[A\u001b[A\u001b[A\n",
            "\n",
            "\n",
            " 95%|█████████▌| 866/908 [00:47<00:03, 10.66it/s]\u001b[A\u001b[A\u001b[A\n",
            "\n",
            "\n",
            " 96%|█████████▌| 868/908 [00:47<00:03, 10.26it/s]\u001b[A\u001b[A\u001b[A\n",
            "\n",
            "\n",
            " 96%|█████████▌| 870/908 [00:48<00:03, 11.87it/s]\u001b[A\u001b[A\u001b[A\n",
            "\n",
            "\n",
            " 96%|█████████▌| 872/908 [00:48<00:02, 12.30it/s]\u001b[A\u001b[A\u001b[A\n",
            "\n",
            "\n",
            " 96%|█████████▋| 874/908 [00:48<00:02, 13.53it/s]\u001b[A\u001b[A\u001b[A\n",
            "\n",
            "\n",
            " 96%|█████████▋| 876/908 [00:48<00:02, 11.84it/s]\u001b[A\u001b[A\u001b[A\n",
            "\n",
            "\n",
            " 97%|█████████▋| 880/908 [00:48<00:01, 16.81it/s]\u001b[A\u001b[A\u001b[A\n",
            "\n",
            "\n",
            " 97%|█████████▋| 882/908 [00:49<00:05,  5.17it/s]\u001b[A\u001b[A\u001b[A\n",
            "\n",
            "\n",
            " 97%|█████████▋| 884/908 [00:50<00:06,  3.63it/s]\u001b[A\u001b[A\u001b[A\n",
            "\n",
            "\n",
            " 98%|█████████▊| 886/908 [00:51<00:07,  3.07it/s]\u001b[A\u001b[A\u001b[A\n",
            "\n",
            "\n",
            " 98%|█████████▊| 887/908 [00:52<00:08,  2.43it/s]\u001b[A\u001b[A\u001b[A\n",
            "\n",
            "\n",
            " 98%|█████████▊| 888/908 [00:53<00:09,  2.21it/s]\u001b[A\u001b[A\u001b[A\n",
            "\n",
            "\n",
            " 98%|█████████▊| 889/908 [00:54<00:12,  1.55it/s]\u001b[A\u001b[A\u001b[A\n",
            "\n",
            "\n",
            " 98%|█████████▊| 890/908 [00:55<00:12,  1.50it/s]\u001b[A\u001b[A\u001b[A\n",
            "\n",
            "\n",
            " 98%|█████████▊| 892/908 [00:55<00:06,  2.36it/s]\u001b[A\u001b[A\u001b[A\n",
            "\n",
            "\n",
            " 98%|█████████▊| 893/908 [00:56<00:07,  2.02it/s]\u001b[A\u001b[A\u001b[A\n",
            "\n",
            "\n",
            " 98%|█████████▊| 894/908 [00:57<00:08,  1.68it/s]\u001b[A\u001b[A\u001b[A\n",
            "\n",
            "\n",
            " 99%|█████████▊| 895/908 [00:57<00:06,  2.10it/s]\u001b[A\u001b[A\u001b[A\n",
            "\n",
            "\n",
            " 99%|█████████▉| 900/908 [00:57<00:01,  5.48it/s]\u001b[A\u001b[A\u001b[A\n",
            "\n",
            "\n",
            "100%|█████████▉| 905/908 [00:57<00:00,  9.48it/s]\u001b[A\u001b[A\u001b[A\n",
            "\n",
            "\n",
            "100%|██████████| 908/908 [00:57<00:00, 15.76it/s]\n"
          ]
        }
      ]
    },
    {
      "cell_type": "code",
      "source": [
        "# len pdf docs\n",
        "len(pdf_documents)"
      ],
      "metadata": {
        "colab": {
          "base_uri": "https://localhost:8080/"
        },
        "id": "IDk2McjcO7Fv",
        "outputId": "fab2e66d-1544-4281-e302-2edca103b26a"
      },
      "execution_count": 94,
      "outputs": [
        {
          "output_type": "execute_result",
          "data": {
            "text/plain": [
              "10198"
            ]
          },
          "metadata": {},
          "execution_count": 94
        }
      ]
    },
    {
      "cell_type": "code",
      "source": [
        "# print pdf_documents\n",
        "print(pdf_documents[18])"
      ],
      "metadata": {
        "colab": {
          "base_uri": "https://localhost:8080/"
        },
        "id": "kS1JCGcUO902",
        "outputId": "42b6ed7f-b1c0-4e6d-c0b5-a5adee1e081a"
      },
      "execution_count": 95,
      "outputs": [
        {
          "output_type": "stream",
          "name": "stdout",
          "text": [
            "page_content='Published as a conference paper at ICLR 2021\\nwe perform timing of inference speed for the main models of interest, on a TPUv3 accelerator; the\\ndifference between inference and backprop speed is a constant model-independent factor.\\nFigure 12 (left) shows how many images one core can handle per second, across various input sizes.\\nEvery single point refers to the peak performance measured across a wide range of batch-sizes. As\\ncan be seen, the theoretical bi-quadratic scaling of ViT with image size only barely starts happening\\nfor the largest models at the largest resolutions.\\nAnother quantity of interest is the largest batch-size each model can ﬁt onto a core, larger being\\nbetter for scaling to large datasets. Figure 12 (right) shows this quantity for the same set of models.\\nThis shows that large ViT models have a clear advantage in terms of memory-efﬁciency over ResNet\\nmodels.\\n64\\n128\\n224\\n384\\n512\\nInput size [px]\\n102\\n103\\n104\\nPeak inference speed [img/sec/core]\\n64\\n128\\n224\\n384\\n512\\nInput size [px]\\n102\\n103\\nLargest per-core batch-size\\nR50x1\\nR50x2\\nViT-B/32\\nViT-L/32\\nViT-B/16\\nViT-L/16\\nViT-H/14\\nR152x4\\nFigure 12: Left: Real wall-clock timings of various architectures across input sizes. ViT models\\nhave speed comparable to similar ResNets. Right: Largest per-core batch-size ﬁtting on device with\\nvarious architectures across input sizes. ViT models are clearly more memory-efﬁcient.\\nD.6\\nAXIAL ATTENTION\\nAxial Attention (Huang et al., 2020; Ho et al., 2019) is a simple, yet effective technique to run self-\\nattention on large inputs that are organized as multidimensional tensors. The general idea of axial\\nattention is to perform multiple attention operations, each along a single axis of the input tensor,\\ninstead of applying 1-dimensional attention to the ﬂattened version of the input. In axial attention,\\neach attention mixes information along a particular axis, while keeping information along the other\\naxes independent. Along this line, Wang et al. (2020b) proposed the AxialResNet model in which\\nall the convolutions with kernel size 3 × 3 in a ResNet50 are replaced by axial self-attention, i.e.\\na row and column attention, augmented by relative positional encoding. We have implemented\\nAxialResNet as a baseline model.3.\\nMoreover, we have modiﬁed ViT to process inputs in the 2-dimensional shape, instead of a 1-\\ndimensional sequence of patches, and incorporate Axial Transformer blocks, in which instead of\\na self-attention followed by an MLP, we have a a row-self-attention plus an MLP followed by a\\ncolumn-self-attention plus an MLP.\\nFigure 13, present the performance of Axial ResNet, Axial-ViT-B/32 and Axial-ViT-B/16 on Ima-\\ngeNet 5shot linear, when pretrained on JFT dataset, verses the pretraining compute, both in terms of\\nnumber of FLOPs and inference time (example per seconds). As we can see, both Axial-ViT-B/32\\nand Axial-ViT-B/16 do better than their ViT-B counterpart in terms of performance, but it comes at\\n3Our implementation is based on the open-sourced PyTorch implementation in https://github.com/\\ncsrhddlam/axial-deeplab. In our experiments, we reproduced the scores reported in (Wang et al.,\\n2020b) in terms of accuracy, however, our implementation, similar to the open-source implementation, is very\\nslow on TPUs. Therefore, we were not able to use it for extensive large-scale experiments. These may be\\nunlocked by a carefully optimized implementation.\\n19\\n' metadata={'source': 'Vision Transformers.pdf', 'file_path': 'Vision Transformers.pdf', 'page': 18, 'total_pages': 22, 'format': 'PDF 1.5', 'title': '', 'author': '', 'subject': '', 'keywords': '', 'creator': 'LaTeX with hyperref', 'producer': 'pdfTeX-1.40.21', 'creationDate': 'D:20210604001958Z', 'modDate': 'D:20210604001958Z', 'trapped': ''}\n"
          ]
        }
      ]
    },
    {
      "cell_type": "code",
      "source": [],
      "metadata": {
        "id": "Pxbk6BtzJfAp"
      },
      "execution_count": null,
      "outputs": []
    }
  ]
}