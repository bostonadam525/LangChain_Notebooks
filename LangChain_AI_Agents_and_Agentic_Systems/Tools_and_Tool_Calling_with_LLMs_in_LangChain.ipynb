{
  "nbformat": 4,
  "nbformat_minor": 0,
  "metadata": {
    "colab": {
      "provenance": []
    },
    "kernelspec": {
      "name": "python3",
      "display_name": "Python 3"
    },
    "language_info": {
      "name": "python"
    }
  },
  "cells": [
    {
      "cell_type": "markdown",
      "source": [
        "# Tools and Tool Calling with LLMs in LangChain\n",
        "* Notebook by Adam Lang\n",
        "* Date: 9/27/2024\n",
        "\n",
        "# Overview\n",
        "* In this notebook we will implement tools and the process of tool calling using LangChain."
      ],
      "metadata": {
        "id": "9XusQwLO7Jym"
      }
    },
    {
      "cell_type": "markdown",
      "source": [
        "## Install dependencies"
      ],
      "metadata": {
        "id": "77wo9w6d7YJf"
      }
    },
    {
      "cell_type": "code",
      "execution_count": 1,
      "metadata": {
        "colab": {
          "base_uri": "https://localhost:8080/"
        },
        "id": "PkOjNx8f69kz",
        "outputId": "4883ce27-ceda-46e1-9732-605a75cb6431"
      },
      "outputs": [
        {
          "output_type": "stream",
          "name": "stdout",
          "text": [
            "Collecting langchain==0.2.0\n",
            "  Downloading langchain-0.2.0-py3-none-any.whl.metadata (13 kB)\n",
            "Requirement already satisfied: PyYAML>=5.3 in /usr/local/lib/python3.10/dist-packages (from langchain==0.2.0) (6.0.2)\n",
            "Requirement already satisfied: SQLAlchemy<3,>=1.4 in /usr/local/lib/python3.10/dist-packages (from langchain==0.2.0) (2.0.35)\n",
            "Requirement already satisfied: aiohttp<4.0.0,>=3.8.3 in /usr/local/lib/python3.10/dist-packages (from langchain==0.2.0) (3.10.5)\n",
            "Requirement already satisfied: async-timeout<5.0.0,>=4.0.0 in /usr/local/lib/python3.10/dist-packages (from langchain==0.2.0) (4.0.3)\n",
            "Collecting dataclasses-json<0.7,>=0.5.7 (from langchain==0.2.0)\n",
            "  Downloading dataclasses_json-0.6.7-py3-none-any.whl.metadata (25 kB)\n",
            "Collecting langchain-core<0.3.0,>=0.2.0 (from langchain==0.2.0)\n",
            "  Downloading langchain_core-0.2.41-py3-none-any.whl.metadata (6.2 kB)\n",
            "Collecting langchain-text-splitters<0.3.0,>=0.2.0 (from langchain==0.2.0)\n",
            "  Downloading langchain_text_splitters-0.2.4-py3-none-any.whl.metadata (2.3 kB)\n",
            "Collecting langsmith<0.2.0,>=0.1.17 (from langchain==0.2.0)\n",
            "  Downloading langsmith-0.1.129-py3-none-any.whl.metadata (13 kB)\n",
            "Requirement already satisfied: numpy<2,>=1 in /usr/local/lib/python3.10/dist-packages (from langchain==0.2.0) (1.26.4)\n",
            "Requirement already satisfied: pydantic<3,>=1 in /usr/local/lib/python3.10/dist-packages (from langchain==0.2.0) (2.9.2)\n",
            "Requirement already satisfied: requests<3,>=2 in /usr/local/lib/python3.10/dist-packages (from langchain==0.2.0) (2.32.3)\n",
            "Collecting tenacity<9.0.0,>=8.1.0 (from langchain==0.2.0)\n",
            "  Downloading tenacity-8.5.0-py3-none-any.whl.metadata (1.2 kB)\n",
            "Requirement already satisfied: aiohappyeyeballs>=2.3.0 in /usr/local/lib/python3.10/dist-packages (from aiohttp<4.0.0,>=3.8.3->langchain==0.2.0) (2.4.0)\n",
            "Requirement already satisfied: aiosignal>=1.1.2 in /usr/local/lib/python3.10/dist-packages (from aiohttp<4.0.0,>=3.8.3->langchain==0.2.0) (1.3.1)\n",
            "Requirement already satisfied: attrs>=17.3.0 in /usr/local/lib/python3.10/dist-packages (from aiohttp<4.0.0,>=3.8.3->langchain==0.2.0) (24.2.0)\n",
            "Requirement already satisfied: frozenlist>=1.1.1 in /usr/local/lib/python3.10/dist-packages (from aiohttp<4.0.0,>=3.8.3->langchain==0.2.0) (1.4.1)\n",
            "Requirement already satisfied: multidict<7.0,>=4.5 in /usr/local/lib/python3.10/dist-packages (from aiohttp<4.0.0,>=3.8.3->langchain==0.2.0) (6.1.0)\n",
            "Requirement already satisfied: yarl<2.0,>=1.0 in /usr/local/lib/python3.10/dist-packages (from aiohttp<4.0.0,>=3.8.3->langchain==0.2.0) (1.11.1)\n",
            "Collecting marshmallow<4.0.0,>=3.18.0 (from dataclasses-json<0.7,>=0.5.7->langchain==0.2.0)\n",
            "  Downloading marshmallow-3.22.0-py3-none-any.whl.metadata (7.2 kB)\n",
            "Collecting typing-inspect<1,>=0.4.0 (from dataclasses-json<0.7,>=0.5.7->langchain==0.2.0)\n",
            "  Downloading typing_inspect-0.9.0-py3-none-any.whl.metadata (1.5 kB)\n",
            "Collecting jsonpatch<2.0,>=1.33 (from langchain-core<0.3.0,>=0.2.0->langchain==0.2.0)\n",
            "  Downloading jsonpatch-1.33-py2.py3-none-any.whl.metadata (3.0 kB)\n",
            "Requirement already satisfied: packaging<25,>=23.2 in /usr/local/lib/python3.10/dist-packages (from langchain-core<0.3.0,>=0.2.0->langchain==0.2.0) (24.1)\n",
            "Requirement already satisfied: typing-extensions>=4.7 in /usr/local/lib/python3.10/dist-packages (from langchain-core<0.3.0,>=0.2.0->langchain==0.2.0) (4.12.2)\n",
            "Collecting httpx<1,>=0.23.0 (from langsmith<0.2.0,>=0.1.17->langchain==0.2.0)\n",
            "  Downloading httpx-0.27.2-py3-none-any.whl.metadata (7.1 kB)\n",
            "Collecting orjson<4.0.0,>=3.9.14 (from langsmith<0.2.0,>=0.1.17->langchain==0.2.0)\n",
            "  Downloading orjson-3.10.7-cp310-cp310-manylinux_2_17_x86_64.manylinux2014_x86_64.whl.metadata (50 kB)\n",
            "\u001b[2K     \u001b[90m━━━━━━━━━━━━━━━━━━━━━━━━━━━━━━━━━━━━━━━━\u001b[0m \u001b[32m50.4/50.4 kB\u001b[0m \u001b[31m974.0 kB/s\u001b[0m eta \u001b[36m0:00:00\u001b[0m\n",
            "\u001b[?25hRequirement already satisfied: annotated-types>=0.6.0 in /usr/local/lib/python3.10/dist-packages (from pydantic<3,>=1->langchain==0.2.0) (0.7.0)\n",
            "Requirement already satisfied: pydantic-core==2.23.4 in /usr/local/lib/python3.10/dist-packages (from pydantic<3,>=1->langchain==0.2.0) (2.23.4)\n",
            "Requirement already satisfied: charset-normalizer<4,>=2 in /usr/local/lib/python3.10/dist-packages (from requests<3,>=2->langchain==0.2.0) (3.3.2)\n",
            "Requirement already satisfied: idna<4,>=2.5 in /usr/local/lib/python3.10/dist-packages (from requests<3,>=2->langchain==0.2.0) (3.10)\n",
            "Requirement already satisfied: urllib3<3,>=1.21.1 in /usr/local/lib/python3.10/dist-packages (from requests<3,>=2->langchain==0.2.0) (2.2.3)\n",
            "Requirement already satisfied: certifi>=2017.4.17 in /usr/local/lib/python3.10/dist-packages (from requests<3,>=2->langchain==0.2.0) (2024.8.30)\n",
            "Requirement already satisfied: greenlet!=0.4.17 in /usr/local/lib/python3.10/dist-packages (from SQLAlchemy<3,>=1.4->langchain==0.2.0) (3.1.1)\n",
            "Requirement already satisfied: anyio in /usr/local/lib/python3.10/dist-packages (from httpx<1,>=0.23.0->langsmith<0.2.0,>=0.1.17->langchain==0.2.0) (3.7.1)\n",
            "Collecting httpcore==1.* (from httpx<1,>=0.23.0->langsmith<0.2.0,>=0.1.17->langchain==0.2.0)\n",
            "  Downloading httpcore-1.0.5-py3-none-any.whl.metadata (20 kB)\n",
            "Requirement already satisfied: sniffio in /usr/local/lib/python3.10/dist-packages (from httpx<1,>=0.23.0->langsmith<0.2.0,>=0.1.17->langchain==0.2.0) (1.3.1)\n",
            "Collecting h11<0.15,>=0.13 (from httpcore==1.*->httpx<1,>=0.23.0->langsmith<0.2.0,>=0.1.17->langchain==0.2.0)\n",
            "  Downloading h11-0.14.0-py3-none-any.whl.metadata (8.2 kB)\n",
            "Collecting jsonpointer>=1.9 (from jsonpatch<2.0,>=1.33->langchain-core<0.3.0,>=0.2.0->langchain==0.2.0)\n",
            "  Downloading jsonpointer-3.0.0-py2.py3-none-any.whl.metadata (2.3 kB)\n",
            "Collecting mypy-extensions>=0.3.0 (from typing-inspect<1,>=0.4.0->dataclasses-json<0.7,>=0.5.7->langchain==0.2.0)\n",
            "  Downloading mypy_extensions-1.0.0-py3-none-any.whl.metadata (1.1 kB)\n",
            "Requirement already satisfied: exceptiongroup in /usr/local/lib/python3.10/dist-packages (from anyio->httpx<1,>=0.23.0->langsmith<0.2.0,>=0.1.17->langchain==0.2.0) (1.2.2)\n",
            "Downloading langchain-0.2.0-py3-none-any.whl (973 kB)\n",
            "\u001b[2K   \u001b[90m━━━━━━━━━━━━━━━━━━━━━━━━━━━━━━━━━━━━━━━━\u001b[0m \u001b[32m973.7/973.7 kB\u001b[0m \u001b[31m19.4 MB/s\u001b[0m eta \u001b[36m0:00:00\u001b[0m\n",
            "\u001b[?25hDownloading dataclasses_json-0.6.7-py3-none-any.whl (28 kB)\n",
            "Downloading langchain_core-0.2.41-py3-none-any.whl (397 kB)\n",
            "\u001b[2K   \u001b[90m━━━━━━━━━━━━━━━━━━━━━━━━━━━━━━━━━━━━━━━━\u001b[0m \u001b[32m397.0/397.0 kB\u001b[0m \u001b[31m19.5 MB/s\u001b[0m eta \u001b[36m0:00:00\u001b[0m\n",
            "\u001b[?25hDownloading langchain_text_splitters-0.2.4-py3-none-any.whl (25 kB)\n",
            "Downloading langsmith-0.1.129-py3-none-any.whl (292 kB)\n",
            "\u001b[2K   \u001b[90m━━━━━━━━━━━━━━━━━━━━━━━━━━━━━━━━━━━━━━━━\u001b[0m \u001b[32m292.2/292.2 kB\u001b[0m \u001b[31m15.0 MB/s\u001b[0m eta \u001b[36m0:00:00\u001b[0m\n",
            "\u001b[?25hDownloading tenacity-8.5.0-py3-none-any.whl (28 kB)\n",
            "Downloading httpx-0.27.2-py3-none-any.whl (76 kB)\n",
            "\u001b[2K   \u001b[90m━━━━━━━━━━━━━━━━━━━━━━━━━━━━━━━━━━━━━━━━\u001b[0m \u001b[32m76.4/76.4 kB\u001b[0m \u001b[31m3.8 MB/s\u001b[0m eta \u001b[36m0:00:00\u001b[0m\n",
            "\u001b[?25hDownloading httpcore-1.0.5-py3-none-any.whl (77 kB)\n",
            "\u001b[2K   \u001b[90m━━━━━━━━━━━━━━━━━━━━━━━━━━━━━━━━━━━━━━━━\u001b[0m \u001b[32m77.9/77.9 kB\u001b[0m \u001b[31m4.2 MB/s\u001b[0m eta \u001b[36m0:00:00\u001b[0m\n",
            "\u001b[?25hDownloading jsonpatch-1.33-py2.py3-none-any.whl (12 kB)\n",
            "Downloading marshmallow-3.22.0-py3-none-any.whl (49 kB)\n",
            "\u001b[2K   \u001b[90m━━━━━━━━━━━━━━━━━━━━━━━━━━━━━━━━━━━━━━━━\u001b[0m \u001b[32m49.3/49.3 kB\u001b[0m \u001b[31m2.6 MB/s\u001b[0m eta \u001b[36m0:00:00\u001b[0m\n",
            "\u001b[?25hDownloading orjson-3.10.7-cp310-cp310-manylinux_2_17_x86_64.manylinux2014_x86_64.whl (141 kB)\n",
            "\u001b[2K   \u001b[90m━━━━━━━━━━━━━━━━━━━━━━━━━━━━━━━━━━━━━━━━\u001b[0m \u001b[32m141.9/141.9 kB\u001b[0m \u001b[31m7.0 MB/s\u001b[0m eta \u001b[36m0:00:00\u001b[0m\n",
            "\u001b[?25hDownloading typing_inspect-0.9.0-py3-none-any.whl (8.8 kB)\n",
            "Downloading jsonpointer-3.0.0-py2.py3-none-any.whl (7.6 kB)\n",
            "Downloading mypy_extensions-1.0.0-py3-none-any.whl (4.7 kB)\n",
            "Downloading h11-0.14.0-py3-none-any.whl (58 kB)\n",
            "\u001b[2K   \u001b[90m━━━━━━━━━━━━━━━━━━━━━━━━━━━━━━━━━━━━━━━━\u001b[0m \u001b[32m58.3/58.3 kB\u001b[0m \u001b[31m2.5 MB/s\u001b[0m eta \u001b[36m0:00:00\u001b[0m\n",
            "\u001b[?25hInstalling collected packages: tenacity, orjson, mypy-extensions, marshmallow, jsonpointer, h11, typing-inspect, jsonpatch, httpcore, httpx, dataclasses-json, langsmith, langchain-core, langchain-text-splitters, langchain\n",
            "  Attempting uninstall: tenacity\n",
            "    Found existing installation: tenacity 9.0.0\n",
            "    Uninstalling tenacity-9.0.0:\n",
            "      Successfully uninstalled tenacity-9.0.0\n",
            "Successfully installed dataclasses-json-0.6.7 h11-0.14.0 httpcore-1.0.5 httpx-0.27.2 jsonpatch-1.33 jsonpointer-3.0.0 langchain-0.2.0 langchain-core-0.2.41 langchain-text-splitters-0.2.4 langsmith-0.1.129 marshmallow-3.22.0 mypy-extensions-1.0.0 orjson-3.10.7 tenacity-8.5.0 typing-inspect-0.9.0\n",
            "Collecting langchain-openai==0.1.7\n",
            "  Downloading langchain_openai-0.1.7-py3-none-any.whl.metadata (2.5 kB)\n",
            "Requirement already satisfied: langchain-core<0.3,>=0.1.46 in /usr/local/lib/python3.10/dist-packages (from langchain-openai==0.1.7) (0.2.41)\n",
            "Collecting openai<2.0.0,>=1.24.0 (from langchain-openai==0.1.7)\n",
            "  Downloading openai-1.50.2-py3-none-any.whl.metadata (24 kB)\n",
            "Collecting tiktoken<1,>=0.7 (from langchain-openai==0.1.7)\n",
            "  Downloading tiktoken-0.7.0-cp310-cp310-manylinux_2_17_x86_64.manylinux2014_x86_64.whl.metadata (6.6 kB)\n",
            "Requirement already satisfied: PyYAML>=5.3 in /usr/local/lib/python3.10/dist-packages (from langchain-core<0.3,>=0.1.46->langchain-openai==0.1.7) (6.0.2)\n",
            "Requirement already satisfied: jsonpatch<2.0,>=1.33 in /usr/local/lib/python3.10/dist-packages (from langchain-core<0.3,>=0.1.46->langchain-openai==0.1.7) (1.33)\n",
            "Requirement already satisfied: langsmith<0.2.0,>=0.1.112 in /usr/local/lib/python3.10/dist-packages (from langchain-core<0.3,>=0.1.46->langchain-openai==0.1.7) (0.1.129)\n",
            "Requirement already satisfied: packaging<25,>=23.2 in /usr/local/lib/python3.10/dist-packages (from langchain-core<0.3,>=0.1.46->langchain-openai==0.1.7) (24.1)\n",
            "Requirement already satisfied: pydantic<3,>=1 in /usr/local/lib/python3.10/dist-packages (from langchain-core<0.3,>=0.1.46->langchain-openai==0.1.7) (2.9.2)\n",
            "Requirement already satisfied: tenacity!=8.4.0,<9.0.0,>=8.1.0 in /usr/local/lib/python3.10/dist-packages (from langchain-core<0.3,>=0.1.46->langchain-openai==0.1.7) (8.5.0)\n",
            "Requirement already satisfied: typing-extensions>=4.7 in /usr/local/lib/python3.10/dist-packages (from langchain-core<0.3,>=0.1.46->langchain-openai==0.1.7) (4.12.2)\n",
            "Requirement already satisfied: anyio<5,>=3.5.0 in /usr/local/lib/python3.10/dist-packages (from openai<2.0.0,>=1.24.0->langchain-openai==0.1.7) (3.7.1)\n",
            "Requirement already satisfied: distro<2,>=1.7.0 in /usr/lib/python3/dist-packages (from openai<2.0.0,>=1.24.0->langchain-openai==0.1.7) (1.7.0)\n",
            "Requirement already satisfied: httpx<1,>=0.23.0 in /usr/local/lib/python3.10/dist-packages (from openai<2.0.0,>=1.24.0->langchain-openai==0.1.7) (0.27.2)\n",
            "Collecting jiter<1,>=0.4.0 (from openai<2.0.0,>=1.24.0->langchain-openai==0.1.7)\n",
            "  Downloading jiter-0.5.0-cp310-cp310-manylinux_2_17_x86_64.manylinux2014_x86_64.whl.metadata (3.6 kB)\n",
            "Requirement already satisfied: sniffio in /usr/local/lib/python3.10/dist-packages (from openai<2.0.0,>=1.24.0->langchain-openai==0.1.7) (1.3.1)\n",
            "Requirement already satisfied: tqdm>4 in /usr/local/lib/python3.10/dist-packages (from openai<2.0.0,>=1.24.0->langchain-openai==0.1.7) (4.66.5)\n",
            "Requirement already satisfied: regex>=2022.1.18 in /usr/local/lib/python3.10/dist-packages (from tiktoken<1,>=0.7->langchain-openai==0.1.7) (2024.9.11)\n",
            "Requirement already satisfied: requests>=2.26.0 in /usr/local/lib/python3.10/dist-packages (from tiktoken<1,>=0.7->langchain-openai==0.1.7) (2.32.3)\n",
            "Requirement already satisfied: idna>=2.8 in /usr/local/lib/python3.10/dist-packages (from anyio<5,>=3.5.0->openai<2.0.0,>=1.24.0->langchain-openai==0.1.7) (3.10)\n",
            "Requirement already satisfied: exceptiongroup in /usr/local/lib/python3.10/dist-packages (from anyio<5,>=3.5.0->openai<2.0.0,>=1.24.0->langchain-openai==0.1.7) (1.2.2)\n",
            "Requirement already satisfied: certifi in /usr/local/lib/python3.10/dist-packages (from httpx<1,>=0.23.0->openai<2.0.0,>=1.24.0->langchain-openai==0.1.7) (2024.8.30)\n",
            "Requirement already satisfied: httpcore==1.* in /usr/local/lib/python3.10/dist-packages (from httpx<1,>=0.23.0->openai<2.0.0,>=1.24.0->langchain-openai==0.1.7) (1.0.5)\n",
            "Requirement already satisfied: h11<0.15,>=0.13 in /usr/local/lib/python3.10/dist-packages (from httpcore==1.*->httpx<1,>=0.23.0->openai<2.0.0,>=1.24.0->langchain-openai==0.1.7) (0.14.0)\n",
            "Requirement already satisfied: jsonpointer>=1.9 in /usr/local/lib/python3.10/dist-packages (from jsonpatch<2.0,>=1.33->langchain-core<0.3,>=0.1.46->langchain-openai==0.1.7) (3.0.0)\n",
            "Requirement already satisfied: orjson<4.0.0,>=3.9.14 in /usr/local/lib/python3.10/dist-packages (from langsmith<0.2.0,>=0.1.112->langchain-core<0.3,>=0.1.46->langchain-openai==0.1.7) (3.10.7)\n",
            "Requirement already satisfied: annotated-types>=0.6.0 in /usr/local/lib/python3.10/dist-packages (from pydantic<3,>=1->langchain-core<0.3,>=0.1.46->langchain-openai==0.1.7) (0.7.0)\n",
            "Requirement already satisfied: pydantic-core==2.23.4 in /usr/local/lib/python3.10/dist-packages (from pydantic<3,>=1->langchain-core<0.3,>=0.1.46->langchain-openai==0.1.7) (2.23.4)\n",
            "Requirement already satisfied: charset-normalizer<4,>=2 in /usr/local/lib/python3.10/dist-packages (from requests>=2.26.0->tiktoken<1,>=0.7->langchain-openai==0.1.7) (3.3.2)\n",
            "Requirement already satisfied: urllib3<3,>=1.21.1 in /usr/local/lib/python3.10/dist-packages (from requests>=2.26.0->tiktoken<1,>=0.7->langchain-openai==0.1.7) (2.2.3)\n",
            "Downloading langchain_openai-0.1.7-py3-none-any.whl (34 kB)\n",
            "Downloading openai-1.50.2-py3-none-any.whl (382 kB)\n",
            "\u001b[2K   \u001b[90m━━━━━━━━━━━━━━━━━━━━━━━━━━━━━━━━━━━━━━━━\u001b[0m \u001b[32m383.0/383.0 kB\u001b[0m \u001b[31m5.2 MB/s\u001b[0m eta \u001b[36m0:00:00\u001b[0m\n",
            "\u001b[?25hDownloading tiktoken-0.7.0-cp310-cp310-manylinux_2_17_x86_64.manylinux2014_x86_64.whl (1.1 MB)\n",
            "\u001b[2K   \u001b[90m━━━━━━━━━━━━━━━━━━━━━━━━━━━━━━━━━━━━━━━━\u001b[0m \u001b[32m1.1/1.1 MB\u001b[0m \u001b[31m28.9 MB/s\u001b[0m eta \u001b[36m0:00:00\u001b[0m\n",
            "\u001b[?25hDownloading jiter-0.5.0-cp310-cp310-manylinux_2_17_x86_64.manylinux2014_x86_64.whl (318 kB)\n",
            "\u001b[2K   \u001b[90m━━━━━━━━━━━━━━━━━━━━━━━━━━━━━━━━━━━━━━━━\u001b[0m \u001b[32m318.9/318.9 kB\u001b[0m \u001b[31m17.8 MB/s\u001b[0m eta \u001b[36m0:00:00\u001b[0m\n",
            "\u001b[?25hInstalling collected packages: jiter, tiktoken, openai, langchain-openai\n",
            "Successfully installed jiter-0.5.0 langchain-openai-0.1.7 openai-1.50.2 tiktoken-0.7.0\n",
            "Collecting langchain-community==0.2.0\n",
            "  Downloading langchain_community-0.2.0-py3-none-any.whl.metadata (8.8 kB)\n",
            "Requirement already satisfied: PyYAML>=5.3 in /usr/local/lib/python3.10/dist-packages (from langchain-community==0.2.0) (6.0.2)\n",
            "Requirement already satisfied: SQLAlchemy<3,>=1.4 in /usr/local/lib/python3.10/dist-packages (from langchain-community==0.2.0) (2.0.35)\n",
            "Requirement already satisfied: aiohttp<4.0.0,>=3.8.3 in /usr/local/lib/python3.10/dist-packages (from langchain-community==0.2.0) (3.10.5)\n",
            "Requirement already satisfied: dataclasses-json<0.7,>=0.5.7 in /usr/local/lib/python3.10/dist-packages (from langchain-community==0.2.0) (0.6.7)\n",
            "Requirement already satisfied: langchain<0.3.0,>=0.2.0 in /usr/local/lib/python3.10/dist-packages (from langchain-community==0.2.0) (0.2.0)\n",
            "Requirement already satisfied: langchain-core<0.3.0,>=0.2.0 in /usr/local/lib/python3.10/dist-packages (from langchain-community==0.2.0) (0.2.41)\n",
            "Requirement already satisfied: langsmith<0.2.0,>=0.1.0 in /usr/local/lib/python3.10/dist-packages (from langchain-community==0.2.0) (0.1.129)\n",
            "Requirement already satisfied: numpy<2,>=1 in /usr/local/lib/python3.10/dist-packages (from langchain-community==0.2.0) (1.26.4)\n",
            "Requirement already satisfied: requests<3,>=2 in /usr/local/lib/python3.10/dist-packages (from langchain-community==0.2.0) (2.32.3)\n",
            "Requirement already satisfied: tenacity<9.0.0,>=8.1.0 in /usr/local/lib/python3.10/dist-packages (from langchain-community==0.2.0) (8.5.0)\n",
            "Requirement already satisfied: aiohappyeyeballs>=2.3.0 in /usr/local/lib/python3.10/dist-packages (from aiohttp<4.0.0,>=3.8.3->langchain-community==0.2.0) (2.4.0)\n",
            "Requirement already satisfied: aiosignal>=1.1.2 in /usr/local/lib/python3.10/dist-packages (from aiohttp<4.0.0,>=3.8.3->langchain-community==0.2.0) (1.3.1)\n",
            "Requirement already satisfied: attrs>=17.3.0 in /usr/local/lib/python3.10/dist-packages (from aiohttp<4.0.0,>=3.8.3->langchain-community==0.2.0) (24.2.0)\n",
            "Requirement already satisfied: frozenlist>=1.1.1 in /usr/local/lib/python3.10/dist-packages (from aiohttp<4.0.0,>=3.8.3->langchain-community==0.2.0) (1.4.1)\n",
            "Requirement already satisfied: multidict<7.0,>=4.5 in /usr/local/lib/python3.10/dist-packages (from aiohttp<4.0.0,>=3.8.3->langchain-community==0.2.0) (6.1.0)\n",
            "Requirement already satisfied: yarl<2.0,>=1.0 in /usr/local/lib/python3.10/dist-packages (from aiohttp<4.0.0,>=3.8.3->langchain-community==0.2.0) (1.11.1)\n",
            "Requirement already satisfied: async-timeout<5.0,>=4.0 in /usr/local/lib/python3.10/dist-packages (from aiohttp<4.0.0,>=3.8.3->langchain-community==0.2.0) (4.0.3)\n",
            "Requirement already satisfied: marshmallow<4.0.0,>=3.18.0 in /usr/local/lib/python3.10/dist-packages (from dataclasses-json<0.7,>=0.5.7->langchain-community==0.2.0) (3.22.0)\n",
            "Requirement already satisfied: typing-inspect<1,>=0.4.0 in /usr/local/lib/python3.10/dist-packages (from dataclasses-json<0.7,>=0.5.7->langchain-community==0.2.0) (0.9.0)\n",
            "Requirement already satisfied: langchain-text-splitters<0.3.0,>=0.2.0 in /usr/local/lib/python3.10/dist-packages (from langchain<0.3.0,>=0.2.0->langchain-community==0.2.0) (0.2.4)\n",
            "Requirement already satisfied: pydantic<3,>=1 in /usr/local/lib/python3.10/dist-packages (from langchain<0.3.0,>=0.2.0->langchain-community==0.2.0) (2.9.2)\n",
            "Requirement already satisfied: jsonpatch<2.0,>=1.33 in /usr/local/lib/python3.10/dist-packages (from langchain-core<0.3.0,>=0.2.0->langchain-community==0.2.0) (1.33)\n",
            "Requirement already satisfied: packaging<25,>=23.2 in /usr/local/lib/python3.10/dist-packages (from langchain-core<0.3.0,>=0.2.0->langchain-community==0.2.0) (24.1)\n",
            "Requirement already satisfied: typing-extensions>=4.7 in /usr/local/lib/python3.10/dist-packages (from langchain-core<0.3.0,>=0.2.0->langchain-community==0.2.0) (4.12.2)\n",
            "Requirement already satisfied: httpx<1,>=0.23.0 in /usr/local/lib/python3.10/dist-packages (from langsmith<0.2.0,>=0.1.0->langchain-community==0.2.0) (0.27.2)\n",
            "Requirement already satisfied: orjson<4.0.0,>=3.9.14 in /usr/local/lib/python3.10/dist-packages (from langsmith<0.2.0,>=0.1.0->langchain-community==0.2.0) (3.10.7)\n",
            "Requirement already satisfied: charset-normalizer<4,>=2 in /usr/local/lib/python3.10/dist-packages (from requests<3,>=2->langchain-community==0.2.0) (3.3.2)\n",
            "Requirement already satisfied: idna<4,>=2.5 in /usr/local/lib/python3.10/dist-packages (from requests<3,>=2->langchain-community==0.2.0) (3.10)\n",
            "Requirement already satisfied: urllib3<3,>=1.21.1 in /usr/local/lib/python3.10/dist-packages (from requests<3,>=2->langchain-community==0.2.0) (2.2.3)\n",
            "Requirement already satisfied: certifi>=2017.4.17 in /usr/local/lib/python3.10/dist-packages (from requests<3,>=2->langchain-community==0.2.0) (2024.8.30)\n",
            "Requirement already satisfied: greenlet!=0.4.17 in /usr/local/lib/python3.10/dist-packages (from SQLAlchemy<3,>=1.4->langchain-community==0.2.0) (3.1.1)\n",
            "Requirement already satisfied: anyio in /usr/local/lib/python3.10/dist-packages (from httpx<1,>=0.23.0->langsmith<0.2.0,>=0.1.0->langchain-community==0.2.0) (3.7.1)\n",
            "Requirement already satisfied: httpcore==1.* in /usr/local/lib/python3.10/dist-packages (from httpx<1,>=0.23.0->langsmith<0.2.0,>=0.1.0->langchain-community==0.2.0) (1.0.5)\n",
            "Requirement already satisfied: sniffio in /usr/local/lib/python3.10/dist-packages (from httpx<1,>=0.23.0->langsmith<0.2.0,>=0.1.0->langchain-community==0.2.0) (1.3.1)\n",
            "Requirement already satisfied: h11<0.15,>=0.13 in /usr/local/lib/python3.10/dist-packages (from httpcore==1.*->httpx<1,>=0.23.0->langsmith<0.2.0,>=0.1.0->langchain-community==0.2.0) (0.14.0)\n",
            "Requirement already satisfied: jsonpointer>=1.9 in /usr/local/lib/python3.10/dist-packages (from jsonpatch<2.0,>=1.33->langchain-core<0.3.0,>=0.2.0->langchain-community==0.2.0) (3.0.0)\n",
            "Requirement already satisfied: annotated-types>=0.6.0 in /usr/local/lib/python3.10/dist-packages (from pydantic<3,>=1->langchain<0.3.0,>=0.2.0->langchain-community==0.2.0) (0.7.0)\n",
            "Requirement already satisfied: pydantic-core==2.23.4 in /usr/local/lib/python3.10/dist-packages (from pydantic<3,>=1->langchain<0.3.0,>=0.2.0->langchain-community==0.2.0) (2.23.4)\n",
            "Requirement already satisfied: mypy-extensions>=0.3.0 in /usr/local/lib/python3.10/dist-packages (from typing-inspect<1,>=0.4.0->dataclasses-json<0.7,>=0.5.7->langchain-community==0.2.0) (1.0.0)\n",
            "Requirement already satisfied: exceptiongroup in /usr/local/lib/python3.10/dist-packages (from anyio->httpx<1,>=0.23.0->langsmith<0.2.0,>=0.1.0->langchain-community==0.2.0) (1.2.2)\n",
            "Downloading langchain_community-0.2.0-py3-none-any.whl (2.1 MB)\n",
            "\u001b[2K   \u001b[90m━━━━━━━━━━━━━━━━━━━━━━━━━━━━━━━━━━━━━━━━\u001b[0m \u001b[32m2.1/2.1 MB\u001b[0m \u001b[31m15.3 MB/s\u001b[0m eta \u001b[36m0:00:00\u001b[0m\n",
            "\u001b[?25hInstalling collected packages: langchain-community\n",
            "Successfully installed langchain-community-0.2.0\n"
          ]
        }
      ],
      "source": [
        "!pip install langchain==0.2.0\n",
        "!pip install langchain-openai==0.1.7\n",
        "!pip install langchain-community==0.2.0"
      ]
    },
    {
      "cell_type": "markdown",
      "source": [
        "## Search APIs Installation\n",
        "* We will use search APIs as tools:\n",
        "1. duckduckgo\n",
        "2. wikipedia\n",
        "3. rich"
      ],
      "metadata": {
        "id": "vsPr_PKx7ncE"
      }
    },
    {
      "cell_type": "code",
      "source": [
        "## install search apis\n",
        "!pip install duckduckgo-search\n",
        "!pip install wikipedia\n",
        "## to highlight json\n",
        "!pip install rich"
      ],
      "metadata": {
        "colab": {
          "base_uri": "https://localhost:8080/"
        },
        "id": "2bMBmk9g7hlx",
        "outputId": "9b1c6598-9664-49e9-d4a2-06fac88afe24"
      },
      "execution_count": 2,
      "outputs": [
        {
          "output_type": "stream",
          "name": "stdout",
          "text": [
            "Collecting duckduckgo-search\n",
            "  Downloading duckduckgo_search-6.2.13-py3-none-any.whl.metadata (25 kB)\n",
            "Requirement already satisfied: click>=8.1.7 in /usr/local/lib/python3.10/dist-packages (from duckduckgo-search) (8.1.7)\n",
            "Collecting primp>=0.6.3 (from duckduckgo-search)\n",
            "  Downloading primp-0.6.3-cp38-abi3-manylinux_2_17_x86_64.manylinux2014_x86_64.whl.metadata (10 kB)\n",
            "Downloading duckduckgo_search-6.2.13-py3-none-any.whl (27 kB)\n",
            "Downloading primp-0.6.3-cp38-abi3-manylinux_2_17_x86_64.manylinux2014_x86_64.whl (2.8 MB)\n",
            "\u001b[2K   \u001b[90m━━━━━━━━━━━━━━━━━━━━━━━━━━━━━━━━━━━━━━━━\u001b[0m \u001b[32m2.8/2.8 MB\u001b[0m \u001b[31m35.5 MB/s\u001b[0m eta \u001b[36m0:00:00\u001b[0m\n",
            "\u001b[?25hInstalling collected packages: primp, duckduckgo-search\n",
            "Successfully installed duckduckgo-search-6.2.13 primp-0.6.3\n",
            "Collecting wikipedia\n",
            "  Downloading wikipedia-1.4.0.tar.gz (27 kB)\n",
            "  Preparing metadata (setup.py) ... \u001b[?25l\u001b[?25hdone\n",
            "Requirement already satisfied: beautifulsoup4 in /usr/local/lib/python3.10/dist-packages (from wikipedia) (4.12.3)\n",
            "Requirement already satisfied: requests<3.0.0,>=2.0.0 in /usr/local/lib/python3.10/dist-packages (from wikipedia) (2.32.3)\n",
            "Requirement already satisfied: charset-normalizer<4,>=2 in /usr/local/lib/python3.10/dist-packages (from requests<3.0.0,>=2.0.0->wikipedia) (3.3.2)\n",
            "Requirement already satisfied: idna<4,>=2.5 in /usr/local/lib/python3.10/dist-packages (from requests<3.0.0,>=2.0.0->wikipedia) (3.10)\n",
            "Requirement already satisfied: urllib3<3,>=1.21.1 in /usr/local/lib/python3.10/dist-packages (from requests<3.0.0,>=2.0.0->wikipedia) (2.2.3)\n",
            "Requirement already satisfied: certifi>=2017.4.17 in /usr/local/lib/python3.10/dist-packages (from requests<3.0.0,>=2.0.0->wikipedia) (2024.8.30)\n",
            "Requirement already satisfied: soupsieve>1.2 in /usr/local/lib/python3.10/dist-packages (from beautifulsoup4->wikipedia) (2.6)\n",
            "Building wheels for collected packages: wikipedia\n",
            "  Building wheel for wikipedia (setup.py) ... \u001b[?25l\u001b[?25hdone\n",
            "  Created wheel for wikipedia: filename=wikipedia-1.4.0-py3-none-any.whl size=11679 sha256=67b0d8c5e5029fbf45404cf20b2bf1d7fd5bbc746ee335eb054aefde3beb74ac\n",
            "  Stored in directory: /root/.cache/pip/wheels/5e/b6/c5/93f3dec388ae76edc830cb42901bb0232504dfc0df02fc50de\n",
            "Successfully built wikipedia\n",
            "Installing collected packages: wikipedia\n",
            "Successfully installed wikipedia-1.4.0\n",
            "Requirement already satisfied: rich in /usr/local/lib/python3.10/dist-packages (13.8.1)\n",
            "Requirement already satisfied: markdown-it-py>=2.2.0 in /usr/local/lib/python3.10/dist-packages (from rich) (3.0.0)\n",
            "Requirement already satisfied: pygments<3.0.0,>=2.13.0 in /usr/local/lib/python3.10/dist-packages (from rich) (2.18.0)\n",
            "Requirement already satisfied: mdurl~=0.1 in /usr/local/lib/python3.10/dist-packages (from markdown-it-py>=2.2.0->rich) (0.1.2)\n"
          ]
        }
      ]
    },
    {
      "cell_type": "markdown",
      "source": [
        "## Enter Open AI API Key"
      ],
      "metadata": {
        "id": "UinKcok076BP"
      }
    },
    {
      "cell_type": "code",
      "source": [
        "from getpass import getpass\n",
        "\n",
        "OPENAI_KEY = getpass('Enter your Open AI API key: ')"
      ],
      "metadata": {
        "colab": {
          "base_uri": "https://localhost:8080/"
        },
        "id": "HxOFk0iH71sd",
        "outputId": "72034b7e-c1a3-4182-8752-0394775362da"
      },
      "execution_count": 3,
      "outputs": [
        {
          "name": "stdout",
          "output_type": "stream",
          "text": [
            "Enter your Open AI API key: ··········\n"
          ]
        }
      ]
    },
    {
      "cell_type": "markdown",
      "source": [
        "## Enter Tavily Search API Key\n",
        "* https://tavily.com/"
      ],
      "metadata": {
        "id": "03Xe_Mbj8LW5"
      }
    },
    {
      "cell_type": "code",
      "source": [
        "TAVILY_API_KEY = getpass('Enter your Tavily Search API Key: ')"
      ],
      "metadata": {
        "colab": {
          "base_uri": "https://localhost:8080/"
        },
        "id": "eSZ9QO9u8Ey2",
        "outputId": "ab4bd2c4-d47f-439a-dc7a-158b9d8acf82"
      },
      "execution_count": 4,
      "outputs": [
        {
          "name": "stdout",
          "output_type": "stream",
          "text": [
            "Enter your Tavily Search API Key: ··········\n"
          ]
        }
      ]
    },
    {
      "cell_type": "markdown",
      "source": [
        "## Set Environment Variables"
      ],
      "metadata": {
        "id": "BP1YCKJY8k-c"
      }
    },
    {
      "cell_type": "code",
      "source": [
        "## env variables\n",
        "import os\n",
        "\n",
        "os.environ['OPENAI_API_KEY'] = OPENAI_KEY\n",
        "os.environ['TAVILY_API_KEY'] = TAVILY_API_KEY"
      ],
      "metadata": {
        "id": "dn2aPclM8g_i"
      },
      "execution_count": 5,
      "outputs": []
    },
    {
      "cell_type": "markdown",
      "source": [
        "## Wikipedia Tool\n",
        "* This tool allows you to utilize the Wikipedia open source API to search wikipedia for information."
      ],
      "metadata": {
        "id": "cBlJtvno8yVU"
      }
    },
    {
      "cell_type": "code",
      "source": [
        "## imports\n",
        "from langchain_community.tools import WikipediaQueryRun\n",
        "from langchain_community.utilities import WikipediaAPIWrapper\n",
        "\n",
        "## instantiate wrapper --> get top 2 results (top k)\n",
        "wiki_api_wrapper = WikipediaAPIWrapper(top_k_results=2, doc_content_chars_max=8000)\n",
        "wiki_tool = WikipediaQueryRun(api_wrapper=wiki_api_wrapper, features='lxml')\n"
      ],
      "metadata": {
        "id": "M9Ei8PF98xlp"
      },
      "execution_count": 6,
      "outputs": []
    },
    {
      "cell_type": "code",
      "source": [
        "## get description\n",
        "wiki_tool.description"
      ],
      "metadata": {
        "colab": {
          "base_uri": "https://localhost:8080/",
          "height": 70
        },
        "id": "JUwiSUgj9gGO",
        "outputId": "53b9dfc8-ab61-4e63-843a-f7f2abaea8c9"
      },
      "execution_count": 7,
      "outputs": [
        {
          "output_type": "execute_result",
          "data": {
            "text/plain": [
              "'A wrapper around Wikipedia. Useful for when you need to answer general questions about people, places, companies, facts, historical events, or other subjects. Input should be a search query.'"
            ],
            "application/vnd.google.colaboratory.intrinsic+json": {
              "type": "string"
            }
          },
          "metadata": {},
          "execution_count": 7
        }
      ]
    },
    {
      "cell_type": "code",
      "source": [
        "## wiki args\n",
        "wiki_tool.args"
      ],
      "metadata": {
        "colab": {
          "base_uri": "https://localhost:8080/"
        },
        "id": "uzud8blP9jjo",
        "outputId": "179b2479-c7fa-4c7f-a483-39ab314808ab"
      },
      "execution_count": 8,
      "outputs": [
        {
          "output_type": "execute_result",
          "data": {
            "text/plain": [
              "{'query': {'title': 'Query', 'type': 'string'}}"
            ]
          },
          "metadata": {},
          "execution_count": 8
        }
      ]
    },
    {
      "cell_type": "code",
      "source": [
        "## query using wikipedia tool\n",
        "print(wiki_tool.invoke({'query': \"Vail Resorts\"}))"
      ],
      "metadata": {
        "colab": {
          "base_uri": "https://localhost:8080/"
        },
        "id": "pPSV6WLj9mBV",
        "outputId": "cba079e0-3da1-4f85-8f71-43efd4d28474"
      },
      "execution_count": 13,
      "outputs": [
        {
          "output_type": "stream",
          "name": "stdout",
          "text": [
            "Page: Vail Resorts\n",
            "Summary: Vail Resorts, Inc. is an American mountain resort company headquartered in Broomfield, Colorado. The company is divided into three divisions. The mountain segment owns and operates 42 mountain resorts in four countries. Vail Resorts Hospitality owns or manages hotels, lodging, condominiums, and golf courses, and the Vail Resorts Development Company oversees property development and real estate holdings.\n",
            "\n",
            "\n",
            "\n",
            "Page: Vail Ski Resort\n",
            "Summary: Vail Ski Resort is a ski resort in the western United States, located near the town of Vail in Eagle County, Colorado. At 5,289 acres (8.3 sq mi; 21.4 km2), it is the third-largest single-mountain ski resort in the U.S., behind Big Sky and Park City, featuring seven bowls and intermediate gladed terrain in Blue Sky Basin.\n",
            "Opened in late 1962, Vail is one of 37 mountain resorts owned and operated by Vail Resorts, which also operates three other nearby ski resorts (Beaver Creek, Breckenridge, and Keystone).\n",
            "Vail Mountain has three sections: The Front-Side, Blue Sky Basin, and the Back Bowls. Most of the resort is wide open terrain with all types of trails. There are cruising runs accessible from most front side and Blue Sky Basin lifts, as well as the wide open Back Bowls, glades, and chutes.\n",
            "Vail has the fourth-largest area of skiable terrain in North America after Whistler Blackcomb, Park City Mountain Resort, and Big Sky.\n",
            "Vail Village is modeled on Bavarian village styles, with pedestrian streets. Unlike other Colorado ski towns such as Aspen, Breckenridge, or Steamboat Springs, which existed as 19th century mining towns prior to the establishment of their ski resorts, the Vail village was built when the resort opened.\n"
          ]
        }
      ]
    },
    {
      "cell_type": "markdown",
      "source": [
        "Summary:\n",
        "* We can see it pulled up the top 2 results for my query of \"Vail Resorts\"."
      ],
      "metadata": {
        "id": "w81EI4P3-Uy1"
      }
    },
    {
      "cell_type": "code",
      "source": [
        "## query again\n",
        "print(wiki_tool.invoke({'query': 'AI'}))"
      ],
      "metadata": {
        "colab": {
          "base_uri": "https://localhost:8080/"
        },
        "id": "SViuanG49yW_",
        "outputId": "d63ba839-b2f2-4af9-fc24-28a4ebf5f978"
      },
      "execution_count": 14,
      "outputs": [
        {
          "output_type": "stream",
          "name": "stderr",
          "text": [
            "/usr/local/lib/python3.10/dist-packages/wikipedia/wikipedia.py:389: GuessedAtParserWarning: No parser was explicitly specified, so I'm using the best available HTML parser for this system (\"lxml\"). This usually isn't a problem, but if you run this code on another system, or in a different virtual environment, it may use a different parser and behave differently.\n",
            "\n",
            "The code that caused this warning is on line 389 of the file /usr/local/lib/python3.10/dist-packages/wikipedia/wikipedia.py. To get rid of this warning, pass the additional argument 'features=\"lxml\"' to the BeautifulSoup constructor.\n",
            "\n",
            "  lis = BeautifulSoup(html).find_all('li')\n"
          ]
        },
        {
          "output_type": "stream",
          "name": "stdout",
          "text": [
            "Page: Artificial intelligence\n",
            "Summary: Artificial intelligence (AI), in its broadest sense, is intelligence exhibited by machines, particularly computer systems. It is a field of research in computer science that develops and studies methods and software that enable machines to perceive their environment and use learning and intelligence to take actions that maximize their chances of achieving defined goals. Such machines may be called AIs.\n",
            "Some high-profile applications of AI include advanced web search engines (e.g., Google Search); recommendation systems (used by YouTube, Amazon, and Netflix); interacting via human speech (e.g., Google Assistant, Siri, and Alexa); autonomous vehicles (e.g., Waymo); generative and creative tools (e.g., ChatGPT, and AI art); and superhuman play and analysis in strategy games (e.g., chess and Go). However, many AI applications are not perceived as AI: \"A lot of cutting edge AI has filtered into general applications, often without being called AI because once something becomes useful enough and common enough it's not labeled AI anymore.\"\n",
            "The various subfields of AI research are centered around particular goals and the use of particular tools. The traditional goals of AI research include reasoning, knowledge representation, planning, learning, natural language processing, perception, and support for robotics. General intelligence—the ability to complete any task performable by a human on an at least equal level—is among the field's long-term goals. To reach these goals, AI researchers have adapted and integrated a wide range of techniques, including search and mathematical optimization, formal logic, artificial neural networks, and methods based on statistics, operations research, and economics. AI also draws upon psychology, linguistics, philosophy, neuroscience, and other fields.\n",
            "Artificial intelligence was founded as an academic discipline in 1956, and the field went through multiple cycles of optimism, followed by periods of disappointment and loss of funding, known as AI winter. Funding and interest vastly increased after 2012 when deep learning outperformed previous AI techniques. This growth accelerated further after 2017 with the transformer architecture, and by the early 2020s hundreds of billions of dollars were being invested in AI (known as the \"AI boom\"). The widespread use of AI in the 21st century exposed several unintended consequences and harms in the present and raised concerns about its risks and long-term effects in the future, prompting discussions about regulatory policies to ensure the safety and benefits of the technology.\n"
          ]
        }
      ]
    },
    {
      "cell_type": "markdown",
      "source": [
        "Customizing default tool with own name, description, and other details as we see below:"
      ],
      "metadata": {
        "id": "GPCXZQev-dn_"
      }
    },
    {
      "cell_type": "code",
      "source": [
        "from langchain.agents import Tool\n",
        "\n",
        "## customize wikipedia tool --> tool always nees a function (func)\n",
        "wiki_tool_init = Tool(name='Wikipedia',\n",
        "                      func=wiki_api_wrapper.run,\n",
        "                      description='useful when you need a detailed answer about encyclopedic general knowledge.')"
      ],
      "metadata": {
        "id": "aYAqLCC898uq"
      },
      "execution_count": 15,
      "outputs": []
    },
    {
      "cell_type": "code",
      "source": [
        "## get description of custom tool\n",
        "wiki_tool_init.description"
      ],
      "metadata": {
        "colab": {
          "base_uri": "https://localhost:8080/",
          "height": 52
        },
        "id": "dfzeLdzO-8_j",
        "outputId": "c64eea19-30ff-4f3e-b0fc-89be68236be0"
      },
      "execution_count": 16,
      "outputs": [
        {
          "output_type": "execute_result",
          "data": {
            "text/plain": [
              "'useful when you need a detailed answer about encyclopedic general knowledge.'"
            ],
            "application/vnd.google.colaboratory.intrinsic+json": {
              "type": "string"
            }
          },
          "metadata": {},
          "execution_count": 16
        }
      ]
    },
    {
      "cell_type": "code",
      "source": [
        "## get wiki tool args\n",
        "wiki_tool_init.args"
      ],
      "metadata": {
        "colab": {
          "base_uri": "https://localhost:8080/"
        },
        "id": "Oi7M7-dj_BMd",
        "outputId": "4008e09e-abde-4c24-983b-86b61c10a8d1"
      },
      "execution_count": 17,
      "outputs": [
        {
          "output_type": "execute_result",
          "data": {
            "text/plain": [
              "{'tool_input': {'type': 'string'}}"
            ]
          },
          "metadata": {},
          "execution_count": 17
        }
      ]
    },
    {
      "cell_type": "code",
      "source": [
        "## invoke custom wiki tool with query\n",
        "print(wiki_tool_init.invoke({'tool_input': 'diversity, equity, inclusion'}))"
      ],
      "metadata": {
        "colab": {
          "base_uri": "https://localhost:8080/"
        },
        "id": "8FVZ-Khv_E27",
        "outputId": "84d45dd4-9ae1-40e7-c0e9-a553d9aae870"
      },
      "execution_count": 18,
      "outputs": [
        {
          "output_type": "stream",
          "name": "stdout",
          "text": [
            "Page: Diversity, equity, and inclusion\n",
            "Summary: Diversity, equity, and inclusion (DEI) are organizational frameworks which seek to promote the fair treatment and full participation of all people, particularly groups who have historically been underrepresented or subject to discrimination on the basis of identity or disability. These three notions (diversity, equity, and inclusion) together represent \"three closely linked values\" which organizations seek to institutionalize through DEI frameworks. The concepts predate this terminology and other variations include diversity, equity, inclusion and belonging (DEIB), inclusion and diversity (I&D), justice, equity, diversity and inclusion (JEDI or EDIJ), or diversity, equity, inclusion and accessibility (IDEA, DEIA or DEAI).\n",
            "Diversity refers to the presence of variety within the organizational workforce, such as in identity and identity politics. It includes gender, ethnicity, sexual orientation, disability, age, culture, class, religion, or opinion. Equity refers to concepts of fairness and justice, such as fair compensation and substantive equality. More specifically, equity usually also includes a focus on societal disparities and allocating resources and \"decision making authority to groups that have historically been disadvantaged\", and taking \"into consideration a person's unique circumstances, adjusting treatment accordingly so that the end result is equal.\" Finally, inclusion refers to creating an organizational culture that creates an experience where \"all employees feel their voices will be heard\", and a sense of belonging and integration.\n",
            "DEI is most often used to describe certain training efforts, such as diversity training. Although DEI is best known as a form of corporate training, it also finds implementation within many types of organizations, such as within academia, schools, and hospitals. Into the 2020s, DEI efforts and policies have generated criticism, some directed at the specific effectiveness of its tools, such as diversity training, and its effect on free speech and academic freedom, as well as more broadly attracting criticism on political or philosophical grounds. In addition, the term \"DEI\" has gained traction as an ethnic slur towards minority groups in the United States.\n",
            "\n",
            "\n",
            "\n",
            "Page: Canadian Centre for Diversity and Inclusion\n",
            "Summary: The Canadian Centre for Diversity and Inclusion (French: Centre canadien pour la diversité et l'inclusion) is a national charitable organization. Its mission is to help the individuals and organizations they work with be inclusive, and free of prejudice and discrimination – and to generate the awareness, dialogue and action for people to recognize diversity as an asset and not an obstacle. It was formed in 2014.\n"
          ]
        }
      ]
    },
    {
      "cell_type": "markdown",
      "source": [
        "## Tavily Search Tool\n",
        "* The Tavily Search API is a search engine optimized for LLMs and RAG, aimed at efficient, quick and persistent search results."
      ],
      "metadata": {
        "id": "Zw9ZVV5M_WCs"
      }
    },
    {
      "cell_type": "code",
      "source": [
        "from langchain_community.tools.tavily_search import TavilySearchResults\n",
        "\n",
        "##setup tavily tool\n",
        "tavily_tool = TavilySearchResults(max_results=2)"
      ],
      "metadata": {
        "id": "nCnGxS2m_OgD"
      },
      "execution_count": 19,
      "outputs": []
    },
    {
      "cell_type": "code",
      "source": [
        "## tavily args\n",
        "tavily_tool.args"
      ],
      "metadata": {
        "colab": {
          "base_uri": "https://localhost:8080/"
        },
        "id": "kIYZAsm-_n3l",
        "outputId": "ae0e78b8-151f-4e92-b966-6a701cd049bc"
      },
      "execution_count": 20,
      "outputs": [
        {
          "output_type": "execute_result",
          "data": {
            "text/plain": [
              "{'query': {'title': 'Query',\n",
              "  'description': 'search query to look up',\n",
              "  'type': 'string'}}"
            ]
          },
          "metadata": {},
          "execution_count": 20
        }
      ]
    },
    {
      "cell_type": "code",
      "source": [
        "## tavily description\n",
        "tavily_tool.description"
      ],
      "metadata": {
        "colab": {
          "base_uri": "https://localhost:8080/",
          "height": 70
        },
        "id": "-1OUyudH_qaM",
        "outputId": "3adab0d6-cd05-45d6-ee32-3a8ba0590958"
      },
      "execution_count": 21,
      "outputs": [
        {
          "output_type": "execute_result",
          "data": {
            "text/plain": [
              "'A search engine optimized for comprehensive, accurate, and trusted results. Useful for when you need to answer questions about current events. Input should be a search query.'"
            ],
            "application/vnd.google.colaboratory.intrinsic+json": {
              "type": "string"
            }
          },
          "metadata": {},
          "execution_count": 21
        }
      ]
    },
    {
      "cell_type": "code",
      "source": [
        "## get results\n",
        "results = tavily_tool.invoke(\"Tell me about Vermont\")\n",
        "results"
      ],
      "metadata": {
        "colab": {
          "base_uri": "https://localhost:8080/"
        },
        "id": "Z8ruMld2_uey",
        "outputId": "307b1519-19da-4798-898a-19aa060bda1e"
      },
      "execution_count": 23,
      "outputs": [
        {
          "output_type": "execute_result",
          "data": {
            "text/plain": [
              "[{'url': 'https://www.allamericanatlas.com/vermont-fun-facts/',\n",
              "  'content': '3. The state\\'s capital is Montpelier, and its largest city is Burlington. 4. Vermont is known as the \"Green Mountain State.\". 5. The state is famous for its picturesque landscapes, including its rolling green hills and stunning fall foliage. 7. Vermont is the leading producer of maple syrup in the United States. 8.'},\n",
              " {'url': 'https://www.britannica.com/place/Vermont',\n",
              "  'content': 'Vermont has never stood in the mainstream of the country’s history, but its people and land have poured into their country a strength and a sense of continuity that joins the achievements of the nation’s past with the purposes of its present. The steeples of white wooden churches rising above mountain-bound small towns with trim village greens, the herds of dairy cattle on sloping mountain pastures, and the red-gold leaves of tree-lined autumnal lanes are aspects of scenic Vermont that, in painting and photography, have become symbols of the rural United States.\\n On the Vermont-Massachusetts border, the northern end of the Hoosac Range enters the state, and the Taconic Range rises along the southwestern side. The wooded areas, with their small brooks and springs, produce a great variety of ferns and wildflowers; in the spring and summer they are filled with the many species of birds common to the Northeast. These people primarily seek the beauty and tranquility of Vermont’s mountains and narrow valleys and the sense of the country’s past that pervades the entire state.'}]"
            ]
          },
          "metadata": {},
          "execution_count": 23
        }
      ]
    },
    {
      "cell_type": "code",
      "source": [
        "## get results\n",
        "results = tavily_tool.invoke(\"What is the current weather in Amsterdam? from weatherapi\")\n",
        "results"
      ],
      "metadata": {
        "colab": {
          "base_uri": "https://localhost:8080/"
        },
        "id": "8jnhLE3nAHk9",
        "outputId": "6d5dba31-1fd0-4e87-ee88-1f56f8c6f15a"
      },
      "execution_count": 28,
      "outputs": [
        {
          "output_type": "execute_result",
          "data": {
            "text/plain": [
              "[{'url': 'https://www.omakchronicle.com/news/national/dutch-hit-uber-with-huge-fine-over-driver-data/article_6d686ed2-8fca-59e9-9b56-c8d1e8e5d6a5.html',\n",
              "  'content': 'Sunshine and clouds mixed. High near 85F. Winds SSW at 10 to 15 mph..\\r\\n                                \\nCloudy. Low 61F. Winds SSW at 5 to 10 mph.\\n Updated: August 26, 2024 @ 3:36 am\\n\\n\\n\\nDutch hit Uber'},\n",
              " {'url': 'https://www.finextra.com/newsarticle/43975/german-bank-lbbw-enters-crypto-market',\n",
              "  'content': \"Write a blog post about this story (membership required) Trending 10 Apr 3 4 09 Apr 0 2 2 08 Apr 2 5 09 Apr 0 1 1 Bitpanda crypto exchange spins out with €30m funding 29 June 2023 0 3 3 Bitpanda to invest $10 million in AI 16 May 2023 0 3 Crypto exchange Bitpanda makes job cuts 24 Jun 2022 JPMorgan's Barraclough joins Bitpanda as CEO of digital assets exchange 28 03 Aug 2021 Bitpanda to create 300 jobs at Polish tech hub 17 Dec 2020 Definitive Differentiators - Forging a future-proof payments model 349\\xa0downloads APP Fraud Liability: A Guide for Banks 369\\xa0downloads Mastering DORA: A Strategic Guide to Operational Resilience 542\\xa0downloads About Finextra Community Rules Register for news Contact Us Editorial Sales Sales Register for news Register Follow Us © Finextra Research 2024  Oct 2021 Bitpanda soars to $4.1 billion valuation on $263 million financing round 17 Aug 2021 Bitpanda to invest €10 million to build blockchain R&D hub  Sponsored: Join us at Money20/20 Europe 2024 - 4-6 June, Amsterdam | Use code FEX200 to save €200 on your ticket For Finextra's free daily newsletter, breaking news and flashes and weekly job board.  German bank LBBW enters crypto market Landesbank Baden-Württemberg (LBBW), the largest federal bank in Germany, has formed an alliance with crypto custodian Bitpanda. \"}]"
            ]
          },
          "metadata": {},
          "execution_count": 28
        }
      ]
    },
    {
      "cell_type": "code",
      "source": [
        "## get content\n",
        "results[0]['content']"
      ],
      "metadata": {
        "colab": {
          "base_uri": "https://localhost:8080/",
          "height": 70
        },
        "id": "SNFQveraAc-W",
        "outputId": "50f4dd3e-5c81-4908-e6c7-09190f8789dd"
      },
      "execution_count": 29,
      "outputs": [
        {
          "output_type": "execute_result",
          "data": {
            "text/plain": [
              "'Sunshine and clouds mixed. High near 85F. Winds SSW at 10 to 15 mph..\\r\\n                                \\nCloudy. Low 61F. Winds SSW at 5 to 10 mph.\\n Updated: August 26, 2024 @ 3:36 am\\n\\n\\n\\nDutch hit Uber'"
            ],
            "application/vnd.google.colaboratory.intrinsic+json": {
              "type": "string"
            }
          },
          "metadata": {},
          "execution_count": 29
        }
      ]
    },
    {
      "cell_type": "code",
      "source": [
        "## another example\n",
        "results = tavily_tool.invoke(\"Get current weather in Zurich, from weatherapi\")\n",
        "results"
      ],
      "metadata": {
        "colab": {
          "base_uri": "https://localhost:8080/"
        },
        "id": "L1ow2fhPA5Fp",
        "outputId": "6bd6875c-574f-4934-e9fd-c6dd7a7daa8d"
      },
      "execution_count": 31,
      "outputs": [
        {
          "output_type": "execute_result",
          "data": {
            "text/plain": [
              "[{'url': 'https://www.weatherapi.com/',\n",
              "  'content': \"{'location': {'name': 'Zurich', 'region': '', 'country': 'Switzerland', 'lat': 47.37, 'lon': 8.55, 'tz_id': 'Europe/Zurich', 'localtime_epoch': 1727483240, 'localtime': '2024-09-28 02:27'}, 'current': {'last_updated_epoch': 1727482500, 'last_updated': '2024-09-28 02:15', 'temp_c': 11.4, 'temp_f': 52.5, 'is_day': 0, 'condition': {'text': 'Partly cloudy', 'icon': '//cdn.weatherapi.com/weather/64x64/night/116.png', 'code': 1003}, 'wind_mph': 5.1, 'wind_kph': 8.3, 'wind_degree': 235, 'wind_dir': 'SW', 'pressure_mb': 1012.0, 'pressure_in': 29.88, 'precip_mm': 0.0, 'precip_in': 0.0, 'humidity': 76, 'cloud': 25, 'feelslike_c': 10.6, 'feelslike_f': 51.1, 'windchill_c': 6.8, 'windchill_f': 44.2, 'heatindex_c': 8.2, 'heatindex_f': 46.7, 'dewpoint_c': 5.1, 'dewpoint_f': 41.1, 'vis_km': 10.0, 'vis_miles': 6.0, 'uv': 1.0, 'gust_mph': 9.8, 'gust_kph': 15.8}}\"},\n",
              " {'url': 'https://www.meteosource.com/weather-api-zurich',\n",
              "  'content': 'Weather API - Zurich. Real-time, forecast & historical accurate data. At an affordable price, you will receive accurate and reliable data for Zurich (Zürich) that you can easily implement into your website or application. We provide weather data globally.'}]"
            ]
          },
          "metadata": {},
          "execution_count": 31
        }
      ]
    },
    {
      "cell_type": "code",
      "source": [
        "import json\n",
        "import rich\n",
        "\n",
        "## rich formats json\n",
        "rich.print_json(\n",
        "    results[0]['content'].replace('\\'','\\\"')\n",
        ")"
      ],
      "metadata": {
        "colab": {
          "base_uri": "https://localhost:8080/",
          "height": 774
        },
        "id": "udHnippPBsxJ",
        "outputId": "5ae01c2d-a9ed-4630-b65f-e99c40848d59"
      },
      "execution_count": 32,
      "outputs": [
        {
          "output_type": "display_data",
          "data": {
            "text/plain": [
              "\u001b[1m{\u001b[0m\n",
              "  \u001b[1;34m\"location\"\u001b[0m: \u001b[1m{\u001b[0m\n",
              "    \u001b[1;34m\"name\"\u001b[0m: \u001b[32m\"Zurich\"\u001b[0m,\n",
              "    \u001b[1;34m\"region\"\u001b[0m: \u001b[32m\"\"\u001b[0m,\n",
              "    \u001b[1;34m\"country\"\u001b[0m: \u001b[32m\"Switzerland\"\u001b[0m,\n",
              "    \u001b[1;34m\"lat\"\u001b[0m: \u001b[1;36m47.37\u001b[0m,\n",
              "    \u001b[1;34m\"lon\"\u001b[0m: \u001b[1;36m8.55\u001b[0m,\n",
              "    \u001b[1;34m\"tz_id\"\u001b[0m: \u001b[32m\"Europe/Zurich\"\u001b[0m,\n",
              "    \u001b[1;34m\"localtime_epoch\"\u001b[0m: \u001b[1;36m1727483240\u001b[0m,\n",
              "    \u001b[1;34m\"localtime\"\u001b[0m: \u001b[32m\"2024-09-28 02:27\"\u001b[0m\n",
              "  \u001b[1m}\u001b[0m,\n",
              "  \u001b[1;34m\"current\"\u001b[0m: \u001b[1m{\u001b[0m\n",
              "    \u001b[1;34m\"last_updated_epoch\"\u001b[0m: \u001b[1;36m1727482500\u001b[0m,\n",
              "    \u001b[1;34m\"last_updated\"\u001b[0m: \u001b[32m\"2024-09-28 02:15\"\u001b[0m,\n",
              "    \u001b[1;34m\"temp_c\"\u001b[0m: \u001b[1;36m11.4\u001b[0m,\n",
              "    \u001b[1;34m\"temp_f\"\u001b[0m: \u001b[1;36m52.5\u001b[0m,\n",
              "    \u001b[1;34m\"is_day\"\u001b[0m: \u001b[1;36m0\u001b[0m,\n",
              "    \u001b[1;34m\"condition\"\u001b[0m: \u001b[1m{\u001b[0m\n",
              "      \u001b[1;34m\"text\"\u001b[0m: \u001b[32m\"Partly cloudy\"\u001b[0m,\n",
              "      \u001b[1;34m\"icon\"\u001b[0m: \u001b[32m\"//cdn.weatherapi.com/weather/64x64/night/116.png\"\u001b[0m,\n",
              "      \u001b[1;34m\"code\"\u001b[0m: \u001b[1;36m1003\u001b[0m\n",
              "    \u001b[1m}\u001b[0m,\n",
              "    \u001b[1;34m\"wind_mph\"\u001b[0m: \u001b[1;36m5.1\u001b[0m,\n",
              "    \u001b[1;34m\"wind_kph\"\u001b[0m: \u001b[1;36m8.3\u001b[0m,\n",
              "    \u001b[1;34m\"wind_degree\"\u001b[0m: \u001b[1;36m235\u001b[0m,\n",
              "    \u001b[1;34m\"wind_dir\"\u001b[0m: \u001b[32m\"SW\"\u001b[0m,\n",
              "    \u001b[1;34m\"pressure_mb\"\u001b[0m: \u001b[1;36m1012.0\u001b[0m,\n",
              "    \u001b[1;34m\"pressure_in\"\u001b[0m: \u001b[1;36m29.88\u001b[0m,\n",
              "    \u001b[1;34m\"precip_mm\"\u001b[0m: \u001b[1;36m0.0\u001b[0m,\n",
              "    \u001b[1;34m\"precip_in\"\u001b[0m: \u001b[1;36m0.0\u001b[0m,\n",
              "    \u001b[1;34m\"humidity\"\u001b[0m: \u001b[1;36m76\u001b[0m,\n",
              "    \u001b[1;34m\"cloud\"\u001b[0m: \u001b[1;36m25\u001b[0m,\n",
              "    \u001b[1;34m\"feelslike_c\"\u001b[0m: \u001b[1;36m10.6\u001b[0m,\n",
              "    \u001b[1;34m\"feelslike_f\"\u001b[0m: \u001b[1;36m51.1\u001b[0m,\n",
              "    \u001b[1;34m\"windchill_c\"\u001b[0m: \u001b[1;36m6.8\u001b[0m,\n",
              "    \u001b[1;34m\"windchill_f\"\u001b[0m: \u001b[1;36m44.2\u001b[0m,\n",
              "    \u001b[1;34m\"heatindex_c\"\u001b[0m: \u001b[1;36m8.2\u001b[0m,\n",
              "    \u001b[1;34m\"heatindex_f\"\u001b[0m: \u001b[1;36m46.7\u001b[0m,\n",
              "    \u001b[1;34m\"dewpoint_c\"\u001b[0m: \u001b[1;36m5.1\u001b[0m,\n",
              "    \u001b[1;34m\"dewpoint_f\"\u001b[0m: \u001b[1;36m41.1\u001b[0m,\n",
              "    \u001b[1;34m\"vis_km\"\u001b[0m: \u001b[1;36m10.0\u001b[0m,\n",
              "    \u001b[1;34m\"vis_miles\"\u001b[0m: \u001b[1;36m6.0\u001b[0m,\n",
              "    \u001b[1;34m\"uv\"\u001b[0m: \u001b[1;36m1.0\u001b[0m,\n",
              "    \u001b[1;34m\"gust_mph\"\u001b[0m: \u001b[1;36m9.8\u001b[0m,\n",
              "    \u001b[1;34m\"gust_kph\"\u001b[0m: \u001b[1;36m15.8\u001b[0m\n",
              "  \u001b[1m}\u001b[0m\n",
              "\u001b[1m}\u001b[0m\n"
            ],
            "text/html": [
              "<pre style=\"white-space:pre;overflow-x:auto;line-height:normal;font-family:Menlo,'DejaVu Sans Mono',consolas,'Courier New',monospace\"><span style=\"font-weight: bold\">{</span>\n",
              "  <span style=\"color: #000080; text-decoration-color: #000080; font-weight: bold\">\"location\"</span>: <span style=\"font-weight: bold\">{</span>\n",
              "    <span style=\"color: #000080; text-decoration-color: #000080; font-weight: bold\">\"name\"</span>: <span style=\"color: #008000; text-decoration-color: #008000\">\"Zurich\"</span>,\n",
              "    <span style=\"color: #000080; text-decoration-color: #000080; font-weight: bold\">\"region\"</span>: <span style=\"color: #008000; text-decoration-color: #008000\">\"\"</span>,\n",
              "    <span style=\"color: #000080; text-decoration-color: #000080; font-weight: bold\">\"country\"</span>: <span style=\"color: #008000; text-decoration-color: #008000\">\"Switzerland\"</span>,\n",
              "    <span style=\"color: #000080; text-decoration-color: #000080; font-weight: bold\">\"lat\"</span>: <span style=\"color: #008080; text-decoration-color: #008080; font-weight: bold\">47.37</span>,\n",
              "    <span style=\"color: #000080; text-decoration-color: #000080; font-weight: bold\">\"lon\"</span>: <span style=\"color: #008080; text-decoration-color: #008080; font-weight: bold\">8.55</span>,\n",
              "    <span style=\"color: #000080; text-decoration-color: #000080; font-weight: bold\">\"tz_id\"</span>: <span style=\"color: #008000; text-decoration-color: #008000\">\"Europe/Zurich\"</span>,\n",
              "    <span style=\"color: #000080; text-decoration-color: #000080; font-weight: bold\">\"localtime_epoch\"</span>: <span style=\"color: #008080; text-decoration-color: #008080; font-weight: bold\">1727483240</span>,\n",
              "    <span style=\"color: #000080; text-decoration-color: #000080; font-weight: bold\">\"localtime\"</span>: <span style=\"color: #008000; text-decoration-color: #008000\">\"2024-09-28 02:27\"</span>\n",
              "  <span style=\"font-weight: bold\">}</span>,\n",
              "  <span style=\"color: #000080; text-decoration-color: #000080; font-weight: bold\">\"current\"</span>: <span style=\"font-weight: bold\">{</span>\n",
              "    <span style=\"color: #000080; text-decoration-color: #000080; font-weight: bold\">\"last_updated_epoch\"</span>: <span style=\"color: #008080; text-decoration-color: #008080; font-weight: bold\">1727482500</span>,\n",
              "    <span style=\"color: #000080; text-decoration-color: #000080; font-weight: bold\">\"last_updated\"</span>: <span style=\"color: #008000; text-decoration-color: #008000\">\"2024-09-28 02:15\"</span>,\n",
              "    <span style=\"color: #000080; text-decoration-color: #000080; font-weight: bold\">\"temp_c\"</span>: <span style=\"color: #008080; text-decoration-color: #008080; font-weight: bold\">11.4</span>,\n",
              "    <span style=\"color: #000080; text-decoration-color: #000080; font-weight: bold\">\"temp_f\"</span>: <span style=\"color: #008080; text-decoration-color: #008080; font-weight: bold\">52.5</span>,\n",
              "    <span style=\"color: #000080; text-decoration-color: #000080; font-weight: bold\">\"is_day\"</span>: <span style=\"color: #008080; text-decoration-color: #008080; font-weight: bold\">0</span>,\n",
              "    <span style=\"color: #000080; text-decoration-color: #000080; font-weight: bold\">\"condition\"</span>: <span style=\"font-weight: bold\">{</span>\n",
              "      <span style=\"color: #000080; text-decoration-color: #000080; font-weight: bold\">\"text\"</span>: <span style=\"color: #008000; text-decoration-color: #008000\">\"Partly cloudy\"</span>,\n",
              "      <span style=\"color: #000080; text-decoration-color: #000080; font-weight: bold\">\"icon\"</span>: <span style=\"color: #008000; text-decoration-color: #008000\">\"//cdn.weatherapi.com/weather/64x64/night/116.png\"</span>,\n",
              "      <span style=\"color: #000080; text-decoration-color: #000080; font-weight: bold\">\"code\"</span>: <span style=\"color: #008080; text-decoration-color: #008080; font-weight: bold\">1003</span>\n",
              "    <span style=\"font-weight: bold\">}</span>,\n",
              "    <span style=\"color: #000080; text-decoration-color: #000080; font-weight: bold\">\"wind_mph\"</span>: <span style=\"color: #008080; text-decoration-color: #008080; font-weight: bold\">5.1</span>,\n",
              "    <span style=\"color: #000080; text-decoration-color: #000080; font-weight: bold\">\"wind_kph\"</span>: <span style=\"color: #008080; text-decoration-color: #008080; font-weight: bold\">8.3</span>,\n",
              "    <span style=\"color: #000080; text-decoration-color: #000080; font-weight: bold\">\"wind_degree\"</span>: <span style=\"color: #008080; text-decoration-color: #008080; font-weight: bold\">235</span>,\n",
              "    <span style=\"color: #000080; text-decoration-color: #000080; font-weight: bold\">\"wind_dir\"</span>: <span style=\"color: #008000; text-decoration-color: #008000\">\"SW\"</span>,\n",
              "    <span style=\"color: #000080; text-decoration-color: #000080; font-weight: bold\">\"pressure_mb\"</span>: <span style=\"color: #008080; text-decoration-color: #008080; font-weight: bold\">1012.0</span>,\n",
              "    <span style=\"color: #000080; text-decoration-color: #000080; font-weight: bold\">\"pressure_in\"</span>: <span style=\"color: #008080; text-decoration-color: #008080; font-weight: bold\">29.88</span>,\n",
              "    <span style=\"color: #000080; text-decoration-color: #000080; font-weight: bold\">\"precip_mm\"</span>: <span style=\"color: #008080; text-decoration-color: #008080; font-weight: bold\">0.0</span>,\n",
              "    <span style=\"color: #000080; text-decoration-color: #000080; font-weight: bold\">\"precip_in\"</span>: <span style=\"color: #008080; text-decoration-color: #008080; font-weight: bold\">0.0</span>,\n",
              "    <span style=\"color: #000080; text-decoration-color: #000080; font-weight: bold\">\"humidity\"</span>: <span style=\"color: #008080; text-decoration-color: #008080; font-weight: bold\">76</span>,\n",
              "    <span style=\"color: #000080; text-decoration-color: #000080; font-weight: bold\">\"cloud\"</span>: <span style=\"color: #008080; text-decoration-color: #008080; font-weight: bold\">25</span>,\n",
              "    <span style=\"color: #000080; text-decoration-color: #000080; font-weight: bold\">\"feelslike_c\"</span>: <span style=\"color: #008080; text-decoration-color: #008080; font-weight: bold\">10.6</span>,\n",
              "    <span style=\"color: #000080; text-decoration-color: #000080; font-weight: bold\">\"feelslike_f\"</span>: <span style=\"color: #008080; text-decoration-color: #008080; font-weight: bold\">51.1</span>,\n",
              "    <span style=\"color: #000080; text-decoration-color: #000080; font-weight: bold\">\"windchill_c\"</span>: <span style=\"color: #008080; text-decoration-color: #008080; font-weight: bold\">6.8</span>,\n",
              "    <span style=\"color: #000080; text-decoration-color: #000080; font-weight: bold\">\"windchill_f\"</span>: <span style=\"color: #008080; text-decoration-color: #008080; font-weight: bold\">44.2</span>,\n",
              "    <span style=\"color: #000080; text-decoration-color: #000080; font-weight: bold\">\"heatindex_c\"</span>: <span style=\"color: #008080; text-decoration-color: #008080; font-weight: bold\">8.2</span>,\n",
              "    <span style=\"color: #000080; text-decoration-color: #000080; font-weight: bold\">\"heatindex_f\"</span>: <span style=\"color: #008080; text-decoration-color: #008080; font-weight: bold\">46.7</span>,\n",
              "    <span style=\"color: #000080; text-decoration-color: #000080; font-weight: bold\">\"dewpoint_c\"</span>: <span style=\"color: #008080; text-decoration-color: #008080; font-weight: bold\">5.1</span>,\n",
              "    <span style=\"color: #000080; text-decoration-color: #000080; font-weight: bold\">\"dewpoint_f\"</span>: <span style=\"color: #008080; text-decoration-color: #008080; font-weight: bold\">41.1</span>,\n",
              "    <span style=\"color: #000080; text-decoration-color: #000080; font-weight: bold\">\"vis_km\"</span>: <span style=\"color: #008080; text-decoration-color: #008080; font-weight: bold\">10.0</span>,\n",
              "    <span style=\"color: #000080; text-decoration-color: #000080; font-weight: bold\">\"vis_miles\"</span>: <span style=\"color: #008080; text-decoration-color: #008080; font-weight: bold\">6.0</span>,\n",
              "    <span style=\"color: #000080; text-decoration-color: #000080; font-weight: bold\">\"uv\"</span>: <span style=\"color: #008080; text-decoration-color: #008080; font-weight: bold\">1.0</span>,\n",
              "    <span style=\"color: #000080; text-decoration-color: #000080; font-weight: bold\">\"gust_mph\"</span>: <span style=\"color: #008080; text-decoration-color: #008080; font-weight: bold\">9.8</span>,\n",
              "    <span style=\"color: #000080; text-decoration-color: #000080; font-weight: bold\">\"gust_kph\"</span>: <span style=\"color: #008080; text-decoration-color: #008080; font-weight: bold\">15.8</span>\n",
              "  <span style=\"font-weight: bold\">}</span>\n",
              "<span style=\"font-weight: bold\">}</span>\n",
              "</pre>\n"
            ]
          },
          "metadata": {}
        }
      ]
    },
    {
      "cell_type": "markdown",
      "source": [
        "## DuckDuckGo Search Tool\n",
        "* Search tool for words, documents, images, videos, news, maps and text translation using the DuckDuckGo.com search engine."
      ],
      "metadata": {
        "id": "P8D7H2Q0CIvc"
      }
    },
    {
      "cell_type": "code",
      "source": [
        "from langchain_community.utilities import DuckDuckGoSearchAPIWrapper\n",
        "from langchain_community.tools import DuckDuckGoSearchResults\n",
        "\n",
        "# we choose wt-wt to just do generic and not region specific search\n",
        "# go to https://github.com/deedy5/duckduckgo_search?tab=readme-ov-file#regions for more details\n",
        "wrapper = DuckDuckGoSearchAPIWrapper(region='wt-wt', max_results=2)\n",
        "ddgs_tool = DuckDuckGoSearchResults(api_wrapper=wrapper, source='news')"
      ],
      "metadata": {
        "id": "VKZ5oaxpB_Tr"
      },
      "execution_count": 33,
      "outputs": []
    },
    {
      "cell_type": "code",
      "source": [
        "## get results\n",
        "results = ddgs_tool.invoke('Tell me about New York City')\n",
        "results"
      ],
      "metadata": {
        "colab": {
          "base_uri": "https://localhost:8080/",
          "height": 243
        },
        "id": "2Z0j1_FhC0lN",
        "outputId": "edf199cb-c552-417b-e3d4-385611b23dc8"
      },
      "execution_count": 34,
      "outputs": [
        {
          "output_type": "execute_result",
          "data": {
            "text/plain": [
              "\"[snippet: New York City, city and port located at the mouth of the Hudson River, southeastern New York state, northeastern U.S. It is the largest and most influential American metropolis, encompassing Manhattan and Staten islands, the western sections of Long Island, and a small portion of the New York state mainland to the north of Manhattan. New York City is in reality a collection of many ..., title: New York City | Layout, Map, Economy, Culture, Facts, & History, link: https://www.britannica.com/place/New-York-City], [snippet: This 5-day New York City itinerary is all about seeing the top sights and getting to know the food, history, and culture of this iconic city. We've listed some of the top attractions, like visiting the 9/11 Memorial or the Empire State Building, and also some fun local New Yorker activities!You can visit Chelsea Market for some amazing food, hit a speakeasy, or hang out in Central Park ..., title: How to Spend 5 Days in NYC: A Complete New York Itinerary, link: https://destinationlesstravel.com/five-days-in-new-york-city-itinerary/], [snippet: Here's a shortlist: This part-park, part-museum, part-concert hall swallows central Manhattan, and many of the city's most notable attractions are situated next to it or within its limits (the ..., title: 34 Best Things to Do in NYC | U.S. News Travel, link: https://travel.usnews.com/New_York_NY/Things_To_Do/], [snippet: Address: 11 W 53rd St, New York, NY 10019. #22. The Lincoln Center. The Lincoln Center is home to the Metropolitan Opera House, New York Philharmonic, New York City Opera, New York City Ballet, the School of American Ballet, Julliard School of Music, the Chamber Music Society and the Film Society., title: 25 Most Visited Attractions in New York City (Ranked), link: https://newyorksimply.com/nyc-tourist-attractions-new-york-city/]\""
            ],
            "application/vnd.google.colaboratory.intrinsic+json": {
              "type": "string"
            }
          },
          "metadata": {},
          "execution_count": 34
        }
      ]
    },
    {
      "cell_type": "code",
      "source": [
        "## clean up result\n",
        "results = [doc.strip('[]') for doc in results.split('], [')]\n",
        "results"
      ],
      "metadata": {
        "colab": {
          "base_uri": "https://localhost:8080/"
        },
        "id": "rTsJSyMKDLhR",
        "outputId": "9ebc3214-4dfe-434c-fe20-45eb6033e7b5"
      },
      "execution_count": 35,
      "outputs": [
        {
          "output_type": "execute_result",
          "data": {
            "text/plain": [
              "['snippet: New York City, city and port located at the mouth of the Hudson River, southeastern New York state, northeastern U.S. It is the largest and most influential American metropolis, encompassing Manhattan and Staten islands, the western sections of Long Island, and a small portion of the New York state mainland to the north of Manhattan. New York City is in reality a collection of many ..., title: New York City | Layout, Map, Economy, Culture, Facts, & History, link: https://www.britannica.com/place/New-York-City',\n",
              " \"snippet: This 5-day New York City itinerary is all about seeing the top sights and getting to know the food, history, and culture of this iconic city. We've listed some of the top attractions, like visiting the 9/11 Memorial or the Empire State Building, and also some fun local New Yorker activities!You can visit Chelsea Market for some amazing food, hit a speakeasy, or hang out in Central Park ..., title: How to Spend 5 Days in NYC: A Complete New York Itinerary, link: https://destinationlesstravel.com/five-days-in-new-york-city-itinerary/\",\n",
              " \"snippet: Here's a shortlist: This part-park, part-museum, part-concert hall swallows central Manhattan, and many of the city's most notable attractions are situated next to it or within its limits (the ..., title: 34 Best Things to Do in NYC | U.S. News Travel, link: https://travel.usnews.com/New_York_NY/Things_To_Do/\",\n",
              " 'snippet: Address: 11 W 53rd St, New York, NY 10019. #22. The Lincoln Center. The Lincoln Center is home to the Metropolitan Opera House, New York Philharmonic, New York City Opera, New York City Ballet, the School of American Ballet, Julliard School of Music, the Chamber Music Society and the Film Society., title: 25 Most Visited Attractions in New York City (Ranked), link: https://newyorksimply.com/nyc-tourist-attractions-new-york-city/']"
            ]
          },
          "metadata": {},
          "execution_count": 35
        }
      ]
    },
    {
      "cell_type": "code",
      "source": [
        "## another example with weather\n",
        "results = ddgs_tool.invoke('What is the current weather in Zurich')\n",
        "results"
      ],
      "metadata": {
        "colab": {
          "base_uri": "https://localhost:8080/",
          "height": 243
        },
        "id": "dooA43VSDetq",
        "outputId": "28786113-45e4-4a10-e080-2c78ab9a6ba1"
      },
      "execution_count": 36,
      "outputs": [
        {
          "output_type": "execute_result",
          "data": {
            "text/plain": [
              "\"[snippet: Allergy Outlook. Zurich, Zurich, Switzerland Weather Forecast, with current conditions, wind, air quality, and what to expect for the next 3 days., title: Zurich, Zurich, Switzerland Weather Forecast | AccuWeather, link: https://www.accuweather.com/en/ch/zurich/8050/weather-forecast/406097_pc], [snippet: Everything you need to know about today's weather in Zurich, Zurich, Switzerland. High/Low, Precipitation Chances, Sunrise/Sunset, and today's Temperature History., title: Weather Today for Zurich, Zurich, Switzerland | AccuWeather, link: https://www.accuweather.com/en/ch/zurich/8000/weather-today/405974_pc], [snippet: Zrich Weather Forecasts. Weather Underground provides local & long-range weather forecasts, weatherreports, maps & tropical weather conditions for the Zrich area., title: Zürich, Switzerland Weather Conditions | Weather Underground, link: https://www.wunderground.com/weather/ch/zürich], [snippet: Temperatures peaking at 64 °F. Overnight into Tuesday blows a light breeze (4 to 8 mph). During the day a gentle breeze is expected (8 to 12 mph). Gusts to 27 mph are possible. Winds blowing overnight from Southeast and by day from Southwest. The weather forecast for Zurich for Tuesday is likely to be accurate. UV 3., title: Weather Zurich - meteoblue, link: https://www.meteoblue.com/en/weather/week/zurich_switzerland_2657896]\""
            ],
            "application/vnd.google.colaboratory.intrinsic+json": {
              "type": "string"
            }
          },
          "metadata": {},
          "execution_count": 36
        }
      ]
    },
    {
      "cell_type": "code",
      "source": [
        "## results again\n",
        "results = [doc.strip('[]') for doc in results.split('], [')]\n",
        "results"
      ],
      "metadata": {
        "colab": {
          "base_uri": "https://localhost:8080/"
        },
        "id": "ev4yq_avD3J_",
        "outputId": "5a29873b-4a80-4662-c79b-733643509853"
      },
      "execution_count": 37,
      "outputs": [
        {
          "output_type": "execute_result",
          "data": {
            "text/plain": [
              "['snippet: Allergy Outlook. Zurich, Zurich, Switzerland Weather Forecast, with current conditions, wind, air quality, and what to expect for the next 3 days., title: Zurich, Zurich, Switzerland Weather Forecast | AccuWeather, link: https://www.accuweather.com/en/ch/zurich/8050/weather-forecast/406097_pc',\n",
              " \"snippet: Everything you need to know about today's weather in Zurich, Zurich, Switzerland. High/Low, Precipitation Chances, Sunrise/Sunset, and today's Temperature History., title: Weather Today for Zurich, Zurich, Switzerland | AccuWeather, link: https://www.accuweather.com/en/ch/zurich/8000/weather-today/405974_pc\",\n",
              " 'snippet: Zrich Weather Forecasts. Weather Underground provides local & long-range weather forecasts, weatherreports, maps & tropical weather conditions for the Zrich area., title: Zürich, Switzerland Weather Conditions | Weather Underground, link: https://www.wunderground.com/weather/ch/zürich',\n",
              " 'snippet: Temperatures peaking at 64 °F. Overnight into Tuesday blows a light breeze (4 to 8 mph). During the day a gentle breeze is expected (8 to 12 mph). Gusts to 27 mph are possible. Winds blowing overnight from Southeast and by day from Southwest. The weather forecast for Zurich for Tuesday is likely to be accurate. UV 3., title: Weather Zurich - meteoblue, link: https://www.meteoblue.com/en/weather/week/zurich_switzerland_2657896']"
            ]
          },
          "metadata": {},
          "execution_count": 37
        }
      ]
    },
    {
      "cell_type": "markdown",
      "source": [
        "# Build your own tools in LangChain\n",
        "* Tools are interfaces that an agent, chain, or LLM can use to interact with the world. They combine a few things:\n",
        "* The name of the tool\n",
        "* A description of what the tool is\n",
        "* JSON schema of what the inputs to the tool are\n",
        "* The function to call\n",
        "* Whether the result of a tool should be returned directly to the user\n",
        "\n",
        "It is useful to have this info because it can be useful to build action-taking systems.\n",
        "  * The name, description, and JSON schema can be used to prompt the LLM so it knows how to specify what action to take and then the function to call is equivalent to taking that action."
      ],
      "metadata": {
        "id": "3t9nvssuEGzp"
      }
    },
    {
      "cell_type": "markdown",
      "source": [
        "Building a very simple tool which does basic math."
      ],
      "metadata": {
        "id": "DO_QVMYaE07B"
      }
    },
    {
      "cell_type": "code",
      "source": [
        "## math tool\n",
        "from langchain_core.tools import tool\n",
        "\n",
        "@tool\n",
        "def divide(a, b):\n",
        "  \"\"\"Divide two numbers.\"\"\"\n",
        "  return a // b\n",
        "\n",
        "# inspect some attributes associated with the tool\n",
        "print(divide.name)\n",
        "print(divide.description)\n",
        "print(divide.args)"
      ],
      "metadata": {
        "colab": {
          "base_uri": "https://localhost:8080/"
        },
        "id": "oni9-4caEE5o",
        "outputId": "df3b160e-7fa3-4054-d1fc-aece0c234af8"
      },
      "execution_count": 41,
      "outputs": [
        {
          "output_type": "stream",
          "name": "stdout",
          "text": [
            "divide\n",
            "Divide two numbers.\n",
            "{'a': {'title': 'A'}, 'b': {'title': 'B'}}\n"
          ]
        }
      ]
    },
    {
      "cell_type": "code",
      "source": [
        "type(divide)"
      ],
      "metadata": {
        "colab": {
          "base_uri": "https://localhost:8080/",
          "height": 120
        },
        "id": "w-cTlOKmFNOh",
        "outputId": "faf5bb52-efb6-4a2a-9bcc-aadb0d1ed92c"
      },
      "execution_count": 42,
      "outputs": [
        {
          "output_type": "execute_result",
          "data": {
            "text/plain": [
              "langchain_core.tools.structured.StructuredTool"
            ],
            "text/html": [
              "<div style=\"max-width:800px; border: 1px solid var(--colab-border-color);\"><style>\n",
              "      pre.function-repr-contents {\n",
              "        overflow-x: auto;\n",
              "        padding: 8px 12px;\n",
              "        max-height: 500px;\n",
              "      }\n",
              "\n",
              "      pre.function-repr-contents.function-repr-contents-collapsed {\n",
              "        cursor: pointer;\n",
              "        max-height: 100px;\n",
              "      }\n",
              "    </style>\n",
              "    <pre style=\"white-space: initial; background:\n",
              "         var(--colab-secondary-surface-color); padding: 8px 12px;\n",
              "         border-bottom: 1px solid var(--colab-border-color);\"><b>langchain_core.tools.structured.StructuredTool</b><br/>def warning_emitting_wrapper(*args: Any, **kwargs: Any) -&gt; Any</pre><pre class=\"function-repr-contents function-repr-contents-collapsed\" style=\"\"><a class=\"filepath\" style=\"display:none\" href=\"#\">/usr/local/lib/python3.10/dist-packages/langchain_core/tools/structured.py</a>Tool that can operate on any number of inputs.</pre>\n",
              "      <script>\n",
              "      if (google.colab.kernel.accessAllowed && google.colab.files && google.colab.files.view) {\n",
              "        for (const element of document.querySelectorAll('.filepath')) {\n",
              "          element.style.display = 'block'\n",
              "          element.onclick = (event) => {\n",
              "            event.preventDefault();\n",
              "            event.stopPropagation();\n",
              "            google.colab.files.view(element.textContent, 23);\n",
              "          };\n",
              "        }\n",
              "      }\n",
              "      for (const element of document.querySelectorAll('.function-repr-contents')) {\n",
              "        element.onclick = (event) => {\n",
              "          event.preventDefault();\n",
              "          event.stopPropagation();\n",
              "          element.classList.toggle('function-repr-contents-collapsed');\n",
              "        };\n",
              "      }\n",
              "      </script>\n",
              "      </div>"
            ]
          },
          "metadata": {},
          "execution_count": 42
        }
      ]
    },
    {
      "cell_type": "code",
      "source": [
        "## invoke\n",
        "divide.invoke({'a': 10, 'b': 2})"
      ],
      "metadata": {
        "colab": {
          "base_uri": "https://localhost:8080/"
        },
        "id": "XS9sVUPJFTYO",
        "outputId": "18b9c0db-2363-476a-9a74-7b786ef6136b"
      },
      "execution_count": 43,
      "outputs": [
        {
          "output_type": "execute_result",
          "data": {
            "text/plain": [
              "5"
            ]
          },
          "metadata": {},
          "execution_count": 43
        }
      ]
    },
    {
      "cell_type": "code",
      "source": [
        "## invoke\n",
        "divide.invoke({'a':10.5, 'b': 2.5})"
      ],
      "metadata": {
        "colab": {
          "base_uri": "https://localhost:8080/"
        },
        "id": "o3UcHHjOFbvi",
        "outputId": "8d25630d-8baf-49a6-9445-910087b43162"
      },
      "execution_count": 44,
      "outputs": [
        {
          "output_type": "execute_result",
          "data": {
            "text/plain": [
              "4.0"
            ]
          },
          "metadata": {},
          "execution_count": 44
        }
      ]
    },
    {
      "cell_type": "markdown",
      "source": [
        "Let's now build a tool with data type enforcing"
      ],
      "metadata": {
        "id": "KOw7O6wgFq-d"
      }
    },
    {
      "cell_type": "code",
      "source": [
        "from langchain.pydantic_v1 import BaseModel, Field\n",
        "from langchain_core.tools import StructuredTool\n",
        "\n",
        "## create pydantic class\n",
        "class CalculatorInput(BaseModel):\n",
        "  a: float = Field(description=\"first number\")\n",
        "  b: float = Field(description=\"second number\")\n",
        "\n",
        "# divide function\n",
        "def divide(a: float, b: float) -> float:\n",
        "  \"\"\"Divide two numbers.\"\"\"\n",
        "  return a // b\n",
        "\n",
        "# we could use @tool decorator from above\n",
        "calculator = StructuredTool.from_function(\n",
        "    func=divide,\n",
        "    name='Calculator',\n",
        "    description='use to divide numbers',\n",
        "    args_schema=CalculatorInput,\n",
        "    return_direct=True\n",
        ")\n",
        "\n",
        "\n",
        "## lets see attributes of the tool\n",
        "print(calculator.name)\n",
        "print(calculator.description)\n",
        "print(calculator.args)"
      ],
      "metadata": {
        "colab": {
          "base_uri": "https://localhost:8080/"
        },
        "id": "TFasWMaxFpLx",
        "outputId": "f6e745c3-f63a-4fec-e70c-415d8c60bd1b"
      },
      "execution_count": 45,
      "outputs": [
        {
          "output_type": "stream",
          "name": "stdout",
          "text": [
            "Calculator\n",
            "use to divide numbers\n",
            "{'a': {'title': 'A', 'description': 'first number', 'type': 'number'}, 'b': {'title': 'B', 'description': 'second number', 'type': 'number'}}\n"
          ]
        }
      ]
    },
    {
      "cell_type": "code",
      "source": [
        "## invoke\n",
        "calculator.invoke({'a': 10, 'b': 2})"
      ],
      "metadata": {
        "colab": {
          "base_uri": "https://localhost:8080/"
        },
        "id": "2IlLC3BkG4A4",
        "outputId": "50508d73-81f7-4b02-b76e-2689df46c4bc"
      },
      "execution_count": 46,
      "outputs": [
        {
          "output_type": "execute_result",
          "data": {
            "text/plain": [
              "5.0"
            ]
          },
          "metadata": {},
          "execution_count": 46
        }
      ]
    },
    {
      "cell_type": "code",
      "source": [
        "## this errors becuase its not floating point num\n",
        "calculator.invoke({'a': 2, 'b': 'abc'})"
      ],
      "metadata": {
        "id": "Sq6ATgw7G-59"
      },
      "execution_count": null,
      "outputs": []
    },
    {
      "cell_type": "markdown",
      "source": [
        "# LLM Tool Calling in LangChain\n",
        "* Given a list of toools and a prompt, an LLM can request that 1 or more tools be invoked with appropriate args.\n",
        "* Tool calling often known as \"function calling\" is the process of LLM identifying which tools or functions to call based on input prompts."
      ],
      "metadata": {
        "id": "86CseNGvHni1"
      }
    },
    {
      "cell_type": "markdown",
      "source": [
        "* Closed source LLMs such as GPT and Claude have tools baked into their infrastructure, whereas open-source LLMs often do not.\n",
        "* We will look at both types."
      ],
      "metadata": {
        "id": "L_Jae9IBIFEQ"
      }
    },
    {
      "cell_type": "markdown",
      "source": [
        "## LLM tool calling with custom tools\n"
      ],
      "metadata": {
        "id": "RHjVirMQIWr4"
      }
    },
    {
      "cell_type": "code",
      "source": [
        "from langchain_community.tools.tavily_search import TavilySearchResults\n",
        "from langchain_core.tools import tool\n",
        "import rich\n",
        "\n",
        "## custom tool #1\n",
        "@tool\n",
        "def subtract(a: float, b: float) -> float:\n",
        "  \"\"\"Subtracts a and b.\"\"\"\n",
        "  print(a - b)\n",
        "\n",
        "## custom tool #2\n",
        "@tool\n",
        "def multiply(a: float, b: float) -> float:\n",
        "  \"\"\"Multiplies a and b.\"\"\"\n",
        "  print(a * b)\n",
        "\n",
        "## custom tool #3\n",
        "@tool\n",
        "def search_web(query: str) -> list:\n",
        "  \"\"\"Search the web for a query.\"\"\"\n",
        "  tavily_tool = TavilySearchResults(max_results=2)\n",
        "  results = tavily_tool.invoke(query)\n",
        "  for result in results:\n",
        "    print(result['content'])\n",
        "\n",
        "## custom tool #4\n",
        "@tool\n",
        "def get_weather(query: str) -> list:\n",
        "  \"\"\"Search weatherapi to get current weather.\"\"\"\n",
        "  if 'weather' not in query: #guides search tool to use weatherapi\n",
        "    query = query + \" weather from weatherapi\"\n",
        "  tavily_tool = TavilySearchResults(max_results=1)\n",
        "  result = tavily_tool.invoke(query)\n",
        "  rich.print_json(result[0]['content'].replace('\\'', '\\\"'))\n",
        "\n",
        "## custom tools\n",
        "tools = [subtract, multiply, search_web, get_weather]"
      ],
      "metadata": {
        "id": "27WFcprpHG3o"
      },
      "execution_count": 49,
      "outputs": []
    },
    {
      "cell_type": "markdown",
      "source": [
        "## Tool calling with LLMs with native support for tool or function calling\n",
        "* Many LLM providers such as Anthropic, Cohere, Google, Mistral, OpenAI, and others, support variants of tool calling features.\n",
        "* These features typically allow requests to the LLM to include available tools and their schemas and for responses to include calls to the tools."
      ],
      "metadata": {
        "id": "9ZpUIcr8Lnpj"
      }
    },
    {
      "cell_type": "code",
      "source": [
        "## openai example\n",
        "from langchain_openai import ChatOpenAI\n",
        "\n",
        "## llm\n",
        "chatgpt = ChatOpenAI(model='gpt-4', temperature=0)"
      ],
      "metadata": {
        "id": "-p0ThZOIKDmh"
      },
      "execution_count": 68,
      "outputs": []
    },
    {
      "cell_type": "code",
      "source": [
        "## call bind_tools function\n",
        "chatgpt_with_tools = chatgpt.bind_tools(tools)"
      ],
      "metadata": {
        "id": "rgOyo0Q6MSay"
      },
      "execution_count": 69,
      "outputs": []
    },
    {
      "cell_type": "code",
      "source": [
        "## prompt\n",
        "prompt = \"\"\"\n",
        "            Given the tools at your disposal, mention which tools to call for the following tasks:\n",
        "            1. What is 2.1 times 3.5\n",
        "            2. What is 30 - 12\n",
        "            3. What is the current weather in Zurich today\n",
        "            4. Can you tell me about Greenland and its capital\n",
        "        \"\"\"\n",
        "\n",
        "## invoke model and get results\n",
        "results = chatgpt_with_tools.invoke(prompt)"
      ],
      "metadata": {
        "id": "fATLzxDoMg81"
      },
      "execution_count": 88,
      "outputs": []
    },
    {
      "cell_type": "code",
      "source": [
        "results"
      ],
      "metadata": {
        "colab": {
          "base_uri": "https://localhost:8080/"
        },
        "id": "nIG2Yb2EM62V",
        "outputId": "976074cb-8a18-4834-896a-d5c8586aee84"
      },
      "execution_count": 89,
      "outputs": [
        {
          "output_type": "execute_result",
          "data": {
            "text/plain": [
              "AIMessage(content='1. For the task \"What is 2.1 times 3.5\", you would call the `functions.multiply` tool.\\n2. For the task \"What is 30 - 12\", you would call the `functions.subtract` tool.\\n3. For the task \"What is the current weather in Zurich today\", you would call the `functions.get_weather` tool.\\n4. For the task \"Can you tell me about Greenland and its capital\", you would call the `functions.search_web` tool.', response_metadata={'token_usage': {'completion_tokens': 106, 'prompt_tokens': 195, 'total_tokens': 301, 'completion_tokens_details': {'reasoning_tokens': 0}}, 'model_name': 'gpt-4', 'system_fingerprint': None, 'finish_reason': 'stop', 'logprobs': None}, id='run-9bd56526-b2e8-4bc8-b72c-387587dfdca5-0')"
            ]
          },
          "metadata": {},
          "execution_count": 89
        }
      ]
    },
    {
      "cell_type": "code",
      "source": [
        "results.tool_calls"
      ],
      "metadata": {
        "colab": {
          "base_uri": "https://localhost:8080/"
        },
        "id": "dXNy3YFeM8Te",
        "outputId": "518296ab-ccba-41f0-9067-b9f6f99f6af8"
      },
      "execution_count": 90,
      "outputs": [
        {
          "output_type": "execute_result",
          "data": {
            "text/plain": [
              "[]"
            ]
          },
          "metadata": {},
          "execution_count": 90
        }
      ]
    },
    {
      "cell_type": "markdown",
      "source": [
        "You have to call the tools yourself, the LLM wont do it for you"
      ],
      "metadata": {
        "id": "LYuS2UqMNUM0"
      }
    },
    {
      "cell_type": "code",
      "source": [
        "## toolkit defined\n",
        "toolkit = {\n",
        "    \"subtract\": subtract,\n",
        "    \"multiply\": multiply,\n",
        "    \"search_web\": search_web,\n",
        "    \"get_weather\": get_weather\n",
        "}\n",
        "\n",
        "for tool_call in results.tool_calls:\n",
        "  selected_tool = toolkit[tool_call['name'].lower()]\n",
        "  print(f\"Calling tool: {tool_call['name']}\")\n",
        "  tool_output = selected_tool.invoke(tool_call['args'])\n",
        "  print()"
      ],
      "metadata": {
        "id": "AhLX29L2M-qT"
      },
      "execution_count": 91,
      "outputs": []
    },
    {
      "cell_type": "code",
      "source": [
        "tools"
      ],
      "metadata": {
        "colab": {
          "base_uri": "https://localhost:8080/"
        },
        "id": "trn_VFxFNxVn",
        "outputId": "a1ded2b5-037c-436d-c883-7547d4fad2e9"
      },
      "execution_count": 92,
      "outputs": [
        {
          "output_type": "execute_result",
          "data": {
            "text/plain": [
              "[StructuredTool(name='subtract', description='Subtracts a and b.', args_schema=<class 'pydantic.v1.main.subtractSchema'>, func=<function subtract at 0x7ac9794fd6c0>),\n",
              " StructuredTool(name='multiply', description='Multiplies a and b.', args_schema=<class 'pydantic.v1.main.multiplySchema'>, func=<function multiply at 0x7ac9794a8ca0>),\n",
              " StructuredTool(name='search_web', description='Search the web for a query.', args_schema=<class 'pydantic.v1.main.search_webSchema'>, func=<function search_web at 0x7ac9794a8d30>),\n",
              " StructuredTool(name='get_weather', description='Search weatherapi to get current weather.', args_schema=<class 'pydantic.v1.main.get_weatherSchema'>, func=<function get_weather at 0x7ac9794a8c10>)]"
            ]
          },
          "metadata": {},
          "execution_count": 92
        }
      ]
    },
    {
      "cell_type": "markdown",
      "source": [
        "## Tool Calling for LLMs without native support for tool or function calling\n",
        "\n",
        "Some models like ChatGPT are fine tuned for tool calling and provide a dedicated APIfor tool calling. Generally speaking such models are better at tool calling than non-fine tuned models.\n",
        "\n",
        "Here we will explore an alternative method to invoke tools if youre using a model that does not natively support tool calling (even though we are using ChatGPT here which supports it, we will assume it can be any LLM which doesn't support tool calling).\n",
        "\n",
        "To do this we write a prompt that will get the model to invoke the appropriate tools."
      ],
      "metadata": {
        "id": "UIQTQbncPY3Z"
      }
    },
    {
      "cell_type": "code",
      "source": [
        "from langchain_core.output_parsers import JsonOutputParser\n",
        "from langchain_core.prompts import ChatPromptTemplate\n",
        "from langchain_core.tools import render_text_description\n",
        "\n",
        "## rendered tools\n",
        "rendered_tools = render_text_description(tools)\n",
        "print(rendered_tools)"
      ],
      "metadata": {
        "colab": {
          "base_uri": "https://localhost:8080/"
        },
        "id": "8VwC04PLN8Uk",
        "outputId": "7f1a2ab0-bc7f-41a3-ce57-bcc832f3d563"
      },
      "execution_count": 93,
      "outputs": [
        {
          "output_type": "stream",
          "name": "stdout",
          "text": [
            "subtract(a: float, b: float) -> float - Subtracts a and b.\n",
            "multiply(a: float, b: float) -> float - Multiplies a and b.\n",
            "search_web(query: str) -> list - Search the web for a query.\n",
            "get_weather(query: str) -> list - Search weatherapi to get current weather.\n"
          ]
        }
      ]
    },
    {
      "cell_type": "code",
      "source": [
        "## here is the prompt we need\n",
        "system_prompt = f\"\"\"\\\n",
        "You are an assistant that has access to the following set of tools.\n",
        "Here are the names and descriptions for each tool:\n",
        "\n",
        "(rendered tools)\n",
        "\n",
        "Given the user instructions, for each instruction do the following:\n",
        "  - Return the name and input of the tool to use.\n",
        "  - Return your response as a JSON blob with 'name' and 'arguments' keys.\n",
        "  - The 'arguments' should be a dictionary, with keys corresponding\n",
        "  to the argument names and the values corresponding to the requested values.\n",
        "\"\"\"\n",
        "\n",
        "\n",
        "## prompt template\n",
        "prompt = ChatPromptTemplate.from_messages(\n",
        "    [\n",
        "        (\"system\", system_prompt),\n",
        "        ('user', \"{input}\")\n",
        "    ]\n",
        ")"
      ],
      "metadata": {
        "id": "1kuKsJelRqD4"
      },
      "execution_count": 94,
      "outputs": []
    },
    {
      "cell_type": "code",
      "source": [
        "## give instructions\n",
        "instructions = [\n",
        "                {\"input\" : \"What is 2.1 times 3.5\"},\n",
        "                {\"input\" : \"What is 30 - 12\"},\n",
        "                {\"input\" : \"What is the current weather in Zurich\"},\n",
        "                {\"input\" : \"Tell me about Greenland and its capital\"}\n",
        "]"
      ],
      "metadata": {
        "id": "9Iw-Ny7zSZQO"
      },
      "execution_count": 95,
      "outputs": []
    },
    {
      "cell_type": "code",
      "source": [
        "## now connect this to chatgpt using LCEL\n",
        "from langchain_core.output_parsers import JsonOutputParser\n",
        "\n",
        "## LCEL chain\n",
        "chain = (prompt\n",
        "           |\n",
        "         chatgpt\n",
        "           |\n",
        "         JsonOutputParser()) ##output parser"
      ],
      "metadata": {
        "id": "jUjCblRWTW45"
      },
      "execution_count": 96,
      "outputs": []
    },
    {
      "cell_type": "code",
      "source": [
        "## map responses\n",
        "responses = chain.map().invoke(instructions)"
      ],
      "metadata": {
        "id": "Qt9H8OINToyw"
      },
      "execution_count": 97,
      "outputs": []
    },
    {
      "cell_type": "code",
      "source": [
        "## responses\n",
        "responses"
      ],
      "metadata": {
        "colab": {
          "base_uri": "https://localhost:8080/"
        },
        "id": "1zG_LYi6TxX6",
        "outputId": "720d61e3-93d4-444e-d357-43617e87ffce"
      },
      "execution_count": 98,
      "outputs": [
        {
          "output_type": "execute_result",
          "data": {
            "text/plain": [
              "[{'name': 'Multiplication Tool', 'arguments': {'num1': 2.1, 'num2': 3.5}},\n",
              " {'name': 'Subtraction Tool', 'arguments': {'minuend': 30, 'subtrahend': 12}},\n",
              " {'name': 'Weather Lookup', 'arguments': {'location': 'Zurich'}},\n",
              " {'name': 'CountryInfo', 'arguments': {'country': 'Greenland'}}]"
            ]
          },
          "metadata": {},
          "execution_count": 98
        }
      ]
    },
    {
      "cell_type": "code",
      "source": [
        "## toolkit defined\n",
        "toolkit = {\n",
        "    \"multiplication tool\": multiply,\n",
        "    \"subtraction tool\": subtract,  # Make sure the tool name matches what's in responses\n",
        "    \"weather lookup\": get_weather,\n",
        "    \"countryinfo\": search_web  # Make sure the tool name matches what's in responses\n",
        "}\n",
        "\n",
        "for tool_call in responses:\n",
        "  selected_tool = toolkit[tool_call['name'].lower()]\n",
        "  print(f\"Calling tool: {tool_call['name']}\")\n",
        "\n",
        "  # Extract arguments or provide defaults if missing\n",
        "  arguments = tool_call.get('arguments', {})  # Get arguments or an empty dict if missing\n",
        "  if selected_tool == multiply:\n",
        "      arguments = {'a': arguments.get('a', 0), 'b': arguments.get('b', 0)} # Provide defaults for 'a' and 'b'\n",
        "  elif selected_tool == subtract:\n",
        "      arguments = {'a': arguments.get('a', 0), 'b': arguments.get('b', 0)}  # Provide defaults for 'a' and 'b' if needed\n",
        "\n",
        "  tool_output = selected_tool.invoke(arguments)\n",
        "  print()"
      ],
      "metadata": {
        "id": "em7elqljUKoe"
      },
      "execution_count": null,
      "outputs": []
    },
    {
      "cell_type": "code",
      "source": [],
      "metadata": {
        "id": "0PuCtOjBULGk"
      },
      "execution_count": null,
      "outputs": []
    }
  ]
}