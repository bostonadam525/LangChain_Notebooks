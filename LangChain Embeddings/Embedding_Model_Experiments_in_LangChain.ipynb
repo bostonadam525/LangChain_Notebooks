{
  "nbformat": 4,
  "nbformat_minor": 0,
  "metadata": {
    "colab": {
      "provenance": []
    },
    "kernelspec": {
      "name": "python3",
      "display_name": "Python 3"
    },
    "language_info": {
      "name": "python"
    },
    "widgets": {
      "application/vnd.jupyter.widget-state+json": {
        "02d9c34a103a46e8b9040566464d2360": {
          "model_module": "@jupyter-widgets/controls",
          "model_name": "HBoxModel",
          "model_module_version": "1.5.0",
          "state": {
            "_dom_classes": [],
            "_model_module": "@jupyter-widgets/controls",
            "_model_module_version": "1.5.0",
            "_model_name": "HBoxModel",
            "_view_count": null,
            "_view_module": "@jupyter-widgets/controls",
            "_view_module_version": "1.5.0",
            "_view_name": "HBoxView",
            "box_style": "",
            "children": [
              "IPY_MODEL_86c1a28237da4b0aaae22c7cd8655162",
              "IPY_MODEL_650a3479e03f4c9d93577dc1cb0fe34c",
              "IPY_MODEL_537496550e30452786508013e7c0325d"
            ],
            "layout": "IPY_MODEL_c5e21c02f08f45d4ae6e467f43b24067"
          }
        },
        "86c1a28237da4b0aaae22c7cd8655162": {
          "model_module": "@jupyter-widgets/controls",
          "model_name": "HTMLModel",
          "model_module_version": "1.5.0",
          "state": {
            "_dom_classes": [],
            "_model_module": "@jupyter-widgets/controls",
            "_model_module_version": "1.5.0",
            "_model_name": "HTMLModel",
            "_view_count": null,
            "_view_module": "@jupyter-widgets/controls",
            "_view_module_version": "1.5.0",
            "_view_name": "HTMLView",
            "description": "",
            "description_tooltip": null,
            "layout": "IPY_MODEL_d79b364d98f444aaa6cd5005df10b534",
            "placeholder": "​",
            "style": "IPY_MODEL_c60a6b3259564f78b12a6e5296ddbde2",
            "value": "modules.json: 100%"
          }
        },
        "650a3479e03f4c9d93577dc1cb0fe34c": {
          "model_module": "@jupyter-widgets/controls",
          "model_name": "FloatProgressModel",
          "model_module_version": "1.5.0",
          "state": {
            "_dom_classes": [],
            "_model_module": "@jupyter-widgets/controls",
            "_model_module_version": "1.5.0",
            "_model_name": "FloatProgressModel",
            "_view_count": null,
            "_view_module": "@jupyter-widgets/controls",
            "_view_module_version": "1.5.0",
            "_view_name": "ProgressView",
            "bar_style": "success",
            "description": "",
            "description_tooltip": null,
            "layout": "IPY_MODEL_a1ae8e2d86ec4744995fb2fc66e46b81",
            "max": 229,
            "min": 0,
            "orientation": "horizontal",
            "style": "IPY_MODEL_9de353ed52404465bd964f044f1a9823",
            "value": 229
          }
        },
        "537496550e30452786508013e7c0325d": {
          "model_module": "@jupyter-widgets/controls",
          "model_name": "HTMLModel",
          "model_module_version": "1.5.0",
          "state": {
            "_dom_classes": [],
            "_model_module": "@jupyter-widgets/controls",
            "_model_module_version": "1.5.0",
            "_model_name": "HTMLModel",
            "_view_count": null,
            "_view_module": "@jupyter-widgets/controls",
            "_view_module_version": "1.5.0",
            "_view_name": "HTMLView",
            "description": "",
            "description_tooltip": null,
            "layout": "IPY_MODEL_b33faae42cf343e5bca489bbafe91846",
            "placeholder": "​",
            "style": "IPY_MODEL_364fe98a91f64399b23f74c4b0121cce",
            "value": " 229/229 [00:00&lt;00:00, 13.5kB/s]"
          }
        },
        "c5e21c02f08f45d4ae6e467f43b24067": {
          "model_module": "@jupyter-widgets/base",
          "model_name": "LayoutModel",
          "model_module_version": "1.2.0",
          "state": {
            "_model_module": "@jupyter-widgets/base",
            "_model_module_version": "1.2.0",
            "_model_name": "LayoutModel",
            "_view_count": null,
            "_view_module": "@jupyter-widgets/base",
            "_view_module_version": "1.2.0",
            "_view_name": "LayoutView",
            "align_content": null,
            "align_items": null,
            "align_self": null,
            "border": null,
            "bottom": null,
            "display": null,
            "flex": null,
            "flex_flow": null,
            "grid_area": null,
            "grid_auto_columns": null,
            "grid_auto_flow": null,
            "grid_auto_rows": null,
            "grid_column": null,
            "grid_gap": null,
            "grid_row": null,
            "grid_template_areas": null,
            "grid_template_columns": null,
            "grid_template_rows": null,
            "height": null,
            "justify_content": null,
            "justify_items": null,
            "left": null,
            "margin": null,
            "max_height": null,
            "max_width": null,
            "min_height": null,
            "min_width": null,
            "object_fit": null,
            "object_position": null,
            "order": null,
            "overflow": null,
            "overflow_x": null,
            "overflow_y": null,
            "padding": null,
            "right": null,
            "top": null,
            "visibility": null,
            "width": null
          }
        },
        "d79b364d98f444aaa6cd5005df10b534": {
          "model_module": "@jupyter-widgets/base",
          "model_name": "LayoutModel",
          "model_module_version": "1.2.0",
          "state": {
            "_model_module": "@jupyter-widgets/base",
            "_model_module_version": "1.2.0",
            "_model_name": "LayoutModel",
            "_view_count": null,
            "_view_module": "@jupyter-widgets/base",
            "_view_module_version": "1.2.0",
            "_view_name": "LayoutView",
            "align_content": null,
            "align_items": null,
            "align_self": null,
            "border": null,
            "bottom": null,
            "display": null,
            "flex": null,
            "flex_flow": null,
            "grid_area": null,
            "grid_auto_columns": null,
            "grid_auto_flow": null,
            "grid_auto_rows": null,
            "grid_column": null,
            "grid_gap": null,
            "grid_row": null,
            "grid_template_areas": null,
            "grid_template_columns": null,
            "grid_template_rows": null,
            "height": null,
            "justify_content": null,
            "justify_items": null,
            "left": null,
            "margin": null,
            "max_height": null,
            "max_width": null,
            "min_height": null,
            "min_width": null,
            "object_fit": null,
            "object_position": null,
            "order": null,
            "overflow": null,
            "overflow_x": null,
            "overflow_y": null,
            "padding": null,
            "right": null,
            "top": null,
            "visibility": null,
            "width": null
          }
        },
        "c60a6b3259564f78b12a6e5296ddbde2": {
          "model_module": "@jupyter-widgets/controls",
          "model_name": "DescriptionStyleModel",
          "model_module_version": "1.5.0",
          "state": {
            "_model_module": "@jupyter-widgets/controls",
            "_model_module_version": "1.5.0",
            "_model_name": "DescriptionStyleModel",
            "_view_count": null,
            "_view_module": "@jupyter-widgets/base",
            "_view_module_version": "1.2.0",
            "_view_name": "StyleView",
            "description_width": ""
          }
        },
        "a1ae8e2d86ec4744995fb2fc66e46b81": {
          "model_module": "@jupyter-widgets/base",
          "model_name": "LayoutModel",
          "model_module_version": "1.2.0",
          "state": {
            "_model_module": "@jupyter-widgets/base",
            "_model_module_version": "1.2.0",
            "_model_name": "LayoutModel",
            "_view_count": null,
            "_view_module": "@jupyter-widgets/base",
            "_view_module_version": "1.2.0",
            "_view_name": "LayoutView",
            "align_content": null,
            "align_items": null,
            "align_self": null,
            "border": null,
            "bottom": null,
            "display": null,
            "flex": null,
            "flex_flow": null,
            "grid_area": null,
            "grid_auto_columns": null,
            "grid_auto_flow": null,
            "grid_auto_rows": null,
            "grid_column": null,
            "grid_gap": null,
            "grid_row": null,
            "grid_template_areas": null,
            "grid_template_columns": null,
            "grid_template_rows": null,
            "height": null,
            "justify_content": null,
            "justify_items": null,
            "left": null,
            "margin": null,
            "max_height": null,
            "max_width": null,
            "min_height": null,
            "min_width": null,
            "object_fit": null,
            "object_position": null,
            "order": null,
            "overflow": null,
            "overflow_x": null,
            "overflow_y": null,
            "padding": null,
            "right": null,
            "top": null,
            "visibility": null,
            "width": null
          }
        },
        "9de353ed52404465bd964f044f1a9823": {
          "model_module": "@jupyter-widgets/controls",
          "model_name": "ProgressStyleModel",
          "model_module_version": "1.5.0",
          "state": {
            "_model_module": "@jupyter-widgets/controls",
            "_model_module_version": "1.5.0",
            "_model_name": "ProgressStyleModel",
            "_view_count": null,
            "_view_module": "@jupyter-widgets/base",
            "_view_module_version": "1.2.0",
            "_view_name": "StyleView",
            "bar_color": null,
            "description_width": ""
          }
        },
        "b33faae42cf343e5bca489bbafe91846": {
          "model_module": "@jupyter-widgets/base",
          "model_name": "LayoutModel",
          "model_module_version": "1.2.0",
          "state": {
            "_model_module": "@jupyter-widgets/base",
            "_model_module_version": "1.2.0",
            "_model_name": "LayoutModel",
            "_view_count": null,
            "_view_module": "@jupyter-widgets/base",
            "_view_module_version": "1.2.0",
            "_view_name": "LayoutView",
            "align_content": null,
            "align_items": null,
            "align_self": null,
            "border": null,
            "bottom": null,
            "display": null,
            "flex": null,
            "flex_flow": null,
            "grid_area": null,
            "grid_auto_columns": null,
            "grid_auto_flow": null,
            "grid_auto_rows": null,
            "grid_column": null,
            "grid_gap": null,
            "grid_row": null,
            "grid_template_areas": null,
            "grid_template_columns": null,
            "grid_template_rows": null,
            "height": null,
            "justify_content": null,
            "justify_items": null,
            "left": null,
            "margin": null,
            "max_height": null,
            "max_width": null,
            "min_height": null,
            "min_width": null,
            "object_fit": null,
            "object_position": null,
            "order": null,
            "overflow": null,
            "overflow_x": null,
            "overflow_y": null,
            "padding": null,
            "right": null,
            "top": null,
            "visibility": null,
            "width": null
          }
        },
        "364fe98a91f64399b23f74c4b0121cce": {
          "model_module": "@jupyter-widgets/controls",
          "model_name": "DescriptionStyleModel",
          "model_module_version": "1.5.0",
          "state": {
            "_model_module": "@jupyter-widgets/controls",
            "_model_module_version": "1.5.0",
            "_model_name": "DescriptionStyleModel",
            "_view_count": null,
            "_view_module": "@jupyter-widgets/base",
            "_view_module_version": "1.2.0",
            "_view_name": "StyleView",
            "description_width": ""
          }
        },
        "6ab1a821c060427a843391d30b7f9196": {
          "model_module": "@jupyter-widgets/controls",
          "model_name": "HBoxModel",
          "model_module_version": "1.5.0",
          "state": {
            "_dom_classes": [],
            "_model_module": "@jupyter-widgets/controls",
            "_model_module_version": "1.5.0",
            "_model_name": "HBoxModel",
            "_view_count": null,
            "_view_module": "@jupyter-widgets/controls",
            "_view_module_version": "1.5.0",
            "_view_name": "HBoxView",
            "box_style": "",
            "children": [
              "IPY_MODEL_f7dbaeccba7f4fafb036c704fa92f060",
              "IPY_MODEL_c73f9764e45c48eeadf6a8178585cf57",
              "IPY_MODEL_edf2130f817d428b9dc3f85c0fab6226"
            ],
            "layout": "IPY_MODEL_2afb7642fa79499d8d371e1f87f00606"
          }
        },
        "f7dbaeccba7f4fafb036c704fa92f060": {
          "model_module": "@jupyter-widgets/controls",
          "model_name": "HTMLModel",
          "model_module_version": "1.5.0",
          "state": {
            "_dom_classes": [],
            "_model_module": "@jupyter-widgets/controls",
            "_model_module_version": "1.5.0",
            "_model_name": "HTMLModel",
            "_view_count": null,
            "_view_module": "@jupyter-widgets/controls",
            "_view_module_version": "1.5.0",
            "_view_name": "HTMLView",
            "description": "",
            "description_tooltip": null,
            "layout": "IPY_MODEL_871377205c164c07b4286abeba3a3d8f",
            "placeholder": "​",
            "style": "IPY_MODEL_b92f778e297c4c0b93933f659fdfa9c7",
            "value": "config_sentence_transformers.json: 100%"
          }
        },
        "c73f9764e45c48eeadf6a8178585cf57": {
          "model_module": "@jupyter-widgets/controls",
          "model_name": "FloatProgressModel",
          "model_module_version": "1.5.0",
          "state": {
            "_dom_classes": [],
            "_model_module": "@jupyter-widgets/controls",
            "_model_module_version": "1.5.0",
            "_model_name": "FloatProgressModel",
            "_view_count": null,
            "_view_module": "@jupyter-widgets/controls",
            "_view_module_version": "1.5.0",
            "_view_name": "ProgressView",
            "bar_style": "success",
            "description": "",
            "description_tooltip": null,
            "layout": "IPY_MODEL_f4d9ebe6030743db9aa2a226448de7d7",
            "max": 171,
            "min": 0,
            "orientation": "horizontal",
            "style": "IPY_MODEL_6398342de288420daf215e71d66ace86",
            "value": 171
          }
        },
        "edf2130f817d428b9dc3f85c0fab6226": {
          "model_module": "@jupyter-widgets/controls",
          "model_name": "HTMLModel",
          "model_module_version": "1.5.0",
          "state": {
            "_dom_classes": [],
            "_model_module": "@jupyter-widgets/controls",
            "_model_module_version": "1.5.0",
            "_model_name": "HTMLModel",
            "_view_count": null,
            "_view_module": "@jupyter-widgets/controls",
            "_view_module_version": "1.5.0",
            "_view_name": "HTMLView",
            "description": "",
            "description_tooltip": null,
            "layout": "IPY_MODEL_6513fcb1aed643c6a137a463af402b95",
            "placeholder": "​",
            "style": "IPY_MODEL_d0c11256c15643aaa70ad93cec07dd81",
            "value": " 171/171 [00:00&lt;00:00, 6.84kB/s]"
          }
        },
        "2afb7642fa79499d8d371e1f87f00606": {
          "model_module": "@jupyter-widgets/base",
          "model_name": "LayoutModel",
          "model_module_version": "1.2.0",
          "state": {
            "_model_module": "@jupyter-widgets/base",
            "_model_module_version": "1.2.0",
            "_model_name": "LayoutModel",
            "_view_count": null,
            "_view_module": "@jupyter-widgets/base",
            "_view_module_version": "1.2.0",
            "_view_name": "LayoutView",
            "align_content": null,
            "align_items": null,
            "align_self": null,
            "border": null,
            "bottom": null,
            "display": null,
            "flex": null,
            "flex_flow": null,
            "grid_area": null,
            "grid_auto_columns": null,
            "grid_auto_flow": null,
            "grid_auto_rows": null,
            "grid_column": null,
            "grid_gap": null,
            "grid_row": null,
            "grid_template_areas": null,
            "grid_template_columns": null,
            "grid_template_rows": null,
            "height": null,
            "justify_content": null,
            "justify_items": null,
            "left": null,
            "margin": null,
            "max_height": null,
            "max_width": null,
            "min_height": null,
            "min_width": null,
            "object_fit": null,
            "object_position": null,
            "order": null,
            "overflow": null,
            "overflow_x": null,
            "overflow_y": null,
            "padding": null,
            "right": null,
            "top": null,
            "visibility": null,
            "width": null
          }
        },
        "871377205c164c07b4286abeba3a3d8f": {
          "model_module": "@jupyter-widgets/base",
          "model_name": "LayoutModel",
          "model_module_version": "1.2.0",
          "state": {
            "_model_module": "@jupyter-widgets/base",
            "_model_module_version": "1.2.0",
            "_model_name": "LayoutModel",
            "_view_count": null,
            "_view_module": "@jupyter-widgets/base",
            "_view_module_version": "1.2.0",
            "_view_name": "LayoutView",
            "align_content": null,
            "align_items": null,
            "align_self": null,
            "border": null,
            "bottom": null,
            "display": null,
            "flex": null,
            "flex_flow": null,
            "grid_area": null,
            "grid_auto_columns": null,
            "grid_auto_flow": null,
            "grid_auto_rows": null,
            "grid_column": null,
            "grid_gap": null,
            "grid_row": null,
            "grid_template_areas": null,
            "grid_template_columns": null,
            "grid_template_rows": null,
            "height": null,
            "justify_content": null,
            "justify_items": null,
            "left": null,
            "margin": null,
            "max_height": null,
            "max_width": null,
            "min_height": null,
            "min_width": null,
            "object_fit": null,
            "object_position": null,
            "order": null,
            "overflow": null,
            "overflow_x": null,
            "overflow_y": null,
            "padding": null,
            "right": null,
            "top": null,
            "visibility": null,
            "width": null
          }
        },
        "b92f778e297c4c0b93933f659fdfa9c7": {
          "model_module": "@jupyter-widgets/controls",
          "model_name": "DescriptionStyleModel",
          "model_module_version": "1.5.0",
          "state": {
            "_model_module": "@jupyter-widgets/controls",
            "_model_module_version": "1.5.0",
            "_model_name": "DescriptionStyleModel",
            "_view_count": null,
            "_view_module": "@jupyter-widgets/base",
            "_view_module_version": "1.2.0",
            "_view_name": "StyleView",
            "description_width": ""
          }
        },
        "f4d9ebe6030743db9aa2a226448de7d7": {
          "model_module": "@jupyter-widgets/base",
          "model_name": "LayoutModel",
          "model_module_version": "1.2.0",
          "state": {
            "_model_module": "@jupyter-widgets/base",
            "_model_module_version": "1.2.0",
            "_model_name": "LayoutModel",
            "_view_count": null,
            "_view_module": "@jupyter-widgets/base",
            "_view_module_version": "1.2.0",
            "_view_name": "LayoutView",
            "align_content": null,
            "align_items": null,
            "align_self": null,
            "border": null,
            "bottom": null,
            "display": null,
            "flex": null,
            "flex_flow": null,
            "grid_area": null,
            "grid_auto_columns": null,
            "grid_auto_flow": null,
            "grid_auto_rows": null,
            "grid_column": null,
            "grid_gap": null,
            "grid_row": null,
            "grid_template_areas": null,
            "grid_template_columns": null,
            "grid_template_rows": null,
            "height": null,
            "justify_content": null,
            "justify_items": null,
            "left": null,
            "margin": null,
            "max_height": null,
            "max_width": null,
            "min_height": null,
            "min_width": null,
            "object_fit": null,
            "object_position": null,
            "order": null,
            "overflow": null,
            "overflow_x": null,
            "overflow_y": null,
            "padding": null,
            "right": null,
            "top": null,
            "visibility": null,
            "width": null
          }
        },
        "6398342de288420daf215e71d66ace86": {
          "model_module": "@jupyter-widgets/controls",
          "model_name": "ProgressStyleModel",
          "model_module_version": "1.5.0",
          "state": {
            "_model_module": "@jupyter-widgets/controls",
            "_model_module_version": "1.5.0",
            "_model_name": "ProgressStyleModel",
            "_view_count": null,
            "_view_module": "@jupyter-widgets/base",
            "_view_module_version": "1.2.0",
            "_view_name": "StyleView",
            "bar_color": null,
            "description_width": ""
          }
        },
        "6513fcb1aed643c6a137a463af402b95": {
          "model_module": "@jupyter-widgets/base",
          "model_name": "LayoutModel",
          "model_module_version": "1.2.0",
          "state": {
            "_model_module": "@jupyter-widgets/base",
            "_model_module_version": "1.2.0",
            "_model_name": "LayoutModel",
            "_view_count": null,
            "_view_module": "@jupyter-widgets/base",
            "_view_module_version": "1.2.0",
            "_view_name": "LayoutView",
            "align_content": null,
            "align_items": null,
            "align_self": null,
            "border": null,
            "bottom": null,
            "display": null,
            "flex": null,
            "flex_flow": null,
            "grid_area": null,
            "grid_auto_columns": null,
            "grid_auto_flow": null,
            "grid_auto_rows": null,
            "grid_column": null,
            "grid_gap": null,
            "grid_row": null,
            "grid_template_areas": null,
            "grid_template_columns": null,
            "grid_template_rows": null,
            "height": null,
            "justify_content": null,
            "justify_items": null,
            "left": null,
            "margin": null,
            "max_height": null,
            "max_width": null,
            "min_height": null,
            "min_width": null,
            "object_fit": null,
            "object_position": null,
            "order": null,
            "overflow": null,
            "overflow_x": null,
            "overflow_y": null,
            "padding": null,
            "right": null,
            "top": null,
            "visibility": null,
            "width": null
          }
        },
        "d0c11256c15643aaa70ad93cec07dd81": {
          "model_module": "@jupyter-widgets/controls",
          "model_name": "DescriptionStyleModel",
          "model_module_version": "1.5.0",
          "state": {
            "_model_module": "@jupyter-widgets/controls",
            "_model_module_version": "1.5.0",
            "_model_name": "DescriptionStyleModel",
            "_view_count": null,
            "_view_module": "@jupyter-widgets/base",
            "_view_module_version": "1.2.0",
            "_view_name": "StyleView",
            "description_width": ""
          }
        },
        "bd7bf7669e044e2d90d8969de990449e": {
          "model_module": "@jupyter-widgets/controls",
          "model_name": "HBoxModel",
          "model_module_version": "1.5.0",
          "state": {
            "_dom_classes": [],
            "_model_module": "@jupyter-widgets/controls",
            "_model_module_version": "1.5.0",
            "_model_name": "HBoxModel",
            "_view_count": null,
            "_view_module": "@jupyter-widgets/controls",
            "_view_module_version": "1.5.0",
            "_view_name": "HBoxView",
            "box_style": "",
            "children": [
              "IPY_MODEL_e79b5e9bf966464184b60d344b64f804",
              "IPY_MODEL_b54b0214a1b24e3f8275cf8e8b9f8826",
              "IPY_MODEL_d3bdad3c9b164e7ca4c1352345c1cffc"
            ],
            "layout": "IPY_MODEL_52a134c8747c431587a492e6b9e0aba1"
          }
        },
        "e79b5e9bf966464184b60d344b64f804": {
          "model_module": "@jupyter-widgets/controls",
          "model_name": "HTMLModel",
          "model_module_version": "1.5.0",
          "state": {
            "_dom_classes": [],
            "_model_module": "@jupyter-widgets/controls",
            "_model_module_version": "1.5.0",
            "_model_name": "HTMLModel",
            "_view_count": null,
            "_view_module": "@jupyter-widgets/controls",
            "_view_module_version": "1.5.0",
            "_view_name": "HTMLView",
            "description": "",
            "description_tooltip": null,
            "layout": "IPY_MODEL_803018bf0b7e4c6b9d5be1ff2741043a",
            "placeholder": "​",
            "style": "IPY_MODEL_dc130c6a44d34c2e842cdcd1ce984fb3",
            "value": "README.md: 100%"
          }
        },
        "b54b0214a1b24e3f8275cf8e8b9f8826": {
          "model_module": "@jupyter-widgets/controls",
          "model_name": "FloatProgressModel",
          "model_module_version": "1.5.0",
          "state": {
            "_dom_classes": [],
            "_model_module": "@jupyter-widgets/controls",
            "_model_module_version": "1.5.0",
            "_model_name": "FloatProgressModel",
            "_view_count": null,
            "_view_module": "@jupyter-widgets/controls",
            "_view_module_version": "1.5.0",
            "_view_name": "ProgressView",
            "bar_style": "success",
            "description": "",
            "description_tooltip": null,
            "layout": "IPY_MODEL_52a7ec8fd9b54cb2835d84fde67e7e83",
            "max": 113474,
            "min": 0,
            "orientation": "horizontal",
            "style": "IPY_MODEL_4033e1f471dd4e73b5497a7c47e6ac54",
            "value": 113474
          }
        },
        "d3bdad3c9b164e7ca4c1352345c1cffc": {
          "model_module": "@jupyter-widgets/controls",
          "model_name": "HTMLModel",
          "model_module_version": "1.5.0",
          "state": {
            "_dom_classes": [],
            "_model_module": "@jupyter-widgets/controls",
            "_model_module_version": "1.5.0",
            "_model_name": "HTMLModel",
            "_view_count": null,
            "_view_module": "@jupyter-widgets/controls",
            "_view_module_version": "1.5.0",
            "_view_name": "HTMLView",
            "description": "",
            "description_tooltip": null,
            "layout": "IPY_MODEL_4aa4b9b65c834f298eed3586a8b36da8",
            "placeholder": "​",
            "style": "IPY_MODEL_c517f89403d0467ca282c7e7767dfb6c",
            "value": " 113k/113k [00:00&lt;00:00, 2.44MB/s]"
          }
        },
        "52a134c8747c431587a492e6b9e0aba1": {
          "model_module": "@jupyter-widgets/base",
          "model_name": "LayoutModel",
          "model_module_version": "1.2.0",
          "state": {
            "_model_module": "@jupyter-widgets/base",
            "_model_module_version": "1.2.0",
            "_model_name": "LayoutModel",
            "_view_count": null,
            "_view_module": "@jupyter-widgets/base",
            "_view_module_version": "1.2.0",
            "_view_name": "LayoutView",
            "align_content": null,
            "align_items": null,
            "align_self": null,
            "border": null,
            "bottom": null,
            "display": null,
            "flex": null,
            "flex_flow": null,
            "grid_area": null,
            "grid_auto_columns": null,
            "grid_auto_flow": null,
            "grid_auto_rows": null,
            "grid_column": null,
            "grid_gap": null,
            "grid_row": null,
            "grid_template_areas": null,
            "grid_template_columns": null,
            "grid_template_rows": null,
            "height": null,
            "justify_content": null,
            "justify_items": null,
            "left": null,
            "margin": null,
            "max_height": null,
            "max_width": null,
            "min_height": null,
            "min_width": null,
            "object_fit": null,
            "object_position": null,
            "order": null,
            "overflow": null,
            "overflow_x": null,
            "overflow_y": null,
            "padding": null,
            "right": null,
            "top": null,
            "visibility": null,
            "width": null
          }
        },
        "803018bf0b7e4c6b9d5be1ff2741043a": {
          "model_module": "@jupyter-widgets/base",
          "model_name": "LayoutModel",
          "model_module_version": "1.2.0",
          "state": {
            "_model_module": "@jupyter-widgets/base",
            "_model_module_version": "1.2.0",
            "_model_name": "LayoutModel",
            "_view_count": null,
            "_view_module": "@jupyter-widgets/base",
            "_view_module_version": "1.2.0",
            "_view_name": "LayoutView",
            "align_content": null,
            "align_items": null,
            "align_self": null,
            "border": null,
            "bottom": null,
            "display": null,
            "flex": null,
            "flex_flow": null,
            "grid_area": null,
            "grid_auto_columns": null,
            "grid_auto_flow": null,
            "grid_auto_rows": null,
            "grid_column": null,
            "grid_gap": null,
            "grid_row": null,
            "grid_template_areas": null,
            "grid_template_columns": null,
            "grid_template_rows": null,
            "height": null,
            "justify_content": null,
            "justify_items": null,
            "left": null,
            "margin": null,
            "max_height": null,
            "max_width": null,
            "min_height": null,
            "min_width": null,
            "object_fit": null,
            "object_position": null,
            "order": null,
            "overflow": null,
            "overflow_x": null,
            "overflow_y": null,
            "padding": null,
            "right": null,
            "top": null,
            "visibility": null,
            "width": null
          }
        },
        "dc130c6a44d34c2e842cdcd1ce984fb3": {
          "model_module": "@jupyter-widgets/controls",
          "model_name": "DescriptionStyleModel",
          "model_module_version": "1.5.0",
          "state": {
            "_model_module": "@jupyter-widgets/controls",
            "_model_module_version": "1.5.0",
            "_model_name": "DescriptionStyleModel",
            "_view_count": null,
            "_view_module": "@jupyter-widgets/base",
            "_view_module_version": "1.2.0",
            "_view_name": "StyleView",
            "description_width": ""
          }
        },
        "52a7ec8fd9b54cb2835d84fde67e7e83": {
          "model_module": "@jupyter-widgets/base",
          "model_name": "LayoutModel",
          "model_module_version": "1.2.0",
          "state": {
            "_model_module": "@jupyter-widgets/base",
            "_model_module_version": "1.2.0",
            "_model_name": "LayoutModel",
            "_view_count": null,
            "_view_module": "@jupyter-widgets/base",
            "_view_module_version": "1.2.0",
            "_view_name": "LayoutView",
            "align_content": null,
            "align_items": null,
            "align_self": null,
            "border": null,
            "bottom": null,
            "display": null,
            "flex": null,
            "flex_flow": null,
            "grid_area": null,
            "grid_auto_columns": null,
            "grid_auto_flow": null,
            "grid_auto_rows": null,
            "grid_column": null,
            "grid_gap": null,
            "grid_row": null,
            "grid_template_areas": null,
            "grid_template_columns": null,
            "grid_template_rows": null,
            "height": null,
            "justify_content": null,
            "justify_items": null,
            "left": null,
            "margin": null,
            "max_height": null,
            "max_width": null,
            "min_height": null,
            "min_width": null,
            "object_fit": null,
            "object_position": null,
            "order": null,
            "overflow": null,
            "overflow_x": null,
            "overflow_y": null,
            "padding": null,
            "right": null,
            "top": null,
            "visibility": null,
            "width": null
          }
        },
        "4033e1f471dd4e73b5497a7c47e6ac54": {
          "model_module": "@jupyter-widgets/controls",
          "model_name": "ProgressStyleModel",
          "model_module_version": "1.5.0",
          "state": {
            "_model_module": "@jupyter-widgets/controls",
            "_model_module_version": "1.5.0",
            "_model_name": "ProgressStyleModel",
            "_view_count": null,
            "_view_module": "@jupyter-widgets/base",
            "_view_module_version": "1.2.0",
            "_view_name": "StyleView",
            "bar_color": null,
            "description_width": ""
          }
        },
        "4aa4b9b65c834f298eed3586a8b36da8": {
          "model_module": "@jupyter-widgets/base",
          "model_name": "LayoutModel",
          "model_module_version": "1.2.0",
          "state": {
            "_model_module": "@jupyter-widgets/base",
            "_model_module_version": "1.2.0",
            "_model_name": "LayoutModel",
            "_view_count": null,
            "_view_module": "@jupyter-widgets/base",
            "_view_module_version": "1.2.0",
            "_view_name": "LayoutView",
            "align_content": null,
            "align_items": null,
            "align_self": null,
            "border": null,
            "bottom": null,
            "display": null,
            "flex": null,
            "flex_flow": null,
            "grid_area": null,
            "grid_auto_columns": null,
            "grid_auto_flow": null,
            "grid_auto_rows": null,
            "grid_column": null,
            "grid_gap": null,
            "grid_row": null,
            "grid_template_areas": null,
            "grid_template_columns": null,
            "grid_template_rows": null,
            "height": null,
            "justify_content": null,
            "justify_items": null,
            "left": null,
            "margin": null,
            "max_height": null,
            "max_width": null,
            "min_height": null,
            "min_width": null,
            "object_fit": null,
            "object_position": null,
            "order": null,
            "overflow": null,
            "overflow_x": null,
            "overflow_y": null,
            "padding": null,
            "right": null,
            "top": null,
            "visibility": null,
            "width": null
          }
        },
        "c517f89403d0467ca282c7e7767dfb6c": {
          "model_module": "@jupyter-widgets/controls",
          "model_name": "DescriptionStyleModel",
          "model_module_version": "1.5.0",
          "state": {
            "_model_module": "@jupyter-widgets/controls",
            "_model_module_version": "1.5.0",
            "_model_name": "DescriptionStyleModel",
            "_view_count": null,
            "_view_module": "@jupyter-widgets/base",
            "_view_module_version": "1.2.0",
            "_view_name": "StyleView",
            "description_width": ""
          }
        },
        "5609b4ad2037420fa7fb010f188649f0": {
          "model_module": "@jupyter-widgets/controls",
          "model_name": "HBoxModel",
          "model_module_version": "1.5.0",
          "state": {
            "_dom_classes": [],
            "_model_module": "@jupyter-widgets/controls",
            "_model_module_version": "1.5.0",
            "_model_name": "HBoxModel",
            "_view_count": null,
            "_view_module": "@jupyter-widgets/controls",
            "_view_module_version": "1.5.0",
            "_view_name": "HBoxView",
            "box_style": "",
            "children": [
              "IPY_MODEL_988143381dd648e696ebdd9dba67e13e",
              "IPY_MODEL_954f3838d8034c1b90387f729bf281e3",
              "IPY_MODEL_e79b52ea4ed143ba999e4619fa54f58e"
            ],
            "layout": "IPY_MODEL_731c2feada9b4bac80e9855cd02923e9"
          }
        },
        "988143381dd648e696ebdd9dba67e13e": {
          "model_module": "@jupyter-widgets/controls",
          "model_name": "HTMLModel",
          "model_module_version": "1.5.0",
          "state": {
            "_dom_classes": [],
            "_model_module": "@jupyter-widgets/controls",
            "_model_module_version": "1.5.0",
            "_model_name": "HTMLModel",
            "_view_count": null,
            "_view_module": "@jupyter-widgets/controls",
            "_view_module_version": "1.5.0",
            "_view_name": "HTMLView",
            "description": "",
            "description_tooltip": null,
            "layout": "IPY_MODEL_2fedfbd4385a42d491e12deaf420a8f4",
            "placeholder": "​",
            "style": "IPY_MODEL_cc286fe91903471dac9d4d6e5fca4ff5",
            "value": "sentence_bert_config.json: 100%"
          }
        },
        "954f3838d8034c1b90387f729bf281e3": {
          "model_module": "@jupyter-widgets/controls",
          "model_name": "FloatProgressModel",
          "model_module_version": "1.5.0",
          "state": {
            "_dom_classes": [],
            "_model_module": "@jupyter-widgets/controls",
            "_model_module_version": "1.5.0",
            "_model_name": "FloatProgressModel",
            "_view_count": null,
            "_view_module": "@jupyter-widgets/controls",
            "_view_module_version": "1.5.0",
            "_view_name": "ProgressView",
            "bar_style": "success",
            "description": "",
            "description_tooltip": null,
            "layout": "IPY_MODEL_f9de5f021165456b9652253810675026",
            "max": 53,
            "min": 0,
            "orientation": "horizontal",
            "style": "IPY_MODEL_2672f7cfc6f64343bccd8b2b3e6d1039",
            "value": 53
          }
        },
        "e79b52ea4ed143ba999e4619fa54f58e": {
          "model_module": "@jupyter-widgets/controls",
          "model_name": "HTMLModel",
          "model_module_version": "1.5.0",
          "state": {
            "_dom_classes": [],
            "_model_module": "@jupyter-widgets/controls",
            "_model_module_version": "1.5.0",
            "_model_name": "HTMLModel",
            "_view_count": null,
            "_view_module": "@jupyter-widgets/controls",
            "_view_module_version": "1.5.0",
            "_view_name": "HTMLView",
            "description": "",
            "description_tooltip": null,
            "layout": "IPY_MODEL_d77dae40fca940d5bc2fb7c84609292d",
            "placeholder": "​",
            "style": "IPY_MODEL_4109683eb68d4cbebc6d70599f3e704e",
            "value": " 53.0/53.0 [00:00&lt;00:00, 1.98kB/s]"
          }
        },
        "731c2feada9b4bac80e9855cd02923e9": {
          "model_module": "@jupyter-widgets/base",
          "model_name": "LayoutModel",
          "model_module_version": "1.2.0",
          "state": {
            "_model_module": "@jupyter-widgets/base",
            "_model_module_version": "1.2.0",
            "_model_name": "LayoutModel",
            "_view_count": null,
            "_view_module": "@jupyter-widgets/base",
            "_view_module_version": "1.2.0",
            "_view_name": "LayoutView",
            "align_content": null,
            "align_items": null,
            "align_self": null,
            "border": null,
            "bottom": null,
            "display": null,
            "flex": null,
            "flex_flow": null,
            "grid_area": null,
            "grid_auto_columns": null,
            "grid_auto_flow": null,
            "grid_auto_rows": null,
            "grid_column": null,
            "grid_gap": null,
            "grid_row": null,
            "grid_template_areas": null,
            "grid_template_columns": null,
            "grid_template_rows": null,
            "height": null,
            "justify_content": null,
            "justify_items": null,
            "left": null,
            "margin": null,
            "max_height": null,
            "max_width": null,
            "min_height": null,
            "min_width": null,
            "object_fit": null,
            "object_position": null,
            "order": null,
            "overflow": null,
            "overflow_x": null,
            "overflow_y": null,
            "padding": null,
            "right": null,
            "top": null,
            "visibility": null,
            "width": null
          }
        },
        "2fedfbd4385a42d491e12deaf420a8f4": {
          "model_module": "@jupyter-widgets/base",
          "model_name": "LayoutModel",
          "model_module_version": "1.2.0",
          "state": {
            "_model_module": "@jupyter-widgets/base",
            "_model_module_version": "1.2.0",
            "_model_name": "LayoutModel",
            "_view_count": null,
            "_view_module": "@jupyter-widgets/base",
            "_view_module_version": "1.2.0",
            "_view_name": "LayoutView",
            "align_content": null,
            "align_items": null,
            "align_self": null,
            "border": null,
            "bottom": null,
            "display": null,
            "flex": null,
            "flex_flow": null,
            "grid_area": null,
            "grid_auto_columns": null,
            "grid_auto_flow": null,
            "grid_auto_rows": null,
            "grid_column": null,
            "grid_gap": null,
            "grid_row": null,
            "grid_template_areas": null,
            "grid_template_columns": null,
            "grid_template_rows": null,
            "height": null,
            "justify_content": null,
            "justify_items": null,
            "left": null,
            "margin": null,
            "max_height": null,
            "max_width": null,
            "min_height": null,
            "min_width": null,
            "object_fit": null,
            "object_position": null,
            "order": null,
            "overflow": null,
            "overflow_x": null,
            "overflow_y": null,
            "padding": null,
            "right": null,
            "top": null,
            "visibility": null,
            "width": null
          }
        },
        "cc286fe91903471dac9d4d6e5fca4ff5": {
          "model_module": "@jupyter-widgets/controls",
          "model_name": "DescriptionStyleModel",
          "model_module_version": "1.5.0",
          "state": {
            "_model_module": "@jupyter-widgets/controls",
            "_model_module_version": "1.5.0",
            "_model_name": "DescriptionStyleModel",
            "_view_count": null,
            "_view_module": "@jupyter-widgets/base",
            "_view_module_version": "1.2.0",
            "_view_name": "StyleView",
            "description_width": ""
          }
        },
        "f9de5f021165456b9652253810675026": {
          "model_module": "@jupyter-widgets/base",
          "model_name": "LayoutModel",
          "model_module_version": "1.2.0",
          "state": {
            "_model_module": "@jupyter-widgets/base",
            "_model_module_version": "1.2.0",
            "_model_name": "LayoutModel",
            "_view_count": null,
            "_view_module": "@jupyter-widgets/base",
            "_view_module_version": "1.2.0",
            "_view_name": "LayoutView",
            "align_content": null,
            "align_items": null,
            "align_self": null,
            "border": null,
            "bottom": null,
            "display": null,
            "flex": null,
            "flex_flow": null,
            "grid_area": null,
            "grid_auto_columns": null,
            "grid_auto_flow": null,
            "grid_auto_rows": null,
            "grid_column": null,
            "grid_gap": null,
            "grid_row": null,
            "grid_template_areas": null,
            "grid_template_columns": null,
            "grid_template_rows": null,
            "height": null,
            "justify_content": null,
            "justify_items": null,
            "left": null,
            "margin": null,
            "max_height": null,
            "max_width": null,
            "min_height": null,
            "min_width": null,
            "object_fit": null,
            "object_position": null,
            "order": null,
            "overflow": null,
            "overflow_x": null,
            "overflow_y": null,
            "padding": null,
            "right": null,
            "top": null,
            "visibility": null,
            "width": null
          }
        },
        "2672f7cfc6f64343bccd8b2b3e6d1039": {
          "model_module": "@jupyter-widgets/controls",
          "model_name": "ProgressStyleModel",
          "model_module_version": "1.5.0",
          "state": {
            "_model_module": "@jupyter-widgets/controls",
            "_model_module_version": "1.5.0",
            "_model_name": "ProgressStyleModel",
            "_view_count": null,
            "_view_module": "@jupyter-widgets/base",
            "_view_module_version": "1.2.0",
            "_view_name": "StyleView",
            "bar_color": null,
            "description_width": ""
          }
        },
        "d77dae40fca940d5bc2fb7c84609292d": {
          "model_module": "@jupyter-widgets/base",
          "model_name": "LayoutModel",
          "model_module_version": "1.2.0",
          "state": {
            "_model_module": "@jupyter-widgets/base",
            "_model_module_version": "1.2.0",
            "_model_name": "LayoutModel",
            "_view_count": null,
            "_view_module": "@jupyter-widgets/base",
            "_view_module_version": "1.2.0",
            "_view_name": "LayoutView",
            "align_content": null,
            "align_items": null,
            "align_self": null,
            "border": null,
            "bottom": null,
            "display": null,
            "flex": null,
            "flex_flow": null,
            "grid_area": null,
            "grid_auto_columns": null,
            "grid_auto_flow": null,
            "grid_auto_rows": null,
            "grid_column": null,
            "grid_gap": null,
            "grid_row": null,
            "grid_template_areas": null,
            "grid_template_columns": null,
            "grid_template_rows": null,
            "height": null,
            "justify_content": null,
            "justify_items": null,
            "left": null,
            "margin": null,
            "max_height": null,
            "max_width": null,
            "min_height": null,
            "min_width": null,
            "object_fit": null,
            "object_position": null,
            "order": null,
            "overflow": null,
            "overflow_x": null,
            "overflow_y": null,
            "padding": null,
            "right": null,
            "top": null,
            "visibility": null,
            "width": null
          }
        },
        "4109683eb68d4cbebc6d70599f3e704e": {
          "model_module": "@jupyter-widgets/controls",
          "model_name": "DescriptionStyleModel",
          "model_module_version": "1.5.0",
          "state": {
            "_model_module": "@jupyter-widgets/controls",
            "_model_module_version": "1.5.0",
            "_model_name": "DescriptionStyleModel",
            "_view_count": null,
            "_view_module": "@jupyter-widgets/base",
            "_view_module_version": "1.2.0",
            "_view_name": "StyleView",
            "description_width": ""
          }
        },
        "cff9dcab909c457a88957baf36e3b308": {
          "model_module": "@jupyter-widgets/controls",
          "model_name": "HBoxModel",
          "model_module_version": "1.5.0",
          "state": {
            "_dom_classes": [],
            "_model_module": "@jupyter-widgets/controls",
            "_model_module_version": "1.5.0",
            "_model_name": "HBoxModel",
            "_view_count": null,
            "_view_module": "@jupyter-widgets/controls",
            "_view_module_version": "1.5.0",
            "_view_name": "HBoxView",
            "box_style": "",
            "children": [
              "IPY_MODEL_13eaee5c36c5441e88195f0e376d509e",
              "IPY_MODEL_cda0abcad7af4415b71ad2dfd4f2a35f",
              "IPY_MODEL_62e6c624ca2741f186cc873b57e21d19"
            ],
            "layout": "IPY_MODEL_82b4350a1fe34fdea11a59814dd59143"
          }
        },
        "13eaee5c36c5441e88195f0e376d509e": {
          "model_module": "@jupyter-widgets/controls",
          "model_name": "HTMLModel",
          "model_module_version": "1.5.0",
          "state": {
            "_dom_classes": [],
            "_model_module": "@jupyter-widgets/controls",
            "_model_module_version": "1.5.0",
            "_model_name": "HTMLModel",
            "_view_count": null,
            "_view_module": "@jupyter-widgets/controls",
            "_view_module_version": "1.5.0",
            "_view_name": "HTMLView",
            "description": "",
            "description_tooltip": null,
            "layout": "IPY_MODEL_192722cb13894d099dcd8004578b1154",
            "placeholder": "​",
            "style": "IPY_MODEL_1f2e08518f0a446ab9622ea0a38a8616",
            "value": "config.json: 100%"
          }
        },
        "cda0abcad7af4415b71ad2dfd4f2a35f": {
          "model_module": "@jupyter-widgets/controls",
          "model_name": "FloatProgressModel",
          "model_module_version": "1.5.0",
          "state": {
            "_dom_classes": [],
            "_model_module": "@jupyter-widgets/controls",
            "_model_module_version": "1.5.0",
            "_model_name": "FloatProgressModel",
            "_view_count": null,
            "_view_module": "@jupyter-widgets/controls",
            "_view_module_version": "1.5.0",
            "_view_name": "ProgressView",
            "bar_style": "success",
            "description": "",
            "description_tooltip": null,
            "layout": "IPY_MODEL_a480b93788d5479da75b2685d1cb2355",
            "max": 677,
            "min": 0,
            "orientation": "horizontal",
            "style": "IPY_MODEL_ce177f2d71ca4773b92a71779e02c711",
            "value": 677
          }
        },
        "62e6c624ca2741f186cc873b57e21d19": {
          "model_module": "@jupyter-widgets/controls",
          "model_name": "HTMLModel",
          "model_module_version": "1.5.0",
          "state": {
            "_dom_classes": [],
            "_model_module": "@jupyter-widgets/controls",
            "_model_module_version": "1.5.0",
            "_model_name": "HTMLModel",
            "_view_count": null,
            "_view_module": "@jupyter-widgets/controls",
            "_view_module_version": "1.5.0",
            "_view_name": "HTMLView",
            "description": "",
            "description_tooltip": null,
            "layout": "IPY_MODEL_2e82c5852b7c471a8c52121852b0a833",
            "placeholder": "​",
            "style": "IPY_MODEL_d77cd8deefd3432596afc7eb4b0c1cc5",
            "value": " 677/677 [00:00&lt;00:00, 27.2kB/s]"
          }
        },
        "82b4350a1fe34fdea11a59814dd59143": {
          "model_module": "@jupyter-widgets/base",
          "model_name": "LayoutModel",
          "model_module_version": "1.2.0",
          "state": {
            "_model_module": "@jupyter-widgets/base",
            "_model_module_version": "1.2.0",
            "_model_name": "LayoutModel",
            "_view_count": null,
            "_view_module": "@jupyter-widgets/base",
            "_view_module_version": "1.2.0",
            "_view_name": "LayoutView",
            "align_content": null,
            "align_items": null,
            "align_self": null,
            "border": null,
            "bottom": null,
            "display": null,
            "flex": null,
            "flex_flow": null,
            "grid_area": null,
            "grid_auto_columns": null,
            "grid_auto_flow": null,
            "grid_auto_rows": null,
            "grid_column": null,
            "grid_gap": null,
            "grid_row": null,
            "grid_template_areas": null,
            "grid_template_columns": null,
            "grid_template_rows": null,
            "height": null,
            "justify_content": null,
            "justify_items": null,
            "left": null,
            "margin": null,
            "max_height": null,
            "max_width": null,
            "min_height": null,
            "min_width": null,
            "object_fit": null,
            "object_position": null,
            "order": null,
            "overflow": null,
            "overflow_x": null,
            "overflow_y": null,
            "padding": null,
            "right": null,
            "top": null,
            "visibility": null,
            "width": null
          }
        },
        "192722cb13894d099dcd8004578b1154": {
          "model_module": "@jupyter-widgets/base",
          "model_name": "LayoutModel",
          "model_module_version": "1.2.0",
          "state": {
            "_model_module": "@jupyter-widgets/base",
            "_model_module_version": "1.2.0",
            "_model_name": "LayoutModel",
            "_view_count": null,
            "_view_module": "@jupyter-widgets/base",
            "_view_module_version": "1.2.0",
            "_view_name": "LayoutView",
            "align_content": null,
            "align_items": null,
            "align_self": null,
            "border": null,
            "bottom": null,
            "display": null,
            "flex": null,
            "flex_flow": null,
            "grid_area": null,
            "grid_auto_columns": null,
            "grid_auto_flow": null,
            "grid_auto_rows": null,
            "grid_column": null,
            "grid_gap": null,
            "grid_row": null,
            "grid_template_areas": null,
            "grid_template_columns": null,
            "grid_template_rows": null,
            "height": null,
            "justify_content": null,
            "justify_items": null,
            "left": null,
            "margin": null,
            "max_height": null,
            "max_width": null,
            "min_height": null,
            "min_width": null,
            "object_fit": null,
            "object_position": null,
            "order": null,
            "overflow": null,
            "overflow_x": null,
            "overflow_y": null,
            "padding": null,
            "right": null,
            "top": null,
            "visibility": null,
            "width": null
          }
        },
        "1f2e08518f0a446ab9622ea0a38a8616": {
          "model_module": "@jupyter-widgets/controls",
          "model_name": "DescriptionStyleModel",
          "model_module_version": "1.5.0",
          "state": {
            "_model_module": "@jupyter-widgets/controls",
            "_model_module_version": "1.5.0",
            "_model_name": "DescriptionStyleModel",
            "_view_count": null,
            "_view_module": "@jupyter-widgets/base",
            "_view_module_version": "1.2.0",
            "_view_name": "StyleView",
            "description_width": ""
          }
        },
        "a480b93788d5479da75b2685d1cb2355": {
          "model_module": "@jupyter-widgets/base",
          "model_name": "LayoutModel",
          "model_module_version": "1.2.0",
          "state": {
            "_model_module": "@jupyter-widgets/base",
            "_model_module_version": "1.2.0",
            "_model_name": "LayoutModel",
            "_view_count": null,
            "_view_module": "@jupyter-widgets/base",
            "_view_module_version": "1.2.0",
            "_view_name": "LayoutView",
            "align_content": null,
            "align_items": null,
            "align_self": null,
            "border": null,
            "bottom": null,
            "display": null,
            "flex": null,
            "flex_flow": null,
            "grid_area": null,
            "grid_auto_columns": null,
            "grid_auto_flow": null,
            "grid_auto_rows": null,
            "grid_column": null,
            "grid_gap": null,
            "grid_row": null,
            "grid_template_areas": null,
            "grid_template_columns": null,
            "grid_template_rows": null,
            "height": null,
            "justify_content": null,
            "justify_items": null,
            "left": null,
            "margin": null,
            "max_height": null,
            "max_width": null,
            "min_height": null,
            "min_width": null,
            "object_fit": null,
            "object_position": null,
            "order": null,
            "overflow": null,
            "overflow_x": null,
            "overflow_y": null,
            "padding": null,
            "right": null,
            "top": null,
            "visibility": null,
            "width": null
          }
        },
        "ce177f2d71ca4773b92a71779e02c711": {
          "model_module": "@jupyter-widgets/controls",
          "model_name": "ProgressStyleModel",
          "model_module_version": "1.5.0",
          "state": {
            "_model_module": "@jupyter-widgets/controls",
            "_model_module_version": "1.5.0",
            "_model_name": "ProgressStyleModel",
            "_view_count": null,
            "_view_module": "@jupyter-widgets/base",
            "_view_module_version": "1.2.0",
            "_view_name": "StyleView",
            "bar_color": null,
            "description_width": ""
          }
        },
        "2e82c5852b7c471a8c52121852b0a833": {
          "model_module": "@jupyter-widgets/base",
          "model_name": "LayoutModel",
          "model_module_version": "1.2.0",
          "state": {
            "_model_module": "@jupyter-widgets/base",
            "_model_module_version": "1.2.0",
            "_model_name": "LayoutModel",
            "_view_count": null,
            "_view_module": "@jupyter-widgets/base",
            "_view_module_version": "1.2.0",
            "_view_name": "LayoutView",
            "align_content": null,
            "align_items": null,
            "align_self": null,
            "border": null,
            "bottom": null,
            "display": null,
            "flex": null,
            "flex_flow": null,
            "grid_area": null,
            "grid_auto_columns": null,
            "grid_auto_flow": null,
            "grid_auto_rows": null,
            "grid_column": null,
            "grid_gap": null,
            "grid_row": null,
            "grid_template_areas": null,
            "grid_template_columns": null,
            "grid_template_rows": null,
            "height": null,
            "justify_content": null,
            "justify_items": null,
            "left": null,
            "margin": null,
            "max_height": null,
            "max_width": null,
            "min_height": null,
            "min_width": null,
            "object_fit": null,
            "object_position": null,
            "order": null,
            "overflow": null,
            "overflow_x": null,
            "overflow_y": null,
            "padding": null,
            "right": null,
            "top": null,
            "visibility": null,
            "width": null
          }
        },
        "d77cd8deefd3432596afc7eb4b0c1cc5": {
          "model_module": "@jupyter-widgets/controls",
          "model_name": "DescriptionStyleModel",
          "model_module_version": "1.5.0",
          "state": {
            "_model_module": "@jupyter-widgets/controls",
            "_model_module_version": "1.5.0",
            "_model_name": "DescriptionStyleModel",
            "_view_count": null,
            "_view_module": "@jupyter-widgets/base",
            "_view_module_version": "1.2.0",
            "_view_name": "StyleView",
            "description_width": ""
          }
        },
        "a070a79131474c959db4371762f459bd": {
          "model_module": "@jupyter-widgets/controls",
          "model_name": "HBoxModel",
          "model_module_version": "1.5.0",
          "state": {
            "_dom_classes": [],
            "_model_module": "@jupyter-widgets/controls",
            "_model_module_version": "1.5.0",
            "_model_name": "HBoxModel",
            "_view_count": null,
            "_view_module": "@jupyter-widgets/controls",
            "_view_module_version": "1.5.0",
            "_view_name": "HBoxView",
            "box_style": "",
            "children": [
              "IPY_MODEL_84caf85ca8df49b5a786d096acb07bf6",
              "IPY_MODEL_2da48b28d42046a4aaf3a292de7125a9",
              "IPY_MODEL_d42f051cf7d4478a8a0bf7bcf075deeb"
            ],
            "layout": "IPY_MODEL_f6998e92e4f44fd29b83d50b4ca7cf35"
          }
        },
        "84caf85ca8df49b5a786d096acb07bf6": {
          "model_module": "@jupyter-widgets/controls",
          "model_name": "HTMLModel",
          "model_module_version": "1.5.0",
          "state": {
            "_dom_classes": [],
            "_model_module": "@jupyter-widgets/controls",
            "_model_module_version": "1.5.0",
            "_model_name": "HTMLModel",
            "_view_count": null,
            "_view_module": "@jupyter-widgets/controls",
            "_view_module_version": "1.5.0",
            "_view_name": "HTMLView",
            "description": "",
            "description_tooltip": null,
            "layout": "IPY_MODEL_072505fe21ed42e596b89fe6d10ce855",
            "placeholder": "​",
            "style": "IPY_MODEL_b27db216dfe941f188cf349cda666f9a",
            "value": "model.safetensors: 100%"
          }
        },
        "2da48b28d42046a4aaf3a292de7125a9": {
          "model_module": "@jupyter-widgets/controls",
          "model_name": "FloatProgressModel",
          "model_module_version": "1.5.0",
          "state": {
            "_dom_classes": [],
            "_model_module": "@jupyter-widgets/controls",
            "_model_module_version": "1.5.0",
            "_model_name": "FloatProgressModel",
            "_view_count": null,
            "_view_module": "@jupyter-widgets/controls",
            "_view_module_version": "1.5.0",
            "_view_name": "ProgressView",
            "bar_style": "success",
            "description": "",
            "description_tooltip": null,
            "layout": "IPY_MODEL_50320a7043c24cb2a3a0a4fb3d555bf1",
            "max": 670328392,
            "min": 0,
            "orientation": "horizontal",
            "style": "IPY_MODEL_344c79ee381640249aeb91ff0d677e06",
            "value": 670328392
          }
        },
        "d42f051cf7d4478a8a0bf7bcf075deeb": {
          "model_module": "@jupyter-widgets/controls",
          "model_name": "HTMLModel",
          "model_module_version": "1.5.0",
          "state": {
            "_dom_classes": [],
            "_model_module": "@jupyter-widgets/controls",
            "_model_module_version": "1.5.0",
            "_model_name": "HTMLModel",
            "_view_count": null,
            "_view_module": "@jupyter-widgets/controls",
            "_view_module_version": "1.5.0",
            "_view_name": "HTMLView",
            "description": "",
            "description_tooltip": null,
            "layout": "IPY_MODEL_c3578756928643c187127523daeddbbc",
            "placeholder": "​",
            "style": "IPY_MODEL_782d3f3ef18f440388bc188271cf1899",
            "value": " 670M/670M [00:05&lt;00:00, 128MB/s]"
          }
        },
        "f6998e92e4f44fd29b83d50b4ca7cf35": {
          "model_module": "@jupyter-widgets/base",
          "model_name": "LayoutModel",
          "model_module_version": "1.2.0",
          "state": {
            "_model_module": "@jupyter-widgets/base",
            "_model_module_version": "1.2.0",
            "_model_name": "LayoutModel",
            "_view_count": null,
            "_view_module": "@jupyter-widgets/base",
            "_view_module_version": "1.2.0",
            "_view_name": "LayoutView",
            "align_content": null,
            "align_items": null,
            "align_self": null,
            "border": null,
            "bottom": null,
            "display": null,
            "flex": null,
            "flex_flow": null,
            "grid_area": null,
            "grid_auto_columns": null,
            "grid_auto_flow": null,
            "grid_auto_rows": null,
            "grid_column": null,
            "grid_gap": null,
            "grid_row": null,
            "grid_template_areas": null,
            "grid_template_columns": null,
            "grid_template_rows": null,
            "height": null,
            "justify_content": null,
            "justify_items": null,
            "left": null,
            "margin": null,
            "max_height": null,
            "max_width": null,
            "min_height": null,
            "min_width": null,
            "object_fit": null,
            "object_position": null,
            "order": null,
            "overflow": null,
            "overflow_x": null,
            "overflow_y": null,
            "padding": null,
            "right": null,
            "top": null,
            "visibility": null,
            "width": null
          }
        },
        "072505fe21ed42e596b89fe6d10ce855": {
          "model_module": "@jupyter-widgets/base",
          "model_name": "LayoutModel",
          "model_module_version": "1.2.0",
          "state": {
            "_model_module": "@jupyter-widgets/base",
            "_model_module_version": "1.2.0",
            "_model_name": "LayoutModel",
            "_view_count": null,
            "_view_module": "@jupyter-widgets/base",
            "_view_module_version": "1.2.0",
            "_view_name": "LayoutView",
            "align_content": null,
            "align_items": null,
            "align_self": null,
            "border": null,
            "bottom": null,
            "display": null,
            "flex": null,
            "flex_flow": null,
            "grid_area": null,
            "grid_auto_columns": null,
            "grid_auto_flow": null,
            "grid_auto_rows": null,
            "grid_column": null,
            "grid_gap": null,
            "grid_row": null,
            "grid_template_areas": null,
            "grid_template_columns": null,
            "grid_template_rows": null,
            "height": null,
            "justify_content": null,
            "justify_items": null,
            "left": null,
            "margin": null,
            "max_height": null,
            "max_width": null,
            "min_height": null,
            "min_width": null,
            "object_fit": null,
            "object_position": null,
            "order": null,
            "overflow": null,
            "overflow_x": null,
            "overflow_y": null,
            "padding": null,
            "right": null,
            "top": null,
            "visibility": null,
            "width": null
          }
        },
        "b27db216dfe941f188cf349cda666f9a": {
          "model_module": "@jupyter-widgets/controls",
          "model_name": "DescriptionStyleModel",
          "model_module_version": "1.5.0",
          "state": {
            "_model_module": "@jupyter-widgets/controls",
            "_model_module_version": "1.5.0",
            "_model_name": "DescriptionStyleModel",
            "_view_count": null,
            "_view_module": "@jupyter-widgets/base",
            "_view_module_version": "1.2.0",
            "_view_name": "StyleView",
            "description_width": ""
          }
        },
        "50320a7043c24cb2a3a0a4fb3d555bf1": {
          "model_module": "@jupyter-widgets/base",
          "model_name": "LayoutModel",
          "model_module_version": "1.2.0",
          "state": {
            "_model_module": "@jupyter-widgets/base",
            "_model_module_version": "1.2.0",
            "_model_name": "LayoutModel",
            "_view_count": null,
            "_view_module": "@jupyter-widgets/base",
            "_view_module_version": "1.2.0",
            "_view_name": "LayoutView",
            "align_content": null,
            "align_items": null,
            "align_self": null,
            "border": null,
            "bottom": null,
            "display": null,
            "flex": null,
            "flex_flow": null,
            "grid_area": null,
            "grid_auto_columns": null,
            "grid_auto_flow": null,
            "grid_auto_rows": null,
            "grid_column": null,
            "grid_gap": null,
            "grid_row": null,
            "grid_template_areas": null,
            "grid_template_columns": null,
            "grid_template_rows": null,
            "height": null,
            "justify_content": null,
            "justify_items": null,
            "left": null,
            "margin": null,
            "max_height": null,
            "max_width": null,
            "min_height": null,
            "min_width": null,
            "object_fit": null,
            "object_position": null,
            "order": null,
            "overflow": null,
            "overflow_x": null,
            "overflow_y": null,
            "padding": null,
            "right": null,
            "top": null,
            "visibility": null,
            "width": null
          }
        },
        "344c79ee381640249aeb91ff0d677e06": {
          "model_module": "@jupyter-widgets/controls",
          "model_name": "ProgressStyleModel",
          "model_module_version": "1.5.0",
          "state": {
            "_model_module": "@jupyter-widgets/controls",
            "_model_module_version": "1.5.0",
            "_model_name": "ProgressStyleModel",
            "_view_count": null,
            "_view_module": "@jupyter-widgets/base",
            "_view_module_version": "1.2.0",
            "_view_name": "StyleView",
            "bar_color": null,
            "description_width": ""
          }
        },
        "c3578756928643c187127523daeddbbc": {
          "model_module": "@jupyter-widgets/base",
          "model_name": "LayoutModel",
          "model_module_version": "1.2.0",
          "state": {
            "_model_module": "@jupyter-widgets/base",
            "_model_module_version": "1.2.0",
            "_model_name": "LayoutModel",
            "_view_count": null,
            "_view_module": "@jupyter-widgets/base",
            "_view_module_version": "1.2.0",
            "_view_name": "LayoutView",
            "align_content": null,
            "align_items": null,
            "align_self": null,
            "border": null,
            "bottom": null,
            "display": null,
            "flex": null,
            "flex_flow": null,
            "grid_area": null,
            "grid_auto_columns": null,
            "grid_auto_flow": null,
            "grid_auto_rows": null,
            "grid_column": null,
            "grid_gap": null,
            "grid_row": null,
            "grid_template_areas": null,
            "grid_template_columns": null,
            "grid_template_rows": null,
            "height": null,
            "justify_content": null,
            "justify_items": null,
            "left": null,
            "margin": null,
            "max_height": null,
            "max_width": null,
            "min_height": null,
            "min_width": null,
            "object_fit": null,
            "object_position": null,
            "order": null,
            "overflow": null,
            "overflow_x": null,
            "overflow_y": null,
            "padding": null,
            "right": null,
            "top": null,
            "visibility": null,
            "width": null
          }
        },
        "782d3f3ef18f440388bc188271cf1899": {
          "model_module": "@jupyter-widgets/controls",
          "model_name": "DescriptionStyleModel",
          "model_module_version": "1.5.0",
          "state": {
            "_model_module": "@jupyter-widgets/controls",
            "_model_module_version": "1.5.0",
            "_model_name": "DescriptionStyleModel",
            "_view_count": null,
            "_view_module": "@jupyter-widgets/base",
            "_view_module_version": "1.2.0",
            "_view_name": "StyleView",
            "description_width": ""
          }
        },
        "fa289a3546bf4724abbc29ba77f612df": {
          "model_module": "@jupyter-widgets/controls",
          "model_name": "HBoxModel",
          "model_module_version": "1.5.0",
          "state": {
            "_dom_classes": [],
            "_model_module": "@jupyter-widgets/controls",
            "_model_module_version": "1.5.0",
            "_model_name": "HBoxModel",
            "_view_count": null,
            "_view_module": "@jupyter-widgets/controls",
            "_view_module_version": "1.5.0",
            "_view_name": "HBoxView",
            "box_style": "",
            "children": [
              "IPY_MODEL_89a61bbdba6643a39d495fa3fc679529",
              "IPY_MODEL_4c1ae3706ab84bb58e6d61d57b75fb90",
              "IPY_MODEL_d85d3c151fca45b9841273afef0b9438"
            ],
            "layout": "IPY_MODEL_0012bcbc0a1e4462b92a7265ecdc8126"
          }
        },
        "89a61bbdba6643a39d495fa3fc679529": {
          "model_module": "@jupyter-widgets/controls",
          "model_name": "HTMLModel",
          "model_module_version": "1.5.0",
          "state": {
            "_dom_classes": [],
            "_model_module": "@jupyter-widgets/controls",
            "_model_module_version": "1.5.0",
            "_model_name": "HTMLModel",
            "_view_count": null,
            "_view_module": "@jupyter-widgets/controls",
            "_view_module_version": "1.5.0",
            "_view_name": "HTMLView",
            "description": "",
            "description_tooltip": null,
            "layout": "IPY_MODEL_9a00b767672142efbc19fa22f83bd99b",
            "placeholder": "​",
            "style": "IPY_MODEL_dd042a7e4b0648bda6df95f46b2da6ae",
            "value": "tokenizer_config.json: 100%"
          }
        },
        "4c1ae3706ab84bb58e6d61d57b75fb90": {
          "model_module": "@jupyter-widgets/controls",
          "model_name": "FloatProgressModel",
          "model_module_version": "1.5.0",
          "state": {
            "_dom_classes": [],
            "_model_module": "@jupyter-widgets/controls",
            "_model_module_version": "1.5.0",
            "_model_name": "FloatProgressModel",
            "_view_count": null,
            "_view_module": "@jupyter-widgets/controls",
            "_view_module_version": "1.5.0",
            "_view_name": "ProgressView",
            "bar_style": "success",
            "description": "",
            "description_tooltip": null,
            "layout": "IPY_MODEL_4dbee448de2a47a8bccfc757e6310608",
            "max": 1242,
            "min": 0,
            "orientation": "horizontal",
            "style": "IPY_MODEL_40559887ee9b4401ac6c2812f78935e9",
            "value": 1242
          }
        },
        "d85d3c151fca45b9841273afef0b9438": {
          "model_module": "@jupyter-widgets/controls",
          "model_name": "HTMLModel",
          "model_module_version": "1.5.0",
          "state": {
            "_dom_classes": [],
            "_model_module": "@jupyter-widgets/controls",
            "_model_module_version": "1.5.0",
            "_model_name": "HTMLModel",
            "_view_count": null,
            "_view_module": "@jupyter-widgets/controls",
            "_view_module_version": "1.5.0",
            "_view_name": "HTMLView",
            "description": "",
            "description_tooltip": null,
            "layout": "IPY_MODEL_ba9135b6843c43a3b64c4a867d12b594",
            "placeholder": "​",
            "style": "IPY_MODEL_61d65808c7d14cf785a9e34a4c8a8968",
            "value": " 1.24k/1.24k [00:00&lt;00:00, 33.6kB/s]"
          }
        },
        "0012bcbc0a1e4462b92a7265ecdc8126": {
          "model_module": "@jupyter-widgets/base",
          "model_name": "LayoutModel",
          "model_module_version": "1.2.0",
          "state": {
            "_model_module": "@jupyter-widgets/base",
            "_model_module_version": "1.2.0",
            "_model_name": "LayoutModel",
            "_view_count": null,
            "_view_module": "@jupyter-widgets/base",
            "_view_module_version": "1.2.0",
            "_view_name": "LayoutView",
            "align_content": null,
            "align_items": null,
            "align_self": null,
            "border": null,
            "bottom": null,
            "display": null,
            "flex": null,
            "flex_flow": null,
            "grid_area": null,
            "grid_auto_columns": null,
            "grid_auto_flow": null,
            "grid_auto_rows": null,
            "grid_column": null,
            "grid_gap": null,
            "grid_row": null,
            "grid_template_areas": null,
            "grid_template_columns": null,
            "grid_template_rows": null,
            "height": null,
            "justify_content": null,
            "justify_items": null,
            "left": null,
            "margin": null,
            "max_height": null,
            "max_width": null,
            "min_height": null,
            "min_width": null,
            "object_fit": null,
            "object_position": null,
            "order": null,
            "overflow": null,
            "overflow_x": null,
            "overflow_y": null,
            "padding": null,
            "right": null,
            "top": null,
            "visibility": null,
            "width": null
          }
        },
        "9a00b767672142efbc19fa22f83bd99b": {
          "model_module": "@jupyter-widgets/base",
          "model_name": "LayoutModel",
          "model_module_version": "1.2.0",
          "state": {
            "_model_module": "@jupyter-widgets/base",
            "_model_module_version": "1.2.0",
            "_model_name": "LayoutModel",
            "_view_count": null,
            "_view_module": "@jupyter-widgets/base",
            "_view_module_version": "1.2.0",
            "_view_name": "LayoutView",
            "align_content": null,
            "align_items": null,
            "align_self": null,
            "border": null,
            "bottom": null,
            "display": null,
            "flex": null,
            "flex_flow": null,
            "grid_area": null,
            "grid_auto_columns": null,
            "grid_auto_flow": null,
            "grid_auto_rows": null,
            "grid_column": null,
            "grid_gap": null,
            "grid_row": null,
            "grid_template_areas": null,
            "grid_template_columns": null,
            "grid_template_rows": null,
            "height": null,
            "justify_content": null,
            "justify_items": null,
            "left": null,
            "margin": null,
            "max_height": null,
            "max_width": null,
            "min_height": null,
            "min_width": null,
            "object_fit": null,
            "object_position": null,
            "order": null,
            "overflow": null,
            "overflow_x": null,
            "overflow_y": null,
            "padding": null,
            "right": null,
            "top": null,
            "visibility": null,
            "width": null
          }
        },
        "dd042a7e4b0648bda6df95f46b2da6ae": {
          "model_module": "@jupyter-widgets/controls",
          "model_name": "DescriptionStyleModel",
          "model_module_version": "1.5.0",
          "state": {
            "_model_module": "@jupyter-widgets/controls",
            "_model_module_version": "1.5.0",
            "_model_name": "DescriptionStyleModel",
            "_view_count": null,
            "_view_module": "@jupyter-widgets/base",
            "_view_module_version": "1.2.0",
            "_view_name": "StyleView",
            "description_width": ""
          }
        },
        "4dbee448de2a47a8bccfc757e6310608": {
          "model_module": "@jupyter-widgets/base",
          "model_name": "LayoutModel",
          "model_module_version": "1.2.0",
          "state": {
            "_model_module": "@jupyter-widgets/base",
            "_model_module_version": "1.2.0",
            "_model_name": "LayoutModel",
            "_view_count": null,
            "_view_module": "@jupyter-widgets/base",
            "_view_module_version": "1.2.0",
            "_view_name": "LayoutView",
            "align_content": null,
            "align_items": null,
            "align_self": null,
            "border": null,
            "bottom": null,
            "display": null,
            "flex": null,
            "flex_flow": null,
            "grid_area": null,
            "grid_auto_columns": null,
            "grid_auto_flow": null,
            "grid_auto_rows": null,
            "grid_column": null,
            "grid_gap": null,
            "grid_row": null,
            "grid_template_areas": null,
            "grid_template_columns": null,
            "grid_template_rows": null,
            "height": null,
            "justify_content": null,
            "justify_items": null,
            "left": null,
            "margin": null,
            "max_height": null,
            "max_width": null,
            "min_height": null,
            "min_width": null,
            "object_fit": null,
            "object_position": null,
            "order": null,
            "overflow": null,
            "overflow_x": null,
            "overflow_y": null,
            "padding": null,
            "right": null,
            "top": null,
            "visibility": null,
            "width": null
          }
        },
        "40559887ee9b4401ac6c2812f78935e9": {
          "model_module": "@jupyter-widgets/controls",
          "model_name": "ProgressStyleModel",
          "model_module_version": "1.5.0",
          "state": {
            "_model_module": "@jupyter-widgets/controls",
            "_model_module_version": "1.5.0",
            "_model_name": "ProgressStyleModel",
            "_view_count": null,
            "_view_module": "@jupyter-widgets/base",
            "_view_module_version": "1.2.0",
            "_view_name": "StyleView",
            "bar_color": null,
            "description_width": ""
          }
        },
        "ba9135b6843c43a3b64c4a867d12b594": {
          "model_module": "@jupyter-widgets/base",
          "model_name": "LayoutModel",
          "model_module_version": "1.2.0",
          "state": {
            "_model_module": "@jupyter-widgets/base",
            "_model_module_version": "1.2.0",
            "_model_name": "LayoutModel",
            "_view_count": null,
            "_view_module": "@jupyter-widgets/base",
            "_view_module_version": "1.2.0",
            "_view_name": "LayoutView",
            "align_content": null,
            "align_items": null,
            "align_self": null,
            "border": null,
            "bottom": null,
            "display": null,
            "flex": null,
            "flex_flow": null,
            "grid_area": null,
            "grid_auto_columns": null,
            "grid_auto_flow": null,
            "grid_auto_rows": null,
            "grid_column": null,
            "grid_gap": null,
            "grid_row": null,
            "grid_template_areas": null,
            "grid_template_columns": null,
            "grid_template_rows": null,
            "height": null,
            "justify_content": null,
            "justify_items": null,
            "left": null,
            "margin": null,
            "max_height": null,
            "max_width": null,
            "min_height": null,
            "min_width": null,
            "object_fit": null,
            "object_position": null,
            "order": null,
            "overflow": null,
            "overflow_x": null,
            "overflow_y": null,
            "padding": null,
            "right": null,
            "top": null,
            "visibility": null,
            "width": null
          }
        },
        "61d65808c7d14cf785a9e34a4c8a8968": {
          "model_module": "@jupyter-widgets/controls",
          "model_name": "DescriptionStyleModel",
          "model_module_version": "1.5.0",
          "state": {
            "_model_module": "@jupyter-widgets/controls",
            "_model_module_version": "1.5.0",
            "_model_name": "DescriptionStyleModel",
            "_view_count": null,
            "_view_module": "@jupyter-widgets/base",
            "_view_module_version": "1.2.0",
            "_view_name": "StyleView",
            "description_width": ""
          }
        },
        "547d0fb140814f66abf1576df030b873": {
          "model_module": "@jupyter-widgets/controls",
          "model_name": "HBoxModel",
          "model_module_version": "1.5.0",
          "state": {
            "_dom_classes": [],
            "_model_module": "@jupyter-widgets/controls",
            "_model_module_version": "1.5.0",
            "_model_name": "HBoxModel",
            "_view_count": null,
            "_view_module": "@jupyter-widgets/controls",
            "_view_module_version": "1.5.0",
            "_view_name": "HBoxView",
            "box_style": "",
            "children": [
              "IPY_MODEL_1e703d27447b4f16984645b5172ed0a1",
              "IPY_MODEL_0cd3a2d5e99e46c88b20104ae574c731",
              "IPY_MODEL_63f23f85f166492abc9ffbed70ee8ee2"
            ],
            "layout": "IPY_MODEL_4a69c677fb734ab5b6ffc42eb3dc399f"
          }
        },
        "1e703d27447b4f16984645b5172ed0a1": {
          "model_module": "@jupyter-widgets/controls",
          "model_name": "HTMLModel",
          "model_module_version": "1.5.0",
          "state": {
            "_dom_classes": [],
            "_model_module": "@jupyter-widgets/controls",
            "_model_module_version": "1.5.0",
            "_model_name": "HTMLModel",
            "_view_count": null,
            "_view_module": "@jupyter-widgets/controls",
            "_view_module_version": "1.5.0",
            "_view_name": "HTMLView",
            "description": "",
            "description_tooltip": null,
            "layout": "IPY_MODEL_8af7583a41e84437802087fdd0844373",
            "placeholder": "​",
            "style": "IPY_MODEL_173c7ca76b574ac099d2d192bd54f543",
            "value": "vocab.txt: 100%"
          }
        },
        "0cd3a2d5e99e46c88b20104ae574c731": {
          "model_module": "@jupyter-widgets/controls",
          "model_name": "FloatProgressModel",
          "model_module_version": "1.5.0",
          "state": {
            "_dom_classes": [],
            "_model_module": "@jupyter-widgets/controls",
            "_model_module_version": "1.5.0",
            "_model_name": "FloatProgressModel",
            "_view_count": null,
            "_view_module": "@jupyter-widgets/controls",
            "_view_module_version": "1.5.0",
            "_view_name": "ProgressView",
            "bar_style": "success",
            "description": "",
            "description_tooltip": null,
            "layout": "IPY_MODEL_a9395f135ae14e34a789d6ad877ad49d",
            "max": 231508,
            "min": 0,
            "orientation": "horizontal",
            "style": "IPY_MODEL_ff4e032f2ae4476b8338fb4e94717203",
            "value": 231508
          }
        },
        "63f23f85f166492abc9ffbed70ee8ee2": {
          "model_module": "@jupyter-widgets/controls",
          "model_name": "HTMLModel",
          "model_module_version": "1.5.0",
          "state": {
            "_dom_classes": [],
            "_model_module": "@jupyter-widgets/controls",
            "_model_module_version": "1.5.0",
            "_model_name": "HTMLModel",
            "_view_count": null,
            "_view_module": "@jupyter-widgets/controls",
            "_view_module_version": "1.5.0",
            "_view_name": "HTMLView",
            "description": "",
            "description_tooltip": null,
            "layout": "IPY_MODEL_2678cdefe58f4d8a9df7c977d013600a",
            "placeholder": "​",
            "style": "IPY_MODEL_0f1fb6eb3f2842fc8ddb12eb714bcff6",
            "value": " 232k/232k [00:00&lt;00:00, 8.63MB/s]"
          }
        },
        "4a69c677fb734ab5b6ffc42eb3dc399f": {
          "model_module": "@jupyter-widgets/base",
          "model_name": "LayoutModel",
          "model_module_version": "1.2.0",
          "state": {
            "_model_module": "@jupyter-widgets/base",
            "_model_module_version": "1.2.0",
            "_model_name": "LayoutModel",
            "_view_count": null,
            "_view_module": "@jupyter-widgets/base",
            "_view_module_version": "1.2.0",
            "_view_name": "LayoutView",
            "align_content": null,
            "align_items": null,
            "align_self": null,
            "border": null,
            "bottom": null,
            "display": null,
            "flex": null,
            "flex_flow": null,
            "grid_area": null,
            "grid_auto_columns": null,
            "grid_auto_flow": null,
            "grid_auto_rows": null,
            "grid_column": null,
            "grid_gap": null,
            "grid_row": null,
            "grid_template_areas": null,
            "grid_template_columns": null,
            "grid_template_rows": null,
            "height": null,
            "justify_content": null,
            "justify_items": null,
            "left": null,
            "margin": null,
            "max_height": null,
            "max_width": null,
            "min_height": null,
            "min_width": null,
            "object_fit": null,
            "object_position": null,
            "order": null,
            "overflow": null,
            "overflow_x": null,
            "overflow_y": null,
            "padding": null,
            "right": null,
            "top": null,
            "visibility": null,
            "width": null
          }
        },
        "8af7583a41e84437802087fdd0844373": {
          "model_module": "@jupyter-widgets/base",
          "model_name": "LayoutModel",
          "model_module_version": "1.2.0",
          "state": {
            "_model_module": "@jupyter-widgets/base",
            "_model_module_version": "1.2.0",
            "_model_name": "LayoutModel",
            "_view_count": null,
            "_view_module": "@jupyter-widgets/base",
            "_view_module_version": "1.2.0",
            "_view_name": "LayoutView",
            "align_content": null,
            "align_items": null,
            "align_self": null,
            "border": null,
            "bottom": null,
            "display": null,
            "flex": null,
            "flex_flow": null,
            "grid_area": null,
            "grid_auto_columns": null,
            "grid_auto_flow": null,
            "grid_auto_rows": null,
            "grid_column": null,
            "grid_gap": null,
            "grid_row": null,
            "grid_template_areas": null,
            "grid_template_columns": null,
            "grid_template_rows": null,
            "height": null,
            "justify_content": null,
            "justify_items": null,
            "left": null,
            "margin": null,
            "max_height": null,
            "max_width": null,
            "min_height": null,
            "min_width": null,
            "object_fit": null,
            "object_position": null,
            "order": null,
            "overflow": null,
            "overflow_x": null,
            "overflow_y": null,
            "padding": null,
            "right": null,
            "top": null,
            "visibility": null,
            "width": null
          }
        },
        "173c7ca76b574ac099d2d192bd54f543": {
          "model_module": "@jupyter-widgets/controls",
          "model_name": "DescriptionStyleModel",
          "model_module_version": "1.5.0",
          "state": {
            "_model_module": "@jupyter-widgets/controls",
            "_model_module_version": "1.5.0",
            "_model_name": "DescriptionStyleModel",
            "_view_count": null,
            "_view_module": "@jupyter-widgets/base",
            "_view_module_version": "1.2.0",
            "_view_name": "StyleView",
            "description_width": ""
          }
        },
        "a9395f135ae14e34a789d6ad877ad49d": {
          "model_module": "@jupyter-widgets/base",
          "model_name": "LayoutModel",
          "model_module_version": "1.2.0",
          "state": {
            "_model_module": "@jupyter-widgets/base",
            "_model_module_version": "1.2.0",
            "_model_name": "LayoutModel",
            "_view_count": null,
            "_view_module": "@jupyter-widgets/base",
            "_view_module_version": "1.2.0",
            "_view_name": "LayoutView",
            "align_content": null,
            "align_items": null,
            "align_self": null,
            "border": null,
            "bottom": null,
            "display": null,
            "flex": null,
            "flex_flow": null,
            "grid_area": null,
            "grid_auto_columns": null,
            "grid_auto_flow": null,
            "grid_auto_rows": null,
            "grid_column": null,
            "grid_gap": null,
            "grid_row": null,
            "grid_template_areas": null,
            "grid_template_columns": null,
            "grid_template_rows": null,
            "height": null,
            "justify_content": null,
            "justify_items": null,
            "left": null,
            "margin": null,
            "max_height": null,
            "max_width": null,
            "min_height": null,
            "min_width": null,
            "object_fit": null,
            "object_position": null,
            "order": null,
            "overflow": null,
            "overflow_x": null,
            "overflow_y": null,
            "padding": null,
            "right": null,
            "top": null,
            "visibility": null,
            "width": null
          }
        },
        "ff4e032f2ae4476b8338fb4e94717203": {
          "model_module": "@jupyter-widgets/controls",
          "model_name": "ProgressStyleModel",
          "model_module_version": "1.5.0",
          "state": {
            "_model_module": "@jupyter-widgets/controls",
            "_model_module_version": "1.5.0",
            "_model_name": "ProgressStyleModel",
            "_view_count": null,
            "_view_module": "@jupyter-widgets/base",
            "_view_module_version": "1.2.0",
            "_view_name": "StyleView",
            "bar_color": null,
            "description_width": ""
          }
        },
        "2678cdefe58f4d8a9df7c977d013600a": {
          "model_module": "@jupyter-widgets/base",
          "model_name": "LayoutModel",
          "model_module_version": "1.2.0",
          "state": {
            "_model_module": "@jupyter-widgets/base",
            "_model_module_version": "1.2.0",
            "_model_name": "LayoutModel",
            "_view_count": null,
            "_view_module": "@jupyter-widgets/base",
            "_view_module_version": "1.2.0",
            "_view_name": "LayoutView",
            "align_content": null,
            "align_items": null,
            "align_self": null,
            "border": null,
            "bottom": null,
            "display": null,
            "flex": null,
            "flex_flow": null,
            "grid_area": null,
            "grid_auto_columns": null,
            "grid_auto_flow": null,
            "grid_auto_rows": null,
            "grid_column": null,
            "grid_gap": null,
            "grid_row": null,
            "grid_template_areas": null,
            "grid_template_columns": null,
            "grid_template_rows": null,
            "height": null,
            "justify_content": null,
            "justify_items": null,
            "left": null,
            "margin": null,
            "max_height": null,
            "max_width": null,
            "min_height": null,
            "min_width": null,
            "object_fit": null,
            "object_position": null,
            "order": null,
            "overflow": null,
            "overflow_x": null,
            "overflow_y": null,
            "padding": null,
            "right": null,
            "top": null,
            "visibility": null,
            "width": null
          }
        },
        "0f1fb6eb3f2842fc8ddb12eb714bcff6": {
          "model_module": "@jupyter-widgets/controls",
          "model_name": "DescriptionStyleModel",
          "model_module_version": "1.5.0",
          "state": {
            "_model_module": "@jupyter-widgets/controls",
            "_model_module_version": "1.5.0",
            "_model_name": "DescriptionStyleModel",
            "_view_count": null,
            "_view_module": "@jupyter-widgets/base",
            "_view_module_version": "1.2.0",
            "_view_name": "StyleView",
            "description_width": ""
          }
        },
        "84824d790045470f82a7f2f5020a8680": {
          "model_module": "@jupyter-widgets/controls",
          "model_name": "HBoxModel",
          "model_module_version": "1.5.0",
          "state": {
            "_dom_classes": [],
            "_model_module": "@jupyter-widgets/controls",
            "_model_module_version": "1.5.0",
            "_model_name": "HBoxModel",
            "_view_count": null,
            "_view_module": "@jupyter-widgets/controls",
            "_view_module_version": "1.5.0",
            "_view_name": "HBoxView",
            "box_style": "",
            "children": [
              "IPY_MODEL_d4a1e0a3583e4f9ea295a8ff28871d3f",
              "IPY_MODEL_37295cfacea34b80bedd165518b2d608",
              "IPY_MODEL_de6e39b133c04a53bdd9076a55103aab"
            ],
            "layout": "IPY_MODEL_6d164233b31c460fa11f5ddad4e876aa"
          }
        },
        "d4a1e0a3583e4f9ea295a8ff28871d3f": {
          "model_module": "@jupyter-widgets/controls",
          "model_name": "HTMLModel",
          "model_module_version": "1.5.0",
          "state": {
            "_dom_classes": [],
            "_model_module": "@jupyter-widgets/controls",
            "_model_module_version": "1.5.0",
            "_model_name": "HTMLModel",
            "_view_count": null,
            "_view_module": "@jupyter-widgets/controls",
            "_view_module_version": "1.5.0",
            "_view_name": "HTMLView",
            "description": "",
            "description_tooltip": null,
            "layout": "IPY_MODEL_0ea6ec983d2442bc82bed8e52e0fb4de",
            "placeholder": "​",
            "style": "IPY_MODEL_4c41f5022b2a4c0cbf4b9cb9308f132c",
            "value": "tokenizer.json: 100%"
          }
        },
        "37295cfacea34b80bedd165518b2d608": {
          "model_module": "@jupyter-widgets/controls",
          "model_name": "FloatProgressModel",
          "model_module_version": "1.5.0",
          "state": {
            "_dom_classes": [],
            "_model_module": "@jupyter-widgets/controls",
            "_model_module_version": "1.5.0",
            "_model_name": "FloatProgressModel",
            "_view_count": null,
            "_view_module": "@jupyter-widgets/controls",
            "_view_module_version": "1.5.0",
            "_view_name": "ProgressView",
            "bar_style": "success",
            "description": "",
            "description_tooltip": null,
            "layout": "IPY_MODEL_e158df253e414b00b8c36862d6715c7a",
            "max": 711396,
            "min": 0,
            "orientation": "horizontal",
            "style": "IPY_MODEL_bdb2fc06a3564b919774176cb6bbe5c1",
            "value": 711396
          }
        },
        "de6e39b133c04a53bdd9076a55103aab": {
          "model_module": "@jupyter-widgets/controls",
          "model_name": "HTMLModel",
          "model_module_version": "1.5.0",
          "state": {
            "_dom_classes": [],
            "_model_module": "@jupyter-widgets/controls",
            "_model_module_version": "1.5.0",
            "_model_name": "HTMLModel",
            "_view_count": null,
            "_view_module": "@jupyter-widgets/controls",
            "_view_module_version": "1.5.0",
            "_view_name": "HTMLView",
            "description": "",
            "description_tooltip": null,
            "layout": "IPY_MODEL_6b1a01e12f2f47038035e1969bcce8ef",
            "placeholder": "​",
            "style": "IPY_MODEL_89a434b6be4f4636b9a50dcc800c9ca7",
            "value": " 711k/711k [00:00&lt;00:00, 29.9MB/s]"
          }
        },
        "6d164233b31c460fa11f5ddad4e876aa": {
          "model_module": "@jupyter-widgets/base",
          "model_name": "LayoutModel",
          "model_module_version": "1.2.0",
          "state": {
            "_model_module": "@jupyter-widgets/base",
            "_model_module_version": "1.2.0",
            "_model_name": "LayoutModel",
            "_view_count": null,
            "_view_module": "@jupyter-widgets/base",
            "_view_module_version": "1.2.0",
            "_view_name": "LayoutView",
            "align_content": null,
            "align_items": null,
            "align_self": null,
            "border": null,
            "bottom": null,
            "display": null,
            "flex": null,
            "flex_flow": null,
            "grid_area": null,
            "grid_auto_columns": null,
            "grid_auto_flow": null,
            "grid_auto_rows": null,
            "grid_column": null,
            "grid_gap": null,
            "grid_row": null,
            "grid_template_areas": null,
            "grid_template_columns": null,
            "grid_template_rows": null,
            "height": null,
            "justify_content": null,
            "justify_items": null,
            "left": null,
            "margin": null,
            "max_height": null,
            "max_width": null,
            "min_height": null,
            "min_width": null,
            "object_fit": null,
            "object_position": null,
            "order": null,
            "overflow": null,
            "overflow_x": null,
            "overflow_y": null,
            "padding": null,
            "right": null,
            "top": null,
            "visibility": null,
            "width": null
          }
        },
        "0ea6ec983d2442bc82bed8e52e0fb4de": {
          "model_module": "@jupyter-widgets/base",
          "model_name": "LayoutModel",
          "model_module_version": "1.2.0",
          "state": {
            "_model_module": "@jupyter-widgets/base",
            "_model_module_version": "1.2.0",
            "_model_name": "LayoutModel",
            "_view_count": null,
            "_view_module": "@jupyter-widgets/base",
            "_view_module_version": "1.2.0",
            "_view_name": "LayoutView",
            "align_content": null,
            "align_items": null,
            "align_self": null,
            "border": null,
            "bottom": null,
            "display": null,
            "flex": null,
            "flex_flow": null,
            "grid_area": null,
            "grid_auto_columns": null,
            "grid_auto_flow": null,
            "grid_auto_rows": null,
            "grid_column": null,
            "grid_gap": null,
            "grid_row": null,
            "grid_template_areas": null,
            "grid_template_columns": null,
            "grid_template_rows": null,
            "height": null,
            "justify_content": null,
            "justify_items": null,
            "left": null,
            "margin": null,
            "max_height": null,
            "max_width": null,
            "min_height": null,
            "min_width": null,
            "object_fit": null,
            "object_position": null,
            "order": null,
            "overflow": null,
            "overflow_x": null,
            "overflow_y": null,
            "padding": null,
            "right": null,
            "top": null,
            "visibility": null,
            "width": null
          }
        },
        "4c41f5022b2a4c0cbf4b9cb9308f132c": {
          "model_module": "@jupyter-widgets/controls",
          "model_name": "DescriptionStyleModel",
          "model_module_version": "1.5.0",
          "state": {
            "_model_module": "@jupyter-widgets/controls",
            "_model_module_version": "1.5.0",
            "_model_name": "DescriptionStyleModel",
            "_view_count": null,
            "_view_module": "@jupyter-widgets/base",
            "_view_module_version": "1.2.0",
            "_view_name": "StyleView",
            "description_width": ""
          }
        },
        "e158df253e414b00b8c36862d6715c7a": {
          "model_module": "@jupyter-widgets/base",
          "model_name": "LayoutModel",
          "model_module_version": "1.2.0",
          "state": {
            "_model_module": "@jupyter-widgets/base",
            "_model_module_version": "1.2.0",
            "_model_name": "LayoutModel",
            "_view_count": null,
            "_view_module": "@jupyter-widgets/base",
            "_view_module_version": "1.2.0",
            "_view_name": "LayoutView",
            "align_content": null,
            "align_items": null,
            "align_self": null,
            "border": null,
            "bottom": null,
            "display": null,
            "flex": null,
            "flex_flow": null,
            "grid_area": null,
            "grid_auto_columns": null,
            "grid_auto_flow": null,
            "grid_auto_rows": null,
            "grid_column": null,
            "grid_gap": null,
            "grid_row": null,
            "grid_template_areas": null,
            "grid_template_columns": null,
            "grid_template_rows": null,
            "height": null,
            "justify_content": null,
            "justify_items": null,
            "left": null,
            "margin": null,
            "max_height": null,
            "max_width": null,
            "min_height": null,
            "min_width": null,
            "object_fit": null,
            "object_position": null,
            "order": null,
            "overflow": null,
            "overflow_x": null,
            "overflow_y": null,
            "padding": null,
            "right": null,
            "top": null,
            "visibility": null,
            "width": null
          }
        },
        "bdb2fc06a3564b919774176cb6bbe5c1": {
          "model_module": "@jupyter-widgets/controls",
          "model_name": "ProgressStyleModel",
          "model_module_version": "1.5.0",
          "state": {
            "_model_module": "@jupyter-widgets/controls",
            "_model_module_version": "1.5.0",
            "_model_name": "ProgressStyleModel",
            "_view_count": null,
            "_view_module": "@jupyter-widgets/base",
            "_view_module_version": "1.2.0",
            "_view_name": "StyleView",
            "bar_color": null,
            "description_width": ""
          }
        },
        "6b1a01e12f2f47038035e1969bcce8ef": {
          "model_module": "@jupyter-widgets/base",
          "model_name": "LayoutModel",
          "model_module_version": "1.2.0",
          "state": {
            "_model_module": "@jupyter-widgets/base",
            "_model_module_version": "1.2.0",
            "_model_name": "LayoutModel",
            "_view_count": null,
            "_view_module": "@jupyter-widgets/base",
            "_view_module_version": "1.2.0",
            "_view_name": "LayoutView",
            "align_content": null,
            "align_items": null,
            "align_self": null,
            "border": null,
            "bottom": null,
            "display": null,
            "flex": null,
            "flex_flow": null,
            "grid_area": null,
            "grid_auto_columns": null,
            "grid_auto_flow": null,
            "grid_auto_rows": null,
            "grid_column": null,
            "grid_gap": null,
            "grid_row": null,
            "grid_template_areas": null,
            "grid_template_columns": null,
            "grid_template_rows": null,
            "height": null,
            "justify_content": null,
            "justify_items": null,
            "left": null,
            "margin": null,
            "max_height": null,
            "max_width": null,
            "min_height": null,
            "min_width": null,
            "object_fit": null,
            "object_position": null,
            "order": null,
            "overflow": null,
            "overflow_x": null,
            "overflow_y": null,
            "padding": null,
            "right": null,
            "top": null,
            "visibility": null,
            "width": null
          }
        },
        "89a434b6be4f4636b9a50dcc800c9ca7": {
          "model_module": "@jupyter-widgets/controls",
          "model_name": "DescriptionStyleModel",
          "model_module_version": "1.5.0",
          "state": {
            "_model_module": "@jupyter-widgets/controls",
            "_model_module_version": "1.5.0",
            "_model_name": "DescriptionStyleModel",
            "_view_count": null,
            "_view_module": "@jupyter-widgets/base",
            "_view_module_version": "1.2.0",
            "_view_name": "StyleView",
            "description_width": ""
          }
        },
        "0d72022caeb34f4891a33052eb9307c9": {
          "model_module": "@jupyter-widgets/controls",
          "model_name": "HBoxModel",
          "model_module_version": "1.5.0",
          "state": {
            "_dom_classes": [],
            "_model_module": "@jupyter-widgets/controls",
            "_model_module_version": "1.5.0",
            "_model_name": "HBoxModel",
            "_view_count": null,
            "_view_module": "@jupyter-widgets/controls",
            "_view_module_version": "1.5.0",
            "_view_name": "HBoxView",
            "box_style": "",
            "children": [
              "IPY_MODEL_0892e850cb744a0e97c8dbd024327d93",
              "IPY_MODEL_0fde50a7fcdc4bc7ae8d19271ba39623",
              "IPY_MODEL_1d34c16a0add479eaf83160fd164bea5"
            ],
            "layout": "IPY_MODEL_3ef7fd130a1b4ceeac50f1cef4bcde9d"
          }
        },
        "0892e850cb744a0e97c8dbd024327d93": {
          "model_module": "@jupyter-widgets/controls",
          "model_name": "HTMLModel",
          "model_module_version": "1.5.0",
          "state": {
            "_dom_classes": [],
            "_model_module": "@jupyter-widgets/controls",
            "_model_module_version": "1.5.0",
            "_model_name": "HTMLModel",
            "_view_count": null,
            "_view_module": "@jupyter-widgets/controls",
            "_view_module_version": "1.5.0",
            "_view_name": "HTMLView",
            "description": "",
            "description_tooltip": null,
            "layout": "IPY_MODEL_292c5f146bcd4a04b1b296494abf43f4",
            "placeholder": "​",
            "style": "IPY_MODEL_46baa29a12fe44318e30ad7b8254c5f1",
            "value": "special_tokens_map.json: 100%"
          }
        },
        "0fde50a7fcdc4bc7ae8d19271ba39623": {
          "model_module": "@jupyter-widgets/controls",
          "model_name": "FloatProgressModel",
          "model_module_version": "1.5.0",
          "state": {
            "_dom_classes": [],
            "_model_module": "@jupyter-widgets/controls",
            "_model_module_version": "1.5.0",
            "_model_name": "FloatProgressModel",
            "_view_count": null,
            "_view_module": "@jupyter-widgets/controls",
            "_view_module_version": "1.5.0",
            "_view_name": "ProgressView",
            "bar_style": "success",
            "description": "",
            "description_tooltip": null,
            "layout": "IPY_MODEL_6c0b5a0d7f98425aa197ae15e41aeeef",
            "max": 695,
            "min": 0,
            "orientation": "horizontal",
            "style": "IPY_MODEL_fe96c236f1ed4f1f8ad15ce00b76cc50",
            "value": 695
          }
        },
        "1d34c16a0add479eaf83160fd164bea5": {
          "model_module": "@jupyter-widgets/controls",
          "model_name": "HTMLModel",
          "model_module_version": "1.5.0",
          "state": {
            "_dom_classes": [],
            "_model_module": "@jupyter-widgets/controls",
            "_model_module_version": "1.5.0",
            "_model_name": "HTMLModel",
            "_view_count": null,
            "_view_module": "@jupyter-widgets/controls",
            "_view_module_version": "1.5.0",
            "_view_name": "HTMLView",
            "description": "",
            "description_tooltip": null,
            "layout": "IPY_MODEL_a510ff55802d432888f3554a711feb16",
            "placeholder": "​",
            "style": "IPY_MODEL_8e99fa165131478d8f3d8c28c812b514",
            "value": " 695/695 [00:00&lt;00:00, 42.5kB/s]"
          }
        },
        "3ef7fd130a1b4ceeac50f1cef4bcde9d": {
          "model_module": "@jupyter-widgets/base",
          "model_name": "LayoutModel",
          "model_module_version": "1.2.0",
          "state": {
            "_model_module": "@jupyter-widgets/base",
            "_model_module_version": "1.2.0",
            "_model_name": "LayoutModel",
            "_view_count": null,
            "_view_module": "@jupyter-widgets/base",
            "_view_module_version": "1.2.0",
            "_view_name": "LayoutView",
            "align_content": null,
            "align_items": null,
            "align_self": null,
            "border": null,
            "bottom": null,
            "display": null,
            "flex": null,
            "flex_flow": null,
            "grid_area": null,
            "grid_auto_columns": null,
            "grid_auto_flow": null,
            "grid_auto_rows": null,
            "grid_column": null,
            "grid_gap": null,
            "grid_row": null,
            "grid_template_areas": null,
            "grid_template_columns": null,
            "grid_template_rows": null,
            "height": null,
            "justify_content": null,
            "justify_items": null,
            "left": null,
            "margin": null,
            "max_height": null,
            "max_width": null,
            "min_height": null,
            "min_width": null,
            "object_fit": null,
            "object_position": null,
            "order": null,
            "overflow": null,
            "overflow_x": null,
            "overflow_y": null,
            "padding": null,
            "right": null,
            "top": null,
            "visibility": null,
            "width": null
          }
        },
        "292c5f146bcd4a04b1b296494abf43f4": {
          "model_module": "@jupyter-widgets/base",
          "model_name": "LayoutModel",
          "model_module_version": "1.2.0",
          "state": {
            "_model_module": "@jupyter-widgets/base",
            "_model_module_version": "1.2.0",
            "_model_name": "LayoutModel",
            "_view_count": null,
            "_view_module": "@jupyter-widgets/base",
            "_view_module_version": "1.2.0",
            "_view_name": "LayoutView",
            "align_content": null,
            "align_items": null,
            "align_self": null,
            "border": null,
            "bottom": null,
            "display": null,
            "flex": null,
            "flex_flow": null,
            "grid_area": null,
            "grid_auto_columns": null,
            "grid_auto_flow": null,
            "grid_auto_rows": null,
            "grid_column": null,
            "grid_gap": null,
            "grid_row": null,
            "grid_template_areas": null,
            "grid_template_columns": null,
            "grid_template_rows": null,
            "height": null,
            "justify_content": null,
            "justify_items": null,
            "left": null,
            "margin": null,
            "max_height": null,
            "max_width": null,
            "min_height": null,
            "min_width": null,
            "object_fit": null,
            "object_position": null,
            "order": null,
            "overflow": null,
            "overflow_x": null,
            "overflow_y": null,
            "padding": null,
            "right": null,
            "top": null,
            "visibility": null,
            "width": null
          }
        },
        "46baa29a12fe44318e30ad7b8254c5f1": {
          "model_module": "@jupyter-widgets/controls",
          "model_name": "DescriptionStyleModel",
          "model_module_version": "1.5.0",
          "state": {
            "_model_module": "@jupyter-widgets/controls",
            "_model_module_version": "1.5.0",
            "_model_name": "DescriptionStyleModel",
            "_view_count": null,
            "_view_module": "@jupyter-widgets/base",
            "_view_module_version": "1.2.0",
            "_view_name": "StyleView",
            "description_width": ""
          }
        },
        "6c0b5a0d7f98425aa197ae15e41aeeef": {
          "model_module": "@jupyter-widgets/base",
          "model_name": "LayoutModel",
          "model_module_version": "1.2.0",
          "state": {
            "_model_module": "@jupyter-widgets/base",
            "_model_module_version": "1.2.0",
            "_model_name": "LayoutModel",
            "_view_count": null,
            "_view_module": "@jupyter-widgets/base",
            "_view_module_version": "1.2.0",
            "_view_name": "LayoutView",
            "align_content": null,
            "align_items": null,
            "align_self": null,
            "border": null,
            "bottom": null,
            "display": null,
            "flex": null,
            "flex_flow": null,
            "grid_area": null,
            "grid_auto_columns": null,
            "grid_auto_flow": null,
            "grid_auto_rows": null,
            "grid_column": null,
            "grid_gap": null,
            "grid_row": null,
            "grid_template_areas": null,
            "grid_template_columns": null,
            "grid_template_rows": null,
            "height": null,
            "justify_content": null,
            "justify_items": null,
            "left": null,
            "margin": null,
            "max_height": null,
            "max_width": null,
            "min_height": null,
            "min_width": null,
            "object_fit": null,
            "object_position": null,
            "order": null,
            "overflow": null,
            "overflow_x": null,
            "overflow_y": null,
            "padding": null,
            "right": null,
            "top": null,
            "visibility": null,
            "width": null
          }
        },
        "fe96c236f1ed4f1f8ad15ce00b76cc50": {
          "model_module": "@jupyter-widgets/controls",
          "model_name": "ProgressStyleModel",
          "model_module_version": "1.5.0",
          "state": {
            "_model_module": "@jupyter-widgets/controls",
            "_model_module_version": "1.5.0",
            "_model_name": "ProgressStyleModel",
            "_view_count": null,
            "_view_module": "@jupyter-widgets/base",
            "_view_module_version": "1.2.0",
            "_view_name": "StyleView",
            "bar_color": null,
            "description_width": ""
          }
        },
        "a510ff55802d432888f3554a711feb16": {
          "model_module": "@jupyter-widgets/base",
          "model_name": "LayoutModel",
          "model_module_version": "1.2.0",
          "state": {
            "_model_module": "@jupyter-widgets/base",
            "_model_module_version": "1.2.0",
            "_model_name": "LayoutModel",
            "_view_count": null,
            "_view_module": "@jupyter-widgets/base",
            "_view_module_version": "1.2.0",
            "_view_name": "LayoutView",
            "align_content": null,
            "align_items": null,
            "align_self": null,
            "border": null,
            "bottom": null,
            "display": null,
            "flex": null,
            "flex_flow": null,
            "grid_area": null,
            "grid_auto_columns": null,
            "grid_auto_flow": null,
            "grid_auto_rows": null,
            "grid_column": null,
            "grid_gap": null,
            "grid_row": null,
            "grid_template_areas": null,
            "grid_template_columns": null,
            "grid_template_rows": null,
            "height": null,
            "justify_content": null,
            "justify_items": null,
            "left": null,
            "margin": null,
            "max_height": null,
            "max_width": null,
            "min_height": null,
            "min_width": null,
            "object_fit": null,
            "object_position": null,
            "order": null,
            "overflow": null,
            "overflow_x": null,
            "overflow_y": null,
            "padding": null,
            "right": null,
            "top": null,
            "visibility": null,
            "width": null
          }
        },
        "8e99fa165131478d8f3d8c28c812b514": {
          "model_module": "@jupyter-widgets/controls",
          "model_name": "DescriptionStyleModel",
          "model_module_version": "1.5.0",
          "state": {
            "_model_module": "@jupyter-widgets/controls",
            "_model_module_version": "1.5.0",
            "_model_name": "DescriptionStyleModel",
            "_view_count": null,
            "_view_module": "@jupyter-widgets/base",
            "_view_module_version": "1.2.0",
            "_view_name": "StyleView",
            "description_width": ""
          }
        },
        "88aed6031c8840b0942a8780b7370238": {
          "model_module": "@jupyter-widgets/controls",
          "model_name": "HBoxModel",
          "model_module_version": "1.5.0",
          "state": {
            "_dom_classes": [],
            "_model_module": "@jupyter-widgets/controls",
            "_model_module_version": "1.5.0",
            "_model_name": "HBoxModel",
            "_view_count": null,
            "_view_module": "@jupyter-widgets/controls",
            "_view_module_version": "1.5.0",
            "_view_name": "HBoxView",
            "box_style": "",
            "children": [
              "IPY_MODEL_682b626a5f304d9d9ca351717e2e1fc1",
              "IPY_MODEL_d1f4355db17a4780a2b0b2c0c3407314",
              "IPY_MODEL_9b4a7539c5164e888b0b263b2f7d294d"
            ],
            "layout": "IPY_MODEL_24198f7df8974389a1f2176aa8140dc2"
          }
        },
        "682b626a5f304d9d9ca351717e2e1fc1": {
          "model_module": "@jupyter-widgets/controls",
          "model_name": "HTMLModel",
          "model_module_version": "1.5.0",
          "state": {
            "_dom_classes": [],
            "_model_module": "@jupyter-widgets/controls",
            "_model_module_version": "1.5.0",
            "_model_name": "HTMLModel",
            "_view_count": null,
            "_view_module": "@jupyter-widgets/controls",
            "_view_module_version": "1.5.0",
            "_view_name": "HTMLView",
            "description": "",
            "description_tooltip": null,
            "layout": "IPY_MODEL_053bd6f64dbe4954b95100742234a89f",
            "placeholder": "​",
            "style": "IPY_MODEL_1b2c976b97fa47fc9b6f65232c713e5a",
            "value": "1_Pooling/config.json: 100%"
          }
        },
        "d1f4355db17a4780a2b0b2c0c3407314": {
          "model_module": "@jupyter-widgets/controls",
          "model_name": "FloatProgressModel",
          "model_module_version": "1.5.0",
          "state": {
            "_dom_classes": [],
            "_model_module": "@jupyter-widgets/controls",
            "_model_module_version": "1.5.0",
            "_model_name": "FloatProgressModel",
            "_view_count": null,
            "_view_module": "@jupyter-widgets/controls",
            "_view_module_version": "1.5.0",
            "_view_name": "ProgressView",
            "bar_style": "success",
            "description": "",
            "description_tooltip": null,
            "layout": "IPY_MODEL_9805dfebb42c4e1f89222cc6ac05c1eb",
            "max": 297,
            "min": 0,
            "orientation": "horizontal",
            "style": "IPY_MODEL_bf11e211586e4463bca82da84c6e2aa1",
            "value": 297
          }
        },
        "9b4a7539c5164e888b0b263b2f7d294d": {
          "model_module": "@jupyter-widgets/controls",
          "model_name": "HTMLModel",
          "model_module_version": "1.5.0",
          "state": {
            "_dom_classes": [],
            "_model_module": "@jupyter-widgets/controls",
            "_model_module_version": "1.5.0",
            "_model_name": "HTMLModel",
            "_view_count": null,
            "_view_module": "@jupyter-widgets/controls",
            "_view_module_version": "1.5.0",
            "_view_name": "HTMLView",
            "description": "",
            "description_tooltip": null,
            "layout": "IPY_MODEL_d0285a8d23d84285a7071b6047fbe64b",
            "placeholder": "​",
            "style": "IPY_MODEL_302aa497e2d04a6cb9da838f9a6725cc",
            "value": " 297/297 [00:00&lt;00:00, 11.6kB/s]"
          }
        },
        "24198f7df8974389a1f2176aa8140dc2": {
          "model_module": "@jupyter-widgets/base",
          "model_name": "LayoutModel",
          "model_module_version": "1.2.0",
          "state": {
            "_model_module": "@jupyter-widgets/base",
            "_model_module_version": "1.2.0",
            "_model_name": "LayoutModel",
            "_view_count": null,
            "_view_module": "@jupyter-widgets/base",
            "_view_module_version": "1.2.0",
            "_view_name": "LayoutView",
            "align_content": null,
            "align_items": null,
            "align_self": null,
            "border": null,
            "bottom": null,
            "display": null,
            "flex": null,
            "flex_flow": null,
            "grid_area": null,
            "grid_auto_columns": null,
            "grid_auto_flow": null,
            "grid_auto_rows": null,
            "grid_column": null,
            "grid_gap": null,
            "grid_row": null,
            "grid_template_areas": null,
            "grid_template_columns": null,
            "grid_template_rows": null,
            "height": null,
            "justify_content": null,
            "justify_items": null,
            "left": null,
            "margin": null,
            "max_height": null,
            "max_width": null,
            "min_height": null,
            "min_width": null,
            "object_fit": null,
            "object_position": null,
            "order": null,
            "overflow": null,
            "overflow_x": null,
            "overflow_y": null,
            "padding": null,
            "right": null,
            "top": null,
            "visibility": null,
            "width": null
          }
        },
        "053bd6f64dbe4954b95100742234a89f": {
          "model_module": "@jupyter-widgets/base",
          "model_name": "LayoutModel",
          "model_module_version": "1.2.0",
          "state": {
            "_model_module": "@jupyter-widgets/base",
            "_model_module_version": "1.2.0",
            "_model_name": "LayoutModel",
            "_view_count": null,
            "_view_module": "@jupyter-widgets/base",
            "_view_module_version": "1.2.0",
            "_view_name": "LayoutView",
            "align_content": null,
            "align_items": null,
            "align_self": null,
            "border": null,
            "bottom": null,
            "display": null,
            "flex": null,
            "flex_flow": null,
            "grid_area": null,
            "grid_auto_columns": null,
            "grid_auto_flow": null,
            "grid_auto_rows": null,
            "grid_column": null,
            "grid_gap": null,
            "grid_row": null,
            "grid_template_areas": null,
            "grid_template_columns": null,
            "grid_template_rows": null,
            "height": null,
            "justify_content": null,
            "justify_items": null,
            "left": null,
            "margin": null,
            "max_height": null,
            "max_width": null,
            "min_height": null,
            "min_width": null,
            "object_fit": null,
            "object_position": null,
            "order": null,
            "overflow": null,
            "overflow_x": null,
            "overflow_y": null,
            "padding": null,
            "right": null,
            "top": null,
            "visibility": null,
            "width": null
          }
        },
        "1b2c976b97fa47fc9b6f65232c713e5a": {
          "model_module": "@jupyter-widgets/controls",
          "model_name": "DescriptionStyleModel",
          "model_module_version": "1.5.0",
          "state": {
            "_model_module": "@jupyter-widgets/controls",
            "_model_module_version": "1.5.0",
            "_model_name": "DescriptionStyleModel",
            "_view_count": null,
            "_view_module": "@jupyter-widgets/base",
            "_view_module_version": "1.2.0",
            "_view_name": "StyleView",
            "description_width": ""
          }
        },
        "9805dfebb42c4e1f89222cc6ac05c1eb": {
          "model_module": "@jupyter-widgets/base",
          "model_name": "LayoutModel",
          "model_module_version": "1.2.0",
          "state": {
            "_model_module": "@jupyter-widgets/base",
            "_model_module_version": "1.2.0",
            "_model_name": "LayoutModel",
            "_view_count": null,
            "_view_module": "@jupyter-widgets/base",
            "_view_module_version": "1.2.0",
            "_view_name": "LayoutView",
            "align_content": null,
            "align_items": null,
            "align_self": null,
            "border": null,
            "bottom": null,
            "display": null,
            "flex": null,
            "flex_flow": null,
            "grid_area": null,
            "grid_auto_columns": null,
            "grid_auto_flow": null,
            "grid_auto_rows": null,
            "grid_column": null,
            "grid_gap": null,
            "grid_row": null,
            "grid_template_areas": null,
            "grid_template_columns": null,
            "grid_template_rows": null,
            "height": null,
            "justify_content": null,
            "justify_items": null,
            "left": null,
            "margin": null,
            "max_height": null,
            "max_width": null,
            "min_height": null,
            "min_width": null,
            "object_fit": null,
            "object_position": null,
            "order": null,
            "overflow": null,
            "overflow_x": null,
            "overflow_y": null,
            "padding": null,
            "right": null,
            "top": null,
            "visibility": null,
            "width": null
          }
        },
        "bf11e211586e4463bca82da84c6e2aa1": {
          "model_module": "@jupyter-widgets/controls",
          "model_name": "ProgressStyleModel",
          "model_module_version": "1.5.0",
          "state": {
            "_model_module": "@jupyter-widgets/controls",
            "_model_module_version": "1.5.0",
            "_model_name": "ProgressStyleModel",
            "_view_count": null,
            "_view_module": "@jupyter-widgets/base",
            "_view_module_version": "1.2.0",
            "_view_name": "StyleView",
            "bar_color": null,
            "description_width": ""
          }
        },
        "d0285a8d23d84285a7071b6047fbe64b": {
          "model_module": "@jupyter-widgets/base",
          "model_name": "LayoutModel",
          "model_module_version": "1.2.0",
          "state": {
            "_model_module": "@jupyter-widgets/base",
            "_model_module_version": "1.2.0",
            "_model_name": "LayoutModel",
            "_view_count": null,
            "_view_module": "@jupyter-widgets/base",
            "_view_module_version": "1.2.0",
            "_view_name": "LayoutView",
            "align_content": null,
            "align_items": null,
            "align_self": null,
            "border": null,
            "bottom": null,
            "display": null,
            "flex": null,
            "flex_flow": null,
            "grid_area": null,
            "grid_auto_columns": null,
            "grid_auto_flow": null,
            "grid_auto_rows": null,
            "grid_column": null,
            "grid_gap": null,
            "grid_row": null,
            "grid_template_areas": null,
            "grid_template_columns": null,
            "grid_template_rows": null,
            "height": null,
            "justify_content": null,
            "justify_items": null,
            "left": null,
            "margin": null,
            "max_height": null,
            "max_width": null,
            "min_height": null,
            "min_width": null,
            "object_fit": null,
            "object_position": null,
            "order": null,
            "overflow": null,
            "overflow_x": null,
            "overflow_y": null,
            "padding": null,
            "right": null,
            "top": null,
            "visibility": null,
            "width": null
          }
        },
        "302aa497e2d04a6cb9da838f9a6725cc": {
          "model_module": "@jupyter-widgets/controls",
          "model_name": "DescriptionStyleModel",
          "model_module_version": "1.5.0",
          "state": {
            "_model_module": "@jupyter-widgets/controls",
            "_model_module_version": "1.5.0",
            "_model_name": "DescriptionStyleModel",
            "_view_count": null,
            "_view_module": "@jupyter-widgets/base",
            "_view_module_version": "1.2.0",
            "_view_name": "StyleView",
            "description_width": ""
          }
        }
      }
    }
  },
  "cells": [
    {
      "cell_type": "markdown",
      "source": [
        "# Embedding Model Experiments in LangChain\n",
        "* Notebook by Adam Lang\n",
        "* Date: 7/5/2024\n",
        "* In this notebook we will perform some experiments using various embedding models with LangChain."
      ],
      "metadata": {
        "id": "InM9UWuK2pl3"
      }
    },
    {
      "cell_type": "markdown",
      "source": [
        "## Install Dependencies"
      ],
      "metadata": {
        "id": "-w_cyatp25xm"
      }
    },
    {
      "cell_type": "code",
      "execution_count": 1,
      "metadata": {
        "colab": {
          "base_uri": "https://localhost:8080/"
        },
        "id": "KBrH3b2c2lW5",
        "outputId": "e49fc749-efd6-4139-93d8-727bdcc30e7f"
      },
      "outputs": [
        {
          "output_type": "stream",
          "name": "stdout",
          "text": [
            "Collecting langchain==0.2.0\n",
            "  Downloading langchain-0.2.0-py3-none-any.whl (973 kB)\n",
            "\u001b[2K     \u001b[90m━━━━━━━━━━━━━━━━━━━━━━━━━━━━━━━━━━━━━━━━\u001b[0m \u001b[32m973.7/973.7 kB\u001b[0m \u001b[31m3.5 MB/s\u001b[0m eta \u001b[36m0:00:00\u001b[0m\n",
            "\u001b[?25hRequirement already satisfied: PyYAML>=5.3 in /usr/local/lib/python3.10/dist-packages (from langchain==0.2.0) (6.0.1)\n",
            "Requirement already satisfied: SQLAlchemy<3,>=1.4 in /usr/local/lib/python3.10/dist-packages (from langchain==0.2.0) (2.0.31)\n",
            "Requirement already satisfied: aiohttp<4.0.0,>=3.8.3 in /usr/local/lib/python3.10/dist-packages (from langchain==0.2.0) (3.9.5)\n",
            "Requirement already satisfied: async-timeout<5.0.0,>=4.0.0 in /usr/local/lib/python3.10/dist-packages (from langchain==0.2.0) (4.0.3)\n",
            "Collecting dataclasses-json<0.7,>=0.5.7 (from langchain==0.2.0)\n",
            "  Downloading dataclasses_json-0.6.7-py3-none-any.whl (28 kB)\n",
            "Collecting langchain-core<0.3.0,>=0.2.0 (from langchain==0.2.0)\n",
            "  Downloading langchain_core-0.2.11-py3-none-any.whl (337 kB)\n",
            "\u001b[2K     \u001b[90m━━━━━━━━━━━━━━━━━━━━━━━━━━━━━━━━━━━━━━━━\u001b[0m \u001b[32m337.4/337.4 kB\u001b[0m \u001b[31m22.8 MB/s\u001b[0m eta \u001b[36m0:00:00\u001b[0m\n",
            "\u001b[?25hCollecting langchain-text-splitters<0.3.0,>=0.2.0 (from langchain==0.2.0)\n",
            "  Downloading langchain_text_splitters-0.2.2-py3-none-any.whl (25 kB)\n",
            "Collecting langsmith<0.2.0,>=0.1.17 (from langchain==0.2.0)\n",
            "  Downloading langsmith-0.1.83-py3-none-any.whl (127 kB)\n",
            "\u001b[2K     \u001b[90m━━━━━━━━━━━━━━━━━━━━━━━━━━━━━━━━━━━━━━━━\u001b[0m \u001b[32m127.5/127.5 kB\u001b[0m \u001b[31m7.9 MB/s\u001b[0m eta \u001b[36m0:00:00\u001b[0m\n",
            "\u001b[?25hRequirement already satisfied: numpy<2,>=1 in /usr/local/lib/python3.10/dist-packages (from langchain==0.2.0) (1.25.2)\n",
            "Requirement already satisfied: pydantic<3,>=1 in /usr/local/lib/python3.10/dist-packages (from langchain==0.2.0) (2.8.0)\n",
            "Requirement already satisfied: requests<3,>=2 in /usr/local/lib/python3.10/dist-packages (from langchain==0.2.0) (2.31.0)\n",
            "Requirement already satisfied: tenacity<9.0.0,>=8.1.0 in /usr/local/lib/python3.10/dist-packages (from langchain==0.2.0) (8.4.2)\n",
            "Requirement already satisfied: aiosignal>=1.1.2 in /usr/local/lib/python3.10/dist-packages (from aiohttp<4.0.0,>=3.8.3->langchain==0.2.0) (1.3.1)\n",
            "Requirement already satisfied: attrs>=17.3.0 in /usr/local/lib/python3.10/dist-packages (from aiohttp<4.0.0,>=3.8.3->langchain==0.2.0) (23.2.0)\n",
            "Requirement already satisfied: frozenlist>=1.1.1 in /usr/local/lib/python3.10/dist-packages (from aiohttp<4.0.0,>=3.8.3->langchain==0.2.0) (1.4.1)\n",
            "Requirement already satisfied: multidict<7.0,>=4.5 in /usr/local/lib/python3.10/dist-packages (from aiohttp<4.0.0,>=3.8.3->langchain==0.2.0) (6.0.5)\n",
            "Requirement already satisfied: yarl<2.0,>=1.0 in /usr/local/lib/python3.10/dist-packages (from aiohttp<4.0.0,>=3.8.3->langchain==0.2.0) (1.9.4)\n",
            "Collecting marshmallow<4.0.0,>=3.18.0 (from dataclasses-json<0.7,>=0.5.7->langchain==0.2.0)\n",
            "  Downloading marshmallow-3.21.3-py3-none-any.whl (49 kB)\n",
            "\u001b[2K     \u001b[90m━━━━━━━━━━━━━━━━━━━━━━━━━━━━━━━━━━━━━━━━\u001b[0m \u001b[32m49.2/49.2 kB\u001b[0m \u001b[31m3.1 MB/s\u001b[0m eta \u001b[36m0:00:00\u001b[0m\n",
            "\u001b[?25hCollecting typing-inspect<1,>=0.4.0 (from dataclasses-json<0.7,>=0.5.7->langchain==0.2.0)\n",
            "  Downloading typing_inspect-0.9.0-py3-none-any.whl (8.8 kB)\n",
            "Collecting jsonpatch<2.0,>=1.33 (from langchain-core<0.3.0,>=0.2.0->langchain==0.2.0)\n",
            "  Downloading jsonpatch-1.33-py2.py3-none-any.whl (12 kB)\n",
            "Requirement already satisfied: packaging<25,>=23.2 in /usr/local/lib/python3.10/dist-packages (from langchain-core<0.3.0,>=0.2.0->langchain==0.2.0) (24.1)\n",
            "Collecting orjson<4.0.0,>=3.9.14 (from langsmith<0.2.0,>=0.1.17->langchain==0.2.0)\n",
            "  Downloading orjson-3.10.6-cp310-cp310-manylinux_2_17_x86_64.manylinux2014_x86_64.whl (141 kB)\n",
            "\u001b[2K     \u001b[90m━━━━━━━━━━━━━━━━━━━━━━━━━━━━━━━━━━━━━━━━\u001b[0m \u001b[32m141.1/141.1 kB\u001b[0m \u001b[31m3.2 MB/s\u001b[0m eta \u001b[36m0:00:00\u001b[0m\n",
            "\u001b[?25hRequirement already satisfied: annotated-types>=0.4.0 in /usr/local/lib/python3.10/dist-packages (from pydantic<3,>=1->langchain==0.2.0) (0.7.0)\n",
            "Requirement already satisfied: pydantic-core==2.20.0 in /usr/local/lib/python3.10/dist-packages (from pydantic<3,>=1->langchain==0.2.0) (2.20.0)\n",
            "Requirement already satisfied: typing-extensions>=4.6.1 in /usr/local/lib/python3.10/dist-packages (from pydantic<3,>=1->langchain==0.2.0) (4.12.2)\n",
            "Requirement already satisfied: charset-normalizer<4,>=2 in /usr/local/lib/python3.10/dist-packages (from requests<3,>=2->langchain==0.2.0) (3.3.2)\n",
            "Requirement already satisfied: idna<4,>=2.5 in /usr/local/lib/python3.10/dist-packages (from requests<3,>=2->langchain==0.2.0) (3.7)\n",
            "Requirement already satisfied: urllib3<3,>=1.21.1 in /usr/local/lib/python3.10/dist-packages (from requests<3,>=2->langchain==0.2.0) (2.0.7)\n",
            "Requirement already satisfied: certifi>=2017.4.17 in /usr/local/lib/python3.10/dist-packages (from requests<3,>=2->langchain==0.2.0) (2024.6.2)\n",
            "Requirement already satisfied: greenlet!=0.4.17 in /usr/local/lib/python3.10/dist-packages (from SQLAlchemy<3,>=1.4->langchain==0.2.0) (3.0.3)\n",
            "Collecting jsonpointer>=1.9 (from jsonpatch<2.0,>=1.33->langchain-core<0.3.0,>=0.2.0->langchain==0.2.0)\n",
            "  Downloading jsonpointer-3.0.0-py2.py3-none-any.whl (7.6 kB)\n",
            "Collecting mypy-extensions>=0.3.0 (from typing-inspect<1,>=0.4.0->dataclasses-json<0.7,>=0.5.7->langchain==0.2.0)\n",
            "  Downloading mypy_extensions-1.0.0-py3-none-any.whl (4.7 kB)\n",
            "Installing collected packages: orjson, mypy-extensions, marshmallow, jsonpointer, typing-inspect, jsonpatch, langsmith, dataclasses-json, langchain-core, langchain-text-splitters, langchain\n",
            "Successfully installed dataclasses-json-0.6.7 jsonpatch-1.33 jsonpointer-3.0.0 langchain-0.2.0 langchain-core-0.2.11 langchain-text-splitters-0.2.2 langsmith-0.1.83 marshmallow-3.21.3 mypy-extensions-1.0.0 orjson-3.10.6 typing-inspect-0.9.0\n",
            "Collecting langchain-openai==0.1.7\n",
            "  Downloading langchain_openai-0.1.7-py3-none-any.whl (34 kB)\n",
            "Requirement already satisfied: langchain-core<0.3,>=0.1.46 in /usr/local/lib/python3.10/dist-packages (from langchain-openai==0.1.7) (0.2.11)\n",
            "Collecting openai<2.0.0,>=1.24.0 (from langchain-openai==0.1.7)\n",
            "  Downloading openai-1.35.10-py3-none-any.whl (328 kB)\n",
            "\u001b[2K     \u001b[90m━━━━━━━━━━━━━━━━━━━━━━━━━━━━━━━━━━━━━━━━\u001b[0m \u001b[32m328.3/328.3 kB\u001b[0m \u001b[31m2.5 MB/s\u001b[0m eta \u001b[36m0:00:00\u001b[0m\n",
            "\u001b[?25hCollecting tiktoken<1,>=0.7 (from langchain-openai==0.1.7)\n",
            "  Downloading tiktoken-0.7.0-cp310-cp310-manylinux_2_17_x86_64.manylinux2014_x86_64.whl (1.1 MB)\n",
            "\u001b[2K     \u001b[90m━━━━━━━━━━━━━━━━━━━━━━━━━━━━━━━━━━━━━━━━\u001b[0m \u001b[32m1.1/1.1 MB\u001b[0m \u001b[31m14.5 MB/s\u001b[0m eta \u001b[36m0:00:00\u001b[0m\n",
            "\u001b[?25hRequirement already satisfied: PyYAML>=5.3 in /usr/local/lib/python3.10/dist-packages (from langchain-core<0.3,>=0.1.46->langchain-openai==0.1.7) (6.0.1)\n",
            "Requirement already satisfied: jsonpatch<2.0,>=1.33 in /usr/local/lib/python3.10/dist-packages (from langchain-core<0.3,>=0.1.46->langchain-openai==0.1.7) (1.33)\n",
            "Requirement already satisfied: langsmith<0.2.0,>=0.1.75 in /usr/local/lib/python3.10/dist-packages (from langchain-core<0.3,>=0.1.46->langchain-openai==0.1.7) (0.1.83)\n",
            "Requirement already satisfied: packaging<25,>=23.2 in /usr/local/lib/python3.10/dist-packages (from langchain-core<0.3,>=0.1.46->langchain-openai==0.1.7) (24.1)\n",
            "Requirement already satisfied: pydantic<3,>=1 in /usr/local/lib/python3.10/dist-packages (from langchain-core<0.3,>=0.1.46->langchain-openai==0.1.7) (2.8.0)\n",
            "Requirement already satisfied: tenacity!=8.4.0,<9.0.0,>=8.1.0 in /usr/local/lib/python3.10/dist-packages (from langchain-core<0.3,>=0.1.46->langchain-openai==0.1.7) (8.4.2)\n",
            "Requirement already satisfied: anyio<5,>=3.5.0 in /usr/local/lib/python3.10/dist-packages (from openai<2.0.0,>=1.24.0->langchain-openai==0.1.7) (3.7.1)\n",
            "Requirement already satisfied: distro<2,>=1.7.0 in /usr/lib/python3/dist-packages (from openai<2.0.0,>=1.24.0->langchain-openai==0.1.7) (1.7.0)\n",
            "Collecting httpx<1,>=0.23.0 (from openai<2.0.0,>=1.24.0->langchain-openai==0.1.7)\n",
            "  Downloading httpx-0.27.0-py3-none-any.whl (75 kB)\n",
            "\u001b[2K     \u001b[90m━━━━━━━━━━━━━━━━━━━━━━━━━━━━━━━━━━━━━━━━\u001b[0m \u001b[32m75.6/75.6 kB\u001b[0m \u001b[31m6.2 MB/s\u001b[0m eta \u001b[36m0:00:00\u001b[0m\n",
            "\u001b[?25hRequirement already satisfied: sniffio in /usr/local/lib/python3.10/dist-packages (from openai<2.0.0,>=1.24.0->langchain-openai==0.1.7) (1.3.1)\n",
            "Requirement already satisfied: tqdm>4 in /usr/local/lib/python3.10/dist-packages (from openai<2.0.0,>=1.24.0->langchain-openai==0.1.7) (4.66.4)\n",
            "Requirement already satisfied: typing-extensions<5,>=4.7 in /usr/local/lib/python3.10/dist-packages (from openai<2.0.0,>=1.24.0->langchain-openai==0.1.7) (4.12.2)\n",
            "Requirement already satisfied: regex>=2022.1.18 in /usr/local/lib/python3.10/dist-packages (from tiktoken<1,>=0.7->langchain-openai==0.1.7) (2024.5.15)\n",
            "Requirement already satisfied: requests>=2.26.0 in /usr/local/lib/python3.10/dist-packages (from tiktoken<1,>=0.7->langchain-openai==0.1.7) (2.31.0)\n",
            "Requirement already satisfied: idna>=2.8 in /usr/local/lib/python3.10/dist-packages (from anyio<5,>=3.5.0->openai<2.0.0,>=1.24.0->langchain-openai==0.1.7) (3.7)\n",
            "Requirement already satisfied: exceptiongroup in /usr/local/lib/python3.10/dist-packages (from anyio<5,>=3.5.0->openai<2.0.0,>=1.24.0->langchain-openai==0.1.7) (1.2.1)\n",
            "Requirement already satisfied: certifi in /usr/local/lib/python3.10/dist-packages (from httpx<1,>=0.23.0->openai<2.0.0,>=1.24.0->langchain-openai==0.1.7) (2024.6.2)\n",
            "Collecting httpcore==1.* (from httpx<1,>=0.23.0->openai<2.0.0,>=1.24.0->langchain-openai==0.1.7)\n",
            "  Downloading httpcore-1.0.5-py3-none-any.whl (77 kB)\n",
            "\u001b[2K     \u001b[90m━━━━━━━━━━━━━━━━━━━━━━━━━━━━━━━━━━━━━━━━\u001b[0m \u001b[32m77.9/77.9 kB\u001b[0m \u001b[31m5.8 MB/s\u001b[0m eta \u001b[36m0:00:00\u001b[0m\n",
            "\u001b[?25hCollecting h11<0.15,>=0.13 (from httpcore==1.*->httpx<1,>=0.23.0->openai<2.0.0,>=1.24.0->langchain-openai==0.1.7)\n",
            "  Downloading h11-0.14.0-py3-none-any.whl (58 kB)\n",
            "\u001b[2K     \u001b[90m━━━━━━━━━━━━━━━━━━━━━━━━━━━━━━━━━━━━━━━━\u001b[0m \u001b[32m58.3/58.3 kB\u001b[0m \u001b[31m4.8 MB/s\u001b[0m eta \u001b[36m0:00:00\u001b[0m\n",
            "\u001b[?25hRequirement already satisfied: jsonpointer>=1.9 in /usr/local/lib/python3.10/dist-packages (from jsonpatch<2.0,>=1.33->langchain-core<0.3,>=0.1.46->langchain-openai==0.1.7) (3.0.0)\n",
            "Requirement already satisfied: orjson<4.0.0,>=3.9.14 in /usr/local/lib/python3.10/dist-packages (from langsmith<0.2.0,>=0.1.75->langchain-core<0.3,>=0.1.46->langchain-openai==0.1.7) (3.10.6)\n",
            "Requirement already satisfied: annotated-types>=0.4.0 in /usr/local/lib/python3.10/dist-packages (from pydantic<3,>=1->langchain-core<0.3,>=0.1.46->langchain-openai==0.1.7) (0.7.0)\n",
            "Requirement already satisfied: pydantic-core==2.20.0 in /usr/local/lib/python3.10/dist-packages (from pydantic<3,>=1->langchain-core<0.3,>=0.1.46->langchain-openai==0.1.7) (2.20.0)\n",
            "Requirement already satisfied: charset-normalizer<4,>=2 in /usr/local/lib/python3.10/dist-packages (from requests>=2.26.0->tiktoken<1,>=0.7->langchain-openai==0.1.7) (3.3.2)\n",
            "Requirement already satisfied: urllib3<3,>=1.21.1 in /usr/local/lib/python3.10/dist-packages (from requests>=2.26.0->tiktoken<1,>=0.7->langchain-openai==0.1.7) (2.0.7)\n",
            "Installing collected packages: h11, tiktoken, httpcore, httpx, openai, langchain-openai\n",
            "Successfully installed h11-0.14.0 httpcore-1.0.5 httpx-0.27.0 langchain-openai-0.1.7 openai-1.35.10 tiktoken-0.7.0\n",
            "Collecting langchain-community==0.2.0\n",
            "  Downloading langchain_community-0.2.0-py3-none-any.whl (2.1 MB)\n",
            "\u001b[2K     \u001b[90m━━━━━━━━━━━━━━━━━━━━━━━━━━━━━━━━━━━━━━━━\u001b[0m \u001b[32m2.1/2.1 MB\u001b[0m \u001b[31m8.2 MB/s\u001b[0m eta \u001b[36m0:00:00\u001b[0m\n",
            "\u001b[?25hRequirement already satisfied: PyYAML>=5.3 in /usr/local/lib/python3.10/dist-packages (from langchain-community==0.2.0) (6.0.1)\n",
            "Requirement already satisfied: SQLAlchemy<3,>=1.4 in /usr/local/lib/python3.10/dist-packages (from langchain-community==0.2.0) (2.0.31)\n",
            "Requirement already satisfied: aiohttp<4.0.0,>=3.8.3 in /usr/local/lib/python3.10/dist-packages (from langchain-community==0.2.0) (3.9.5)\n",
            "Requirement already satisfied: dataclasses-json<0.7,>=0.5.7 in /usr/local/lib/python3.10/dist-packages (from langchain-community==0.2.0) (0.6.7)\n",
            "Requirement already satisfied: langchain<0.3.0,>=0.2.0 in /usr/local/lib/python3.10/dist-packages (from langchain-community==0.2.0) (0.2.0)\n",
            "Requirement already satisfied: langchain-core<0.3.0,>=0.2.0 in /usr/local/lib/python3.10/dist-packages (from langchain-community==0.2.0) (0.2.11)\n",
            "Requirement already satisfied: langsmith<0.2.0,>=0.1.0 in /usr/local/lib/python3.10/dist-packages (from langchain-community==0.2.0) (0.1.83)\n",
            "Requirement already satisfied: numpy<2,>=1 in /usr/local/lib/python3.10/dist-packages (from langchain-community==0.2.0) (1.25.2)\n",
            "Requirement already satisfied: requests<3,>=2 in /usr/local/lib/python3.10/dist-packages (from langchain-community==0.2.0) (2.31.0)\n",
            "Requirement already satisfied: tenacity<9.0.0,>=8.1.0 in /usr/local/lib/python3.10/dist-packages (from langchain-community==0.2.0) (8.4.2)\n",
            "Requirement already satisfied: aiosignal>=1.1.2 in /usr/local/lib/python3.10/dist-packages (from aiohttp<4.0.0,>=3.8.3->langchain-community==0.2.0) (1.3.1)\n",
            "Requirement already satisfied: attrs>=17.3.0 in /usr/local/lib/python3.10/dist-packages (from aiohttp<4.0.0,>=3.8.3->langchain-community==0.2.0) (23.2.0)\n",
            "Requirement already satisfied: frozenlist>=1.1.1 in /usr/local/lib/python3.10/dist-packages (from aiohttp<4.0.0,>=3.8.3->langchain-community==0.2.0) (1.4.1)\n",
            "Requirement already satisfied: multidict<7.0,>=4.5 in /usr/local/lib/python3.10/dist-packages (from aiohttp<4.0.0,>=3.8.3->langchain-community==0.2.0) (6.0.5)\n",
            "Requirement already satisfied: yarl<2.0,>=1.0 in /usr/local/lib/python3.10/dist-packages (from aiohttp<4.0.0,>=3.8.3->langchain-community==0.2.0) (1.9.4)\n",
            "Requirement already satisfied: async-timeout<5.0,>=4.0 in /usr/local/lib/python3.10/dist-packages (from aiohttp<4.0.0,>=3.8.3->langchain-community==0.2.0) (4.0.3)\n",
            "Requirement already satisfied: marshmallow<4.0.0,>=3.18.0 in /usr/local/lib/python3.10/dist-packages (from dataclasses-json<0.7,>=0.5.7->langchain-community==0.2.0) (3.21.3)\n",
            "Requirement already satisfied: typing-inspect<1,>=0.4.0 in /usr/local/lib/python3.10/dist-packages (from dataclasses-json<0.7,>=0.5.7->langchain-community==0.2.0) (0.9.0)\n",
            "Requirement already satisfied: langchain-text-splitters<0.3.0,>=0.2.0 in /usr/local/lib/python3.10/dist-packages (from langchain<0.3.0,>=0.2.0->langchain-community==0.2.0) (0.2.2)\n",
            "Requirement already satisfied: pydantic<3,>=1 in /usr/local/lib/python3.10/dist-packages (from langchain<0.3.0,>=0.2.0->langchain-community==0.2.0) (2.8.0)\n",
            "Requirement already satisfied: jsonpatch<2.0,>=1.33 in /usr/local/lib/python3.10/dist-packages (from langchain-core<0.3.0,>=0.2.0->langchain-community==0.2.0) (1.33)\n",
            "Requirement already satisfied: packaging<25,>=23.2 in /usr/local/lib/python3.10/dist-packages (from langchain-core<0.3.0,>=0.2.0->langchain-community==0.2.0) (24.1)\n",
            "Requirement already satisfied: orjson<4.0.0,>=3.9.14 in /usr/local/lib/python3.10/dist-packages (from langsmith<0.2.0,>=0.1.0->langchain-community==0.2.0) (3.10.6)\n",
            "Requirement already satisfied: charset-normalizer<4,>=2 in /usr/local/lib/python3.10/dist-packages (from requests<3,>=2->langchain-community==0.2.0) (3.3.2)\n",
            "Requirement already satisfied: idna<4,>=2.5 in /usr/local/lib/python3.10/dist-packages (from requests<3,>=2->langchain-community==0.2.0) (3.7)\n",
            "Requirement already satisfied: urllib3<3,>=1.21.1 in /usr/local/lib/python3.10/dist-packages (from requests<3,>=2->langchain-community==0.2.0) (2.0.7)\n",
            "Requirement already satisfied: certifi>=2017.4.17 in /usr/local/lib/python3.10/dist-packages (from requests<3,>=2->langchain-community==0.2.0) (2024.6.2)\n",
            "Requirement already satisfied: typing-extensions>=4.6.0 in /usr/local/lib/python3.10/dist-packages (from SQLAlchemy<3,>=1.4->langchain-community==0.2.0) (4.12.2)\n",
            "Requirement already satisfied: greenlet!=0.4.17 in /usr/local/lib/python3.10/dist-packages (from SQLAlchemy<3,>=1.4->langchain-community==0.2.0) (3.0.3)\n",
            "Requirement already satisfied: jsonpointer>=1.9 in /usr/local/lib/python3.10/dist-packages (from jsonpatch<2.0,>=1.33->langchain-core<0.3.0,>=0.2.0->langchain-community==0.2.0) (3.0.0)\n",
            "Requirement already satisfied: annotated-types>=0.4.0 in /usr/local/lib/python3.10/dist-packages (from pydantic<3,>=1->langchain<0.3.0,>=0.2.0->langchain-community==0.2.0) (0.7.0)\n",
            "Requirement already satisfied: pydantic-core==2.20.0 in /usr/local/lib/python3.10/dist-packages (from pydantic<3,>=1->langchain<0.3.0,>=0.2.0->langchain-community==0.2.0) (2.20.0)\n",
            "Requirement already satisfied: mypy-extensions>=0.3.0 in /usr/local/lib/python3.10/dist-packages (from typing-inspect<1,>=0.4.0->dataclasses-json<0.7,>=0.5.7->langchain-community==0.2.0) (1.0.0)\n",
            "Installing collected packages: langchain-community\n",
            "Successfully installed langchain-community-0.2.0\n",
            "Collecting langchain-huggingface==0.0.1\n",
            "  Downloading langchain_huggingface-0.0.1-py3-none-any.whl (17 kB)\n",
            "Requirement already satisfied: huggingface-hub>=0.23.0 in /usr/local/lib/python3.10/dist-packages (from langchain-huggingface==0.0.1) (0.23.4)\n",
            "Requirement already satisfied: langchain-core<0.3,>=0.1.52 in /usr/local/lib/python3.10/dist-packages (from langchain-huggingface==0.0.1) (0.2.11)\n",
            "Collecting sentence-transformers>=2.6.0 (from langchain-huggingface==0.0.1)\n",
            "  Downloading sentence_transformers-3.0.1-py3-none-any.whl (227 kB)\n",
            "\u001b[2K     \u001b[90m━━━━━━━━━━━━━━━━━━━━━━━━━━━━━━━━━━━━━━━━\u001b[0m \u001b[32m227.1/227.1 kB\u001b[0m \u001b[31m2.5 MB/s\u001b[0m eta \u001b[36m0:00:00\u001b[0m\n",
            "\u001b[?25hCollecting text-generation<0.8.0,>=0.7.0 (from langchain-huggingface==0.0.1)\n",
            "  Downloading text_generation-0.7.0-py3-none-any.whl (12 kB)\n",
            "Requirement already satisfied: tokenizers>=0.19.1 in /usr/local/lib/python3.10/dist-packages (from langchain-huggingface==0.0.1) (0.19.1)\n",
            "Requirement already satisfied: transformers>=4.39.0 in /usr/local/lib/python3.10/dist-packages (from langchain-huggingface==0.0.1) (4.41.2)\n",
            "Requirement already satisfied: filelock in /usr/local/lib/python3.10/dist-packages (from huggingface-hub>=0.23.0->langchain-huggingface==0.0.1) (3.15.4)\n",
            "Requirement already satisfied: fsspec>=2023.5.0 in /usr/local/lib/python3.10/dist-packages (from huggingface-hub>=0.23.0->langchain-huggingface==0.0.1) (2023.6.0)\n",
            "Requirement already satisfied: packaging>=20.9 in /usr/local/lib/python3.10/dist-packages (from huggingface-hub>=0.23.0->langchain-huggingface==0.0.1) (24.1)\n",
            "Requirement already satisfied: pyyaml>=5.1 in /usr/local/lib/python3.10/dist-packages (from huggingface-hub>=0.23.0->langchain-huggingface==0.0.1) (6.0.1)\n",
            "Requirement already satisfied: requests in /usr/local/lib/python3.10/dist-packages (from huggingface-hub>=0.23.0->langchain-huggingface==0.0.1) (2.31.0)\n",
            "Requirement already satisfied: tqdm>=4.42.1 in /usr/local/lib/python3.10/dist-packages (from huggingface-hub>=0.23.0->langchain-huggingface==0.0.1) (4.66.4)\n",
            "Requirement already satisfied: typing-extensions>=3.7.4.3 in /usr/local/lib/python3.10/dist-packages (from huggingface-hub>=0.23.0->langchain-huggingface==0.0.1) (4.12.2)\n",
            "Requirement already satisfied: jsonpatch<2.0,>=1.33 in /usr/local/lib/python3.10/dist-packages (from langchain-core<0.3,>=0.1.52->langchain-huggingface==0.0.1) (1.33)\n",
            "Requirement already satisfied: langsmith<0.2.0,>=0.1.75 in /usr/local/lib/python3.10/dist-packages (from langchain-core<0.3,>=0.1.52->langchain-huggingface==0.0.1) (0.1.83)\n",
            "Requirement already satisfied: pydantic<3,>=1 in /usr/local/lib/python3.10/dist-packages (from langchain-core<0.3,>=0.1.52->langchain-huggingface==0.0.1) (2.8.0)\n",
            "Requirement already satisfied: tenacity!=8.4.0,<9.0.0,>=8.1.0 in /usr/local/lib/python3.10/dist-packages (from langchain-core<0.3,>=0.1.52->langchain-huggingface==0.0.1) (8.4.2)\n",
            "Requirement already satisfied: torch>=1.11.0 in /usr/local/lib/python3.10/dist-packages (from sentence-transformers>=2.6.0->langchain-huggingface==0.0.1) (2.3.0+cu121)\n",
            "Requirement already satisfied: numpy in /usr/local/lib/python3.10/dist-packages (from sentence-transformers>=2.6.0->langchain-huggingface==0.0.1) (1.25.2)\n",
            "Requirement already satisfied: scikit-learn in /usr/local/lib/python3.10/dist-packages (from sentence-transformers>=2.6.0->langchain-huggingface==0.0.1) (1.2.2)\n",
            "Requirement already satisfied: scipy in /usr/local/lib/python3.10/dist-packages (from sentence-transformers>=2.6.0->langchain-huggingface==0.0.1) (1.11.4)\n",
            "Requirement already satisfied: Pillow in /usr/local/lib/python3.10/dist-packages (from sentence-transformers>=2.6.0->langchain-huggingface==0.0.1) (9.4.0)\n",
            "Requirement already satisfied: aiohttp<4.0,>=3.8 in /usr/local/lib/python3.10/dist-packages (from text-generation<0.8.0,>=0.7.0->langchain-huggingface==0.0.1) (3.9.5)\n",
            "Requirement already satisfied: regex!=2019.12.17 in /usr/local/lib/python3.10/dist-packages (from transformers>=4.39.0->langchain-huggingface==0.0.1) (2024.5.15)\n",
            "Requirement already satisfied: safetensors>=0.4.1 in /usr/local/lib/python3.10/dist-packages (from transformers>=4.39.0->langchain-huggingface==0.0.1) (0.4.3)\n",
            "Requirement already satisfied: aiosignal>=1.1.2 in /usr/local/lib/python3.10/dist-packages (from aiohttp<4.0,>=3.8->text-generation<0.8.0,>=0.7.0->langchain-huggingface==0.0.1) (1.3.1)\n",
            "Requirement already satisfied: attrs>=17.3.0 in /usr/local/lib/python3.10/dist-packages (from aiohttp<4.0,>=3.8->text-generation<0.8.0,>=0.7.0->langchain-huggingface==0.0.1) (23.2.0)\n",
            "Requirement already satisfied: frozenlist>=1.1.1 in /usr/local/lib/python3.10/dist-packages (from aiohttp<4.0,>=3.8->text-generation<0.8.0,>=0.7.0->langchain-huggingface==0.0.1) (1.4.1)\n",
            "Requirement already satisfied: multidict<7.0,>=4.5 in /usr/local/lib/python3.10/dist-packages (from aiohttp<4.0,>=3.8->text-generation<0.8.0,>=0.7.0->langchain-huggingface==0.0.1) (6.0.5)\n",
            "Requirement already satisfied: yarl<2.0,>=1.0 in /usr/local/lib/python3.10/dist-packages (from aiohttp<4.0,>=3.8->text-generation<0.8.0,>=0.7.0->langchain-huggingface==0.0.1) (1.9.4)\n",
            "Requirement already satisfied: async-timeout<5.0,>=4.0 in /usr/local/lib/python3.10/dist-packages (from aiohttp<4.0,>=3.8->text-generation<0.8.0,>=0.7.0->langchain-huggingface==0.0.1) (4.0.3)\n",
            "Requirement already satisfied: jsonpointer>=1.9 in /usr/local/lib/python3.10/dist-packages (from jsonpatch<2.0,>=1.33->langchain-core<0.3,>=0.1.52->langchain-huggingface==0.0.1) (3.0.0)\n",
            "Requirement already satisfied: orjson<4.0.0,>=3.9.14 in /usr/local/lib/python3.10/dist-packages (from langsmith<0.2.0,>=0.1.75->langchain-core<0.3,>=0.1.52->langchain-huggingface==0.0.1) (3.10.6)\n",
            "Requirement already satisfied: annotated-types>=0.4.0 in /usr/local/lib/python3.10/dist-packages (from pydantic<3,>=1->langchain-core<0.3,>=0.1.52->langchain-huggingface==0.0.1) (0.7.0)\n",
            "Requirement already satisfied: pydantic-core==2.20.0 in /usr/local/lib/python3.10/dist-packages (from pydantic<3,>=1->langchain-core<0.3,>=0.1.52->langchain-huggingface==0.0.1) (2.20.0)\n",
            "Requirement already satisfied: charset-normalizer<4,>=2 in /usr/local/lib/python3.10/dist-packages (from requests->huggingface-hub>=0.23.0->langchain-huggingface==0.0.1) (3.3.2)\n",
            "Requirement already satisfied: idna<4,>=2.5 in /usr/local/lib/python3.10/dist-packages (from requests->huggingface-hub>=0.23.0->langchain-huggingface==0.0.1) (3.7)\n",
            "Requirement already satisfied: urllib3<3,>=1.21.1 in /usr/local/lib/python3.10/dist-packages (from requests->huggingface-hub>=0.23.0->langchain-huggingface==0.0.1) (2.0.7)\n",
            "Requirement already satisfied: certifi>=2017.4.17 in /usr/local/lib/python3.10/dist-packages (from requests->huggingface-hub>=0.23.0->langchain-huggingface==0.0.1) (2024.6.2)\n",
            "Requirement already satisfied: sympy in /usr/local/lib/python3.10/dist-packages (from torch>=1.11.0->sentence-transformers>=2.6.0->langchain-huggingface==0.0.1) (1.12.1)\n",
            "Requirement already satisfied: networkx in /usr/local/lib/python3.10/dist-packages (from torch>=1.11.0->sentence-transformers>=2.6.0->langchain-huggingface==0.0.1) (3.3)\n",
            "Requirement already satisfied: jinja2 in /usr/local/lib/python3.10/dist-packages (from torch>=1.11.0->sentence-transformers>=2.6.0->langchain-huggingface==0.0.1) (3.1.4)\n",
            "Collecting nvidia-cuda-nvrtc-cu12==12.1.105 (from torch>=1.11.0->sentence-transformers>=2.6.0->langchain-huggingface==0.0.1)\n",
            "  Using cached nvidia_cuda_nvrtc_cu12-12.1.105-py3-none-manylinux1_x86_64.whl (23.7 MB)\n",
            "Collecting nvidia-cuda-runtime-cu12==12.1.105 (from torch>=1.11.0->sentence-transformers>=2.6.0->langchain-huggingface==0.0.1)\n",
            "  Using cached nvidia_cuda_runtime_cu12-12.1.105-py3-none-manylinux1_x86_64.whl (823 kB)\n",
            "Collecting nvidia-cuda-cupti-cu12==12.1.105 (from torch>=1.11.0->sentence-transformers>=2.6.0->langchain-huggingface==0.0.1)\n",
            "  Using cached nvidia_cuda_cupti_cu12-12.1.105-py3-none-manylinux1_x86_64.whl (14.1 MB)\n",
            "Collecting nvidia-cudnn-cu12==8.9.2.26 (from torch>=1.11.0->sentence-transformers>=2.6.0->langchain-huggingface==0.0.1)\n",
            "  Using cached nvidia_cudnn_cu12-8.9.2.26-py3-none-manylinux1_x86_64.whl (731.7 MB)\n",
            "Collecting nvidia-cublas-cu12==12.1.3.1 (from torch>=1.11.0->sentence-transformers>=2.6.0->langchain-huggingface==0.0.1)\n",
            "  Using cached nvidia_cublas_cu12-12.1.3.1-py3-none-manylinux1_x86_64.whl (410.6 MB)\n",
            "Collecting nvidia-cufft-cu12==11.0.2.54 (from torch>=1.11.0->sentence-transformers>=2.6.0->langchain-huggingface==0.0.1)\n",
            "  Using cached nvidia_cufft_cu12-11.0.2.54-py3-none-manylinux1_x86_64.whl (121.6 MB)\n",
            "Collecting nvidia-curand-cu12==10.3.2.106 (from torch>=1.11.0->sentence-transformers>=2.6.0->langchain-huggingface==0.0.1)\n",
            "  Using cached nvidia_curand_cu12-10.3.2.106-py3-none-manylinux1_x86_64.whl (56.5 MB)\n",
            "Collecting nvidia-cusolver-cu12==11.4.5.107 (from torch>=1.11.0->sentence-transformers>=2.6.0->langchain-huggingface==0.0.1)\n",
            "  Using cached nvidia_cusolver_cu12-11.4.5.107-py3-none-manylinux1_x86_64.whl (124.2 MB)\n",
            "Collecting nvidia-cusparse-cu12==12.1.0.106 (from torch>=1.11.0->sentence-transformers>=2.6.0->langchain-huggingface==0.0.1)\n",
            "  Using cached nvidia_cusparse_cu12-12.1.0.106-py3-none-manylinux1_x86_64.whl (196.0 MB)\n",
            "Collecting nvidia-nccl-cu12==2.20.5 (from torch>=1.11.0->sentence-transformers>=2.6.0->langchain-huggingface==0.0.1)\n",
            "  Using cached nvidia_nccl_cu12-2.20.5-py3-none-manylinux2014_x86_64.whl (176.2 MB)\n",
            "Collecting nvidia-nvtx-cu12==12.1.105 (from torch>=1.11.0->sentence-transformers>=2.6.0->langchain-huggingface==0.0.1)\n",
            "  Using cached nvidia_nvtx_cu12-12.1.105-py3-none-manylinux1_x86_64.whl (99 kB)\n",
            "Requirement already satisfied: triton==2.3.0 in /usr/local/lib/python3.10/dist-packages (from torch>=1.11.0->sentence-transformers>=2.6.0->langchain-huggingface==0.0.1) (2.3.0)\n",
            "Collecting nvidia-nvjitlink-cu12 (from nvidia-cusolver-cu12==11.4.5.107->torch>=1.11.0->sentence-transformers>=2.6.0->langchain-huggingface==0.0.1)\n",
            "  Downloading nvidia_nvjitlink_cu12-12.5.82-py3-none-manylinux2014_x86_64.whl (21.3 MB)\n",
            "\u001b[2K     \u001b[90m━━━━━━━━━━━━━━━━━━━━━━━━━━━━━━━━━━━━━━━━\u001b[0m \u001b[32m21.3/21.3 MB\u001b[0m \u001b[31m50.5 MB/s\u001b[0m eta \u001b[36m0:00:00\u001b[0m\n",
            "\u001b[?25hRequirement already satisfied: joblib>=1.1.1 in /usr/local/lib/python3.10/dist-packages (from scikit-learn->sentence-transformers>=2.6.0->langchain-huggingface==0.0.1) (1.4.2)\n",
            "Requirement already satisfied: threadpoolctl>=2.0.0 in /usr/local/lib/python3.10/dist-packages (from scikit-learn->sentence-transformers>=2.6.0->langchain-huggingface==0.0.1) (3.5.0)\n",
            "Requirement already satisfied: MarkupSafe>=2.0 in /usr/local/lib/python3.10/dist-packages (from jinja2->torch>=1.11.0->sentence-transformers>=2.6.0->langchain-huggingface==0.0.1) (2.1.5)\n",
            "Requirement already satisfied: mpmath<1.4.0,>=1.1.0 in /usr/local/lib/python3.10/dist-packages (from sympy->torch>=1.11.0->sentence-transformers>=2.6.0->langchain-huggingface==0.0.1) (1.3.0)\n",
            "Installing collected packages: nvidia-nvtx-cu12, nvidia-nvjitlink-cu12, nvidia-nccl-cu12, nvidia-curand-cu12, nvidia-cufft-cu12, nvidia-cuda-runtime-cu12, nvidia-cuda-nvrtc-cu12, nvidia-cuda-cupti-cu12, nvidia-cublas-cu12, nvidia-cusparse-cu12, nvidia-cudnn-cu12, text-generation, nvidia-cusolver-cu12, sentence-transformers, langchain-huggingface\n",
            "Successfully installed langchain-huggingface-0.0.1 nvidia-cublas-cu12-12.1.3.1 nvidia-cuda-cupti-cu12-12.1.105 nvidia-cuda-nvrtc-cu12-12.1.105 nvidia-cuda-runtime-cu12-12.1.105 nvidia-cudnn-cu12-8.9.2.26 nvidia-cufft-cu12-11.0.2.54 nvidia-curand-cu12-10.3.2.106 nvidia-cusolver-cu12-11.4.5.107 nvidia-cusparse-cu12-12.1.0.106 nvidia-nccl-cu12-2.20.5 nvidia-nvjitlink-cu12-12.5.82 nvidia-nvtx-cu12-12.1.105 sentence-transformers-3.0.1 text-generation-0.7.0\n"
          ]
        }
      ],
      "source": [
        "!pip install langchain==0.2.0\n",
        "!pip install langchain-openai==0.1.7\n",
        "!pip install langchain-community==0.2.0\n",
        "!pip install langchain-huggingface==0.0.1"
      ]
    },
    {
      "cell_type": "markdown",
      "source": [
        "## OpenAI and HuggingFace API Tokens"
      ],
      "metadata": {
        "id": "YEBPG2yj3K6v"
      }
    },
    {
      "cell_type": "code",
      "source": [
        "from getpass import getpass\n",
        "\n",
        "OPENAI_KEY = getpass('Enter your OPENAI API Key: ')"
      ],
      "metadata": {
        "colab": {
          "base_uri": "https://localhost:8080/"
        },
        "id": "8i2yKlNY3ElX",
        "outputId": "1f5ea93e-10d7-4a35-8ae8-2fb8239e6e7f"
      },
      "execution_count": 2,
      "outputs": [
        {
          "name": "stdout",
          "output_type": "stream",
          "text": [
            "Enter your OPENAI API Key: ··········\n"
          ]
        }
      ]
    },
    {
      "cell_type": "code",
      "source": [
        "from getpass import getpass\n",
        "\n",
        "HUGGINGFACEHUB_API_TOKEN = getpass('Enter your HuggingFace Auth Token: ')"
      ],
      "metadata": {
        "colab": {
          "base_uri": "https://localhost:8080/"
        },
        "id": "Nm1VC4go3Vmq",
        "outputId": "6b00e51c-c41d-4deb-919c-bc53cf70a2ec"
      },
      "execution_count": 3,
      "outputs": [
        {
          "name": "stdout",
          "output_type": "stream",
          "text": [
            "Enter your HuggingFace Auth Token: ··········\n"
          ]
        }
      ]
    },
    {
      "cell_type": "markdown",
      "source": [
        "## Environment Variables"
      ],
      "metadata": {
        "id": "qNCci3sN3sBA"
      }
    },
    {
      "cell_type": "code",
      "source": [
        "import os\n",
        "\n",
        "os.environ['OPENAI_API_KEY'] = OPENAI_KEY\n",
        "os.environ['HUGGINGFACEHUB_API_TOKEN'] = HUGGINGFACEHUB_API_TOKEN"
      ],
      "metadata": {
        "id": "QavelMec3nIV"
      },
      "execution_count": 5,
      "outputs": []
    },
    {
      "cell_type": "markdown",
      "source": [
        "# Embedding Models\n",
        "* The LangChain Embeddings class is used for interfacing with text embedding models.\n",
        "* There are numerous providers available (e.g. OpenAI, Cohere, HuggingFace, etc..) -- the idea is you can interface with just about any embedding provider.\n",
        "* Embeddings vectorize text in order to compare the semantic similarity of words and sentences in the same vector space.\n",
        "* LangChain provides a base Embeddings class with 2 methods:\n",
        "1. Embedding documents\n",
        "  * input is multiple texts\n",
        "2. Embedding queries\n",
        "  * input is single text\n",
        "\n",
        "## Why are there 2 methods for embedding text?\n",
        "* Depending on the source of your embeddings, some may use the same method or different when embedding text and documents vs. search queries."
      ],
      "metadata": {
        "id": "j5tciRhl4OpM"
      }
    },
    {
      "cell_type": "code",
      "source": [
        "## lets setup some text documents\n",
        "docs = [\n",
        "    \"cats eat and spleep\",\n",
        "    \"dogs eat and bark\",\n",
        "    \"cars drive fast\",\n",
        "    \"vehicles include trucks and cars\"\n",
        "]"
      ],
      "metadata": {
        "id": "gJhKdM8R339m"
      },
      "execution_count": 6,
      "outputs": []
    },
    {
      "cell_type": "markdown",
      "source": [
        "## Technical Notes\n",
        "* `.embed_documents`\n",
        "   * input is multiple text\n",
        "   * returns a list of lists of floats\n",
        "* `.embed_query`\n",
        "   * input is single text\n",
        "   * returns a list of floats"
      ],
      "metadata": {
        "id": "XlaXM03L5PmM"
      }
    },
    {
      "cell_type": "markdown",
      "source": [
        "## OpenAI Embedding Models\n",
        "* LangChain gives access to multiple text embedding models such as:\n",
        "1. `text-embedding-3-small`\n",
        "2. `text-embedding-3-large`"
      ],
      "metadata": {
        "id": "6EuNlP6t5mDC"
      }
    },
    {
      "cell_type": "code",
      "source": [
        "from langchain_openai import OpenAIEmbeddings\n",
        "\n",
        "# load model from openai\n",
        "openai_embed_model = OpenAIEmbeddings(model='text-embedding-3-small')"
      ],
      "metadata": {
        "id": "CxTebkum5IvS"
      },
      "execution_count": 7,
      "outputs": []
    },
    {
      "cell_type": "code",
      "source": [
        "## embed documents\n",
        "embeddings = openai_embed_model.embed_documents(docs)"
      ],
      "metadata": {
        "id": "BZiN026W57TB"
      },
      "execution_count": 8,
      "outputs": []
    },
    {
      "cell_type": "code",
      "source": [
        "# length of emebddings\n",
        "len(embeddings)"
      ],
      "metadata": {
        "colab": {
          "base_uri": "https://localhost:8080/"
        },
        "id": "6fPoYjWi6Anp",
        "outputId": "9162182d-7607-4d1e-99b5-f047cadcecea"
      },
      "execution_count": 9,
      "outputs": [
        {
          "output_type": "execute_result",
          "data": {
            "text/plain": [
              "4"
            ]
          },
          "metadata": {},
          "execution_count": 9
        }
      ]
    },
    {
      "cell_type": "code",
      "source": [
        "# first index length\n",
        "len(embeddings[0])"
      ],
      "metadata": {
        "colab": {
          "base_uri": "https://localhost:8080/"
        },
        "id": "6CKsm6q76Cvx",
        "outputId": "beb27ed4-cd28-4b85-e1d4-e38274ba8760"
      },
      "execution_count": 11,
      "outputs": [
        {
          "output_type": "execute_result",
          "data": {
            "text/plain": [
              "1536"
            ]
          },
          "metadata": {},
          "execution_count": 11
        }
      ]
    },
    {
      "cell_type": "code",
      "source": [
        "# print first list of lists\n",
        "print(embeddings[0])"
      ],
      "metadata": {
        "colab": {
          "base_uri": "https://localhost:8080/"
        },
        "id": "W3sF4aYt6Gmu",
        "outputId": "ad635989-86fe-4558-9860-18463e23c108"
      },
      "execution_count": 12,
      "outputs": [
        {
          "output_type": "stream",
          "name": "stdout",
          "text": [
            "[-0.004183967570865675, -0.012147431183688781, -0.010854445328023384, 0.002973866164178819, -0.0009208375645234025, 0.022676972526454307, 0.027636730865661166, 0.04760838269361552, -0.008215429208474042, -0.012160692285743417, 0.06954271301591367, -0.01174958974014657, -0.02883025612761037, 0.04774099557680702, 0.01921575131571127, 0.021470187093773036, 0.018194623174440046, 0.011431315840254745, -0.020634718106556996, 0.029307666977448105, 0.03219864869264838, -0.0007244032993875411, 0.024347906775596107, -0.02031644606931031, -0.03599140397401531, 0.04206512096284355, -0.0013211656975315005, 0.021549753706100853, 0.016576735196161926, -0.02463965847137866, 0.014136639332722406, -0.04248948367917247, -0.008699470143677812, -0.07277849269776018, 0.0022958777697203955, 0.03339217209195245, -0.008328150904244873, -0.014786447303238123, -0.03294128530886912, -0.020197093356850875, -0.017160234862436754, 0.004180652528182658, 0.009780273709856183, 0.002882694108492735, -0.009216664299679456, -0.027185844082577838, -0.031111214109781408, -0.012744192883340813, 0.04201207655462501, 0.02139061861880008, 0.001833386823847336, 0.009614505743221669, 0.006272636313615496, 0.030580758851725124, 0.012021447454540745, 0.024652918642110725, 0.03137644360145469, 0.016682825875244157, -0.013738796957857626, -0.02925462070658442, 0.005500160587957329, 0.04824492676810889, 0.06216938381134427, -0.002768314658549753, 0.0230217686304554, 0.004207175197953216, 0.03824584161472221, -0.04882843015967399, 0.005738865547214913, -0.024732487117083684, -0.016616517571003266, -0.007976724714877741, -0.036442294482388914, 0.06842876181687284, 0.04927931694275732, 0.016948053504272295, -0.027636730865661166, 0.018367022157763164, 0.06455643433524268, 0.052833366799205375, -0.01315529636026023, 0.05211725424973905, 0.005934470760641717, -0.03967807043894515, -0.018751602499250737, -0.04821840642664475, -0.041481621296568724, -0.0026688542976642, 0.0033733653618931814, 0.03455917514979238, 0.03607097244898827, -0.030819464276643994, -0.04896104304286549, -0.0318008063177836, 0.013818365432830583, 0.02560773847914106, -0.00384911775906684, -0.036866657198717824, 0.002534582728977979, 0.023353302701079295, 0.0076783433993904415, -0.022305654218343934, -0.014759924167806282, 0.0038027027377224016, -0.0036468815289514333, 0.009760381591112944, 0.02188128963936988, -0.013844888568262425, 0.031058169701562863, -0.030209440543614755, -0.013606183143343557, -0.030209440543614755, 0.0057256039794989924, 0.002055515056290661, 0.007565621703619609, -0.05596305393932453, 0.02092646980233955, -0.0022676973457776872, -0.021841505401883406, -0.0015971683794326573, 0.04304646300398316, 0.08503201549185375, -0.027371503236633024, -0.023446133209429457, -0.01174958974014657, 0.013831627466207789, -0.002735161204921235, 0.010231160492939508, -0.003729765279438048, 0.01462731035329221, 0.005254824612011143, -0.016881747062676547, 0.04248948367917247, -0.043179075887174664, -0.01781004283295247, 0.0159004031588918, -0.036680996182017506, 0.002198074930176351, -0.04548655793610011, 0.035779222615850856, 0.03615054092396122, 0.0109141216842531, -0.011292071009052072, 0.011278809906997436, -0.03591183549904235, -0.038219317547967806, -0.0035772593461807388, 0.02938723545242106, -0.045778307769237525, -0.03893543382272441, -0.0036104127998092565, 0.04047375518867471, -0.01633802977124306, 0.030448145968533624, -0.041083778921703944, 0.01881790894084649, 0.028193710190471857, -0.043736055211985356, -0.039996344338836975, 0.042277302321008015, -0.002874405803293266, -0.03426742531665496, 0.015038413830211627, 0.015648437563240865, -0.0549551878314305, 0.01965337606541739, -0.04288732605403725, 0.02885677833171964, -0.018128316732844294, -0.029572894606476247, 0.003620358859180876, -0.03917413924764328, -0.037980612123048936, -0.016377814008729535, -0.014812969507347395, -0.004396149860352702, 0.020939729973071617, 0.014070331959804087, -0.029944212914586616, -0.02475901118383809, 0.050791114241953206, 0.03776843076488448, 0.00808281539395997, -0.019905341661068325, -0.007253978820416388, 0.012856915510434214, -0.0453274209861542, 0.030713373597561766, -0.0301298720686418, 0.019905341661068325, -0.004462456767609737, -0.02011752488187792, 0.028538506294472955, -0.012770716018772655, -0.004114345620925624, 0.021841505401883406, 0.03148253241789178, 0.019772728777876822, -0.0015316902328463761, -0.0024052841899775677, 0.023817451517539827, -0.0042734821052102506, 0.014945583321861466, -0.022438267101535438, 0.04217121350457092, 0.046096581669129354, -0.06747394011719736, 0.004906713465327029, 0.000916693411923668, -0.021947596080965633, 0.03023596274772403, 0.0021931019004905413, 0.037741910423420344, 0.01934836419890277, -0.0823266947933538, 0.008460765650081511, -0.012001555335797505, 0.02701344696189986, 0.0016253488033753651, 0.0014836176901604292, -0.0213508343813136, -0.03002378138955957, 0.06710261808379672, 0.03813974907299485, 0.007704866069160998, 0.03469178803298388, -0.0007915390837306516, -0.0481388379516718, -0.033445220225461265, -0.001599654894275562, -0.015555607054890704, -0.027504117982469663, 0.024281600334000356, -0.005360915756754656, -0.01917596707822479, -0.024347906775596107, -0.041799891471170275, 0.014879276880265715, -0.048934518976111084, 0.008991220908137794, -0.03172123784281065, -0.010880968463455225, -0.03294128530886912, 0.03251692259254021, -0.0097272274389925, 0.0004935722649940491, -0.015754528242323092, 0.012797239154204497, 0.002827990781948828, 0.029201574435720738, 0.017995701987007656, 0.048191882359890345, 0.0233665647344565, 0.015608653325754387, 0.017518292999815055, -0.015688221800727344, 0.028883302398474052, -0.00311311076255085, -0.04012895722202847, -0.002440095397778236, -0.07527163576338596, 0.006922444284131212, -0.03209255615092101, -0.036521859232071595, -0.004959758804868143, -0.03856411551461404, -0.03182733038453801, -0.03408176429995464, 0.04896104304286549, -0.02306155286794188, -0.031243828855618046, -0.003869009877810079, -0.009163618960138342, -0.017412202320732827, 0.011059997532144376, 0.06264679093589173, -0.049836292542277734, 0.012664625339690426, -0.03551399684946785, 0.0030832725844359915, -0.07293762964770609, -0.0449295823365797, 0.04580483183599194, -0.03079294207253472, -0.0124524430502034, 0.03113773817653582, -0.022544357780617665, 0.008288367598080963, 0.06736785130076027, -0.006421826738528504, 0.03593835956579677, 0.0005292122334654716, 0.049252792876002906, 0.013539876701747805, 0.015117981373862015, 0.06195720245317981, -0.018897477415819444, 0.04052679959689325, 0.012717670679231541, -0.022478051339021917, 0.061267610245177614, 0.024255078129891083, 0.018154838936953566, -0.016046278075460507, -0.005669243131613577, 0.03540790430774048, 0.027742823407388532, -0.006720208054015805, 0.0049431821944692055, 0.01901683012827888, -0.025196635933544213, -0.010668786173968199, 0.047449245743669606, -0.030474668172642896, 0.009767011676478978, -0.023485917446915933, 0.025236420171030692, 0.0039983084168104905, 0.04561917454458189, -0.04458478436993346, 0.04394823657014981, -0.0020488842724327005, 0.06004756277911914, 0.03317999073378799, 0.004797306812239215, 0.039518933488999236, -0.030819464276643994, 0.0043994653686970035, -0.04564569488604603, 0.00041296789739031086, 0.035779222615850856, -0.02567404678338195, -0.07861350426166956, 0.025236420171030692, -0.0010592533440170184, 0.001622033411446385, -0.0055896746566406206, -0.025806659666573452, 0.002380419041548519, 0.009965932863911368, -0.07023230894920614, -0.03389610700854459, -0.08333455717595754, 0.01596670960048755, -0.002242832197348639, 0.0632302980527471, 0.008354674039676714, 0.00858674844790698, 0.0035076369305794023, 0.0564935091973808, 0.006491449154129841, 0.05344339053223462, 0.04047375518867471, -0.01135174736528179, -0.05344339053223462, -0.019096398603251834, -0.02226586998085746, 0.0238439737216491, 0.0006895921497945334, 0.04652094811074854, 0.029334189181557377, -0.044213466061823095, 0.022889153884618763, 0.03177428597631947, 0.08699469957413297, 0.010735093546886518, -0.040500275530138845, -0.018062010291248543, -0.02413572541743165, 0.036680996182017506, 0.014202945774318158, 0.015224072984266812, 0.03317999073378799, -0.04508871556123533, -0.013844888568262425, 0.014932322219806829, 0.020860163360743797, 0.015661697733972933, -0.00034873303732931254, -0.003464537417579265, -0.005390753934869515, 0.0008611613247090066, 0.012207107539918497, -0.014401866961750548, 0.0009912886825878327, -0.0083016287001356, 0.002123479717719847, 0.00011541550992078842, -0.01985229725284978, -0.007651820729619884, -0.0061201303803581865, -0.015409732138321997, 0.01181589618174232, -0.005914578641898478, 0.029519848335612563, -0.025872966108169203, 0.009064158366422147, 0.003626989410208194, -0.06328333873567538, 0.012558533729285629, 0.027000184928522655, -0.03943936501402628, -0.02487836203365239, 0.016987837741758775, -0.0757490466132237, -0.0027550533236644745, 0.01904335233238815, -0.013765320093289467, 0.03315347039232385, -0.05198463764125727, 0.03302085378384208, 0.02001143420279569, 0.012061231692027222, -0.00531450096824086, -0.02322068981788779, -0.00801650895236422, -0.022557619813994872, 0.006640639579042849, -0.0006705289081373697, 0.04256905215414543, -0.04280775757906429, -0.07431681406371048, -0.015529084850781432, 0.028883302398474052, 0.000761286525280416, 0.006312420551101974, 0.019162705044847586, 0.01901683012827888, -0.013016051529057557, 0.02784891408647076, -0.007830848866986467, 0.015529084850781432, -0.029281142910693694, 0.023286996259483543, 0.005699081309728435, -0.05903969667122513, 0.0015234019276469074, -0.0017388993762322718, -0.021244741839586235, -0.04553960606960893, 0.011185980329969843, -0.008182275987676166, 0.0282467545986904, 0.005954362879384957, -0.0037993874622087426, -0.005158679526639249, -0.007313655176646105, -0.019427932673875728, 0.04240991892948979, -0.015237334086321448, 0.01229993711694609, -0.018831170974223693, 0.006789830469617141, -0.02975855376053143, 0.038855865347751456, 0.014640571455346847, 0.009302862860018447, 0.011278809906997436, 0.030660327326698083, -0.03996982027208256, 0.05877447090484212, 0.0014695274781890753, 0.011126303973740127, -0.004336473504122985, 0.050154566442169556, 0.027583686457442618, 0.043099507412201706, -0.02387049778840351, 0.03256996700075875, -0.026032103058115114, 0.007194302464186671, -0.023910282025889986, -0.03747668093174707, -0.0036899810419515704, 0.004614962700867047, -0.04588440031096489, -0.01098042905717142, 0.012532011525176356, 0.010920752700941703, 0.03933327619758919, 0.030315531222696986, -0.04028809417197439, -0.01536994790083552, -0.010920752700941703, 0.03275562801745907, -0.02591275034565568, -0.010330621086655703, -0.0484040637180548, 0.01001234718676388, -0.004300004774980808, -0.002546186309691107, 0.04111029926316808, 0.0364157704156345, -0.014083593061858723, 0.0020289923865201035, -0.02822023239458113, 0.014667094590778688, -0.05052588475027993, -0.003230805488007491, -0.02404289490908149, 0.0419855524878706, 0.017823304866329676, 0.05246204849109501, 0.01113293499042873, 0.0005619513067586121, -0.00456854791235325, -0.02729193476166007, -0.04970367965908623, -0.017146974691704685, 0.030713373597561766, 0.03477135650795683, 0.03068685139345249, 0.018605725720036895, -0.01308898898734191, -0.03206603580945688, -0.005546575376471126, -0.03705231821541815, -0.001864882639719024, -0.06720871435081435, -0.036442294482388914, 0.0051852026620710905, -0.0011562271900596665, 0.012837023391690974, -0.035381380240986075, 0.00294237023189181, -0.007824218781620432, 0.017770258595465993, -0.03371044599184427, -0.05681178309727263, 0.005924524701270098, 0.024294862367377563, -0.004326527444751365, 0.003583889897208057, 0.010118438797168677, 0.019945125898554805, 0.019441194707252932, -0.019865559286226984, -0.004618278209211348, -0.010668786173968199, 0.005944416820013337, 0.017491770795705783, -0.03591183549904235, 0.02936071138566665, -0.02059493386907052, -0.0036501968044650923, 0.004727684396637878, 0.005662612580586258, -0.012333090337743966, 0.02404289490908149, 0.0037065578851811502, -0.011451207958997985, -0.031562100892864736, 0.011623606010998534, 0.026814525774467468, -0.0013261387272173102, 0.009037635230990305, 0.018751602499250737, -0.0072937630579028665, 0.00046083322080473887, 0.016802178587703588, 0.009786903795222216, 0.03169471750134651, -0.01001234718676388, -0.02729193476166007, -0.02363179236348464, 0.0035374751086942606, -0.056917875639, -0.008142491750189688, -0.0150649360343209, 0.013407262887233734, 0.0055830441056133025, -0.019321841994793497, -0.006889290597672053, -0.06248765771123609, -0.01094064481968494, 0.021138651160504007, -0.039280228064080366, -0.0019908659032057763, -0.036680996182017506, -0.02034296827341958, 0.006935705851847133, -0.005944416820013337, -0.024175509654918128, -0.002781575993435032, -0.048934518976111084, 0.009084050485165387, 0.014441651199237026, -0.009123834722651865, -0.020608195902447723, 0.03447960667481942, -0.005221671391213267, 0.02925462070658442, 0.008991220908137794, 0.0006087805920231065, -0.031243828855618046, -0.02290241591799597, -0.022305654218343934, -0.009899625490993049, -0.016271723329647308, 0.008162383868932926, -3.196201557686002e-05, 0.015184288746780334, 0.031217306651508774, 0.005520052706700568, -0.014919061117752192, -0.00880556082276004, -0.04248948367917247, -2.4256423629068273e-05, 0.002027334632347953, -0.007479422677619335, 0.013035943647800797, 0.0055830441056133025, 0.004976335415267081, -0.04063289213862062, 0.017650905883006558, -0.028697643244418865, -0.03914761518088886, -0.007585513822362849, -0.04158771011300582, -0.027530640186578935, -0.01864550995752337, 0.027212366286687113, -0.00865305488950273, 0.040659412480084756, -0.013314433310206143, 0.022557619813994872, 0.007771172976418034, -0.010794768971793666, 0.008268475479337725, 0.031562100892864736, 0.04872233761794662, -0.0035706285623227784, -0.009461999809964358, -0.001493563749532049, -0.06906530216607594, -0.020236877594337354, -0.0030037043422936776, -0.03365740158362573, -0.0057090273691000545, -0.0007558990570515686, -0.0112655488049428, -0.008208799123108007, 0.006564386612414194, -0.03299433344237794, 0.018605725720036895, 0.02936071138566665, 0.03432046972487351, 0.004157444901095118, 0.015794312479809572, -0.011391531602768267, 0.0094885229453962, -0.03811322873153071, -0.011630237027687135, -0.001980919843834157, -0.01629824553375658, -0.030050303593668844, -0.011630237027687135, -0.0046646929977251445, -0.004485664394697278, 0.017014359945868047, -0.014905799084374989, -0.011305333042429278, 0.04718401625199633, 0.0044094114280686224, 0.02771629934063412, 0.0031545525213788365, -0.010158223034655155, -0.018433328599358912, 0.005815118513843568, -0.009163618960138342, 0.059464063112844315, 0.024188769825650196, 0.03371044599184427, 0.002352238617605811, 0.07543077271333186, -0.029519848335612563, 0.03787452330661185, 0.024016372704972217, -0.0007074121340302446, 0.05031370339211547, -0.03315347039232385, 0.01640433621283881, -0.03140296394291882, -0.02613819559984248, 0.006574332671785814, -0.04718401625199633, -0.010516280240710888, -0.017889611307925428, -0.0036932963174652294, 0.014932322219806829, -0.0076783433993904415, 0.02885677833171964, -0.011782742960944444, -0.015038413830211627, -0.008281736581392361, -0.02062145793582493, -0.009972562949277402, -0.056917875639, 0.0011852364910884497, -0.02430812253810963, 0.0012863546061461532, -0.03633620194066155, 0.02768977713652485, -0.013248125937287823, 0.02132431031455919, -0.002486510186292032, 0.015422993240376633, 0.0216956304853147, -0.02991769071047734, 0.01914944301147038, 0.01787635113719336, 0.022889153884618763, -0.0062427981355006375, 0.038961957889478815, 0.033047377850596485, 0.02145692506039583, -0.04275471317084575, -0.03447960667481942, 0.030819464276643994, 0.02326047405537427, 0.003104822224520739, 0.05034022745886988, 0.005042642788185401, -0.010880968463455225, -0.00011106412349762001, -0.008944805653962714, 0.009375801249625369, -0.04938540575919441, 0.029281142910693694, 0.029732031556422157, 0.04593744471918344, -0.005533313808755205, 0.033047377850596485, 0.006448349873960346, -0.03251692259254021, -0.017160234862436754, -0.046255718619075264, 0.013818365432830583, -0.020449058952501813, -0.046494424043994134, 0.03469178803298388, -0.0002335247394040854, 0.004449195665555101, 0.039598501963972195, 0.0198125130153633, 0.02631059272052046, 0.0070351659799020435, -0.017027621979245254, 0.014600787217860369, -0.022769803034804467, 0.011086519736253648, 0.00999245506802064, 0.002173209781747302, -0.03575270227438672, -0.04023504976375584, -0.02909548375663851, -0.004508871556123534, -0.01888421538244224, 0.02165584624782822, 0.03447960667481942, 0.03421438090843642, 0.017969179782898383, 0.021178435397990483, -0.018367022157763164, 0.01017148413670979, -0.04230382638776242, -0.008732623364475688, -0.03267605954248612, -0.0226637104930771, 0.008812191839448643, 0.0053277625359567805, -0.04856320066800071, 0.008613271583338822, -0.01717349689581396, 0.010337251172021738, -0.007757911874363397, 0.011199241432024479, -0.03145601207642764, -0.043019942662519024, 0.008772407601962165, 0.024533565929651294, 0.009800164897276854, 0.001997496454233095, -0.025236420171030692, -0.006411880679156885, -0.014136639332722406, 0.011026843380023932, -0.0010161538310168815, 0.0011222448593450735, 0.029413757656530332, -0.0482714508348633, -0.012929852968718568, -0.01824766944530373, 0.0003369221209293447, -0.02591275034565568, -0.015422993240376633, -0.038961957889478815, -0.03867020433105113, -0.018459850803468188, -0.016855222995922136, -0.0007430521025016671, 0.012432550931460161, -0.006736784664414743, 0.012200476523229895, 0.04068593654683916, -0.021178435397990483, 0.029042439348419963, 0.042038596896089145, 0.016284983500379376, 0.0498097722008136, -0.03137644360145469, 0.0013311117569031199, 0.025249682204407896, 0.0015076539615034028, -0.027053231199386338, -0.007658451280647202, 0.002653935208606771, -0.021509971331259512, -0.009256448537165935, 0.0032208594286358715, 0.008772407601962165, 0.011517515331916304, -0.010383666426196819, -0.02909548375663851, -0.002756710845005983, -0.0064947646624741425, 0.045778307769237525, -0.006474872543730903, -0.003825910364809942, -0.05893360412949776, 0.030289009018587713, 0.004372942698926446, -0.018963783857415196, -0.01005876244093896, 0.04158771011300582, 0.030315531222696986, 0.03140296394291882, -0.0034711682014372256, -0.042834281645818706, -0.011656759231796408, 0.03225169310086693, 0.0016236911656185356, 0.014547741878319255, -0.015104720271807377, 0.009833319049397297, -0.02075407081901643, -0.003461222142065606, 0.012896699747920692, -0.013645967380830034, 0.01623193909216083, -0.02219956167661657, -0.001382499691518047, 0.01820788520781725, -0.034585699216546785, 0.007021904877847407, 0.016550211129407518, 0.021987380318452113, 0.002630727814349873, 0.02172215268942397, -0.02637689916211621, -0.033286083275515355, -0.0006746730607371041, -0.025965796616519363, -0.03721145144007379, -0.002899270718891673, 0.01631150570448865, -0.036548383298826, 0.008865237178989757, 0.007041796530929362, 0.011119672957051524, -0.00810270751270321, -0.0004844550536046747, -0.025276204408517168, -0.020276661831823833, 0.03591183549904235, -0.030182918339505482, 0.008958067687339918, -0.015303641459239768, -0.014057070857749451, -0.006358835339615771, -0.04580483183599194, 0.006302474491730355, 0.025833181870682724, 0.012412658812716922, -0.000820962765094812, 0.024294862367377563, -0.02162932218107381, -0.001685025043189761, -0.016828700791812864, -0.017412202320732827, 0.011915356775458515, -0.03787452330661185, 0.054849099014993415, 0.021536493535368788, 0.01365922941420724, 0.0008354674156092035, -0.0010186403458597863, 0.022849371509777422, -0.016802178587703588, 0.007499314796362575, -0.03638924634888009, -0.04729010879372369, -0.07527163576338596, 0.031747761909565055, 0.05659960173910817, -0.0060936077105876296, -0.02768977713652485, 0.03217212462589397, -0.01039029744288542, 0.030474668172642896, -0.01961359182793091, -0.0170806663874638, -0.018181363003707977, 0.03946588908078069, 0.009912887524370253, -0.025024238812866233, -0.020449058952501813, -0.014216207807695362, 0.03188037479275656, -0.008321520818878839, 0.03440003819984647, -0.037105362623636694, -0.006113499829330868, -0.023313518463592815, 0.04482348979485233, -0.027636730865661166, 0.060524973628956875, -0.0003116425921649188, 0.018804646907469285, 0.004462456767609737, 0.023698098805080392, 0.009369170232936767, -0.013466939243463451, -0.011365009398658995, -0.00816901488562153, 0.03278214835892321, 0.010582587613629207, 0.0003986704661474381, 0.013606183143343557, -0.005559836478525762, 0.007479422677619335, 0.031747761909565055, -0.010728462530197914, -0.01315529636026023, 0.016921531300163023, -0.016550211129407518, 0.021735414722801175, 0.014706878828265166, -0.038855865347751456, 0.00845413463339291, 0.021138651160504007, -0.008261844462649121, 0.03373697005859868, -0.020966254039826025, -0.029015915281665552, 0.0638668384019502, -0.017200019099923233, -0.022385222693316893, -0.030713373597561766, 0.019494239115471476, -0.020369490477528857, 0.02975855376053143, 0.02554143203754531, -0.024493783554809953, 0.0029175053162934033, -0.0015093117156755535, 0.03657490736558041, 0.018181363003707977, 0.01572800603821382, 0.016948053504272295, 0.0242020318590274, 0.007002012759104168, 0.0005959335792655445, 0.0213508343813136, 0.009979193965966004, -0.007393223651619062, 0.02688083221606322, 0.015794312479809572, -0.0031578677968924955, 0.0085403331937319, 0.02564752271662754, 0.011020213294657898, -0.019069874536497423, 0.02615145577057455, 0.021602799976964536, 0.024520305758919225, 0.024082679146567965, 0.017385678253978416, -0.03185385445129242, -0.026894094249440427, -0.0048138834226381525, -0.02196085811434284, -0.022836109476400218, 0.02513032949194846, -0.01282376135831377, 0.01062900193648172, -3.159940004159599e-05, -0.008182275987676166, -0.010118438797168677, 0.003885586488209017, -0.02031644606931031, -0.049491498300921775, -0.014481435436723504, -0.042356870795980966, -0.0024019689144639087, 0.0032009673098926327, 0.013380739751801892, -0.02068776437742068, -0.02898939307755628, -0.003636935469579814, 0.04047375518867471, 0.010701939394766073, 0.020303184035933106, 0.03148253241789178, -0.007141257124645557, 0.01333432542894938, 0.002304166074919864, -0.02245152913491264, -0.03546094871595903, -0.008394458277163192, -0.044478691828206095, 0.012757454916718019, 0.001069199403388638, 0.03630967787390713, -0.0016717637083044825, -0.007466161109903414, 0.01385814967031706, 0.009481891928707598, 0.06254070211945464, -0.013115512122773752, -0.0036734044315526325, -0.01212090804825694, 0.021403878789532146, 0.013294541191462903, -0.0007248176797229182, 0.05235595594936764, 0.010456603884481172, 0.005430538172355993, -0.017597861474788014, 0.002015730818804183, -0.026734957299494513, -0.010595848715683845, -0.033524788700434224, 0.00797009369818914, -0.00010629830580737154, -0.012047970589972586, -0.004203859689608914, 0.007492683779673972, -0.00902437412893567, -0.0012822104535464187, 0.046414855569021175, 0.005178571645382489, -0.0253822950875994, -0.03445308633335529, 0.010323990069967101, 0.012419288898082956, 0.024228554063136672, 0.0011993267030598036, 0.0001400734026985305, -0.03447960667481942, -0.0022743278968050057, -0.006272636313615496, 0.015595391292377182, -0.04275471317084575, -0.041083778921703944, -0.01574126620894589, -0.010098546678425437, -0.030580758851725124, 0.015356686798780883, 0.014932322219806829, -0.004359681131210525, -0.008958067687339918, 0.006090292202243328, 0.02229239218496673, -0.007406484753673698, -0.018393544361872436, 0.04126943621311399, 0.02747759391571525, 0.06259375025296346, 0.03211908021767543, -0.02808761951138963, -0.04233035045451683, -0.01770395215387024, -0.018658771990900578, -0.05941101497933549, 0.019839035219472573, -0.004979650923611382, -0.021072344718908256, -0.04233035045451683, -0.05909274107944367, -0.0106754171906568, 0.021019298448044572, 0.028671119177664454, 0.012372874575230444, -0.03408176429995464, -0.002751737815320173, 0.005692450758701117, -0.02652277407868492, -0.0031711293646084163, 0.017518292999815055, -0.0253822950875994, 0.004963074313212445, 0.014255991113859272, -0.012876807629177452, 0.006454980424987664, -0.014004025518208335, -0.0032291477338353405, 0.034240901249900556, -0.02593927441241009, -0.035328335832767524, -0.006322366610473594, -0.011955141012944993, 0.0016037990468752965, 0.03127035105972732, -0.020541889460851972, 0.020210355390228082, -0.03209255615092101, 0.0007310339668301804, 0.0126911475437997, 0.025528170004168106, -0.015383209002890155, 0.024745749150460888, 0.04161423417976023, -0.0126911475437997, -0.029811598168749977, -0.01310888110608515, -0.004900082448638427, 0.012903329833286726, -0.0016908269499616461, -0.007021904877847407, -0.021271265906340646, -0.03129687512648173, -0.016152370617187873, -0.004677954565441065, -0.002978839193864629, 0.013791843228721309, 0.018181363003707977, 0.00446908778429834, -0.013964241280721858, -0.007486053228646654, 0.03676056465699046, 0.006249428686527956, -0.007578882805674246, -0.016192154854674352, -0.006803091571671778, -0.042356870795980966, -0.005476952960869789, 0.10906165023020319, -0.015025151796834422, 0.004876875287212171, -0.009435477605855086, 0.02536903491686733, -0.023777667280053347, -0.00721419458292991, -0.003018623431351107, -0.008407719379217828, -0.0030832725844359915, -0.0016485561976322632, -0.00682961470710362, 0.015051674932266263, -0.014507957640832776, 0.018168100970330774, 0.047157492185241914, -0.022411744897426165, -0.022716756763940783, 0.015860618921405324, -0.04490305826982528, -0.007121365005902318, -0.018937261653305924, 0.0013634364498608833, 0.00633562771252823, -0.02946680206474888, -0.011073258634199012, 0.01385814967031706, -0.014600787217860369, 0.005447114782754931, 0.03755624940672002, 0.026615604587035078, -0.00843424251464967, -0.04264862062911838, -0.005994147116871434, 0.01774373639135672, 0.003520898265464681, -0.00399499290846619, -0.029175052231611466, -0.027636730865661166, -0.027583686457442618, -0.007963463612823105, 0.011908725758769913, -0.007631928610876645, 0.015621914427809023, 0.023618530330107437, 0.02637689916211621, -0.017213281133300437, -0.010841184225968746, -0.010463234901169774, 0.0022196248030917406, 0.03477135650795683, 0.014614049251237575, 0.024785533387947367, 0.007837479883675069, -0.011776111944255842, -0.02209347099753434, -0.04760838269361552, -0.013453677210086246, 0.007121365005902318, -0.013559768820491045, -0.01462731035329221, -0.01429577535134575, -0.01183578830048556, 0.0005727261850086464, 0.051692887808119856, 0.002455014254005023, 0.00013748329277178136, -0.0009042608377091436, 0.017624383678897286, 0.018035486224494135, -0.03432046972487351, 0.01346030822677485, -0.015781050446432368, 0.00797009369818914, 0.022822847443023014, -0.010887599480143827, -0.0100786545596822, -0.0007666739353016029, -0.02156301573947806, 0.03209255615092101, -0.028167186123717446, 0.03283519649243203, 0.012591686950083504, 0.03092555495572622, -0.0016634752866896924, 0.036548383298826, -0.02031644606931031, 0.006733469621731726, -0.013805104330775947, 0.008659685906191334, -0.015131243407239219, 0.013632706278775398, 0.052727277982768286, 0.007426376872416937, 0.01904335233238815, 0.00428342816458187, -0.023393086938565774, 0.012266782964825647, -0.0054736374525254875, -0.004770784142468658, 0.022504575405776325, -0.022106733030911548, -0.02501097677948903, 0.01596670960048755, -0.026257546449656777, 0.015661697733972933, -0.01666956384186695, -0.013413892972599768, -0.005957678387729258, -0.003825910364809942, 0.004817198930982453, -0.03036857749356067, -0.020807117089880114, 0.030607282918479535, 0.0033136892384941063, -0.008686209041623176, -0.010091915661736835, 0.023088075072051153, 0.01172969762140333, -0.00633562771252823, -0.02213325523502082, -0.019892081490336257, 0.030633805122588807, -0.030952079022480632, 0.029307666977448105, 0.03922718365586182, -0.028962870873447007, 0.013791843228721309, -0.01847311283684539, -0.01857920351592762, -0.01666956384186695, -0.010025609220141085, 0.0025809975174917754, -0.05235595594936764, 0.013281279158085697, -0.011258917788254197, -0.0002830477296791733, 0.024215293892404607, -0.000690006588337571, -0.0013725536321464275, -0.01104673549876717, -0.005788595844073011, -0.001274750909017704, -0.002494798491491501, 0.024374430842350518, 0.001223362974402777, -0.004929920626753285, -0.0036170433508365745, -0.010768246767684394, -5.6568107174701186e-05, -0.03219864869264838, 0.0326230114089773, 0.03317999073378799, -0.006922444284131212, 0.0005826721861726053, -0.0009026031999523141, 0.0046646929977251445, -0.0007716469649874126, -0.030448145968533624, 0.01857920351592762, -0.0159004031588918, -0.015515823748726794, 0.005407330545268453, 0.00428342816458187, -0.011842419317174162, 0.007127995556929636, -0.018420066565981708, 0.03745015686499265, 0.01961359182793091, -0.031509056484646185, -0.0006357177585443619, -0.0037165039445527697, -0.0057123428774443555, -0.013049205681178, -0.03745015686499265, -0.0006158256980087836, -0.01238613567728508, 0.07543077271333186, -0.014614049251237575, -0.008891760314421598, 0.0115108843152277, -0.01928205775730702, -0.0159004031588918, 0.01017148413670979, 0.024122463384054445, 0.021032560481421776, 0.005016119652753559, -0.002277643405149307, -0.0037131884362084683, 0.002697034721606908, -0.005646035504526036, -0.014866015778211079, 0.007976724714877741, 0.04389519216193127, -0.02861807476944591, -0.005934470760641717, 0.033365651750488313, -0.0032606436661223497, -0.016417598246216015, -0.011796004062999082, -0.04848363219302776, -0.02991769071047734, -0.03734406804855556, -0.0037960721866950836, -0.0008909994446162045, 0.046096581669129354, -0.0004633197356476438, 0.028352847140417768, -0.008414350395906432, 0.006564386612414194, 0.043072987070737576, -0.03662795177379896, -0.014255991113859272, 0.029015915281665552, -0.010715201428143278, 0.04126943621311399, -0.033445220225461265, -0.006577648180130115, -0.023406348971942978, 0.015582130190322546, 0.00340486129418019, -0.006551125510359558, 0.031349919534700274, -0.02666865085789876, -0.0159004031588918, 0.041959028421116186, 0.017425462491464896, -0.014415128063805184, 0.0299972591854503, 0.013546507718436407, 0.05211725424973905, 0.01961359182793091, 0.02481205559205664, 0.009873103286883775, 0.02079385505650291, 0.017929395545411904, 0.005500160587957329, 0.003232463242179642, -0.013161927376948832, 0.0015888799578178672, -0.027636730865661166, -0.03760929381493857, -0.014216207807695362, -0.02589949017492361, -0.004054669264695906, 0.009017743112247067, 0.024228554063136672, -0.029175052231611466, -0.05068502170022584, -0.01754481520392433, -0.003045146101121664, -0.006690369875900946, 0.02771629934063412, 0.015104720271807377, 0.007665081831674521, -0.025249682204407896, -0.012220368641973135, -0.021841505401883406, 0.0007210879656662214, -0.012140800167000178, -0.0112655488049428, 0.00031910213669363344, -0.023379826767833706, -0.016444120450325287, 0.0003077056297328729, 0.00634557377189985, -0.039280228064080366, -0.004502241005096215, 0.011411423721511507, -0.0026937192132626066, -0.018022226053762067, -0.0009581352289593151, -0.0018947207014185616, -0.004432618589494878, 0.019441194707252932, -0.021311050143827122, -0.025302726612626444, 0.008361305056365316, -0.024865101862920323, -0.005321131519268179, 0.030050303593668844, 0.03426742531665496, 0.035063110066384524, 0.019109658773983903, -0.019759466744499618, -0.03508963040784866, -0.013427155005976974, 0.035381380240986075, 0.0025047445508631205, 0.011159457194538001, 0.022186301505884503, -0.005493529571268726, -0.0035076369305794023, 0.02518337390016701, 0.01710719045421821, -0.005407330545268453, 0.04832449524308185, -0.03100512343069918, 0.0038656943694657777, 0.01036377430745358, 0.0528864149327142, 8.821930475821932e-05, 0.004154129392750817, -0.01811505469946709, 0.013632706278775398, 0.015330163663349041, -0.0030915608896354605, 0.02457335016713777, 0.004684585116468383, 0.024056156942458693, 0.0014844465672465047, 0.04360344232879385, -6.200734747961925e-05, -0.0031114530083786993, 0.0018532789425905751, 0.04821840642664475, -0.003988362357438871, 0.03922718365586182, -0.016192154854674352, 0.015873880954782527, 0.01613910858381067, 0.02290241591799597, -0.008043031156473493, -0.012810500256259133, -0.026231024245547505, -0.007167779794416114, -0.012439181016826195, -0.025448603391840286, 0.020037956406904964, 0.0050559038902400376, -0.009263079553854537, -0.019308579961416293, 0.015674959767350137, 0.008394458277163192, -0.025594478308408993, 0.018526159107709075, -0.003341869662436814, -0.0007244032993875411, -0.028936346806692596, -0.024294862367377563, -0.018353760124385957, -0.011093150752942251, -0.002232886137977019, -0.009050897264367511, 0.0001023613360993681, 0.0062593747458995755, 0.012140800167000178, -0.006471557035386602, 0.00843424251464967, -0.007048427547617964, 0.0035142677144373627, -0.039041526364451774, 0.023326780496970023, -0.020740810648284362, -0.0015532399893464447, 0.020037956406904964, -0.011059997532144376, -0.010748354648941154, 0.010728462530197914, 0.014786447303238123, 0.007757911874363397, 0.006508025764528779, -0.009183511078881582, 0.0230217686304554, 0.0284589378195, -0.013281279158085697, -0.0027550533236644745, 0.03718493109860965, 0.01449469653877814, 0.006458295467670681, -0.03405524395849051, -0.03050119037675217, -0.02011752488187792, -0.009979193965966004, -0.010270944730425986, -0.004041407696979985, -0.013632706278775398, 0.018393544361872436, -0.038882389414505864, 0.010410189561628659, -0.003626989410208194, 0.010052131424250358, -0.028936346806692596, 0.025621000512518265, 0.030952079022480632, 0.0356996541408779, 0.03182733038453801, -0.02975855376053143, 0.022981984392968925]\n"
          ]
        }
      ]
    },
    {
      "cell_type": "code",
      "source": [
        "# docs we just embedded\n",
        "docs"
      ],
      "metadata": {
        "colab": {
          "base_uri": "https://localhost:8080/"
        },
        "id": "1lG5YA0e6QcE",
        "outputId": "29aa6ecc-adc2-4a2d-8ace-de85938855f4"
      },
      "execution_count": 13,
      "outputs": [
        {
          "output_type": "execute_result",
          "data": {
            "text/plain": [
              "['cats eat and spleep',\n",
              " 'dogs eat and bark',\n",
              " 'cars drive fast',\n",
              " 'vehicles include trucks and cars']"
            ]
          },
          "metadata": {},
          "execution_count": 13
        }
      ]
    },
    {
      "cell_type": "code",
      "source": [
        "## now we can compare the cosine similarity\n",
        "from sklearn.metrics.pairwise import cosine_similarity\n",
        "\n",
        "# compute cosine similarity\n",
        "sim_matrix = cosine_similarity(embeddings)\n",
        "sim_matrix"
      ],
      "metadata": {
        "colab": {
          "base_uri": "https://localhost:8080/"
        },
        "id": "X8XcR5j-6g7Y",
        "outputId": "8a8d1958-609d-4961-af87-f7ded76ea06b"
      },
      "execution_count": 14,
      "outputs": [
        {
          "output_type": "execute_result",
          "data": {
            "text/plain": [
              "array([[1.        , 0.57917666, 0.18223288, 0.15377351],\n",
              "       [0.57917666, 1.        , 0.26200263, 0.20038633],\n",
              "       [0.18223288, 0.26200263, 1.        , 0.39913189],\n",
              "       [0.15377351, 0.20038633, 0.39913189, 1.        ]])"
            ]
          },
          "metadata": {},
          "execution_count": 14
        }
      ]
    },
    {
      "cell_type": "markdown",
      "source": [
        "Summary:\n",
        "* The matrix gives us a cross comparison of the documents in vector representation."
      ],
      "metadata": {
        "id": "zCFjsCUG65u0"
      }
    },
    {
      "cell_type": "markdown",
      "source": [
        "## HuggingFace Embedding Models - Open Source\n",
        "* You can use the `langchain-community` or the `langchain-huggingface` package which is new.\n",
        "* `langchain-huggingface` integrates easily with LangChain which allows us to use just about any HuggingFace embedding model in the LangChain ecosystem.\n",
        "* `HuggingFaceEmbeddings` uses `sentence-transformers` embeddings \"under the hood\".\n",
        "  * This computes embeddings locally which will utilize your local computer memory/RAM/resources to access embedding LLMs from HuggingFace"
      ],
      "metadata": {
        "id": "7UQS2eCK7CFv"
      }
    },
    {
      "cell_type": "code",
      "source": [
        "# import the library\n",
        "from langchain_huggingface.embeddings import HuggingFaceEmbeddings\n",
        "\n",
        "# model we will use: https://huggingface.co/mixedbread-ai/mxbai-embed-large-v1\n",
        "model_name = 'mixedbread-ai/mxbai-embed-large-v1'\n",
        "\n",
        "\n",
        "# instantiate with huggingface embeddings from langchain\n",
        "hf_embeddings = HuggingFaceEmbeddings(\n",
        "    model_name=model_name,\n",
        ")"
      ],
      "metadata": {
        "colab": {
          "base_uri": "https://localhost:8080/",
          "height": 545,
          "referenced_widgets": [
            "02d9c34a103a46e8b9040566464d2360",
            "86c1a28237da4b0aaae22c7cd8655162",
            "650a3479e03f4c9d93577dc1cb0fe34c",
            "537496550e30452786508013e7c0325d",
            "c5e21c02f08f45d4ae6e467f43b24067",
            "d79b364d98f444aaa6cd5005df10b534",
            "c60a6b3259564f78b12a6e5296ddbde2",
            "a1ae8e2d86ec4744995fb2fc66e46b81",
            "9de353ed52404465bd964f044f1a9823",
            "b33faae42cf343e5bca489bbafe91846",
            "364fe98a91f64399b23f74c4b0121cce",
            "6ab1a821c060427a843391d30b7f9196",
            "f7dbaeccba7f4fafb036c704fa92f060",
            "c73f9764e45c48eeadf6a8178585cf57",
            "edf2130f817d428b9dc3f85c0fab6226",
            "2afb7642fa79499d8d371e1f87f00606",
            "871377205c164c07b4286abeba3a3d8f",
            "b92f778e297c4c0b93933f659fdfa9c7",
            "f4d9ebe6030743db9aa2a226448de7d7",
            "6398342de288420daf215e71d66ace86",
            "6513fcb1aed643c6a137a463af402b95",
            "d0c11256c15643aaa70ad93cec07dd81",
            "bd7bf7669e044e2d90d8969de990449e",
            "e79b5e9bf966464184b60d344b64f804",
            "b54b0214a1b24e3f8275cf8e8b9f8826",
            "d3bdad3c9b164e7ca4c1352345c1cffc",
            "52a134c8747c431587a492e6b9e0aba1",
            "803018bf0b7e4c6b9d5be1ff2741043a",
            "dc130c6a44d34c2e842cdcd1ce984fb3",
            "52a7ec8fd9b54cb2835d84fde67e7e83",
            "4033e1f471dd4e73b5497a7c47e6ac54",
            "4aa4b9b65c834f298eed3586a8b36da8",
            "c517f89403d0467ca282c7e7767dfb6c",
            "5609b4ad2037420fa7fb010f188649f0",
            "988143381dd648e696ebdd9dba67e13e",
            "954f3838d8034c1b90387f729bf281e3",
            "e79b52ea4ed143ba999e4619fa54f58e",
            "731c2feada9b4bac80e9855cd02923e9",
            "2fedfbd4385a42d491e12deaf420a8f4",
            "cc286fe91903471dac9d4d6e5fca4ff5",
            "f9de5f021165456b9652253810675026",
            "2672f7cfc6f64343bccd8b2b3e6d1039",
            "d77dae40fca940d5bc2fb7c84609292d",
            "4109683eb68d4cbebc6d70599f3e704e",
            "cff9dcab909c457a88957baf36e3b308",
            "13eaee5c36c5441e88195f0e376d509e",
            "cda0abcad7af4415b71ad2dfd4f2a35f",
            "62e6c624ca2741f186cc873b57e21d19",
            "82b4350a1fe34fdea11a59814dd59143",
            "192722cb13894d099dcd8004578b1154",
            "1f2e08518f0a446ab9622ea0a38a8616",
            "a480b93788d5479da75b2685d1cb2355",
            "ce177f2d71ca4773b92a71779e02c711",
            "2e82c5852b7c471a8c52121852b0a833",
            "d77cd8deefd3432596afc7eb4b0c1cc5",
            "a070a79131474c959db4371762f459bd",
            "84caf85ca8df49b5a786d096acb07bf6",
            "2da48b28d42046a4aaf3a292de7125a9",
            "d42f051cf7d4478a8a0bf7bcf075deeb",
            "f6998e92e4f44fd29b83d50b4ca7cf35",
            "072505fe21ed42e596b89fe6d10ce855",
            "b27db216dfe941f188cf349cda666f9a",
            "50320a7043c24cb2a3a0a4fb3d555bf1",
            "344c79ee381640249aeb91ff0d677e06",
            "c3578756928643c187127523daeddbbc",
            "782d3f3ef18f440388bc188271cf1899",
            "fa289a3546bf4724abbc29ba77f612df",
            "89a61bbdba6643a39d495fa3fc679529",
            "4c1ae3706ab84bb58e6d61d57b75fb90",
            "d85d3c151fca45b9841273afef0b9438",
            "0012bcbc0a1e4462b92a7265ecdc8126",
            "9a00b767672142efbc19fa22f83bd99b",
            "dd042a7e4b0648bda6df95f46b2da6ae",
            "4dbee448de2a47a8bccfc757e6310608",
            "40559887ee9b4401ac6c2812f78935e9",
            "ba9135b6843c43a3b64c4a867d12b594",
            "61d65808c7d14cf785a9e34a4c8a8968",
            "547d0fb140814f66abf1576df030b873",
            "1e703d27447b4f16984645b5172ed0a1",
            "0cd3a2d5e99e46c88b20104ae574c731",
            "63f23f85f166492abc9ffbed70ee8ee2",
            "4a69c677fb734ab5b6ffc42eb3dc399f",
            "8af7583a41e84437802087fdd0844373",
            "173c7ca76b574ac099d2d192bd54f543",
            "a9395f135ae14e34a789d6ad877ad49d",
            "ff4e032f2ae4476b8338fb4e94717203",
            "2678cdefe58f4d8a9df7c977d013600a",
            "0f1fb6eb3f2842fc8ddb12eb714bcff6",
            "84824d790045470f82a7f2f5020a8680",
            "d4a1e0a3583e4f9ea295a8ff28871d3f",
            "37295cfacea34b80bedd165518b2d608",
            "de6e39b133c04a53bdd9076a55103aab",
            "6d164233b31c460fa11f5ddad4e876aa",
            "0ea6ec983d2442bc82bed8e52e0fb4de",
            "4c41f5022b2a4c0cbf4b9cb9308f132c",
            "e158df253e414b00b8c36862d6715c7a",
            "bdb2fc06a3564b919774176cb6bbe5c1",
            "6b1a01e12f2f47038035e1969bcce8ef",
            "89a434b6be4f4636b9a50dcc800c9ca7",
            "0d72022caeb34f4891a33052eb9307c9",
            "0892e850cb744a0e97c8dbd024327d93",
            "0fde50a7fcdc4bc7ae8d19271ba39623",
            "1d34c16a0add479eaf83160fd164bea5",
            "3ef7fd130a1b4ceeac50f1cef4bcde9d",
            "292c5f146bcd4a04b1b296494abf43f4",
            "46baa29a12fe44318e30ad7b8254c5f1",
            "6c0b5a0d7f98425aa197ae15e41aeeef",
            "fe96c236f1ed4f1f8ad15ce00b76cc50",
            "a510ff55802d432888f3554a711feb16",
            "8e99fa165131478d8f3d8c28c812b514",
            "88aed6031c8840b0942a8780b7370238",
            "682b626a5f304d9d9ca351717e2e1fc1",
            "d1f4355db17a4780a2b0b2c0c3407314",
            "9b4a7539c5164e888b0b263b2f7d294d",
            "24198f7df8974389a1f2176aa8140dc2",
            "053bd6f64dbe4954b95100742234a89f",
            "1b2c976b97fa47fc9b6f65232c713e5a",
            "9805dfebb42c4e1f89222cc6ac05c1eb",
            "bf11e211586e4463bca82da84c6e2aa1",
            "d0285a8d23d84285a7071b6047fbe64b",
            "302aa497e2d04a6cb9da838f9a6725cc"
          ]
        },
        "id": "9lvvoimK6sQ3",
        "outputId": "951fd64c-2e06-4b6b-a63b-3dbec1cab453"
      },
      "execution_count": 15,
      "outputs": [
        {
          "output_type": "stream",
          "name": "stderr",
          "text": [
            "/usr/local/lib/python3.10/dist-packages/sentence_transformers/cross_encoder/CrossEncoder.py:11: TqdmExperimentalWarning: Using `tqdm.autonotebook.tqdm` in notebook mode. Use `tqdm.tqdm` instead to force console mode (e.g. in jupyter console)\n",
            "  from tqdm.autonotebook import tqdm, trange\n",
            "/usr/local/lib/python3.10/dist-packages/huggingface_hub/utils/_token.py:81: UserWarning: \n",
            "Access to the secret `HF_TOKEN` has not been granted on this notebook.\n",
            "You will not be requested again.\n",
            "Please restart the session if you want to be prompted again.\n",
            "  warnings.warn(\n"
          ]
        },
        {
          "output_type": "display_data",
          "data": {
            "text/plain": [
              "modules.json:   0%|          | 0.00/229 [00:00<?, ?B/s]"
            ],
            "application/vnd.jupyter.widget-view+json": {
              "version_major": 2,
              "version_minor": 0,
              "model_id": "02d9c34a103a46e8b9040566464d2360"
            }
          },
          "metadata": {}
        },
        {
          "output_type": "display_data",
          "data": {
            "text/plain": [
              "config_sentence_transformers.json:   0%|          | 0.00/171 [00:00<?, ?B/s]"
            ],
            "application/vnd.jupyter.widget-view+json": {
              "version_major": 2,
              "version_minor": 0,
              "model_id": "6ab1a821c060427a843391d30b7f9196"
            }
          },
          "metadata": {}
        },
        {
          "output_type": "display_data",
          "data": {
            "text/plain": [
              "README.md:   0%|          | 0.00/113k [00:00<?, ?B/s]"
            ],
            "application/vnd.jupyter.widget-view+json": {
              "version_major": 2,
              "version_minor": 0,
              "model_id": "bd7bf7669e044e2d90d8969de990449e"
            }
          },
          "metadata": {}
        },
        {
          "output_type": "display_data",
          "data": {
            "text/plain": [
              "sentence_bert_config.json:   0%|          | 0.00/53.0 [00:00<?, ?B/s]"
            ],
            "application/vnd.jupyter.widget-view+json": {
              "version_major": 2,
              "version_minor": 0,
              "model_id": "5609b4ad2037420fa7fb010f188649f0"
            }
          },
          "metadata": {}
        },
        {
          "output_type": "stream",
          "name": "stderr",
          "text": [
            "/usr/local/lib/python3.10/dist-packages/huggingface_hub/file_download.py:1132: FutureWarning: `resume_download` is deprecated and will be removed in version 1.0.0. Downloads always resume when possible. If you want to force a new download, use `force_download=True`.\n",
            "  warnings.warn(\n"
          ]
        },
        {
          "output_type": "display_data",
          "data": {
            "text/plain": [
              "config.json:   0%|          | 0.00/677 [00:00<?, ?B/s]"
            ],
            "application/vnd.jupyter.widget-view+json": {
              "version_major": 2,
              "version_minor": 0,
              "model_id": "cff9dcab909c457a88957baf36e3b308"
            }
          },
          "metadata": {}
        },
        {
          "output_type": "display_data",
          "data": {
            "text/plain": [
              "model.safetensors:   0%|          | 0.00/670M [00:00<?, ?B/s]"
            ],
            "application/vnd.jupyter.widget-view+json": {
              "version_major": 2,
              "version_minor": 0,
              "model_id": "a070a79131474c959db4371762f459bd"
            }
          },
          "metadata": {}
        },
        {
          "output_type": "display_data",
          "data": {
            "text/plain": [
              "tokenizer_config.json:   0%|          | 0.00/1.24k [00:00<?, ?B/s]"
            ],
            "application/vnd.jupyter.widget-view+json": {
              "version_major": 2,
              "version_minor": 0,
              "model_id": "fa289a3546bf4724abbc29ba77f612df"
            }
          },
          "metadata": {}
        },
        {
          "output_type": "display_data",
          "data": {
            "text/plain": [
              "vocab.txt:   0%|          | 0.00/232k [00:00<?, ?B/s]"
            ],
            "application/vnd.jupyter.widget-view+json": {
              "version_major": 2,
              "version_minor": 0,
              "model_id": "547d0fb140814f66abf1576df030b873"
            }
          },
          "metadata": {}
        },
        {
          "output_type": "display_data",
          "data": {
            "text/plain": [
              "tokenizer.json:   0%|          | 0.00/711k [00:00<?, ?B/s]"
            ],
            "application/vnd.jupyter.widget-view+json": {
              "version_major": 2,
              "version_minor": 0,
              "model_id": "84824d790045470f82a7f2f5020a8680"
            }
          },
          "metadata": {}
        },
        {
          "output_type": "display_data",
          "data": {
            "text/plain": [
              "special_tokens_map.json:   0%|          | 0.00/695 [00:00<?, ?B/s]"
            ],
            "application/vnd.jupyter.widget-view+json": {
              "version_major": 2,
              "version_minor": 0,
              "model_id": "0d72022caeb34f4891a33052eb9307c9"
            }
          },
          "metadata": {}
        },
        {
          "output_type": "display_data",
          "data": {
            "text/plain": [
              "1_Pooling/config.json:   0%|          | 0.00/297 [00:00<?, ?B/s]"
            ],
            "application/vnd.jupyter.widget-view+json": {
              "version_major": 2,
              "version_minor": 0,
              "model_id": "88aed6031c8840b0942a8780b7370238"
            }
          },
          "metadata": {}
        }
      ]
    },
    {
      "cell_type": "code",
      "source": [
        "# embed your documents\n",
        "embeddings = hf_embeddings.embed_documents(docs)"
      ],
      "metadata": {
        "id": "xXNpMMy68AaU"
      },
      "execution_count": 16,
      "outputs": []
    },
    {
      "cell_type": "code",
      "source": [
        "# length of embeddings\n",
        "len(embeddings)"
      ],
      "metadata": {
        "colab": {
          "base_uri": "https://localhost:8080/"
        },
        "id": "z8kIBxBa8M_M",
        "outputId": "b7b29d09-a1d1-41ef-c48c-61a1ea31fa0c"
      },
      "execution_count": 17,
      "outputs": [
        {
          "output_type": "execute_result",
          "data": {
            "text/plain": [
              "4"
            ]
          },
          "metadata": {},
          "execution_count": 17
        }
      ]
    },
    {
      "cell_type": "code",
      "source": [
        "# view first indexed embeddings\n",
        "len(embeddings[0])"
      ],
      "metadata": {
        "colab": {
          "base_uri": "https://localhost:8080/"
        },
        "id": "dPtGZ7BY8Qry",
        "outputId": "53cd8aab-41e2-4ce9-d5f2-5c0ba8bc25f6"
      },
      "execution_count": 18,
      "outputs": [
        {
          "output_type": "execute_result",
          "data": {
            "text/plain": [
              "1024"
            ]
          },
          "metadata": {},
          "execution_count": 18
        }
      ]
    },
    {
      "cell_type": "code",
      "source": [
        "# documents we are comparing\n",
        "docs"
      ],
      "metadata": {
        "colab": {
          "base_uri": "https://localhost:8080/"
        },
        "id": "GWxFm-6F8v8b",
        "outputId": "9855bf8b-52fe-4ff1-a8b8-dda1f2c6b5c0"
      },
      "execution_count": 20,
      "outputs": [
        {
          "output_type": "execute_result",
          "data": {
            "text/plain": [
              "['cats eat and spleep',\n",
              " 'dogs eat and bark',\n",
              " 'cars drive fast',\n",
              " 'vehicles include trucks and cars']"
            ]
          },
          "metadata": {},
          "execution_count": 20
        }
      ]
    },
    {
      "cell_type": "code",
      "source": [
        "# compare cosine similarity\n",
        "sim_matrix = cosine_similarity(embeddings)\n",
        "sim_matrix"
      ],
      "metadata": {
        "colab": {
          "base_uri": "https://localhost:8080/"
        },
        "id": "o0o0HmW08kc1",
        "outputId": "715fbd17-7731-4c1c-e7ae-97d6b90c0b72"
      },
      "execution_count": 19,
      "outputs": [
        {
          "output_type": "execute_result",
          "data": {
            "text/plain": [
              "array([[1.        , 0.64495838, 0.36495506, 0.33347202],\n",
              "       [0.64495838, 1.        , 0.31728608, 0.33082586],\n",
              "       [0.36495506, 0.31728608, 1.        , 0.72253332],\n",
              "       [0.33347202, 0.33082586, 0.72253332, 1.        ]])"
            ]
          },
          "metadata": {},
          "execution_count": 19
        }
      ]
    },
    {
      "cell_type": "markdown",
      "source": [
        "Summary:\n",
        "* The results are similar but not the same as the OpenAI embeddings."
      ],
      "metadata": {
        "id": "O5wGi7dg82HG"
      }
    },
    {
      "cell_type": "markdown",
      "source": [
        "# Demo Project: Building a Small Search Engine"
      ],
      "metadata": {
        "id": "dIhf9gu68_pT"
      }
    },
    {
      "cell_type": "markdown",
      "source": [
        "## Load Knowledgebase documents"
      ],
      "metadata": {
        "id": "rgXXQVHp9Hko"
      }
    },
    {
      "cell_type": "code",
      "source": [
        "documents = [\n",
        "    'Quantum mechanics describes the behavior of very small particles.',\n",
        "    'Photosynthesis is the process by which green plants make food using sunlight.',\n",
        "    \"Shakespeare's plays are a testament to English literature.\",\n",
        "    'Artificial Intelligence aims to create machines that can think and learn.',\n",
        "    'The pyramids of Egypt are historical monuments that have stood for thousands of years.',\n",
        "    'Biology is the study of living organisms and their interactions with the environment.',\n",
        "    'Music therapy can aid in the mental well-being of individuals.',\n",
        "    'The Milky Way is just one of billions of galaxies in the universe.',\n",
        "    'Economic theories help understand the distribution of resources in society.',\n",
        "    'Yoga is an ancient practice that involves physical postures and meditation.'\n",
        "]"
      ],
      "metadata": {
        "id": "sKPnGJ6n8qBy"
      },
      "execution_count": 21,
      "outputs": []
    },
    {
      "cell_type": "code",
      "source": [
        "# length of documents\n",
        "len(documents)"
      ],
      "metadata": {
        "colab": {
          "base_uri": "https://localhost:8080/"
        },
        "id": "qe4MWVfx9UP5",
        "outputId": "0d33ee25-242c-4f8e-fd0b-7ff643c5ac9a"
      },
      "execution_count": 22,
      "outputs": [
        {
          "output_type": "execute_result",
          "data": {
            "text/plain": [
              "10"
            ]
          },
          "metadata": {},
          "execution_count": 22
        }
      ]
    },
    {
      "cell_type": "markdown",
      "source": [
        "## Get document embeddings\n",
        "* Using OpenAI embeddings (`text-embedding-3-small`)"
      ],
      "metadata": {
        "id": "WUmC7YDR9ee7"
      }
    },
    {
      "cell_type": "code",
      "source": [
        "# embed the documents\n",
        "document_embeddings = openai_embed_model.embed_documents(documents)"
      ],
      "metadata": {
        "id": "qmL2Mg7S9WkT"
      },
      "execution_count": 23,
      "outputs": []
    },
    {
      "cell_type": "markdown",
      "source": [
        "## Let's now try to find the most similari document for 1 search query"
      ],
      "metadata": {
        "id": "cf3RgE0_95nd"
      }
    },
    {
      "cell_type": "code",
      "source": [
        "new_query = \"What is AI?\"\n",
        "new_query"
      ],
      "metadata": {
        "colab": {
          "base_uri": "https://localhost:8080/",
          "height": 35
        },
        "id": "yjHXEkYh91Q-",
        "outputId": "c41e07c1-c344-4964-95b9-ba5e9b1aab34"
      },
      "execution_count": 24,
      "outputs": [
        {
          "output_type": "execute_result",
          "data": {
            "text/plain": [
              "'What is AI?'"
            ],
            "application/vnd.google.colaboratory.intrinsic+json": {
              "type": "string"
            }
          },
          "metadata": {},
          "execution_count": 24
        }
      ]
    },
    {
      "cell_type": "code",
      "source": [
        "# embed the new_query\n",
        "query_embedding = openai_embed_model.embed_query(new_query)"
      ],
      "metadata": {
        "id": "1d0UegEX-A4q"
      },
      "execution_count": 25,
      "outputs": []
    },
    {
      "cell_type": "code",
      "source": [
        "# compare cosine similarities: query vs. document embeddings\n",
        "cosine_similarities = cosine_similarity([query_embedding], document_embeddings)\n",
        "cosine_similarities"
      ],
      "metadata": {
        "colab": {
          "base_uri": "https://localhost:8080/"
        },
        "id": "z5SpX7Vr-Gd-",
        "outputId": "450f8751-e2ba-4fd4-e13f-713526f3289e"
      },
      "execution_count": 26,
      "outputs": [
        {
          "output_type": "execute_result",
          "data": {
            "text/plain": [
              "array([[ 0.10207296,  0.09261155, -0.00532004,  0.6313305 ,  0.02341739,\n",
              "         0.09321042,  0.1076584 ,  0.07002011,  0.05820363,  0.06614016]])"
            ]
          },
          "metadata": {},
          "execution_count": 26
        }
      ]
    },
    {
      "cell_type": "markdown",
      "source": [
        "### Now we need to get the MOST similar embedding\n",
        "* This is because we can see above the index of the embeddings are not in order."
      ],
      "metadata": {
        "id": "ZBDSJMR9-bO1"
      }
    },
    {
      "cell_type": "code",
      "source": [
        "import numpy as np\n",
        "\n",
        "# extract the most similar embedding\n",
        "documents[np.argmax(cosine_similarities)]"
      ],
      "metadata": {
        "colab": {
          "base_uri": "https://localhost:8080/",
          "height": 35
        },
        "id": "0bkRqmAu-Pfh",
        "outputId": "7a412fb2-bd7c-4604-ec2a-92f30e5e8db8"
      },
      "execution_count": 28,
      "outputs": [
        {
          "output_type": "execute_result",
          "data": {
            "text/plain": [
              "'Artificial Intelligence aims to create machines that can think and learn.'"
            ],
            "application/vnd.google.colaboratory.intrinsic+json": {
              "type": "string"
            }
          },
          "metadata": {},
          "execution_count": 28
        }
      ]
    },
    {
      "cell_type": "markdown",
      "source": [
        "## Simplifying this: Create a Search engine function"
      ],
      "metadata": {
        "id": "z8hwU8oR--sl"
      }
    },
    {
      "cell_type": "code",
      "source": [
        "# create function that does all of the above\n",
        "def semantic_search_engine(query, embedder_model):\n",
        "  \"\"\"This function takes in a query and embedder_model and returns the most similar result\"\"\"\n",
        "  # 1. Embed the query\n",
        "  query_embedding = embedder_model.embed_query(query)\n",
        "  # 2. Calcualte cosine similarity of query vs. document embedding\n",
        "  cos_scores = cosine_similarity([query_embedding], document_embeddings)[0]\n",
        "  # 3. Get the argmax cosine result\n",
        "  top_result_id = np.argmax(cos_scores)\n",
        "\n",
        "  return documents[top_result_id]"
      ],
      "metadata": {
        "id": "bxO4DEvO-v05"
      },
      "execution_count": 29,
      "outputs": []
    },
    {
      "cell_type": "markdown",
      "source": [
        "## Demonstrate function"
      ],
      "metadata": {
        "id": "LEjBfXCH_rMX"
      }
    },
    {
      "cell_type": "code",
      "source": [
        "# new query\n",
        "new_query_sentence = \"Tell me about AI\"\n",
        "\n",
        "# using the function --> query + embed model we want to use\n",
        "semantic_search_engine(new_query_sentence, openai_embed_model)\n"
      ],
      "metadata": {
        "colab": {
          "base_uri": "https://localhost:8080/",
          "height": 35
        },
        "id": "xbOQy--q_ojj",
        "outputId": "6c02fba1-09ea-4eb7-94ee-91ca5c3ae651"
      },
      "execution_count": 30,
      "outputs": [
        {
          "output_type": "execute_result",
          "data": {
            "text/plain": [
              "'Artificial Intelligence aims to create machines that can think and learn.'"
            ],
            "application/vnd.google.colaboratory.intrinsic+json": {
              "type": "string"
            }
          },
          "metadata": {},
          "execution_count": 30
        }
      ]
    },
    {
      "cell_type": "code",
      "source": [
        "## another new query\n",
        "new_query_sentence = \"What do you know about the pyramids?\"\n",
        "semantic_search_engine(new_query_sentence, openai_embed_model)"
      ],
      "metadata": {
        "colab": {
          "base_uri": "https://localhost:8080/",
          "height": 35
        },
        "id": "QiWVbUS8_-o8",
        "outputId": "1025a779-a492-4535-e05d-5f8332352c6f"
      },
      "execution_count": 31,
      "outputs": [
        {
          "output_type": "execute_result",
          "data": {
            "text/plain": [
              "'The pyramids of Egypt are historical monuments that have stood for thousands of years.'"
            ],
            "application/vnd.google.colaboratory.intrinsic+json": {
              "type": "string"
            }
          },
          "metadata": {},
          "execution_count": 31
        }
      ]
    },
    {
      "cell_type": "code",
      "source": [
        "## another query\n",
        "new_query_sentence = \"How do plants survive?\"\n",
        "semantic_search_engine(new_query_sentence, openai_embed_model)"
      ],
      "metadata": {
        "colab": {
          "base_uri": "https://localhost:8080/",
          "height": 35
        },
        "id": "IepytyeVAMlO",
        "outputId": "91f511f2-a17b-432f-8667-16d490a8766d"
      },
      "execution_count": 32,
      "outputs": [
        {
          "output_type": "execute_result",
          "data": {
            "text/plain": [
              "'Photosynthesis is the process by which green plants make food using sunlight.'"
            ],
            "application/vnd.google.colaboratory.intrinsic+json": {
              "type": "string"
            }
          },
          "metadata": {},
          "execution_count": 32
        }
      ]
    },
    {
      "cell_type": "code",
      "source": [
        "## another query\n",
        "new_query_sentence = \"What is Yoga?\"\n",
        "semantic_search_engine(new_query_sentence, openai_embed_model)"
      ],
      "metadata": {
        "colab": {
          "base_uri": "https://localhost:8080/",
          "height": 35
        },
        "id": "Fg64Zr5FAbvM",
        "outputId": "126571f3-35ad-4583-d579-ff688ef34360"
      },
      "execution_count": 34,
      "outputs": [
        {
          "output_type": "execute_result",
          "data": {
            "text/plain": [
              "'Yoga is an ancient practice that involves physical postures and meditation.'"
            ],
            "application/vnd.google.colaboratory.intrinsic+json": {
              "type": "string"
            }
          },
          "metadata": {},
          "execution_count": 34
        }
      ]
    },
    {
      "cell_type": "markdown",
      "source": [
        "Summary:\n",
        "* This is not answering questions such as a RAG system would do but instead peforming semantic search based on the embeddings and cosine similarity vectors."
      ],
      "metadata": {
        "id": "btYXUkJmBHbW"
      }
    },
    {
      "cell_type": "code",
      "source": [],
      "metadata": {
        "id": "YpQEL8xdA1y3"
      },
      "execution_count": null,
      "outputs": []
    }
  ]
}